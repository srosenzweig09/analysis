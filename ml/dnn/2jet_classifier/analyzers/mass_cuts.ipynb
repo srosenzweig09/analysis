{
 "cells": [
  {
   "cell_type": "code",
   "execution_count": 103,
   "id": "1a1418b1",
   "metadata": {},
   "outputs": [
    {
     "name": "stdout",
     "output_type": "stream",
     "text": [
      "I'm actually working...\n"
     ]
    }
   ],
   "source": [
    "print(\"I'm actually working...\") ## Kernel refuses to start sometimes.\n",
    "import numpy as np\n",
    "from myuproot import open_up\n",
    "import uproot3_methods\n",
    "from tqdm import tqdm"
   ]
  },
  {
   "cell_type": "code",
   "execution_count": 61,
   "id": "fa19248b",
   "metadata": {},
   "outputs": [
    {
     "name": "stdout",
     "output_type": "stream",
     "text": [
      "----------------------------------------------------------------------------------------------------\n",
      "                                            TABLE COLUMNS                                           \n",
      "----------------------------------------------------------------------------------------------------\n",
      "HX_b1_recojet_m                   HX_b1_recojet_pt                  HX_b1_recojet_eta                 \n",
      "HX_b1_recojet_phi                 HX_b1_recojet_ptRegressed         HX_b2_recojet_m                   \n",
      "HX_b2_recojet_pt                  HX_b2_recojet_eta                 HX_b2_recojet_phi                 \n",
      "HX_b2_recojet_ptRegressed         HY1_b1_recojet_m                  HY1_b1_recojet_pt                 \n",
      "HY1_b1_recojet_eta                HY1_b1_recojet_phi                HY1_b1_recojet_ptRegressed        \n",
      "HY1_b2_recojet_m                  HY1_b2_recojet_pt                 HY1_b2_recojet_eta                \n",
      "HY1_b2_recojet_phi                HY1_b2_recojet_ptRegressed        HY2_b1_recojet_m                  \n",
      "HY2_b1_recojet_pt                 HY2_b1_recojet_eta                HY2_b1_recojet_phi                \n",
      "HY2_b1_recojet_ptRegressed        HY2_b2_recojet_m                  HY2_b2_recojet_pt                 \n",
      "HY2_b2_recojet_eta                HY2_b2_recojet_phi                HY2_b2_recojet_ptRegressed        \n",
      "----------------------------------------------------------------------------------------------------\n"
     ]
    },
    {
     "data": {
      "text/plain": [
       "199792"
      ]
     },
     "execution_count": 61,
     "metadata": {},
     "output_type": "execute_result"
    }
   ],
   "source": [
    "f = 'signal/NanoAOD/NMSSM_XYH_YToHH_6b_MX_700_MY_400_reco_preselections.root'\n",
    "t = open_up(f)\n",
    "nevents = t._length()\n",
    "nevents"
   ]
  },
  {
   "cell_type": "code",
   "execution_count": 62,
   "id": "dc4512ed",
   "metadata": {},
   "outputs": [],
   "source": [
    "HX_b1  = {'pt': t[f'HX_b1_recojet_ptRegressed' ],\n",
    "          'eta':t[f'HX_b1_recojet_eta'],\n",
    "          'phi':t[f'HX_b1_recojet_phi'],\n",
    "          'm':  t[f'HX_b1_recojet_m'  ]}#,\n",
    "#          'btag':  t[f'HX_b1_recojet_deepJet']}\n",
    "HX_b2  = {'pt': t[f'HX_b2_recojet_ptRegressed' ],\n",
    "          'eta':t[f'HX_b2_recojet_eta'],\n",
    "          'phi':t[f'HX_b2_recojet_phi'],\n",
    "          'm':  t[f'HX_b2_recojet_m'  ]}#,\n",
    "#          'btag':  t[f'HX_b2_recojet_deepJet']}\n",
    "HY1_b1 = {'pt': t[f'HY1_b1_recojet_ptRegressed'],\n",
    "          'eta':t[f'HY1_b1_recojet_eta'],\n",
    "          'phi':t[f'HY1_b1_recojet_phi'],\n",
    "          'm':  t[f'HY1_b1_recojet_m' ]}#,\n",
    "#          'btag':  t[f'HY1_b1_recojet_deepJet']}\n",
    "HY1_b2 = {'pt': t[f'HY1_b2_recojet_ptRegressed'],\n",
    "          'eta':t[f'HY1_b2_recojet_eta'],\n",
    "          'phi':t[f'HY1_b2_recojet_phi'],\n",
    "          'm':  t[f'HY1_b2_recojet_m' ]}#,\n",
    "#          'btag':  t[f'HY1_b2_recojet_deepJet']}\n",
    "HY2_b1 = {'pt': t[f'HY2_b1_recojet_ptRegressed'],\n",
    "          'eta':t[f'HY2_b1_recojet_eta'],\n",
    "          'phi':t[f'HY2_b1_recojet_phi'],\n",
    "          'm':  t[f'HY2_b1_recojet_m' ]}#,\n",
    "#          'btag':  t[f'HY2_b1_recojet_deepJet']}\n",
    "HY2_b2 = {'pt': t[f'HY2_b2_recojet_ptRegressed'],\n",
    "          'eta':t[f'HY2_b2_recojet_eta'],\n",
    "          'phi':t[f'HY2_b2_recojet_phi'],\n",
    "          'm':  t[f'HY2_b2_recojet_m' ]}#,\n",
    "#          'btag':  t[f'HY2_b2_recojet_deepJet']}\n",
    "\n",
    "part_dict = {0:HX_b1, 1:HX_b2, 2:HY1_b1, 3:HY1_b2, 4:HY2_b1, 5:HY2_b2}\n",
    "part_name = {0:'HX_b1', 1:'HX_b2', 2:'HY1_b1', 3:'HY1_b2', 4:'HY2_b1', 5:'HY2_b2'}"
   ]
  },
  {
   "cell_type": "code",
   "execution_count": 63,
   "id": "9c023194",
   "metadata": {},
   "outputs": [],
   "source": [
    "from kinematics import calcDeltaR"
   ]
  },
  {
   "cell_type": "code",
   "execution_count": 64,
   "id": "199aedb3",
   "metadata": {},
   "outputs": [],
   "source": [
    "# Save inputs by pair and invariant mass by pair\n",
    "X_temp = []\n",
    "m_temp = []\n",
    "\n",
    "counter = 0\n",
    "flag = True\n",
    "for i in range(5):\n",
    "    for j in range(i+1,6):\n",
    "        pair_name = part_name[i] + \" & \" + part_name[j]\n",
    "        # print(f\"Generating features for pair: {pair_name}\")\n",
    "        dR = calcDeltaR(part_dict[i]['eta'], part_dict[j]['eta'], part_dict[i]['phi'], part_dict[j]['phi'])\n",
    "        inputs = np.column_stack((part_dict[i]['pt'], part_dict[i]['eta'], part_dict[i]['phi'], \n",
    "                                  part_dict[j]['pt'], part_dict[j]['eta'], part_dict[j]['phi'], dR))\n",
    "\n",
    "        b1 = uproot3_methods.TLorentzVectorArray.from_ptetaphim(part_dict[i]['pt'], part_dict[i]['eta'], \n",
    "                                                                part_dict[i]['phi'], np.repeat(4e-9, nevents))\n",
    "        b2 = uproot3_methods.TLorentzVectorArray.from_ptetaphim(part_dict[j]['pt'], part_dict[j]['eta'], \n",
    "                                                                part_dict[j]['phi'],  np.repeat(4e-9, nevents))\n",
    "\n",
    "        H_candidate = b1 + b2\n",
    "        invm = H_candidate.mass\n",
    "\n",
    "        X_temp.append(inputs)\n",
    "        m_temp.append(invm)\n",
    "        \n",
    "m = np.array((m_temp)).T"
   ]
  },
  {
   "cell_type": "code",
   "execution_count": 65,
   "id": "9743fd92",
   "metadata": {},
   "outputs": [],
   "source": [
    "from consistent_plots import hist"
   ]
  },
  {
   "cell_type": "code",
   "execution_count": 66,
   "id": "1c7bce06",
   "metadata": {},
   "outputs": [],
   "source": [
    "import matplotlib.pyplot as plt\n",
    "from matplotlib.gridspec import GridSpec\n",
    "%matplotlib widget"
   ]
  },
  {
   "cell_type": "code",
   "execution_count": 67,
   "id": "7c087450",
   "metadata": {},
   "outputs": [],
   "source": [
    "# labels will be used later\n",
    "\n",
    "labels = ['HX',\n",
    " 'HX b1, H1 b1',\n",
    " 'HX b1, H1 b2',\n",
    " 'HX b1, H2 b1',\n",
    " 'HX b1, H2 b2',\n",
    " 'HX b2, H1 b1',\n",
    " 'HX b2, H1 b2',\n",
    " 'HX b2, H2 b1',\n",
    " 'HX b2, H2 b2',\n",
    " 'H1',\n",
    " 'H1 b1, H2 b1',\n",
    " 'H1 b1, H2 b2',\n",
    " 'H1 b2, H2 b1',\n",
    " 'H1 b2, H2 b2',\n",
    " 'H2']"
   ]
  },
  {
   "cell_type": "code",
   "execution_count": 68,
   "id": "17415ade",
   "metadata": {},
   "outputs": [
    {
     "data": {
      "application/vnd.jupyter.widget-view+json": {
       "model_id": "cceab0c0966e4a52985ec032bba7ba9c",
       "version_major": 2,
       "version_minor": 0
      },
      "text/plain": [
       "Canvas(toolbar=Toolbar(toolitems=[('Home', 'Reset original view', 'home', 'home'), ('Back', 'Back to previous …"
      ]
     },
     "metadata": {},
     "output_type": "display_data"
    }
   ],
   "source": [
    "# Let's see what the Higgs masses look like.\n",
    "\n",
    "bins = np.linspace(50,200,40)\n",
    "\n",
    "fig, axs = plt.subplots(nrows=1, ncols=2, figsize=(7,4))\n",
    "\n",
    "ax = axs[0]\n",
    "n1, *_ = hist(ax, m[:,0] , bins=bins, label='HX')\n",
    "n2, *_ = hist(ax, m[:,9] , bins=bins, label='H1')\n",
    "n3, *_ = hist(ax, m[:,14], bins=bins, label='H2')\n",
    "\n",
    "ax = axs[1]\n",
    "n, *_ = ax.hist([m[:,0], m[:,9], m[:,14]], bins=bins, stacked=True, histtype='step', align='mid')\n",
    "\n",
    "plt.show()"
   ]
  },
  {
   "cell_type": "code",
   "execution_count": 95,
   "id": "0b9387ec",
   "metadata": {},
   "outputs": [],
   "source": [
    "# Collect Higgs masses \n",
    "higgs_mass = np.concatenate((m[:,0], m[:,9], m[:,14]))\n",
    "hx_mass = m[:,0]\n",
    "h1_mass = m[:,9]\n",
    "h2_mass = m[:,14]\n",
    "bins = np.linspace(90,150,40)\n",
    "xdata = (bins[1:] + bins[:-1])/2\n",
    "\n",
    "# Histograms\n",
    "ydata, _ = np.histogram(higgs_mass, bins=bins)\n",
    "hxydata, _ = np.histogram(hx_mass, bins=bins)\n",
    "h1ydata, _ = np.histogram(h1_mass, bins=bins)\n",
    "h2ydata, _ = np.histogram(h2_mass, bins=bins)\n",
    "\n",
    "# Normalize for comparison\n",
    "ydata = ydata / ydata.max()\n",
    "hxydata = hxydata / hxydata.max()\n",
    "h1ydata = h1ydata / h1ydata.max()\n",
    "h2ydata = h2ydata / h2ydata.max()"
   ]
  },
  {
   "cell_type": "code",
   "execution_count": 96,
   "id": "16517492",
   "metadata": {},
   "outputs": [
    {
     "name": "stdout",
     "output_type": "stream",
     "text": [
      "[[Model]]\n",
      "    Model(gaussian)\n",
      "[[Fit Statistics]]\n",
      "    # fitting method   = leastsq\n",
      "    # function evals   = 60\n",
      "    # data points      = 39\n",
      "    # variables        = 3\n",
      "    chi-square         = 0.05320934\n",
      "    reduced chi-square = 0.00147804\n",
      "    Akaike info crit   = -251.286237\n",
      "    Bayesian info crit = -246.295552\n",
      "[[Variables]]\n",
      "    amplitude:  37.7946583 +/- 0.45995584 (1.22%) (init = 1)\n",
      "    center:     117.281144 +/- 0.20638438 (0.18%) (init = 125)\n",
      "    sigma:      15.2313877 +/- 0.22673335 (1.49%) (init = 15)\n",
      "    fwhm:       35.8671764 +/- 0.53391623 (1.49%) == '2.3548200*sigma'\n",
      "    height:     0.98992214 +/- 0.01154952 (1.17%) == '0.3989423*amplitude/max(1e-15, sigma)'\n",
      "[[Correlations]] (unreported correlations are < 0.100)\n",
      "    C(amplitude, sigma) =  0.645\n"
     ]
    }
   ],
   "source": [
    "# Fit the masses with a Gaussian\n",
    "from lmfit.models import GaussianModel, SkewedGaussianModel\n",
    "\n",
    "model = GaussianModel()\n",
    "\n",
    "# create parameters with initial guesses:\n",
    "params = model.make_params(center=125, amplitude=1, sigma=15)\n",
    "\n",
    "result = model.fit(ydata, params, x=xdata)\n",
    "print(result.fit_report())"
   ]
  },
  {
   "cell_type": "code",
   "execution_count": 97,
   "id": "dc5c5a8f",
   "metadata": {},
   "outputs": [
    {
     "data": {
      "text/html": [
       "<table><tr><th> name </th><th> value </th><th> standard error </th><th> relative error </th><th> initial value </th><th> min </th><th> max </th><th> vary </th><th> expression </th></tr><tr><td> amplitude </td><td>  37.7946583 </td><td>  0.45995584 </td><td> (1.22%) </td><td> 1 </td><td>        -inf </td><td>         inf </td><td> True </td><td>  </td></tr><tr><td> center </td><td>  117.281144 </td><td>  0.20638438 </td><td> (0.18%) </td><td> 125 </td><td>        -inf </td><td>         inf </td><td> True </td><td>  </td></tr><tr><td> sigma </td><td>  15.2313877 </td><td>  0.22673335 </td><td> (1.49%) </td><td> 15 </td><td>  0.00000000 </td><td>         inf </td><td> True </td><td>  </td></tr><tr><td> fwhm </td><td>  35.8671764 </td><td>  0.53391623 </td><td> (1.49%) </td><td> 35.3223 </td><td>        -inf </td><td>         inf </td><td> False </td><td> 2.3548200*sigma </td></tr><tr><td> height </td><td>  0.98992214 </td><td>  0.01154952 </td><td> (1.17%) </td><td> 0.026596153333333334 </td><td>        -inf </td><td>         inf </td><td> False </td><td> 0.3989423*amplitude/max(1e-15, sigma) </td></tr></table>"
      ],
      "text/plain": [
       "Parameters([('amplitude',\n",
       "             <Parameter 'amplitude', value=37.79465831097356 +/- 0.46, bounds=[-inf:inf]>),\n",
       "            ('center',\n",
       "             <Parameter 'center', value=117.28114441873778 +/- 0.206, bounds=[-inf:inf]>),\n",
       "            ('sigma',\n",
       "             <Parameter 'sigma', value=15.231387706114955 +/- 0.227, bounds=[0:inf]>),\n",
       "            ('fwhm',\n",
       "             <Parameter 'fwhm', value=35.86717639811362 +/- 0.534, bounds=[-inf:inf], expr='2.3548200*sigma'>),\n",
       "            ('height',\n",
       "             <Parameter 'height', value=0.9899221400713594 +/- 0.0115, bounds=[-inf:inf], expr='0.3989423*amplitude/max(1e-15, sigma)'>)])"
      ]
     },
     "execution_count": 97,
     "metadata": {},
     "output_type": "execute_result"
    }
   ],
   "source": [
    "result.params"
   ]
  },
  {
   "cell_type": "code",
   "execution_count": 98,
   "id": "4ce72c4c",
   "metadata": {},
   "outputs": [
    {
     "name": "stdout",
     "output_type": "stream",
     "text": [
      "amplitude 37.79465831097356 0.4599558403971399\n",
      "center 117.28114441873778 0.20638437874626137\n",
      "sigma 15.231387706114955 0.22673334884040292\n",
      "fwhm 35.86717639811362 0.5339162265204757\n",
      "height 0.9899221400713594 0.01154952425166262\n"
     ]
    }
   ],
   "source": [
    "params = {}\n",
    "for name,param in result.params.items():\n",
    "    print(name,param.value, param.stderr)\n",
    "    params[name] = {'value':param.value, 'error':param.stderr}"
   ]
  },
  {
   "cell_type": "code",
   "execution_count": 104,
   "id": "c463c0a2",
   "metadata": {
    "tags": []
   },
   "outputs": [
    {
     "name": "stdout",
     "output_type": "stream",
     "text": [
      "0.7154841034676063\n"
     ]
    },
    {
     "name": "stderr",
     "output_type": "stream",
     "text": [
      "100%|██████████| 199792/199792 [01:22<00:00, 2436.33it/s]\n"
     ]
    }
   ],
   "source": [
    "# Here is where the magic happens.\n",
    "\n",
    "std_dev = 2\n",
    "\n",
    "# Create a Higgs mass mask\n",
    "higgs_mask = np.repeat(False, 15)\n",
    "higgs_mask[0] = True\n",
    "higgs_mask[9] = True\n",
    "higgs_mask[14] = True\n",
    "\n",
    "# Initialize the various higgs masks\n",
    "contains_0_higgs = np.array((), dtype=bool)\n",
    "contains_1_higgs = np.array((), dtype=bool)\n",
    "contains_2_higgs = np.array((), dtype=bool)\n",
    "contains_3_higgs = np.array((), dtype=bool)\n",
    "\n",
    "# Define boundaries of mass cut\n",
    "lower = params['center']['value'] - std_dev*params['sigma']['value']\n",
    "upper = params['center']['value'] + std_dev*params['sigma']['value']\n",
    "\n",
    "shift = False\n",
    "if shift:\n",
    "    lower += 5\n",
    "    upper += 5\n",
    "\n",
    "# Masks for each of the three Higgs'\n",
    "HX_mask = np.logical_and(m[:,0] > lower, m[:,0] < upper)\n",
    "H1_mask = np.logical_and(m[:,9] > lower, m[:,9] < upper)\n",
    "H2_mask = np.logical_and(m[:,14] > lower, m[:,14] < upper)\n",
    "\n",
    "Y_bool = np.logical_and(H1_mask, H2_mask)\n",
    "H_bool = np.logical_and(HX_mask, Y_bool)\n",
    "\n",
    "# This will confirm that the proportion of events in which all three Higgs pass\n",
    "# is in fact ~70%.\n",
    "print(np.sum(H_bool)/len(H_bool))\n",
    "\n",
    "event_indices_passing_pairs = []\n",
    "n_pairs = np.array(())\n",
    "Higgs_pairs = np.array(())\n",
    "nonHiggs_pairs = np.array(())\n",
    "for ievt in tqdm(range(nevents)):\n",
    "    mass_cut_mask = np.logical_and(m[ievt,] > lower, m[ievt,] < upper)\n",
    "    \n",
    "    arr = mass_cut_mask[higgs_mask]\n",
    "    contains_0_higgs = np.append(contains_0_higgs, np.sum(arr) == 0)\n",
    "    contains_1_higgs = np.append(contains_1_higgs, np.sum(arr) == 1)\n",
    "    contains_2_higgs = np.append(contains_2_higgs, np.sum(arr) == 2)\n",
    "    contains_3_higgs = np.append(contains_3_higgs, np.sum(arr) == 3)\n",
    "    \n",
    "    event_indices_passing_pairs.append(mass_cut_mask)\n",
    "    n_pairs = np.append(n_pairs, int(np.sum(mass_cut_mask)))\n",
    "    Higgs_pairs = np.append(Higgs_pairs, int(np.sum(mass_cut_mask[higgs_mask])))\n",
    "    nonHiggs_pairs = np.append(nonHiggs_pairs, int(np.sum(mass_cut_mask[~higgs_mask])))\n",
    "    \n",
    "passing_pairs = np.array((event_indices_passing_pairs))"
   ]
  },
  {
   "cell_type": "code",
   "execution_count": 107,
   "id": "671d8d96",
   "metadata": {},
   "outputs": [
    {
     "data": {
      "application/vnd.jupyter.widget-view+json": {
       "model_id": "0ddfd56f39a24d9984aa0736c1dae432",
       "version_major": 2,
       "version_minor": 0
      },
      "text/plain": [
       "Canvas(toolbar=Toolbar(toolitems=[('Home', 'Reset original view', 'home', 'home'), ('Back', 'Back to previous …"
      ]
     },
     "metadata": {},
     "output_type": "display_data"
    },
    {
     "data": {
      "text/plain": [
       "Text(0.55, 0.84, 'Average = 6.29 Pairs')"
      ]
     },
     "execution_count": 107,
     "metadata": {},
     "output_type": "execute_result"
    }
   ],
   "source": [
    "# Let's see the multiplicity of non-Higgs pairs that pass the mass cut\n",
    "\n",
    "plt.close()\n",
    "fig, ax = plt.subplots()\n",
    "b = np.arange(17)\n",
    "nH, b = np.histogram(n_pairs, bins=b)\n",
    "ax.bar(b[:-1], nH)\n",
    "ax.text(0.55,0.9,fr\"{lower:.1f} GeV < $m_\\mathrm{{inv}}$ < {upper:.1f} GeV\", transform=ax.transAxes, fontsize='smaller')\n",
    "ax.set_xlabel('Number of Pairs Passing Mass Cut')\n",
    "nH_avg = np.average(n_pairs)\n",
    "ax.text(0.55,0.84,fr\"Average = {nH_avg:.2f} Pairs\", transform=ax.transAxes, fontsize='smaller')"
   ]
  },
  {
   "cell_type": "code",
   "execution_count": 108,
   "id": "d0a07e18",
   "metadata": {},
   "outputs": [
    {
     "data": {
      "application/vnd.jupyter.widget-view+json": {
       "model_id": "3044c23c22544b63aed4c92e44d05ecf",
       "version_major": 2,
       "version_minor": 0
      },
      "text/plain": [
       "Canvas(toolbar=Toolbar(toolitems=[('Home', 'Reset original view', 'home', 'home'), ('Back', 'Back to previous …"
      ]
     },
     "metadata": {},
     "output_type": "display_data"
    },
    {
     "data": {
      "text/plain": [
       "Text(0.55, 0.84, 'Average = 3.61 Pairs')"
      ]
     },
     "execution_count": 108,
     "metadata": {},
     "output_type": "execute_result"
    }
   ],
   "source": [
    "# Let's see the multiplicity of non-Higgs pairs that pass the mass cut\n",
    "\n",
    "plt.close()\n",
    "fig, ax = plt.subplots()\n",
    "b = np.arange(14)\n",
    "nH, b = np.histogram(nonHiggs_pairs, bins=b)\n",
    "ax.bar(b[:-1], nH)\n",
    "ax.text(0.55,0.9,fr\"{lower:.1f} GeV < $m_\\mathrm{{inv}}$ < {upper:.1f} GeV\", transform=ax.transAxes, fontsize='smaller')\n",
    "ax.set_xlabel('Number of Non-Higgs Pairs Passing Mass Cut')\n",
    "nH_avg = np.average(nonHiggs_pairs)\n",
    "ax.text(0.55,0.84,fr\"Average = {nH_avg:.2f} Pairs\", transform=ax.transAxes, fontsize='smaller')"
   ]
  },
  {
   "cell_type": "code",
   "execution_count": 109,
   "id": "5d1a881d",
   "metadata": {},
   "outputs": [
    {
     "data": {
      "application/vnd.jupyter.widget-view+json": {
       "model_id": "74077a52c2a64466af04aedc98b53b7a",
       "version_major": 2,
       "version_minor": 0
      },
      "text/plain": [
       "Canvas(toolbar=Toolbar(toolitems=[('Home', 'Reset original view', 'home', 'home'), ('Back', 'Back to previous …"
      ]
     },
     "metadata": {},
     "output_type": "display_data"
    }
   ],
   "source": [
    "N, b = np.histogram(higgs_mass, bins=bins)\n",
    "y = N / N.max()\n",
    "err = np.reciprocal(np.sqrt(N))\n",
    "x = (bins[:-1] + bins[1:])/2\n",
    "\n",
    "plt.close()\n",
    "fig, ax = plt.subplots()\n",
    "\n",
    "for low,mid,high,n,e in zip(bins[:-1],x,bins[1:],y,err):\n",
    "    ax.plot([low,high], [n,n], color='black')\n",
    "    ax.plot([mid,mid], [n-e, n+e], color='black')\n",
    "\n",
    "ax.scatter(xdata, y, s=20, c='black', marker='+', label='Higgs data')\n",
    "ax.plot(xdata, result.best_fit, label='fit')\n",
    "ax.set_xlabel(r'$m_H$ [GeV]')\n",
    "ax.text(0.3, 0.3, fr\"$\\mu$ = {params['center']['value']:.1f} $\\pm$ {params['center']['error']:.1f} GeV\", transform=ax.transAxes, color='C0')\n",
    "ax.text(0.3, 0.23, fr\"$\\sigma$ = {params['sigma']['value']:.1f} $\\pm$ {params['sigma']['error']:.1f} GeV\", transform=ax.transAxes, color='C0')\n",
    "ax.legend()\n",
    "\n",
    "plt.show()"
   ]
  },
  {
   "cell_type": "code",
   "execution_count": 77,
   "id": "af173940",
   "metadata": {},
   "outputs": [],
   "source": [
    "from prettytable import PrettyTable"
   ]
  },
  {
   "cell_type": "code",
   "execution_count": 78,
   "id": "5a2d0269",
   "metadata": {},
   "outputs": [],
   "source": [
    "table = PrettyTable()\n",
    "table.field_names = ['Pair', 'Efficiency']\n",
    "\n",
    "for i in [0, 9, 14]:\n",
    "    table.add_row([labels[i], f'{np.around(np.sum(passing_pairs[:,i])/nevents*100, decimals=1)}%'])\n",
    "    \n",
    "higgs_masses = np.column_stack((passing_pairs[:,0], passing_pairs[:,9], passing_pairs[:,14]))\n",
    "table.add_row(['Any Higgs', f'{np.around(np.sum(np.any(higgs_masses, axis=1))/nevents*100, decimals=1)}%'])\n",
    "table.add_row(['All Higgs', f'{np.around(np.sum(np.all(higgs_masses, axis=1))/nevents*100, decimals=1)}%'])\n",
    "    \n",
    "for i,label in enumerate(labels):\n",
    "    if i == 0 or i == 9 or i == 14: continue\n",
    "    table.add_row([label, f'{np.around(np.sum(passing_pairs[:,i])/nevents*100, decimals=1)}%'])"
   ]
  },
  {
   "cell_type": "code",
   "execution_count": 79,
   "id": "0bfcefb0",
   "metadata": {},
   "outputs": [
    {
     "name": "stdout",
     "output_type": "stream",
     "text": [
      "+--------------+------------+\n",
      "|     Pair     | Efficiency |\n",
      "+--------------+------------+\n",
      "|      HX      |   89.4%    |\n",
      "|      H1      |   89.7%    |\n",
      "|      H2      |   88.9%    |\n",
      "|  Any Higgs   |   99.8%    |\n",
      "|  All Higgs   |   71.5%    |\n",
      "| HX b1, H1 b1 |    3.8%    |\n",
      "| HX b1, H1 b2 |   22.0%    |\n",
      "| HX b1, H2 b1 |   22.8%    |\n",
      "| HX b1, H2 b2 |   34.6%    |\n",
      "| HX b2, H1 b1 |   21.3%    |\n",
      "| HX b2, H1 b2 |   44.9%    |\n",
      "| HX b2, H2 b1 |   38.2%    |\n",
      "| HX b2, H2 b2 |   45.0%    |\n",
      "| H1 b1, H2 b1 |   11.3%    |\n",
      "| H1 b1, H2 b2 |   31.8%    |\n",
      "| H1 b2, H2 b1 |   38.4%    |\n",
      "| H1 b2, H2 b2 |   46.9%    |\n",
      "+--------------+------------+\n"
     ]
    }
   ],
   "source": [
    "print(table)"
   ]
  },
  {
   "cell_type": "code",
   "execution_count": 110,
   "id": "504ab2e2",
   "metadata": {},
   "outputs": [
    {
     "data": {
      "application/vnd.jupyter.widget-view+json": {
       "model_id": "5722a4fe6d4a432a97183ff3850384c0",
       "version_major": 2,
       "version_minor": 0
      },
      "text/plain": [
       "Canvas(toolbar=Toolbar(toolitems=[('Home', 'Reset original view', 'home', 'home'), ('Back', 'Back to previous …"
      ]
     },
     "metadata": {},
     "output_type": "display_data"
    },
    {
     "data": {
      "text/plain": [
       "<matplotlib.legend.Legend at 0x7f77d2268250>"
      ]
     },
     "execution_count": 110,
     "metadata": {},
     "output_type": "execute_result"
    }
   ],
   "source": [
    "plt.close()\n",
    "fig, ax = plt.subplots()\n",
    "\n",
    "# n,   bins = np.histogram(n_pairs, bins=np.arange(0,16))\n",
    "n_0, bins = np.histogram(nonHiggs_pairs[contains_0_higgs], bins=np.arange(0,13))\n",
    "n_1, bins = np.histogram(nonHiggs_pairs[contains_1_higgs], bins=np.arange(0,13))\n",
    "n_2, bins = np.histogram(nonHiggs_pairs[contains_2_higgs], bins=np.arange(0,13))\n",
    "n_3, bins = np.histogram(nonHiggs_pairs[contains_3_higgs], bins=np.arange(0,13))\n",
    "\n",
    "width=0.5\n",
    "\n",
    "ax.bar(bins[:-1], n_0, width, label='0 Higgs')\n",
    "ax.bar(bins[:-1], n_1, width, bottom=n_0, label='1 Higgs')\n",
    "ax.bar(bins[:-1], n_2, width, bottom=n_1+n_0, label='2 Higgs')\n",
    "ax.bar(bins[:-1], n_3, width, bottom=n_1+n_2+n_0, label='3 Higgs')\n",
    "# ax.bar(bins[:-1]+width/2, n, width, label='No Cuts')\n",
    "\n",
    "ax.set_title('Multiplicity of Non-Higgs Pairs \\nThat Pass Mass Cut Per Event')\n",
    "ax.set_xlabel('Number of Passing Non-Higgs Pairs')\n",
    "ax.text(0.62,0.57,fr\"{lower:.1f} GeV < $m_\\mathrm{{inv}}$ < {upper:.1f} GeV\", transform=ax.transAxes, fontsize='x-small')\n",
    "ax.legend(loc=1)\n",
    "\n",
    "#For each of the bins, plot the real Higgs masses"
   ]
  },
  {
   "cell_type": "code",
   "execution_count": 114,
   "id": "55cced31",
   "metadata": {},
   "outputs": [
    {
     "data": {
      "application/vnd.jupyter.widget-view+json": {
       "model_id": "820412567d054702ab4127286595fac3",
       "version_major": 2,
       "version_minor": 0
      },
      "text/plain": [
       "Canvas(toolbar=Toolbar(toolitems=[('Home', 'Reset original view', 'home', 'home'), ('Back', 'Back to previous …"
      ]
     },
     "metadata": {},
     "output_type": "display_data"
    },
    {
     "data": {
      "text/plain": [
       "<matplotlib.legend.Legend at 0x7f77d1ac9b20>"
      ]
     },
     "execution_count": 114,
     "metadata": {},
     "output_type": "execute_result"
    }
   ],
   "source": [
    "plt.close()\n",
    "fig, ax = plt.subplots()\n",
    "\n",
    "# n,   bins = np.histogram(n_pairs, bins=np.arange(0,16))\n",
    "n_0, bins = np.histogram(nonHiggs_pairs[contains_0_higgs], bins=np.arange(0,17))\n",
    "n_1, bins = np.histogram(nonHiggs_pairs[contains_1_higgs]+np.ones_like(nonHiggs_pairs[contains_1_higgs]), bins=np.arange(0,17))\n",
    "n_2, bins = np.histogram(nonHiggs_pairs[contains_2_higgs]+2*np.ones_like(nonHiggs_pairs[contains_2_higgs]), bins=np.arange(0,17))\n",
    "n_3, bins = np.histogram(nonHiggs_pairs[contains_3_higgs]+3*np.ones_like(nonHiggs_pairs[contains_3_higgs]), bins=np.arange(0,17))\n",
    "\n",
    "width=0.5\n",
    "\n",
    "ax.bar(bins[:-1], n_0, width, label='0 Higgs')\n",
    "ax.bar(bins[:-1], n_1, width, bottom=n_0, label='1 Higgs')\n",
    "ax.bar(bins[:-1], n_2, width, bottom=n_1+n_0, label='2 Higgs')\n",
    "ax.bar(bins[:-1], n_3, width, bottom=n_1+n_2+n_0, label='3 Higgs')\n",
    "# ax.bar(bins[:-1]+width/2, n, width, label='No Cuts')\n",
    "\n",
    "ax.set_title('Multiplicity of Pairs That \\nPass Mass Cut Per Event')\n",
    "ax.set_xlabel('Number of Passing Pairs')\n",
    "ax.text(0.6,0.5,fr\"{lower:.1f} GeV < $m_\\mathrm{{inv}}$ < {upper:.1f} GeV\", transform=ax.transAxes, fontsize='x-small')\n",
    "ax.legend(loc=1)\n",
    "\n",
    "#For each of the bins, plot the real Higgs masses"
   ]
  },
  {
   "cell_type": "code",
   "execution_count": 82,
   "id": "6eb5a936",
   "metadata": {},
   "outputs": [
    {
     "data": {
      "application/vnd.jupyter.widget-view+json": {
       "model_id": "628a0632466643acae4a74474dd0697e",
       "version_major": 2,
       "version_minor": 0
      },
      "text/plain": [
       "Canvas(toolbar=Toolbar(toolitems=[('Home', 'Reset original view', 'home', 'home'), ('Back', 'Back to previous …"
      ]
     },
     "metadata": {},
     "output_type": "display_data"
    },
    {
     "data": {
      "text/plain": [
       "<matplotlib.legend.Legend at 0x7f77e125f5e0>"
      ]
     },
     "execution_count": 82,
     "metadata": {},
     "output_type": "execute_result"
    }
   ],
   "source": [
    "plt.close()\n",
    "fig, ax = plt.subplots()\n",
    "\n",
    "# n,   bins = np.histogram(n_pairs, bins=np.arange(0,16))\n",
    "n_0, bins = np.histogram(nonHiggs_pairs[contains_0_higgs], bins=np.arange(0,13))\n",
    "n_1, bins = np.histogram(nonHiggs_pairs[contains_1_higgs], bins=np.arange(0,13))\n",
    "n_2, bins = np.histogram(nonHiggs_pairs[contains_2_higgs], bins=np.arange(0,13))\n",
    "n_3, bins = np.histogram(nonHiggs_pairs[contains_3_higgs], bins=np.arange(0,13))\n",
    "\n",
    "width=0.2\n",
    "\n",
    "ax.bar(bins[:-1]-width*3/2, n_0, width, label='0 Higgs')\n",
    "ax.bar(bins[:-1]-width/2, n_1, width, label='1 Higgs')\n",
    "ax.bar(bins[:-1]+width/2, n_2, width, label='2 Higgs')\n",
    "ax.bar(bins[:-1]+width*3/2, n_3, width, label='3 Higgs')\n",
    "# ax.bar(bins[:-1]+width/2, n, width, label='No Cuts')\n",
    "\n",
    "ax.set_title('Multiplicity of Non-Higgs Pairs \\nThat Pass Mass Cut Per Event')\n",
    "ax.set_xlabel('Number of Passing Non-Higgs Pairs')\n",
    "ax.text(0.55,0.9,fr\"{lower:.1f} GeV < $m_\\mathrm{{inv}}$ < {upper:.1f} GeV\", transform=ax.transAxes, fontsize='smaller')\n",
    "ax.legend(loc=2)\n",
    "\n",
    "#For each of the bins, plot the real Higgs masses"
   ]
  },
  {
   "cell_type": "code",
   "execution_count": 83,
   "id": "2eed5f4b",
   "metadata": {},
   "outputs": [
    {
     "data": {
      "application/vnd.jupyter.widget-view+json": {
       "model_id": "d5b47e01c80b4df1a6771a29f405b57c",
       "version_major": 2,
       "version_minor": 0
      },
      "text/plain": [
       "Canvas(toolbar=Toolbar(toolitems=[('Home', 'Reset original view', 'home', 'home'), ('Back', 'Back to previous …"
      ]
     },
     "metadata": {},
     "output_type": "display_data"
    },
    {
     "data": {
      "text/plain": [
       "<matplotlib.legend.Legend at 0x7f77e0ff9be0>"
      ]
     },
     "execution_count": 83,
     "metadata": {},
     "output_type": "execute_result"
    }
   ],
   "source": [
    "plt.close()\n",
    "fig, ax = plt.subplots()\n",
    "ax.set_title('3 passing pairs in the event')\n",
    "hist(ax, m[:,0][n_pairs==3], bins=np.linspace(75,200,30), label='HX')\n",
    "hist(ax, m[:,9][n_pairs==3], bins=np.linspace(75,200,30), label='H1')\n",
    "hist(ax, m[:,14][n_pairs==3], bins=np.linspace(75,200,30), label='H2')\n",
    "ax.plot([90,90],[0,500], c='black')\n",
    "ax.plot([150,150],[0,500], c='black')\n",
    "ax.text(0.55,0.95,fr\"{lower:.1f} GeV < $m_\\mathrm{{inv}}$ < {upper:.1f} GeV\", transform=ax.transAxes, fontsize='smaller')\n",
    "ax.set_xlabel(r'$m_H$ [GeV]')\n",
    "ax.legend(loc=5)"
   ]
  },
  {
   "cell_type": "code",
   "execution_count": 84,
   "id": "de465ecc",
   "metadata": {},
   "outputs": [
    {
     "data": {
      "text/plain": [
       "15"
      ]
     },
     "execution_count": 84,
     "metadata": {},
     "output_type": "execute_result"
    }
   ],
   "source": [
    "len(X_temp)"
   ]
  },
  {
   "cell_type": "code",
   "execution_count": 85,
   "id": "8f38f908",
   "metadata": {},
   "outputs": [
    {
     "data": {
      "application/vnd.jupyter.widget-view+json": {
       "model_id": "9061b3c4983c4cb9bdfd165464f2545a",
       "version_major": 2,
       "version_minor": 0
      },
      "text/plain": [
       "Canvas(toolbar=Toolbar(toolitems=[('Home', 'Reset original view', 'home', 'home'), ('Back', 'Back to previous …"
      ]
     },
     "metadata": {},
     "output_type": "display_data"
    },
    {
     "data": {
      "text/plain": [
       "<matplotlib.legend.Legend at 0x7f77e0fcb1f0>"
      ]
     },
     "execution_count": 85,
     "metadata": {},
     "output_type": "execute_result"
    }
   ],
   "source": [
    "plt.close()\n",
    "fig, ax = plt.subplots()\n",
    "hist(ax, X_temp[0][:,0][n_pairs==3], label='HX b1 pt', bins=np.linspace(0,400,60))\n",
    "hist(ax, X_temp[9][:,0][n_pairs==3], label='H1 b1 pt', bins=np.linspace(0,400,60))\n",
    "hist(ax, X_temp[14][:,0][n_pairs==3], label='H2 b1 pt', bins=np.linspace(0,400,60))\n",
    "ax.text(0.55,0.95,fr\"{lower:.1f} GeV < $m_\\mathrm{{inv}}$ < {upper:.1f} GeV\", transform=ax.transAxes, fontsize='smaller')\n",
    "ax.set_xlabel(r'$p_T$ [GeV]')\n",
    "ax.legend(loc=5)"
   ]
  },
  {
   "cell_type": "code",
   "execution_count": 86,
   "id": "4449bf70",
   "metadata": {},
   "outputs": [
    {
     "name": "stdout",
     "output_type": "stream",
     "text": [
      "+-----------+-------------------------+-------+-------+-------+-------+\n",
      "| Num Pairs | Num Total Events in Bin | % 0 H | % 1 H | % 2 H | % 3 H |\n",
      "+-----------+-------------------------+-------+-------+-------+-------+\n",
      "|     0     |           1804          |  0.4  |  4.2  |  36.4 |  59.0 |\n",
      "|     1     |          11478          |  0.2  |  4.2  |  28.3 |  67.3 |\n",
      "|     2     |          32594          |  0.1  |  3.2  |  24.2 |  72.4 |\n",
      "|     3     |          50779          |  0.1  |  2.8  |  22.8 |  74.3 |\n",
      "|     4     |          49799          |  0.1  |  2.9  |  23.5 |  73.5 |\n",
      "|     5     |          33275          |  0.2  |  3.5  |  25.6 |  70.8 |\n",
      "|     6     |          14802          |  0.2  |  3.9  |  29.4 |  66.5 |\n",
      "|     7     |           4317          |  0.3  |  5.8  |  36.5 |  57.3 |\n",
      "|     8     |           820           |  0.5  |  9.4  |  47.2 |  42.9 |\n",
      "|     9     |           119           |  1.7  |  22.7 |  62.2 |  13.4 |\n",
      "|     10    |            5            |  0.0  |  60.0 |  40.0 |  0.0  |\n",
      "|     11    |            0            |  nan  |  nan  |  nan  |  nan  |\n",
      "+-----------+-------------------------+-------+-------+-------+-------+\n"
     ]
    },
    {
     "name": "stderr",
     "output_type": "stream",
     "text": [
      "<ipython-input-86-8013785530ee>:8: RuntimeWarning: invalid value encountered in long_scalars\n",
      "  table2.add_row([i, n, round(n_0[i]/n*100, 1), round(n_1[i]/n*100, 1), round(n_2[i]/n*100, 1), round(n_3[i]/n*100, 1)])\n"
     ]
    }
   ],
   "source": [
    "table2 = PrettyTable()\n",
    "\n",
    "n_tot = n_0+n_1+n_2+n_3\n",
    "\n",
    "table2.field_names = ['Num Pairs', 'Num Total Events in Bin', '% 0 H', '% 1 H', '% 2 H', '% 3 H']\n",
    "\n",
    "for i,n in enumerate(n_tot):\n",
    "    table2.add_row([i, n, round(n_0[i]/n*100, 1), round(n_1[i]/n*100, 1), round(n_2[i]/n*100, 1), round(n_3[i]/n*100, 1)])\n",
    "    \n",
    "print(table2)"
   ]
  },
  {
   "cell_type": "code",
   "execution_count": 87,
   "id": "c0c56646",
   "metadata": {},
   "outputs": [
    {
     "data": {
      "application/vnd.jupyter.widget-view+json": {
       "model_id": "b3b40dac34944771a52af159817a8f51",
       "version_major": 2,
       "version_minor": 0
      },
      "text/plain": [
       "Canvas(toolbar=Toolbar(toolitems=[('Home', 'Reset original view', 'home', 'home'), ('Back', 'Back to previous …"
      ]
     },
     "metadata": {},
     "output_type": "display_data"
    }
   ],
   "source": [
    "plt.close()\n",
    "fig, ax = plt.subplots()\n",
    "\n",
    "n_1, bins, _ = hist(ax, m[:,0][H_bool])\n",
    "n_2, bins, _ = hist(ax, m[:,9][H_bool])\n",
    "n_3, bins, _ = hist(ax, m[:,14][H_bool])"
   ]
  },
  {
   "cell_type": "markdown",
   "id": "556aea1e",
   "metadata": {},
   "source": [
    "#### "
   ]
  },
  {
   "cell_type": "code",
   "execution_count": 88,
   "id": "c61e1850",
   "metadata": {},
   "outputs": [
    {
     "data": {
      "application/vnd.jupyter.widget-view+json": {
       "model_id": "0a466165d9ca4c4d8948d1b027b76636",
       "version_major": 2,
       "version_minor": 0
      },
      "text/plain": [
       "Canvas(toolbar=Toolbar(toolitems=[('Home', 'Reset original view', 'home', 'home'), ('Back', 'Back to previous …"
      ]
     },
     "metadata": {},
     "output_type": "display_data"
    },
    {
     "data": {
      "text/plain": [
       "<matplotlib.colorbar.Colorbar at 0x7f77e0f09dc0>"
      ]
     },
     "execution_count": 88,
     "metadata": {},
     "output_type": "execute_result"
    }
   ],
   "source": [
    "plt.close()\n",
    "fig, ax = plt.subplots()\n",
    "\n",
    "s = ax.scatter(m[:,0][n_pairs==3], m[:,9][n_pairs==3], s=1, c=m[:,14][n_pairs==3], cmap='rainbow')\n",
    "ax.plot([0, 400], [90, 90])\n",
    "ax.plot([0, 400], [150, 150])\n",
    "\n",
    "ax.plot([90, 90]  , [0, 400])\n",
    "ax.plot([150, 150], [0, 400])\n",
    "\n",
    "ax.set_ylim(0,400)\n",
    "ax.set_xlim(0,400)\n",
    "plt.colorbar(s)"
   ]
  },
  {
   "cell_type": "code",
   "execution_count": 89,
   "id": "3c677696",
   "metadata": {},
   "outputs": [
    {
     "data": {
      "application/vnd.jupyter.widget-view+json": {
       "model_id": "32bbbe8ff11b420ebda49834e3b0e22d",
       "version_major": 2,
       "version_minor": 0
      },
      "text/plain": [
       "Canvas(toolbar=Toolbar(toolitems=[('Home', 'Reset original view', 'home', 'home'), ('Back', 'Back to previous …"
      ]
     },
     "metadata": {},
     "output_type": "display_data"
    },
    {
     "name": "stderr",
     "output_type": "stream",
     "text": [
      "<ipython-input-89-437523f825a6>:11: RuntimeWarning: invalid value encountered in true_divide\n",
      "  y = np.where(n_2!=0, n_1/n_2, 0)\n"
     ]
    },
    {
     "data": {
      "text/plain": [
       "(0.0, 1.0)"
      ]
     },
     "execution_count": 89,
     "metadata": {},
     "output_type": "execute_result"
    }
   ],
   "source": [
    "plt.close()\n",
    "fig, ax = plt.subplots()\n",
    "\n",
    "bins=np.arange(16)\n",
    "\n",
    "n_1, bins, _ = hist(ax, n_pairs[H_bool], bins=bins)\n",
    "n_2, bins, _ = hist(ax, n_pairs, bins=bins)\n",
    "\n",
    "ax = ax.twinx()\n",
    "x = (bins[:-1] + bins[1:])/2\n",
    "y = np.where(n_2!=0, n_1/n_2, 0)\n",
    "ax.scatter(x, y, color='C2')\n",
    "ax.set_ylim(0,1)"
   ]
  },
  {
   "cell_type": "code",
   "execution_count": null,
   "id": "b85e46d5",
   "metadata": {},
   "outputs": [],
   "source": []
  },
  {
   "cell_type": "code",
   "execution_count": null,
   "id": "dc187f14",
   "metadata": {},
   "outputs": [],
   "source": []
  },
  {
   "cell_type": "code",
   "execution_count": 90,
   "id": "5274398e",
   "metadata": {},
   "outputs": [
    {
     "data": {
      "application/vnd.jupyter.widget-view+json": {
       "model_id": "739a85e7b0f24398be4a9f15baecdad5",
       "version_major": 2,
       "version_minor": 0
      },
      "text/plain": [
       "Canvas(toolbar=Toolbar(toolitems=[('Home', 'Reset original view', 'home', 'home'), ('Back', 'Back to previous …"
      ]
     },
     "metadata": {},
     "output_type": "display_data"
    },
    {
     "name": "stdout",
     "output_type": "stream",
     "text": [
      "0.4616519174041298\n",
      "0.3746312684365782\n",
      "0.35176991150442477\n",
      "[False False False ... False False  True]\n"
     ]
    }
   ],
   "source": [
    "plt.close()\n",
    "fig, axs = plt.subplots(nrows=1, ncols=3, figsize=(15,5))\n",
    "\n",
    "ax = axs[0]\n",
    "s = ax.scatter(m[:,0][n_pairs==3], m[:,9][n_pairs==3], s=1)\n",
    "bool1 = np.logical_and(m[:,0][n_pairs==3] > lower, m[:,0][n_pairs==3] < upper)\n",
    "bool2 = np.logical_and(m[:,9][n_pairs==3] > lower, m[:,9][n_pairs==3] < upper)\n",
    "bool_total1 = bool1 & bool2\n",
    "print(np.sum(bool_total1)/len(m[:,0][n_pairs==3]))\n",
    "ax.plot([0, 400], [90, 90])\n",
    "ax.plot([0, 400], [150, 150])\n",
    "\n",
    "ax.plot([90, 90]  , [0, 400])\n",
    "ax.plot([150, 150], [0, 400])\n",
    "\n",
    "ax.set_ylim(0,400)\n",
    "ax.set_xlim(0,400)\n",
    "\n",
    "ax = axs[1]\n",
    "s = ax.scatter(m[:,9][n_pairs==3], m[:,14][n_pairs==3], s=1)\n",
    "bool1 = np.logical_and(m[:,14][n_pairs==3] > lower, m[:,14][n_pairs==3] < upper)\n",
    "bool2 = np.logical_and(m[:,9][n_pairs==3] > lower, m[:,9][n_pairs==3] < upper)\n",
    "bool_total2 = bool1 & bool2\n",
    "print(np.sum(bool_total2)/len(m[:,0][n_pairs==3]))\n",
    "ax.plot([0, 400], [90, 90])\n",
    "ax.plot([0, 400], [150, 150])\n",
    "\n",
    "ax.plot([90, 90]  , [0, 400])\n",
    "ax.plot([150, 150], [0, 400])\n",
    "\n",
    "ax.set_ylim(0,400)\n",
    "ax.set_xlim(0,400)\n",
    "\n",
    "ax = axs[2]\n",
    "s = ax.scatter(m[:,14][n_pairs==3], m[:,0][n_pairs==3], s=1)\n",
    "bool1 = np.logical_and(m[:,0][n_pairs==3] > lower, m[:,0][n_pairs==3] < upper)\n",
    "bool2 = np.logical_and(m[:,14][n_pairs==3] > lower, m[:,14][n_pairs==3] < upper)\n",
    "bool_total3 = bool1 & bool2\n",
    "print(np.sum(bool_total3)/len(m[:,0][n_pairs==3]))\n",
    "ax.plot([0, 400], [90, 90])\n",
    "ax.plot([0, 400], [150, 150])\n",
    "\n",
    "ax.plot([90, 90]  , [0, 400])\n",
    "ax.plot([150, 150], [0, 400])\n",
    "\n",
    "ax.set_ylim(0,400)\n",
    "ax.set_xlim(0,400)\n",
    "\n",
    "print(bool_total1*bool_total2*bool_total3)"
   ]
  },
  {
   "cell_type": "code",
   "execution_count": null,
   "id": "b4e07fe7",
   "metadata": {},
   "outputs": [],
   "source": []
  },
  {
   "cell_type": "code",
   "execution_count": null,
   "id": "c15e6389",
   "metadata": {},
   "outputs": [],
   "source": []
  },
  {
   "cell_type": "code",
   "execution_count": null,
   "id": "30e0ee95",
   "metadata": {},
   "outputs": [],
   "source": []
  }
 ],
 "metadata": {
  "kernelspec": {
   "display_name": "Python 3",
   "language": "python",
   "name": "python3"
  },
  "language_info": {
   "codemirror_mode": {
    "name": "ipython",
    "version": 3
   },
   "file_extension": ".py",
   "mimetype": "text/x-python",
   "name": "python",
   "nbconvert_exporter": "python",
   "pygments_lexer": "ipython3",
   "version": "3.8.10"
  }
 },
 "nbformat": 4,
 "nbformat_minor": 5
}
