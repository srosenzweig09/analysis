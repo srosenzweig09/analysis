{
 "cells": [
  {
   "cell_type": "code",
   "execution_count": 1,
   "metadata": {},
   "outputs": [],
   "source": [
    "%load_ext autoreload\n",
    "%autoreload 2"
   ]
  },
  {
   "cell_type": "code",
   "execution_count": 3,
   "metadata": {},
   "outputs": [],
   "source": [
    "from trsm import TRSM, combos_6j"
   ]
  },
  {
   "cell_type": "code",
   "execution_count": 3,
   "metadata": {},
   "outputs": [],
   "source": [
    "import numpy as np\n",
    "import awkward as ak"
   ]
  },
  {
   "cell_type": "code",
   "execution_count": 4,
   "metadata": {},
   "outputs": [],
   "source": [
    "%matplotlib widget\n",
    "import matplotlib.pyplot as plt\n",
    "from consistent_plots import hist, hist2d"
   ]
  },
  {
   "cell_type": "code",
   "execution_count": 4,
   "metadata": {},
   "outputs": [],
   "source": [
    "filename = '../../NMSSM_XYH_YToHH_6b_MX_700_MY_400_6jet_testing_set.root'\n",
    "trsm_set = TRSM(filename=filename)"
   ]
  },
  {
   "cell_type": "code",
   "execution_count": 5,
   "metadata": {},
   "outputs": [],
   "source": [
    "tag = '20210816_5btag_req'"
   ]
  },
  {
   "cell_type": "code",
   "execution_count": 45,
   "metadata": {},
   "outputs": [
    {
     "name": "stderr",
     "output_type": "stream",
     "text": [
      "  0%|                                                                    | 0/412834 [00:11<?, ?it/s]\n"
     ]
    },
    {
     "ename": "ValueError",
     "evalue": "cannot broadcast records in this type of operation\n\n(https://github.com/scikit-hep/awkward-1.0/blob/1.3.0/src/awkward/_util.py#L947)",
     "output_type": "error",
     "traceback": [
      "\u001b[0;31m---------------------------------------------------------------------------\u001b[0m",
      "\u001b[0;31mValueError\u001b[0m                                Traceback (most recent call last)",
      "\u001b[0;32m/tmp/ipykernel_4794/2764714476.py\u001b[0m in \u001b[0;36m<module>\u001b[0;34m\u001b[0m\n\u001b[0;32m----> 1\u001b[0;31m \u001b[0mcombos\u001b[0m \u001b[0;34m=\u001b[0m \u001b[0mcombos_6j\u001b[0m\u001b[0;34m(\u001b[0m\u001b[0mtrsm_set\u001b[0m\u001b[0;34m,\u001b[0m \u001b[0mn\u001b[0m\u001b[0;34m=\u001b[0m\u001b[0;32mFalse\u001b[0m\u001b[0;34m,\u001b[0m \u001b[0mfast_build\u001b[0m\u001b[0;34m=\u001b[0m\u001b[0;32mTrue\u001b[0m\u001b[0;34m,\u001b[0m \u001b[0mtag\u001b[0m\u001b[0;34m=\u001b[0m\u001b[0mtag\u001b[0m\u001b[0;34m)\u001b[0m\u001b[0;34m\u001b[0m\u001b[0;34m\u001b[0m\u001b[0m\n\u001b[0m",
      "\u001b[0;32m~/nobackup/modules/trsm.py\u001b[0m in \u001b[0;36m__init__\u001b[0;34m(self, trsm, n, k, fast_build, tag)\u001b[0m\n\u001b[1;32m    571\u001b[0m             \u001b[0;32massert\u001b[0m \u001b[0mtag\u001b[0m\u001b[0;34m,\u001b[0m \u001b[0mprint\u001b[0m\u001b[0;34m(\u001b[0m\u001b[0;34m\"Include tag for quick building!\"\u001b[0m\u001b[0;34m)\u001b[0m\u001b[0;34m\u001b[0m\u001b[0;34m\u001b[0m\u001b[0m\n\u001b[1;32m    572\u001b[0m \u001b[0;34m\u001b[0m\u001b[0m\n\u001b[0;32m--> 573\u001b[0;31m         \u001b[0;32mif\u001b[0m \u001b[0mfast_build\u001b[0m\u001b[0;34m:\u001b[0m \u001b[0mself\u001b[0m\u001b[0;34m.\u001b[0m\u001b[0mquick_build\u001b[0m\u001b[0;34m(\u001b[0m\u001b[0mtrsm\u001b[0m\u001b[0;34m,\u001b[0m \u001b[0mtag\u001b[0m\u001b[0;34m)\u001b[0m\u001b[0;34m\u001b[0m\u001b[0;34m\u001b[0m\u001b[0m\n\u001b[0m\u001b[1;32m    574\u001b[0m         \u001b[0;32melse\u001b[0m\u001b[0;34m:\u001b[0m \u001b[0mself\u001b[0m\u001b[0;34m.\u001b[0m\u001b[0mbuild_combos\u001b[0m\u001b[0;34m(\u001b[0m\u001b[0mtrsm\u001b[0m\u001b[0;34m,\u001b[0m \u001b[0mn\u001b[0m\u001b[0;34m,\u001b[0m \u001b[0mk\u001b[0m\u001b[0;34m)\u001b[0m\u001b[0;34m\u001b[0m\u001b[0;34m\u001b[0m\u001b[0m\n\u001b[1;32m    575\u001b[0m \u001b[0;34m\u001b[0m\u001b[0m\n",
      "\u001b[0;32m~/nobackup/miniconda3/envs/work/lib/python3.8/site-packages/numpy/lib/mixins.py\u001b[0m in \u001b[0;36mfunc\u001b[0;34m(self, other)\u001b[0m\n\u001b[1;32m     19\u001b[0m         \u001b[0;32mif\u001b[0m \u001b[0m_disables_array_ufunc\u001b[0m\u001b[0;34m(\u001b[0m\u001b[0mother\u001b[0m\u001b[0;34m)\u001b[0m\u001b[0;34m:\u001b[0m\u001b[0;34m\u001b[0m\u001b[0;34m\u001b[0m\u001b[0m\n\u001b[1;32m     20\u001b[0m             \u001b[0;32mreturn\u001b[0m \u001b[0mNotImplemented\u001b[0m\u001b[0;34m\u001b[0m\u001b[0;34m\u001b[0m\u001b[0m\n\u001b[0;32m---> 21\u001b[0;31m         \u001b[0;32mreturn\u001b[0m \u001b[0mufunc\u001b[0m\u001b[0;34m(\u001b[0m\u001b[0mself\u001b[0m\u001b[0;34m,\u001b[0m \u001b[0mother\u001b[0m\u001b[0;34m)\u001b[0m\u001b[0;34m\u001b[0m\u001b[0;34m\u001b[0m\u001b[0m\n\u001b[0m\u001b[1;32m     22\u001b[0m     \u001b[0mfunc\u001b[0m\u001b[0;34m.\u001b[0m\u001b[0m__name__\u001b[0m \u001b[0;34m=\u001b[0m \u001b[0;34m'__{}__'\u001b[0m\u001b[0;34m.\u001b[0m\u001b[0mformat\u001b[0m\u001b[0;34m(\u001b[0m\u001b[0mname\u001b[0m\u001b[0;34m)\u001b[0m\u001b[0;34m\u001b[0m\u001b[0;34m\u001b[0m\u001b[0m\n\u001b[1;32m     23\u001b[0m     \u001b[0;32mreturn\u001b[0m \u001b[0mfunc\u001b[0m\u001b[0;34m\u001b[0m\u001b[0;34m\u001b[0m\u001b[0m\n",
      "\u001b[0;32m~/nobackup/miniconda3/envs/work/lib/python3.8/site-packages/awkward/highlevel.py\u001b[0m in \u001b[0;36m__array_ufunc__\u001b[0;34m(self, ufunc, method, *inputs, **kwargs)\u001b[0m\n\u001b[1;32m   1404\u001b[0m         \"\"\"\n\u001b[1;32m   1405\u001b[0m         \u001b[0;32mif\u001b[0m \u001b[0;32mnot\u001b[0m \u001b[0mhasattr\u001b[0m\u001b[0;34m(\u001b[0m\u001b[0mself\u001b[0m\u001b[0;34m,\u001b[0m \u001b[0;34m\"_tracers\"\u001b[0m\u001b[0;34m)\u001b[0m\u001b[0;34m:\u001b[0m\u001b[0;34m\u001b[0m\u001b[0;34m\u001b[0m\u001b[0m\n\u001b[0;32m-> 1406\u001b[0;31m             \u001b[0;32mreturn\u001b[0m \u001b[0mak\u001b[0m\u001b[0;34m.\u001b[0m\u001b[0m_connect\u001b[0m\u001b[0;34m.\u001b[0m\u001b[0m_numpy\u001b[0m\u001b[0;34m.\u001b[0m\u001b[0marray_ufunc\u001b[0m\u001b[0;34m(\u001b[0m\u001b[0mufunc\u001b[0m\u001b[0;34m,\u001b[0m \u001b[0mmethod\u001b[0m\u001b[0;34m,\u001b[0m \u001b[0minputs\u001b[0m\u001b[0;34m,\u001b[0m \u001b[0mkwargs\u001b[0m\u001b[0;34m)\u001b[0m\u001b[0;34m\u001b[0m\u001b[0;34m\u001b[0m\u001b[0m\n\u001b[0m\u001b[1;32m   1407\u001b[0m         \u001b[0;32melse\u001b[0m\u001b[0;34m:\u001b[0m\u001b[0;34m\u001b[0m\u001b[0;34m\u001b[0m\u001b[0m\n\u001b[1;32m   1408\u001b[0m             return ak._connect._jax.jax_utils.array_ufunc(\n",
      "\u001b[0;32m~/nobackup/miniconda3/envs/work/lib/python3.8/site-packages/awkward/_connect/_numpy.py\u001b[0m in \u001b[0;36marray_ufunc\u001b[0;34m(ufunc, method, inputs, kwargs)\u001b[0m\n\u001b[1;32m    204\u001b[0m         \u001b[0;32mreturn\u001b[0m \u001b[0;32mNone\u001b[0m\u001b[0;34m\u001b[0m\u001b[0;34m\u001b[0m\u001b[0m\n\u001b[1;32m    205\u001b[0m \u001b[0;34m\u001b[0m\u001b[0m\n\u001b[0;32m--> 206\u001b[0;31m     out = ak._util.broadcast_and_apply(\n\u001b[0m\u001b[1;32m    207\u001b[0m         \u001b[0minputs\u001b[0m\u001b[0;34m,\u001b[0m \u001b[0mgetfunction\u001b[0m\u001b[0;34m,\u001b[0m \u001b[0mbehavior\u001b[0m\u001b[0;34m,\u001b[0m \u001b[0mallow_records\u001b[0m\u001b[0;34m=\u001b[0m\u001b[0;32mFalse\u001b[0m\u001b[0;34m,\u001b[0m \u001b[0mpass_depth\u001b[0m\u001b[0;34m=\u001b[0m\u001b[0;32mFalse\u001b[0m\u001b[0;34m\u001b[0m\u001b[0;34m\u001b[0m\u001b[0m\n\u001b[1;32m    208\u001b[0m     )\n",
      "\u001b[0;32m~/nobackup/miniconda3/envs/work/lib/python3.8/site-packages/awkward/_util.py\u001b[0m in \u001b[0;36mbroadcast_and_apply\u001b[0;34m(inputs, getfunction, behavior, allow_records, pass_depth, pass_user, user, left_broadcast, right_broadcast, numpy_to_regular, regular_to_jagged)\u001b[0m\n\u001b[1;32m   1051\u001b[0m     \u001b[0;32melse\u001b[0m\u001b[0;34m:\u001b[0m\u001b[0;34m\u001b[0m\u001b[0;34m\u001b[0m\u001b[0m\n\u001b[1;32m   1052\u001b[0m         \u001b[0misscalar\u001b[0m \u001b[0;34m=\u001b[0m \u001b[0;34m[\u001b[0m\u001b[0;34m]\u001b[0m\u001b[0;34m\u001b[0m\u001b[0;34m\u001b[0m\u001b[0m\n\u001b[0;32m-> 1053\u001b[0;31m         \u001b[0mout\u001b[0m \u001b[0;34m=\u001b[0m \u001b[0mapply\u001b[0m\u001b[0;34m(\u001b[0m\u001b[0mbroadcast_pack\u001b[0m\u001b[0;34m(\u001b[0m\u001b[0minputs\u001b[0m\u001b[0;34m,\u001b[0m \u001b[0misscalar\u001b[0m\u001b[0;34m)\u001b[0m\u001b[0;34m,\u001b[0m \u001b[0;36m0\u001b[0m\u001b[0;34m,\u001b[0m \u001b[0muser\u001b[0m\u001b[0;34m)\u001b[0m\u001b[0;34m\u001b[0m\u001b[0;34m\u001b[0m\u001b[0m\n\u001b[0m\u001b[1;32m   1054\u001b[0m         \u001b[0;32massert\u001b[0m \u001b[0misinstance\u001b[0m\u001b[0;34m(\u001b[0m\u001b[0mout\u001b[0m\u001b[0;34m,\u001b[0m \u001b[0mtuple\u001b[0m\u001b[0;34m)\u001b[0m\u001b[0;34m\u001b[0m\u001b[0;34m\u001b[0m\u001b[0m\n\u001b[1;32m   1055\u001b[0m         \u001b[0;32mreturn\u001b[0m \u001b[0mtuple\u001b[0m\u001b[0;34m(\u001b[0m\u001b[0mbroadcast_unpack\u001b[0m\u001b[0;34m(\u001b[0m\u001b[0mx\u001b[0m\u001b[0;34m,\u001b[0m \u001b[0misscalar\u001b[0m\u001b[0;34m)\u001b[0m \u001b[0;32mfor\u001b[0m \u001b[0mx\u001b[0m \u001b[0;32min\u001b[0m \u001b[0mout\u001b[0m\u001b[0;34m)\u001b[0m\u001b[0;34m\u001b[0m\u001b[0;34m\u001b[0m\u001b[0m\n",
      "\u001b[0;32m~/nobackup/miniconda3/envs/work/lib/python3.8/site-packages/awkward/_util.py\u001b[0m in \u001b[0;36mapply\u001b[0;34m(inputs, depth, user)\u001b[0m\n\u001b[1;32m    813\u001b[0m                     \u001b[0;34m[\u001b[0m\u001b[0mlen\u001b[0m\u001b[0;34m(\u001b[0m\u001b[0mx\u001b[0m\u001b[0;34m)\u001b[0m \u001b[0;32mfor\u001b[0m \u001b[0mx\u001b[0m \u001b[0;32min\u001b[0m \u001b[0mnextinputs\u001b[0m \u001b[0;32mif\u001b[0m \u001b[0misinstance\u001b[0m\u001b[0;34m(\u001b[0m\u001b[0mx\u001b[0m\u001b[0;34m,\u001b[0m \u001b[0mak\u001b[0m\u001b[0;34m.\u001b[0m\u001b[0mlayout\u001b[0m\u001b[0;34m.\u001b[0m\u001b[0mContent\u001b[0m\u001b[0;34m)\u001b[0m\u001b[0;34m]\u001b[0m\u001b[0;34m\u001b[0m\u001b[0;34m\u001b[0m\u001b[0m\n\u001b[1;32m    814\u001b[0m                 )\n\u001b[0;32m--> 815\u001b[0;31m                 \u001b[0moutcontent\u001b[0m \u001b[0;34m=\u001b[0m \u001b[0mapply\u001b[0m\u001b[0;34m(\u001b[0m\u001b[0mnextinputs\u001b[0m\u001b[0;34m,\u001b[0m \u001b[0mdepth\u001b[0m \u001b[0;34m+\u001b[0m \u001b[0;36m1\u001b[0m\u001b[0;34m,\u001b[0m \u001b[0muser\u001b[0m\u001b[0;34m)\u001b[0m\u001b[0;34m\u001b[0m\u001b[0;34m\u001b[0m\u001b[0m\n\u001b[0m\u001b[1;32m    816\u001b[0m                 \u001b[0;32massert\u001b[0m \u001b[0misinstance\u001b[0m\u001b[0;34m(\u001b[0m\u001b[0moutcontent\u001b[0m\u001b[0;34m,\u001b[0m \u001b[0mtuple\u001b[0m\u001b[0;34m)\u001b[0m\u001b[0;34m\u001b[0m\u001b[0;34m\u001b[0m\u001b[0m\n\u001b[1;32m    817\u001b[0m \u001b[0;34m\u001b[0m\u001b[0m\n",
      "\u001b[0;32m~/nobackup/miniconda3/envs/work/lib/python3.8/site-packages/awkward/_util.py\u001b[0m in \u001b[0;36mapply\u001b[0;34m(inputs, depth, user)\u001b[0m\n\u001b[1;32m    943\u001b[0m         \u001b[0;32melif\u001b[0m \u001b[0many\u001b[0m\u001b[0;34m(\u001b[0m\u001b[0misinstance\u001b[0m\u001b[0;34m(\u001b[0m\u001b[0mx\u001b[0m\u001b[0;34m,\u001b[0m \u001b[0mrecordtypes\u001b[0m\u001b[0;34m)\u001b[0m \u001b[0;32mfor\u001b[0m \u001b[0mx\u001b[0m \u001b[0;32min\u001b[0m \u001b[0minputs\u001b[0m\u001b[0;34m)\u001b[0m\u001b[0;34m:\u001b[0m\u001b[0;34m\u001b[0m\u001b[0;34m\u001b[0m\u001b[0m\n\u001b[1;32m    944\u001b[0m             \u001b[0;32mif\u001b[0m \u001b[0;32mnot\u001b[0m \u001b[0mallow_records\u001b[0m\u001b[0;34m:\u001b[0m\u001b[0;34m\u001b[0m\u001b[0;34m\u001b[0m\u001b[0m\n\u001b[0;32m--> 945\u001b[0;31m                 raise ValueError(\n\u001b[0m\u001b[1;32m    946\u001b[0m                     \u001b[0;34m\"cannot broadcast records in this type of operation\"\u001b[0m\u001b[0;34m\u001b[0m\u001b[0;34m\u001b[0m\u001b[0m\n\u001b[1;32m    947\u001b[0m                     \u001b[0;34m+\u001b[0m \u001b[0mexception_suffix\u001b[0m\u001b[0;34m(\u001b[0m\u001b[0m__file__\u001b[0m\u001b[0;34m)\u001b[0m\u001b[0;34m\u001b[0m\u001b[0;34m\u001b[0m\u001b[0m\n",
      "\u001b[0;31mValueError\u001b[0m: cannot broadcast records in this type of operation\n\n(https://github.com/scikit-hep/awkward-1.0/blob/1.3.0/src/awkward/_util.py#L947)"
     ]
    }
   ],
   "source": [
    "combos = combos_6j(trsm_set, n=False, fast_build=True, tag=tag)"
   ]
  },
  {
   "cell_type": "code",
   "execution_count": null,
   "metadata": {},
   "outputs": [],
   "source": [
    "combos7.apply_6j_model(tag)\n",
    "scores_7 = combos7.scores_combo"
   ]
  },
  {
   "cell_type": "code",
   "execution_count": null,
   "metadata": {},
   "outputs": [],
   "source": [
    "combos7.select_highest_scoring_combos()"
   ]
  },
  {
   "cell_type": "code",
   "execution_count": null,
   "metadata": {},
   "outputs": [],
   "source": [
    "evt_score_mask = combos7.high_score_combo_mask\n",
    "evt_high_score = combos7.evt_highest_score"
   ]
  },
  {
   "cell_type": "code",
   "execution_count": null,
   "metadata": {},
   "outputs": [],
   "source": [
    "sgnl_evt = combos7.sgnl_evt\n",
    "sgnl_high_score = combos7.sgnl_high_score"
   ]
  },
  {
   "cell_type": "code",
   "execution_count": null,
   "metadata": {},
   "outputs": [],
   "source": [
    "def get_stats(score_cut = 0):\n",
    "    # what percentage of events contain signal jets\n",
    "    percent_signal = np.sum(sgnl_evt)/len(sgnl_evt) * 100\n",
    "    \n",
    "    # what percentage of signal events are the highest scoring\n",
    "    percent_signal_highest_score = np.sum(sgnl_high_score)/np.sum(sgnl_evt) * 100\n",
    "    \n",
    "    # score cut removes this percentage\n",
    "    percent_removal = (1 - np.sum(evt_high_score > score_cut)/len(evt_high_score)) * 100\n",
    "    \n",
    "    # of events with highest score above threshold, what percentage of those contain signal combo?\n",
    "    percent_high_score_are_signal = np.sum(np.logical_and(sgnl_evt, evt_high_score > score_cut))/np.sum(evt_high_score > score_cut) * 100\n",
    "    \n",
    "    # of events with highest score above threshold, what percentage of those are signal combos with the highest score in the event?\n",
    "    percent_high_score_signal_with_highest_score = np.sum(np.logical_and(sgnl_high_score, evt_high_score > score_cut))/np.sum(evt_high_score > score_cut) * 100\n",
    "    \n",
    "    print(f\"{percent_signal:.0f}% of all events contain signal combos\")\n",
    "    print(f\"{percent_signal_highest_score:.0f}% of events containing signal combo assigned highest score to signal combo\")\n",
    "    print(f\"{percent_removal:.0f}% of events removed by applying score cut {score_cut}\")\n",
    "    print(f\"{percent_high_score_are_signal:.0f}% of events above score cut {score_cut} contain signal combo\")\n",
    "    print(f\"{percent_high_score_signal_with_highest_score:.0f}% of events above score cut {score_cut} contain signal combo assigned highest score\")"
   ]
  },
  {
   "cell_type": "code",
   "execution_count": null,
   "metadata": {},
   "outputs": [],
   "source": [
    "get_stats(0.8)"
   ]
  },
  {
   "cell_type": "code",
   "execution_count": null,
   "metadata": {},
   "outputs": [],
   "source": [
    "fig, ax = plt.subplots()\n",
    "\n",
    "n_signal, edges = np.histogram(evt_high_score[sgnl_evt], bins=score_bins)\n",
    "n_bkgd, edges   = np.histogram(evt_high_score[~sgnl_evt], bins=score_bins)\n",
    "\n",
    "x = (edges[1:] + edges[:-1])/2\n",
    "\n",
    "n_signal = n_signal / np.sum(n_signal)\n",
    "n_bkgd = n_bkgd / np.sum(n_bkgd)\n",
    "\n",
    "n_signal, edges, _ = hist(ax, x, weights=n_signal, bins=score_bins, label='Events with correct combos')\n",
    "n_bkgd, edges, _ = hist(ax, x, weights=n_bkgd, bins=score_bins, label='Events with no correct combos')\n",
    "\n",
    "ax.legend(loc=2)\n",
    "ax.set_xlabel('Highest Assigned Score Amongst Combinations in Events')\n",
    "ax.set_ylabel('AU')\n",
    "ax.set_title('Distribution of Highest Scoring Combination in Events')\n",
    "\n",
    "fig.savefig('evt_max_score_dist.pdf')"
   ]
  },
  {
   "cell_type": "code",
   "execution_count": null,
   "metadata": {},
   "outputs": [],
   "source": [
    "fig, ax = plt.subplots()\n",
    "\n",
    "n_signal, edges = np.histogram(evt_high_score[sgnl_evt], bins=score_bins)\n",
    "n_bkgd, edges   = np.histogram(evt_high_score[sgnl_evt & sgnl_high_score], bins=score_bins)\n",
    "\n",
    "x = (edges[1:] + edges[:-1])/2\n",
    "\n",
    "n_signal = n_signal / np.sum(n_signal)\n",
    "n_bkgd = n_bkgd / np.sum(n_bkgd)\n",
    "\n",
    "n_signal, edges, _ = hist(ax, x, weights=n_signal, bins=score_bins, label='Events with correct combos')\n",
    "n_bkgd, edges, _ = hist(ax, x, weights=n_bkgd, bins=score_bins, label='Events with no correct combos')\n",
    "\n",
    "ax.legend(loc=2)\n",
    "ax.set_xlabel('Highest Assigned Score Amongst Combinations in Events')\n",
    "ax.set_ylabel('AU')\n",
    "ax.set_title('Distribution of Highest Scoring Combination in Events')"
   ]
  },
  {
   "cell_type": "code",
   "execution_count": null,
   "metadata": {},
   "outputs": [],
   "source": [
    "def norm_hist(arr, bins=100):\n",
    "    n, b = np.histogram(arr, bins=bins)\n",
    "    x = (b[:-1] + b[1:]) / 2\n",
    "    \n",
    "    return n/n.max(), b, x"
   ]
  },
  {
   "cell_type": "code",
   "execution_count": null,
   "metadata": {},
   "outputs": [],
   "source": [
    "fig, axs = plt.subplots(nrows=2, ncols=1, figsize=(6,7))\n",
    "\n",
    "ax = axs[0]\n",
    "ax.set_title(r\"$^7C_6$ Combinations Normalized\")\n",
    "\n",
    "n_7, b_7, x_7 = norm_hist(scores_7)\n",
    "c_7, b_7, x_7 = norm_hist(scores_7[combos7.sgnl_mask])\n",
    "w_7, b_7, x_7 = norm_hist(scores_7[~combos7.sgnl_mask])\n",
    "\n",
    "hist(ax, x_7, weights=n_7, bins=b_7, label='All 6-jet combos')\n",
    "hist(ax, x_7, weights=c_7, bins=b_7, label='Correct 6-jet combo')\n",
    "hist(ax, x_7, weights=w_7, bins=b_7, label='Incorrect 6-jet combo')\n",
    "ax.legend(fontsize='small', loc=9)\n",
    "\n",
    "ax.set_xlabel('Assigned Score')\n",
    "ax.set_ylabel('AU')\n",
    "\n",
    "textstr = f'Entries = {len(scores_7)}'\n",
    "props = dict(boxstyle='round', facecolor='white', alpha=1)\n",
    "ax.text(0.8, 1.02, textstr, transform=ax.transAxes, fontsize=9,\n",
    "        verticalalignment='top', bbox=props)\n",
    "\n",
    "ax = axs[1]\n",
    "ax.set_title(r\"$^7C_6$ Combinations\")\n",
    "\n",
    "n_7, b_7 = np.histogram(scores_7, bins=100)\n",
    "c_n_7, b_7 = np.histogram(scores_7[combos7.sgnl_mask], bins=100)\n",
    "w_n_7, b_7 = np.histogram(scores_7[~combos7.sgnl_mask], bins=100)\n",
    "\n",
    "x_7 = (b_7[1:] + b_7[:-1]) / 2\n",
    "\n",
    "hist(ax, x_7, weights=n_7, bins=b_7, label='All 6-jet combos')\n",
    "hist(ax, x_7, weights=c_n_7, bins=b_7, label='Correct 6-jet combo')\n",
    "hist(ax, x_7, weights=w_n_7, bins=b_7, label='Incorrect 6-jet combo')\n",
    "ax.legend(fontsize='small', loc=9)\n",
    "\n",
    "ax.set_xlabel('Assigned Score')\n",
    "ax.set_ylabel('Number of Combinations Per Bin')\n",
    "\n",
    "textstr = f'Entries = {len(scores_7)}'\n",
    "props = dict(boxstyle='round', facecolor='white', alpha=1)\n",
    "ax.text(0.8, 1.02, textstr, transform=ax.transAxes, fontsize=9,\n",
    "        verticalalignment='top', bbox=props)\n",
    "\n",
    "plt.tight_layout()\n",
    "fig.savefig('score_dist.pdf')\n",
    "plt.show()"
   ]
  },
  {
   "cell_type": "code",
   "execution_count": null,
   "metadata": {},
   "outputs": [],
   "source": [
    "pt_7  = combos7.combo_features[:,0:6]\n",
    "eta_7 = combos7.combo_features[:,6:12]\n",
    "phi_7 = combos7.combo_features[:,12:18]\n",
    "m_7   = np.ones(pt_7.shape)*4"
   ]
  },
  {
   "cell_type": "code",
   "execution_count": null,
   "metadata": {},
   "outputs": [],
   "source": [
    "import vector"
   ]
  },
  {
   "cell_type": "code",
   "execution_count": null,
   "metadata": {},
   "outputs": [],
   "source": [
    "p4_7_0 = vector.obj(pt=pt_7[:,0], eta=eta_7[:,0], phi=phi_7[:,0], mass=m_7[:,0])\n",
    "p4_7_1 = vector.obj(pt=pt_7[:,1], eta=eta_7[:,1], phi=phi_7[:,1], mass=m_7[:,1])\n",
    "p4_7_2 = vector.obj(pt=pt_7[:,2], eta=eta_7[:,2], phi=phi_7[:,2], mass=m_7[:,2])\n",
    "p4_7_3 = vector.obj(pt=pt_7[:,3], eta=eta_7[:,3], phi=phi_7[:,3], mass=m_7[:,3])\n",
    "p4_7_4 = vector.obj(pt=pt_7[:,4], eta=eta_7[:,4], phi=phi_7[:,4], mass=m_7[:,4])\n",
    "p4_7_5 = vector.obj(pt=pt_7[:,5], eta=eta_7[:,5], phi=phi_7[:,5], mass=m_7[:,5])"
   ]
  },
  {
   "cell_type": "code",
   "execution_count": null,
   "metadata": {},
   "outputs": [],
   "source": [
    "p4_7 = p4_7_0 + p4_7_1 + p4_7_2 + p4_7_3 + p4_7_4 + p4_7_5"
   ]
  },
  {
   "cell_type": "code",
   "execution_count": null,
   "metadata": {},
   "outputs": [],
   "source": [
    "fig, ax = plt.subplots(nrows=1, ncols=2, figsize=(10,4))\n",
    "\n",
    "ax[0].set_title(\"Signal 7 Combos\")\n",
    "ax[1].set_title(\"Background 7 Combos\")\n",
    "\n",
    "n, xedges, yedges, ims = hist2d(ax[0], p4_7.mass[combos7.sgnl_mask], scores_7[combos7.sgnl_mask], xbins=np.linspace(400,900,100))\n",
    "n, xedges, yedges, imb = hist2d(ax[1], p4_7.mass[~combos7.sgnl_mask], scores_7[~combos7.sgnl_mask], xbins=np.linspace(0,2000,100))\n",
    "\n",
    "plt.colorbar(ims, ax=ax[0])\n",
    "plt.colorbar(imb, ax=ax[1])\n",
    "\n",
    "ax[0].set_xlabel('Invariant Mass of 6-jet System [GeV]')\n",
    "ax[1].set_xlabel('Invariant Mass of 6-jet System [GeV]')\n",
    "ax[0].set_ylabel('Assigned Score')\n",
    "ax[1].set_ylabel('Assigned Score')\n",
    "\n",
    "fig.savefig('score_v_mass.pdf')\n",
    "\n",
    "plt.show()"
   ]
  },
  {
   "cell_type": "code",
   "execution_count": null,
   "metadata": {},
   "outputs": [],
   "source": [
    "score_bins = np.arange(0,1.01,0.01)"
   ]
  },
  {
   "cell_type": "code",
   "execution_count": null,
   "metadata": {},
   "outputs": [],
   "source": [
    "from numba import jit\n",
    "\n",
    "@jit(forceobj=True)\n",
    "def calculate_confusion_matrix(forceobj=True):\n",
    "    tpr_arr = []\n",
    "    fpr_arr = []\n",
    "    prec_arr = []\n",
    "    recall_arr = []\n",
    "    for i in score_bins:\n",
    "        true_pos  = np.sum(scores_7[combos7.sgnl_mask] > i)\n",
    "        false_pos = np.sum(scores_7[~combos7.sgnl_mask] > i)\n",
    "        true_neg  = np.sum(scores_7[~combos7.sgnl_mask] <= i)\n",
    "        false_neg = np.sum(scores_7[combos7.sgnl_mask] <= i)\n",
    "        \n",
    "        tpr = true_pos / (true_pos + false_neg) * 100\n",
    "        fpr = false_pos / (false_pos + true_neg) * 100\n",
    "        \n",
    "        tpr_arr.append(tpr)\n",
    "        fpr_arr.append(fpr)\n",
    "        \n",
    "        precision = true_pos / (true_pos + false_pos)\n",
    "        recall = true_pos / (true_pos + false_neg)\n",
    "        \n",
    "        prec_arr.append(precision)\n",
    "        recall_arr.append(recall)\n",
    "        \n",
    "        \n",
    "    tpr = np.asarray(tpr_arr)\n",
    "    fpr = np.asarray(fpr_arr)\n",
    "    precision = np.asarray(prec_arr)\n",
    "    recall = np.asarray(recall_arr)\n",
    "    \n",
    "    f1_score = 2 * precision * recall / (precision + recall)\n",
    "    \n",
    "    return tpr, fpr, precision, recall, f1_score\n",
    "    \n",
    "tpr, fpr, prec, rec, f1 = calculate_confusion_matrix()"
   ]
  },
  {
   "cell_type": "code",
   "execution_count": null,
   "metadata": {},
   "outputs": [],
   "source": [
    "auc = round(np.sum( (tpr[:-1] + tpr[1:]) / 2 * (fpr[:-1] - fpr[1:]) ) / 100, 3)"
   ]
  },
  {
   "cell_type": "markdown",
   "metadata": {},
   "source": [
    "F1 is harmonic mean of precision and recall"
   ]
  },
  {
   "cell_type": "code",
   "execution_count": null,
   "metadata": {},
   "outputs": [],
   "source": [
    "fig, ax = plt.subplots()\n",
    "ax.set_title(r\"$^7C_6$ Combinations ROC\")\n",
    "\n",
    "ax.plot(score_bins, prec, label='precision')\n",
    "ax.plot(score_bins, rec, label='recall')\n",
    "ax.plot(score_bins, f1, label='F1')\n",
    "\n",
    "ax.legend()\n",
    "ax.set_xlabel('Score Threshold')"
   ]
  },
  {
   "cell_type": "code",
   "execution_count": null,
   "metadata": {},
   "outputs": [],
   "source": [
    "fig, ax = plt.subplots()\n",
    "ax.set_title(r\"$^7C_6$ Combinations ROC\")\n",
    "\n",
    "y = np.sqrt(tpr/100*(1-fpr/100))\n",
    "\n",
    "ax.plot(score_bins, y)\n",
    "ax.set_ylabel('G-Mean')\n",
    "ax.set_xlabel('Score Threshold')"
   ]
  },
  {
   "cell_type": "code",
   "execution_count": null,
   "metadata": {},
   "outputs": [],
   "source": [
    "fig, ax = plt.subplots()\n",
    "ax.set_title(r\"$^7C_6$ Combinations ROC\")\n",
    "\n",
    "ax.plot(fpr, tpr)\n",
    "# ax.scatter(fpr[::10], tpr[::10], s=6, color='orange')\n",
    "ax.set_ylabel('True Positives %')\n",
    "ax.set_xlabel('False Positives %')\n",
    "\n",
    "props = dict(boxstyle='round', facecolor='white', alpha=0.5)\n",
    "ax.text(0.75, 0.1, f\"auc = {auc}%\", transform=ax.transAxes, bbox=props)\n",
    "\n",
    "fig.savefig('roc.pdf')"
   ]
  },
  {
   "cell_type": "code",
   "execution_count": null,
   "metadata": {},
   "outputs": [],
   "source": [
    "fig, ax = plt.subplots(nrows=1, ncols=1, figsize=(9,5))\n",
    "\n",
    "n, b, _ = hist(ax, p4_7.mass[combos7.sgnl_mask], bins=np.linspace(400,900,100), label='Correct Combinations', color='limegreen')\n",
    "n, b, _ = hist(ax, p4_7.mass[~combos7.sgnl_mask], bins=np.linspace(400,900,100), label='Incorrect Combinations', color='lightcoral')\n",
    "\n",
    "\n",
    "ax.set_xlabel('Invariant Mass of 6-jet System [GeV]')\n",
    "ax.set_ylabel('Count')\n",
    "ax.legend(loc=2)\n",
    "\n",
    "fig.savefig('inv_mass_after_score_cut.pdf')\n",
    "\n",
    "plt.show()"
   ]
  },
  {
   "cell_type": "code",
   "execution_count": null,
   "metadata": {},
   "outputs": [],
   "source": [
    "len(evt_score_mask)"
   ]
  },
  {
   "cell_type": "code",
   "execution_count": null,
   "metadata": {},
   "outputs": [],
   "source": [
    "fig, ax = plt.subplots(nrows=1, ncols=1, figsize=(9,5))\n",
    "\n",
    "n, b, _ = hist(ax, p4_7.mass[evt_score_mask][sgnl_evt], bins=np.linspace(400,900,100), label='Correct Highest Score', color='limegreen')\n",
    "n, b, _ = hist(ax, p4_7.mass[evt_score_mask][~sgnl_evt], bins=np.linspace(400,900,100), label='Incorrect Highest Score', color='lightcoral')\n",
    "\n",
    "\n",
    "ax.set_xlabel('Invariant Mass of 6-jet System [GeV]')\n",
    "ax.set_ylabel('Count')\n",
    "ax.legend(loc=2)\n",
    "\n",
    "fig.savefig('inv_mass_after_score_cut.pdf')\n",
    "\n",
    "plt.show()"
   ]
  },
  {
   "cell_type": "code",
   "execution_count": null,
   "metadata": {},
   "outputs": [],
   "source": [
    "fig, ax = plt.subplots(nrows=1, ncols=1, figsize=(9,5))\n",
    "\n",
    "score_cut_mask = evt_high_score > 0.8\n",
    "sgnl_score_cut = sgnl_evt & score_cut_mask\n",
    "bkgd_score_cut = (~sgnl_evt) & score_cut_mask\n",
    "\n",
    "n, b, _ = hist(ax, p4_7.mass[evt_score_mask][sgnl_score_cut], bins=np.linspace(400,900,100), label='Correct Highest Score > 0.8', color='limegreen')\n",
    "n, b, _ = hist(ax, p4_7.mass[evt_score_mask][cbkgd_score_cut], bins=np.linspace(400,900,100), label='Incorrect Highest Score > 0.8', color='lightcoral')\n",
    "\n",
    "\n",
    "ax.set_xlabel('Invariant Mass of 6-jet System [GeV]')\n",
    "ax.set_ylabel('Count')\n",
    "ax.legend(loc=2)\n",
    "\n",
    "fig.savefig('inv_mass_after_score_cut.pdf')\n",
    "\n",
    "plt.show()"
   ]
  },
  {
   "cell_type": "code",
   "execution_count": null,
   "metadata": {},
   "outputs": [],
   "source": [
    "fig, ax = plt.subplots(nrows=1, ncols=2, figsize=(10,4))\n",
    "\n",
    "ax[0].set_title(\"Correct Combos\")\n",
    "ax[1].set_title(\"Incorrect Combos\")\n",
    "\n",
    "n, b, _ = hist(ax[0], p4_7.mass[combos7.sgnl_mask], bins=np.linspace(400,900,100), label='No cut', color='limegreen')\n",
    "n, b, _ = hist(ax[0], p4_7.mass[combos7.sgnl_mask][scores_7[combos7.sgnl_mask] > 0.8], bins=np.linspace(400,900,100), label='score > 0.8', color='darkgreen')\n",
    "n, b, _ = hist(ax[1], p4_7.mass[~combos7.sgnl_mask], bins=np.linspace(400,900,100), label='No cut', color='lightcoral')\n",
    "n, b, _ = hist(ax[1], p4_7.mass[~combos7.sgnl_mask][scores_7[~combos7.sgnl_mask] > 0.8], bins=np.linspace(400,900,100), label='score > 0.8', color='maroon')\n",
    "# n, xedges, yedges, imb = hist2d(ax[1], p4_7.mass[~combos7.sgnl_mask], scores_7[~combos7.sgnl_mask], xbins=np.linspace(0,2000,100))\n",
    "\n",
    "\n",
    "ax[0].set_xlabel('Invariant Mass of 6-jet System [GeV]')\n",
    "ax[1].set_xlabel('Invariant Mass of 6-jet System [GeV]')\n",
    "ax[0].set_ylabel('Count')\n",
    "ax[1].set_ylabel('Count')\n",
    "ax[0].legend()\n",
    "ax[1].legend()\n",
    "\n",
    "fig.savefig('inv_mass_postscorecut.pdf')\n",
    "\n",
    "plt.show()"
   ]
  },
  {
   "cell_type": "code",
   "execution_count": null,
   "metadata": {},
   "outputs": [],
   "source": [
    "evt_score_mask"
   ]
  },
  {
   "cell_type": "code",
   "execution_count": null,
   "metadata": {},
   "outputs": [],
   "source": [
    "fig, ax = plt.subplots(nrows=2, ncols=1, figsize=(6,5), sharex=True, gridspec_kw={'height_ratios':[3,1]})\n",
    "\n",
    "ns, b, _ = hist(ax[0], p4_7.mass[combos7.sgnl_mask][scores_7[combos7.sgnl_mask] > 0.8], bins=np.linspace(400,900,100), label='sgnl score > 0.8', color='darkgreen')\n",
    "nb, b, _ = hist(ax[0], p4_7.mass[~combos7.sgnl_mask][scores_7[~combos7.sgnl_mask] > 0.8], bins=np.linspace(400,900,100), label='bkgd score > 0.8', color='maroon')\n",
    "# n, xedges, yedges, imb = hist2d(ax[1], p4_7.mass[~combos7.sgnl_mask], scores_7[~combos7.sgnl_mask], xbins=np.linspace(0,2000,100))\n",
    "\n",
    "x = (b[1:] + b[:-1])/2\n",
    "\n",
    "ax[1].plot(x, ns/nb)\n",
    "ax[1].plot(x, np.ones_like(x), '--k', alpha=0.2)\n",
    "\n",
    "ax[1].set_xlabel('Invariant Mass of 6-jet System [GeV]')\n",
    "ax[0].set_ylabel('Count')\n",
    "ax[0].legend()\n",
    "\n",
    "ax[1].set_ylabel(r'Ratio $S/B_C$')\n",
    "\n",
    "plt.show()"
   ]
  },
  {
   "cell_type": "code",
   "execution_count": null,
   "metadata": {},
   "outputs": [],
   "source": [
    "# plt.close('all')"
   ]
  },
  {
   "cell_type": "code",
   "execution_count": null,
   "metadata": {},
   "outputs": [],
   "source": []
  },
  {
   "cell_type": "code",
   "execution_count": null,
   "metadata": {},
   "outputs": [],
   "source": []
  },
  {
   "cell_type": "code",
   "execution_count": null,
   "metadata": {},
   "outputs": [],
   "source": [
    "combos7.create_pairs(tag)\n",
    "# combos7.create_pairs(tag)"
   ]
  },
  {
   "cell_type": "code",
   "execution_count": null,
   "metadata": {},
   "outputs": [],
   "source": [
    "combos7.pair_features.shape"
   ]
  },
  {
   "cell_type": "code",
   "execution_count": null,
   "metadata": {},
   "outputs": [],
   "source": [
    "combos7.apply_2j_model('20210817_4btag_req')"
   ]
  },
  {
   "cell_type": "code",
   "execution_count": null,
   "metadata": {},
   "outputs": [],
   "source": [
    "combos7.scores_pairs[:,0]"
   ]
  },
  {
   "cell_type": "code",
   "execution_count": null,
   "metadata": {},
   "outputs": [],
   "source": [
    "combos7.pair_target"
   ]
  },
  {
   "cell_type": "code",
   "execution_count": null,
   "metadata": {},
   "outputs": [],
   "source": [
    "combos7.select_highest_scoring_pairs()"
   ]
  },
  {
   "cell_type": "code",
   "execution_count": null,
   "metadata": {},
   "outputs": [],
   "source": [
    "# np.savez(\"../../inputs_2jet_train.npz\", inputs=combos7.pair_features, targets=combos7.pair_target)"
   ]
  },
  {
   "cell_type": "code",
   "execution_count": null,
   "metadata": {},
   "outputs": [],
   "source": [
    "# pairs = pairs_2j(combos7)"
   ]
  },
  {
   "cell_type": "code",
   "execution_count": null,
   "metadata": {},
   "outputs": [],
   "source": [
    "len(combos7.all3Higgs_mask[combos7.all3Higgs_mask > 0])/len(combos7.all3Higgs_mask)"
   ]
  },
  {
   "cell_type": "code",
   "execution_count": null,
   "metadata": {},
   "outputs": [],
   "source": [
    "combos7.pair_target[combos7.pair_target > -1]"
   ]
  },
  {
   "cell_type": "code",
   "execution_count": null,
   "metadata": {},
   "outputs": [],
   "source": [
    "from matplotlib import ticker"
   ]
  },
  {
   "cell_type": "code",
   "execution_count": null,
   "metadata": {},
   "outputs": [],
   "source": [
    "fig, axs = plt.subplots(nrows=1, ncols=2, figsize=(10,3))\n",
    "\n",
    "ax = axs[0]\n",
    "ax.set_title(r\"$^7C_6$ Combinations with Pairing, Normalized\", pad=10)\n",
    "\n",
    "bins = np.linspace(0,1.01,100)\n",
    "\n",
    "scores_2_noscorecut = combos7.scores_pairs[:,0]\n",
    "\n",
    "\n",
    "n_2_all, b_2_all, x_2_all = norm_hist(scores_2_noscorecut)\n",
    "c_2_all, b_2_all, x_2_all = norm_hist(scores_2_noscorecut[combos7.pair_target > -1])\n",
    "w_2_all, b_2_all, x_2_all = norm_hist(scores_2_noscorecut[combos7.pair_target == -1])\n",
    "\n",
    "hist(ax, x_2_all, weights=n_2_all, bins=b_2_all, label='All pairs')\n",
    "hist(ax, x_2_all, weights=c_2_all, bins=b_2_all, label='Correct pairs')\n",
    "hist(ax, x_2_all, weights=w_2_all, bins=b_2_all, label='Incorrect pairs')\n",
    "ax.legend(fontsize='small', loc=9)\n",
    "\n",
    "ax.set_xlabel('Assigned Score')\n",
    "ax.set_ylabel('AU')\n",
    "\n",
    "textstr = f'Entries = {len(scores_2_noscorecut)}'\n",
    "props = dict(boxstyle='round', facecolor='white', alpha=1)\n",
    "ax.text(0.8, 1.02, textstr, transform=ax.transAxes, fontsize=9,\n",
    "        verticalalignment='top', bbox=props)\n",
    "\n",
    "ax = axs[1]\n",
    "ax.set_title(r\"$^7C_6$ Combinations with Pairing\", pad=10)\n",
    "\n",
    "formatter = ticker.ScalarFormatter(useMathText=True)\n",
    "formatter.set_scientific(True) \n",
    "formatter.set_powerlimits((-1,1)) \n",
    "ax.yaxis.set_major_formatter(formatter) \n",
    "\n",
    "n_2_all, b_2_all = np.histogram(scores_2_noscorecut, bins=100)\n",
    "c_2_all, b_2_all = np.histogram(scores_2_noscorecut[combos7.pair_target > -1], bins=100)\n",
    "w_2_all, b_2_all = np.histogram(scores_2_noscorecut[combos7.pair_target == -1], bins=100)\n",
    "\n",
    "x_2_all = (b_2_all[1:] + b_2_all[:-1]) / 2\n",
    "\n",
    "# hist(ax, x_2_all, weights=n_2_all, bins=b_2_all, label='All 6-jet combos')\n",
    "hist(ax, x_2_all, weights=c_2_all, bins=b_2_all, label='Correct pairs')\n",
    "hist(ax, x_2_all, weights=w_2_all, bins=b_2_all, label='Incorrect pairs')\n",
    "ax.legend(fontsize='small', loc=9)\n",
    "\n",
    "ax.set_xlabel('Assigned Score')\n",
    "ax.set_ylabel('Number of Combinations Per Bin')\n",
    "\n",
    "textstr = f'Entries = {len(scores_2_noscorecut)}'\n",
    "props = dict(boxstyle='round', facecolor='white', alpha=1)\n",
    "ax.text(0.8, 1.02, textstr, transform=ax.transAxes, fontsize=9,\n",
    "        verticalalignment='top', bbox=props)\n",
    "\n",
    "ax.text(0.3, 0.25, f'Ratio correct/total above 0.8 = {100*sum(c_2_all[x_2_all > 0.8])/sum(n_2_all[x_2_all > 0.8]):.0f}%', transform=ax.transAxes)\n",
    "# ax.ticklabel_format(useMathText=True, useOffset=True)\n",
    "\n",
    "plt.tight_layout()\n",
    "plt.show()"
   ]
  },
  {
   "cell_type": "code",
   "execution_count": null,
   "metadata": {},
   "outputs": [],
   "source": [
    "fig, axs = plt.subplots(nrows=1, ncols=2, figsize=(10,3))\n",
    "\n",
    "ax = axs[0]\n",
    "ax.set_title(r\"$^7C_6$ Combinations with Pairing, Normalized\")\n",
    "\n",
    "bins = np.linspace(0,1.01,100)\n",
    "\n",
    "scores_2 = combos7.scores_pairs[:,0]\n",
    "\n",
    "\n",
    "n_7, b_7, x_7 = norm_hist(scores_2)\n",
    "c_n_7, b_7, x_7 = norm_hist(scores_2[combos7.pair_target > -1])\n",
    "w_n_7, b_7, x_7 = norm_hist(scores_2[combos7.pair_target == -1])\n",
    "\n",
    "# hist(ax, x_7, weights=n_7, bins=b_7, label='All pairs')\n",
    "hist(ax, x_7, weights=c_n_7, bins=b_7, label='Correct pairs')\n",
    "hist(ax, x_7, weights=w_n_7, bins=b_7, label='Incorrect pairs')\n",
    "ax.legend(fontsize='small', loc=9)\n",
    "\n",
    "ax.set_xlabel('Assigned Score')\n",
    "ax.set_ylabel('AU')\n",
    "\n",
    "textstr = f'Entries = {len(scores_2)}'\n",
    "props = dict(boxstyle='round', facecolor='white', alpha=1)\n",
    "ax.text(0.8, 1.02, textstr, transform=ax.transAxes, fontsize=9,\n",
    "        verticalalignment='top', bbox=props)\n",
    "\n",
    "ax = axs[1]\n",
    "ax.set_title(r\"$^7C_6$ Combinations with Pairing\")\n",
    "\n",
    "n_7, b_7 = np.histogram(scores_2, bins=100)\n",
    "c_n_7, b_7 = np.histogram(scores_2[combos7.pair_target > -1], bins=100)\n",
    "w_n_7, b_7 = np.histogram(scores_2[combos7.pair_target == -1], bins=100)\n",
    "\n",
    "x_7 = (b_7[1:] + b_7[:-1]) / 2\n",
    "\n",
    "# hist(ax, x_7, weights=n_7, bins=b_7, label='All 6-jet combos')\n",
    "hist(ax, x_7, weights=c_n_7, bins=b_7, label='Correct pairs')\n",
    "hist(ax, x_7, weights=w_n_7, bins=b_7, label='Incorrect pairs')\n",
    "ax.legend(fontsize='small', loc=9)\n",
    "\n",
    "ax.set_xlabel('Assigned Score')\n",
    "ax.set_ylabel('Number of Combinations Per Bin')\n",
    "\n",
    "textstr = f'Entries = {len(scores_2)}'\n",
    "props = dict(boxstyle='round', facecolor='white', alpha=1)\n",
    "ax.text(0.8, 1.02, textstr, transform=ax.transAxes, fontsize=9,\n",
    "        verticalalignment='top', bbox=props)\n",
    "\n",
    "ax.text(0.3, 50000, f'Ratio correct/total above 0.8 = {100*sum(c_n_7[x_7 > 0.8])/sum(n_7[x_7 > 0.8]):.0f}%')\n",
    "\n",
    "plt.tight_layout()\n",
    "plt.show()"
   ]
  },
  {
   "cell_type": "code",
   "execution_count": null,
   "metadata": {},
   "outputs": [],
   "source": []
  }
 ],
 "metadata": {
  "interpreter": {
   "hash": "1b7750746940cad55290eceb0294b409311577204cbc8d296288c7b6047f6ec1"
  },
  "kernelspec": {
   "display_name": "Python 3 (ipykernel)",
   "language": "python",
   "name": "python3"
  },
  "language_info": {
   "codemirror_mode": {
    "name": "ipython",
    "version": 3
   },
   "file_extension": ".py",
   "mimetype": "text/x-python",
   "name": "python",
   "nbconvert_exporter": "python",
   "pygments_lexer": "ipython3",
   "version": "3.8.8"
  },
  "widgets": {
   "application/vnd.jupyter.widget-state+json": {
    "state": {},
    "version_major": 2,
    "version_minor": 0
   }
  }
 },
 "nbformat": 4,
 "nbformat_minor": 4
}
