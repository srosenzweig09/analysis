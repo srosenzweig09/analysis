{
 "cells": [
  {
   "cell_type": "code",
   "execution_count": 2,
   "metadata": {},
   "outputs": [],
   "source": [
    "%load_ext autoreload\n",
    "%autoreload 2"
   ]
  },
  {
   "cell_type": "code",
   "execution_count": 3,
   "metadata": {},
   "outputs": [],
   "source": [
    "from trsm import TRSM, combos_6j#, pairs_2j"
   ]
  },
  {
   "cell_type": "code",
   "execution_count": 4,
   "metadata": {},
   "outputs": [
    {
     "data": {
      "text/plain": [
       "'/uscms_data/d3/srosenzw/workarea/higgs/sixb_analysis/CMSSW_10_2_18/src/sixb/6jet_classifier/analyzers'"
      ]
     },
     "execution_count": 4,
     "metadata": {},
     "output_type": "execute_result"
    }
   ],
   "source": [
    "import os\n",
    "os.getcwd()"
   ]
  },
  {
   "cell_type": "code",
   "execution_count": 5,
   "metadata": {},
   "outputs": [],
   "source": [
    "filename = f'../../NMSSM_XYH_YToHH_6b_MX_700_MY_400_6jet_testing_set.root'\n",
    "trsm_set = TRSM(filename=filename)"
   ]
  },
  {
   "cell_type": "code",
   "execution_count": 6,
   "metadata": {},
   "outputs": [],
   "source": [
    "tag = 'evans_preselections_2HL_v3_fixed-bug-no-6-jet-requirement'"
   ]
  },
  {
   "cell_type": "code",
   "execution_count": 7,
   "metadata": {},
   "outputs": [
    {
     "name": "stderr",
     "output_type": "stream",
     "text": [
      "100%|████████████████████████████████████████████████████████| 35309/35309 [01:17<00:00, 454.13it/s]\n"
     ]
    },
    {
     "name": "stdout",
     "output_type": "stream",
     "text": [
      "Total events chosen: 35309\n"
     ]
    }
   ],
   "source": [
    "combos7 = combos_6j(trsm_set, 7)"
   ]
  },
  {
   "cell_type": "code",
   "execution_count": 8,
   "metadata": {},
   "outputs": [
    {
     "name": "stderr",
     "output_type": "stream",
     "text": [
      "2021-08-10 14:35:37.642391: I tensorflow/core/platform/cpu_feature_guard.cc:142] This TensorFlow binary is optimized with oneAPI Deep Neural Network Library (oneDNN) to use the following CPU instructions in performance-critical operations:  SSE4.1 SSE4.2 AVX AVX2 FMA\n",
      "To enable them in other operations, rebuild TensorFlow with the appropriate compiler flags.\n",
      "2021-08-10 14:35:39.295157: I tensorflow/compiler/mlir/mlir_graph_optimization_pass.cc:176] None of the MLIR Optimization Passes are enabled (registered 2)\n",
      "2021-08-10 14:35:39.296923: I tensorflow/core/platform/profile_utils/cpu_utils.cc:114] CPU Frequency: 2000000000 Hz\n"
     ]
    }
   ],
   "source": [
    "combos7.apply_6j_model(tag)\n",
    "scores_7 = combos7.scores_combo"
   ]
  },
  {
   "cell_type": "code",
   "execution_count": 9,
   "metadata": {},
   "outputs": [],
   "source": [
    "combos7.create_pairs(tag)"
   ]
  },
  {
   "cell_type": "code",
   "execution_count": 10,
   "metadata": {},
   "outputs": [
    {
     "name": "stderr",
     "output_type": "stream",
     "text": [
      "[autoreload of trsm failed: Traceback (most recent call last):\n",
      "  File \"/uscms/home/srosenzw/nobackup/miniconda3/envs/work/lib/python3.8/site-packages/IPython/extensions/autoreload.py\", line 245, in check\n",
      "    superreload(m, reload, self.old_objects)\n",
      "  File \"/uscms/home/srosenzw/nobackup/miniconda3/envs/work/lib/python3.8/site-packages/IPython/extensions/autoreload.py\", line 394, in superreload\n",
      "    module = reload(module)\n",
      "  File \"/uscms/home/srosenzw/nobackup/miniconda3/envs/work/lib/python3.8/imp.py\", line 314, in reload\n",
      "    return importlib.reload(module)\n",
      "  File \"/uscms/home/srosenzw/nobackup/miniconda3/envs/work/lib/python3.8/importlib/__init__.py\", line 169, in reload\n",
      "    _bootstrap._exec(spec, module)\n",
      "  File \"<frozen importlib._bootstrap>\", line 604, in _exec\n",
      "  File \"<frozen importlib._bootstrap_external>\", line 779, in exec_module\n",
      "  File \"<frozen importlib._bootstrap_external>\", line 916, in get_code\n",
      "  File \"<frozen importlib._bootstrap_external>\", line 846, in source_to_code\n",
      "  File \"<frozen importlib._bootstrap>\", line 219, in _call_with_frames_removed\n",
      "  File \"/uscms/home/srosenzw/nobackup/modules/trsm.py\", line 223\n",
      "    class training_6j(TRSM):\n",
      "                           ^\n",
      "IndentationError: expected an indented block\n",
      "]\n"
     ]
    },
    {
     "data": {
      "text/plain": [
       "(3707445, 9)"
      ]
     },
     "execution_count": 10,
     "metadata": {},
     "output_type": "execute_result"
    }
   ],
   "source": [
    "combos7.pair_features.shape"
   ]
  },
  {
   "cell_type": "code",
   "execution_count": 11,
   "metadata": {},
   "outputs": [
    {
     "data": {
      "text/plain": [
       "array([-1, -1, -1, ..., -1, -1, -1])"
      ]
     },
     "execution_count": 11,
     "metadata": {},
     "output_type": "execute_result"
    }
   ],
   "source": [
    "combos7.pair_target"
   ]
  },
  {
   "cell_type": "code",
   "execution_count": 1,
   "metadata": {},
   "outputs": [],
   "source": [
    "import numpy as np"
   ]
  },
  {
   "cell_type": "code",
   "execution_count": 12,
   "metadata": {},
   "outputs": [
    {
     "ename": "AttributeError",
     "evalue": "'combos_6j' object has no attribute 'target'",
     "output_type": "error",
     "traceback": [
      "\u001b[0;31m---------------------------------------------------------------------------\u001b[0m",
      "\u001b[0;31mAttributeError\u001b[0m                            Traceback (most recent call last)",
      "\u001b[0;32m/tmp/ipykernel_29056/1471546768.py\u001b[0m in \u001b[0;36m<module>\u001b[0;34m\u001b[0m\n\u001b[0;32m----> 1\u001b[0;31m \u001b[0mnp\u001b[0m\u001b[0;34m.\u001b[0m\u001b[0msavez\u001b[0m\u001b[0;34m(\u001b[0m\u001b[0;34m\"../../inputs_2jet_train.npz\"\u001b[0m\u001b[0;34m,\u001b[0m \u001b[0minputs\u001b[0m\u001b[0;34m=\u001b[0m\u001b[0mcombos7\u001b[0m\u001b[0;34m.\u001b[0m\u001b[0mpair_features\u001b[0m\u001b[0;34m,\u001b[0m \u001b[0mtargets\u001b[0m\u001b[0;34m=\u001b[0m\u001b[0mcombos7\u001b[0m\u001b[0;34m.\u001b[0m\u001b[0mtarget\u001b[0m\u001b[0;34m)\u001b[0m\u001b[0;34m\u001b[0m\u001b[0;34m\u001b[0m\u001b[0m\n\u001b[0m",
      "\u001b[0;31mAttributeError\u001b[0m: 'combos_6j' object has no attribute 'target'"
     ]
    }
   ],
   "source": [
    "np.savez(\"../../inputs_2jet_train.npz\", inputs=combos7.pair_features, targets=combos7.target)"
   ]
  },
  {
   "cell_type": "code",
   "execution_count": 17,
   "metadata": {},
   "outputs": [
    {
     "data": {
      "text/plain": [
       "(array([3275495.,       0.,       0.,  148310.,       0.,       0.,\n",
       "         149100.,       0.,       0.,  134540.]),\n",
       " array([-1. , -0.7, -0.4, -0.1,  0.2,  0.5,  0.8,  1.1,  1.4,  1.7,  2. ]),\n",
       " [<matplotlib.patches.Polygon at 0x7f60b675bbb0>])"
      ]
     },
     "execution_count": 17,
     "metadata": {},
     "output_type": "execute_result"
    },
    {
     "data": {
      "image/png": "[encoded data removed]",
      "text/plain": [
       "<Figure size 432x288 with 1 Axes>"
      ]
     },
     "metadata": {
      "needs_background": "light"
     },
     "output_type": "display_data"
    }
   ],
   "source": [
    "plt.hist(combos7.pair_target, histtype='step')"
   ]
  },
  {
   "cell_type": "code",
   "execution_count": null,
   "metadata": {},
   "outputs": [],
   "source": [
    "# pairs = pairs_2j(combos7)"
   ]
  },
  {
   "cell_type": "code",
   "execution_count": 36,
   "metadata": {},
   "outputs": [],
   "source": [
    "import awkward as ak\n",
    "import numpy as np"
   ]
  },
  {
   "cell_type": "code",
   "execution_count": 37,
   "metadata": {},
   "outputs": [],
   "source": [
    "%matplotlib widget"
   ]
  },
  {
   "cell_type": "code",
   "execution_count": 15,
   "metadata": {},
   "outputs": [],
   "source": [
    "import matplotlib.pyplot as plt\n",
    "from consistent_plots import hist, hist2d"
   ]
  },
  {
   "cell_type": "code",
   "execution_count": 39,
   "metadata": {},
   "outputs": [
    {
     "data": {
      "text/plain": [
       "0.07617240444564922"
      ]
     },
     "execution_count": 39,
     "metadata": {},
     "output_type": "execute_result"
    }
   ],
   "source": [
    "np.sum(combos7.sgnl_mask)/len(combos7.sgnl_mask)"
   ]
  },
  {
   "cell_type": "code",
   "execution_count": 55,
   "metadata": {},
   "outputs": [
    {
     "data": {
      "text/plain": [
       "0.04536682270404551"
      ]
     },
     "execution_count": 55,
     "metadata": {},
     "output_type": "execute_result"
    }
   ],
   "source": [
    "np.sum(combos7.sgnl_mask[scores_7 > 0.8])/len(combos7.sgnl_mask)"
   ]
  },
  {
   "cell_type": "code",
   "execution_count": 41,
   "metadata": {},
   "outputs": [],
   "source": [
    "def norm_hist(arr, bins=100):\n",
    "    n, b = np.histogram(arr, bins=bins)\n",
    "    x = (b[:-1] + b[1:]) / 2\n",
    "    \n",
    "    return n/n.max(), b, x"
   ]
  },
  {
   "cell_type": "code",
   "execution_count": 42,
   "metadata": {},
   "outputs": [
    {
     "data": {
      "application/vnd.jupyter.widget-view+json": {
       "model_id": "eba87c6f4c514c21821618fc01c3ee99",
       "version_major": 2,
       "version_minor": 0
      },
      "text/plain": [
       "Canvas(toolbar=Toolbar(toolitems=[('Home', 'Reset original view', 'home', 'home'), ('Back', 'Back to previous …"
      ]
     },
     "metadata": {},
     "output_type": "display_data"
    }
   ],
   "source": [
    "fig, axs = plt.subplots(nrows=1, ncols=2, figsize=(10,3))\n",
    "\n",
    "ax = axs[0]\n",
    "ax.set_title(r\"$^7C_6$ Combinations Normalized\")\n",
    "\n",
    "n_7, b_7, x_7 = norm_hist(scores_7)\n",
    "c_n_7, b_7, x_7 = norm_hist(scores_7[combos7.sgnl_mask])\n",
    "w_n_7, b_7, x_7 = norm_hist(scores_7[~combos7.sgnl_mask])\n",
    "\n",
    "hist(ax, x_7, weights=n_7, bins=b_7, label='All 6-jet combos')\n",
    "hist(ax, x_7, weights=c_n_7, bins=b_7, label='Correct 6-jet combo')\n",
    "hist(ax, x_7, weights=w_n_7, bins=b_7, label='Incorrect 6-jet combo')\n",
    "ax.legend(fontsize='small', loc=9)\n",
    "\n",
    "ax.set_xlabel('Assigned Score')\n",
    "ax.set_ylabel('AU')\n",
    "\n",
    "textstr = f'Entries = {len(scores_7)}'\n",
    "props = dict(boxstyle='round', facecolor='white', alpha=1)\n",
    "ax.text(0.8, 1.02, textstr, transform=ax.transAxes, fontsize=9,\n",
    "        verticalalignment='top', bbox=props)\n",
    "\n",
    "ax = axs[1]\n",
    "ax.set_title(r\"$^7C_6$ Combinations\")\n",
    "\n",
    "n_7, b_7 = np.histogram(scores_7, bins=100)\n",
    "c_n_7, b_7 = np.histogram(scores_7[combos7.sgnl_mask], bins=100)\n",
    "w_n_7, b_7 = np.histogram(scores_7[~combos7.sgnl_mask], bins=100)\n",
    "\n",
    "x_7 = (b_7[1:] + b_7[:-1]) / 2\n",
    "\n",
    "hist(ax, x_7, weights=n_7, bins=b_7, label='All 6-jet combos')\n",
    "hist(ax, x_7, weights=c_n_7, bins=b_7, label='Correct 6-jet combo')\n",
    "hist(ax, x_7, weights=w_n_7, bins=b_7, label='Incorrect 6-jet combo')\n",
    "ax.legend(fontsize='small', loc=9)\n",
    "\n",
    "ax.set_xlabel('Assigned Score')\n",
    "ax.set_ylabel('Number of Combinations Per Bin')\n",
    "\n",
    "textstr = f'Entries = {len(scores_7)}'\n",
    "props = dict(boxstyle='round', facecolor='white', alpha=1)\n",
    "ax.text(0.8, 1.02, textstr, transform=ax.transAxes, fontsize=9,\n",
    "        verticalalignment='top', bbox=props)\n",
    "\n",
    "plt.tight_layout()\n",
    "plt.show()"
   ]
  },
  {
   "cell_type": "code",
   "execution_count": 43,
   "metadata": {},
   "outputs": [],
   "source": [
    "pt_7  = combos7.combo_features[:,0:6]\n",
    "eta_7 = combos7.combo_features[:,6:12]\n",
    "phi_7 = combos7.combo_features[:,12:18]\n",
    "m_7   = np.ones(pt_7.shape)*4"
   ]
  },
  {
   "cell_type": "code",
   "execution_count": 44,
   "metadata": {},
   "outputs": [],
   "source": [
    "import vector"
   ]
  },
  {
   "cell_type": "code",
   "execution_count": 45,
   "metadata": {},
   "outputs": [],
   "source": [
    "p4_7_0 = vector.obj(pt=pt_7[:,0], eta=eta_7[:,0], phi=phi_7[:,0], mass=m_7[:,0])\n",
    "p4_7_1 = vector.obj(pt=pt_7[:,1], eta=eta_7[:,1], phi=phi_7[:,1], mass=m_7[:,1])\n",
    "p4_7_2 = vector.obj(pt=pt_7[:,2], eta=eta_7[:,2], phi=phi_7[:,2], mass=m_7[:,2])\n",
    "p4_7_3 = vector.obj(pt=pt_7[:,3], eta=eta_7[:,3], phi=phi_7[:,3], mass=m_7[:,3])\n",
    "p4_7_4 = vector.obj(pt=pt_7[:,4], eta=eta_7[:,4], phi=phi_7[:,4], mass=m_7[:,4])\n",
    "p4_7_5 = vector.obj(pt=pt_7[:,5], eta=eta_7[:,5], phi=phi_7[:,5], mass=m_7[:,5])"
   ]
  },
  {
   "cell_type": "code",
   "execution_count": 46,
   "metadata": {},
   "outputs": [],
   "source": [
    "p4_7 = p4_7_0 + p4_7_1 + p4_7_2 + p4_7_3 + p4_7_4 + p4_7_5"
   ]
  },
  {
   "cell_type": "code",
   "execution_count": 47,
   "metadata": {},
   "outputs": [
    {
     "data": {
      "application/vnd.jupyter.widget-view+json": {
       "model_id": "8f743551775a4c7dbbd2155fe5ee6300",
       "version_major": 2,
       "version_minor": 0
      },
      "text/plain": [
       "Canvas(toolbar=Toolbar(toolitems=[('Home', 'Reset original view', 'home', 'home'), ('Back', 'Back to previous …"
      ]
     },
     "metadata": {},
     "output_type": "display_data"
    }
   ],
   "source": [
    "fig, ax = plt.subplots(nrows=1, ncols=2, figsize=(10,4))\n",
    "\n",
    "ax[0].set_title(\"Signal 7 Combos\")\n",
    "ax[1].set_title(\"Background 7 Combos\")\n",
    "\n",
    "n, xedges, yedges, ims = hist2d(ax[0], p4_7.mass[combos7.sgnl_mask], scores_7[combos7.sgnl_mask], xbins=np.linspace(400,900,100))\n",
    "n, xedges, yedges, imb = hist2d(ax[1], p4_7.mass[~combos7.sgnl_mask], scores_7[~combos7.sgnl_mask], xbins=np.linspace(0,2000,100))\n",
    "\n",
    "plt.colorbar(ims, ax=ax[0])\n",
    "plt.colorbar(imb, ax=ax[1])\n",
    "\n",
    "ax[0].set_xlabel('Invariant Mass of 6-jet System [GeV]')\n",
    "ax[1].set_xlabel('Invariant Mass of 6-jet System [GeV]')\n",
    "ax[0].set_ylabel('Assigned Score')\n",
    "ax[1].set_ylabel('Assigned Score')\n",
    "\n",
    "plt.show()"
   ]
  },
  {
   "cell_type": "code",
   "execution_count": 48,
   "metadata": {},
   "outputs": [],
   "source": [
    "score_bins = np.arange(0,1.01,0.01)"
   ]
  },
  {
   "cell_type": "code",
   "execution_count": 49,
   "metadata": {},
   "outputs": [],
   "source": [
    "eff_7 = np.array(())\n",
    "for i in score_bins:\n",
    "    eff_7 = np.append(eff_7, int(np.sum(scores_7[combos7.sgnl_mask] > i)/len(scores_7[combos7.sgnl_mask])*100))"
   ]
  },
  {
   "cell_type": "code",
   "execution_count": 50,
   "metadata": {},
   "outputs": [],
   "source": [
    "mistag_7 = np.array(())\n",
    "for i in score_bins:\n",
    "    mistag_7 = np.append(mistag_7, int(np.sum(scores_7[~combos7.sgnl_mask] > i)/len(scores_7[~combos7.sgnl_mask])*100))"
   ]
  },
  {
   "cell_type": "code",
   "execution_count": 51,
   "metadata": {},
   "outputs": [],
   "source": [
    "dx = mistag_7[:-1] - mistag_7[1:]"
   ]
  },
  {
   "cell_type": "code",
   "execution_count": 52,
   "metadata": {},
   "outputs": [],
   "source": [
    "height = eff_7[:-1] + eff_7[1:]"
   ]
  },
  {
   "cell_type": "code",
   "execution_count": 53,
   "metadata": {},
   "outputs": [],
   "source": [
    "area_trapezoid = height / 2 * dx"
   ]
  },
  {
   "cell_type": "code",
   "execution_count": 54,
   "metadata": {},
   "outputs": [],
   "source": [
    "auc = np.sum(area_trapezoid) / 100**2"
   ]
  },
  {
   "cell_type": "code",
   "execution_count": null,
   "metadata": {},
   "outputs": [],
   "source": [
    "# fig, axs = plt.subplots(nrows=1, ncols=2, figsize=(10,4))\n",
    "\n",
    "# ax = axs[0]\n",
    "# ax.set_title(r\"$^7C_6$ Combinations Efficiency Curve\")\n",
    "\n",
    "# ax.plot(score_bins, eff_7)\n",
    "# ax.set_ylabel('% Passing Signal')\n",
    "# ax.set_xlabel('Assigned Score Cut')\n",
    "\n",
    "# ax = axs[1]\n",
    "# ax.set_title(r\"$^7C_6$ Combinations Mistag Curve\")\n",
    "\n",
    "# ax.plot(score_bins, mistag_7)\n",
    "# ax.set_ylabel('% Passing Background')\n",
    "# ax.set_xlabel('Assigned Score Cut')"
   ]
  },
  {
   "cell_type": "code",
   "execution_count": 56,
   "metadata": {},
   "outputs": [
    {
     "data": {
      "application/vnd.jupyter.widget-view+json": {
       "model_id": "0a08eaf7862f41f49ca05c98853745b4",
       "version_major": 2,
       "version_minor": 0
      },
      "text/plain": [
       "Canvas(toolbar=Toolbar(toolitems=[('Home', 'Reset original view', 'home', 'home'), ('Back', 'Back to previous …"
      ]
     },
     "metadata": {},
     "output_type": "display_data"
    },
    {
     "data": {
      "text/plain": [
       "Text(0.75, 0.1, 'auc = 0.83555')"
      ]
     },
     "execution_count": 56,
     "metadata": {},
     "output_type": "execute_result"
    }
   ],
   "source": [
    "fig, ax = plt.subplots()\n",
    "ax.set_title(r\"$^7C_6$ Combinations ROC\")\n",
    "\n",
    "ax.plot(mistag_7, eff_7)\n",
    "# ax.scatter(mistag_7[::10], eff_7[::10], s=20, color='orange')\n",
    "ax.set_ylabel('True Positives %')\n",
    "ax.set_xlabel('False Positives %')\n",
    "\n",
    "n = np.around(np.arange(0,1.1,0.1), 1)\n",
    "for i, txt in enumerate(n):\n",
    "    ax.plot([mistag_7[i*10], mistag_7[i*10]], [0, eff_7[i*10]], alpha=0.3, color='k', lw=1)\n",
    "    ax.plot([0, mistag_7[i*10]], [eff_7[i*10], eff_7[i*10]], alpha=0.3, color='k', lw=1)\n",
    "    ax.annotate(txt, (0, eff_7[i*10]), fontsize=8)\n",
    "    ax.annotate(eff_7[i*10], (10, eff_7[i*10]), fontsize=8)\n",
    "\n",
    "props = dict(boxstyle='round', facecolor='white', alpha=0.5)\n",
    "ax.text(0.75, 0.1, f\"auc = {auc}\", transform=ax.transAxes, bbox=props)"
   ]
  },
  {
   "cell_type": "code",
   "execution_count": null,
   "metadata": {},
   "outputs": [],
   "source": []
  },
  {
   "cell_type": "code",
   "execution_count": 59,
   "metadata": {},
   "outputs": [
    {
     "data": {
      "application/vnd.jupyter.widget-view+json": {
       "model_id": "c0df843a9e6846b192101e903098f106",
       "version_major": 2,
       "version_minor": 0
      },
      "text/plain": [
       "Canvas(toolbar=Toolbar(toolitems=[('Home', 'Reset original view', 'home', 'home'), ('Back', 'Back to previous …"
      ]
     },
     "metadata": {},
     "output_type": "display_data"
    }
   ],
   "source": [
    "fig, ax = plt.subplots(nrows=1, ncols=2, figsize=(10,4))\n",
    "\n",
    "ax[0].set_title(\"Signal 7 Combos\")\n",
    "ax[1].set_title(\"Background 7 Combos\")\n",
    "\n",
    "n, b, _ = hist(ax[0], p4_7.mass[combos7.sgnl_mask], bins=np.linspace(400,900,100), label='No cut', color='limegreen')\n",
    "n, b, _ = hist(ax[0], p4_7.mass[combos7.sgnl_mask][scores_7[combos7.sgnl_mask] > 0.8], bins=np.linspace(400,900,100), label='score > 0.8', color='darkgreen')\n",
    "n, b, _ = hist(ax[1], p4_7.mass[~combos7.sgnl_mask], bins=np.linspace(400,900,100), label='No cut', color='lightcoral')\n",
    "n, b, _ = hist(ax[1], p4_7.mass[~combos7.sgnl_mask][scores_7[~combos7.sgnl_mask] > 0.8], bins=np.linspace(400,900,100), label='score > 0.8', color='maroon')\n",
    "# n, xedges, yedges, imb = hist2d(ax[1], p4_7.mass[~combos7.sgnl_mask], scores_7[~combos7.sgnl_mask], xbins=np.linspace(0,2000,100))\n",
    "\n",
    "\n",
    "ax[0].set_xlabel('Invariant Mass of 6-jet System [GeV]')\n",
    "ax[1].set_xlabel('Invariant Mass of 6-jet System [GeV]')\n",
    "ax[0].set_ylabel('Count')\n",
    "ax[1].set_ylabel('Count')\n",
    "ax[0].legend()\n",
    "ax[1].legend()\n",
    "\n",
    "plt.show()"
   ]
  },
  {
   "cell_type": "code",
   "execution_count": 60,
   "metadata": {},
   "outputs": [
    {
     "data": {
      "application/vnd.jupyter.widget-view+json": {
       "model_id": "9416e104aab845a39e6dab6d51ca35f5",
       "version_major": 2,
       "version_minor": 0
      },
      "text/plain": [
       "Canvas(toolbar=Toolbar(toolitems=[('Home', 'Reset original view', 'home', 'home'), ('Back', 'Back to previous …"
      ]
     },
     "metadata": {},
     "output_type": "display_data"
    }
   ],
   "source": [
    "fig, ax = plt.subplots(nrows=2, ncols=1, figsize=(6,5), sharex=True, gridspec_kw={'height_ratios':[3,1]})\n",
    "\n",
    "ns, b, _ = hist(ax[0], p4_7.mass[combos7.sgnl_mask][scores_7[combos7.sgnl_mask] > 0.8], bins=np.linspace(400,900,100), label='sgnl score > 0.8', color='darkgreen')\n",
    "nb, b, _ = hist(ax[0], p4_7.mass[~combos7.sgnl_mask][scores_7[~combos7.sgnl_mask] > 0.8], bins=np.linspace(400,900,100), label='bkgd score > 0.8', color='maroon')\n",
    "# n, xedges, yedges, imb = hist2d(ax[1], p4_7.mass[~combos7.sgnl_mask], scores_7[~combos7.sgnl_mask], xbins=np.linspace(0,2000,100))\n",
    "\n",
    "x = (b[1:] + b[:-1])/2\n",
    "\n",
    "ax[1].plot(x, ns/nb)\n",
    "ax[1].plot(x, np.ones_like(x), '--k', alpha=0.2)\n",
    "\n",
    "ax[1].set_xlabel('Invariant Mass of 6-jet System [GeV]')\n",
    "ax[0].set_ylabel('Count')\n",
    "ax[0].legend()\n",
    "\n",
    "ax[1].set_ylabel(r'Ratio $S/B_C$')\n",
    "\n",
    "plt.show()"
   ]
  },
  {
   "cell_type": "code",
   "execution_count": 61,
   "metadata": {},
   "outputs": [],
   "source": [
    "# plt.close('all')"
   ]
  },
  {
   "cell_type": "code",
   "execution_count": null,
   "metadata": {},
   "outputs": [],
   "source": []
  }
 ],
 "metadata": {
  "interpreter": {
   "hash": "1b7750746940cad55290eceb0294b409311577204cbc8d296288c7b6047f6ec1"
  },
  "kernelspec": {
   "display_name": "Python 3 (ipykernel)",
   "language": "python",
   "name": "python3"
  },
  "language_info": {
   "codemirror_mode": {
    "name": "ipython",
    "version": 3
   },
   "file_extension": ".py",
   "mimetype": "text/x-python",
   "name": "python",
   "nbconvert_exporter": "python",
   "pygments_lexer": "ipython3",
   "version": "3.8.8"
  },
  "widgets": {
   "application/vnd.jupyter.widget-state+json": {
    "state": {
     "007c81aa12bc4ac6866bb16cc2f12ec1": {
      "model_module": "@jupyter-widgets/base",
      "model_module_version": "1.2.0",
      "model_name": "LayoutModel",
      "state": {}
     },
     "04e9748e10e94cd8b6b3993a67dc3746": {
      "model_module": "@jupyter-widgets/base",
      "model_module_version": "1.2.0",
      "model_name": "LayoutModel",
      "state": {}
     },
     "0b7a09139115491da0e194fb7fa9ae80": {
      "model_module": "jupyter-matplotlib",
      "model_module_version": "^0.8.3",
      "model_name": "ToolbarModel",
      "state": {
       "layout": "IPY_MODEL_2d21485e6696439eac27e917da542e40",
       "toolitems": [
        [
         "Home",
         "Reset original view",
         "home",
         "home"
        ],
        [
         "Back",
         "Back to previous view",
         "arrow-left",
         "back"
        ],
        [
         "Forward",
         "Forward to next view",
         "arrow-right",
         "forward"
        ],
        [
         "Pan",
         "Left button pans, Right button zooms\nx/y fixes axis, CTRL fixes aspect",
         "arrows",
         "pan"
        ],
        [
         "Zoom",
         "Zoom to rectangle\nx/y fixes axis, CTRL fixes aspect",
         "square-o",
         "zoom"
        ],
        [
         "Download",
         "Download plot",
         "floppy-o",
         "save_figure"
        ]
       ]
      }
     },
     "11b9963ec46b4b83b27152b8e7f01a3a": {
      "model_module": "jupyter-matplotlib",
      "model_module_version": "^0.8.3",
      "model_name": "MPLCanvasModel",
      "state": {
       "_cursor": "default",
       "_figure_label": "Figure 3",
       "_height": 480,
       "_image_mode": "diff",
       "_width": 640,
       "layout": "IPY_MODEL_d17e6333c9524cecbe0cf01b8416b0af",
       "toolbar": "IPY_MODEL_0b7a09139115491da0e194fb7fa9ae80",
       "toolbar_position": "left"
      }
     },
     "18673ca32b204769b293dc5576ce7fdb": {
      "model_module": "jupyter-matplotlib",
      "model_module_version": "^0.8.3",
      "model_name": "ToolbarModel",
      "state": {
       "layout": "IPY_MODEL_69d524aeb92342ebad76a438f709b479",
       "toolitems": [
        [
         "Home",
         "Reset original view",
         "home",
         "home"
        ],
        [
         "Back",
         "Back to previous view",
         "arrow-left",
         "back"
        ],
        [
         "Forward",
         "Forward to next view",
         "arrow-right",
         "forward"
        ],
        [
         "Pan",
         "Left button pans, Right button zooms\nx/y fixes axis, CTRL fixes aspect",
         "arrows",
         "pan"
        ],
        [
         "Zoom",
         "Zoom to rectangle\nx/y fixes axis, CTRL fixes aspect",
         "square-o",
         "zoom"
        ],
        [
         "Download",
         "Download plot",
         "floppy-o",
         "save_figure"
        ]
       ]
      }
     },
     "18f142e751aa42d089c899eb9949f29d": {
      "model_module": "@jupyter-widgets/base",
      "model_module_version": "1.2.0",
      "model_name": "LayoutModel",
      "state": {}
     },
     "19acd5aa33314d3b8a546ab5443b83e0": {
      "model_module": "jupyter-matplotlib",
      "model_module_version": "^0.8.3",
      "model_name": "ToolbarModel",
      "state": {
       "layout": "IPY_MODEL_5f3ad5e97d8245399ff40dfde44c6724",
       "toolitems": [
        [
         "Home",
         "Reset original view",
         "home",
         "home"
        ],
        [
         "Back",
         "Back to previous view",
         "arrow-left",
         "back"
        ],
        [
         "Forward",
         "Forward to next view",
         "arrow-right",
         "forward"
        ],
        [
         "Pan",
         "Left button pans, Right button zooms\nx/y fixes axis, CTRL fixes aspect",
         "arrows",
         "pan"
        ],
        [
         "Zoom",
         "Zoom to rectangle\nx/y fixes axis, CTRL fixes aspect",
         "square-o",
         "zoom"
        ],
        [
         "Download",
         "Download plot",
         "floppy-o",
         "save_figure"
        ]
       ]
      }
     },
     "2b0842f7d70d49d0809432158890c849": {
      "model_module": "@jupyter-widgets/base",
      "model_module_version": "1.2.0",
      "model_name": "LayoutModel",
      "state": {}
     },
     "2ba6d2fbc178410b865f7d8d8ee17b6f": {
      "model_module": "@jupyter-widgets/base",
      "model_module_version": "1.2.0",
      "model_name": "LayoutModel",
      "state": {}
     },
     "2d21485e6696439eac27e917da542e40": {
      "model_module": "@jupyter-widgets/base",
      "model_module_version": "1.2.0",
      "model_name": "LayoutModel",
      "state": {}
     },
     "3729c4004f634cfe86be22de6dca680e": {
      "model_module": "@jupyter-widgets/base",
      "model_module_version": "1.2.0",
      "model_name": "LayoutModel",
      "state": {}
     },
     "3a02f421d8b9476fb8dd8340b10abd33": {
      "model_module": "jupyter-matplotlib",
      "model_module_version": "^0.8.3",
      "model_name": "ToolbarModel",
      "state": {
       "layout": "IPY_MODEL_d033e90f459a4814be96824ce04bd030",
       "toolitems": [
        [
         "Home",
         "Reset original view",
         "home",
         "home"
        ],
        [
         "Back",
         "Back to previous view",
         "arrow-left",
         "back"
        ],
        [
         "Forward",
         "Forward to next view",
         "arrow-right",
         "forward"
        ],
        [
         "Pan",
         "Left button pans, Right button zooms\nx/y fixes axis, CTRL fixes aspect",
         "arrows",
         "pan"
        ],
        [
         "Zoom",
         "Zoom to rectangle\nx/y fixes axis, CTRL fixes aspect",
         "square-o",
         "zoom"
        ],
        [
         "Download",
         "Download plot",
         "floppy-o",
         "save_figure"
        ]
       ]
      }
     },
     "3c6aa2542fec4d8cada40501726fb437": {
      "model_module": "@jupyter-widgets/base",
      "model_module_version": "1.2.0",
      "model_name": "LayoutModel",
      "state": {}
     },
     "470e63835d3349208fa351d622f1d81c": {
      "model_module": "@jupyter-widgets/base",
      "model_module_version": "1.2.0",
      "model_name": "LayoutModel",
      "state": {}
     },
     "48794f3f9d8e4eab991896a784d6cd78": {
      "model_module": "@jupyter-widgets/base",
      "model_module_version": "1.2.0",
      "model_name": "LayoutModel",
      "state": {}
     },
     "50fe1a1d42bf4303ae7d895cd28a4d60": {
      "model_module": "@jupyter-widgets/base",
      "model_module_version": "1.2.0",
      "model_name": "LayoutModel",
      "state": {}
     },
     "5262befd7af54d97873dba41068d9ad9": {
      "model_module": "jupyter-matplotlib",
      "model_module_version": "^0.8.3",
      "model_name": "ToolbarModel",
      "state": {
       "layout": "IPY_MODEL_007c81aa12bc4ac6866bb16cc2f12ec1",
       "toolitems": [
        [
         "Home",
         "Reset original view",
         "home",
         "home"
        ],
        [
         "Back",
         "Back to previous view",
         "arrow-left",
         "back"
        ],
        [
         "Forward",
         "Forward to next view",
         "arrow-right",
         "forward"
        ],
        [
         "Pan",
         "Left button pans, Right button zooms\nx/y fixes axis, CTRL fixes aspect",
         "arrows",
         "pan"
        ],
        [
         "Zoom",
         "Zoom to rectangle\nx/y fixes axis, CTRL fixes aspect",
         "square-o",
         "zoom"
        ],
        [
         "Download",
         "Download plot",
         "floppy-o",
         "save_figure"
        ]
       ]
      }
     },
     "5a4a6d7dbcc44101a3c5552815db58d0": {
      "model_module": "jupyter-matplotlib",
      "model_module_version": "^0.8.3",
      "model_name": "MPLCanvasModel",
      "state": {
       "_cursor": "default",
       "_figure_label": "Figure 7",
       "_height": 400,
       "_width": 1000,
       "layout": "IPY_MODEL_92e942af9d6d43b6ac9d4322c1f5a21a",
       "toolbar": "IPY_MODEL_78643ea4080f413aae8b9dcfeb5745b7",
       "toolbar_position": "left"
      }
     },
     "5e9eb192288f44caa0e34c947e2e60ae": {
      "model_module": "jupyter-matplotlib",
      "model_module_version": "^0.8.3",
      "model_name": "MPLCanvasModel",
      "state": {
       "_cursor": "default",
       "_figure_label": "Figure 5",
       "_height": 480,
       "_image_mode": "diff",
       "_message": "x=11.6 y=94.5",
       "_width": 640,
       "layout": "IPY_MODEL_470e63835d3349208fa351d622f1d81c",
       "toolbar": "IPY_MODEL_d9369eccb5074d79bfd7e7359396a1c9",
       "toolbar_position": "left"
      }
     },
     "5f3ad5e97d8245399ff40dfde44c6724": {
      "model_module": "@jupyter-widgets/base",
      "model_module_version": "1.2.0",
      "model_name": "LayoutModel",
      "state": {}
     },
     "5fb10fb3c3744d1ebc4610faef949658": {
      "model_module": "jupyter-matplotlib",
      "model_module_version": "^0.8.3",
      "model_name": "ToolbarModel",
      "state": {
       "layout": "IPY_MODEL_48794f3f9d8e4eab991896a784d6cd78",
       "toolitems": [
        [
         "Home",
         "Reset original view",
         "home",
         "home"
        ],
        [
         "Back",
         "Back to previous view",
         "arrow-left",
         "back"
        ],
        [
         "Forward",
         "Forward to next view",
         "arrow-right",
         "forward"
        ],
        [
         "Pan",
         "Left button pans, Right button zooms\nx/y fixes axis, CTRL fixes aspect",
         "arrows",
         "pan"
        ],
        [
         "Zoom",
         "Zoom to rectangle\nx/y fixes axis, CTRL fixes aspect",
         "square-o",
         "zoom"
        ],
        [
         "Download",
         "Download plot",
         "floppy-o",
         "save_figure"
        ]
       ]
      }
     },
     "602a861baad84508b5a7d602febcee86": {
      "model_module": "jupyter-matplotlib",
      "model_module_version": "^0.8.3",
      "model_name": "MPLCanvasModel",
      "state": {
       "_cursor": "default",
       "_figure_label": "Figure 6",
       "_height": 300,
       "_width": 1000,
       "layout": "IPY_MODEL_9f5d380dbffb421b9cd89b380aa772e0",
       "toolbar": "IPY_MODEL_19acd5aa33314d3b8a546ab5443b83e0",
       "toolbar_position": "left"
      }
     },
     "67f521ef3679465c86af6358413e14f5": {
      "model_module": "@jupyter-widgets/base",
      "model_module_version": "1.2.0",
      "model_name": "LayoutModel",
      "state": {}
     },
     "69c7d8ab76ec45239247ab7b4c162cf4": {
      "model_module": "jupyter-matplotlib",
      "model_module_version": "^0.8.3",
      "model_name": "ToolbarModel",
      "state": {
       "layout": "IPY_MODEL_50fe1a1d42bf4303ae7d895cd28a4d60",
       "toolitems": [
        [
         "Home",
         "Reset original view",
         "home",
         "home"
        ],
        [
         "Back",
         "Back to previous view",
         "arrow-left",
         "back"
        ],
        [
         "Forward",
         "Forward to next view",
         "arrow-right",
         "forward"
        ],
        [
         "Pan",
         "Left button pans, Right button zooms\nx/y fixes axis, CTRL fixes aspect",
         "arrows",
         "pan"
        ],
        [
         "Zoom",
         "Zoom to rectangle\nx/y fixes axis, CTRL fixes aspect",
         "square-o",
         "zoom"
        ],
        [
         "Download",
         "Download plot",
         "floppy-o",
         "save_figure"
        ]
       ]
      }
     },
     "69d524aeb92342ebad76a438f709b479": {
      "model_module": "@jupyter-widgets/base",
      "model_module_version": "1.2.0",
      "model_name": "LayoutModel",
      "state": {}
     },
     "7214eb483b1d479ba853eaba5471853d": {
      "model_module": "@jupyter-widgets/base",
      "model_module_version": "1.2.0",
      "model_name": "LayoutModel",
      "state": {}
     },
     "772c2e64c3034ca585813eaf1dc6e72a": {
      "model_module": "jupyter-matplotlib",
      "model_module_version": "^0.8.3",
      "model_name": "ToolbarModel",
      "state": {
       "layout": "IPY_MODEL_7aed99db67fb4515bdc2c4d775ce576f",
       "toolitems": [
        [
         "Home",
         "Reset original view",
         "home",
         "home"
        ],
        [
         "Back",
         "Back to previous view",
         "arrow-left",
         "back"
        ],
        [
         "Forward",
         "Forward to next view",
         "arrow-right",
         "forward"
        ],
        [
         "Pan",
         "Left button pans, Right button zooms\nx/y fixes axis, CTRL fixes aspect",
         "arrows",
         "pan"
        ],
        [
         "Zoom",
         "Zoom to rectangle\nx/y fixes axis, CTRL fixes aspect",
         "square-o",
         "zoom"
        ],
        [
         "Download",
         "Download plot",
         "floppy-o",
         "save_figure"
        ]
       ]
      }
     },
     "78643ea4080f413aae8b9dcfeb5745b7": {
      "model_module": "jupyter-matplotlib",
      "model_module_version": "^0.8.3",
      "model_name": "ToolbarModel",
      "state": {
       "layout": "IPY_MODEL_2b0842f7d70d49d0809432158890c849",
       "toolitems": [
        [
         "Home",
         "Reset original view",
         "home",
         "home"
        ],
        [
         "Back",
         "Back to previous view",
         "arrow-left",
         "back"
        ],
        [
         "Forward",
         "Forward to next view",
         "arrow-right",
         "forward"
        ],
        [
         "Pan",
         "Left button pans, Right button zooms\nx/y fixes axis, CTRL fixes aspect",
         "arrows",
         "pan"
        ],
        [
         "Zoom",
         "Zoom to rectangle\nx/y fixes axis, CTRL fixes aspect",
         "square-o",
         "zoom"
        ],
        [
         "Download",
         "Download plot",
         "floppy-o",
         "save_figure"
        ]
       ]
      }
     },
     "78ad5d7c0b2942acb06358e800f966c6": {
      "model_module": "jupyter-matplotlib",
      "model_module_version": "^0.8.3",
      "model_name": "MPLCanvasModel",
      "state": {
       "_cursor": "default",
       "_figure_label": "Figure 1",
       "_height": 300,
       "_image_mode": "diff",
       "_message": "x=0.204 y=0.479",
       "_width": 1000,
       "layout": "IPY_MODEL_04e9748e10e94cd8b6b3993a67dc3746",
       "toolbar": "IPY_MODEL_5262befd7af54d97873dba41068d9ad9",
       "toolbar_position": "left"
      }
     },
     "7aed99db67fb4515bdc2c4d775ce576f": {
      "model_module": "@jupyter-widgets/base",
      "model_module_version": "1.2.0",
      "model_name": "LayoutModel",
      "state": {}
     },
     "8a9cebc13dc24669938f99527a094769": {
      "model_module": "jupyter-matplotlib",
      "model_module_version": "^0.8.3",
      "model_name": "MPLCanvasModel",
      "state": {
       "_cursor": "default",
       "_figure_label": "Figure 11",
       "_height": 400,
       "_message": "x=1.034 y=25.4",
       "_width": 1000,
       "layout": "IPY_MODEL_67f521ef3679465c86af6358413e14f5",
       "toolbar": "IPY_MODEL_5fb10fb3c3744d1ebc4610faef949658",
       "toolbar_position": "left"
      }
     },
     "8d86214ebf2748f695dd33045f663064": {
      "model_module": "jupyter-matplotlib",
      "model_module_version": "^0.8.3",
      "model_name": "MPLCanvasModel",
      "state": {
       "_cursor": "default",
       "_figure_label": "Figure 9",
       "_height": 480,
       "_width": 640,
       "layout": "IPY_MODEL_7214eb483b1d479ba853eaba5471853d",
       "toolbar": "IPY_MODEL_18673ca32b204769b293dc5576ce7fdb",
       "toolbar_position": "left"
      }
     },
     "8f2d89379f7f45dcbce231412a2aafda": {
      "model_module": "jupyter-matplotlib",
      "model_module_version": "^0.8.3",
      "model_name": "MPLCanvasModel",
      "state": {
       "_cursor": "default",
       "_figure_label": "Figure 10",
       "_height": 480,
       "_message": "x=31.4 y=4.0",
       "_width": 640,
       "layout": "IPY_MODEL_d25d5072b34b4fcc9763f87e53ccdb87",
       "toolbar": "IPY_MODEL_3a02f421d8b9476fb8dd8340b10abd33",
       "toolbar_position": "left"
      }
     },
     "92e942af9d6d43b6ac9d4322c1f5a21a": {
      "model_module": "@jupyter-widgets/base",
      "model_module_version": "1.2.0",
      "model_name": "LayoutModel",
      "state": {}
     },
     "96c6e86c3493451fbae5b92ce9fafee1": {
      "model_module": "jupyter-matplotlib",
      "model_module_version": "^0.8.3",
      "model_name": "ToolbarModel",
      "state": {
       "layout": "IPY_MODEL_3729c4004f634cfe86be22de6dca680e",
       "toolitems": [
        [
         "Home",
         "Reset original view",
         "home",
         "home"
        ],
        [
         "Back",
         "Back to previous view",
         "arrow-left",
         "back"
        ],
        [
         "Forward",
         "Forward to next view",
         "arrow-right",
         "forward"
        ],
        [
         "Pan",
         "Left button pans, Right button zooms\nx/y fixes axis, CTRL fixes aspect",
         "arrows",
         "pan"
        ],
        [
         "Zoom",
         "Zoom to rectangle\nx/y fixes axis, CTRL fixes aspect",
         "square-o",
         "zoom"
        ],
        [
         "Download",
         "Download plot",
         "floppy-o",
         "save_figure"
        ]
       ]
      }
     },
     "9a8a8530265047348b4528b072181865": {
      "model_module": "@jupyter-widgets/base",
      "model_module_version": "1.2.0",
      "model_name": "LayoutModel",
      "state": {}
     },
     "9ebadfb6431a4360824b1166ad062692": {
      "model_module": "jupyter-matplotlib",
      "model_module_version": "^0.8.3",
      "model_name": "MPLCanvasModel",
      "state": {
       "_cursor": "default",
       "_figure_label": "Figure 2",
       "_height": 400,
       "_image_mode": "diff",
       "_message": "x=457. y=0.094",
       "_width": 1000,
       "layout": "IPY_MODEL_18f142e751aa42d089c899eb9949f29d",
       "toolbar": "IPY_MODEL_772c2e64c3034ca585813eaf1dc6e72a",
       "toolbar_position": "left"
      }
     },
     "9f5d380dbffb421b9cd89b380aa772e0": {
      "model_module": "@jupyter-widgets/base",
      "model_module_version": "1.2.0",
      "model_name": "LayoutModel",
      "state": {}
     },
     "a758f404d3194aacab8add84582d1951": {
      "model_module": "jupyter-matplotlib",
      "model_module_version": "^0.8.3",
      "model_name": "MPLCanvasModel",
      "state": {
       "_cursor": "default",
       "_figure_label": "Figure 4",
       "_height": 480,
       "_image_mode": "diff",
       "_width": 640,
       "layout": "IPY_MODEL_3c6aa2542fec4d8cada40501726fb437",
       "toolbar": "IPY_MODEL_96c6e86c3493451fbae5b92ce9fafee1",
       "toolbar_position": "left"
      }
     },
     "c3e6952da5604c3e9cd8818c20902acc": {
      "model_module": "jupyter-matplotlib",
      "model_module_version": "^0.8.3",
      "model_name": "MPLCanvasModel",
      "state": {
       "_cursor": "default",
       "_figure_label": "Figure 8",
       "_height": 480,
       "_width": 640,
       "layout": "IPY_MODEL_9a8a8530265047348b4528b072181865",
       "toolbar": "IPY_MODEL_69c7d8ab76ec45239247ab7b4c162cf4",
       "toolbar_position": "left"
      }
     },
     "d033e90f459a4814be96824ce04bd030": {
      "model_module": "@jupyter-widgets/base",
      "model_module_version": "1.2.0",
      "model_name": "LayoutModel",
      "state": {}
     },
     "d17e6333c9524cecbe0cf01b8416b0af": {
      "model_module": "@jupyter-widgets/base",
      "model_module_version": "1.2.0",
      "model_name": "LayoutModel",
      "state": {}
     },
     "d25d5072b34b4fcc9763f87e53ccdb87": {
      "model_module": "@jupyter-widgets/base",
      "model_module_version": "1.2.0",
      "model_name": "LayoutModel",
      "state": {}
     },
     "d9369eccb5074d79bfd7e7359396a1c9": {
      "model_module": "jupyter-matplotlib",
      "model_module_version": "^0.8.3",
      "model_name": "ToolbarModel",
      "state": {
       "layout": "IPY_MODEL_2ba6d2fbc178410b865f7d8d8ee17b6f",
       "toolitems": [
        [
         "Home",
         "Reset original view",
         "home",
         "home"
        ],
        [
         "Back",
         "Back to previous view",
         "arrow-left",
         "back"
        ],
        [
         "Forward",
         "Forward to next view",
         "arrow-right",
         "forward"
        ],
        [
         "Pan",
         "Left button pans, Right button zooms\nx/y fixes axis, CTRL fixes aspect",
         "arrows",
         "pan"
        ],
        [
         "Zoom",
         "Zoom to rectangle\nx/y fixes axis, CTRL fixes aspect",
         "square-o",
         "zoom"
        ],
        [
         "Download",
         "Download plot",
         "floppy-o",
         "save_figure"
        ]
       ]
      }
     }
    },
    "version_major": 2,
    "version_minor": 0
   }
  }
 },
 "nbformat": 4,
 "nbformat_minor": 4
}
