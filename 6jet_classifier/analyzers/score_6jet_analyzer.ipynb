{
 "cells": [
  {
   "cell_type": "markdown",
   "metadata": {},
   "source": [
    "# 6b-Model and 2b-Model Application\n",
    "\n",
    "This notebook is used to analyze the performance of the 6b-Model and 2b-Model on selected simulated events.\n",
    "\n",
    "`TRSM` is a custom module created to handle the desired events."
   ]
  },
  {
   "cell_type": "code",
   "execution_count": 1,
   "metadata": {},
   "outputs": [],
   "source": [
    "# Allow for automatic reload of modules (useful for development)\n",
    "%load_ext autoreload\n",
    "%autoreload 2"
   ]
  },
  {
   "cell_type": "code",
   "execution_count": 2,
   "metadata": {},
   "outputs": [],
   "source": [
    "from trsm import TRSM, combos_6j"
   ]
  },
  {
   "cell_type": "code",
   "execution_count": 3,
   "metadata": {},
   "outputs": [],
   "source": [
    "import numpy as np\n",
    "import awkward as ak"
   ]
  },
  {
   "cell_type": "code",
   "execution_count": 4,
   "metadata": {},
   "outputs": [],
   "source": [
    "%matplotlib widget\n",
    "import matplotlib.pyplot as plt\n",
    "from consistent_plots import hist, hist2d"
   ]
  },
  {
   "cell_type": "markdown",
   "metadata": {},
   "source": [
    "## Load events, apply model\n",
    "\n",
    "Load file, apply TRSM module, create six-jet combinations, apply 6b-Model to assign scores to combinations in events"
   ]
  },
  {
   "cell_type": "code",
   "execution_count": 5,
   "metadata": {},
   "outputs": [],
   "source": [
    "filename6 = '../../NMSSM_XYH_YToHH_6b_MX_700_MY_400_6jet_testing_set_6jets_2021Aug.root'\n",
    "filename7 = '../../NMSSM_XYH_YToHH_6b_MX_700_MY_400_6jet_testing_set_7jets_2021Aug.root'\n",
    "filename8 = '../../NMSSM_XYH_YToHH_6b_MX_700_MY_400_6jet_testing_set_8jets_2021Aug.root'"
   ]
  },
  {
   "cell_type": "code",
   "execution_count": 6,
   "metadata": {},
   "outputs": [],
   "source": [
    "trsm7 = TRSM(filename=filename7)"
   ]
  },
  {
   "cell_type": "code",
   "execution_count": null,
   "metadata": {},
   "outputs": [],
   "source": [
    "trsm8 = TRSM(filename=filename8)"
   ]
  },
  {
   "cell_type": "code",
   "execution_count": 7,
   "metadata": {},
   "outputs": [],
   "source": [
    "tag = '20210816_5btag_req'"
   ]
  },
  {
   "cell_type": "code",
   "execution_count": 8,
   "metadata": {},
   "outputs": [
    {
     "name": "stderr",
     "output_type": "stream",
     "text": [
      "100%|██████████████████████████████████████████████████████| 129355/129355 [04:02<00:00, 532.37it/s]\n"
     ]
    },
    {
     "name": "stdout",
     "output_type": "stream",
     "text": [
      "Total events chosen: 129355\n"
     ]
    }
   ],
   "source": [
    "combos7 = combos_6j(trsm7, 7)"
   ]
  },
  {
   "cell_type": "code",
   "execution_count": null,
   "metadata": {},
   "outputs": [
    {
     "name": "stderr",
     "output_type": "stream",
     "text": [
      "100%|████████████████████████████████████████████████████████| 87382/87382 [06:21<00:00, 228.93it/s]\n"
     ]
    }
   ],
   "source": [
    "combos8 = combos_6j(trsm8, 8)"
   ]
  },
  {
   "cell_type": "code",
   "execution_count": 9,
   "metadata": {},
   "outputs": [
    {
     "name": "stdout",
     "output_type": "stream",
     "text": [
      "Applying 6b Model to combinations. Please wait.\n"
     ]
    },
    {
     "name": "stderr",
     "output_type": "stream",
     "text": [
      "2021-08-19 09:12:30.262833: I tensorflow/core/platform/cpu_feature_guard.cc:142] This TensorFlow binary is optimized with oneAPI Deep Neural Network Library (oneDNN) to use the following CPU instructions in performance-critical operations:  SSE4.1 SSE4.2 AVX AVX2 FMA\n",
      "To enable them in other operations, rebuild TensorFlow with the appropriate compiler flags.\n",
      "2021-08-19 09:12:33.536002: I tensorflow/compiler/mlir/mlir_graph_optimization_pass.cc:176] None of the MLIR Optimization Passes are enabled (registered 2)\n",
      "2021-08-19 09:12:33.541534: I tensorflow/core/platform/profile_utils/cpu_utils.cc:114] CPU Frequency: 2000000000 Hz\n"
     ]
    },
    {
     "name": "stdout",
     "output_type": "stream",
     "text": [
      "Selecting highest scoring combination from each event.\n"
     ]
    },
    {
     "name": "stderr",
     "output_type": "stream",
     "text": [
      "100%|██████████████████████████████████████████████████████| 129355/129355 [16:39<00:00, 129.45it/s]\n"
     ]
    }
   ],
   "source": [
    "combos7.apply_6j_model(tag)"
   ]
  },
  {
   "cell_type": "code",
   "execution_count": 10,
   "metadata": {},
   "outputs": [],
   "source": [
    "scores7 = combos7.scores_combo"
   ]
  },
  {
   "cell_type": "code",
   "execution_count": null,
   "metadata": {},
   "outputs": [],
   "source": [
    "combos8.apply_6j_model(tag)\n",
    "scores8 = combos8.scores_combo"
   ]
  },
  {
   "cell_type": "markdown",
   "metadata": {},
   "source": [
    "## Event Selection\n",
    "\n",
    "The 6b-Model is used to assign scores to six-jet combinations in each event to determine which six-jet combination is the most likely to be the correct combination, i.e. the combination that contains all six signal b jets. Events are separated into two categories: events that contain a correct combination (not necessarily assigned the highest score, but the combination exists in the event) and events that do not contain a correct combination (none of th combinations in the event are the correct combination, so all events *should* be assigned a low score)."
   ]
  },
  {
   "cell_type": "code",
   "execution_count": 19,
   "metadata": {},
   "outputs": [
    {
     "name": "stdout",
     "output_type": "stream",
     "text": [
      "35 % of all events contain signal combos\n",
      "80 % of events containing signal combo assigned highest score to signal combo\n",
      "42 % of events removed by applying score cut 0.8\n",
      "50 % of events above score cut 0.8 contain signal combo\n",
      "42 % of events above score cut 0.8 contain signal combo assigned highest score\n"
     ]
    }
   ],
   "source": [
    "combos7.get_stats(0.8)"
   ]
  },
  {
   "cell_type": "code",
   "execution_count": 29,
   "metadata": {},
   "outputs": [
    {
     "name": "stdout",
     "output_type": "stream",
     "text": [
      "41% of all events contain signal combos\n",
      "68% of events containing signal combo assigned highest score to signal combo\n",
      "28% of events removed by applying score cut 0.8\n",
      "50% of events above score cut 0.8 contain signal combo\n",
      "36% of events above score cut 0.8 contain signal combo assigned highest score\n"
     ]
    }
   ],
   "source": [
    "combos8.get_stats(0.8)"
   ]
  },
  {
   "cell_type": "markdown",
   "metadata": {},
   "source": [
    "## Score Distribution by Event\n",
    "Represents combinations with highest score from each event"
   ]
  },
  {
   "cell_type": "code",
   "execution_count": 27,
   "metadata": {},
   "outputs": [],
   "source": [
    "from trsm import plot_highest_score, plot_combo_scores"
   ]
  },
  {
   "cell_type": "code",
   "execution_count": 26,
   "metadata": {},
   "outputs": [
    {
     "data": {
      "application/vnd.jupyter.widget-view+json": {
       "model_id": "8386892bcbc545cb941ac0ef6b09d92a",
       "version_major": 2,
       "version_minor": 0
      },
      "text/plain": [
       "Canvas(toolbar=Toolbar(toolitems=[('Home', 'Reset original view', 'home', 'home'), ('Back', 'Back to previous …"
      ]
     },
     "metadata": {},
     "output_type": "display_data"
    }
   ],
   "source": [
    "fig, ax = plot_highest_score(combos7)"
   ]
  },
  {
   "cell_type": "markdown",
   "metadata": {},
   "source": [
    "## Score Distribution by Combination"
   ]
  },
  {
   "cell_type": "code",
   "execution_count": 33,
   "metadata": {},
   "outputs": [
    {
     "data": {
      "application/vnd.jupyter.widget-view+json": {
       "model_id": "e6df22a6ae77468b89a2b2797e4056b0",
       "version_major": 2,
       "version_minor": 0
      },
      "text/plain": [
       "Canvas(toolbar=Toolbar(toolitems=[('Home', 'Reset original view', 'home', 'home'), ('Back', 'Back to previous …"
      ]
     },
     "metadata": {},
     "output_type": "display_data"
    }
   ],
   "source": [
    "fig, ax = plot_combo_scores(combos7)"
   ]
  },
  {
   "cell_type": "code",
   "execution_count": 71,
   "metadata": {},
   "outputs": [],
   "source": [
    "import vector"
   ]
  },
  {
   "cell_type": "code",
   "execution_count": 44,
   "metadata": {},
   "outputs": [],
   "source": [
    "combo7_m = ak.to_numpy(combos7.sixjet_p4.mass)\n",
    "combo7_m = combo7_p4.reshape(combo7_p4.shape[0])"
   ]
  },
  {
   "cell_type": "code",
   "execution_count": 47,
   "metadata": {},
   "outputs": [],
   "source": [
    "from trsm import plot_combo_score_v_mass"
   ]
  },
  {
   "cell_type": "code",
   "execution_count": 50,
   "metadata": {},
   "outputs": [
    {
     "data": {
      "application/vnd.jupyter.widget-view+json": {
       "model_id": "4a793d6f1e644f00bea6ac75c835953c",
       "version_major": 2,
       "version_minor": 0
      },
      "text/plain": [
       "Canvas(toolbar=Toolbar(toolitems=[('Home', 'Reset original view', 'home', 'home'), ('Back', 'Back to previous …"
      ]
     },
     "metadata": {},
     "output_type": "display_data"
    }
   ],
   "source": [
    "fig, ax = plot_combo_score_v_mass(combos7)"
   ]
  },
  {
   "cell_type": "code",
   "execution_count": 52,
   "metadata": {},
   "outputs": [],
   "source": [
    "from trsm import plot_highest_score_v_mass"
   ]
  },
  {
   "cell_type": "code",
   "execution_count": 58,
   "metadata": {},
   "outputs": [
    {
     "data": {
      "application/vnd.jupyter.widget-view+json": {
       "model_id": "3436249d47a94de083f7bcecc5a639f1",
       "version_major": 2,
       "version_minor": 0
      },
      "text/plain": [
       "Canvas(toolbar=Toolbar(toolitems=[('Home', 'Reset original view', 'home', 'home'), ('Back', 'Back to previous …"
      ]
     },
     "metadata": {},
     "output_type": "display_data"
    }
   ],
   "source": [
    "fig, ax = plot_highest_score_v_mass(combos7)"
   ]
  },
  {
   "cell_type": "code",
   "execution_count": 13,
   "metadata": {},
   "outputs": [],
   "source": [
    "score_bins = np.arange(0,1.01,0.01)"
   ]
  },
  {
   "cell_type": "code",
   "execution_count": 16,
   "metadata": {},
   "outputs": [
    {
     "name": "stderr",
     "output_type": "stream",
     "text": [
      "/tmp/ipykernel_3973/1492528895.py:37: RuntimeWarning: invalid value encountered in long_scalars\n",
      "  tpr, fpr, prec, rec, f1 = calculate_confusion_matrix()\n"
     ]
    }
   ],
   "source": [
    "from numba import jit\n",
    "\n",
    "@jit(forceobj=True)\n",
    "def calculate_confusion_matrix(forceobj=True):\n",
    "    tpr_arr = []\n",
    "    fpr_arr = []\n",
    "    prec_arr = []\n",
    "    recall_arr = []\n",
    "    for i in score_bins:\n",
    "        true_pos  = np.sum(scores7[combos7.signal_mask] > i)\n",
    "        false_pos = np.sum(scores7[~combos7.signal_mask] > i)\n",
    "        true_neg  = np.sum(scores7[~combos7.signal_mask] <= i)\n",
    "        false_neg = np.sum(scores7[combos7.signal_mask] <= i)\n",
    "        \n",
    "        tpr = true_pos / (true_pos + false_neg) * 100\n",
    "        fpr = false_pos / (false_pos + true_neg) * 100\n",
    "        \n",
    "        tpr_arr.append(tpr)\n",
    "        fpr_arr.append(fpr)\n",
    "        \n",
    "        precision = true_pos / (true_pos + false_pos)\n",
    "        recall = true_pos / (true_pos + false_neg)\n",
    "        \n",
    "        prec_arr.append(precision)\n",
    "        recall_arr.append(recall)\n",
    "        \n",
    "        \n",
    "    tpr = np.asarray(tpr_arr)\n",
    "    fpr = np.asarray(fpr_arr)\n",
    "    precision = np.asarray(prec_arr)\n",
    "    recall = np.asarray(recall_arr)\n",
    "    \n",
    "    f1_score = 2 * precision * recall / (precision + recall)\n",
    "    \n",
    "    return tpr, fpr, precision, recall, f1_score\n",
    "    \n",
    "tpr, fpr, prec, rec, f1 = calculate_confusion_matrix()"
   ]
  },
  {
   "cell_type": "code",
   "execution_count": 17,
   "metadata": {},
   "outputs": [],
   "source": [
    "auc = round(np.sum( (tpr[:-1] + tpr[1:]) / 2 * (fpr[:-1] - fpr[1:]) ) / 100, 3)"
   ]
  },
  {
   "cell_type": "markdown",
   "metadata": {},
   "source": [
    "F1 is harmonic mean of precision and recall"
   ]
  },
  {
   "cell_type": "code",
   "execution_count": 64,
   "metadata": {},
   "outputs": [],
   "source": [
    "# fig, ax = plt.subplots()\n",
    "# ax.set_title(r\"$^7C_6$ Combinations ROC\")\n",
    "\n",
    "# ax.plot(score_bins, prec, label='precision')\n",
    "# ax.plot(score_bins, rec, label='recall')\n",
    "# ax.plot(score_bins, f1, label='F1')\n",
    "\n",
    "# ax.legend()\n",
    "# ax.set_xlabel('Score Threshold')"
   ]
  },
  {
   "cell_type": "code",
   "execution_count": 29,
   "metadata": {},
   "outputs": [
    {
     "data": {
      "application/vnd.jupyter.widget-view+json": {
       "model_id": "c19baa1e3d6b4b69bf9885b6dd54e165",
       "version_major": 2,
       "version_minor": 0
      },
      "text/plain": [
       "Canvas(toolbar=Toolbar(toolitems=[('Home', 'Reset original view', 'home', 'home'), ('Back', 'Back to previous …"
      ]
     },
     "metadata": {},
     "output_type": "display_data"
    },
    {
     "data": {
      "text/plain": [
       "Text(0.5, 0, 'Score Threshold')"
      ]
     },
     "execution_count": 29,
     "metadata": {},
     "output_type": "execute_result"
    }
   ],
   "source": [
    "fig, ax = plt.subplots()\n",
    "ax.set_title(r\"$^7C_6$ Combinations ROC\")\n",
    "\n",
    "y = np.sqrt(tpr/100*(1-fpr/100))\n",
    "\n",
    "ax.plot(score_bins, y)\n",
    "ax.set_ylabel('G-Mean')\n",
    "ax.set_xlabel('Score Threshold')"
   ]
  },
  {
   "cell_type": "code",
   "execution_count": 18,
   "metadata": {},
   "outputs": [
    {
     "data": {
      "application/vnd.jupyter.widget-view+json": {
       "model_id": "3042b0d867ab438a96ea2ff6169b2fbd",
       "version_major": 2,
       "version_minor": 0
      },
      "text/plain": [
       "Canvas(toolbar=Toolbar(toolitems=[('Home', 'Reset original view', 'home', 'home'), ('Back', 'Back to previous …"
      ]
     },
     "metadata": {},
     "output_type": "display_data"
    }
   ],
   "source": [
    "fig, ax = plt.subplots()\n",
    "ax.set_title(r\"$^7C_6$ Combinations ROC\")\n",
    "\n",
    "ax.plot(fpr, tpr)\n",
    "# ax.scatter(fpr[::10], tpr[::10], s=6, color='orange')\n",
    "ax.set_ylabel('True Positives %')\n",
    "ax.set_xlabel('False Positives %')\n",
    "\n",
    "props = dict(boxstyle='round', facecolor='white', alpha=0.5)\n",
    "ax.text(0.75, 0.1, f\"auc = {auc}%\", transform=ax.transAxes, bbox=props)\n",
    "\n",
    "fig.savefig('roc.pdf')"
   ]
  },
  {
   "cell_type": "code",
   "execution_count": 31,
   "metadata": {},
   "outputs": [
    {
     "data": {
      "application/vnd.jupyter.widget-view+json": {
       "model_id": "7df635cbd49a4c5db814f73440b5a315",
       "version_major": 2,
       "version_minor": 0
      },
      "text/plain": [
       "Canvas(toolbar=Toolbar(toolitems=[('Home', 'Reset original view', 'home', 'home'), ('Back', 'Back to previous …"
      ]
     },
     "metadata": {},
     "output_type": "display_data"
    }
   ],
   "source": [
    "fig, ax = plt.subplots(nrows=1, ncols=1, figsize=(9,5))\n",
    "\n",
    "n, b, _ = hist(ax, p4_7.mass[combos7.signal_mask], bins=np.linspace(400,900,100), label='Correct Combinations', color='limegreen')\n",
    "n, b, _ = hist(ax, p4_7.mass[~combos7.signal_mask], bins=np.linspace(400,900,100), label='Incorrect Combinations', color='lightcoral')\n",
    "\n",
    "\n",
    "ax.set_xlabel('Invariant Mass of 6-jet System [GeV]')\n",
    "ax.set_ylabel('Count')\n",
    "ax.legend(loc=2)\n",
    "\n",
    "fig.savefig('inv_mass_after_score_cut.pdf')\n",
    "\n",
    "plt.show()"
   ]
  },
  {
   "cell_type": "code",
   "execution_count": 32,
   "metadata": {},
   "outputs": [
    {
     "data": {
      "text/plain": [
       "129355"
      ]
     },
     "execution_count": 32,
     "metadata": {},
     "output_type": "execute_result"
    }
   ],
   "source": [
    "len(evt_score_mask)"
   ]
  },
  {
   "cell_type": "code",
   "execution_count": 33,
   "metadata": {},
   "outputs": [
    {
     "data": {
      "application/vnd.jupyter.widget-view+json": {
       "model_id": "719ba1f7eac74af2a00914a1f6662225",
       "version_major": 2,
       "version_minor": 0
      },
      "text/plain": [
       "Canvas(toolbar=Toolbar(toolitems=[('Home', 'Reset original view', 'home', 'home'), ('Back', 'Back to previous …"
      ]
     },
     "metadata": {},
     "output_type": "display_data"
    }
   ],
   "source": [
    "fig, ax = plt.subplots(nrows=1, ncols=1, figsize=(9,5))\n",
    "\n",
    "n, b, _ = hist(ax, p4_7.mass[evt_score_mask][sgnl_evt], bins=np.linspace(400,900,100), label='Correct Highest Score', color='limegreen')\n",
    "n, b, _ = hist(ax, p4_7.mass[evt_score_mask][~sgnl_evt], bins=np.linspace(400,900,100), label='Incorrect Highest Score', color='lightcoral')\n",
    "\n",
    "\n",
    "ax.set_xlabel('Invariant Mass of 6-jet System [GeV]')\n",
    "ax.set_ylabel('Count')\n",
    "ax.legend(loc=2)\n",
    "\n",
    "fig.savefig('inv_mass_after_score_cut.pdf')\n",
    "\n",
    "plt.show()"
   ]
  },
  {
   "cell_type": "code",
   "execution_count": 35,
   "metadata": {},
   "outputs": [
    {
     "data": {
      "application/vnd.jupyter.widget-view+json": {
       "model_id": "5ea53dbf787e4bf59afa3000586432de",
       "version_major": 2,
       "version_minor": 0
      },
      "text/plain": [
       "Canvas(toolbar=Toolbar(toolitems=[('Home', 'Reset original view', 'home', 'home'), ('Back', 'Back to previous …"
      ]
     },
     "metadata": {},
     "output_type": "display_data"
    }
   ],
   "source": [
    "fig, ax = plt.subplots(nrows=1, ncols=1, figsize=(9,5))\n",
    "\n",
    "score_cut_mask = evt_high_score > 0.8\n",
    "sgnl_score_cut = sgnl_evt & score_cut_mask\n",
    "bkgd_score_cut = (~sgnl_evt) & score_cut_mask\n",
    "\n",
    "n, b, _ = hist(ax, p4_7.mass[evt_score_mask][sgnl_score_cut], bins=np.linspace(400,900,100), label='Correct Highest Score > 0.8', color='limegreen')\n",
    "n, b, _ = hist(ax, p4_7.mass[evt_score_mask][bkgd_score_cut], bins=np.linspace(400,900,100), label='Incorrect Highest Score > 0.8', color='lightcoral')\n",
    "\n",
    "\n",
    "ax.set_xlabel('Invariant Mass of 6-jet System [GeV]')\n",
    "ax.set_ylabel('Count')\n",
    "ax.legend(loc=2)\n",
    "\n",
    "fig.savefig('inv_mass_after_score_cut.pdf')\n",
    "\n",
    "plt.show()"
   ]
  },
  {
   "cell_type": "code",
   "execution_count": 62,
   "metadata": {},
   "outputs": [],
   "source": [
    "# fig, ax = plt.subplots(nrows=1, ncols=2, figsize=(10,4))\n",
    "\n",
    "# ax[0].set_title(\"Correct Combos\")\n",
    "# ax[1].set_title(\"Incorrect Combos\")\n",
    "\n",
    "# n, b, _ = hist(ax[0], p4_7.mass[combos7.signal_mask], bins=np.linspace(400,900,100), label='No cut', color='limegreen')\n",
    "# n, b, _ = hist(ax[0], p4_7.mass[combos7.signal_mask][scores_7[combos7.signal_mask] > 0.8], bins=np.linspace(400,900,100), label='score > 0.8', color='darkgreen')\n",
    "# n, b, _ = hist(ax[1], p4_7.mass[~combos7.signal_mask], bins=np.linspace(400,900,100), label='No cut', color='lightcoral')\n",
    "# n, b, _ = hist(ax[1], p4_7.mass[~combos7.signal_mask][scores_7[~combos7.signal_mask] > 0.8], bins=np.linspace(400,900,100), label='score > 0.8', color='maroon')\n",
    "# # n, xedges, yedges, imb = hist2d(ax[1], p4_7.mass[~combos7.signal_mask], scores_7[~combos7.signal_mask], xbins=np.linspace(0,2000,100))\n",
    "\n",
    "\n",
    "# ax[0].set_xlabel('Invariant Mass of 6-jet System [GeV]')\n",
    "# ax[1].set_xlabel('Invariant Mass of 6-jet System [GeV]')\n",
    "# ax[0].set_ylabel('Count')\n",
    "# ax[1].set_ylabel('Count')\n",
    "# ax[0].legend()\n",
    "# ax[1].legend()\n",
    "\n",
    "# fig.savefig('inv_mass_postscorecut.pdf')\n",
    "\n",
    "# plt.show()"
   ]
  },
  {
   "cell_type": "code",
   "execution_count": 63,
   "metadata": {},
   "outputs": [],
   "source": [
    "# fig, ax = plt.subplots(nrows=2, ncols=1, figsize=(6,5), sharex=True, gridspec_kw={'height_ratios':[3,1]})\n",
    "\n",
    "# ns, b, _ = hist(ax[0], p4_7.mass[combos7.signal_mask][scores_7[combos7.signal_mask] > 0.8], bins=np.linspace(400,900,100), label='sgnl score > 0.8', color='darkgreen')\n",
    "# nb, b, _ = hist(ax[0], p4_7.mass[~combos7.signal_mask][scores_7[~combos7.signal_mask] > 0.8], bins=np.linspace(400,900,100), label='bkgd score > 0.8', color='maroon')\n",
    "# # n, xedges, yedges, imb = hist2d(ax[1], p4_7.mass[~combos7.signal_mask], scores_7[~combos7.signal_mask], xbins=np.linspace(0,2000,100))\n",
    "\n",
    "# x = (b[1:] + b[:-1])/2\n",
    "\n",
    "# ax[1].plot(x, ns/nb)\n",
    "# ax[1].plot(x, np.ones_like(x), '--k', alpha=0.2)\n",
    "\n",
    "# ax[1].set_xlabel('Invariant Mass of 6-jet System [GeV]')\n",
    "# ax[0].set_ylabel('Count')\n",
    "# ax[0].legend()\n",
    "\n",
    "# ax[1].set_ylabel(r'Ratio $S/B_C$')\n",
    "\n",
    "# plt.show()"
   ]
  },
  {
   "cell_type": "code",
   "execution_count": 39,
   "metadata": {},
   "outputs": [],
   "source": [
    "# plt.close('all')"
   ]
  },
  {
   "cell_type": "code",
   "execution_count": null,
   "metadata": {},
   "outputs": [],
   "source": []
  },
  {
   "cell_type": "code",
   "execution_count": null,
   "metadata": {},
   "outputs": [],
   "source": []
  },
  {
   "cell_type": "code",
   "execution_count": 28,
   "metadata": {},
   "outputs": [
    {
     "name": "stderr",
     "output_type": "stream",
     "text": [
      "100%|██████████████████████████████████████████████████████| 129355/129355 [03:18<00:00, 652.62it/s]\n"
     ]
    }
   ],
   "source": [
    "combos7.create_pairs(tag)\n",
    "# combos7.create_pairs(tag)"
   ]
  },
  {
   "cell_type": "code",
   "execution_count": 41,
   "metadata": {},
   "outputs": [
    {
     "data": {
      "text/plain": [
       "(1940325, 9)"
      ]
     },
     "execution_count": 41,
     "metadata": {},
     "output_type": "execute_result"
    }
   ],
   "source": [
    "combos7.pair_features.shape"
   ]
  },
  {
   "cell_type": "code",
   "execution_count": 30,
   "metadata": {},
   "outputs": [
    {
     "name": "stdout",
     "output_type": "stream",
     "text": [
      "Applying 6b Model to combinations. Please wait.\n"
     ]
    },
    {
     "name": "stderr",
     "output_type": "stream",
     "text": [
      "100%|██████████████████████████████████████████████████████| 129355/129355 [21:14<00:00, 101.51it/s]\n"
     ]
    }
   ],
   "source": [
    "combos7.apply_2j_model('20210817_4btag_req')"
   ]
  },
  {
   "cell_type": "code",
   "execution_count": 31,
   "metadata": {},
   "outputs": [
    {
     "name": "stderr",
     "output_type": "stream",
     "text": [
      "100%|██████████████████████████████████████████████████████| 129355/129355 [20:47<00:00, 103.66it/s]\n"
     ]
    }
   ],
   "source": [
    "combos7.select_highest_scoring_pairs()"
   ]
  },
  {
   "cell_type": "code",
   "execution_count": 46,
   "metadata": {},
   "outputs": [],
   "source": [
    "# np.savez(\"../../inputs_2jet_train.npz\", inputs=combos7.pair_features, targets=combos7.pair_target)"
   ]
  },
  {
   "cell_type": "code",
   "execution_count": 47,
   "metadata": {},
   "outputs": [],
   "source": [
    "# pairs = pairs_2j(combos7)"
   ]
  },
  {
   "cell_type": "code",
   "execution_count": 48,
   "metadata": {},
   "outputs": [
    {
     "data": {
      "text/plain": [
       "0.28535425766302036"
      ]
     },
     "execution_count": 48,
     "metadata": {},
     "output_type": "execute_result"
    }
   ],
   "source": [
    "len(combos7.all3Higgs_mask[combos7.all3Higgs_mask > 0])/len(combos7.all3Higgs_mask)"
   ]
  },
  {
   "cell_type": "code",
   "execution_count": 49,
   "metadata": {},
   "outputs": [
    {
     "data": {
      "text/plain": [
       "array([0, 1, 1, ..., 2, 0, 1])"
      ]
     },
     "execution_count": 49,
     "metadata": {},
     "output_type": "execute_result"
    }
   ],
   "source": [
    "combos7.pair_target[combos7.pair_target > -1]"
   ]
  },
  {
   "cell_type": "code",
   "execution_count": 50,
   "metadata": {},
   "outputs": [],
   "source": [
    "from matplotlib import ticker"
   ]
  },
  {
   "cell_type": "code",
   "execution_count": 51,
   "metadata": {},
   "outputs": [
    {
     "data": {
      "application/vnd.jupyter.widget-view+json": {
       "model_id": "ddd1d6dc373a4bc7a7f05ff0336c570f",
       "version_major": 2,
       "version_minor": 0
      },
      "text/plain": [
       "Canvas(toolbar=Toolbar(toolitems=[('Home', 'Reset original view', 'home', 'home'), ('Back', 'Back to previous …"
      ]
     },
     "metadata": {},
     "output_type": "display_data"
    }
   ],
   "source": [
    "fig, axs = plt.subplots(nrows=1, ncols=2, figsize=(10,3))\n",
    "\n",
    "ax = axs[0]\n",
    "ax.set_title(r\"$^7C_6$ Combinations with Pairing, Normalized\", pad=10)\n",
    "\n",
    "bins = np.linspace(0,1.01,100)\n",
    "\n",
    "scores_2_noscorecut = combos7.scores_pairs[:,0]\n",
    "\n",
    "\n",
    "n_2_all, b_2_all, x_2_all = norm_hist(scores_2_noscorecut)\n",
    "c_2_all, b_2_all, x_2_all = norm_hist(scores_2_noscorecut[combos7.pair_target > -1])\n",
    "w_2_all, b_2_all, x_2_all = norm_hist(scores_2_noscorecut[combos7.pair_target == -1])\n",
    "\n",
    "hist(ax, x_2_all, weights=n_2_all, bins=b_2_all, label='All pairs')\n",
    "hist(ax, x_2_all, weights=c_2_all, bins=b_2_all, label='Correct pairs')\n",
    "hist(ax, x_2_all, weights=w_2_all, bins=b_2_all, label='Incorrect pairs')\n",
    "ax.legend(fontsize='small', loc=9)\n",
    "\n",
    "ax.set_xlabel('Assigned Score')\n",
    "ax.set_ylabel('AU')\n",
    "\n",
    "textstr = f'Entries = {len(scores_2_noscorecut)}'\n",
    "props = dict(boxstyle='round', facecolor='white', alpha=1)\n",
    "ax.text(0.8, 1.02, textstr, transform=ax.transAxes, fontsize=9,\n",
    "        verticalalignment='top', bbox=props)\n",
    "\n",
    "ax = axs[1]\n",
    "ax.set_title(r\"$^7C_6$ Combinations with Pairing\", pad=10)\n",
    "\n",
    "formatter = ticker.ScalarFormatter(useMathText=True)\n",
    "formatter.set_scientific(True) \n",
    "formatter.set_powerlimits((-1,1)) \n",
    "ax.yaxis.set_major_formatter(formatter) \n",
    "\n",
    "n_2_all, b_2_all = np.histogram(scores_2_noscorecut, bins=100)\n",
    "c_2_all, b_2_all = np.histogram(scores_2_noscorecut[combos7.pair_target > -1], bins=100)\n",
    "w_2_all, b_2_all = np.histogram(scores_2_noscorecut[combos7.pair_target == -1], bins=100)\n",
    "\n",
    "x_2_all = (b_2_all[1:] + b_2_all[:-1]) / 2\n",
    "\n",
    "# hist(ax, x_2_all, weights=n_2_all, bins=b_2_all, label='All 6-jet combos')\n",
    "hist(ax, x_2_all, weights=c_2_all, bins=b_2_all, label='Correct pairs')\n",
    "hist(ax, x_2_all, weights=w_2_all, bins=b_2_all, label='Incorrect pairs')\n",
    "ax.legend(fontsize='small', loc=9)\n",
    "\n",
    "ax.set_xlabel('Assigned Score')\n",
    "ax.set_ylabel('Number of Combinations Per Bin')\n",
    "\n",
    "textstr = f'Entries = {len(scores_2_noscorecut)}'\n",
    "props = dict(boxstyle='round', facecolor='white', alpha=1)\n",
    "ax.text(0.8, 1.02, textstr, transform=ax.transAxes, fontsize=9,\n",
    "        verticalalignment='top', bbox=props)\n",
    "\n",
    "ax.text(0.3, 0.25, f'Ratio correct/total above 0.8 = {100*sum(c_2_all[x_2_all > 0.8])/sum(n_2_all[x_2_all > 0.8]):.0f}%', transform=ax.transAxes)\n",
    "# ax.ticklabel_format(useMathText=True, useOffset=True)\n",
    "\n",
    "plt.tight_layout()\n",
    "plt.show()"
   ]
  },
  {
   "cell_type": "code",
   "execution_count": 52,
   "metadata": {},
   "outputs": [
    {
     "data": {
      "application/vnd.jupyter.widget-view+json": {
       "model_id": "8c98e47eb3c64f2db6715256ac66c00c",
       "version_major": 2,
       "version_minor": 0
      },
      "text/plain": [
       "Canvas(toolbar=Toolbar(toolitems=[('Home', 'Reset original view', 'home', 'home'), ('Back', 'Back to previous …"
      ]
     },
     "metadata": {},
     "output_type": "display_data"
    }
   ],
   "source": [
    "fig, axs = plt.subplots(nrows=1, ncols=2, figsize=(10,3))\n",
    "\n",
    "ax = axs[0]\n",
    "ax.set_title(r\"$^7C_6$ Combinations with Pairing, Normalized\")\n",
    "\n",
    "bins = np.linspace(0,1.01,100)\n",
    "\n",
    "scores_2 = combos7.scores_pairs[:,0]\n",
    "\n",
    "\n",
    "n_7, b_7, x_7 = norm_hist(scores_2)\n",
    "c_n_7, b_7, x_7 = norm_hist(scores_2[combos7.pair_target > -1])\n",
    "w_n_7, b_7, x_7 = norm_hist(scores_2[combos7.pair_target == -1])\n",
    "\n",
    "# hist(ax, x_7, weights=n_7, bins=b_7, label='All pairs')\n",
    "hist(ax, x_7, weights=c_n_7, bins=b_7, label='Correct pairs')\n",
    "hist(ax, x_7, weights=w_n_7, bins=b_7, label='Incorrect pairs')\n",
    "ax.legend(fontsize='small', loc=9)\n",
    "\n",
    "ax.set_xlabel('Assigned Score')\n",
    "ax.set_ylabel('AU')\n",
    "\n",
    "textstr = f'Entries = {len(scores_2)}'\n",
    "props = dict(boxstyle='round', facecolor='white', alpha=1)\n",
    "ax.text(0.8, 1.02, textstr, transform=ax.transAxes, fontsize=9,\n",
    "        verticalalignment='top', bbox=props)\n",
    "\n",
    "ax = axs[1]\n",
    "ax.set_title(r\"$^7C_6$ Combinations with Pairing\")\n",
    "\n",
    "n_7, b_7 = np.histogram(scores_2, bins=100)\n",
    "c_n_7, b_7 = np.histogram(scores_2[combos7.pair_target > -1], bins=100)\n",
    "w_n_7, b_7 = np.histogram(scores_2[combos7.pair_target == -1], bins=100)\n",
    "\n",
    "x_7 = (b_7[1:] + b_7[:-1]) / 2\n",
    "\n",
    "# hist(ax, x_7, weights=n_7, bins=b_7, label='All 6-jet combos')\n",
    "hist(ax, x_7, weights=c_n_7, bins=b_7, label='Correct pairs')\n",
    "hist(ax, x_7, weights=w_n_7, bins=b_7, label='Incorrect pairs')\n",
    "ax.legend(fontsize='small', loc=9)\n",
    "\n",
    "ax.set_xlabel('Assigned Score')\n",
    "ax.set_ylabel('Number of Combinations Per Bin')\n",
    "\n",
    "textstr = f'Entries = {len(scores_2)}'\n",
    "props = dict(boxstyle='round', facecolor='white', alpha=1)\n",
    "ax.text(0.8, 1.02, textstr, transform=ax.transAxes, fontsize=9,\n",
    "        verticalalignment='top', bbox=props)\n",
    "\n",
    "ax.text(0.3, 50000, f'Ratio correct/total above 0.8 = {100*sum(c_n_7[x_7 > 0.8])/sum(n_7[x_7 > 0.8]):.0f}%')\n",
    "\n",
    "plt.tight_layout()\n",
    "plt.show()"
   ]
  },
  {
   "cell_type": "code",
   "execution_count": null,
   "metadata": {},
   "outputs": [],
   "source": []
  }
 ],
 "metadata": {
  "interpreter": {
   "hash": "1b7750746940cad55290eceb0294b409311577204cbc8d296288c7b6047f6ec1"
  },
  "kernelspec": {
   "display_name": "Python 3 (ipykernel)",
   "language": "python",
   "name": "python3"
  },
  "language_info": {
   "codemirror_mode": {
    "name": "ipython",
    "version": 3
   },
   "file_extension": ".py",
   "mimetype": "text/x-python",
   "name": "python",
   "nbconvert_exporter": "python",
   "pygments_lexer": "ipython3",
   "version": "3.8.8"
  },
  "widgets": {
   "application/vnd.jupyter.widget-state+json": {
    "state": {},
    "version_major": 2,
    "version_minor": 0
   }
  }
 },
 "nbformat": 4,
 "nbformat_minor": 4
}
