{
 "cells": [
  {
   "cell_type": "code",
   "execution_count": 1,
   "metadata": {},
   "outputs": [],
   "source": [
    "%load_ext autoreload\n",
    "%autoreload 2"
   ]
  },
  {
   "cell_type": "code",
   "execution_count": 2,
   "metadata": {},
   "outputs": [],
   "source": [
    "from trsm import TRSM, combos_6j"
   ]
  },
  {
   "cell_type": "code",
   "execution_count": 3,
   "metadata": {},
   "outputs": [
    {
     "data": {
      "text/plain": [
       "'/uscms_data/d3/srosenzw/workarea/higgs/sixb_analysis/CMSSW_10_2_18/src/sixb/6jet_classifier/analyzers'"
      ]
     },
     "execution_count": 3,
     "metadata": {},
     "output_type": "execute_result"
    }
   ],
   "source": [
    "import os\n",
    "os.getcwd()"
   ]
  },
  {
   "cell_type": "code",
   "execution_count": 4,
   "metadata": {},
   "outputs": [],
   "source": [
    "import numpy as np\n",
    "import awkward as ak"
   ]
  },
  {
   "cell_type": "code",
   "execution_count": 5,
   "metadata": {},
   "outputs": [],
   "source": [
    "%matplotlib widget\n",
    "import matplotlib.pyplot as plt\n",
    "from consistent_plots import hist, hist2d"
   ]
  },
  {
   "cell_type": "code",
   "execution_count": 23,
   "metadata": {},
   "outputs": [],
   "source": [
    "# filename = 'root://cmseos.fnal.gov//eos/uscms/store/user/ekoenig/6BAnalysis/NTuples/2018/SR/QCD/QCD_bEnriched_HT300to500_TuneCP5_13TeV-madgraph-pythia8/ntuple.root'\n",
    "filename1 = '../../qcd.root'\n",
    "filename2 = '../../qcd_benriched.root'\n",
    "trsm_set1 = TRSM(filename=filename1)\n",
    "trsm_set2 = TRSM(filename=filename2)"
   ]
  },
  {
   "cell_type": "code",
   "execution_count": 45,
   "metadata": {},
   "outputs": [],
   "source": [
    "import uproot\n",
    "t1 = uproot.open(filename1 + \":sixBtree\")\n",
    "t2 = uproot.open(filename2 + \":sixBtree\")"
   ]
  },
  {
   "cell_type": "code",
   "execution_count": 77,
   "metadata": {},
   "outputs": [
    {
     "data": {
      "text/plain": [
       "4709"
      ]
     },
     "execution_count": 77,
     "metadata": {},
     "output_type": "execute_result"
    }
   ],
   "source": [
    "len(t1['X_m'].array())"
   ]
  },
  {
   "cell_type": "code",
   "execution_count": 78,
   "metadata": {},
   "outputs": [
    {
     "data": {
      "text/plain": [
       "17238"
      ]
     },
     "execution_count": 78,
     "metadata": {},
     "output_type": "execute_result"
    }
   ],
   "source": [
    "len(t2['X_m'].array())"
   ]
  },
  {
   "cell_type": "code",
   "execution_count": 17,
   "metadata": {},
   "outputs": [],
   "source": [
    "tag = '20210816_5btag_req'"
   ]
  },
  {
   "cell_type": "code",
   "execution_count": 43,
   "metadata": {},
   "outputs": [
    {
     "name": "stderr",
     "output_type": "stream",
     "text": [
      "100%|██████████████████████████████████████████████████████████| 1323/1323 [00:02<00:00, 514.81it/s]\n",
      "ic| combo_p4.pt: <Array [[345, 331, 156, ... 81.8, 50, 28.7]] type='9261 * var * float64'>\n",
      "ic| type(combo_p4.pt): <class 'awkward.highlevel.Array'>\n"
     ]
    },
    {
     "name": "stdout",
     "output_type": "stream",
     "text": [
      "Total events chosen: 1323\n"
     ]
    },
    {
     "name": "stderr",
     "output_type": "stream",
     "text": [
      "100%|██████████████████████████████████████████████████████████| 5159/5159 [00:10<00:00, 506.85it/s]\n",
      "ic| combo_p4.pt: <Array [[301, 141, 109, ... 50.1, 40.5, 32.2]] type='36113 * var * float64'>\n",
      "ic| type(combo_p4.pt): <class 'awkward.highlevel.Array'>\n"
     ]
    },
    {
     "name": "stdout",
     "output_type": "stream",
     "text": [
      "Total events chosen: 5159\n"
     ]
    }
   ],
   "source": [
    "combos7_qcd  = combos_6j(trsm_set1, 7)\n",
    "combos7_qcdb = combos_6j(trsm_set2, 7)\n",
    "\n",
    "# scale by total events passing over events in file times cross section, then add histograms together\n",
    "# can scale by chunks of events"
   ]
  },
  {
   "cell_type": "code",
   "execution_count": 25,
   "metadata": {},
   "outputs": [],
   "source": [
    "combos7_qcd.apply_6j_model(tag)\n",
    "scores_7_qcd = combos7_qcd.scores_combo\n",
    "\n",
    "combos7_qcdb.apply_6j_model(tag)\n",
    "scores_7_qcdb = combos7_qcdb.scores_combo"
   ]
  },
  {
   "cell_type": "code",
   "execution_count": 26,
   "metadata": {},
   "outputs": [
    {
     "name": "stderr",
     "output_type": "stream",
     "text": [
      "100%|████████████████████████████████████████████████████████| 1323/1323 [00:00<00:00, 13770.93it/s]\n",
      "100%|█████████████████████████████████████████████████████████| 5159/5159 [00:00<00:00, 6944.43it/s]\n"
     ]
    }
   ],
   "source": [
    "combos7_qcd.select_highest_scoring_combos()\n",
    "combos7_qcdb.select_highest_scoring_combos()"
   ]
  },
  {
   "cell_type": "code",
   "execution_count": 27,
   "metadata": {},
   "outputs": [],
   "source": [
    "evt_score_mask = combos7_qcd.high_score_combo_mask\n",
    "evt_high_score = combos7_qcd.evt_highest_score\n",
    "\n",
    "evt_score_mask_b = combos7_qcdb.high_score_combo_mask\n",
    "evt_high_score_b = combos7_qcdb.evt_highest_score"
   ]
  },
  {
   "cell_type": "code",
   "execution_count": 41,
   "metadata": {},
   "outputs": [
    {
     "data": {
      "application/vnd.jupyter.widget-view+json": {
       "model_id": "ac118c3f7ba244769a927d72c9cd13e5",
       "version_major": 2,
       "version_minor": 0
      },
      "text/plain": [
       "Canvas(toolbar=Toolbar(toolitems=[('Home', 'Reset original view', 'home', 'home'), ('Back', 'Back to previous …"
      ]
     },
     "metadata": {},
     "output_type": "display_data"
    }
   ],
   "source": [
    "fig, ax = plt.subplots()\n",
    "# n, edges, _ = hist(ax, [evt_high_score, evt_high_score_b], histtype='stepfilled', alpha=0.2, density=True)\n",
    "n, edges, _ = hist(ax, [evt_high_score, evt_high_score_b], histtype='step', color=['C0', 'C1'], label=['QCD', 'QCD, b enriched'], density=True)\n",
    "ax.set_xlabel('Highest Score of Combinations in Events')\n",
    "ax.set_ylabel('Number of QCD Combinations Assigned This Score')\n",
    "\n",
    "ax.legend()\n",
    "ax.set_title('QCD Background')\n",
    "\n",
    "fig.savefig('qcd_score.pdf')"
   ]
  },
  {
   "cell_type": "code",
   "execution_count": 55,
   "metadata": {},
   "outputs": [
    {
     "data": {
      "text/plain": [
       "(100,)"
      ]
     },
     "execution_count": 55,
     "metadata": {},
     "output_type": "execute_result"
    }
   ],
   "source": [
    "n[0].shape"
   ]
  },
  {
   "cell_type": "code",
   "execution_count": 57,
   "metadata": {},
   "outputs": [
    {
     "data": {
      "text/plain": [
       "0.17677846062574146"
      ]
     },
     "execution_count": 57,
     "metadata": {},
     "output_type": "execute_result"
    }
   ],
   "source": [
    "x = (edges[1:] + edges[:-1])/2\n",
    "sum(n[1][x > 0.8])/sum(n[1])"
   ]
  },
  {
   "cell_type": "code",
   "execution_count": 13,
   "metadata": {},
   "outputs": [],
   "source": [
    "def norm_hist(arr, bins=100):\n",
    "    n, b = np.histogram(arr, bins=bins)\n",
    "    x = (b[:-1] + b[1:]) / 2\n",
    "    \n",
    "    return n/n.max(), b, x"
   ]
  },
  {
   "cell_type": "code",
   "execution_count": 26,
   "metadata": {},
   "outputs": [
    {
     "data": {
      "application/vnd.jupyter.widget-view+json": {
       "model_id": "bb9a442b60b342628d4d6f3bd6528743",
       "version_major": 2,
       "version_minor": 0
      },
      "text/plain": [
       "Canvas(toolbar=Toolbar(toolitems=[('Home', 'Reset original view', 'home', 'home'), ('Back', 'Back to previous …"
      ]
     },
     "metadata": {},
     "output_type": "display_data"
    }
   ],
   "source": [
    "fig, ax = plt.subplots(nrows=1, ncols=1, figsize=(6,4))\n",
    "\n",
    "ax.set_title(r\"$^7C_6$ Combinations Normalized\")\n",
    "\n",
    "n_7, b_7, x_7 = norm_hist(scores_7)\n",
    "\n",
    "hist(ax, x_7, weights=n_7, bins=b_7, label='All 6-jet combos')\n",
    "ax.legend(fontsize='small', loc=9)\n",
    "\n",
    "ax.set_xlabel('Assigned Score')\n",
    "ax.set_ylabel('AU')\n",
    "\n",
    "textstr = f'Entries = {len(scores_7)}'\n",
    "props = dict(boxstyle='round', facecolor='white', alpha=1)\n",
    "ax.text(0.8, 1.02, textstr, transform=ax.transAxes, fontsize=9,\n",
    "        verticalalignment='top', bbox=props)\n",
    "\n",
    "plt.tight_layout()\n",
    "\n",
    "fig.savefig('qcd_score.pdf')\n",
    "plt.show()"
   ]
  },
  {
   "cell_type": "code",
   "execution_count": 58,
   "metadata": {},
   "outputs": [],
   "source": [
    "from matplotlib import ticker"
   ]
  },
  {
   "cell_type": "code",
   "execution_count": 65,
   "metadata": {},
   "outputs": [],
   "source": [
    "pt_7  = combos7_qcd.combo_features[:,0:6]\n",
    "eta_7 = combos7_qcd.combo_features[:,6:12]\n",
    "phi_7 = combos7_qcd.combo_features[:,12:18]\n",
    "m_7   = np.ones(pt_7.shape)*4"
   ]
  },
  {
   "cell_type": "code",
   "execution_count": 72,
   "metadata": {},
   "outputs": [],
   "source": [
    "bpt_7  = combos7_qcdb.combo_features[:,0:6]\n",
    "beta_7 = combos7_qcdb.combo_features[:,6:12]\n",
    "bphi_7 = combos7_qcdb.combo_features[:,12:18]\n",
    "bm_7   = np.ones(bpt_7.shape)*4"
   ]
  },
  {
   "cell_type": "code",
   "execution_count": 66,
   "metadata": {},
   "outputs": [],
   "source": [
    "import vector"
   ]
  },
  {
   "cell_type": "code",
   "execution_count": 67,
   "metadata": {},
   "outputs": [],
   "source": [
    "p4_7_0 = vector.obj(pt=pt_7[:,0], eta=eta_7[:,0], phi=phi_7[:,0], mass=m_7[:,0])\n",
    "p4_7_1 = vector.obj(pt=pt_7[:,1], eta=eta_7[:,1], phi=phi_7[:,1], mass=m_7[:,1])\n",
    "p4_7_2 = vector.obj(pt=pt_7[:,2], eta=eta_7[:,2], phi=phi_7[:,2], mass=m_7[:,2])\n",
    "p4_7_3 = vector.obj(pt=pt_7[:,3], eta=eta_7[:,3], phi=phi_7[:,3], mass=m_7[:,3])\n",
    "p4_7_4 = vector.obj(pt=pt_7[:,4], eta=eta_7[:,4], phi=phi_7[:,4], mass=m_7[:,4])\n",
    "p4_7_5 = vector.obj(pt=pt_7[:,5], eta=eta_7[:,5], phi=phi_7[:,5], mass=m_7[:,5])"
   ]
  },
  {
   "cell_type": "code",
   "execution_count": 73,
   "metadata": {},
   "outputs": [],
   "source": [
    "bp4_7_0 = vector.obj(pt=bpt_7[:,0], eta=beta_7[:,0], phi=bphi_7[:,0], mass=bm_7[:,0])\n",
    "bp4_7_1 = vector.obj(pt=bpt_7[:,1], eta=beta_7[:,1], phi=bphi_7[:,1], mass=bm_7[:,1])\n",
    "bp4_7_2 = vector.obj(pt=bpt_7[:,2], eta=beta_7[:,2], phi=bphi_7[:,2], mass=bm_7[:,2])\n",
    "bp4_7_3 = vector.obj(pt=bpt_7[:,3], eta=beta_7[:,3], phi=bphi_7[:,3], mass=bm_7[:,3])\n",
    "bp4_7_4 = vector.obj(pt=bpt_7[:,4], eta=beta_7[:,4], phi=bphi_7[:,4], mass=bm_7[:,4])\n",
    "bp4_7_5 = vector.obj(pt=bpt_7[:,5], eta=beta_7[:,5], phi=bphi_7[:,5], mass=bm_7[:,5])"
   ]
  },
  {
   "cell_type": "code",
   "execution_count": 74,
   "metadata": {},
   "outputs": [],
   "source": [
    "p4_7 = p4_7_0 + p4_7_1 + p4_7_2 + p4_7_3 + p4_7_4 + p4_7_5\n",
    "bp4_7 = bp4_7_0 + bp4_7_1 + bp4_7_2 + bp4_7_3 + bp4_7_4 + bp4_7_5"
   ]
  },
  {
   "cell_type": "code",
   "execution_count": 76,
   "metadata": {},
   "outputs": [
    {
     "data": {
      "application/vnd.jupyter.widget-view+json": {
       "model_id": "dc0588b4baf94aeb9001ff34644a7fac",
       "version_major": 2,
       "version_minor": 0
      },
      "text/plain": [
       "Canvas(toolbar=Toolbar(toolitems=[('Home', 'Reset original view', 'home', 'home'), ('Back', 'Back to previous …"
      ]
     },
     "metadata": {},
     "output_type": "display_data"
    }
   ],
   "source": [
    "fig, ax = plt.subplots(nrows=1, ncols=2, figsize=(10,4))\n",
    "\n",
    "ax[0].set_title(\"Signal 7 Combos\")\n",
    "ax[1].set_title(\"Background 7 Combos\")\n",
    "\n",
    "n, xedges, yedges, imb = hist2d(ax[1], p4_7.mass[~combos7.sgnl_mask], scores_7[~combos7.sgnl_mask], xbins=np.linspace(0,2000,100))\n",
    "\n",
    "plt.colorbar(imb, ax=ax[1])\n",
    "\n",
    "ax[0].set_xlabel('Invariant Mass of 6-jet System [GeV]')\n",
    "ax[1].set_xlabel('Invariant Mass of 6-jet System [GeV]')\n",
    "ax[0].set_ylabel('Assigned Score')\n",
    "ax[1].set_ylabel('Assigned Score')\n",
    "\n",
    "plt.show()"
   ]
  },
  {
   "cell_type": "code",
   "execution_count": 21,
   "metadata": {},
   "outputs": [],
   "source": [
    "score_bins = np.arange(0,1.01,0.01)"
   ]
  },
  {
   "cell_type": "code",
   "execution_count": null,
   "metadata": {},
   "outputs": [],
   "source": []
  },
  {
   "cell_type": "code",
   "execution_count": 22,
   "metadata": {},
   "outputs": [
    {
     "data": {
      "application/vnd.jupyter.widget-view+json": {
       "model_id": "896e8fd07ff44b62862d0833365cad01",
       "version_major": 2,
       "version_minor": 0
      },
      "text/plain": [
       "Canvas(toolbar=Toolbar(toolitems=[('Home', 'Reset original view', 'home', 'home'), ('Back', 'Back to previous …"
      ]
     },
     "metadata": {},
     "output_type": "display_data"
    },
    {
     "name": "stderr",
     "output_type": "stream",
     "text": [
      "No handles with labels found to put in legend.\n"
     ]
    }
   ],
   "source": [
    "fig, ax = plt.subplots(nrows=1, ncols=2, figsize=(10,4))\n",
    "\n",
    "ax[0].set_title(\"Signal 7 Combos\")\n",
    "ax[1].set_title(\"Background 7 Combos\")\n",
    "\n",
    "n, b, _ = hist(ax[1], p4_7.mass[~combos7.sgnl_mask], bins=np.linspace(400,2000,100), label='No cut', color='lightcoral')\n",
    "n, b, _ = hist(ax[1], p4_7.mass[~combos7.sgnl_mask][scores_7[~combos7.sgnl_mask] > 0.8], bins=np.linspace(400,2000,100), label='score > 0.8', color='maroon')\n",
    "\n",
    "\n",
    "ax[0].set_xlabel('Invariant Mass of 6-jet System [GeV]')\n",
    "ax[1].set_xlabel('Invariant Mass of 6-jet System [GeV]')\n",
    "ax[0].set_ylabel('Count')\n",
    "ax[1].set_ylabel('Count')\n",
    "ax[0].legend()\n",
    "ax[1].legend()\n",
    "\n",
    "plt.show()"
   ]
  },
  {
   "cell_type": "code",
   "execution_count": 23,
   "metadata": {},
   "outputs": [
    {
     "data": {
      "application/vnd.jupyter.widget-view+json": {
       "model_id": "80c2e51a58964531845f18ef27868faf",
       "version_major": 2,
       "version_minor": 0
      },
      "text/plain": [
       "Canvas(toolbar=Toolbar(toolitems=[('Home', 'Reset original view', 'home', 'home'), ('Back', 'Back to previous …"
      ]
     },
     "metadata": {},
     "output_type": "display_data"
    },
    {
     "ename": "NameError",
     "evalue": "name 'ns' is not defined",
     "output_type": "error",
     "traceback": [
      "\u001b[0;31m---------------------------------------------------------------------------\u001b[0m",
      "\u001b[0;31mNameError\u001b[0m                                 Traceback (most recent call last)",
      "\u001b[0;32m/tmp/ipykernel_13460/3288037117.py\u001b[0m in \u001b[0;36m<module>\u001b[0;34m\u001b[0m\n\u001b[1;32m      6\u001b[0m \u001b[0mx\u001b[0m \u001b[0;34m=\u001b[0m \u001b[0;34m(\u001b[0m\u001b[0mb\u001b[0m\u001b[0;34m[\u001b[0m\u001b[0;36m1\u001b[0m\u001b[0;34m:\u001b[0m\u001b[0;34m]\u001b[0m \u001b[0;34m+\u001b[0m \u001b[0mb\u001b[0m\u001b[0;34m[\u001b[0m\u001b[0;34m:\u001b[0m\u001b[0;34m-\u001b[0m\u001b[0;36m1\u001b[0m\u001b[0;34m]\u001b[0m\u001b[0;34m)\u001b[0m\u001b[0;34m/\u001b[0m\u001b[0;36m2\u001b[0m\u001b[0;34m\u001b[0m\u001b[0;34m\u001b[0m\u001b[0m\n\u001b[1;32m      7\u001b[0m \u001b[0;34m\u001b[0m\u001b[0m\n\u001b[0;32m----> 8\u001b[0;31m \u001b[0max\u001b[0m\u001b[0;34m[\u001b[0m\u001b[0;36m1\u001b[0m\u001b[0;34m]\u001b[0m\u001b[0;34m.\u001b[0m\u001b[0mplot\u001b[0m\u001b[0;34m(\u001b[0m\u001b[0mx\u001b[0m\u001b[0;34m,\u001b[0m \u001b[0mns\u001b[0m\u001b[0;34m/\u001b[0m\u001b[0mnb\u001b[0m\u001b[0;34m)\u001b[0m\u001b[0;34m\u001b[0m\u001b[0;34m\u001b[0m\u001b[0m\n\u001b[0m\u001b[1;32m      9\u001b[0m \u001b[0max\u001b[0m\u001b[0;34m[\u001b[0m\u001b[0;36m1\u001b[0m\u001b[0;34m]\u001b[0m\u001b[0;34m.\u001b[0m\u001b[0mplot\u001b[0m\u001b[0;34m(\u001b[0m\u001b[0mx\u001b[0m\u001b[0;34m,\u001b[0m \u001b[0mnp\u001b[0m\u001b[0;34m.\u001b[0m\u001b[0mones_like\u001b[0m\u001b[0;34m(\u001b[0m\u001b[0mx\u001b[0m\u001b[0;34m)\u001b[0m\u001b[0;34m,\u001b[0m \u001b[0;34m'--k'\u001b[0m\u001b[0;34m,\u001b[0m \u001b[0malpha\u001b[0m\u001b[0;34m=\u001b[0m\u001b[0;36m0.2\u001b[0m\u001b[0;34m)\u001b[0m\u001b[0;34m\u001b[0m\u001b[0;34m\u001b[0m\u001b[0m\n\u001b[1;32m     10\u001b[0m \u001b[0;34m\u001b[0m\u001b[0m\n",
      "\u001b[0;31mNameError\u001b[0m: name 'ns' is not defined"
     ]
    }
   ],
   "source": [
    "fig, ax = plt.subplots(nrows=2, ncols=1, figsize=(6,5), sharex=True, gridspec_kw={'height_ratios':[3,1]})\n",
    "\n",
    "nb, b, _ = hist(ax[0], p4_7.mass[~combos7.sgnl_mask][scores_7[~combos7.sgnl_mask] > 0.8], bins=np.linspace(400,2000,100), label='bkgd score > 0.8', color='maroon')\n",
    "# n, xedges, yedges, imb = hist2d(ax[1], p4_7.mass[~combos7.sgnl_mask], scores_7[~combos7.sgnl_mask], xbins=np.linspace(0,2000,100))\n",
    "\n",
    "x = (b[1:] + b[:-1])/2\n",
    "\n",
    "ax[1].plot(x, ns/nb)\n",
    "ax[1].plot(x, np.ones_like(x), '--k', alpha=0.2)\n",
    "\n",
    "ax[1].set_xlabel('Invariant Mass of 6-jet System [GeV]')\n",
    "ax[0].set_ylabel('Count')\n",
    "ax[0].legend()\n",
    "\n",
    "ax[1].set_ylabel(r'Ratio $S/B_C$')\n",
    "\n",
    "plt.show()"
   ]
  },
  {
   "cell_type": "code",
   "execution_count": null,
   "metadata": {},
   "outputs": [],
   "source": [
    "# plt.close('all')"
   ]
  },
  {
   "cell_type": "code",
   "execution_count": null,
   "metadata": {},
   "outputs": [],
   "source": []
  },
  {
   "cell_type": "code",
   "execution_count": null,
   "metadata": {},
   "outputs": [],
   "source": []
  },
  {
   "cell_type": "code",
   "execution_count": null,
   "metadata": {},
   "outputs": [],
   "source": [
    "# combos7.create_pairs(tag, score_cut = 0.8)\n",
    "# combos7.create_pairs(tag)"
   ]
  },
  {
   "cell_type": "code",
   "execution_count": null,
   "metadata": {},
   "outputs": [],
   "source": [
    "# combos7.pair_features.shape"
   ]
  },
  {
   "cell_type": "code",
   "execution_count": null,
   "metadata": {},
   "outputs": [],
   "source": [
    "# combos7.apply_2j_model('param_9_selected_events')"
   ]
  },
  {
   "cell_type": "code",
   "execution_count": null,
   "metadata": {},
   "outputs": [],
   "source": [
    "# combos7.scores_pairs[:,0]"
   ]
  },
  {
   "cell_type": "code",
   "execution_count": null,
   "metadata": {},
   "outputs": [],
   "source": [
    "# combos7.pair_target"
   ]
  },
  {
   "cell_type": "code",
   "execution_count": null,
   "metadata": {},
   "outputs": [],
   "source": [
    "# np.savez(\"../../inputs_2jet_train.npz\", inputs=combos7.pair_features, targets=combos7.pair_target)"
   ]
  },
  {
   "cell_type": "code",
   "execution_count": null,
   "metadata": {},
   "outputs": [],
   "source": [
    "# pairs = pairs_2j(combos7)"
   ]
  },
  {
   "cell_type": "code",
   "execution_count": null,
   "metadata": {},
   "outputs": [],
   "source": [
    "# combos7.pair_target[combos7.pair_target > -1]"
   ]
  },
  {
   "cell_type": "code",
   "execution_count": null,
   "metadata": {},
   "outputs": [],
   "source": [
    "# fig, axs = plt.subplots(nrows=1, ncols=2, figsize=(10,3))\n",
    "\n",
    "# ax = axs[0]\n",
    "# ax.set_title(r\"$^7C_6$ Combinations with Pairing, Normalized\", pad=10)\n",
    "\n",
    "# bins = np.linspace(0,1.01,100)\n",
    "\n",
    "# scores_2_noscorecut = combos7.scores_pairs[:,0]\n",
    "\n",
    "\n",
    "# n_2_all, b_2_all, x_2_all = norm_hist(scores_2_noscorecut)\n",
    "# c_2_all, b_2_all, x_2_all = norm_hist(scores_2_noscorecut[combos7.pair_target > -1])\n",
    "# w_2_all, b_2_all, x_2_all = norm_hist(scores_2_noscorecut[combos7.pair_target == -1])\n",
    "\n",
    "# hist(ax, x_2_all, weights=n_2_all, bins=b_2_all, label='All pairs')\n",
    "# hist(ax, x_2_all, weights=c_2_all, bins=b_2_all, label='Correct pairs')\n",
    "# hist(ax, x_2_all, weights=w_2_all, bins=b_2_all, label='Incorrect pairs')\n",
    "# ax.legend(fontsize='small', loc=9)\n",
    "\n",
    "# ax.set_xlabel('Assigned Score')\n",
    "# ax.set_ylabel('AU')\n",
    "\n",
    "# textstr = f'Entries = {len(scores_2_noscorecut)}'\n",
    "# props = dict(boxstyle='round', facecolor='white', alpha=1)\n",
    "# ax.text(0.8, 1.02, textstr, transform=ax.transAxes, fontsize=9,\n",
    "#         verticalalignment='top', bbox=props)\n",
    "\n",
    "# ax = axs[1]\n",
    "# ax.set_title(r\"$^7C_6$ Combinations with Pairing\", pad=10)\n",
    "\n",
    "# formatter = ticker.ScalarFormatter(useMathText=True)\n",
    "# formatter.set_scientific(True) \n",
    "# formatter.set_powerlimits((-1,1)) \n",
    "# ax.yaxis.set_major_formatter(formatter) \n",
    "\n",
    "# n_2_all, b_2_all = np.histogram(scores_2_noscorecut, bins=100)\n",
    "# c_2_all, b_2_all = np.histogram(scores_2_noscorecut[combos7.pair_target > -1], bins=100)\n",
    "# w_2_all, b_2_all = np.histogram(scores_2_noscorecut[combos7.pair_target == -1], bins=100)\n",
    "\n",
    "# x_2_all = (b_2_all[1:] + b_2_all[:-1]) / 2\n",
    "\n",
    "# # hist(ax, x_2_all, weights=n_2_all, bins=b_2_all, label='All 6-jet combos')\n",
    "# hist(ax, x_2_all, weights=c_2_all, bins=b_2_all, label='Correct pairs')\n",
    "# hist(ax, x_2_all, weights=w_2_all, bins=b_2_all, label='Incorrect pairs')\n",
    "# ax.legend(fontsize='small', loc=9)\n",
    "\n",
    "# ax.set_xlabel('Assigned Score')\n",
    "# ax.set_ylabel('Number of Combinations Per Bin')\n",
    "\n",
    "# textstr = f'Entries = {len(scores_2_noscorecut)}'\n",
    "# props = dict(boxstyle='round', facecolor='white', alpha=1)\n",
    "# ax.text(0.8, 1.02, textstr, transform=ax.transAxes, fontsize=9,\n",
    "#         verticalalignment='top', bbox=props)\n",
    "\n",
    "# ax.text(0.3, 0.25, f'Ratio correct/total above 0.8 = {100*sum(c_2_all[x_2_all > 0.8])/sum(n_2_all[x_2_all > 0.8]):.0f}%', transform=ax.transAxes)\n",
    "# # ax.ticklabel_format(useMathText=True, useOffset=True)\n",
    "\n",
    "# plt.tight_layout()\n",
    "# plt.show()"
   ]
  },
  {
   "cell_type": "code",
   "execution_count": null,
   "metadata": {},
   "outputs": [],
   "source": [
    "# fig, axs = plt.subplots(nrows=1, ncols=2, figsize=(10,3))\n",
    "\n",
    "# ax = axs[0]\n",
    "# ax.set_title(r\"$^7C_6$ Combinations with Pairing, Normalized\")\n",
    "\n",
    "# bins = np.linspace(0,1.01,100)\n",
    "\n",
    "# scores_2 = combos7.scores_pairs[:,0]\n",
    "\n",
    "\n",
    "# n_7, b_7, x_7 = norm_hist(scores_2)\n",
    "# c_n_7, b_7, x_7 = norm_hist(scores_2[combos7.pair_target > -1])\n",
    "# w_n_7, b_7, x_7 = norm_hist(scores_2[combos7.pair_target == -1])\n",
    "\n",
    "# hist(ax, x_7, weights=n_7, bins=b_7, label='All pairs')\n",
    "# hist(ax, x_7, weights=c_n_7, bins=b_7, label='Correct pairs')\n",
    "# hist(ax, x_7, weights=w_n_7, bins=b_7, label='Incorrect pairs')\n",
    "# ax.legend(fontsize='small', loc=9)\n",
    "\n",
    "# ax.set_xlabel('Assigned Score')\n",
    "# ax.set_ylabel('AU')\n",
    "\n",
    "# textstr = f'Entries = {len(scores_2)}'\n",
    "# props = dict(boxstyle='round', facecolor='white', alpha=1)\n",
    "# ax.text(0.8, 1.02, textstr, transform=ax.transAxes, fontsize=9,\n",
    "#         verticalalignment='top', bbox=props)\n",
    "\n",
    "# ax = axs[1]\n",
    "# ax.set_title(r\"$^7C_6$ Combinations with Pairing\")\n",
    "\n",
    "# n_7, b_7 = np.histogram(scores_2, bins=100)\n",
    "# c_n_7, b_7 = np.histogram(scores_2[combos7.pair_target > -1], bins=100)\n",
    "# w_n_7, b_7 = np.histogram(scores_2[combos7.pair_target == -1], bins=100)\n",
    "\n",
    "# x_7 = (b_7[1:] + b_7[:-1]) / 2\n",
    "\n",
    "# # hist(ax, x_7, weights=n_7, bins=b_7, label='All 6-jet combos')\n",
    "# hist(ax, x_7, weights=c_n_7, bins=b_7, label='Correct pairs')\n",
    "# hist(ax, x_7, weights=w_n_7, bins=b_7, label='Incorrect pairs')\n",
    "# ax.legend(fontsize='small', loc=9)\n",
    "\n",
    "# ax.set_xlabel('Assigned Score')\n",
    "# ax.set_ylabel('Number of Combinations Per Bin')\n",
    "\n",
    "# textstr = f'Entries = {len(scores_2)}'\n",
    "# props = dict(boxstyle='round', facecolor='white', alpha=1)\n",
    "# ax.text(0.8, 1.02, textstr, transform=ax.transAxes, fontsize=9,\n",
    "#         verticalalignment='top', bbox=props)\n",
    "\n",
    "# ax.text(0.3, 50000, f'Ratio correct/total above 0.8 = {100*sum(c_n_7[x_7 > 0.8])/sum(n_7[x_7 > 0.8]):.0f}%')\n",
    "\n",
    "# plt.tight_layout()\n",
    "# plt.show()"
   ]
  }
 ],
 "metadata": {
  "interpreter": {
   "hash": "1b7750746940cad55290eceb0294b409311577204cbc8d296288c7b6047f6ec1"
  },
  "kernelspec": {
   "display_name": "Python 3 (ipykernel)",
   "language": "python",
   "name": "python3"
  },
  "language_info": {
   "codemirror_mode": {
    "name": "ipython",
    "version": 3
   },
   "file_extension": ".py",
   "mimetype": "text/x-python",
   "name": "python",
   "nbconvert_exporter": "python",
   "pygments_lexer": "ipython3",
   "version": "3.8.8"
  },
  "widgets": {
   "application/vnd.jupyter.widget-state+json": {
    "state": {},
    "version_major": 2,
    "version_minor": 0
   }
  }
 },
 "nbformat": 4,
 "nbformat_minor": 4
}
