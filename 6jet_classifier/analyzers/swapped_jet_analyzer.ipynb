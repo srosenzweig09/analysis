{
 "cells": [
  {
   "cell_type": "markdown",
   "id": "454b4fe4",
   "metadata": {},
   "source": [
    "### Import libraries"
   ]
  },
  {
   "cell_type": "code",
   "execution_count": 1,
   "id": "195bb6f5",
   "metadata": {},
   "outputs": [
    {
     "name": "stdout",
     "output_type": "stream",
     "text": [
      "Starting\n"
     ]
    }
   ],
   "source": [
    "print(\"Starting\")"
   ]
  },
  {
   "cell_type": "code",
   "execution_count": 2,
   "id": "acc98674",
   "metadata": {},
   "outputs": [],
   "source": [
    "import awkward as ak\n",
    "from consistent_plots import hist, hist2d\n",
    "import matplotlib as mpl\n",
    "# mpl.style.use('../../presentation.mplstyle')\n",
    "mpl.rcParams['font.size'] = 14\n",
    "import matplotlib.pyplot as plt\n",
    "%matplotlib widget\n",
    "import numpy as np\n",
    "from trsm import TRSM, combos\n",
    "import vector"
   ]
  },
  {
   "cell_type": "code",
   "execution_count": 3,
   "id": "83aa608e",
   "metadata": {},
   "outputs": [],
   "source": [
    "%load_ext autoreload\n",
    "%autoreload 2"
   ]
  },
  {
   "cell_type": "code",
   "execution_count": 4,
   "id": "8514640b",
   "metadata": {
    "tags": []
   },
   "outputs": [],
   "source": [
    "# mpl.rcParams.keys()"
   ]
  },
  {
   "cell_type": "code",
   "execution_count": 5,
   "id": "b3ee396d",
   "metadata": {},
   "outputs": [],
   "source": [
    "def norm_hist(arr, bins=100):\n",
    "    n, b = np.histogram(arr, bins=bins)\n",
    "    x = (b[:-1] + b[1:]) / 2\n",
    "    \n",
    "    return n/n.max(), b, x"
   ]
  },
  {
   "cell_type": "markdown",
   "id": "70cb01ab",
   "metadata": {},
   "source": [
    "### Load model"
   ]
  },
  {
   "cell_type": "code",
   "execution_count": 6,
   "id": "9f08c56c",
   "metadata": {},
   "outputs": [],
   "source": [
    "from keras.models import model_from_json"
   ]
  },
  {
   "cell_type": "code",
   "execution_count": 7,
   "id": "51e6d64d",
   "metadata": {},
   "outputs": [],
   "source": [
    "from pickle import load"
   ]
  },
  {
   "cell_type": "code",
   "execution_count": 8,
   "id": "36a54201",
   "metadata": {},
   "outputs": [],
   "source": [
    "tag = '2HL_40_20'"
   ]
  },
  {
   "cell_type": "code",
   "execution_count": 9,
   "id": "c8722761",
   "metadata": {},
   "outputs": [
    {
     "name": "stderr",
     "output_type": "stream",
     "text": [
      "2021-07-09 09:26:07.626405: I tensorflow/core/platform/cpu_feature_guard.cc:142] This TensorFlow binary is optimized with oneAPI Deep Neural Network Library (oneDNN) to use the following CPU instructions in performance-critical operations:  SSE4.1 SSE4.2 AVX AVX2 FMA\n",
      "To enable them in other operations, rebuild TensorFlow with the appropriate compiler flags.\n"
     ]
    }
   ],
   "source": [
    "json_file = open(f'../models/{tag}/model/model_1.json', 'r')\n",
    "loaded_model_json = json_file.read()\n",
    "json_file.close()\n",
    "loaded_model = model_from_json(loaded_model_json)\n",
    "loaded_model.load_weights(f'../models/{tag}/model/model_1.h5')"
   ]
  },
  {
   "cell_type": "code",
   "execution_count": 10,
   "id": "beed67d2",
   "metadata": {},
   "outputs": [],
   "source": [
    "scaler = load(open(f'../models/{tag}/model/scaler_1.pkl', 'rb'))"
   ]
  },
  {
   "cell_type": "markdown",
   "id": "ae163a9c",
   "metadata": {},
   "source": [
    "### Open ROOT file"
   ]
  },
  {
   "cell_type": "code",
   "execution_count": 11,
   "id": "1a5700b5",
   "metadata": {},
   "outputs": [
    {
     "name": "stdout",
     "output_type": "stream",
     "text": [
      "-- [INFO] -- /uscms/home/srosenzw/nobackup/miniconda3/envs/work/lib/python3.8/runpy.py -- Opening ROOT file ../../signal/skimmed/NMSSM_XYH_YToHH_6b_MX_700_MY_400_testing_set_skimmed.root with columns\n",
      "----------------------------------------------------------------------------------------------------\n",
      "                                            TABLE COLUMNS                                           \n",
      "----------------------------------------------------------------------------------------------------\n",
      "-- [INFO] -- /uscms/home/srosenzw/nobackup/miniconda3/envs/work/lib/python3.8/runpy.py -- Tree contains 269883 events.\n",
      "jet_pt                            jet_eta                           jet_phi                           \n",
      "jet_m                             jet_btag                          jet_qgl                           \n",
      "jet_idx                           jet_hadronFlav                    jet_partonFlav                    \n",
      "HX_b1_recojet_m                   HX_b1_recojet_pt                  HX_b1_recojet_eta                 \n",
      "HX_b1_recojet_phi                 HX_b1_recojet_ptRegressed         HX_b2_recojet_m                   \n",
      "HX_b2_recojet_pt                  HX_b2_recojet_eta                 HX_b2_recojet_phi                 \n",
      "HX_b2_recojet_ptRegressed         HY1_b1_recojet_m                  HY1_b1_recojet_pt                 \n",
      "HY1_b1_recojet_eta                HY1_b1_recojet_phi                HY1_b1_recojet_ptRegressed        \n",
      "HY1_b2_recojet_m                  HY1_b2_recojet_pt                 HY1_b2_recojet_eta                \n",
      "HY1_b2_recojet_phi                HY1_b2_recojet_ptRegressed        HY2_b1_recojet_m                  \n",
      "HY2_b1_recojet_pt                 HY2_b1_recojet_eta                HY2_b1_recojet_phi                \n",
      "HY2_b1_recojet_ptRegressed        HY2_b2_recojet_m                  HY2_b2_recojet_pt                 \n",
      "HY2_b2_recojet_eta                HY2_b2_recojet_phi                HY2_b2_recojet_ptRegressed        \n",
      "----------------------------------------------------------------------------------------------------\n"
     ]
    }
   ],
   "source": [
    "filename = f'../../signal/skimmed/NMSSM_XYH_YToHH_6b_MX_700_MY_400_testing_set_skimmed.root'\n",
    "trsm = TRSM(filename=filename)"
   ]
  },
  {
   "cell_type": "markdown",
   "id": "f594d78d",
   "metadata": {},
   "source": [
    "### Load combinations of 7 total jets"
   ]
  },
  {
   "cell_type": "code",
   "execution_count": 12,
   "id": "03e19756",
   "metadata": {},
   "outputs": [
    {
     "name": "stderr",
     "output_type": "stream",
     "text": [
      "100%|█████████████████████████████████████████████████████| 269883/269883 [01:43<00:00, 2618.93it/s]\n"
     ]
    },
    {
     "name": "stdout",
     "output_type": "stream",
     "text": [
      "Total events chosen: 40778\n"
     ]
    }
   ],
   "source": [
    "combos7 = combos(trsm, 7)"
   ]
  },
  {
   "cell_type": "code",
   "execution_count": 13,
   "id": "948757e0",
   "metadata": {},
   "outputs": [
    {
     "name": "stderr",
     "output_type": "stream",
     "text": [
      "2021-07-09 09:28:20.011913: I tensorflow/compiler/mlir/mlir_graph_optimization_pass.cc:176] None of the MLIR Optimization Passes are enabled (registered 2)\n",
      "2021-07-09 09:28:20.012394: I tensorflow/core/platform/profile_utils/cpu_utils.cc:114] CPU Frequency: 2000000000 Hz\n"
     ]
    },
    {
     "data": {
      "text/plain": [
       "(285446,)"
      ]
     },
     "execution_count": 13,
     "metadata": {},
     "output_type": "execute_result"
    }
   ],
   "source": [
    "test_features_7 = scaler.transform(combos7.combo_features)\n",
    "scores_7 = loaded_model.predict(test_features_7)[:,0]\n",
    "scores_7.shape"
   ]
  },
  {
   "cell_type": "code",
   "execution_count": 14,
   "id": "dde75dae",
   "metadata": {},
   "outputs": [],
   "source": [
    "sgnl_scores_7 = scores_7[combos7.sgnl_mask]\n",
    "bkgd_scores_7 = scores_7[~combos7.sgnl_mask]"
   ]
  },
  {
   "cell_type": "code",
   "execution_count": 15,
   "id": "37ae2c76",
   "metadata": {},
   "outputs": [],
   "source": [
    "import awkward as ak"
   ]
  },
  {
   "cell_type": "code",
   "execution_count": 16,
   "id": "0e39fd09",
   "metadata": {},
   "outputs": [],
   "source": [
    "bkgd_parton_id = np.array((ak.flatten(combos7.bkgd_dict['partonFlav'])))\n",
    "bkgd_hadron_id = np.array((ak.flatten(combos7.bkgd_dict['hadronFlav'])))"
   ]
  },
  {
   "cell_type": "code",
   "execution_count": 17,
   "id": "669ac453",
   "metadata": {},
   "outputs": [],
   "source": [
    "swap_sgnl_idx = np.array((ak.flatten(combos7.bkgd_dict['ind'])))"
   ]
  },
  {
   "cell_type": "code",
   "execution_count": 18,
   "id": "af09a85f",
   "metadata": {},
   "outputs": [],
   "source": [
    "bkgd_pt = combos7.swapped_bkgd_pt\n",
    "bkgd_pt = ak.to_numpy(bkgd_pt)"
   ]
  },
  {
   "cell_type": "code",
   "execution_count": 19,
   "id": "b79a51b2",
   "metadata": {},
   "outputs": [],
   "source": [
    "sgnl_pt = ak.to_numpy(combos7.swapped_sgnl_pt)"
   ]
  },
  {
   "cell_type": "code",
   "execution_count": 20,
   "id": "656cfcfd",
   "metadata": {},
   "outputs": [],
   "source": [
    "bkgd_pt = bkgd_pt.reshape(bkgd_pt.shape[0])\n",
    "sgnl_pt = sgnl_pt.reshape(sgnl_pt.shape[0])"
   ]
  },
  {
   "cell_type": "code",
   "execution_count": 21,
   "id": "b981a83c",
   "metadata": {},
   "outputs": [],
   "source": [
    "sgnl_p4 = combos7.incorrect_sgnl_p4\n",
    "bkgd_p4 = combos7.incorrect_bkgd_p4"
   ]
  },
  {
   "cell_type": "code",
   "execution_count": 22,
   "id": "d98baa51",
   "metadata": {},
   "outputs": [],
   "source": [
    "dR_incorrect = ak.to_numpy(combos7.incorrect_sgnl_p4.deltaR(combos7.incorrect_bkgd_p4))\n",
    "dR_incorrect = dR_incorrect.reshape(dR_incorrect.shape[0])"
   ]
  },
  {
   "cell_type": "code",
   "execution_count": 37,
   "id": "db6c48c8",
   "metadata": {},
   "outputs": [
    {
     "data": {
      "application/vnd.jupyter.widget-view+json": {
       "model_id": "25c7496ae4e14f808478910ff4e3ebd6",
       "version_major": 2,
       "version_minor": 0
      },
      "text/plain": [
       "Canvas(toolbar=Toolbar(toolitems=[('Home', 'Reset original view', 'home', 'home'), ('Back', 'Back to previous …"
      ]
     },
     "metadata": {},
     "output_type": "display_data"
    },
    {
     "data": {
      "text/plain": [
       "Text(0.5, 0, '$\\\\Delta R$ Between Swapped Jets')"
      ]
     },
     "execution_count": 37,
     "metadata": {},
     "output_type": "execute_result"
    }
   ],
   "source": [
    "fig, axs = plt.subplots(nrows=1, ncols=2, figsize=(10,4))\n",
    "\n",
    "ax = axs[0]\n",
    "n, b, x = hist(ax, dR_incorrect)\n",
    "ax.set_xlabel(r'$\\Delta R$ Between Swapped Jets')\n",
    "\n",
    "ax = axs[1]\n",
    "n_h, b, x = hist(ax, dR_incorrect[bkgd_scores_7 > 0.8], label=r'score $> 0.8$')\n",
    "n_l, b, x = hist(ax, dR_incorrect[bkgd_scores_7 <= 0.8], label=r'score $\\leq 0.8$')\n",
    "ax.legend()\n",
    "ax.set_xlabel(r'$\\Delta R$ Between Swapped Jets')"
   ]
  },
  {
   "cell_type": "code",
   "execution_count": 25,
   "id": "61367318",
   "metadata": {},
   "outputs": [
    {
     "data": {
      "application/vnd.jupyter.widget-view+json": {
       "model_id": "ddcb3c98653f4b719e5f82954d1a57b0",
       "version_major": 2,
       "version_minor": 0
      },
      "text/plain": [
       "Canvas(toolbar=Toolbar(toolitems=[('Home', 'Reset original view', 'home', 'home'), ('Back', 'Back to previous …"
      ]
     },
     "metadata": {},
     "output_type": "display_data"
    }
   ],
   "source": [
    "fig, ax = plt.subplots()\n",
    "\n",
    "n, x, y, im = hist2d(ax, dR_incorrect, scores_7[~combos7.sgnl_mask], xbins=np.linspace(0,6,100), ybins=np.linspace(0,1.01,100))\n",
    "ax.set_xlim(0,5.5)\n",
    "plt.colorbar(im, ax=ax)\n",
    "\n",
    "ax.set_xlabel(r\"$\\Delta R$ Between Swapped Jets\")\n",
    "ax.set_ylabel(\"Assigned Score\")\n",
    "\n",
    "plt.show()"
   ]
  },
  {
   "cell_type": "code",
   "execution_count": 26,
   "id": "85649d6a",
   "metadata": {},
   "outputs": [
    {
     "data": {
      "application/vnd.jupyter.widget-view+json": {
       "model_id": "e1a5c79784aa440ea8e58530fdf98fff",
       "version_major": 2,
       "version_minor": 0
      },
      "text/plain": [
       "Canvas(toolbar=Toolbar(toolitems=[('Home', 'Reset original view', 'home', 'home'), ('Back', 'Back to previous …"
      ]
     },
     "metadata": {},
     "output_type": "display_data"
    }
   ],
   "source": [
    "fig, ax = plt.subplots()\n",
    "\n",
    "n, xedges, yedges, im = hist2d(ax, sgnl_pt, bkgd_pt, xbins=np.arange(30,200), ybins=np.arange(30,200))\n",
    "plt.colorbar(im, ax=ax)\n",
    "ax.set_xlabel(r\"Signal jet $p_T$ [GeV]\")\n",
    "ax.set_ylabel(r\"Swapped jet $p_T$ [GeV]\")\n",
    "\n",
    "plt.tight_layout()\n",
    "plt.show()"
   ]
  },
  {
   "cell_type": "code",
   "execution_count": 27,
   "id": "6f9a4756",
   "metadata": {},
   "outputs": [
    {
     "data": {
      "application/vnd.jupyter.widget-view+json": {
       "model_id": "29400a823ad24086a7e0e7c7ac697be4",
       "version_major": 2,
       "version_minor": 0
      },
      "text/plain": [
       "Canvas(toolbar=Toolbar(toolitems=[('Home', 'Reset original view', 'home', 'home'), ('Back', 'Back to previous …"
      ]
     },
     "metadata": {},
     "output_type": "display_data"
    }
   ],
   "source": [
    "fig, ax = plt.subplots()\n",
    "\n",
    "sc = ax.scatter(sgnl_pt, bkgd_pt, c=bkgd_scores_7, cmap='rainbow', alpha=0.75, s=1, vmin=0.0, vmax=1.0)\n",
    "plt.colorbar(sc)\n",
    "ax.set_xlabel(r\"Signal jet $p_T$ [GeV]\")\n",
    "ax.set_xlim(0,500)\n",
    "ax.set_ylabel(r\"Swapped jet $p_T$ [GeV]\")\n",
    "ax.set_ylim(0,800)\n",
    "\n",
    "plt.tight_layout()\n",
    "plt.show()"
   ]
  },
  {
   "cell_type": "code",
   "execution_count": 28,
   "id": "895102b7",
   "metadata": {},
   "outputs": [
    {
     "data": {
      "application/vnd.jupyter.widget-view+json": {
       "model_id": "e43cb479aa2149518854af5c78ea503b",
       "version_major": 2,
       "version_minor": 0
      },
      "text/plain": [
       "Canvas(toolbar=Toolbar(toolitems=[('Home', 'Reset original view', 'home', 'home'), ('Back', 'Back to previous …"
      ]
     },
     "metadata": {},
     "output_type": "display_data"
    }
   ],
   "source": [
    "fig, ax = plt.subplots()\n",
    "\n",
    "high_mask = bkgd_scores_7 > 0.8\n",
    "low_mask = bkgd_scores_7 <= 0.8\n",
    "\n",
    "sc = ax.scatter(sgnl_pt[low_mask], bkgd_pt[low_mask], alpha=0.75, s=1, label=r'score $\\leq$ 0.8')\n",
    "sc = ax.scatter(sgnl_pt[high_mask], bkgd_pt[high_mask], alpha=0.75, s=1, label=r'score $>$ 0.8')\n",
    "ax.set_xlabel(r\"Signal jet $p_T$ [GeV]\")\n",
    "ax.set_xlim(0,500)\n",
    "ax.set_ylabel(r\"Swapped jet $p_T$ [GeV]\")\n",
    "ax.set_ylim(0,800)\n",
    "ax.legend()\n",
    "\n",
    "plt.tight_layout()\n",
    "plt.show()"
   ]
  },
  {
   "cell_type": "code",
   "execution_count": 29,
   "id": "53dd8c10",
   "metadata": {},
   "outputs": [
    {
     "data": {
      "application/vnd.jupyter.widget-view+json": {
       "model_id": "a1e3b42130b644ac9fdb8b4e0c468751",
       "version_major": 2,
       "version_minor": 0
      },
      "text/plain": [
       "Canvas(toolbar=Toolbar(toolitems=[('Home', 'Reset original view', 'home', 'home'), ('Back', 'Back to previous …"
      ]
     },
     "metadata": {},
     "output_type": "display_data"
    }
   ],
   "source": [
    "fig, ax = plt.subplots()\n",
    "\n",
    "n, xedges, yedges, im = hist2d(ax, scores_7[~combos7.sgnl_mask], bkgd_pt, ybins=np.arange(30,200))\n",
    "plt.colorbar(im, ax=ax)\n",
    "ax.set_xlabel(\"Assigned Score\")\n",
    "ax.set_ylabel(r\"$p_T [GeV]$ of Incorrect Swapped Jet\")\n",
    "\n",
    "plt.show()"
   ]
  },
  {
   "cell_type": "code",
   "execution_count": 30,
   "id": "70a6cdf4",
   "metadata": {},
   "outputs": [
    {
     "data": {
      "application/vnd.jupyter.widget-view+json": {
       "model_id": "3217edada8584fa7b4b8a3adc6ecd321",
       "version_major": 2,
       "version_minor": 0
      },
      "text/plain": [
       "Canvas(toolbar=Toolbar(toolitems=[('Home', 'Reset original view', 'home', 'home'), ('Back', 'Back to previous …"
      ]
     },
     "metadata": {},
     "output_type": "display_data"
    }
   ],
   "source": [
    "fig, ax = plt.subplots()\n",
    "\n",
    "ax.set_title(r\"$^7C_6$ Background pT\")\n",
    "\n",
    "n_7, b_7, x_7 = norm_hist(bkgd_pt[scores_7[~combos7.sgnl_mask] > 0.8]   , bins=np.linspace(0,600,100))\n",
    "w_n_7, b_7, x_7 = norm_hist(bkgd_pt[scores_7[~combos7.sgnl_mask] <= 0.8], bins=np.linspace(0,600,100))\n",
    "\n",
    "hist(ax, x_7, weights=n_7, bins=b_7, label='Score > 0.8')\n",
    "hist(ax, x_7, weights=w_n_7, bins=b_7, label='Score <= 0.8')\n",
    "ax.legend(fontsize='small', loc=9)\n",
    "\n",
    "ax.set_xlabel('Swapped bkgd pT')\n",
    "ax.set_ylabel('AU')\n",
    "\n",
    "textstr = f'Entries = {len(scores_7)}'\n",
    "props = dict(boxstyle='round', facecolor='white', alpha=1)\n",
    "ax.text(0.8, 1.02, textstr, transform=ax.transAxes, fontsize=9,\n",
    "        verticalalignment='top', bbox=props)\n",
    "\n",
    "plt.show()"
   ]
  },
  {
   "cell_type": "code",
   "execution_count": 31,
   "id": "e7a76a83",
   "metadata": {},
   "outputs": [
    {
     "data": {
      "application/vnd.jupyter.widget-view+json": {
       "model_id": "9c0368d0fd96474891f1ad922b6b2057",
       "version_major": 2,
       "version_minor": 0
      },
      "text/plain": [
       "Canvas(toolbar=Toolbar(toolitems=[('Home', 'Reset original view', 'home', 'home'), ('Back', 'Back to previous …"
      ]
     },
     "metadata": {},
     "output_type": "display_data"
    }
   ],
   "source": [
    "fig, ax = plt.subplots()\n",
    "\n",
    "n, xedges, yedges, im = hist2d(ax, scores_7[~combos7.sgnl_mask], bkgd_parton_id, ybins=np.arange(-5,22))\n",
    "plt.colorbar(im, ax=ax)\n",
    "ax.set_xlabel(\"Assigned Score\")\n",
    "ax.set_ylabel(\"Parton ID of Incorrect Swapped Jet\")\n",
    "\n",
    "plt.show()"
   ]
  },
  {
   "cell_type": "code",
   "execution_count": 32,
   "id": "1eea7c54",
   "metadata": {},
   "outputs": [],
   "source": [
    "d_mask = bkgd_parton_id == 1\n",
    "u_mask = bkgd_parton_id == 2\n",
    "s_mask = bkgd_parton_id == 3\n",
    "c_mask = bkgd_parton_id == 4\n",
    "b_mask = bkgd_parton_id == 5\n",
    "\n",
    "dbar_mask = bkgd_parton_id == -1\n",
    "ubar_mask = bkgd_parton_id == -2\n",
    "sbar_mask = bkgd_parton_id == -3\n",
    "cbar_mask = bkgd_parton_id == -4\n",
    "bbar_mask = bkgd_parton_id == -5\n",
    "\n",
    "g_mask = bkgd_parton_id == 21\n",
    "\n",
    "unknown = bkgd_parton_id == 0"
   ]
  },
  {
   "cell_type": "code",
   "execution_count": 33,
   "id": "cea2d874",
   "metadata": {},
   "outputs": [
    {
     "data": {
      "application/vnd.jupyter.widget-view+json": {
       "model_id": "8fffebdee823482db0dec18588a90d1f",
       "version_major": 2,
       "version_minor": 0
      },
      "text/plain": [
       "Canvas(toolbar=Toolbar(toolitems=[('Home', 'Reset original view', 'home', 'home'), ('Back', 'Back to previous …"
      ]
     },
     "metadata": {},
     "output_type": "display_data"
    }
   ],
   "source": [
    "fig, axs = plt.subplots(nrows=2, ncols=6, figsize=(15,4))\n",
    "\n",
    "ax = axs[0][0]\n",
    "hist(ax, scores_7[~combos7.sgnl_mask][d_mask])\n",
    "ax.set_title('d')\n",
    "\n",
    "ax = axs[0][1]\n",
    "hist(ax, scores_7[~combos7.sgnl_mask][u_mask])\n",
    "ax.set_title('u')\n",
    "\n",
    "ax = axs[0][2]\n",
    "hist(ax, scores_7[~combos7.sgnl_mask][s_mask])\n",
    "ax.set_title('s')\n",
    "\n",
    "ax = axs[0][3]\n",
    "hist(ax, scores_7[~combos7.sgnl_mask][c_mask])\n",
    "ax.set_title('c')\n",
    "\n",
    "ax = axs[0][4]\n",
    "hist(ax, scores_7[~combos7.sgnl_mask][b_mask])\n",
    "ax.set_title('b')\n",
    "\n",
    "ax = axs[0][5]\n",
    "hist(ax, scores_7[~combos7.sgnl_mask][g_mask])\n",
    "ax.set_title('g')\n",
    "\n",
    "\n",
    "\n",
    "ax = axs[1][0]\n",
    "hist(ax, scores_7[~combos7.sgnl_mask][dbar_mask])\n",
    "ax.set_title('dbar')\n",
    "\n",
    "ax = axs[1][1]\n",
    "hist(ax, scores_7[~combos7.sgnl_mask][ubar_mask])\n",
    "ax.set_title('ubar')\n",
    "\n",
    "ax = axs[1][2]\n",
    "hist(ax, scores_7[~combos7.sgnl_mask][sbar_mask])\n",
    "ax.set_title('sbar')\n",
    "\n",
    "ax = axs[1][3]\n",
    "hist(ax, scores_7[~combos7.sgnl_mask][cbar_mask])\n",
    "ax.set_title('cbar')\n",
    "\n",
    "ax = axs[1][4]\n",
    "hist(ax, scores_7[~combos7.sgnl_mask][bbar_mask])\n",
    "ax.set_title('bbar')\n",
    "\n",
    "ax = axs[1][5]\n",
    "hist(ax, scores_7[~combos7.sgnl_mask][unknown])\n",
    "ax.set_title('unknown')\n",
    "\n",
    "for ax in axs.flat:\n",
    "    ax.set_xlabel(\"Assigned Score\")\n",
    "    ax.set_ylabel(\"Count\")\n",
    "\n",
    "plt.tight_layout()"
   ]
  },
  {
   "cell_type": "code",
   "execution_count": 34,
   "id": "c1c8ae0c",
   "metadata": {},
   "outputs": [
    {
     "name": "stdout",
     "output_type": "stream",
     "text": [
      "0 12\n"
     ]
    }
   ],
   "source": [
    "print(swap_sgnl_idx.min(), swap_sgnl_idx.max())"
   ]
  },
  {
   "cell_type": "code",
   "execution_count": 35,
   "id": "bc3b122e",
   "metadata": {},
   "outputs": [
    {
     "data": {
      "application/vnd.jupyter.widget-view+json": {
       "model_id": "eb8544de5f1f46f28e9d784539241b2b",
       "version_major": 2,
       "version_minor": 0
      },
      "text/plain": [
       "Canvas(toolbar=Toolbar(toolitems=[('Home', 'Reset original view', 'home', 'home'), ('Back', 'Back to previous …"
      ]
     },
     "metadata": {},
     "output_type": "display_data"
    }
   ],
   "source": [
    "fig, ax = plt.subplots()\n",
    "\n",
    "n, x, y, im = hist2d(ax, swap_sgnl_idx, scores_7[~combos7.sgnl_mask], xbins=np.linspace(0,6,13))\n",
    "ax.set_xlim(0,5.5)\n",
    "plt.colorbar(im, ax=ax)\n",
    "\n",
    "ax.set_ylabel(\"Assigned Score\")\n",
    "\n",
    "plt.show()"
   ]
  },
  {
   "cell_type": "code",
   "execution_count": null,
   "id": "fd56822b",
   "metadata": {},
   "outputs": [],
   "source": []
  },
  {
   "cell_type": "code",
   "execution_count": null,
   "id": "dc2118ef",
   "metadata": {},
   "outputs": [],
   "source": []
  },
  {
   "cell_type": "code",
   "execution_count": null,
   "id": "6b9ff5af",
   "metadata": {},
   "outputs": [],
   "source": []
  }
 ],
 "metadata": {
  "kernelspec": {
   "display_name": "Python 3 (ipykernel)",
   "language": "python",
   "name": "python3"
  },
  "language_info": {
   "codemirror_mode": {
    "name": "ipython",
    "version": 3
   },
   "file_extension": ".py",
   "mimetype": "text/x-python",
   "name": "python",
   "nbconvert_exporter": "python",
   "pygments_lexer": "ipython3",
   "version": "3.8.8"
  },
  "widgets": {
   "application/vnd.jupyter.widget-state+json": {
    "state": {},
    "version_major": 2,
    "version_minor": 0
   }
  }
 },
 "nbformat": 4,
 "nbformat_minor": 5
}
