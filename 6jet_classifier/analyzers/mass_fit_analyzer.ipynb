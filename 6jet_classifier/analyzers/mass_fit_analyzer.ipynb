{
 "cells": [
  {
   "cell_type": "code",
   "execution_count": 1,
   "metadata": {},
   "outputs": [],
   "source": [
    "import numpy as np"
   ]
  },
  {
   "cell_type": "code",
   "execution_count": 2,
   "metadata": {},
   "outputs": [],
   "source": [
    "from trsm import TRSM, combos_6j"
   ]
  },
  {
   "cell_type": "code",
   "execution_count": 3,
   "metadata": {},
   "outputs": [],
   "source": [
    "import vector"
   ]
  },
  {
   "cell_type": "code",
   "execution_count": 4,
   "metadata": {},
   "outputs": [],
   "source": [
    "filename = f'../../NMSSM_XYH_YToHH_6b_MX_700_MY_400_6jet_testing_set_7jets_2021Aug.root'\n",
    "trsm = TRSM(filename=filename)"
   ]
  },
  {
   "cell_type": "code",
   "execution_count": 5,
   "metadata": {},
   "outputs": [
    {
     "name": "stderr",
     "output_type": "stream",
     "text": [
      "100%|██████████████████████████████████████████████████████| 129355/129355 [03:57<00:00, 544.71it/s]\n",
      "ic| combo_p4.pt: <Array [[120, 115, 76, ... 41.7, 40, 35.9]] type='905485 * var * float64'>\n",
      "ic| type(combo_p4.pt): <class 'awkward.highlevel.Array'>\n"
     ]
    },
    {
     "name": "stdout",
     "output_type": "stream",
     "text": [
      "Total events chosen: 129355\n"
     ]
    }
   ],
   "source": [
    "combos7 = combos_6j(trsm, 7)"
   ]
  },
  {
   "cell_type": "code",
   "execution_count": 6,
   "metadata": {},
   "outputs": [],
   "source": [
    "pt_7  = combos7.combo_features[:,0:6]\n",
    "eta_7 = combos7.combo_features[:,6:12]\n",
    "phi_7 = combos7.combo_features[:,12:18]\n",
    "m_7   = np.ones(pt_7.shape)*4"
   ]
  },
  {
   "cell_type": "code",
   "execution_count": 7,
   "metadata": {},
   "outputs": [],
   "source": [
    "p4_7_0 = vector.obj(pt=pt_7[:,0], eta=eta_7[:,0], phi=phi_7[:,0], mass=m_7[:,0])\n",
    "p4_7_1 = vector.obj(pt=pt_7[:,1], eta=eta_7[:,1], phi=phi_7[:,1], mass=m_7[:,1])\n",
    "p4_7_2 = vector.obj(pt=pt_7[:,2], eta=eta_7[:,2], phi=phi_7[:,2], mass=m_7[:,2])\n",
    "p4_7_3 = vector.obj(pt=pt_7[:,3], eta=eta_7[:,3], phi=phi_7[:,3], mass=m_7[:,3])\n",
    "p4_7_4 = vector.obj(pt=pt_7[:,4], eta=eta_7[:,4], phi=phi_7[:,4], mass=m_7[:,4])\n",
    "p4_7_5 = vector.obj(pt=pt_7[:,5], eta=eta_7[:,5], phi=phi_7[:,5], mass=m_7[:,5])"
   ]
  },
  {
   "cell_type": "code",
   "execution_count": 8,
   "metadata": {},
   "outputs": [],
   "source": [
    "p4_7 = p4_7_0 + p4_7_1 + p4_7_2 + p4_7_3 + p4_7_4 + p4_7_5"
   ]
  },
  {
   "cell_type": "code",
   "execution_count": 9,
   "metadata": {},
   "outputs": [],
   "source": [
    "p4_7 = combos7.sixjet_p4"
   ]
  },
  {
   "cell_type": "code",
   "execution_count": 10,
   "metadata": {},
   "outputs": [],
   "source": [
    "import awkward as ak"
   ]
  },
  {
   "cell_type": "code",
   "execution_count": 11,
   "metadata": {},
   "outputs": [],
   "source": [
    "sgnl_mass_7 = ak.to_numpy(p4_7.mass[combos7.sgnl_mask])\n",
    "bkgd_mass_7 = ak.to_numpy(p4_7.mass[~combos7.sgnl_mask])"
   ]
  },
  {
   "cell_type": "code",
   "execution_count": 12,
   "metadata": {},
   "outputs": [
    {
     "name": "stdout",
     "output_type": "stream",
     "text": [
      "[[Model]]\n",
      "    Model(gaussian)\n",
      "[[Fit Statistics]]\n",
      "    # fitting method   = leastsq\n",
      "    # function evals   = 21\n",
      "    # data points      = 149\n",
      "    # variables        = 3\n",
      "    chi-square         = 151070.705\n",
      "    reduced chi-square = 1034.73086\n",
      "    Akaike info crit   = 1037.31198\n",
      "    Bayesian info crit = 1046.32382\n",
      "[[Variables]]\n",
      "    amplitude:  237165.215 +/- 1242.09946 (0.52%) (init = 333455)\n",
      "    center:     669.022491 +/- 0.31583334 (0.05%) (init = 667.7852)\n",
      "    sigma:      52.2253080 +/- 0.31583334 (0.60%) (init = 59.0604)\n",
      "    fwhm:       122.981200 +/- 0.74373067 (0.60%) == '2.3548200*sigma'\n",
      "    height:     1811.67407 +/- 9.48826756 (0.52%) == '0.3989423*amplitude/max(1e-15, sigma)'\n",
      "[[Correlations]] (unreported correlations are < 0.250)\n",
      "    C(amplitude, sigma) =  0.577\n"
     ]
    }
   ],
   "source": [
    "from lmfit.models import GaussianModel\n",
    "\n",
    "bins = np.linspace(300,1100,150)\n",
    "n_s, b_s = np.histogram(sgnl_mass_7, bins=bins)\n",
    "\n",
    "x = (b_s[1:] + b_s[:-1]) / 2\n",
    "y = n_s\n",
    "\n",
    "mod = GaussianModel()\n",
    "\n",
    "pars = mod.guess(y, x=x)\n",
    "out = mod.fit(y, pars, x=x)\n",
    "\n",
    "print(out.fit_report(min_correl=0.25))"
   ]
  },
  {
   "cell_type": "code",
   "execution_count": 13,
   "metadata": {},
   "outputs": [
    {
     "data": {
      "text/plain": [
       "{'amplitude': 237165.2145737275,\n",
       " 'center': 669.0224912511314,\n",
       " 'sigma': 52.225308006606774}"
      ]
     },
     "execution_count": 13,
     "metadata": {},
     "output_type": "execute_result"
    }
   ],
   "source": [
    "out.best_values"
   ]
  },
  {
   "cell_type": "code",
   "execution_count": 14,
   "metadata": {},
   "outputs": [],
   "source": [
    "A = out.best_values['amplitude']\n",
    "c = out.best_values['center']\n",
    "s = out.best_values['sigma']"
   ]
  },
  {
   "cell_type": "code",
   "execution_count": 15,
   "metadata": {},
   "outputs": [],
   "source": [
    "def gaussian(x, mu, sig):\n",
    "    return np.exp(-np.power(x - mu, 2.) / (2 * np.power(sig, 2.)))"
   ]
  },
  {
   "cell_type": "code",
   "execution_count": 16,
   "metadata": {},
   "outputs": [],
   "source": [
    "min_mass = c - 2*s\n",
    "max_mass = c + 2*s"
   ]
  },
  {
   "cell_type": "code",
   "execution_count": 17,
   "metadata": {},
   "outputs": [
    {
     "data": {
      "text/plain": [
       "564.5718752379179"
      ]
     },
     "execution_count": 17,
     "metadata": {},
     "output_type": "execute_result"
    }
   ],
   "source": [
    "min_mass"
   ]
  },
  {
   "cell_type": "code",
   "execution_count": 18,
   "metadata": {},
   "outputs": [
    {
     "data": {
      "text/plain": [
       "773.473107264345"
      ]
     },
     "execution_count": 18,
     "metadata": {},
     "output_type": "execute_result"
    }
   ],
   "source": [
    "max_mass"
   ]
  },
  {
   "cell_type": "code",
   "execution_count": 19,
   "metadata": {},
   "outputs": [],
   "source": [
    "sgnl_mass_mask = np.logical_and(sgnl_mass_7 > min_mass, sgnl_mass_7 < max_mass)\n",
    "bkgd_mass_mask = np.logical_and(bkgd_mass_7 > min_mass, bkgd_mass_7 < max_mass)"
   ]
  },
  {
   "cell_type": "code",
   "execution_count": 20,
   "metadata": {},
   "outputs": [
    {
     "data": {
      "text/plain": [
       "0.46174401546782134"
      ]
     },
     "execution_count": 20,
     "metadata": {},
     "output_type": "execute_result"
    }
   ],
   "source": [
    "len(bkgd_mass_7[bkgd_mass_mask])/len(bkgd_mass_7)"
   ]
  },
  {
   "cell_type": "code",
   "execution_count": 21,
   "metadata": {},
   "outputs": [],
   "source": [
    "%matplotlib widget\n",
    "import matplotlib.pyplot as plt"
   ]
  },
  {
   "cell_type": "code",
   "execution_count": 22,
   "metadata": {},
   "outputs": [],
   "source": [
    "from consistent_plots import hist"
   ]
  },
  {
   "cell_type": "code",
   "execution_count": 23,
   "metadata": {},
   "outputs": [
    {
     "data": {
      "application/vnd.jupyter.widget-view+json": {
       "model_id": "0e3e99b110a44fff82d37fd738cc5da4",
       "version_major": 2,
       "version_minor": 0
      },
      "text/plain": [
       "Canvas(toolbar=Toolbar(toolitems=[('Home', 'Reset original view', 'home', 'home'), ('Back', 'Back to previous …"
      ]
     },
     "metadata": {},
     "output_type": "display_data"
    },
    {
     "data": {
      "text/plain": [
       "Text(0, 0.5, 'AU')"
      ]
     },
     "execution_count": 23,
     "metadata": {},
     "output_type": "execute_result"
    }
   ],
   "source": [
    "fig, ax = plt.subplots()\n",
    "ax.set_title(r\"$^7C_6$ Combinations Normalized\")\n",
    "\n",
    "bins = np.linspace(300,1100,150)\n",
    "\n",
    "n_s, b_s = np.histogram(sgnl_mass_7[sgnl_mass_mask], bins=bins)\n",
    "n_b, b_b = np.histogram(bkgd_mass_7[bkgd_mass_mask], bins=bins)\n",
    "n, b = np.histogram(ak.to_numpy(p4_7.mass), bins=bins)\n",
    "\n",
    "x = (b_s[1:] + b_s[:-1])/2\n",
    "\n",
    "gaus = gaussian(x, c, s)\n",
    "_ = hist(ax, x, weights=n_s/n.max(), bins=bins, label='Signal')\n",
    "_ = hist(ax, x, weights=n_b/n.max(), bins=bins, label='Background')\n",
    "_ = ax.plot(x, n_s.max()*gaus/n.max())\n",
    "\n",
    "# _ = hist(ax, x, weights=n/n.max(), label='All')\n",
    "ax.legend(loc=1, fontsize='small')\n",
    "ax.set_xlabel(r'Invariant Mass [GeV]')\n",
    "ax.set_ylabel('AU')"
   ]
  },
  {
   "cell_type": "code",
   "execution_count": 24,
   "metadata": {},
   "outputs": [
    {
     "data": {
      "text/plain": [
       "0.05068443983058803"
      ]
     },
     "execution_count": 24,
     "metadata": {},
     "output_type": "execute_result"
    }
   ],
   "source": [
    "len(sgnl_mass_mask) / (len(sgnl_mass_mask) + len(bkgd_mass_mask))"
   ]
  },
  {
   "cell_type": "code",
   "execution_count": null,
   "metadata": {},
   "outputs": [],
   "source": []
  },
  {
   "cell_type": "code",
   "execution_count": null,
   "metadata": {},
   "outputs": [],
   "source": []
  },
  {
   "cell_type": "code",
   "execution_count": null,
   "metadata": {},
   "outputs": [],
   "source": []
  },
  {
   "cell_type": "code",
   "execution_count": null,
   "metadata": {},
   "outputs": [],
   "source": []
  },
  {
   "cell_type": "code",
   "execution_count": null,
   "metadata": {},
   "outputs": [],
   "source": []
  },
  {
   "cell_type": "code",
   "execution_count": null,
   "metadata": {},
   "outputs": [],
   "source": []
  }
 ],
 "metadata": {
  "kernelspec": {
   "display_name": "Python 3 (ipykernel)",
   "language": "python",
   "name": "python3"
  },
  "language_info": {
   "codemirror_mode": {
    "name": "ipython",
    "version": 3
   },
   "file_extension": ".py",
   "mimetype": "text/x-python",
   "name": "python",
   "nbconvert_exporter": "python",
   "pygments_lexer": "ipython3",
   "version": "3.8.8"
  },
  "widgets": {
   "application/vnd.jupyter.widget-state+json": {
    "state": {},
    "version_major": 2,
    "version_minor": 0
   }
  }
 },
 "nbformat": 4,
 "nbformat_minor": 4
}
