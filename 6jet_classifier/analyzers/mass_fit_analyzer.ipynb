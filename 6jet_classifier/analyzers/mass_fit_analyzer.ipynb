{
 "cells": [
  {
   "cell_type": "code",
   "execution_count": 1,
   "metadata": {},
   "outputs": [],
   "source": [
    "import numpy as np"
   ]
  },
  {
   "cell_type": "code",
   "execution_count": 2,
   "metadata": {},
   "outputs": [],
   "source": [
    "from trsm import TRSM, combos"
   ]
  },
  {
   "cell_type": "code",
   "execution_count": 3,
   "metadata": {},
   "outputs": [],
   "source": [
    "import vector"
   ]
  },
  {
   "cell_type": "code",
   "execution_count": 4,
   "metadata": {},
   "outputs": [
    {
     "name": "stdout",
     "output_type": "stream",
     "text": [
      "-- [INFO] -- /uscms/home/srosenzw/nobackup/miniconda3/envs/work/lib/python3.8/runpy.py -- Opening ROOT file ../../signal/skimmed/NMSSM_XYH_YToHH_6b_MX_700_MY_400_testing_set_skimmed.root with columns\n",
      "----------------------------------------------------------------------------------------------------\n",
      "                                            TABLE COLUMNS                                           \n",
      "----------------------------------------------------------------------------------------------------\n",
      "-- [INFO] -- /uscms/home/srosenzw/nobackup/miniconda3/envs/work/lib/python3.8/runpy.py -- Tree contains 269883 events.\n",
      "jet_pt                            jet_eta                           jet_phi                           \n",
      "jet_m                             jet_btag                          jet_qgl                           \n",
      "jet_idx                           jet_hadronFlav                    jet_partonFlav                    \n",
      "HX_b1_recojet_m                   HX_b1_recojet_pt                  HX_b1_recojet_eta                 \n",
      "HX_b1_recojet_phi                 HX_b1_recojet_ptRegressed         HX_b2_recojet_m                   \n",
      "HX_b2_recojet_pt                  HX_b2_recojet_eta                 HX_b2_recojet_phi                 \n",
      "HX_b2_recojet_ptRegressed         HY1_b1_recojet_m                  HY1_b1_recojet_pt                 \n",
      "HY1_b1_recojet_eta                HY1_b1_recojet_phi                HY1_b1_recojet_ptRegressed        \n",
      "HY1_b2_recojet_m                  HY1_b2_recojet_pt                 HY1_b2_recojet_eta                \n",
      "HY1_b2_recojet_phi                HY1_b2_recojet_ptRegressed        HY2_b1_recojet_m                  \n",
      "HY2_b1_recojet_pt                 HY2_b1_recojet_eta                HY2_b1_recojet_phi                \n",
      "HY2_b1_recojet_ptRegressed        HY2_b2_recojet_m                  HY2_b2_recojet_pt                 \n",
      "HY2_b2_recojet_eta                HY2_b2_recojet_phi                HY2_b2_recojet_ptRegressed        \n",
      "----------------------------------------------------------------------------------------------------\n"
     ]
    }
   ],
   "source": [
    "filename = f'../../signal/skimmed/NMSSM_XYH_YToHH_6b_MX_700_MY_400_testing_set_skimmed.root'\n",
    "trsm = TRSM(filename=filename)"
   ]
  },
  {
   "cell_type": "code",
   "execution_count": 5,
   "metadata": {},
   "outputs": [
    {
     "name": "stderr",
     "output_type": "stream",
     "text": [
      "100%|█████████████████████████████████████████████████████| 269883/269883 [01:44<00:00, 2592.49it/s]\n"
     ]
    },
    {
     "name": "stdout",
     "output_type": "stream",
     "text": [
      "Total events chosen: 40778\n"
     ]
    }
   ],
   "source": [
    "combos7 = combos(trsm, 7)"
   ]
  },
  {
   "cell_type": "code",
   "execution_count": 6,
   "metadata": {},
   "outputs": [],
   "source": [
    "pt_7  = combos7.combo_features[:,0:6]\n",
    "eta_7 = combos7.combo_features[:,6:12]\n",
    "phi_7 = combos7.combo_features[:,12:18]\n",
    "m_7   = np.ones(pt_7.shape)*4"
   ]
  },
  {
   "cell_type": "code",
   "execution_count": 7,
   "metadata": {},
   "outputs": [],
   "source": [
    "p4_7_0 = vector.obj(pt=pt_7[:,0], eta=eta_7[:,0], phi=phi_7[:,0], mass=m_7[:,0])\n",
    "p4_7_1 = vector.obj(pt=pt_7[:,1], eta=eta_7[:,1], phi=phi_7[:,1], mass=m_7[:,1])\n",
    "p4_7_2 = vector.obj(pt=pt_7[:,2], eta=eta_7[:,2], phi=phi_7[:,2], mass=m_7[:,2])\n",
    "p4_7_3 = vector.obj(pt=pt_7[:,3], eta=eta_7[:,3], phi=phi_7[:,3], mass=m_7[:,3])\n",
    "p4_7_4 = vector.obj(pt=pt_7[:,4], eta=eta_7[:,4], phi=phi_7[:,4], mass=m_7[:,4])\n",
    "p4_7_5 = vector.obj(pt=pt_7[:,5], eta=eta_7[:,5], phi=phi_7[:,5], mass=m_7[:,5])"
   ]
  },
  {
   "cell_type": "code",
   "execution_count": 8,
   "metadata": {},
   "outputs": [],
   "source": [
    "p4_7 = p4_7_0 + p4_7_1 + p4_7_2 + p4_7_3 + p4_7_4 + p4_7_5"
   ]
  },
  {
   "cell_type": "code",
   "execution_count": 9,
   "metadata": {},
   "outputs": [],
   "source": [
    "p4_7 = combos7.sixjet_p4"
   ]
  },
  {
   "cell_type": "code",
   "execution_count": 10,
   "metadata": {},
   "outputs": [],
   "source": [
    "sgnl_mass_7 = p4_7.mass[combos7.sgnl_mask]\n",
    "bkgd_mass_7 = p4_7.mass[~combos7.sgnl_mask]"
   ]
  },
  {
   "cell_type": "code",
   "execution_count": 11,
   "metadata": {},
   "outputs": [
    {
     "ename": "ModuleNotFoundError",
     "evalue": "No module named 'lmfit'",
     "output_type": "error",
     "traceback": [
      "\u001b[0;31m---------------------------------------------------------------------------\u001b[0m",
      "\u001b[0;31mModuleNotFoundError\u001b[0m                       Traceback (most recent call last)",
      "\u001b[0;32m/tmp/ipykernel_20561/571343804.py\u001b[0m in \u001b[0;36m<module>\u001b[0;34m\u001b[0m\n\u001b[0;32m----> 1\u001b[0;31m \u001b[0;32mfrom\u001b[0m \u001b[0mlmfit\u001b[0m\u001b[0;34m.\u001b[0m\u001b[0mmodels\u001b[0m \u001b[0;32mimport\u001b[0m \u001b[0mGaussianModel\u001b[0m\u001b[0;34m\u001b[0m\u001b[0;34m\u001b[0m\u001b[0m\n\u001b[0m\u001b[1;32m      2\u001b[0m \u001b[0;34m\u001b[0m\u001b[0m\n\u001b[1;32m      3\u001b[0m \u001b[0mbins\u001b[0m \u001b[0;34m=\u001b[0m \u001b[0mnp\u001b[0m\u001b[0;34m.\u001b[0m\u001b[0mlinspace\u001b[0m\u001b[0;34m(\u001b[0m\u001b[0;36m300\u001b[0m\u001b[0;34m,\u001b[0m\u001b[0;36m1100\u001b[0m\u001b[0;34m,\u001b[0m\u001b[0;36m150\u001b[0m\u001b[0;34m)\u001b[0m\u001b[0;34m\u001b[0m\u001b[0;34m\u001b[0m\u001b[0m\n\u001b[1;32m      4\u001b[0m \u001b[0mn_s\u001b[0m\u001b[0;34m,\u001b[0m \u001b[0mb_s\u001b[0m \u001b[0;34m=\u001b[0m \u001b[0mnp\u001b[0m\u001b[0;34m.\u001b[0m\u001b[0mhistogram\u001b[0m\u001b[0;34m(\u001b[0m\u001b[0msgnl_mass_7\u001b[0m\u001b[0;34m,\u001b[0m \u001b[0mbins\u001b[0m\u001b[0;34m=\u001b[0m\u001b[0mbins\u001b[0m\u001b[0;34m)\u001b[0m\u001b[0;34m\u001b[0m\u001b[0;34m\u001b[0m\u001b[0m\n\u001b[1;32m      5\u001b[0m \u001b[0;34m\u001b[0m\u001b[0m\n",
      "\u001b[0;31mModuleNotFoundError\u001b[0m: No module named 'lmfit'"
     ]
    }
   ],
   "source": [
    "from lmfit.models import GaussianModel\n",
    "\n",
    "bins = np.linspace(300,1100,150)\n",
    "n_s, b_s = np.histogram(sgnl_mass_7, bins=bins)\n",
    "\n",
    "x = (b_s[1:] + b_s[:-1]) / 2\n",
    "y = n_s\n",
    "\n",
    "mod = GaussianModel()\n",
    "\n",
    "pars = mod.guess(y, x=x)\n",
    "out = mod.fit(y, pars, x=x)\n",
    "\n",
    "print(out.fit_report(min_correl=0.25))"
   ]
  },
  {
   "cell_type": "code",
   "execution_count": null,
   "metadata": {},
   "outputs": [],
   "source": [
    "out.best_values"
   ]
  },
  {
   "cell_type": "code",
   "execution_count": null,
   "metadata": {},
   "outputs": [],
   "source": [
    "A = out.best_values['amplitude']\n",
    "c = out.best_values['center']\n",
    "s = out.best_values['sigma']"
   ]
  },
  {
   "cell_type": "code",
   "execution_count": null,
   "metadata": {},
   "outputs": [],
   "source": [
    "def gaussian(x, mu, sig):\n",
    "    return np.exp(-np.power(x - mu, 2.) / (2 * np.power(sig, 2.)))"
   ]
  },
  {
   "cell_type": "code",
   "execution_count": null,
   "metadata": {},
   "outputs": [],
   "source": [
    "min_mass = c - 2*s\n",
    "max_mass = c + 2*s"
   ]
  },
  {
   "cell_type": "code",
   "execution_count": null,
   "metadata": {},
   "outputs": [],
   "source": [
    "sgnl_mass_mask = np.logical_or(sgnl_mass_7 > min_mass, sgnl_mass_7 < max_mass)\n",
    "bkgd_mass_mask = np.logical_or(bkgd_mass_7 > min_mass, bkgd_mass_7 < max_mass)"
   ]
  },
  {
   "cell_type": "code",
   "execution_count": null,
   "metadata": {},
   "outputs": [],
   "source": [
    "import matplotlib.pyplot as plt"
   ]
  },
  {
   "cell_type": "code",
   "execution_count": null,
   "metadata": {},
   "outputs": [],
   "source": [
    "from consistent_plots import hist"
   ]
  },
  {
   "cell_type": "code",
   "execution_count": null,
   "metadata": {},
   "outputs": [],
   "source": [
    "fig, ax = plt.subplots()\n",
    "ax.set_title(r\"$^7C_6$ Combinations Normalized\")\n",
    "\n",
    "bins = np.linspace(300,1100,150)\n",
    "\n",
    "n_s, b_s = np.histogram(sgnl_mass_7, bins=bins)\n",
    "n_b, b_b = np.histogram(bkgd_mass_7, bins=bins)\n",
    "n, b = np.histogram(p4_7.mass, bins=bins)\n",
    "\n",
    "x = (b_s[1:] + b_s[:-1])/2\n",
    "\n",
    "gaus = gaussian(x, c, s)\n",
    "_ = hist(ax, x, weights=n_s/n.max(), bins=bins, label='Signal')\n",
    "_ = hist(ax, x, weights=n_b/n.max(), bins=bins, label='Background')\n",
    "_ = ax.plot(x, n_s.max()*gaus/n.max())\n",
    "\n",
    "# _ = hist(ax, x, weights=n/n.max(), label='All')\n",
    "ax.legend(loc=1, fontsize='small')\n",
    "ax.set_xlabel(r'Invariant Mass [GeV]')\n",
    "ax.set_ylabel('AU')"
   ]
  },
  {
   "cell_type": "code",
   "execution_count": null,
   "metadata": {},
   "outputs": [],
   "source": [
    "len(sgnl_mass_mask) / (len(sgnl_mass_mask) + len(bkgd_mass_mask))"
   ]
  },
  {
   "cell_type": "code",
   "execution_count": null,
   "metadata": {},
   "outputs": [],
   "source": []
  },
  {
   "cell_type": "code",
   "execution_count": null,
   "metadata": {},
   "outputs": [],
   "source": []
  }
 ],
 "metadata": {
  "kernelspec": {
   "display_name": "Python 3 (ipykernel)",
   "language": "python",
   "name": "python3"
  },
  "language_info": {
   "codemirror_mode": {
    "name": "ipython",
    "version": 3
   },
   "file_extension": ".py",
   "mimetype": "text/x-python",
   "name": "python",
   "nbconvert_exporter": "python",
   "pygments_lexer": "ipython3",
   "version": "3.8.8"
  }
 },
 "nbformat": 4,
 "nbformat_minor": 4
}
