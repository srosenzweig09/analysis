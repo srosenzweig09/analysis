{
 "cells": [
  {
   "cell_type": "code",
   "execution_count": 1,
   "metadata": {},
   "outputs": [],
   "source": [
    "%load_ext autoreload"
   ]
  },
  {
   "cell_type": "code",
   "execution_count": 2,
   "metadata": {},
   "outputs": [],
   "source": [
    "%autoreload 2"
   ]
  },
  {
   "cell_type": "code",
   "execution_count": 3,
   "metadata": {},
   "outputs": [],
   "source": [
    "%matplotlib widget"
   ]
  },
  {
   "cell_type": "code",
   "execution_count": 4,
   "metadata": {},
   "outputs": [],
   "source": [
    "from trsm import TRSM"
   ]
  },
  {
   "cell_type": "code",
   "execution_count": 5,
   "metadata": {},
   "outputs": [],
   "source": [
    "import awkward as ak"
   ]
  },
  {
   "cell_type": "code",
   "execution_count": 6,
   "metadata": {},
   "outputs": [],
   "source": [
    "filename = f'../../NMSSM_XYH_YToHH_6b_MX_700_MY_400_6jet_testing_set.root'\n",
    "trsm = TRSM(filename=filename)"
   ]
  },
  {
   "cell_type": "code",
   "execution_count": 7,
   "metadata": {},
   "outputs": [
    {
     "name": "stderr",
     "output_type": "stream",
     "text": [
      "100%|█████████████████████████████████████████████████████| 195942/195942 [01:26<00:00, 2263.86it/s]\n"
     ]
    },
    {
     "name": "stdout",
     "output_type": "stream",
     "text": [
      "Total events chosen: 22015\n"
     ]
    }
   ],
   "source": [
    "combos7 = combos_6j(trsm, False)"
   ]
  },
  {
   "cell_type": "code",
   "execution_count": 8,
   "metadata": {},
   "outputs": [
    {
     "data": {
      "text/plain": [
       "<MomentumArray4D [{pt: 198, eta: -0.846, ... m: 17.1}] type='22015 * Momentum4D[...'>"
      ]
     },
     "execution_count": 8,
     "metadata": {},
     "output_type": "execute_result"
    }
   ],
   "source": [
    "combos7.HX_b1_p4[combos7.combo_mask]"
   ]
  },
  {
   "cell_type": "code",
   "execution_count": 9,
   "metadata": {},
   "outputs": [],
   "source": [
    "HX_b1_mask = ak.to_numpy(ak.flatten(combos7.swapped_out_H == 0))\n",
    "HX_b2_mask = ak.to_numpy(ak.flatten(combos7.swapped_out_H == 1))\n",
    "H1_b1_mask = ak.to_numpy(ak.flatten(combos7.swapped_out_H == 2))\n",
    "H1_b2_mask = ak.to_numpy(ak.flatten(combos7.swapped_out_H == 3))\n",
    "H2_b1_mask = ak.to_numpy(ak.flatten(combos7.swapped_out_H == 4))\n",
    "H2_b2_mask = ak.to_numpy(ak.flatten(combos7.swapped_out_H == 5))"
   ]
  },
  {
   "cell_type": "code",
   "execution_count": 10,
   "metadata": {},
   "outputs": [],
   "source": [
    "from keras.models import model_from_json\n",
    "from pickle import load"
   ]
  },
  {
   "cell_type": "code",
   "execution_count": 11,
   "metadata": {},
   "outputs": [],
   "source": [
    "tag = '20210816_5btag_req'"
   ]
  },
  {
   "cell_type": "code",
   "execution_count": 12,
   "metadata": {},
   "outputs": [
    {
     "name": "stderr",
     "output_type": "stream",
     "text": [
      "2021-08-06 06:51:44.545677: I tensorflow/core/platform/cpu_feature_guard.cc:142] This TensorFlow binary is optimized with oneAPI Deep Neural Network Library (oneDNN) to use the following CPU instructions in performance-critical operations:  SSE4.1 SSE4.2 AVX AVX2 FMA\n",
      "To enable them in other operations, rebuild TensorFlow with the appropriate compiler flags.\n"
     ]
    }
   ],
   "source": [
    "json_file = open(f'../models/{tag}/model/model_1.json', 'r')\n",
    "loaded_model_json = json_file.read()\n",
    "json_file.close()\n",
    "loaded_model = model_from_json(loaded_model_json)\n",
    "loaded_model.load_weights(f'../models/{tag}/model/model_1.h5')\n",
    "scaler = load(open(f'../models/{tag}/model/scaler_1.pkl', 'rb'))"
   ]
  },
  {
   "cell_type": "code",
   "execution_count": 13,
   "metadata": {},
   "outputs": [
    {
     "name": "stderr",
     "output_type": "stream",
     "text": [
      "2021-08-06 06:51:45.869037: W tensorflow/core/framework/cpu_allocator_impl.cc:80] Allocation of 18492600 exceeds 10% of free system memory.\n",
      "2021-08-06 06:51:45.923254: I tensorflow/compiler/mlir/mlir_graph_optimization_pass.cc:176] None of the MLIR Optimization Passes are enabled (registered 2)\n",
      "2021-08-06 06:51:45.923924: I tensorflow/core/platform/profile_utils/cpu_utils.cc:114] CPU Frequency: 2000000000 Hz\n"
     ]
    },
    {
     "data": {
      "text/plain": [
       "(154105,)"
      ]
     },
     "execution_count": 13,
     "metadata": {},
     "output_type": "execute_result"
    }
   ],
   "source": [
    "test_features_7 = scaler.transform(combos7.combo_features)\n",
    "scores_7 = loaded_model.predict(test_features_7)[:,0]\n",
    "scores_7.shape"
   ]
  },
  {
   "cell_type": "code",
   "execution_count": 14,
   "metadata": {},
   "outputs": [],
   "source": [
    "sgnl_scores_7 = scores_7[combos7.sgnl_mask]\n",
    "bkgd_scores_7 = scores_7[~combos7.sgnl_mask]"
   ]
  },
  {
   "cell_type": "code",
   "execution_count": 15,
   "metadata": {},
   "outputs": [],
   "source": [
    "import awkward as ak\n",
    "import numpy as np"
   ]
  },
  {
   "cell_type": "code",
   "execution_count": 16,
   "metadata": {},
   "outputs": [],
   "source": [
    "combo_mask = combos7.combo_mask\n",
    "HX_p4 = ak.to_numpy(combos7.HX_p4.m)[combo_mask]\n",
    "H1_p4 = ak.to_numpy(combos7.H1_p4.m)[combo_mask]\n",
    "H2_p4 = ak.to_numpy(combos7.H2_p4.m)[combo_mask]\n",
    "\n",
    "correct_H = np.concatenate((HX_p4, H1_p4, H2_p4))\n",
    "incorrect_H = ak.to_numpy(ak.flatten(combos7.incorrect_H_p4.m))\n",
    "\n",
    "correct_H = correct_H.reshape(correct_H.shape[0],)\n",
    "incorrect_H = incorrect_H.reshape(incorrect_H.shape[0],)"
   ]
  },
  {
   "cell_type": "code",
   "execution_count": 17,
   "metadata": {},
   "outputs": [
    {
     "data": {
      "text/plain": [
       "array([ 1.98343857e+02,  1.62190399e+02,  1.32899078e+02,  6.96733246e+01,\n",
       "        5.23794975e+01,  3.73367653e+01, -8.46313477e-01, -1.21606445e+00,\n",
       "       -4.98962402e-01, -2.43438721e-01, -1.28173828e+00,  2.14721680e-01,\n",
       "       -2.23779297e+00, -4.73022461e-02,  4.04724121e-01, -2.96044922e+00,\n",
       "       -1.38330078e+00,  1.54638672e+00,  9.76562500e-01,  4.38476562e-01,\n",
       "        9.82910156e-01,  9.83886719e-01,  8.54980469e-01,  9.99511719e-01,\n",
       "        2.35930645e+02,  2.38453363e+02,  1.49813705e+02,  6.35504148e+01,\n",
       "        8.47027080e+01,  3.13647469e+01])"
      ]
     },
     "execution_count": 17,
     "metadata": {},
     "output_type": "execute_result"
    }
   ],
   "source": [
    "combos7.combo_features[0]"
   ]
  },
  {
   "cell_type": "code",
   "execution_count": 18,
   "metadata": {},
   "outputs": [],
   "source": [
    "import matplotlib.pyplot as plt\n",
    "from consistent_plots import hist, hist2d"
   ]
  },
  {
   "cell_type": "code",
   "execution_count": 19,
   "metadata": {},
   "outputs": [],
   "source": [
    "def norm_hist(arr, bins=100):\n",
    "    n, b = np.histogram(arr, bins=bins)\n",
    "    x = (b[:-1] + b[1:]) / 2\n",
    "    \n",
    "    return n/n.max(), b, x"
   ]
  },
  {
   "cell_type": "code",
   "execution_count": 20,
   "metadata": {},
   "outputs": [
    {
     "data": {
      "application/vnd.jupyter.widget-view+json": {
       "model_id": "dea98b2efbe74aaa8c5e02862f61272c",
       "version_major": 2,
       "version_minor": 0
      },
      "text/plain": [
       "Canvas(toolbar=Toolbar(toolitems=[('Home', 'Reset original view', 'home', 'home'), ('Back', 'Back to previous …"
      ]
     },
     "metadata": {},
     "output_type": "display_data"
    }
   ],
   "source": [
    "fig, ax = plt.subplots()\n",
    "\n",
    "ax.set_title(r\"$^7C_6$ Combinations Normalized\")\n",
    "\n",
    "n7_1, b7, x7 = norm_hist(incorrect_H, bins=np.linspace(0,1000,100))\n",
    "n7_2, b7, x7 = norm_hist(correct_H, bins=np.linspace(0,1000,100))\n",
    "\n",
    "hist(ax, x7, weights=n7_1, bins=b7, label='Incorrect')\n",
    "hist(ax, x7, weights=n7_2, bins=b7, label='Correct')\n",
    "ax.legend(fontsize='small', loc=9)\n",
    "\n",
    "ax.set_xlabel(r'Dijet Invariant Mass [GeV]')\n",
    "ax.set_ylabel('AU')\n",
    "\n",
    "plt.show()"
   ]
  },
  {
   "cell_type": "code",
   "execution_count": 21,
   "metadata": {},
   "outputs": [
    {
     "data": {
      "application/vnd.jupyter.widget-view+json": {
       "model_id": "e5445eec39904699b5c5ae2ac1880bac",
       "version_major": 2,
       "version_minor": 0
      },
      "text/plain": [
       "Canvas(toolbar=Toolbar(toolitems=[('Home', 'Reset original view', 'home', 'home'), ('Back', 'Back to previous …"
      ]
     },
     "metadata": {},
     "output_type": "display_data"
    }
   ],
   "source": [
    "fig, axs = plt.subplots(nrows=1, ncols=2, figsize=(10,4))\n",
    "\n",
    "ax = axs[0]\n",
    "ax.set_title(r\"$^7C_6$ Combinations Normalized\")\n",
    "\n",
    "n7_0, b7, x7 = norm_hist(incorrect_H[HX_b1_mask], bins=np.linspace(0,600,100))\n",
    "n7_1, b7, x7 = norm_hist(incorrect_H[HX_b2_mask], bins=np.linspace(0,600,100))\n",
    "n7_2, b7, x7 = norm_hist(HX_p4, bins=np.linspace(0,600,100))\n",
    "\n",
    "hist(ax, x7, weights=n7_0, bins=b7, label='HX b1')\n",
    "hist(ax, x7, weights=n7_1, bins=b7, label='HX b2')\n",
    "hist(ax, x7, weights=n7_2, bins=b7, label='True HX')\n",
    "ax.legend(fontsize='small', loc=9)\n",
    "\n",
    "ax.set_xlabel(r'Dijet Invariant Mass [GeV]')\n",
    "ax.set_ylabel('AU')\n",
    "\n",
    "ax = axs[1]\n",
    "ax.set_title(r\"$^7C_6$ Combinations Non-Normalized\")\n",
    "\n",
    "n, *_ = hist(ax, incorrect_H[HX_b1_mask], bins=b7, label='HX b1')\n",
    "n, *_ = hist(ax, incorrect_H[HX_b2_mask], bins=b7, label='HX b2')\n",
    "n, *_ = hist(ax, HX_p4, bins=b7, label='True HX')\n",
    "ax.legend(fontsize='small', loc=9)\n",
    "\n",
    "ax.set_xlabel(r'Dijet Invariant Mass [GeV]')\n",
    "ax.set_ylabel('Count')\n",
    "\n",
    "plt.show()"
   ]
  },
  {
   "cell_type": "code",
   "execution_count": 22,
   "metadata": {},
   "outputs": [
    {
     "data": {
      "application/vnd.jupyter.widget-view+json": {
       "model_id": "5ab521cb3cb14b039091efbeb8571fc7",
       "version_major": 2,
       "version_minor": 0
      },
      "text/plain": [
       "Canvas(toolbar=Toolbar(toolitems=[('Home', 'Reset original view', 'home', 'home'), ('Back', 'Back to previous …"
      ]
     },
     "metadata": {},
     "output_type": "display_data"
    }
   ],
   "source": [
    "fig, axs = plt.subplots(nrows=1, ncols=2, figsize=(10,4))\n",
    "\n",
    "ax = axs[0]\n",
    "ax.set_title(r\"$^7C_6$ Combinations Normalized\")\n",
    "\n",
    "n7_0, b7, x7 = norm_hist(incorrect_H[H1_b1_mask], bins=np.linspace(0,600,100))\n",
    "n7_1, b7, x7 = norm_hist(incorrect_H[H1_b2_mask], bins=np.linspace(0,600,100))\n",
    "n7_2, b7, x7 = norm_hist(H1_p4, bins=np.linspace(0,600,100))\n",
    "\n",
    "hist(ax, x7, weights=n7_0, bins=b7, label='H1 b1')\n",
    "hist(ax, x7, weights=n7_1, bins=b7, label='H1 b2')\n",
    "hist(ax, x7, weights=n7_2, bins=b7, label='True H1')\n",
    "ax.legend(fontsize='small', loc=9)\n",
    "\n",
    "ax.set_xlabel(r'Dijet Invariant Mass [GeV]')\n",
    "ax.set_ylabel('AU')\n",
    "\n",
    "\n",
    "ax = axs[1]\n",
    "ax.set_title(r\"$^7C_6$ Combinations Non-Normalized\")\n",
    "\n",
    "n, *_ = hist(ax, incorrect_H[H1_b1_mask], bins=b7, label='H1 b1')\n",
    "n, *_ = hist(ax, incorrect_H[H1_b2_mask], bins=b7, label='H1 b2')\n",
    "n, *_ = hist(ax, H1_p4, bins=b7, label='True HX')\n",
    "ax.legend(fontsize='small', loc=9)\n",
    "\n",
    "ax.set_xlabel(r'Dijet Invariant Mass [GeV]')\n",
    "ax.set_ylabel('Count')\n",
    "\n",
    "plt.show()"
   ]
  },
  {
   "cell_type": "code",
   "execution_count": 23,
   "metadata": {},
   "outputs": [
    {
     "data": {
      "application/vnd.jupyter.widget-view+json": {
       "model_id": "c39f7ff8922e46f9af63021f7d54f0a6",
       "version_major": 2,
       "version_minor": 0
      },
      "text/plain": [
       "Canvas(toolbar=Toolbar(toolitems=[('Home', 'Reset original view', 'home', 'home'), ('Back', 'Back to previous …"
      ]
     },
     "metadata": {},
     "output_type": "display_data"
    }
   ],
   "source": [
    "fig, axs = plt.subplots(nrows=1, ncols=2, figsize=(10,4))\n",
    "\n",
    "ax = axs[0]\n",
    "ax.set_title(r\"$^7C_6$ Combinations Normalized\")\n",
    "\n",
    "n7_0, b7, x7 = norm_hist(incorrect_H[H2_b1_mask], bins=np.linspace(0,600,100))\n",
    "n7_1, b7, x7 = norm_hist(incorrect_H[H2_b2_mask], bins=np.linspace(0,600,100))\n",
    "n7_2, b7, x7 = norm_hist(H2_p4, bins=np.linspace(0,600,100))\n",
    "\n",
    "hist(ax, x7, weights=n7_0, bins=b7, label='H2 b1')\n",
    "hist(ax, x7, weights=n7_1, bins=b7, label='H2 b2')\n",
    "hist(ax, x7, weights=n7_2, bins=b7, label='True H2')\n",
    "ax.legend(fontsize='small', loc=9)\n",
    "\n",
    "ax.set_xlabel(r'Dijet Invariant Mass [GeV]')\n",
    "ax.set_ylabel('AU')\n",
    "\n",
    "ax = axs[1]\n",
    "ax.set_title(r\"$^7C_6$ Combinations Non-Normalized\")\n",
    "\n",
    "hist(ax, incorrect_H[H2_b1_mask], bins=b7, label='H2 b1')\n",
    "hist(ax, incorrect_H[H2_b2_mask], bins=b7, label='H2 b2')\n",
    "hist(ax, H2_p4, bins=b7, label='True H2')\n",
    "ax.legend(fontsize='small', loc=9)\n",
    "\n",
    "ax.set_xlabel(r'Dijet Invariant Mass [GeV]')\n",
    "ax.set_ylabel('Count')\n",
    "\n",
    "plt.show()"
   ]
  },
  {
   "cell_type": "code",
   "execution_count": 24,
   "metadata": {},
   "outputs": [
    {
     "data": {
      "application/vnd.jupyter.widget-view+json": {
       "model_id": "7030c7f5c2ef47fb84b52c30c9b47f0e",
       "version_major": 2,
       "version_minor": 0
      },
      "text/plain": [
       "Canvas(toolbar=Toolbar(toolitems=[('Home', 'Reset original view', 'home', 'home'), ('Back', 'Back to previous …"
      ]
     },
     "metadata": {},
     "output_type": "display_data"
    }
   ],
   "source": [
    "fig, axs = plt.subplots(nrows=1, ncols=2, figsize=(10,3))\n",
    "\n",
    "ax = axs[0]\n",
    "ax.set_title(r\"$^7C_6$ Combinations Normalized\")\n",
    "\n",
    "n7_1, b7, x7 = norm_hist(incorrect_H[scores_7[~combos7.sgnl_mask] <= 0.8], bins=np.linspace(0,1000,100))\n",
    "n7_2, b7, x7 = norm_hist(incorrect_H[scores_7[~combos7.sgnl_mask] > 0.8], bins=np.linspace(0,1000,100))\n",
    "\n",
    "hist(ax, x7, weights=n7_1, bins=b7, label='Low score')\n",
    "hist(ax, x7, weights=n7_2, bins=b7, label='High Score')\n",
    "ax.legend(fontsize='small', loc=9)\n",
    "\n",
    "ax.set_xlabel('Incorrect Higgs mass')\n",
    "ax.set_ylabel('AU')\n",
    "\n",
    "ax = axs[1]\n",
    "ax.set_title(r\"$^7C_6$ Combinations\")\n",
    "\n",
    "n7_1, b7 = np.histogram(incorrect_H[scores_7[~combos7.sgnl_mask] <= 0.8], bins=np.linspace(0,1000,100))\n",
    "n7_2, b7 = np.histogram(incorrect_H[scores_7[~combos7.sgnl_mask] > 0.8], bins=np.linspace(0,1000,100))\n",
    "\n",
    "hist(ax, x7, weights=n7_1, bins=b7, label='Low score')\n",
    "hist(ax, x7, weights=n7_2, bins=b7, label='High Score')\n",
    "ax.legend(fontsize='small', loc=9)\n",
    "\n",
    "ax.set_xlabel('Incorrect Higgs mass')\n",
    "ax.set_ylabel('AU')\n",
    "\n",
    "plt.show()"
   ]
  },
  {
   "cell_type": "code",
   "execution_count": 25,
   "metadata": {},
   "outputs": [
    {
     "data": {
      "application/vnd.jupyter.widget-view+json": {
       "model_id": "ec07a72380d845e99897a64121eb57ed",
       "version_major": 2,
       "version_minor": 0
      },
      "text/plain": [
       "Canvas(toolbar=Toolbar(toolitems=[('Home', 'Reset original view', 'home', 'home'), ('Back', 'Back to previous …"
      ]
     },
     "metadata": {},
     "output_type": "display_data"
    }
   ],
   "source": [
    "fig, axs = plt.subplots(nrows=2, ncols=2, figsize=(10,10))\n",
    "\n",
    "ax = axs[0][0]\n",
    "n, x, y, im = hist2d(ax, incorrect_H, scores_7[~combos7.sgnl_mask], xbins=np.linspace(0,500,100))\n",
    "plt.colorbar(im, ax=ax)\n",
    "ax.set_ylabel(\"Assigned Score\")\n",
    "\n",
    "ax = axs[0][1]\n",
    "n, x, y, im = hist2d(ax, incorrect_H[HX_b1_mask | HX_b2_mask], scores_7[~combos7.sgnl_mask][HX_b1_mask | HX_b2_mask], xbins=np.linspace(0,500,100))\n",
    "plt.colorbar(im, ax=ax)\n",
    "ax.set_ylabel(\"Assigned Score\")\n",
    "\n",
    "ax = axs[1][0]\n",
    "n, x, y, im = hist2d(ax, incorrect_H[H1_b1_mask | H1_b2_mask], scores_7[~combos7.sgnl_mask][H1_b1_mask | H1_b2_mask], xbins=np.linspace(0,500,100))\n",
    "plt.colorbar(im, ax=ax)\n",
    "ax.set_ylabel(\"Assigned Score\")\n",
    "\n",
    "ax = axs[1][1]\n",
    "n, x, y, im = hist2d(ax, incorrect_H[H2_b1_mask | H2_b2_mask], scores_7[~combos7.sgnl_mask][H2_b1_mask | H2_b2_mask], xbins=np.linspace(0,500,100))\n",
    "plt.colorbar(im, ax=ax)\n",
    "ax.set_ylabel(\"Assigned Score\")\n",
    "\n",
    "plt.show()"
   ]
  },
  {
   "cell_type": "code",
   "execution_count": 26,
   "metadata": {},
   "outputs": [
    {
     "data": {
      "application/vnd.jupyter.widget-view+json": {
       "model_id": "47f241443896444c89b573c2386fed70",
       "version_major": 2,
       "version_minor": 0
      },
      "text/plain": [
       "Canvas(toolbar=Toolbar(toolitems=[('Home', 'Reset original view', 'home', 'home'), ('Back', 'Back to previous …"
      ]
     },
     "metadata": {},
     "output_type": "display_data"
    },
    {
     "ename": "AttributeError",
     "evalue": "'numpy.ndarray' object has no attribute 'hist2d'",
     "output_type": "error",
     "traceback": [
      "\u001b[0;31m---------------------------------------------------------------------------\u001b[0m",
      "\u001b[0;31mAttributeError\u001b[0m                            Traceback (most recent call last)",
      "\u001b[0;32m/tmp/ipykernel_23578/2602833014.py\u001b[0m in \u001b[0;36m<module>\u001b[0;34m\u001b[0m\n\u001b[1;32m      1\u001b[0m \u001b[0mfig\u001b[0m\u001b[0;34m,\u001b[0m \u001b[0max\u001b[0m \u001b[0;34m=\u001b[0m \u001b[0mplt\u001b[0m\u001b[0;34m.\u001b[0m\u001b[0msubplots\u001b[0m\u001b[0;34m(\u001b[0m\u001b[0mnrows\u001b[0m\u001b[0;34m=\u001b[0m\u001b[0;36m2\u001b[0m\u001b[0;34m,\u001b[0m \u001b[0mncols\u001b[0m\u001b[0;34m=\u001b[0m\u001b[0;36m3\u001b[0m\u001b[0;34m)\u001b[0m\u001b[0;34m\u001b[0m\u001b[0;34m\u001b[0m\u001b[0m\n\u001b[1;32m      2\u001b[0m \u001b[0;34m\u001b[0m\u001b[0m\n\u001b[0;32m----> 3\u001b[0;31m \u001b[0mn\u001b[0m\u001b[0;34m,\u001b[0m \u001b[0mx\u001b[0m\u001b[0;34m,\u001b[0m \u001b[0my\u001b[0m\u001b[0;34m,\u001b[0m \u001b[0mim\u001b[0m \u001b[0;34m=\u001b[0m \u001b[0mhist2d\u001b[0m\u001b[0;34m(\u001b[0m\u001b[0max\u001b[0m\u001b[0;34m,\u001b[0m \u001b[0mincorrect_H\u001b[0m\u001b[0;34m,\u001b[0m \u001b[0mscores_7\u001b[0m\u001b[0;34m[\u001b[0m\u001b[0;34m~\u001b[0m\u001b[0mcombos7\u001b[0m\u001b[0;34m.\u001b[0m\u001b[0msgnl_mask\u001b[0m\u001b[0;34m]\u001b[0m\u001b[0;34m,\u001b[0m \u001b[0mxbins\u001b[0m\u001b[0;34m=\u001b[0m\u001b[0mnp\u001b[0m\u001b[0;34m.\u001b[0m\u001b[0mlinspace\u001b[0m\u001b[0;34m(\u001b[0m\u001b[0;36m0\u001b[0m\u001b[0;34m,\u001b[0m\u001b[0;36m500\u001b[0m\u001b[0;34m,\u001b[0m\u001b[0;36m100\u001b[0m\u001b[0;34m)\u001b[0m\u001b[0;34m)\u001b[0m\u001b[0;34m\u001b[0m\u001b[0;34m\u001b[0m\u001b[0m\n\u001b[0m\u001b[1;32m      4\u001b[0m \u001b[0mplt\u001b[0m\u001b[0;34m.\u001b[0m\u001b[0mcolorbar\u001b[0m\u001b[0;34m(\u001b[0m\u001b[0mim\u001b[0m\u001b[0;34m,\u001b[0m \u001b[0max\u001b[0m\u001b[0;34m=\u001b[0m\u001b[0max\u001b[0m\u001b[0;34m)\u001b[0m\u001b[0;34m\u001b[0m\u001b[0;34m\u001b[0m\u001b[0m\n\u001b[1;32m      5\u001b[0m \u001b[0;34m\u001b[0m\u001b[0m\n",
      "\u001b[0;32m~/nobackup/modules/consistent_plots.py\u001b[0m in \u001b[0;36mhist2d\u001b[0;34m(ax, x, y, xbins, ybins, norm)\u001b[0m\n\u001b[1;32m     26\u001b[0m \u001b[0;32mdef\u001b[0m \u001b[0mhist2d\u001b[0m\u001b[0;34m(\u001b[0m\u001b[0max\u001b[0m\u001b[0;34m,\u001b[0m \u001b[0mx\u001b[0m\u001b[0;34m,\u001b[0m \u001b[0my\u001b[0m\u001b[0;34m,\u001b[0m \u001b[0mxbins\u001b[0m\u001b[0;34m=\u001b[0m\u001b[0;36m100\u001b[0m\u001b[0;34m,\u001b[0m \u001b[0mybins\u001b[0m\u001b[0;34m=\u001b[0m\u001b[0;36m100\u001b[0m\u001b[0;34m,\u001b[0m \u001b[0mnorm\u001b[0m\u001b[0;34m=\u001b[0m\u001b[0mLogNorm\u001b[0m\u001b[0;34m(\u001b[0m\u001b[0;34m)\u001b[0m\u001b[0;34m)\u001b[0m\u001b[0;34m:\u001b[0m\u001b[0;34m\u001b[0m\u001b[0;34m\u001b[0m\u001b[0m\n\u001b[1;32m     27\u001b[0m     \u001b[0mcmap\u001b[0m \u001b[0;34m=\u001b[0m \u001b[0mchange_cmap_bkg_to_white\u001b[0m\u001b[0;34m(\u001b[0m\u001b[0;34m'rainbow'\u001b[0m\u001b[0;34m)\u001b[0m\u001b[0;34m\u001b[0m\u001b[0;34m\u001b[0m\u001b[0m\n\u001b[0;32m---> 28\u001b[0;31m     \u001b[0;32mreturn\u001b[0m \u001b[0max\u001b[0m\u001b[0;34m.\u001b[0m\u001b[0mhist2d\u001b[0m\u001b[0;34m(\u001b[0m\u001b[0mx\u001b[0m\u001b[0;34m,\u001b[0m \u001b[0my\u001b[0m\u001b[0;34m,\u001b[0m \u001b[0mbins\u001b[0m\u001b[0;34m=\u001b[0m\u001b[0;34m(\u001b[0m\u001b[0mxbins\u001b[0m\u001b[0;34m,\u001b[0m \u001b[0mybins\u001b[0m\u001b[0;34m)\u001b[0m\u001b[0;34m,\u001b[0m \u001b[0mnorm\u001b[0m\u001b[0;34m=\u001b[0m\u001b[0mLogNorm\u001b[0m\u001b[0;34m(\u001b[0m\u001b[0;34m)\u001b[0m\u001b[0;34m,\u001b[0m \u001b[0mcmap\u001b[0m\u001b[0;34m=\u001b[0m\u001b[0mcmap\u001b[0m\u001b[0;34m)\u001b[0m\u001b[0;34m\u001b[0m\u001b[0;34m\u001b[0m\u001b[0m\n\u001b[0m\u001b[1;32m     29\u001b[0m \u001b[0;34m\u001b[0m\u001b[0m\n\u001b[1;32m     30\u001b[0m \u001b[0;32mdef\u001b[0m \u001b[0mnorm_hist\u001b[0m\u001b[0;34m(\u001b[0m\u001b[0marr\u001b[0m\u001b[0;34m,\u001b[0m \u001b[0mbins\u001b[0m\u001b[0;34m=\u001b[0m\u001b[0;36m100\u001b[0m\u001b[0;34m)\u001b[0m\u001b[0;34m:\u001b[0m\u001b[0;34m\u001b[0m\u001b[0;34m\u001b[0m\u001b[0m\n",
      "\u001b[0;31mAttributeError\u001b[0m: 'numpy.ndarray' object has no attribute 'hist2d'"
     ]
    }
   ],
   "source": [
    "fig, ax = plt.subplots(nrows=2, ncols=3)\n",
    "\n",
    "n, x, y, im = hist2d(ax, incorrect_H, scores_7[~combos7.sgnl_mask], xbins=np.linspace(0,500,100))\n",
    "plt.colorbar(im, ax=ax)\n",
    "\n",
    "ax.set_ylabel(\"Assigned Score\")\n",
    "\n",
    "plt.show()"
   ]
  },
  {
   "cell_type": "code",
   "execution_count": null,
   "metadata": {},
   "outputs": [],
   "source": [
    "fig, ax = plt.subplots()\n",
    "\n",
    "ax.set_title(r\"$^7C_6$ Combinations Normalized\")\n",
    "\n",
    "n7_0, b7, x7 = norm_hist(bkgd_scores_7[HX_b1_mask], bins=np.linspace(0,1.01,100))\n",
    "n7_1, b7, x7 = norm_hist(bkgd_scores_7[HX_b2_mask], bins=np.linspace(0,1.01,100))\n",
    "\n",
    "hist(ax, x7, weights=n7_0, bins=b7, label='HX b1')\n",
    "hist(ax, x7, weights=n7_1, bins=b7, label='HX b2')\n",
    "# hist(ax, x7, weights=n7_2, bins=b7, label='True H2')\n",
    "ax.legend(fontsize='small', loc=9)\n",
    "\n",
    "ax.set_xlabel(r'Assigned Score')\n",
    "ax.set_ylabel('AU')\n",
    "\n",
    "plt.show()"
   ]
  },
  {
   "cell_type": "code",
   "execution_count": null,
   "metadata": {},
   "outputs": [],
   "source": [
    "fig, ax = plt.subplots()\n",
    "\n",
    "ax.set_title(r\"$^7C_6$ Combinations Normalized\")\n",
    "\n",
    "n7_0, b7, x7 = norm_hist(bkgd_scores_7[H1_b1_mask], bins=np.linspace(0,1.01,100))\n",
    "n7_1, b7, x7 = norm_hist(bkgd_scores_7[H1_b2_mask], bins=np.linspace(0,1.01,100))\n",
    "\n",
    "hist(ax, x7, weights=n7_0, bins=b7, label='H1 b1')\n",
    "hist(ax, x7, weights=n7_1, bins=b7, label='H1 b2')\n",
    "# hist(ax, x7, weights=n7_2, bins=b7, label='True H2')\n",
    "ax.legend(fontsize='small', loc=9)\n",
    "\n",
    "ax.set_xlabel(r'Assigned Score')\n",
    "ax.set_ylabel('AU')\n",
    "\n",
    "plt.show()"
   ]
  },
  {
   "cell_type": "code",
   "execution_count": null,
   "metadata": {},
   "outputs": [],
   "source": [
    "fig, ax = plt.subplots()\n",
    "\n",
    "ax.set_title(r\"$^7C_6$ Combinations Normalized\")\n",
    "\n",
    "n7_0, b7, x7 = norm_hist(bkgd_scores_7[H2_b1_mask], bins=np.linspace(0,1.01,100))\n",
    "n7_1, b7, x7 = norm_hist(bkgd_scores_7[H2_b2_mask], bins=np.linspace(0,1.01,100))\n",
    "\n",
    "hist(ax, x7, weights=n7_0, bins=b7, label='H2 b1')\n",
    "hist(ax, x7, weights=n7_1, bins=b7, label='H2 b2')\n",
    "# hist(ax, x7, weights=n7_2, bins=b7, label='True H2')\n",
    "ax.legend(fontsize='small', loc=9)\n",
    "\n",
    "ax.set_xlabel(r'Assigned Score')\n",
    "ax.set_ylabel('AU')\n",
    "\n",
    "plt.show()"
   ]
  },
  {
   "cell_type": "code",
   "execution_count": null,
   "metadata": {},
   "outputs": [],
   "source": []
  },
  {
   "cell_type": "code",
   "execution_count": null,
   "metadata": {},
   "outputs": [],
   "source": []
  }
 ],
 "metadata": {
  "interpreter": {
   "hash": "1b7750746940cad55290eceb0294b409311577204cbc8d296288c7b6047f6ec1"
  },
  "kernelspec": {
   "display_name": "Python 3 (ipykernel)",
   "language": "python",
   "name": "python3"
  },
  "language_info": {
   "codemirror_mode": {
    "name": "ipython",
    "version": 3
   },
   "file_extension": ".py",
   "mimetype": "text/x-python",
   "name": "python",
   "nbconvert_exporter": "python",
   "pygments_lexer": "ipython3",
   "version": "3.8.8"
  },
  "widgets": {
   "application/vnd.jupyter.widget-state+json": {
    "state": {},
    "version_major": 2,
    "version_minor": 0
   }
  }
 },
 "nbformat": 4,
 "nbformat_minor": 4
}
