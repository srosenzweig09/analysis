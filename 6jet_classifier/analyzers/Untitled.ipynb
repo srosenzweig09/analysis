{
 "cells": [
  {
   "cell_type": "code",
   "execution_count": 1,
   "id": "b27b3002-f473-40ea-bfab-862fc7b75c0f",
   "metadata": {},
   "outputs": [],
   "source": [
    "%load_ext autoreload\n",
    "%autoreload 2"
   ]
  },
  {
   "cell_type": "code",
   "execution_count": 2,
   "id": "d13a514c-77fb-4097-81f3-d624de796e62",
   "metadata": {},
   "outputs": [],
   "source": [
    "from utils.trsm import training_6j"
   ]
  },
  {
   "cell_type": "code",
   "execution_count": 3,
   "id": "9ffce198-f0be-48f1-b8d1-7125c304cca1",
   "metadata": {},
   "outputs": [],
   "source": [
    "import numpy as np\n",
    "import awkward as ak\n",
    "import uproot as up\n",
    "from utils.trsm import Tree"
   ]
  },
  {
   "cell_type": "code",
   "execution_count": 4,
   "id": "9ed49c3a-8a5e-4958-903a-b2537e034755",
   "metadata": {},
   "outputs": [],
   "source": [
    "train_file = '../../NMSSM_XYH_YToHH_6b_MX_700_MY_400_6jet_training_set.root'"
   ]
  },
  {
   "cell_type": "code",
   "execution_count": 15,
   "id": "e2223b0b-9e7d-46e4-9865-d2256e80780a",
   "metadata": {},
   "outputs": [
    {
     "name": "stdout",
     "output_type": "stream",
     "text": [
      "[[0 0 0 ... 0 0 1]\n",
      " [0 0 0 ... 0 0 1]\n",
      " [0 0 0 ... 0 0 1]\n",
      " ...\n",
      " [0 0 0 ... 0 0 1]\n",
      " [0 0 0 ... 0 0 1]\n",
      " [0 0 0 ... 0 0 1]]\n",
      "[[0 0 0 ... 0 0 0]\n",
      " [0 0 0 ... 0 1 0]\n",
      " [0 0 0 ... 0 1 0]\n",
      " ...\n",
      " [0 0 0 ... 1 0 0]\n",
      " [0 0 0 ... 0 1 0]\n",
      " [0 0 0 ... 0 1 0]]\n"
     ]
    },
    {
     "ename": "SystemExit",
     "evalue": "",
     "output_type": "error",
     "traceback": [
      "An exception has occurred, use %tb to see the full traceback.\n",
      "\u001b[0;31mSystemExit\u001b[0m\n"
     ]
    }
   ],
   "source": [
    "train = training_6j(train_file)"
   ]
  },
  {
   "cell_type": "code",
   "execution_count": 16,
   "id": "41869b52-0f9d-4516-ae0b-97529547972a",
   "metadata": {},
   "outputs": [],
   "source": [
    "import vector"
   ]
  },
  {
   "cell_type": "code",
   "execution_count": 18,
   "id": "a4faa15d-d1fc-4bb5-b9c5-f55d46a63095",
   "metadata": {},
   "outputs": [],
   "source": [
    "def build_p4(pt, eta, phi, m):\n",
    "    return vector.obj(pt=pt, eta=eta, phi=phi, m=m)"
   ]
  },
  {
   "cell_type": "code",
   "execution_count": 20,
   "id": "73000d07-b700-4932-b935-d42f91046a46",
   "metadata": {},
   "outputs": [],
   "source": [
    "tree = Tree(train_file, 'sixBtree', as_ak=True)\n",
    "# sort_mask = ak.argsort(tree.jet_pt, axis=1)[:,::-1]\n",
    "# tree.sort(sort_mask)\n",
    "nevents = len(tree.jet_pt)\n",
    "\n",
    "n_sixb = tree.n_sixb\n",
    "local_ind = ak.local_index(tree.jet_idx)\n",
    "signal_jet_mask = tree.jet_idx > -1\n",
    "signal_jet_ind  = local_ind[signal_jet_mask]\n",
    "excess_jet_ind  = local_ind[~signal_jet_mask]\n",
    "\n",
    "mixed_ind = ak.sort(ak.concatenate((excess_jet_ind, signal_jet_ind), axis=1)[:, :6], axis=1)\n",
    "mixed_ind_np = mixed_ind.to_numpy()\n",
    "\n",
    "signal_p4 = vector.obj(\n",
    "    pt  = tree.jet_pt[signal_jet_mask],\n",
    "    eta = tree.jet_eta[signal_jet_mask],\n",
    "    phi = tree.jet_phi[signal_jet_mask],\n",
    "    m   = tree.jet_m[signal_jet_mask]\n",
    ")\n",
    "\n",
    "excess_p4 = vector.obj(\n",
    "    pt  = tree.jet_pt[mixed_ind],\n",
    "    eta = tree.jet_eta[mixed_ind],\n",
    "    phi = tree.jet_phi[mixed_ind],\n",
    "    m   = tree.jet_m[mixed_ind]\n",
    ")\n",
    "\n",
    "signal_btag = tree.jet_btag[signal_jet_mask].to_numpy()\n",
    "excess_btag = tree.jet_btag[mixed_ind].to_numpy()\n",
    "\n",
    "ind_array = signal_jet_mask\n",
    "jet0_p4s = build_p4(tree.jet_pt[ind_array][:,0], \n",
    "                   tree.jet_eta[ind_array][:,0], \n",
    "                   tree.jet_phi[ind_array][:,0], \n",
    "                   tree.jet_m[ind_array][:,0])\n",
    "jet1_p4s = build_p4(tree.jet_pt[ind_array][:,1], \n",
    "                   tree.jet_eta[ind_array][:,1], \n",
    "                   tree.jet_phi[ind_array][:,1], \n",
    "                   tree.jet_m[ind_array][:,1])\n",
    "jet2_p4s = build_p4(tree.jet_pt[ind_array][:,2], \n",
    "                   tree.jet_eta[ind_array][:,2], \n",
    "                   tree.jet_phi[ind_array][:,2], \n",
    "                   tree.jet_m[ind_array][:,2])\n",
    "jet3_p4s = build_p4(tree.jet_pt[ind_array][:,3], \n",
    "                   tree.jet_eta[ind_array][:,3], \n",
    "                   tree.jet_phi[ind_array][:,3], \n",
    "                   tree.jet_m[ind_array][:,3])\n",
    "jet4_p4s = build_p4(tree.jet_pt[ind_array][:,4], \n",
    "                   tree.jet_eta[ind_array][:,4], \n",
    "                   tree.jet_phi[ind_array][:,4], \n",
    "                   tree.jet_m[ind_array][:,4])\n",
    "jet5_p4s = build_p4(tree.jet_pt[ind_array][:,5], \n",
    "                   tree.jet_eta[ind_array][:,5], \n",
    "                   tree.jet_phi[ind_array][:,5], \n",
    "                   tree.jet_m[ind_array][:,5])\n",
    "\n",
    "ind_array = mixed_ind\n",
    "jet0_p4e = build_p4(tree.jet_pt[ind_array][:,0], \n",
    "                   tree.jet_eta[ind_array][:,0], \n",
    "                   tree.jet_phi[ind_array][:,0], \n",
    "                   tree.jet_m[ind_array][:,0])\n",
    "jet1_p4e = build_p4(tree.jet_pt[ind_array][:,1], \n",
    "                   tree.jet_eta[ind_array][:,1], \n",
    "                   tree.jet_phi[ind_array][:,1], \n",
    "                   tree.jet_m[ind_array][:,1])\n",
    "jet2_p4e = build_p4(tree.jet_pt[ind_array][:,2], \n",
    "                   tree.jet_eta[ind_array][:,2], \n",
    "                   tree.jet_phi[ind_array][:,2], \n",
    "                   tree.jet_m[ind_array][:,2])\n",
    "jet3_p4e = build_p4(tree.jet_pt[ind_array][:,3], \n",
    "                   tree.jet_eta[ind_array][:,3], \n",
    "                   tree.jet_phi[ind_array][:,3], \n",
    "                   tree.jet_m[ind_array][:,3])\n",
    "jet4_p4e = build_p4(tree.jet_pt[ind_array][:,4], \n",
    "                   tree.jet_eta[ind_array][:,4], \n",
    "                   tree.jet_phi[ind_array][:,4], \n",
    "                   tree.jet_m[ind_array][:,4])\n",
    "jet5_p4e = build_p4(tree.jet_pt[ind_array][:,5], \n",
    "                   tree.jet_eta[ind_array][:,5], \n",
    "                   tree.jet_phi[ind_array][:,5], \n",
    "                   tree.jet_m[ind_array][:,5])\n",
    "\n",
    "jet6_p4s = jet0_p4s + jet1_p4s + jet2_p4s + jet3_p4s + jet4_p4s + jet5_p4s\n",
    "jet6_p4e = jet0_p4e + jet1_p4e + jet2_p4e + jet3_p4e + jet4_p4e + jet5_p4e"
   ]
  },
  {
   "cell_type": "code",
   "execution_count": 44,
   "id": "8b860d45-2273-4783-af96-fff4075716d3",
   "metadata": {},
   "outputs": [
    {
     "ename": "ValueError",
     "evalue": "in ListOffsetArray64, cannot convert to RegularArray because subarray lengths are not regular\n\n(https://github.com/scikit-hep/awkward-1.0/blob/1.3.0/src/cpu-kernels/awkward_ListOffsetArray_toRegularArray.cpp#L22)",
     "output_type": "error",
     "traceback": [
      "\u001b[0;31m---------------------------------------------------------------------------\u001b[0m",
      "\u001b[0;31mValueError\u001b[0m                                Traceback (most recent call last)",
      "\u001b[0;32m/tmp/ipykernel_5767/244510363.py\u001b[0m in \u001b[0;36m<module>\u001b[0;34m\u001b[0m\n\u001b[0;32m----> 1\u001b[0;31m \u001b[0mak\u001b[0m\u001b[0;34m.\u001b[0m\u001b[0mfrom_numpy\u001b[0m\u001b[0;34m(\u001b[0m\u001b[0mnp\u001b[0m\u001b[0;34m.\u001b[0m\u001b[0mrepeat\u001b[0m\u001b[0;34m(\u001b[0m\u001b[0mtree\u001b[0m\u001b[0;34m.\u001b[0m\u001b[0mjet_pt\u001b[0m\u001b[0;34m[\u001b[0m\u001b[0;34m:\u001b[0m\u001b[0;34m,\u001b[0m\u001b[0mnp\u001b[0m\u001b[0;34m.\u001b[0m\u001b[0mnewaxis\u001b[0m\u001b[0;34m]\u001b[0m\u001b[0;34m.\u001b[0m\u001b[0mto_numpy\u001b[0m\u001b[0;34m(\u001b[0m\u001b[0;34m)\u001b[0m\u001b[0;34m,\u001b[0m \u001b[0;36m7\u001b[0m\u001b[0;34m,\u001b[0m \u001b[0maxis\u001b[0m\u001b[0;34m=\u001b[0m\u001b[0;36m1\u001b[0m\u001b[0;34m)\u001b[0m\u001b[0;34m)\u001b[0m\u001b[0;34m\u001b[0m\u001b[0;34m\u001b[0m\u001b[0m\n\u001b[0m",
      "\u001b[0;32m~/nobackup/miniconda3/envs/work/lib/python3.8/site-packages/awkward/highlevel.py\u001b[0m in \u001b[0;36mto_numpy\u001b[0;34m(self, allow_missing)\u001b[0m\n\u001b[1;32m    467\u001b[0m         \u001b[0mConverts\u001b[0m \u001b[0mthis\u001b[0m \u001b[0mArray\u001b[0m \u001b[0minto\u001b[0m \u001b[0ma\u001b[0m \u001b[0mNumPy\u001b[0m \u001b[0marray\u001b[0m\u001b[0;34m,\u001b[0m \u001b[0;32mif\u001b[0m \u001b[0mpossible\u001b[0m\u001b[0;34m;\u001b[0m \u001b[0msame\u001b[0m \u001b[0;32mas\u001b[0m \u001b[0;31m#ak.to_numpy.\u001b[0m\u001b[0;34m\u001b[0m\u001b[0;34m\u001b[0m\u001b[0m\n\u001b[1;32m    468\u001b[0m         \"\"\"\n\u001b[0;32m--> 469\u001b[0;31m         \u001b[0;32mreturn\u001b[0m \u001b[0mak\u001b[0m\u001b[0;34m.\u001b[0m\u001b[0moperations\u001b[0m\u001b[0;34m.\u001b[0m\u001b[0mconvert\u001b[0m\u001b[0;34m.\u001b[0m\u001b[0mto_numpy\u001b[0m\u001b[0;34m(\u001b[0m\u001b[0mself\u001b[0m\u001b[0;34m,\u001b[0m \u001b[0mallow_missing\u001b[0m\u001b[0;34m=\u001b[0m\u001b[0mallow_missing\u001b[0m\u001b[0;34m)\u001b[0m\u001b[0;34m\u001b[0m\u001b[0;34m\u001b[0m\u001b[0m\n\u001b[0m\u001b[1;32m    470\u001b[0m \u001b[0;34m\u001b[0m\u001b[0m\n\u001b[1;32m    471\u001b[0m     \u001b[0;34m@\u001b[0m\u001b[0mproperty\u001b[0m\u001b[0;34m\u001b[0m\u001b[0;34m\u001b[0m\u001b[0m\n",
      "\u001b[0;32m~/nobackup/miniconda3/envs/work/lib/python3.8/site-packages/awkward/operations/convert.py\u001b[0m in \u001b[0;36mto_numpy\u001b[0;34m(array, allow_missing)\u001b[0m\n\u001b[1;32m    205\u001b[0m \u001b[0;34m\u001b[0m\u001b[0m\n\u001b[1;32m    206\u001b[0m     \u001b[0;32melif\u001b[0m \u001b[0misinstance\u001b[0m\u001b[0;34m(\u001b[0m\u001b[0marray\u001b[0m\u001b[0;34m,\u001b[0m \u001b[0mak\u001b[0m\u001b[0;34m.\u001b[0m\u001b[0mhighlevel\u001b[0m\u001b[0;34m.\u001b[0m\u001b[0mArray\u001b[0m\u001b[0;34m)\u001b[0m\u001b[0;34m:\u001b[0m\u001b[0;34m\u001b[0m\u001b[0;34m\u001b[0m\u001b[0m\n\u001b[0;32m--> 207\u001b[0;31m         \u001b[0;32mreturn\u001b[0m \u001b[0mto_numpy\u001b[0m\u001b[0;34m(\u001b[0m\u001b[0marray\u001b[0m\u001b[0;34m.\u001b[0m\u001b[0mlayout\u001b[0m\u001b[0;34m,\u001b[0m \u001b[0mallow_missing\u001b[0m\u001b[0;34m=\u001b[0m\u001b[0mallow_missing\u001b[0m\u001b[0;34m)\u001b[0m\u001b[0;34m\u001b[0m\u001b[0;34m\u001b[0m\u001b[0m\n\u001b[0m\u001b[1;32m    208\u001b[0m \u001b[0;34m\u001b[0m\u001b[0m\n\u001b[1;32m    209\u001b[0m     \u001b[0;32melif\u001b[0m \u001b[0misinstance\u001b[0m\u001b[0;34m(\u001b[0m\u001b[0marray\u001b[0m\u001b[0;34m,\u001b[0m \u001b[0mak\u001b[0m\u001b[0;34m.\u001b[0m\u001b[0mhighlevel\u001b[0m\u001b[0;34m.\u001b[0m\u001b[0mRecord\u001b[0m\u001b[0;34m)\u001b[0m\u001b[0;34m:\u001b[0m\u001b[0;34m\u001b[0m\u001b[0;34m\u001b[0m\u001b[0m\n",
      "\u001b[0;32m~/nobackup/miniconda3/envs/work/lib/python3.8/site-packages/awkward/operations/convert.py\u001b[0m in \u001b[0;36mto_numpy\u001b[0;34m(array, allow_missing)\u001b[0m\n\u001b[1;32m    318\u001b[0m \u001b[0;34m\u001b[0m\u001b[0m\n\u001b[1;32m    319\u001b[0m     \u001b[0;32melif\u001b[0m \u001b[0misinstance\u001b[0m\u001b[0;34m(\u001b[0m\u001b[0marray\u001b[0m\u001b[0;34m,\u001b[0m \u001b[0mak\u001b[0m\u001b[0;34m.\u001b[0m\u001b[0mlayout\u001b[0m\u001b[0;34m.\u001b[0m\u001b[0mRegularArray\u001b[0m\u001b[0;34m)\u001b[0m\u001b[0;34m:\u001b[0m\u001b[0;34m\u001b[0m\u001b[0;34m\u001b[0m\u001b[0m\n\u001b[0;32m--> 320\u001b[0;31m         \u001b[0mout\u001b[0m \u001b[0;34m=\u001b[0m \u001b[0mto_numpy\u001b[0m\u001b[0;34m(\u001b[0m\u001b[0marray\u001b[0m\u001b[0;34m.\u001b[0m\u001b[0mcontent\u001b[0m\u001b[0;34m,\u001b[0m \u001b[0mallow_missing\u001b[0m\u001b[0;34m=\u001b[0m\u001b[0mallow_missing\u001b[0m\u001b[0;34m)\u001b[0m\u001b[0;34m\u001b[0m\u001b[0;34m\u001b[0m\u001b[0m\n\u001b[0m\u001b[1;32m    321\u001b[0m         \u001b[0mhead\u001b[0m\u001b[0;34m,\u001b[0m \u001b[0mtail\u001b[0m \u001b[0;34m=\u001b[0m \u001b[0mout\u001b[0m\u001b[0;34m.\u001b[0m\u001b[0mshape\u001b[0m\u001b[0;34m[\u001b[0m\u001b[0;36m0\u001b[0m\u001b[0;34m]\u001b[0m\u001b[0;34m,\u001b[0m \u001b[0mout\u001b[0m\u001b[0;34m.\u001b[0m\u001b[0mshape\u001b[0m\u001b[0;34m[\u001b[0m\u001b[0;36m1\u001b[0m\u001b[0;34m:\u001b[0m\u001b[0;34m]\u001b[0m\u001b[0;34m\u001b[0m\u001b[0;34m\u001b[0m\u001b[0m\n\u001b[1;32m    322\u001b[0m         \u001b[0;32mif\u001b[0m \u001b[0marray\u001b[0m\u001b[0;34m.\u001b[0m\u001b[0msize\u001b[0m \u001b[0;34m==\u001b[0m \u001b[0;36m0\u001b[0m\u001b[0;34m:\u001b[0m\u001b[0;34m\u001b[0m\u001b[0;34m\u001b[0m\u001b[0m\n",
      "\u001b[0;32m~/nobackup/miniconda3/envs/work/lib/python3.8/site-packages/awkward/operations/convert.py\u001b[0m in \u001b[0;36mto_numpy\u001b[0;34m(array, allow_missing)\u001b[0m\n\u001b[1;32m    327\u001b[0m \u001b[0;34m\u001b[0m\u001b[0m\n\u001b[1;32m    328\u001b[0m     \u001b[0;32melif\u001b[0m \u001b[0misinstance\u001b[0m\u001b[0;34m(\u001b[0m\u001b[0marray\u001b[0m\u001b[0;34m,\u001b[0m \u001b[0mak\u001b[0m\u001b[0;34m.\u001b[0m\u001b[0m_util\u001b[0m\u001b[0;34m.\u001b[0m\u001b[0mlisttypes\u001b[0m\u001b[0;34m)\u001b[0m\u001b[0;34m:\u001b[0m\u001b[0;34m\u001b[0m\u001b[0;34m\u001b[0m\u001b[0m\n\u001b[0;32m--> 329\u001b[0;31m         \u001b[0;32mreturn\u001b[0m \u001b[0mto_numpy\u001b[0m\u001b[0;34m(\u001b[0m\u001b[0marray\u001b[0m\u001b[0;34m.\u001b[0m\u001b[0mtoRegularArray\u001b[0m\u001b[0;34m(\u001b[0m\u001b[0;34m)\u001b[0m\u001b[0;34m,\u001b[0m \u001b[0mallow_missing\u001b[0m\u001b[0;34m=\u001b[0m\u001b[0mallow_missing\u001b[0m\u001b[0;34m)\u001b[0m\u001b[0;34m\u001b[0m\u001b[0;34m\u001b[0m\u001b[0m\n\u001b[0m\u001b[1;32m    330\u001b[0m \u001b[0;34m\u001b[0m\u001b[0m\n\u001b[1;32m    331\u001b[0m     \u001b[0;32melif\u001b[0m \u001b[0misinstance\u001b[0m\u001b[0;34m(\u001b[0m\u001b[0marray\u001b[0m\u001b[0;34m,\u001b[0m \u001b[0mak\u001b[0m\u001b[0;34m.\u001b[0m\u001b[0m_util\u001b[0m\u001b[0;34m.\u001b[0m\u001b[0mrecordtypes\u001b[0m\u001b[0;34m)\u001b[0m\u001b[0;34m:\u001b[0m\u001b[0;34m\u001b[0m\u001b[0;34m\u001b[0m\u001b[0m\n",
      "\u001b[0;31mValueError\u001b[0m: in ListOffsetArray64, cannot convert to RegularArray because subarray lengths are not regular\n\n(https://github.com/scikit-hep/awkward-1.0/blob/1.3.0/src/cpu-kernels/awkward_ListOffsetArray_toRegularArray.cpp#L22)"
     ]
    }
   ],
   "source": [
    "ak.from_numpy(np.repeat(tree.jet_pt[:,np.newaxis].to_numpy(), 7, axis=1))"
   ]
  },
  {
   "cell_type": "code",
   "execution_count": 36,
   "id": "301e7fb3-ae77-489b-98f5-6811e4ceb8b0",
   "metadata": {},
   "outputs": [
    {
     "data": {
      "text/plain": [
       "array([ 224.682,  142.267,  170.098], dtype=float32)"
      ]
     },
     "execution_count": 36,
     "metadata": {},
     "output_type": "execute_result"
    }
   ],
   "source": [
    "jet0_p4s.pt.to_numpy()[np.isnan(jet1_p4s.boost_p4(jet6_p4s).pt.to_numpy())]"
   ]
  },
  {
   "cell_type": "code",
   "execution_count": 26,
   "id": "2a05df6f-fd80-44cc-a2ee-185edf408ab0",
   "metadata": {},
   "outputs": [
    {
     "data": {
      "text/plain": [
       "array([ 191.246,  128.518,  123.038], dtype=float32)"
      ]
     },
     "execution_count": 26,
     "metadata": {},
     "output_type": "execute_result"
    }
   ],
   "source": [
    "jet1_p4s.pt.to_numpy()[np.isnan(jet1_p4s.boost_p4(jet6_p4s).pt.to_numpy())]"
   ]
  },
  {
   "cell_type": "code",
   "execution_count": 30,
   "id": "0aff46d5-9cc2-4de3-89c3-30ec710f323b",
   "metadata": {},
   "outputs": [
    {
     "data": {
      "text/plain": [
       "array([ 70.462,  125.113,  70.541], dtype=float32)"
      ]
     },
     "execution_count": 30,
     "metadata": {},
     "output_type": "execute_result"
    }
   ],
   "source": [
    "jet2_p4s.pt.to_numpy()[np.isnan(jet2_p4s.boost_p4(jet6_p4s).pt.to_numpy())]"
   ]
  },
  {
   "cell_type": "code",
   "execution_count": 31,
   "id": "a46aa34d-fed7-4bd4-84b3-52fa28025bf7",
   "metadata": {},
   "outputs": [
    {
     "data": {
      "text/plain": [
       "array([ 66.934,  119.309,  54.290], dtype=float32)"
      ]
     },
     "execution_count": 31,
     "metadata": {},
     "output_type": "execute_result"
    }
   ],
   "source": [
    "jet3_p4s.pt.to_numpy()[np.isnan(jet3_p4s.boost_p4(jet6_p4s).pt.to_numpy())]"
   ]
  },
  {
   "cell_type": "code",
   "execution_count": 33,
   "id": "0c69906b-d97c-41ce-810b-fcfa3294f819",
   "metadata": {},
   "outputs": [
    {
     "data": {
      "text/plain": [
       "array([ 62.481,  105.234,  50.219], dtype=float32)"
      ]
     },
     "execution_count": 33,
     "metadata": {},
     "output_type": "execute_result"
    }
   ],
   "source": [
    "jet4_p4s.pt.to_numpy()[np.isnan(jet3_p4s.boost_p4(jet6_p4s).pt.to_numpy())]"
   ]
  },
  {
   "cell_type": "code",
   "execution_count": 35,
   "id": "b7d45bad-2272-45cb-a36a-83a41ae89162",
   "metadata": {},
   "outputs": [
    {
     "data": {
      "text/plain": [
       "array([ 52.849,  27.711,  48.905], dtype=float32)"
      ]
     },
     "execution_count": 35,
     "metadata": {},
     "output_type": "execute_result"
    }
   ],
   "source": [
    "jet5_p4s.pt.to_numpy()[np.isnan(jet3_p4s.boost_p4(jet6_p4s).pt.to_numpy())]"
   ]
  },
  {
   "cell_type": "code",
   "execution_count": 32,
   "id": "68315d38-4020-4904-93e0-a62f06471c47",
   "metadata": {},
   "outputs": [
    {
     "data": {
      "text/plain": [
       "array([ 0.848,  0.999,  0.945], dtype=float32)"
      ]
     },
     "execution_count": 32,
     "metadata": {},
     "output_type": "execute_result"
    }
   ],
   "source": [
    "signal_btag[:,0][np.isnan(jet3_p4s.boost_p4(jet6_p4s).pt.to_numpy())]"
   ]
  },
  {
   "cell_type": "code",
   "execution_count": 37,
   "id": "fc0ebe9d-7788-4c98-8078-13eeefe77611",
   "metadata": {},
   "outputs": [
    {
     "data": {
      "text/plain": [
       "array([-1.139,  1.451, -0.584], dtype=float32)"
      ]
     },
     "execution_count": 37,
     "metadata": {},
     "output_type": "execute_result"
    }
   ],
   "source": [
    "jet0_p4s.eta.to_numpy()[np.isnan(jet1_p4s.boost_p4(jet6_p4s).pt.to_numpy())]"
   ]
  },
  {
   "cell_type": "code",
   "execution_count": 38,
   "id": "3a300267-133a-4135-ab2f-96d7f324d828",
   "metadata": {},
   "outputs": [
    {
     "data": {
      "text/plain": [
       "array([ 1.674,  2.799, -2.188], dtype=float32)"
      ]
     },
     "execution_count": 38,
     "metadata": {},
     "output_type": "execute_result"
    }
   ],
   "source": [
    "jet0_p4s.phi.to_numpy()[np.isnan(jet1_p4s.boost_p4(jet6_p4s).pt.to_numpy())]"
   ]
  },
  {
   "cell_type": "code",
   "execution_count": 39,
   "id": "2499b956-49f1-4d49-8847-5f3db14cc42b",
   "metadata": {},
   "outputs": [
    {
     "data": {
      "text/plain": [
       "array([ 35.879,  22.162,  17.772], dtype=float32)"
      ]
     },
     "execution_count": 39,
     "metadata": {},
     "output_type": "execute_result"
    }
   ],
   "source": [
    "jet0_p4s.mass.to_numpy()[np.isnan(jet1_p4s.boost_p4(jet6_p4s).pt.to_numpy())]"
   ]
  },
  {
   "cell_type": "code",
   "execution_count": 42,
   "id": "f31c4dbe-249b-4681-8f19-94228f86c891",
   "metadata": {},
   "outputs": [
    {
     "data": {
      "text/plain": [
       "array([-0.973,  340282346638528859811704183484516925440.000, -0.945],\n",
       "      dtype=float32)"
      ]
     },
     "execution_count": 42,
     "metadata": {},
     "output_type": "execute_result"
    }
   ],
   "source": [
    "jet6_p4s.eta.to_numpy()[np.isnan(jet1_p4s.boost_p4(jet6_p4s).pt.to_numpy())]"
   ]
  },
  {
   "cell_type": "code",
   "execution_count": 103,
   "id": "6ae78b98-1b36-4797-84ea-d5b767bd6c04",
   "metadata": {},
   "outputs": [],
   "source": [
    "tree = Tree(train_file, 'sixBtree', as_ak=True)"
   ]
  },
  {
   "cell_type": "code",
   "execution_count": 133,
   "id": "e39619bd-a36f-445c-be13-f800a611afc7",
   "metadata": {},
   "outputs": [
    {
     "data": {
      "text/plain": [
       "0"
      ]
     },
     "execution_count": 133,
     "metadata": {},
     "output_type": "execute_result"
    }
   ],
   "source": [
    "np.isnan(tree.jet_pt[tree.jet_idx == 0].to_numpy()).reshape(N).sum()"
   ]
  },
  {
   "cell_type": "code",
   "execution_count": 124,
   "id": "4e36c9d2-f2f1-499f-b664-92d753457dff",
   "metadata": {},
   "outputs": [
    {
     "ename": "NameError",
     "evalue": "name 'nan' is not defined",
     "output_type": "error",
     "traceback": [
      "\u001b[0;31m---------------------------------------------------------------------------\u001b[0m",
      "\u001b[0;31mNameError\u001b[0m                                 Traceback (most recent call last)",
      "\u001b[0;32m/tmp/ipykernel_26838/1269527412.py\u001b[0m in \u001b[0;36m<module>\u001b[0;34m\u001b[0m\n\u001b[0;32m----> 1\u001b[0;31m \u001b[0mtree\u001b[0m\u001b[0;34m.\u001b[0m\u001b[0mgen_HX_b1_recojet_ptRegressed\u001b[0m\u001b[0;34m.\u001b[0m\u001b[0mto_numpy\u001b[0m\u001b[0;34m(\u001b[0m\u001b[0;34m)\u001b[0m \u001b[0;34m==\u001b[0m \u001b[0mnan\u001b[0m\u001b[0;34m\u001b[0m\u001b[0;34m\u001b[0m\u001b[0m\n\u001b[0m",
      "\u001b[0;31mNameError\u001b[0m: name 'nan' is not defined"
     ]
    }
   ],
   "source": [
    "tree.gen_HX_b1_recojet_ptRegressed.to_numpy()"
   ]
  },
  {
   "cell_type": "code",
   "execution_count": 106,
   "id": "364bd009-8f7b-4b39-b27e-f9a8dec42ee9",
   "metadata": {},
   "outputs": [
    {
     "data": {
      "text/plain": [
       "<Array [[-1, 2, 3, -1, 0, ... 0, 4, 5, 3, -1]] type='665714 * var * int32'>"
      ]
     },
     "execution_count": 106,
     "metadata": {},
     "output_type": "execute_result"
    }
   ],
   "source": [
    "tree.jet_idx[ak.argsort(tree.jet_pt[:,::-1], axis=1)]"
   ]
  },
  {
   "cell_type": "code",
   "execution_count": 104,
   "id": "aa23b18b-e092-4bcd-af46-f9066a2c4a1a",
   "metadata": {},
   "outputs": [],
   "source": [
    "tree.sort(ak.argsort(tree.jet_pt, axis=1))"
   ]
  },
  {
   "cell_type": "code",
   "execution_count": 107,
   "id": "95ccecbd-1b9a-4c74-b661-36cd78208267",
   "metadata": {},
   "outputs": [
    {
     "data": {
      "text/plain": [
       "<Array [-1, 1, 4, 5, 0, -1, 3, 2, -1] type='9 * int32'>"
      ]
     },
     "execution_count": 107,
     "metadata": {},
     "output_type": "execute_result"
    }
   ],
   "source": [
    "tree.jet_idx[0]"
   ]
  },
  {
   "cell_type": "code",
   "execution_count": null,
   "id": "6d6d85f6-d403-4c57-b4fb-59b2d9d31267",
   "metadata": {},
   "outputs": [],
   "source": [
    "tree.jet_idx"
   ]
  },
  {
   "cell_type": "code",
   "execution_count": 79,
   "id": "63d36879-13de-4d12-8cbf-104d13d6731f",
   "metadata": {},
   "outputs": [],
   "source": [
    "signal_pt = tree.jet_pt[tree.jet_idx > -1]\n",
    "signal_eta = tree.jet_eta[tree.jet_idx > -1]\n",
    "signal_phi = tree.jet_phi[tree.jet_idx > -1]\n",
    "signal_btag = tree.jet_btag[tree.jet_idx > -1]"
   ]
  },
  {
   "cell_type": "code",
   "execution_count": 83,
   "id": "8fd8c1b9-ca71-49c5-a1da-64f50bb567d0",
   "metadata": {},
   "outputs": [
    {
     "data": {
      "text/plain": [
       "array([[ 0.952,  0.935,  0.893,  0.923,  0.469,  0.275],\n",
       "       [ 1.000,  0.992,  0.778,  0.981,  0.603,  0.604],\n",
       "       [ 0.883,  0.999,  0.842,  0.974,  1.000,  0.414],\n",
       "       [ 0.794,  0.997,  0.985,  0.889,  0.487,  0.622],\n",
       "       [ 0.922,  0.998,  0.852,  0.990,  0.306,  0.595]], dtype=float32)"
      ]
     },
     "execution_count": 83,
     "metadata": {},
     "output_type": "execute_result"
    }
   ],
   "source": [
    "signal_btag[:5,:].to_numpy()"
   ]
  },
  {
   "cell_type": "code",
   "execution_count": 59,
   "id": "3805f7fe-8e95-4699-a7e9-f71d18d912fa",
   "metadata": {},
   "outputs": [
    {
     "data": {
      "text/plain": [
       "(665714, 6)"
      ]
     },
     "execution_count": 59,
     "metadata": {},
     "output_type": "execute_result"
    }
   ],
   "source": [
    "train.signal_p4.pt.to_numpy().shape"
   ]
  },
  {
   "cell_type": "code",
   "execution_count": 7,
   "id": "b6087a27-3ee7-4856-b2c9-4a3460d1255c",
   "metadata": {},
   "outputs": [
    {
     "data": {
      "text/plain": [
       "<Array [-0.192, 0.668, -0.73, ... -0.451, 0.23] type='665714 * float32'>"
      ]
     },
     "execution_count": 7,
     "metadata": {},
     "output_type": "execute_result"
    }
   ],
   "source": [
    "train.excess_p4.rapidity"
   ]
  },
  {
   "cell_type": "code",
   "execution_count": 8,
   "id": "e31dc44a-e2ad-4664-8eb1-6b69aa515cc5",
   "metadata": {},
   "outputs": [],
   "source": [
    "import matplotlib.pyplot as plt"
   ]
  },
  {
   "cell_type": "code",
   "execution_count": 34,
   "id": "0a5cfe7a-3ef2-40d9-aecd-64b4c2743ee6",
   "metadata": {},
   "outputs": [],
   "source": [
    "n = int(len(train.features[:,4])/2)"
   ]
  },
  {
   "cell_type": "code",
   "execution_count": 13,
   "id": "e627b699-5be0-43f0-b909-f7cf7f66b325",
   "metadata": {},
   "outputs": [
    {
     "data": {
      "text/plain": [
       "665714"
      ]
     },
     "execution_count": 13,
     "metadata": {},
     "output_type": "execute_result"
    }
   ],
   "source": [
    "len(train.signal_p4.rapidity.to_numpy())"
   ]
  },
  {
   "cell_type": "code",
   "execution_count": 41,
   "id": "423e95c3-41fe-4a73-b02c-f4764b29e063",
   "metadata": {},
   "outputs": [
    {
     "data": {
      "image/png": "[encoded data removed]",
      "text/plain": [
       "<Figure size 432x432 with 1 Axes>"
      ]
     },
     "metadata": {
      "needs_background": "light"
     },
     "output_type": "display_data"
    }
   ],
   "source": [
    "fig, ax = plt.subplots(figsize=(6,6))\n",
    "ax.hist(train.features[:n,24], bins=np.linspace(0, 500, 100), histtype='step')\n",
    "_ = ax.hist(train.features[n:,24], bins=np.linspace(0, 500, 100), histtype='step')"
   ]
  },
  {
   "cell_type": "code",
   "execution_count": 44,
   "id": "e6d34ccc-8c1b-4b36-82b8-8a4b1faa8d2e",
   "metadata": {},
   "outputs": [
    {
     "data": {
      "text/plain": [
       "<matplotlib.colorbar.Colorbar at 0x7febf4f2f220>"
      ]
     },
     "execution_count": 44,
     "metadata": {},
     "output_type": "execute_result"
    },
    {
     "data": {
      "image/png": "[encoded data removed]",
      "text/plain": [
       "<Figure size 504x432 with 2 Axes>"
      ]
     },
     "metadata": {
      "needs_background": "light"
     },
     "output_type": "display_data"
    }
   ],
   "source": [
    "fig, ax = plt.subplots(figsize=(7,6))\n",
    "nx, ny, edges, im = ax.hist2d(train.features[:n,24], train.features[n:,24], bins=(np.linspace(0,500,100), np.linspace(0,500,100)))\n",
    "plt.colorbar(im)"
   ]
  },
  {
   "cell_type": "code",
   "execution_count": null,
   "id": "05683229-0bdf-4b7f-b7fc-f27f2af062cb",
   "metadata": {},
   "outputs": [],
   "source": []
  },
  {
   "cell_type": "code",
   "execution_count": 52,
   "id": "fda79b7d-f750-43ee-850b-57afd601dad4",
   "metadata": {},
   "outputs": [],
   "source": [
    "a = np.array((1,2,3))[:,np.newaxis]"
   ]
  },
  {
   "cell_type": "code",
   "execution_count": 53,
   "id": "f1700881-c386-45cc-8f92-509b806da2c9",
   "metadata": {},
   "outputs": [],
   "source": [
    "b = np.array((4,5,6))[:,np.newaxis]"
   ]
  },
  {
   "cell_type": "code",
   "execution_count": 54,
   "id": "c75c6138-122d-4687-a94b-9d0f512a432b",
   "metadata": {},
   "outputs": [
    {
     "data": {
      "text/plain": [
       "array([[1, 4],\n",
       "       [2, 5],\n",
       "       [3, 6]])"
      ]
     },
     "execution_count": 54,
     "metadata": {},
     "output_type": "execute_result"
    }
   ],
   "source": [
    "np.concatenate((a,b), axis=1)"
   ]
  },
  {
   "cell_type": "code",
   "execution_count": 46,
   "id": "a8bd3fea-50dc-4c42-abfd-580e8b8b1c8e",
   "metadata": {},
   "outputs": [
    {
     "data": {
      "text/plain": [
       "array([[1, 0],\n",
       "       [1, 0],\n",
       "       [1, 0],\n",
       "       [1, 0],\n",
       "       [1, 0]])"
      ]
     },
     "execution_count": 46,
     "metadata": {},
     "output_type": "execute_result"
    }
   ],
   "source": [
    "np.tile([1,0], 5).reshape(5,2)"
   ]
  },
  {
   "cell_type": "code",
   "execution_count": null,
   "id": "01613298-7b24-4015-a29a-2ec4891f4006",
   "metadata": {},
   "outputs": [],
   "source": []
  }
 ],
 "metadata": {
  "kernelspec": {
   "display_name": "Python 3 (ipykernel)",
   "language": "python",
   "name": "python3"
  },
  "language_info": {
   "codemirror_mode": {
    "name": "ipython",
    "version": 3
   },
   "file_extension": ".py",
   "mimetype": "text/x-python",
   "name": "python",
   "nbconvert_exporter": "python",
   "pygments_lexer": "ipython3",
   "version": "3.8.8"
  },
  "widgets": {
   "application/vnd.jupyter.widget-state+json": {
    "state": {},
    "version_major": 2,
    "version_minor": 0
   }
  }
 },
 "nbformat": 4,
 "nbformat_minor": 5
}
