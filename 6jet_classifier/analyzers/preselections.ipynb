{
 "cells": [
  {
   "cell_type": "code",
   "execution_count": 2,
   "id": "12b505ee-00ce-4b52-8037-881ca6b09a4b",
   "metadata": {},
   "outputs": [],
   "source": [
    "from myuproot import open_up"
   ]
  },
  {
   "cell_type": "code",
   "execution_count": 10,
   "id": "7f08123f-afa7-47ff-aad3-73675fd63115",
   "metadata": {},
   "outputs": [],
   "source": [
    "import awkward as ak"
   ]
  },
  {
   "cell_type": "code",
   "execution_count": 3,
   "id": "5d96f058-f522-4259-bce0-fe793783101b",
   "metadata": {},
   "outputs": [
    {
     "name": "stdout",
     "output_type": "stream",
     "text": [
      "-- [INFO] -- /uscms/home/srosenzw/nobackup/miniconda3/envs/work/lib/python3.8/runpy.py -- Opening ROOT file ../../signal/skimmed/NMSSM_XYH_YToHH_6b_MX_700_MY_400_testing_set_preselections.root with columns\n",
      "----------------------------------------------------------------------------------------------------\n",
      "                                            TABLE COLUMNS                                           \n",
      "----------------------------------------------------------------------------------------------------\n",
      "-- [INFO] -- /uscms/home/srosenzw/nobackup/miniconda3/envs/work/lib/python3.8/runpy.py -- Tree contains 105919 events.\n",
      "Run                               LumiSec                           Event                             \n",
      "n_other_pv                        rhofastjet_all                    gen_X_fc_m                        \n",
      "gen_X_fc_pt                       gen_X_fc_eta                      gen_X_fc_phi                      \n",
      "gen_X_m                           gen_X_pt                          gen_X_eta                         \n",
      "gen_X_phi                         gen_Y_m                           gen_Y_pt                          \n",
      "gen_Y_eta                         gen_Y_phi                         gen_HX_m                          \n",
      "gen_HX_pt                         gen_HX_eta                        gen_HX_phi                        \n",
      "gen_HY1_m                         gen_HY1_pt                        gen_HY1_eta                       \n",
      "gen_HY1_phi                       gen_HY2_m                         gen_HY2_pt                        \n",
      "gen_HY2_eta                       gen_HY2_phi                       gen_HX_b1_m                       \n",
      "gen_HX_b1_pt                      gen_HX_b1_eta                     gen_HX_b1_phi                     \n",
      "gen_HX_b2_m                       gen_HX_b2_pt                      gen_HX_b2_eta                     \n",
      "gen_HX_b2_phi                     gen_HY1_b1_m                      gen_HY1_b1_pt                     \n",
      "gen_HY1_b1_eta                    gen_HY1_b1_phi                    gen_HY1_b2_m                      \n",
      "gen_HY1_b2_pt                     gen_HY1_b2_eta                    gen_HY1_b2_phi                    \n",
      "gen_HY2_b1_m                      gen_HY2_b1_pt                     gen_HY2_b1_eta                    \n",
      "gen_HY2_b1_phi                    gen_HY2_b2_m                      gen_HY2_b2_pt                     \n",
      "gen_HY2_b2_eta                    gen_HY2_b2_phi                    gen_HX_b1_genjet_m                \n",
      "gen_HX_b1_genjet_pt               gen_HX_b1_genjet_eta              gen_HX_b1_genjet_phi              \n",
      "gen_HX_b2_genjet_m                gen_HX_b2_genjet_pt               gen_HX_b2_genjet_eta              \n",
      "gen_HX_b2_genjet_phi              gen_HY1_b1_genjet_m               gen_HY1_b1_genjet_pt              \n",
      "gen_HY1_b1_genjet_eta             gen_HY1_b1_genjet_phi             gen_HY1_b2_genjet_m               \n",
      "gen_HY1_b2_genjet_pt              gen_HY1_b2_genjet_eta             gen_HY1_b2_genjet_phi             \n",
      "gen_HY2_b1_genjet_m               gen_HY2_b1_genjet_pt              gen_HY2_b1_genjet_eta             \n",
      "gen_HY2_b1_genjet_phi             gen_HY2_b2_genjet_m               gen_HY2_b2_genjet_pt              \n",
      "gen_HY2_b2_genjet_eta             gen_HY2_b2_genjet_phi             gen_HX_b1_recojet_m               \n",
      "gen_HX_b1_recojet_pt              gen_HX_b1_recojet_ptRegressed     gen_HX_b1_recojet_eta             \n",
      "gen_HX_b1_recojet_phi             gen_HX_b2_recojet_m               gen_HX_b2_recojet_pt              \n",
      "gen_HX_b2_recojet_ptRegressed     gen_HX_b2_recojet_eta             gen_HX_b2_recojet_phi             \n",
      "gen_HY1_b1_recojet_m              gen_HY1_b1_recojet_pt             gen_HY1_b1_recojet_ptRegressed    \n",
      "gen_HY1_b1_recojet_eta            gen_HY1_b1_recojet_phi            gen_HY1_b2_recojet_m              \n",
      "gen_HY1_b2_recojet_pt             gen_HY1_b2_recojet_ptRegressed    gen_HY1_b2_recojet_eta            \n",
      "gen_HY1_b2_recojet_phi            gen_HY2_b1_recojet_m              gen_HY2_b1_recojet_pt             \n",
      "gen_HY2_b1_recojet_ptRegressed    gen_HY2_b1_recojet_eta            gen_HY2_b1_recojet_phi            \n",
      "gen_HY2_b2_recojet_m              gen_HY2_b2_recojet_pt             gen_HY2_b2_recojet_ptRegressed    \n",
      "gen_HY2_b2_recojet_eta            gen_HY2_b2_recojet_phi            gen_bs_N_reco_match               \n",
      "gen_bs_N_reco_match_in_acc        gen_bs_match_recojet_minv         gen_bs_match_in_acc_recojet_minv  \n",
      "X_m                               X_pt                              X_eta                             \n",
      "X_phi                             Y_m                               Y_pt                              \n",
      "Y_eta                             Y_phi                             HX_m                              \n",
      "HX_pt                             HX_eta                            HX_phi                            \n",
      "HY1_m                             HY1_pt                            HY1_eta                           \n",
      "HY1_phi                           HY2_m                             HY2_pt                            \n",
      "HY2_eta                           HY2_phi                           HX_b1_m                           \n",
      "HX_b1_pt                          HX_b1_ptRegressed                 HX_b1_eta                         \n",
      "HX_b1_phi                         HX_b2_m                           HX_b2_pt                          \n",
      "HX_b2_ptRegressed                 HX_b2_eta                         HX_b2_phi                         \n",
      "HY1_b1_m                          HY1_b1_pt                         HY1_b1_ptRegressed                \n",
      "HY1_b1_eta                        HY1_b1_phi                        HY1_b2_m                          \n",
      "HY1_b2_pt                         HY1_b2_ptRegressed                HY1_b2_eta                        \n",
      "HY1_b2_phi                        HY2_b1_m                          HY2_b1_pt                         \n",
      "HY2_b1_ptRegressed                HY2_b1_eta                        HY2_b1_phi                        \n",
      "HY2_b2_m                          HY2_b2_pt                         HY2_b2_ptRegressed                \n",
      "HY2_b2_eta                        HY2_b2_phi                        n_mu_loose                        \n",
      "n_ele_loose                       mu_1_m                            mu_1_pt                           \n",
      "mu_1_eta                          mu_1_phi                          mu_2_m                            \n",
      "mu_2_pt                           mu_2_eta                          mu_2_phi                          \n",
      "ele_1_m                           ele_1_pt                          ele_1_eta                         \n",
      "ele_1_phi                         ele_2_m                           ele_2_pt                          \n",
      "ele_2_eta                         ele_2_phi                         n_total_jet                       \n",
      "n_jet                             jet_E                             jet_m                             \n",
      "jet_pt                            jet_eta                           jet_phi                           \n",
      "jet_partonFlav                    jet_hadronFlav                    jet_signalId                      \n",
      "jet_genIdx                        jet_btag                          jet_qgl                           \n",
      "jet_id                            jet_puid                          n_pu                              \n",
      "n_true_int                        btagSF_WP_M                       n_genjet                          \n",
      "genjet_E                          genjet_m                          genjet_pt                         \n",
      "genjet_eta                        genjet_phi                        genjet_partonFlav                 \n",
      "genjet_hadronFlav                 genjet_signalId                   genjet_recoIdx                    \n",
      "nfound_all                        nfound_presel                     nfound_sixb                       \n",
      "njet_presel                                                         \n",
      "----------------------------------------------------------------------------------------------------\n"
     ]
    }
   ],
   "source": [
    "filename = f'../../signal/skimmed/NMSSM_XYH_YToHH_6b_MX_700_MY_400_testing_set_preselections.root'\n",
    "tree, ak_table, np_table = open_up(filename)"
   ]
  },
  {
   "cell_type": "code",
   "execution_count": 5,
   "id": "b62a4c28-c4ec-47ef-ad1d-24db3125192c",
   "metadata": {},
   "outputs": [
    {
     "data": {
      "text/plain": [
       "array([array([ 0,  4, -1,  3,  5, -1], dtype=int32),\n",
       "       array([ 0,  4, -1,  1,  2,  5], dtype=int32),\n",
       "       array([ 2,  4,  3,  1,  0, -1, -1], dtype=int32), ...,\n",
       "       array([2, 0, 5, 4, 1, 3], dtype=int32),\n",
       "       array([2, 3, 1, 0, 5, 4], dtype=int32),\n",
       "       array([2, 4, 3, 1, 5, 0], dtype=int32)], dtype=object)"
      ]
     },
     "execution_count": 5,
     "metadata": {},
     "output_type": "execute_result"
    }
   ],
   "source": [
    "np_table['jet_signalId']"
   ]
  },
  {
   "cell_type": "code",
   "execution_count": 8,
   "id": "dfddbcc1-c799-488e-9643-b80bfb9f639b",
   "metadata": {},
   "outputs": [],
   "source": [
    "%matplotlib widget\n",
    "import matplotlib.pyplot as plt"
   ]
  },
  {
   "cell_type": "code",
   "execution_count": 6,
   "id": "b0f74b70-4ea2-4eb9-88ef-f98facea99ea",
   "metadata": {},
   "outputs": [],
   "source": [
    "from consistent_plots import hist"
   ]
  },
  {
   "cell_type": "code",
   "execution_count": 12,
   "id": "d83a5dc6-8cbc-45bf-a87f-afd73b9f9a92",
   "metadata": {},
   "outputs": [
    {
     "data": {
      "application/vnd.jupyter.widget-view+json": {
       "model_id": "d21ce37b605c4a0391f4b1cccaf63169",
       "version_major": 2,
       "version_minor": 0
      },
      "text/plain": [
       "Canvas(toolbar=Toolbar(toolitems=[('Home', 'Reset original view', 'home', 'home'), ('Back', 'Back to previous …"
      ]
     },
     "metadata": {},
     "output_type": "display_data"
    },
    {
     "data": {
      "text/plain": [
       "(array([ 98738.,      0.,      0.,      0.,      0.,      0.,      0.,\n",
       "             0.,      0.,      0.,      0.,      0.,      0.,      0.,\n",
       "             0.,      0., 101777.,      0.,      0.,      0.,      0.,\n",
       "             0.,      0.,      0.,      0.,      0.,      0.,      0.,\n",
       "             0.,      0.,      0.,      0.,      0.,  89382.,      0.,\n",
       "             0.,      0.,      0.,      0.,      0.,      0.,      0.,\n",
       "             0.,      0.,      0.,      0.,      0.,      0.,      0.,\n",
       "             0., 101640.,      0.,      0.,      0.,      0.,      0.,\n",
       "             0.,      0.,      0.,      0.,      0.,      0.,      0.,\n",
       "             0.,      0.,      0.,  89696.,      0.,      0.,      0.,\n",
       "             0.,      0.,      0.,      0.,      0.,      0.,      0.,\n",
       "             0.,      0.,      0.,      0.,      0.,      0.,  97545.,\n",
       "             0.,      0.,      0.,      0.,      0.,      0.,      0.,\n",
       "             0.,      0.,      0.,      0.,      0.,      0.,      0.,\n",
       "             0.,  82300.]),\n",
       " array([-1.  , -0.94, -0.88, -0.82, -0.76, -0.7 , -0.64, -0.58, -0.52,\n",
       "        -0.46, -0.4 , -0.34, -0.28, -0.22, -0.16, -0.1 , -0.04,  0.02,\n",
       "         0.08,  0.14,  0.2 ,  0.26,  0.32,  0.38,  0.44,  0.5 ,  0.56,\n",
       "         0.62,  0.68,  0.74,  0.8 ,  0.86,  0.92,  0.98,  1.04,  1.1 ,\n",
       "         1.16,  1.22,  1.28,  1.34,  1.4 ,  1.46,  1.52,  1.58,  1.64,\n",
       "         1.7 ,  1.76,  1.82,  1.88,  1.94,  2.  ,  2.06,  2.12,  2.18,\n",
       "         2.24,  2.3 ,  2.36,  2.42,  2.48,  2.54,  2.6 ,  2.66,  2.72,\n",
       "         2.78,  2.84,  2.9 ,  2.96,  3.02,  3.08,  3.14,  3.2 ,  3.26,\n",
       "         3.32,  3.38,  3.44,  3.5 ,  3.56,  3.62,  3.68,  3.74,  3.8 ,\n",
       "         3.86,  3.92,  3.98,  4.04,  4.1 ,  4.16,  4.22,  4.28,  4.34,\n",
       "         4.4 ,  4.46,  4.52,  4.58,  4.64,  4.7 ,  4.76,  4.82,  4.88,\n",
       "         4.94,  5.  ]),\n",
       " [<matplotlib.patches.Polygon at 0x7f77152fafd0>])"
      ]
     },
     "execution_count": 12,
     "metadata": {},
     "output_type": "execute_result"
    }
   ],
   "source": [
    "fig, ax = plt.subplots()\n",
    "\n",
    "hist(ax, ak.to_numpy(ak.flatten(ak_table['jet_signalId'])))"
   ]
  },
  {
   "cell_type": "code",
   "execution_count": null,
   "id": "26273901-3fda-4b49-8d98-f22fe4c87de9",
   "metadata": {},
   "outputs": [],
   "source": []
  }
 ],
 "metadata": {
  "kernelspec": {
   "display_name": "Python 3 (ipykernel)",
   "language": "python",
   "name": "python3"
  },
  "language_info": {
   "codemirror_mode": {
    "name": "ipython",
    "version": 3
   },
   "file_extension": ".py",
   "mimetype": "text/x-python",
   "name": "python",
   "nbconvert_exporter": "python",
   "pygments_lexer": "ipython3",
   "version": "3.8.8"
  }
 },
 "nbformat": 4,
 "nbformat_minor": 5
}
