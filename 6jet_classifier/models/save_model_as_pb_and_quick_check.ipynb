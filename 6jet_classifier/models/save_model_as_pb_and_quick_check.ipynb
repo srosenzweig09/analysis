{
 "cells": [
  {
   "cell_type": "code",
   "execution_count": 4,
   "id": "1e3c807f-d110-438a-b55b-0fa32145f080",
   "metadata": {},
   "outputs": [
    {
     "name": "stdout",
     "output_type": "stream",
     "text": [
      "WARNING:tensorflow:From /uscms/home/srosenzw/nobackup/miniconda3/envs/work/lib/python3.8/site-packages/tensorflow/python/compat/v2_compat.py:96: disable_resource_variables (from tensorflow.python.ops.variable_scope) is deprecated and will be removed in a future version.\n",
      "Instructions for updating:\n",
      "non-resource variables are not supported in the long term\n"
     ]
    }
   ],
   "source": [
    "import tensorflow.compat.v1 as tf\n",
    "tf.disable_v2_behavior()"
   ]
  },
  {
   "cell_type": "code",
   "execution_count": 5,
   "id": "6ab6f365-214e-4331-b7e8-0c53044c9309",
   "metadata": {},
   "outputs": [],
   "source": [
    "import numpy as np"
   ]
  },
  {
   "cell_type": "code",
   "execution_count": 6,
   "id": "6bbc49b7-9dde-451b-a56a-53f40f8dabb5",
   "metadata": {},
   "outputs": [],
   "source": [
    "from keras.models import model_from_json\n",
    "tf.compat.v1.logging.set_verbosity(tf.compat.v1.logging.ERROR)\n",
    "from pickle import load"
   ]
  },
  {
   "cell_type": "code",
   "execution_count": 35,
   "id": "0968e82f-1e6a-40fe-976f-92a383e98d0b",
   "metadata": {},
   "outputs": [],
   "source": [
    "def load_model(location, tag):\n",
    "    json_file = open(location + f'models/{tag}/model.json', 'r')\n",
    "    loaded_model_json = json_file.read()\n",
    "    json_file.close()\n",
    "    loaded_model = model_from_json(loaded_model_json)\n",
    "    loaded_model.load_weights(location + f'models/{tag}/model.h5')\n",
    "    scaler = load(open(location + f'models/{tag}/scaler.pkl', 'rb'))\n",
    "    return scaler, loaded_model"
   ]
  },
  {
   "cell_type": "code",
   "execution_count": 36,
   "id": "578f821b-9d98-4beb-ae40-5c14c11cdab7",
   "metadata": {},
   "outputs": [
    {
     "data": {
      "text/plain": [
       "'/uscms_data/d3/srosenzw/workarea/higgs/sixb_analysis/CMSSW_10_2_18/src/sixb/6jet_classifier/models'"
      ]
     },
     "execution_count": 36,
     "metadata": {},
     "output_type": "execute_result"
    }
   ],
   "source": [
    "import os\n",
    "os.getcwd()"
   ]
  },
  {
   "cell_type": "code",
   "execution_count": 37,
   "id": "102803db-ca37-4635-9895-e42fc995c1bd",
   "metadata": {},
   "outputs": [],
   "source": [
    "scaler, model = load_model(location='../', tag='20210828_multiclass_nsignal')"
   ]
  },
  {
   "cell_type": "code",
   "execution_count": 38,
   "id": "78f35a1b-9983-4844-9ab1-c43b3a94dc62",
   "metadata": {},
   "outputs": [],
   "source": [
    "scaler_min = np.asarray(scaler.data_min_)"
   ]
  },
  {
   "cell_type": "code",
   "execution_count": 39,
   "id": "476a8f18-876f-46f0-9ffd-ee9e4c53bcd0",
   "metadata": {},
   "outputs": [],
   "source": [
    "scaler_max = np.asarray(scaler.data_max_)"
   ]
  },
  {
   "cell_type": "code",
   "execution_count": 40,
   "id": "2edfce2a-e2e6-414d-a34c-febeef2f4204",
   "metadata": {},
   "outputs": [],
   "source": [
    "min_max = np.row_stack((scaler_min, scaler_max))"
   ]
  },
  {
   "cell_type": "code",
   "execution_count": 41,
   "id": "c1a682cc-60ba-493e-86f2-9eace894ea02",
   "metadata": {},
   "outputs": [
    {
     "data": {
      "text/plain": [
       "'/uscms_data/d3/srosenzw/workarea/higgs/sixb_analysis/CMSSW_10_2_18/src/sixb/6jet_classifier/models'"
      ]
     },
     "execution_count": 41,
     "metadata": {},
     "output_type": "execute_result"
    }
   ],
   "source": [
    "import os\n",
    "os.getcwd()"
   ]
  },
  {
   "cell_type": "code",
   "execution_count": 42,
   "id": "22afb915-95ea-472c-a0b8-c5689a12a8e5",
   "metadata": {},
   "outputs": [],
   "source": [
    "np.savetxt(\"scaler2b.csv\", min_max, delimiter=',')"
   ]
  },
  {
   "cell_type": "code",
   "execution_count": 43,
   "id": "1d83003e-3985-477b-a69e-632bc1cd7892",
   "metadata": {},
   "outputs": [],
   "source": [
    "import tensorflow.python.keras.backend as K\n",
    "sess = K.get_session()"
   ]
  },
  {
   "cell_type": "code",
   "execution_count": 44,
   "id": "6cddc35a-5f16-4cc5-af91-bd5d09814d4f",
   "metadata": {},
   "outputs": [],
   "source": [
    "def freeze_session(session, keep_var_names=None, output_names=None, clear_devices=True):\n",
    "    \"\"\"\n",
    "    Freezes the state of a session into a pruned computation graph.\n",
    "    Creates a new computation graph where variable nodes are replaced by\n",
    "    constants taking their current value in the session. The new graph will be\n",
    "    pruned so subgraphs that are not necessary to compute the requested\n",
    "    outputs are removed.\n",
    "    @param session The TensorFlow session to be frozen.\n",
    "    @param keep_var_names A list of variable names that should not be frozen,\n",
    "                          or None to freeze all the variables in the graph.\n",
    "    @param output_names Names of the relevant graph outputs.\n",
    "    @param clear_devices Remove the device directives from the graph for better portability.\n",
    "    @return The frozen graph definition.\n",
    "    \"\"\"\n",
    "    graph = session.graph\n",
    "    with graph.as_default():\n",
    "        freeze_var_names = list(set(v.op.name for v in tf.global_variables()).difference(keep_var_names or []))\n",
    "        output_names = output_names or []\n",
    "        output_names += [v.op.name for v in tf.global_variables()]\n",
    "        input_graph_def = graph.as_graph_def()\n",
    "        if clear_devices:\n",
    "            for node in input_graph_def.node:\n",
    "                node.device = \"\"\n",
    "        frozen_graph = tf.graph_util.convert_variables_to_constants(\n",
    "            session, input_graph_def, output_names, freeze_var_names)\n",
    "        return frozen_graph"
   ]
  },
  {
   "cell_type": "code",
   "execution_count": 45,
   "id": "cd96068e-5ce5-404d-88ef-137dfc5abc2d",
   "metadata": {},
   "outputs": [],
   "source": [
    "frozen_graph = freeze_session(K.get_session(),\n",
    "                              output_names=[out.op.name for out in model.outputs])\n",
    "# tf.train.write_graph(frozen_graph, \"2b_models\", \"my_model2b.pb\", as_text=False)"
   ]
  },
  {
   "cell_type": "code",
   "execution_count": 46,
   "id": "bce1cf89-9fd5-42fa-8ef2-b09f4320dee7",
   "metadata": {},
   "outputs": [
    {
     "data": {
      "text/plain": [
       "['dense_2_1/Softmax']"
      ]
     },
     "execution_count": 46,
     "metadata": {},
     "output_type": "execute_result"
    }
   ],
   "source": [
    "[out.op.name for out in model.outputs]"
   ]
  },
  {
   "cell_type": "code",
   "execution_count": 47,
   "id": "50aac24d-ccdb-4f8c-87b8-e799bf353699",
   "metadata": {},
   "outputs": [],
   "source": [
    "features = np.asarray([120.153,  114.914,  75.994,  75.099,  61.896,  61.564, -0.525,\n",
    "       -0.278, -0.992,  0.311, -1.057, -1.844, -1.140,  1.660,  0.878,\n",
    "        2.717,  3.042, -1.256,  0.778,  0.700,  0.401,  0.996,  0.003,\n",
    "        0.996,  108.143,  124.577,  80.956,  79.714,  67.812,  42.099])"
   ]
  },
  {
   "cell_type": "code",
   "execution_count": 48,
   "id": "240ef8e7-d624-447c-84a9-26e3a94f98a1",
   "metadata": {},
   "outputs": [
    {
     "data": {
      "text/plain": [
       "numpy.ndarray"
      ]
     },
     "execution_count": 48,
     "metadata": {},
     "output_type": "execute_result"
    }
   ],
   "source": [
    "type(scaler.min_)"
   ]
  },
  {
   "cell_type": "code",
   "execution_count": 49,
   "id": "fce6b68f-c200-4e63-bff9-b84640de3706",
   "metadata": {},
   "outputs": [],
   "source": [
    "features = np.asarray(numbers.split(' '), dtype=float)"
   ]
  },
  {
   "cell_type": "code",
   "execution_count": 50,
   "id": "7d304da6-c9f3-4149-bf0c-c53d4f51eed2",
   "metadata": {},
   "outputs": [
    {
     "data": {
      "text/plain": [
       "numpy.ndarray"
      ]
     },
     "execution_count": 50,
     "metadata": {},
     "output_type": "execute_result"
    }
   ],
   "source": [
    "type(scaler.data_min_)"
   ]
  },
  {
   "cell_type": "code",
   "execution_count": 51,
   "id": "30ec36aa-00a8-4a22-a2e6-8547c807be24",
   "metadata": {},
   "outputs": [],
   "source": [
    "features = features.reshape(1,30)\n",
    "features = scaler.transform(features)"
   ]
  },
  {
   "cell_type": "code",
   "execution_count": 52,
   "id": "6bb0f815-134f-4a5e-8443-04aca6f3e2aa",
   "metadata": {},
   "outputs": [
    {
     "data": {
      "text/plain": [
       "array([[0.06963656, 0.06634983, 0.03817676, 0.03091153, 0.02774934,\n",
       "        0.02401323, 0.39497949, 0.44438914, 0.30156124, 0.56221215,\n",
       "        0.2885587 , 0.13112795, 0.31856285, 0.76419796, 0.63973844,\n",
       "        0.93242522, 0.98415072, 0.30010082, 0.77681532, 0.69921869,\n",
       "        0.39928841, 0.9964777 , 0.0010418 , 0.99648271, 0.01693724,\n",
       "        0.02954719, 0.01528119, 0.018352  , 0.01367551, 0.00978186]])"
      ]
     },
     "execution_count": 52,
     "metadata": {},
     "output_type": "execute_result"
    }
   ],
   "source": [
    "features"
   ]
  },
  {
   "cell_type": "code",
   "execution_count": 53,
   "id": "24da3246-c951-4c6a-8b97-2ca9f0309cfe",
   "metadata": {},
   "outputs": [
    {
     "name": "stderr",
     "output_type": "stream",
     "text": [
      "/uscms/home/srosenzw/nobackup/miniconda3/envs/work/lib/python3.8/site-packages/tensorflow/python/keras/engine/training.py:2426: UserWarning: `Model.state_updates` will be removed in a future version. This property should not be used in TensorFlow 2.0, as `updates` are applied automatically.\n",
      "  warnings.warn('`Model.state_updates` will be removed in a future version. '\n"
     ]
    },
    {
     "data": {
      "text/plain": [
       "array([[8.2483965e-08, 1.5719328e-06, 4.3848933e-05, 3.8734169e-07,\n",
       "        1.9217238e-02, 1.5593958e-05, 9.8072124e-01]], dtype=float32)"
      ]
     },
     "execution_count": 53,
     "metadata": {},
     "output_type": "execute_result"
    }
   ],
   "source": [
    "model.predict(features)"
   ]
  },
  {
   "cell_type": "code",
   "execution_count": null,
   "id": "eed132a7-b79e-4090-bfed-f6e7381de4ba",
   "metadata": {},
   "outputs": [],
   "source": []
  },
  {
   "cell_type": "code",
   "execution_count": null,
   "id": "be1b2413-cb48-4900-b638-7fdfc34ef8bd",
   "metadata": {},
   "outputs": [],
   "source": []
  }
 ],
 "metadata": {
  "kernelspec": {
   "display_name": "Python 3 (ipykernel)",
   "language": "python",
   "name": "python3"
  },
  "language_info": {
   "codemirror_mode": {
    "name": "ipython",
    "version": 3
   },
   "file_extension": ".py",
   "mimetype": "text/x-python",
   "name": "python",
   "nbconvert_exporter": "python",
   "pygments_lexer": "ipython3",
   "version": "3.8.8"
  },
  "widgets": {
   "application/vnd.jupyter.widget-state+json": {
    "state": {},
    "version_major": 2,
    "version_minor": 0
   }
  }
 },
 "nbformat": 4,
 "nbformat_minor": 5
}
