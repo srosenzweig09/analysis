{
 "cells": [
  {
   "cell_type": "code",
   "execution_count": 4,
   "id": "6f6a44da-b17c-4086-a88f-09367ff59a5b",
   "metadata": {},
   "outputs": [
    {
     "name": "stdout",
     "output_type": "stream",
     "text": [
      "The autoreload extension is already loaded. To reload it, use:\n",
      "  %reload_ext autoreload\n"
     ]
    }
   ],
   "source": [
    "%load_ext autoreload\n",
    "%autoreload 2\n",
    "\n",
    "import os\n",
    "import sys\n",
    "import git\n",
    "\n",
    "import uproot as ut\n",
    "import awkward as ak\n",
    "import numpy as np\n",
    "import math\n",
    "import vector\n",
    "import sympy as sp\n",
    "\n",
    "import re\n",
    "from tqdm import tqdm\n",
    "import timeit\n",
    "\n",
    "sys.path.append( git.Repo('.', search_parent_directories=True).working_tree_dir )\n",
    "from utils import *"
   ]
  },
  {
   "cell_type": "code",
   "execution_count": 5,
   "id": "44a56a5e-263e-4b04-aa9a-cea9b33316a3",
   "metadata": {},
   "outputs": [
    {
     "ename": "NameError",
     "evalue": "name 'ut' is not defined",
     "output_type": "error",
     "traceback": [
      "\u001b[0;31m---------------------------------------------------------------------------\u001b[0m",
      "\u001b[0;31mNameError\u001b[0m                                 Traceback (most recent call last)",
      "\u001b[0;32m<ipython-input-5-6ea9daa03bb9>\u001b[0m in \u001b[0;36m<module>\u001b[0;34m\u001b[0m\n\u001b[0;32m----> 1\u001b[0;31m \u001b[0mtree\u001b[0m \u001b[0;34m=\u001b[0m \u001b[0mTree\u001b[0m\u001b[0;34m(\u001b[0m\u001b[0mfc\u001b[0m\u001b[0;34m.\u001b[0m\u001b[0mQCD_Pt_1000to1400\u001b[0m\u001b[0;34m)\u001b[0m\u001b[0;34m\u001b[0m\u001b[0;34m\u001b[0m\u001b[0m\n\u001b[0m\u001b[1;32m      2\u001b[0m \u001b[0mprint\u001b[0m\u001b[0;34m(\u001b[0m\u001b[0mtree\u001b[0m\u001b[0;34m)\u001b[0m\u001b[0;34m\u001b[0m\u001b[0;34m\u001b[0m\u001b[0m\n\u001b[1;32m      3\u001b[0m \u001b[0mpreselection\u001b[0m \u001b[0;34m=\u001b[0m \u001b[0mSelection\u001b[0m\u001b[0;34m(\u001b[0m\u001b[0mtree\u001b[0m\u001b[0;34m,\u001b[0m\u001b[0mcuts\u001b[0m\u001b[0;34m=\u001b[0m\u001b[0;34m{\u001b[0m\u001b[0;34m\"njetcut\"\u001b[0m\u001b[0;34m:\u001b[0m\u001b[0;36m6\u001b[0m\u001b[0;34m}\u001b[0m\u001b[0;34m,\u001b[0m\u001b[0mtag\u001b[0m\u001b[0;34m=\u001b[0m\u001b[0;34m\"preselection\"\u001b[0m\u001b[0;34m)\u001b[0m\u001b[0;34m\u001b[0m\u001b[0;34m\u001b[0m\u001b[0m\n\u001b[1;32m      4\u001b[0m \u001b[0mprint\u001b[0m\u001b[0;34m(\u001b[0m\u001b[0mpreselection\u001b[0m\u001b[0;34m)\u001b[0m\u001b[0;34m\u001b[0m\u001b[0;34m\u001b[0m\u001b[0m\n\u001b[1;32m      5\u001b[0m \u001b[0mbaseline\u001b[0m \u001b[0;34m=\u001b[0m \u001b[0mSelection\u001b[0m\u001b[0;34m(\u001b[0m\u001b[0mtree\u001b[0m\u001b[0;34m,\u001b[0m\u001b[0minclude\u001b[0m\u001b[0;34m=\u001b[0m\u001b[0mpreselection\u001b[0m\u001b[0;34m,\u001b[0m\u001b[0mtag\u001b[0m\u001b[0;34m=\u001b[0m\u001b[0;34m\"baseline\"\u001b[0m\u001b[0;34m)\u001b[0m\u001b[0;34m\u001b[0m\u001b[0;34m\u001b[0m\u001b[0m\n",
      "\u001b[0;32m/uscms_data/d3/ekoenig/6BAnalysis/analysis/utils/classUtils/Branch.py\u001b[0m in \u001b[0;36m__init__\u001b[0;34m(self, tfname, sample, xsec, is_signal)\u001b[0m\n\u001b[1;32m      8\u001b[0m         \u001b[0mself\u001b[0m\u001b[0;34m.\u001b[0m\u001b[0mtfname\u001b[0m \u001b[0;34m=\u001b[0m \u001b[0mtfname\u001b[0m\u001b[0;34m\u001b[0m\u001b[0;34m\u001b[0m\u001b[0m\n\u001b[1;32m      9\u001b[0m \u001b[0;34m\u001b[0m\u001b[0m\n\u001b[0;32m---> 10\u001b[0;31m         \u001b[0mself\u001b[0m\u001b[0;34m.\u001b[0m\u001b[0mtfile\u001b[0m \u001b[0;34m=\u001b[0m \u001b[0mut\u001b[0m\u001b[0;34m.\u001b[0m\u001b[0mopen\u001b[0m\u001b[0;34m(\u001b[0m\u001b[0mtfname\u001b[0m\u001b[0;34m)\u001b[0m\u001b[0;34m\u001b[0m\u001b[0;34m\u001b[0m\u001b[0m\n\u001b[0m\u001b[1;32m     11\u001b[0m         \u001b[0mself\u001b[0m\u001b[0;34m.\u001b[0m\u001b[0mtotal_events\u001b[0m \u001b[0;34m=\u001b[0m \u001b[0mak\u001b[0m\u001b[0;34m.\u001b[0m\u001b[0msum\u001b[0m\u001b[0;34m(\u001b[0m\u001b[0mself\u001b[0m\u001b[0;34m.\u001b[0m\u001b[0mtfile\u001b[0m\u001b[0;34m[\u001b[0m\u001b[0;34m\"n_events\"\u001b[0m\u001b[0;34m]\u001b[0m\u001b[0;34m.\u001b[0m\u001b[0mto_numpy\u001b[0m\u001b[0;34m(\u001b[0m\u001b[0;34m)\u001b[0m\u001b[0;34m,\u001b[0m\u001b[0maxis\u001b[0m\u001b[0;34m=\u001b[0m\u001b[0;32mNone\u001b[0m\u001b[0;34m)\u001b[0m\u001b[0;34m\u001b[0m\u001b[0;34m\u001b[0m\u001b[0m\n\u001b[1;32m     12\u001b[0m         \u001b[0mself\u001b[0m\u001b[0;34m.\u001b[0m\u001b[0mttree\u001b[0m \u001b[0;34m=\u001b[0m \u001b[0mself\u001b[0m\u001b[0;34m.\u001b[0m\u001b[0mtfile\u001b[0m\u001b[0;34m[\u001b[0m\u001b[0;34m\"sixBtree\"\u001b[0m\u001b[0;34m]\u001b[0m\u001b[0;34m\u001b[0m\u001b[0;34m\u001b[0m\u001b[0m\n",
      "\u001b[0;31mNameError\u001b[0m: name 'ut' is not defined"
     ]
    }
   ],
   "source": [
    "tree = Tree(fc.QCD_Pt_1000to1400)\n",
    "print(tree)\n",
    "preselection = Selection(tree,cuts={\"njetcut\":6},tag=\"preselection\")\n",
    "print(preselection)\n",
    "baseline = Selection(tree,include=preselection,tag=\"baseline\")\n",
    "print(baseline)\n",
    "tree.calc_jet_dr(baseline.jets_selected)"
   ]
  },
  {
   "cell_type": "code",
   "execution_count": null,
   "id": "71975c76-a21c-4910-846b-21de0fd5edf4",
   "metadata": {},
   "outputs": [],
   "source": [
    "njet_study(preselection,density=1)"
   ]
  },
  {
   "cell_type": "markdown",
   "id": "a14b1de5-3af7-4ba3-8e63-9c9bd3044313",
   "metadata": {},
   "source": [
    "# Signal Jet Selection"
   ]
  },
  {
   "cell_type": "code",
   "execution_count": null,
   "id": "0807647c-c20a-48cc-8578-ff4969856f5c",
   "metadata": {},
   "outputs": [],
   "source": [
    "ordered = btag_bias_pt_ordering(tree,baseline)"
   ]
  },
  {
   "cell_type": "code",
   "execution_count": null,
   "id": "3b83fa8b-35ea-4c17-b04d-d4d55f2286f2",
   "metadata": {},
   "outputs": [],
   "source": [
    "signal_baseline = signal_ordered(tree,baseline)\n",
    "signal_order = signal_ordered(tree,ordered)"
   ]
  },
  {
   "cell_type": "code",
   "execution_count": null,
   "id": "6de8f662-d35c-479e-847c-e281b54638a6",
   "metadata": {},
   "outputs": [],
   "source": [
    "jet6_baseline = signal_baseline.selected_njets(6)\n",
    "jet6_order = signal_order.selected_njets(6)"
   ]
  },
  {
   "cell_type": "code",
   "execution_count": null,
   "id": "97ca481e-813a-4357-9902-e58fa07f2358",
   "metadata": {},
   "outputs": [],
   "source": [
    "print(jet6_baseline)\n",
    "print(jet6_order)\n",
    "print(signal_order.selected_njets(7))"
   ]
  },
  {
   "cell_type": "code",
   "execution_count": null,
   "id": "8883d4c0-8bd7-46d7-a0d2-0d3b46a35cc6",
   "metadata": {},
   "outputs": [],
   "source": []
  }
 ],
 "metadata": {
  "kernelspec": {
   "display_name": "Python 3",
   "language": "python",
   "name": "python3"
  },
  "language_info": {
   "codemirror_mode": {
    "name": "ipython",
    "version": 3
   },
   "file_extension": ".py",
   "mimetype": "text/x-python",
   "name": "python",
   "nbconvert_exporter": "python",
   "pygments_lexer": "ipython3",
   "version": "3.8.10"
  }
 },
 "nbformat": 4,
 "nbformat_minor": 5
}
