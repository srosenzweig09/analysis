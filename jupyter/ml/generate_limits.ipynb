{
 "cells": [
  {
   "cell_type": "code",
   "execution_count": 1,
   "metadata": {},
   "outputs": [],
   "source": [
    "import awkward0 as ak0\n",
    "import awkward as ak\n",
    "from configparser import ConfigParser\n",
    "import itertools\n",
    "import pyhf\n",
    "pyhf.set_backend(\"jax\")\n",
    "from pyhf.exceptions import FailedMinimization\n",
    "import uproot as up\n",
    "import pandas as pd\n",
    "\n",
    "from array import array\n",
    "import ROOT\n",
    "ROOT.gROOT.SetBatch(True)\n",
    "\n",
    "from utils.xsecUtils import lumiMap\n",
    "from utils.analysis.particle import Particle\n",
    "\n",
    "from hep_ml import reweight"
   ]
  },
  {
   "cell_type": "code",
   "execution_count": 39,
   "metadata": {},
   "outputs": [],
   "source": [
    "from utils.plotter import Hist"
   ]
  },
  {
   "cell_type": "code",
   "execution_count": 3,
   "metadata": {},
   "outputs": [],
   "source": [
    "def histogram_intersection(h1, h2, bins):\n",
    "    if h1[0] > h2[0]:\n",
    "        h1_temp = h2\n",
    "        h2 = h1\n",
    "        h1 = h1_temp\n",
    "\n",
    "    for i in range(len(bins)-1):\n",
    "        if h1[i] > h2[i]:\n",
    "            return bins[i]\n",
    "    return\n",
    "    "
   ]
  },
  {
   "cell_type": "markdown",
   "metadata": {},
   "source": [
    "### Open signal file"
   ]
  },
  {
   "cell_type": "code",
   "execution_count": 4,
   "metadata": {},
   "outputs": [],
   "source": [
    "MX = 700\n",
    "MY = 400"
   ]
  },
  {
   "cell_type": "code",
   "execution_count": 5,
   "metadata": {},
   "outputs": [],
   "source": [
    "presel_tree = up.open('/eos/uscms/store/user/srosenzw/sixb/ntuples/Summer2018UL/studies/NMSSM_XYH_YToHH_6b_MX_700_MY_400_2M/ntuple_test.root:sixBtree')\n",
    "presel_cutflow = up.open('/eos/uscms/store/user/srosenzw/sixb/ntuples/Summer2018UL/studies/NMSSM_XYH_YToHH_6b_MX_700_MY_400_2M/ntuple_test.root:h_cutflow')"
   ]
  },
  {
   "cell_type": "code",
   "execution_count": 6,
   "metadata": {},
   "outputs": [
    {
     "name": "stdout",
     "output_type": "stream",
     "text": [
      "[17922.    12597.374 10202.637]\n"
     ]
    }
   ],
   "source": [
    "cutflow = up.open('/eos/uscms/store/user/srosenzw/sixb/ntuples/Summer2018UL/studies/NMSSM_XYH_YToHH_6b_MX_700_MY_400_2M/ntuple_test.root:h_cutflow')\n",
    "cutflow = cutflow.to_numpy()[0]\n",
    "total = cutflow[0]\n",
    "xsec = 0.3 # pb\n",
    "scale = lumiMap[2018][0] * xsec / total\n",
    "print(cutflow*scale)"
   ]
  },
  {
   "cell_type": "code",
   "execution_count": 7,
   "metadata": {},
   "outputs": [],
   "source": [
    "nbins = 60"
   ]
  },
  {
   "cell_type": "code",
   "execution_count": 8,
   "metadata": {},
   "outputs": [],
   "source": [
    "njet_bins = np.arange(8)\n",
    "id_bins = np.arange(-1, 7)\n",
    "pt_bins = np.linspace(0, 500, 100)\n",
    "btag_bins = np.linspace(0, 1.01, 100)\n",
    "nH_bins = np.arange(5)\n",
    "HID_bins = np.arange(-1, 4)\n",
    "H_ticks = (HID_bins[:-1] + HID_bins[1:]) / 2\n",
    "\n",
    "score_bins = np.linspace(0,1.01,102)\n",
    "\n",
    "m_bins = np.linspace(500, 1300, nbins)\n",
    "x_X_m = (m_bins[:-1] + m_bins[1:]) / 2"
   ]
  },
  {
   "cell_type": "code",
   "execution_count": 9,
   "metadata": {},
   "outputs": [],
   "source": [
    "filename = '/uscms/home/srosenzw/nobackup/workarea/higgs/sixb_analysis/CMSSW_10_6_19_patch2/src/sixB/analysis/sixBanalysis/gnn/MX_700_MY_400_2M.root'\n",
    "tree = up.open(filename + ':sixBtree')"
   ]
  },
  {
   "cell_type": "code",
   "execution_count": 12,
   "metadata": {},
   "outputs": [
    {
     "name": "stdout",
     "output_type": "stream",
     "text": [
      "41290\n"
     ]
    }
   ],
   "source": [
    "sig_n_jet = tree['n_jet'].array()\n",
    "sig_jet_pt = tree['jet_pt'].array()\n",
    "sig_jet_eta = tree['jet_eta'].array()\n",
    "sig_jet_phi = tree['jet_phi'].array()\n",
    "sig_jet_m = tree['jet_m'].array()\n",
    "sig_jet_btag = tree['jet_btag'].array()\n",
    "sig_avg_btag = tree['jet_avg_btag'].array()\n",
    "sig_asr_mask = tree['asr_mask'].array()\n",
    "print(ak.sum(sig_asr_mask))\n",
    "sig_acr_mask = tree['acr_mask'].array()\n",
    "sig_vsr_mask = tree['vsr_mask'].array()\n",
    "sig_vcr_mask = tree['vcr_mask'].array()\n",
    "\n",
    "sig_X_m = tree['X_m'].array()\n",
    "\n",
    "jet_sigID = tree['jet_signalId'].array()\n",
    "higgs_id = (jet_sigID + 2) // 2 - 1\n",
    "\n",
    "sig_gnn_score = ak.sort(tree['jet_gnn_score'].array(), ascending=False, axis=1)[:,:6]\n",
    "sig_gnn_avg = ak.sum(sig_gnn_score, axis=1) / 6\n",
    "\n",
    "updated_cutflow = np.append(cutflow, len(sig_n_jet))"
   ]
  },
  {
   "cell_type": "markdown",
   "metadata": {},
   "source": [
    "### Open data file"
   ]
  },
  {
   "cell_type": "code",
   "execution_count": 13,
   "metadata": {},
   "outputs": [],
   "source": [
    "data_tree = up.open(\"/uscms/home/srosenzw/nobackup/workarea/higgs/sixb_analysis/CMSSW_10_6_19_patch2/src/sixB/analysis/sixBanalysis/gnn/data.root:sixBtree\")\n",
    "data_cutflow = up.open(\"/eos/uscms/store/user/srosenzw/sixb/ntuples/Summer2018UL/presel/JetHT_Data_UL/JetHT_Run2018_full/ntuple.root:h_cutflow\")"
   ]
  },
  {
   "cell_type": "code",
   "execution_count": 15,
   "metadata": {},
   "outputs": [],
   "source": [
    "data_avg_btag = data_tree['jet_avg_btag'].array()\n",
    "data_btag = data_tree['jet_btag'].array()\n",
    "\n",
    "data_gnn_score = ak.sort(data_tree['jet_gnn_score'].array(), ascending=False, axis=1)[:,:6]\n",
    "data_gnn_avg = ak.sum(data_gnn_score, axis=1) / 6\n",
    "\n",
    "data_asr_mask = data_tree['asr_mask'].array()\n",
    "data_acr_mask = data_tree['acr_mask'].array()\n",
    "data_vsr_mask = data_tree['vsr_mask'].array() \n",
    "data_vcr_mask = data_tree['vcr_mask'].array()\n",
    "\n",
    "data_vr_mask = data_vsr_mask | data_vcr_mask\n",
    "\n",
    "data_jet_pt = data_tree['jet_pt'].array()"
   ]
  },
  {
   "cell_type": "markdown",
   "metadata": {},
   "source": [
    "### Calculate avg gnn and avg btag cut"
   ]
  },
  {
   "cell_type": "code",
   "execution_count": 40,
   "metadata": {},
   "outputs": [
    {
     "name": "stdout",
     "output_type": "stream",
     "text": [
      "signal loss: 8.0 %\n",
      "data keep: 7.000000000000001 %\n",
      "0.76\n"
     ]
    },
    {
     "data": {
      "image/png": "[encoded data removed]",
      "text/plain": [
       "<Figure size 432x288 with 1 Axes>"
      ]
     },
     "metadata": {
      "needs_background": "light"
     },
     "output_type": "display_data"
    }
   ],
   "source": [
    "fig, ax = plt.subplots()\n",
    "\n",
    "n_sig_gnn_avg = Hist(sig_gnn_avg[sig_asr_mask], bins=score_bins, ax=ax, label='ASR Signal')\n",
    "n_data_gnn_avg = Hist(data_gnn_avg[data_acr_mask], bins=score_bins, ax=ax, label='ACR Data')\n",
    "\n",
    "ax.set_xlabel('Average GNN Score')\n",
    "ax.set_ylabel('AU')\n",
    "\n",
    "ax.set_title(r\"M$_X$ = 700 GeV, M$_Y$ = 400 GeV\", fontsize=28)\n",
    "\n",
    "ax.legend(loc=2)\n",
    "\n",
    "\n",
    "gnn_cut = histogram_intersection(n_sig_gnn_avg, n_data_gnn_avg, score_bins)\n",
    "\n",
    "ax.plot([gnn_cut, gnn_cut], [0,0.06], color='gray', alpha=0.5)\n",
    "\n",
    "# gnn_cut = 0\n",
    "\n",
    "sig_gnn_mask = sig_gnn_avg >= gnn_cut\n",
    "data_gnn_mask = data_gnn_avg >= gnn_cut\n",
    "\n",
    "\n",
    "\n",
    "print(\"signal loss:\", round(ak.sum(sig_gnn_avg[sig_asr_mask & sig_asr_mask] < gnn_cut)/ak.sum(sig_asr_mask),2)*100, \"%\")\n",
    "print(\"data keep:\", round(ak.sum(data_gnn_avg[data_acr_mask & data_acr_mask] > gnn_cut)/ak.sum(data_acr_mask),2)*100, \"%\")\n",
    "\n",
    "\n",
    "print(gnn_cut)\n",
    "\n",
    "fig.savefig('plots/gnn/avg_gnn_score.pdf')"
   ]
  },
  {
   "cell_type": "code",
   "execution_count": 17,
   "metadata": {},
   "outputs": [
    {
     "name": "stdout",
     "output_type": "stream",
     "text": [
      "signal loss: 14 %\n",
      "data keep: 16 %\n"
     ]
    },
    {
     "data": {
      "text/plain": [
       "0.56"
      ]
     },
     "execution_count": 17,
     "metadata": {},
     "output_type": "execute_result"
    },
    {
     "data": {
      "image/png": "[encoded data removed]",
      "text/plain": [
       "<Figure size 432x288 with 1 Axes>"
      ]
     },
     "metadata": {
      "needs_background": "light"
     },
     "output_type": "display_data"
    }
   ],
   "source": [
    "fig, ax = plt.subplots()\n",
    "\n",
    "n_sig_btag = Hist(sig_avg_btag[sig_asr_mask & sig_gnn_mask], bins=score_bins, ax=ax, label='ASR Signal')\n",
    "n_data_btag = Hist(data_avg_btag[data_acr_mask & data_gnn_mask], bins=score_bins, ax=ax, label='ACR Data')\n",
    "# n_data_btag = Hist(data_avg_btag[data_acr_mask], bins=score_bins, ax=ax, density=False)\n",
    "\n",
    "ax.set_xlabel('Average b tag Score')\n",
    "ax.set_ylabel('AU')\n",
    "\n",
    "ax.set_title(r\"M$_X$ = 700 GeV, M$_Y$ = 400 GeV\", fontsize=28)\n",
    "\n",
    "ax.legend(loc=2)\n",
    "\n",
    "ymax = max(n_sig_btag.max(), n_data_btag.max())\n",
    "\n",
    "btag_cut = histogram_intersection(n_sig_btag, n_data_btag, score_bins)\n",
    "ax.plot([btag_cut,btag_cut],[0,ymax],color='k',linestyle='--',linewidth=0.5)\n",
    "\n",
    "sig_btag_mask = sig_avg_btag >= btag_cut\n",
    "data_btag_mask = data_avg_btag >= btag_cut\n",
    "\n",
    "print(\"signal loss:\", round(ak.sum(sig_asr_mask & sig_gnn_mask & ~sig_btag_mask)/ak.sum(sig_asr_mask & sig_gnn_mask)*100), \"%\")\n",
    "print(\"data keep:\", round(ak.sum(data_acr_mask & data_gnn_mask & data_btag_mask)/ak.sum(data_acr_mask & data_gnn_mask)*100), \"%\")\n",
    "\n",
    "# gnn_btag_cut\n",
    "\n",
    "fig.savefig('plots/gnn/avg_btag_score.pdf')\n",
    "btag_cut"
   ]
  },
  {
   "cell_type": "markdown",
   "metadata": {},
   "source": [
    "### Apply avg gnn and avg btag cut"
   ]
  },
  {
   "cell_type": "code",
   "execution_count": 18,
   "metadata": {},
   "outputs": [],
   "source": [
    "btag_gnn_sig_asr_mask = sig_asr_mask & sig_btag_mask & sig_gnn_mask\n",
    "btag_gnn_sig_acr_mask = sig_acr_mask & sig_btag_mask & sig_gnn_mask\n",
    "\n",
    "btag_gnn_asr_mask = data_asr_mask & data_gnn_mask\n",
    "btag_gnn_acr_mask = data_acr_mask & data_gnn_mask\n",
    "btag_gnn_vsr_mask = data_vsr_mask & data_gnn_mask\n",
    "btag_gnn_vcr_mask = data_vcr_mask & data_gnn_mask"
   ]
  },
  {
   "cell_type": "code",
   "execution_count": 19,
   "metadata": {},
   "outputs": [],
   "source": [
    "asr_mask = btag_gnn_asr_mask & ~data_btag_mask\n",
    "\n",
    "acr_ls_mask = btag_gnn_acr_mask & ~data_btag_mask\n",
    "acr_hs_mask = btag_gnn_acr_mask & data_btag_mask\n",
    "\n",
    "vsr_ls_mask = btag_gnn_vsr_mask & ~data_btag_mask\n",
    "vsr_hs_mask = btag_gnn_vsr_mask & data_btag_mask\n",
    "\n",
    "vcr_ls_mask = btag_gnn_vcr_mask & ~data_btag_mask\n",
    "vcr_hs_mask = btag_gnn_vcr_mask & data_btag_mask"
   ]
  },
  {
   "cell_type": "code",
   "execution_count": 20,
   "metadata": {},
   "outputs": [],
   "source": [
    "asr_ls_X_m = data_tree['X_m'].array()[asr_mask] # low score by construction\n",
    "\n",
    "acr_ls_X_m = data_tree['X_m'].array()[acr_ls_mask]\n",
    "vsr_ls_X_m = data_tree['X_m'].array()[vsr_ls_mask]\n",
    "vcr_ls_X_m = data_tree['X_m'].array()[vcr_ls_mask]\n",
    "acr_hs_X_m = data_tree['X_m'].array()[acr_hs_mask]\n",
    "vsr_hs_X_m = data_tree['X_m'].array()[vsr_hs_mask]\n",
    "vcr_hs_X_m = data_tree['X_m'].array()[vcr_hs_mask]"
   ]
  },
  {
   "cell_type": "markdown",
   "metadata": {},
   "source": [
    "### Generate signal ROOT histos"
   ]
  },
  {
   "cell_type": "code",
   "execution_count": 21,
   "metadata": {},
   "outputs": [
    {
     "data": {
      "image/png": "[encoded data removed]",
      "text/plain": [
       "<Figure size 432x288 with 1 Axes>"
      ]
     },
     "metadata": {
      "needs_background": "light"
     },
     "output_type": "display_data"
    }
   ],
   "source": [
    "fig, ax = plt.subplots()\n",
    "\n",
    "n_sr = Hist(sig_X_m[btag_gnn_sig_asr_mask], bins=m_bins, weights=scale, ax=ax, density=False)\n",
    "# n_sr = Hist(X_m, bins=m_bins, weights=scale, ax=ax, density=False)"
   ]
  },
  {
   "cell_type": "code",
   "execution_count": 22,
   "metadata": {},
   "outputs": [
    {
     "data": {
      "image/png": "[encoded data removed]",
      "text/plain": [
       "<IPython.core.display.Image object>"
      ]
     },
     "metadata": {},
     "output_type": "display_data"
    }
   ],
   "source": [
    "try: del canvas, ROOT_hist\n",
    "except: pass\n",
    "\n",
    "fout = ROOT.TFile(f\"ml/gnn/MX_700_MY_400_2M.root\",\"recreate\")\n",
    "fout.cd()\n",
    "\n",
    "canvas = ROOT.TCanvas('c1','c1', 600, 600)\n",
    "canvas.SetFrameLineWidth(3)\n",
    "canvas.Draw()\n",
    "\n",
    "h_title = f\"signal\"\n",
    "ROOT_hist = ROOT.TH1D(h_title,\";m_{X} [GeV];Events\",nbins-1,array('d',list(m_bins)))\n",
    "for i,(val) in enumerate(n_sr):\n",
    "    ROOT_hist.SetBinContent(i+1, val) \n",
    "\n",
    "ROOT_hist.Draw(\"hist\")\n",
    "ROOT_hist.Write()\n",
    "fout.Close()\n",
    "# fout.Save()\n",
    "# ROOT.gStyle.SetOptStat(0)"
   ]
  },
  {
   "cell_type": "code",
   "execution_count": 23,
   "metadata": {},
   "outputs": [
    {
     "data": {
      "image/png": "[encoded data removed]",
      "text/plain": [
       "<Figure size 432x288 with 1 Axes>"
      ]
     },
     "metadata": {
      "needs_background": "light"
     },
     "output_type": "display_data"
    }
   ],
   "source": [
    "fig, ax = plt.subplots()\n",
    "\n",
    "n_asr = Hist(sig_X_m[btag_gnn_sig_asr_mask], bins=m_bins, weights=scale, ax=ax, density=False, label='A SR')\n",
    "n_vsr = Hist(sig_X_m[btag_gnn_sig_acr_mask], bins=m_bins, weights=scale, ax=ax, density=False, label='V SR')\n",
    "# n_sr = Hist(X_m, bins=m_bins, weights=scale, ax=ax, density=False)"
   ]
  },
  {
   "cell_type": "code",
   "execution_count": 24,
   "metadata": {},
   "outputs": [
    {
     "data": {
      "image/png": "[encoded data removed]",
      "text/plain": [
       "<IPython.core.display.Image object>"
      ]
     },
     "metadata": {},
     "output_type": "display_data"
    }
   ],
   "source": [
    "try: del canvas, ROOT_hist\n",
    "except: pass\n",
    "\n",
    "fout = ROOT.TFile(f\"ml/gnn/signal_vsr.root\",\"recreate\")\n",
    "fout.cd()\n",
    "\n",
    "canvas = ROOT.TCanvas('c1','c1', 600, 600)\n",
    "canvas.SetFrameLineWidth(3)\n",
    "canvas.Draw()\n",
    "\n",
    "h_title = f\"signal\"\n",
    "ROOT_hist = ROOT.TH1D(h_title,\";m_{X} [GeV];Events\",nbins-1,array('d',list(m_bins)))\n",
    "for i,(val) in enumerate(n_vsr):\n",
    "    ROOT_hist.SetBinContent(i+1, val) \n",
    "\n",
    "ROOT_hist.Draw(\"hist\")\n",
    "ROOT_hist.Write()\n",
    "fout.Close()\n",
    "# fout.Save()\n",
    "# ROOT.gStyle.SetOptStat(0)"
   ]
  },
  {
   "cell_type": "markdown",
   "metadata": {},
   "source": [
    "## ACR BDT Training"
   ]
  },
  {
   "cell_type": "code",
   "execution_count": 25,
   "metadata": {},
   "outputs": [],
   "source": [
    "cfg = 'config/bias_config.cfg'\n",
    "\n",
    "config = ConfigParser()\n",
    "config.optionxform = str\n",
    "config.read(cfg)\n",
    "\n",
    "Nestimators  = int(config['BDT']['Nestimators'])\n",
    "learningRate = float(config['BDT']['learningRate'])\n",
    "maxDepth     = int(config['BDT']['maxDepth'])\n",
    "minLeaves    = int(config['BDT']['minLeaves'])\n",
    "GBsubsample  = float(config['BDT']['GBsubsample'])\n",
    "randomState  = int(config['BDT']['randomState'])\n",
    "variables = config['BDT']['variables']\n",
    "if isinstance(variables, str):\n",
    "    variables = variables.split(\", \")\n"
   ]
  },
  {
   "cell_type": "code",
   "execution_count": 26,
   "metadata": {},
   "outputs": [],
   "source": [
    "asr_ls_features = {}\n",
    "acr_ls_features = {}\n",
    "acr_hs_features = {}\n",
    "vcr_ls_features = {}\n",
    "vcr_hs_features = {}\n",
    "vsr_ls_features = {}\n",
    "vsr_hs_features = {}\n",
    "\n",
    "for var in variables:\n",
    "    asr_ls_features[var] = abs(data_tree[var].array())[asr_mask]\n",
    "    acr_ls_features[var] = abs(data_tree[var].array())[acr_ls_mask]\n",
    "    acr_hs_features[var] = abs(data_tree[var].array())[acr_hs_mask]\n",
    "    vcr_ls_features[var] = abs(data_tree[var].array()[vcr_ls_mask])\n",
    "    vcr_hs_features[var] = abs(data_tree[var].array()[vcr_hs_mask])\n",
    "    vsr_ls_features[var] = abs(data_tree[var].array())[vsr_ls_mask]\n",
    "    vsr_hs_features[var] = abs(data_tree[var].array())[vsr_hs_mask]\n",
    "\n",
    "asr_ls_df = pd.DataFrame(asr_ls_features)\n",
    "\n",
    "acr_ls_df = pd.DataFrame(acr_ls_features)\n",
    "acr_hs_df = pd.DataFrame(acr_hs_features)\n",
    "\n",
    "vcr_ls_df = pd.DataFrame(vcr_ls_features)\n",
    "vcr_hs_df = pd.DataFrame(vcr_hs_features)\n",
    "\n",
    "vsr_ls_df = pd.DataFrame(vsr_ls_features)\n",
    "vsr_hs_df = pd.DataFrame(vsr_hs_features)"
   ]
  },
  {
   "cell_type": "code",
   "execution_count": 27,
   "metadata": {},
   "outputs": [],
   "source": [
    "acr_TF = sum(acr_hs_mask)/sum(acr_ls_mask)\n",
    "vcr_TF = sum(vcr_hs_mask)/sum(vcr_ls_mask)\n",
    "\n",
    "asr_initial_weights = np.ones(ak.sum(asr_mask))*acr_TF\n",
    "acr_initial_weights = np.ones(ak.sum(acr_ls_mask))*acr_TF\n",
    "vsr_initial_weights = np.ones(ak.sum(vsr_ls_mask))*vcr_TF\n",
    "\n",
    "acr_ls_weights = np.ones(ak.sum(acr_ls_mask))*acr_TF\n",
    "acr_hs_weights = np.ones(ak.sum([acr_hs_mask]))\n",
    "vcr_ls_weights = np.ones(ak.sum(vcr_ls_mask))*vcr_TF\n",
    "vcr_hs_weights = np.ones(ak.sum(vcr_hs_mask))"
   ]
  },
  {
   "cell_type": "code",
   "execution_count": 28,
   "metadata": {},
   "outputs": [],
   "source": [
    "acr_reweighter_base = reweight.GBReweighter(\n",
    "    n_estimators=Nestimators, \n",
    "    learning_rate=learningRate, \n",
    "    max_depth=maxDepth, \n",
    "    min_samples_leaf=minLeaves,\n",
    "    gb_args={'subsample': GBsubsample})\n",
    "\n",
    "acr_reweighter = reweight.FoldingReweighter(acr_reweighter_base, random_state=randomState, n_folds=2, verbose=False)\n",
    "acr_reweighter.fit(acr_ls_df,acr_hs_df,acr_ls_weights,acr_hs_weights)\n",
    "\n",
    "asr_weights_pred = acr_reweighter.predict_weights(asr_ls_df,asr_initial_weights,lambda x: np.mean(x, axis=0))\n",
    "acr_weights_pred = acr_reweighter.predict_weights(acr_ls_df,acr_initial_weights,lambda x: np.mean(x, axis=0))"
   ]
  },
  {
   "cell_type": "code",
   "execution_count": 29,
   "metadata": {},
   "outputs": [
    {
     "data": {
      "image/png": "[encoded data removed]",
      "text/plain": [
       "<Figure size 432x288 with 1 Axes>"
      ]
     },
     "metadata": {
      "needs_background": "light"
     },
     "output_type": "display_data"
    }
   ],
   "source": [
    "fig, ax = plt.subplots()\n",
    "\n",
    "n_acr_hs = Hist(acr_hs_X_m, bins=m_bins, ax=ax, density=False, label='A CR high-score') # this is low-scoring sr\n",
    "n_acr_hs_pred = Hist(acr_ls_X_m, bins=m_bins, weights=acr_weights_pred, ax=ax, label='A CR predicted high-score')\n",
    "\n",
    "acr_TF_bvb = n_acr_hs / n_acr_hs_pred"
   ]
  },
  {
   "cell_type": "code",
   "execution_count": 30,
   "metadata": {},
   "outputs": [
    {
     "data": {
      "image/png": "[encoded data removed]",
      "text/plain": [
       "<Figure size 432x288 with 1 Axes>"
      ]
     },
     "metadata": {
      "needs_background": "light"
     },
     "output_type": "display_data"
    }
   ],
   "source": [
    "fig, ax = plt.subplots()\n",
    "\n",
    "n_asr_pred = Hist(asr_ls_X_m, bins=m_bins, weights=asr_weights_pred, ax=ax, label='Predicted Background')\n",
    "n_asr_pred_reweighted = Hist(x_X_m, bins=m_bins, weights=n_asr_pred*acr_TF_bvb, ax=ax, label='Reweighted Predicted Background')"
   ]
  },
  {
   "cell_type": "code",
   "execution_count": 31,
   "metadata": {},
   "outputs": [
    {
     "data": {
      "image/png": "[encoded data removed]",
      "text/plain": [
       "<IPython.core.display.Image object>"
      ]
     },
     "metadata": {},
     "output_type": "display_data"
    }
   ],
   "source": [
    "try: del canvas, ROOT_hist\n",
    "except: pass\n",
    "\n",
    "canvas = ROOT.TCanvas('c1','c1', 600, 600)\n",
    "canvas.SetFrameLineWidth(3)\n",
    "canvas.Draw()\n",
    "\n",
    "fout = ROOT.TFile(f\"ml/gnn/data.root\",\"recreate\")\n",
    "fout.cd()\n",
    "\n",
    "h_title = f\"data\"\n",
    "ROOT_hist = ROOT.TH1D(h_title,\";m_{X} [GeV];Events\",nbins-1,array('d',list(np.linspace(375,1150,nbins))))\n",
    "for i,(val) in enumerate(n_asr):\n",
    "    ROOT_hist.SetBinContent(i+1, val)\n",
    "\n",
    "ROOT_hist.Draw(\"hist\")\n",
    "ROOT_hist.Write()\n",
    "ROOT.gStyle.SetOptStat(0)\n",
    "fout.Close()"
   ]
  },
  {
   "cell_type": "code",
   "execution_count": 32,
   "metadata": {},
   "outputs": [
    {
     "data": {
      "text/html": [
       "<style>#sk-container-id-1 {color: black;background-color: white;}#sk-container-id-1 pre{padding: 0;}#sk-container-id-1 div.sk-toggleable {background-color: white;}#sk-container-id-1 label.sk-toggleable__label {cursor: pointer;display: block;width: 100%;margin-bottom: 0;padding: 0.3em;box-sizing: border-box;text-align: center;}#sk-container-id-1 label.sk-toggleable__label-arrow:before {content: \"▸\";float: left;margin-right: 0.25em;color: #696969;}#sk-container-id-1 label.sk-toggleable__label-arrow:hover:before {color: black;}#sk-container-id-1 div.sk-estimator:hover label.sk-toggleable__label-arrow:before {color: black;}#sk-container-id-1 div.sk-toggleable__content {max-height: 0;max-width: 0;overflow: hidden;text-align: left;background-color: #f0f8ff;}#sk-container-id-1 div.sk-toggleable__content pre {margin: 0.2em;color: black;border-radius: 0.25em;background-color: #f0f8ff;}#sk-container-id-1 input.sk-toggleable__control:checked~div.sk-toggleable__content {max-height: 200px;max-width: 100%;overflow: auto;}#sk-container-id-1 input.sk-toggleable__control:checked~label.sk-toggleable__label-arrow:before {content: \"▾\";}#sk-container-id-1 div.sk-estimator input.sk-toggleable__control:checked~label.sk-toggleable__label {background-color: #d4ebff;}#sk-container-id-1 div.sk-label input.sk-toggleable__control:checked~label.sk-toggleable__label {background-color: #d4ebff;}#sk-container-id-1 input.sk-hidden--visually {border: 0;clip: rect(1px 1px 1px 1px);clip: rect(1px, 1px, 1px, 1px);height: 1px;margin: -1px;overflow: hidden;padding: 0;position: absolute;width: 1px;}#sk-container-id-1 div.sk-estimator {font-family: monospace;background-color: #f0f8ff;border: 1px dotted black;border-radius: 0.25em;box-sizing: border-box;margin-bottom: 0.5em;}#sk-container-id-1 div.sk-estimator:hover {background-color: #d4ebff;}#sk-container-id-1 div.sk-parallel-item::after {content: \"\";width: 100%;border-bottom: 1px solid gray;flex-grow: 1;}#sk-container-id-1 div.sk-label:hover label.sk-toggleable__label {background-color: #d4ebff;}#sk-container-id-1 div.sk-serial::before {content: \"\";position: absolute;border-left: 1px solid gray;box-sizing: border-box;top: 0;bottom: 0;left: 50%;z-index: 0;}#sk-container-id-1 div.sk-serial {display: flex;flex-direction: column;align-items: center;background-color: white;padding-right: 0.2em;padding-left: 0.2em;position: relative;}#sk-container-id-1 div.sk-item {position: relative;z-index: 1;}#sk-container-id-1 div.sk-parallel {display: flex;align-items: stretch;justify-content: center;background-color: white;position: relative;}#sk-container-id-1 div.sk-item::before, #sk-container-id-1 div.sk-parallel-item::before {content: \"\";position: absolute;border-left: 1px solid gray;box-sizing: border-box;top: 0;bottom: 0;left: 50%;z-index: -1;}#sk-container-id-1 div.sk-parallel-item {display: flex;flex-direction: column;z-index: 1;position: relative;background-color: white;}#sk-container-id-1 div.sk-parallel-item:first-child::after {align-self: flex-end;width: 50%;}#sk-container-id-1 div.sk-parallel-item:last-child::after {align-self: flex-start;width: 50%;}#sk-container-id-1 div.sk-parallel-item:only-child::after {width: 0;}#sk-container-id-1 div.sk-dashed-wrapped {border: 1px dashed gray;margin: 0 0.4em 0.5em 0.4em;box-sizing: border-box;padding-bottom: 0.4em;background-color: white;}#sk-container-id-1 div.sk-label label {font-family: monospace;font-weight: bold;display: inline-block;line-height: 1.2em;}#sk-container-id-1 div.sk-label-container {text-align: center;}#sk-container-id-1 div.sk-container {/* jupyter's `normalize.less` sets `[hidden] { display: none; }` but bootstrap.min.css set `[hidden] { display: none !important; }` so we also need the `!important` here to be able to override the default hidden behavior on the sphinx rendered scikit-learn.org. See: https://github.com/scikit-learn/scikit-learn/issues/21755 */display: inline-block !important;position: relative;}#sk-container-id-1 div.sk-text-repr-fallback {display: none;}</style><div id=\"sk-container-id-1\" class=\"sk-top-container\"><div class=\"sk-text-repr-fallback\"><pre>FoldingReweighter(base_reweighter=GBReweighter(gb_args={&#x27;subsample&#x27;: 0.6},\n",
       "                                               learning_rate=0.16, max_depth=5,\n",
       "                                               n_estimators=100),\n",
       "                  random_state=2020, verbose=False)</pre><b>In a Jupyter environment, please rerun this cell to show the HTML representation or trust the notebook. <br />On GitHub, the HTML representation is unable to render, please try loading this page with nbviewer.org.</b></div><div class=\"sk-container\" hidden><div class=\"sk-item sk-dashed-wrapped\"><div class=\"sk-label-container\"><div class=\"sk-label sk-toggleable\"><input class=\"sk-toggleable__control sk-hidden--visually\" id=\"sk-estimator-id-1\" type=\"checkbox\" ><label for=\"sk-estimator-id-1\" class=\"sk-toggleable__label sk-toggleable__label-arrow\">FoldingReweighter</label><div class=\"sk-toggleable__content\"><pre>FoldingReweighter(base_reweighter=GBReweighter(gb_args={&#x27;subsample&#x27;: 0.6},\n",
       "                                               learning_rate=0.16, max_depth=5,\n",
       "                                               n_estimators=100),\n",
       "                  random_state=2020, verbose=False)</pre></div></div></div><div class=\"sk-parallel\"><div class=\"sk-parallel-item\"><div class=\"sk-item\"><div class=\"sk-label-container\"><div class=\"sk-label sk-toggleable\"><input class=\"sk-toggleable__control sk-hidden--visually\" id=\"sk-estimator-id-2\" type=\"checkbox\" ><label for=\"sk-estimator-id-2\" class=\"sk-toggleable__label sk-toggleable__label-arrow\">base_reweighter: GBReweighter</label><div class=\"sk-toggleable__content\"><pre>GBReweighter(gb_args={&#x27;subsample&#x27;: 0.6}, learning_rate=0.16, max_depth=5,\n",
       "             n_estimators=100)</pre></div></div></div><div class=\"sk-serial\"><div class=\"sk-item\"><div class=\"sk-estimator sk-toggleable\"><input class=\"sk-toggleable__control sk-hidden--visually\" id=\"sk-estimator-id-3\" type=\"checkbox\" ><label for=\"sk-estimator-id-3\" class=\"sk-toggleable__label sk-toggleable__label-arrow\">GBReweighter</label><div class=\"sk-toggleable__content\"><pre>GBReweighter(gb_args={&#x27;subsample&#x27;: 0.6}, learning_rate=0.16, max_depth=5,\n",
       "             n_estimators=100)</pre></div></div></div></div></div></div></div></div></div></div>"
      ],
      "text/plain": [
       "FoldingReweighter(base_reweighter=GBReweighter(gb_args={'subsample': 0.6},\n",
       "                                               learning_rate=0.16, max_depth=5,\n",
       "                                               n_estimators=100),\n",
       "                  random_state=2020, verbose=False)"
      ]
     },
     "execution_count": 32,
     "metadata": {},
     "output_type": "execute_result"
    }
   ],
   "source": [
    "vcr_reweighter_base = reweight.GBReweighter(\n",
    "    n_estimators=Nestimators, \n",
    "    learning_rate=learningRate, \n",
    "    max_depth=maxDepth, \n",
    "    min_samples_leaf=minLeaves,\n",
    "    gb_args={'subsample': GBsubsample})\n",
    "\n",
    "vcr_reweighter = reweight.FoldingReweighter(vcr_reweighter_base, random_state=randomState, n_folds=2, verbose=False)\n",
    "vcr_reweighter.fit(vcr_ls_df,vcr_hs_df,vcr_ls_weights,vcr_hs_weights)"
   ]
  },
  {
   "cell_type": "code",
   "execution_count": 33,
   "metadata": {},
   "outputs": [],
   "source": [
    "vsr_weights_pred = vcr_reweighter.predict_weights(vsr_ls_df,vsr_initial_weights,lambda x: np.mean(x, axis=0))\n",
    "vcr_weights_pred = vcr_reweighter.predict_weights(vcr_ls_df,np.ones(ak.sum(vcr_ls_mask))*vcr_TF,lambda x: np.mean(x, axis=0))"
   ]
  },
  {
   "cell_type": "code",
   "execution_count": 37,
   "metadata": {},
   "outputs": [
    {
     "data": {
      "image/png": "[encoded data removed]",
      "text/plain": [
       "<Figure size 432x288 with 1 Axes>"
      ]
     },
     "metadata": {
      "needs_background": "light"
     },
     "output_type": "display_data"
    }
   ],
   "source": [
    "fig, ax = plt.subplots()\n",
    "\n",
    "# n_srls = Hist(vsr_ls_X_m, bins=m_bins, ax=ax, density=False)\n",
    "n_vcrhs_pred = Hist(vcr_ls_X_m, bins=m_bins, weights=vcr_weights_pred, ax=ax, density=False)\n",
    "n_vcrhs = Hist(vcr_hs_X_m, bins=m_bins, ax=ax, density=False)\n",
    "# n_vcrls = Hist(vcr_ls_X_m, bins=m_bins, ax=ax, density=False)\n",
    "\n",
    "vcr_TF_bvb = np.nan_to_num(n_vcrhs / n_vcrhs_pred, 0)"
   ]
  },
  {
   "cell_type": "code",
   "execution_count": 38,
   "metadata": {},
   "outputs": [
    {
     "data": {
      "image/png": "[encoded data removed]",
      "text/plain": [
       "<Figure size 432x288 with 1 Axes>"
      ]
     },
     "metadata": {
      "needs_background": "light"
     },
     "output_type": "display_data"
    }
   ],
   "source": [
    "fig, ax = plt.subplots()\n",
    "\n",
    "# n_srls = Hist(vsr_ls_X_m, bins=m_bins, ax=ax, density=False)\n",
    "n_vsrhs_pred = Hist(vsr_ls_X_m, bins=m_bins, weights=vsr_weights_pred, ax=ax, density=False)\n",
    "n_vsrhs = Hist(vsr_hs_X_m, bins=m_bins, ax=ax, density=False)\n",
    "\n",
    "# n_vsrls = Hist(vsr_ls_X_m, bins=m_bins, ax=ax, density=False)\n",
    "n_vsrhs_pred_weighted = Hist(x_X_m, bins=m_bins, weights=n_vsrhs_pred*vcr_TF_bvb, ax=ax)"
   ]
  },
  {
   "cell_type": "code",
   "execution_count": null,
   "metadata": {},
   "outputs": [
    {
     "data": {
      "image/png": "[encoded data removed]",
      "text/plain": [
       "<IPython.core.display.Image object>"
      ]
     },
     "metadata": {},
     "output_type": "display_data"
    }
   ],
   "source": [
    "try: del canvas, ROOT_hist\n",
    "except: pass\n",
    "\n",
    "canvas = ROOT.TCanvas('c1','c1', 600, 600)\n",
    "canvas.SetFrameLineWidth(3)\n",
    "canvas.Draw()\n",
    "\n",
    "fout = ROOT.TFile(f\"ml/gnn/data_vr.root\",\"recreate\")\n",
    "fout.cd()\n",
    "\n",
    "h_title_exp = f\"data_exp\"\n",
    "h_title_obs = f\"data_obs\"\n",
    "\n",
    "ROOT_hist = ROOT.TH1D(h_title_exp,\";m_{X} [GeV];Events\",nbins-1,array('d',list(np.linspace(375,1150,nbins))))\n",
    "ROOT_hist_obs = ROOT.TH1D(h_title_obs,\";m_{X} [GeV];Events\",nbins-1,array('d',list(np.linspace(375,1150,nbins))))\n",
    "\n",
    "for i,(val,val_vr) in enumerate(zip(n_vsrhs_pred, n_vsrhs)):\n",
    "    ROOT_hist.SetBinContent(i+1, val)\n",
    "    ROOT_hist_obs.SetBinContent(i+1, val_vr)\n",
    "\n",
    "ROOT_hist.Draw(\"hist\")\n",
    "ROOT_hist_obs.Draw(\"hist\")\n",
    "ROOT_hist.Write()\n",
    "ROOT_hist_obs.Write()\n",
    "ROOT.gStyle.SetOptStat(0)\n",
    "fout.Close()"
   ]
  },
  {
   "cell_type": "markdown",
   "metadata": {},
   "source": [
    "### Limits"
   ]
  },
  {
   "cell_type": "markdown",
   "metadata": {},
   "source": [
    "#### Analysis Signal Region"
   ]
  },
  {
   "cell_type": "code",
   "execution_count": null,
   "metadata": {},
   "outputs": [],
   "source": [
    "bkg_est_asr = up.open('ml/gnn/data.root')\n",
    "signal_asr = up.open('ml/gnn/MX_700_MY_400_2M.root')\n",
    "\n",
    "h_data = bkg_est_asr['data']\n",
    "h_signal = signal_asr['signal']"
   ]
  },
  {
   "cell_type": "code",
   "execution_count": null,
   "metadata": {},
   "outputs": [
    {
     "name": "stderr",
     "output_type": "stream",
     "text": [
      "WARNING:absl:No GPU/TPU found, falling back to CPU. (Set TF_CPP_MIN_LOG_LEVEL=0 and rerun for more info.)\n"
     ]
    }
   ],
   "source": [
    "norm = 2*np.sqrt(np.sum(h_data.errors()**2))/h_signal.counts().sum()\n",
    "w = pyhf.simplemodels.uncorrelated_background(\n",
    "    signal=(norm*h_signal.counts()).tolist(), bkg=h_data.counts().tolist(), bkg_uncertainty=h_data.errors().tolist()\n",
    ")\n",
    "data = h_data.counts().tolist()+w.config.auxdata"
   ]
  },
  {
   "cell_type": "code",
   "execution_count": null,
   "metadata": {},
   "outputs": [
    {
     "data": {
      "text/plain": [
       "(array([2.68824494, 3.35695767, 4.89118207, 5.97775454, 8.03435917]),\n",
       " 6.725992760466909)"
      ]
     },
     "metadata": {},
     "output_type": "display_data"
    }
   ],
   "source": [
    "# 80 bins\n",
    "\n",
    "obs_limit_vsr, exp_limit_vsr, (scan, results) = pyhf.infer.intervals.upperlimit(\n",
    "          data_vsr, w_vsr, poi, level=level, return_results=True\n",
    "      )\n",
    "obs_limit_vsr, exp_limit_vsr = norm_vsr*obs_limit_vsr, [ norm_vsr*lim for lim in exp_limit_vsr ]\n",
    "np.array(exp_limit_vsr)*300, np.array(obs_limit_vsr)*300 # fb"
   ]
  },
  {
   "cell_type": "markdown",
   "metadata": {},
   "source": [
    "#### Validation Signal Region"
   ]
  },
  {
   "cell_type": "code",
   "execution_count": null,
   "metadata": {},
   "outputs": [],
   "source": [
    "# bkg_est_vsr = up.open('ml/gnn/data_vsr.root')\n",
    "bkg_vsr = up.open('ml/gnn/data_vr.root')\n",
    "signal_vsr = up.open('ml/gnn/signal_vsr.root')\n",
    "\n",
    "h_signal_vsr = signal_vsr['signal']\n",
    "h_data_vsr_exp = bkg_vsr['data_exp']\n",
    "h_data_vsr_obs = bkg_vsr['data_obs']"
   ]
  },
  {
   "cell_type": "code",
   "execution_count": null,
   "metadata": {},
   "outputs": [],
   "source": [
    "norm_vsr = 2*np.sqrt(np.sum(h_data_vsr_exp.errors()**2))/h_signal.counts().sum()\n",
    "w_vsr = pyhf.simplemodels.uncorrelated_background(\n",
    "    signal=(norm_vsr*h_signal.counts()*4).tolist(), bkg=h_data_vsr_exp.counts().tolist(), bkg_uncertainty=h_data_vsr_exp.errors().tolist()\n",
    ")\n",
    "data_vsr = h_data_vsr_obs.counts().tolist()+w_vsr.config.auxdata"
   ]
  },
  {
   "cell_type": "code",
   "execution_count": null,
   "metadata": {},
   "outputs": [
    {
     "data": {
      "text/plain": [
       "(array([ 8.93792385, 11.94540315, 16.38425319, 22.8299704 , 27.74984748]),\n",
       " 25.879292826751087)"
      ]
     },
     "metadata": {},
     "output_type": "display_data"
    }
   ],
   "source": [
    "# 60 bins\n",
    "obs_limit_vsr, exp_limit_vsr, (scan, results) = pyhf.infer.intervals.upperlimit(\n",
    "          data_vsr, w_vsr, poi, level=level, return_results=True\n",
    "      )\n",
    "obs_limit_vsr, exp_limit_vsr = norm_vsr*obs_limit_vsr, [ norm_vsr*lim for lim in exp_limit_vsr ]"
   ]
  },
  {
   "cell_type": "code",
   "execution_count": null,
   "metadata": {},
   "outputs": [
    {
     "name": "stderr",
     "output_type": "stream",
     "text": [
      "[autoreload of utils.plotter failed: Traceback (most recent call last):\n",
      "  File \"/uscms/home/srosenzw/nobackup/miniconda3/envs/work/lib/python3.8/site-packages/IPython/extensions/autoreload.py\", line 245, in check\n",
      "    superreload(m, reload, self.old_objects)\n",
      "  File \"/uscms/home/srosenzw/nobackup/miniconda3/envs/work/lib/python3.8/site-packages/IPython/extensions/autoreload.py\", line 394, in superreload\n",
      "    module = reload(module)\n",
      "  File \"/uscms/home/srosenzw/nobackup/miniconda3/envs/work/lib/python3.8/imp.py\", line 314, in reload\n",
      "    return importlib.reload(module)\n",
      "  File \"/uscms/home/srosenzw/nobackup/miniconda3/envs/work/lib/python3.8/importlib/__init__.py\", line 169, in reload\n",
      "    _bootstrap._exec(spec, module)\n",
      "  File \"<frozen importlib._bootstrap>\", line 604, in _exec\n",
      "  File \"<frozen importlib._bootstrap_external>\", line 843, in exec_module\n",
      "  File \"<frozen importlib._bootstrap>\", line 219, in _call_with_frames_removed\n",
      "  File \"/uscms_data/d3/srosenzw/workarea/higgs/sixb_analysis/CMSSW_10_6_19_patch2/src/sixb/utils/plotter.py\", line 23, in <module>\n",
      "    import mpl_font.noto # For Noto Sans CJK SC\n",
      "  File \"/uscms/home/srosenzw/nobackup/miniconda3/envs/work/lib/python3.8/site-packages/ROOT/_facade.py\", line 150, in _importhook\n",
      "    return _orig_ihook(name, *args, **kwds)\n",
      "ModuleNotFoundError: No module named 'mpl_font'\n",
      "]\n"
     ]
    },
    {
     "ename": "NameError",
     "evalue": "name 'exp_limit_vsr' is not defined",
     "output_type": "error",
     "traceback": [
      "\u001b[0;31m---------------------------------------------------------------------------\u001b[0m",
      "\u001b[0;31mNameError\u001b[0m                                 Traceback (most recent call last)",
      "\u001b[0;32m<ipython-input-2-f2b83fa590f2>\u001b[0m in \u001b[0;36m<module>\u001b[0;34m\u001b[0m\n\u001b[0;32m----> 1\u001b[0;31m \u001b[0mnp\u001b[0m\u001b[0;34m.\u001b[0m\u001b[0marray\u001b[0m\u001b[0;34m(\u001b[0m\u001b[0mexp_limit_vsr\u001b[0m\u001b[0;34m)\u001b[0m\u001b[0;34m[\u001b[0m\u001b[0;36m2\u001b[0m\u001b[0;34m]\u001b[0m\u001b[0;34m*\u001b[0m\u001b[0;36m300\u001b[0m\u001b[0;34m,\u001b[0m \u001b[0mnp\u001b[0m\u001b[0;34m.\u001b[0m\u001b[0marray\u001b[0m\u001b[0;34m(\u001b[0m\u001b[0mobs_limit_vsr\u001b[0m\u001b[0;34m)\u001b[0m\u001b[0;34m*\u001b[0m\u001b[0;36m300\u001b[0m \u001b[0;31m# fb\u001b[0m\u001b[0;34m\u001b[0m\u001b[0;34m\u001b[0m\u001b[0m\n\u001b[0m",
      "\u001b[0;31mNameError\u001b[0m: name 'exp_limit_vsr' is not defined"
     ]
    }
   ],
   "source": [
    "print(f\"Expected : {round(np.array(exp_limit_vsr)[2]*300)}\")\n",
    "print(f\"Observed : {round(np.array(obs_limit_vsr)*300)}\")"
   ]
  },
  {
   "cell_type": "code",
   "execution_count": null,
   "metadata": {},
   "outputs": [],
   "source": []
  }
 ],
 "metadata": {
  "kernelspec": {
   "display_name": "Python 3.9.13 ('sixb')",
   "language": "python",
   "name": "python3"
  },
  "language_info": {
   "codemirror_mode": {
    "name": "ipython",
    "version": 3
   },
   "file_extension": ".py",
   "mimetype": "text/x-python",
   "name": "python",
   "nbconvert_exporter": "python",
   "pygments_lexer": "ipython3",
   "version": "3.9.13"
  },
  "orig_nbformat": 4,
  "vscode": {
   "interpreter": {
    "hash": "fd1aa3536eccf25268872fb0877ce450957c03a0faeafc6ef6bbb3c9838499b8"
   }
  }
 },
 "nbformat": 4,
 "nbformat_minor": 2
}
