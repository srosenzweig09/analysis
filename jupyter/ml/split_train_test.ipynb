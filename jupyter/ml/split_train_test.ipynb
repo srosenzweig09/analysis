{
 "cells": [
  {
   "cell_type": "code",
   "execution_count": 2,
   "metadata": {},
   "outputs": [],
   "source": [
    "import uproot\n",
    "from utils.analysis.signal import presels"
   ]
  },
  {
   "cell_type": "code",
   "execution_count": 14,
   "metadata": {},
   "outputs": [],
   "source": [
    "h = uproot.open('/eos/uscms/store/user/srosenzw/sixb/studies/NMSSM_nocuts/NMSSM_XYH_YToHH_6b_MX_700_MY_400_10M/ntuple.root:h_cutflow')"
   ]
  },
  {
   "cell_type": "code",
   "execution_count": 16,
   "metadata": {},
   "outputs": [
    {
     "data": {
      "text/plain": [
       "(array([9787202., 9787202.], dtype=float32), array([0., 1., 2.]))"
      ]
     },
     "execution_count": 16,
     "metadata": {},
     "output_type": "execute_result"
    }
   ],
   "source": [
    "h.to_numpy()"
   ]
  },
  {
   "cell_type": "code",
   "execution_count": 21,
   "metadata": {},
   "outputs": [
    {
     "name": "stdout",
     "output_type": "stream",
     "text": [
      "['Run', 'LumiSec', 'Event', 'n_other_pv', 'rhofastjet_all', 'gen_X_fc_m', 'gen_X_fc_pt', 'gen_X_fc_eta', 'gen_X_fc_phi', 'gen_X_m', 'gen_X_pt', 'gen_X_eta', 'gen_X_phi', 'gen_Y_m', 'gen_Y_pt', 'gen_Y_eta', 'gen_Y_phi', 'gen_HX_m', 'gen_HX_pt', 'gen_HX_eta', 'gen_HX_phi', 'gen_HY1_m', 'gen_HY1_pt', 'gen_HY1_eta', 'gen_HY1_phi', 'gen_HY2_m', 'gen_HY2_pt', 'gen_HY2_eta', 'gen_HY2_phi', 'gen_HX_b1_m', 'gen_HX_b1_pt', 'gen_HX_b1_eta', 'gen_HX_b1_phi', 'gen_HX_b2_m', 'gen_HX_b2_pt', 'gen_HX_b2_eta', 'gen_HX_b2_phi', 'gen_HY1_b1_m', 'gen_HY1_b1_pt', 'gen_HY1_b1_eta', 'gen_HY1_b1_phi', 'gen_HY1_b2_m', 'gen_HY1_b2_pt', 'gen_HY1_b2_eta', 'gen_HY1_b2_phi', 'gen_HY2_b1_m', 'gen_HY2_b1_pt', 'gen_HY2_b1_eta', 'gen_HY2_b1_phi', 'gen_HY2_b2_m', 'gen_HY2_b2_pt', 'gen_HY2_b2_eta', 'gen_HY2_b2_phi', 'gen_HX_b1_genjet_m', 'gen_HX_b1_genjet_pt', 'gen_HX_b1_genjet_eta', 'gen_HX_b1_genjet_phi', 'gen_HX_b2_genjet_m', 'gen_HX_b2_genjet_pt', 'gen_HX_b2_genjet_eta', 'gen_HX_b2_genjet_phi', 'gen_HY1_b1_genjet_m', 'gen_HY1_b1_genjet_pt', 'gen_HY1_b1_genjet_eta', 'gen_HY1_b1_genjet_phi', 'gen_HY1_b2_genjet_m', 'gen_HY1_b2_genjet_pt', 'gen_HY1_b2_genjet_eta', 'gen_HY1_b2_genjet_phi', 'gen_HY2_b1_genjet_m', 'gen_HY2_b1_genjet_pt', 'gen_HY2_b1_genjet_eta', 'gen_HY2_b1_genjet_phi', 'gen_HY2_b2_genjet_m', 'gen_HY2_b2_genjet_pt', 'gen_HY2_b2_genjet_eta', 'gen_HY2_b2_genjet_phi', 'gen_HX_b1_recojet_m', 'gen_HX_b1_recojet_pt', 'gen_HX_b1_recojet_ptRegressed', 'gen_HX_b1_recojet_eta', 'gen_HX_b1_recojet_phi', 'gen_HX_b2_recojet_m', 'gen_HX_b2_recojet_pt', 'gen_HX_b2_recojet_ptRegressed', 'gen_HX_b2_recojet_eta', 'gen_HX_b2_recojet_phi', 'gen_HY1_b1_recojet_m', 'gen_HY1_b1_recojet_pt', 'gen_HY1_b1_recojet_ptRegressed', 'gen_HY1_b1_recojet_eta', 'gen_HY1_b1_recojet_phi', 'gen_HY1_b2_recojet_m', 'gen_HY1_b2_recojet_pt', 'gen_HY1_b2_recojet_ptRegressed', 'gen_HY1_b2_recojet_eta', 'gen_HY1_b2_recojet_phi', 'gen_HY2_b1_recojet_m', 'gen_HY2_b1_recojet_pt', 'gen_HY2_b1_recojet_ptRegressed', 'gen_HY2_b1_recojet_eta', 'gen_HY2_b1_recojet_phi', 'gen_HY2_b2_recojet_m', 'gen_HY2_b2_recojet_pt', 'gen_HY2_b2_recojet_ptRegressed', 'gen_HY2_b2_recojet_eta', 'gen_HY2_b2_recojet_phi', 'gen_bs_N_reco_match', 'gen_bs_N_reco_match_in_acc', 'gen_bs_match_recojet_minv', 'gen_bs_match_in_acc_recojet_minv', 'n_mu_loose', 'n_ele_loose', 'n_total_jet', 'n_jet', 'jet_E', 'jet_m', 'jet_pt', 'jet_eta', 'jet_phi', 'jet_signalId', 'jet_higgsIdx', 'jet_genIdx', 'jet_btag', 'jet_qgl', 'jet_id', 'jet_puid', 'jet_preselIdx', 't6_jet_E', 't6_jet_m', 't6_jet_pt', 't6_jet_eta', 't6_jet_phi', 't6_jet_signalId', 't6_jet_higgsIdx', 't6_jet_genIdx', 't6_jet_btag', 't6_jet_qgl', 't6_jet_id', 't6_jet_puid', 't6_jet_preselIdx', 'b_6j_score', 'nn_jet_E', 'nn_jet_m', 'nn_jet_pt', 'nn_jet_eta', 'nn_jet_phi', 'nn_jet_signalId', 'nn_jet_higgsIdx', 'nn_jet_genIdx', 'nn_jet_btag', 'nn_jet_qgl', 'nn_jet_id', 'nn_jet_puid', 'nn_jet_preselIdx', 'n_higgs', 't6_higgs_pt', 't6_higgs_eta', 't6_higgs_phi', 't6_higgs_m', 't6_higgs_E', 't6_higgs_dr', 't6_higgs_signalId', 't6_higgs_2j_score', 'b_3d_score', 'nn_higgs_pt', 'nn_higgs_eta', 'nn_higgs_phi', 'nn_higgs_m', 'nn_higgs_E', 'nn_higgs_dr', 'nn_higgs_signalId', 'nn_higgs_2j_score', 'n_pu', 'n_true_int', 'lhe_ht', 'btagSF_WP_M', 'n_genjet', 'genjet_E', 'genjet_m', 'genjet_pt', 'genjet_eta', 'genjet_phi', 'genjet_partonFlav', 'genjet_hadronFlav', 'genjet_signalId', 'genjet_recoIdx', 't6_sphericity', 't6_sphericity_t', 't6_aplanarity', 'nn_sphericity', 'nn_sphericity_t', 'nn_aplanarity', 'nfound_all', 'nfound_presel', 'nfound_t6', 'nfound_nn', 'nfound_t6_h', 'nfound_nn_h', 'nloose_btag', 'nmedium_btag', 'ntight_btag', 't6_jet_btagsum', 'nn_jet_btagsum', '']\n"
     ]
    }
   ],
   "source": [
    "branches = ['n_jet', 'jet_E', 'jet_m', 'jet_pt', 'jet_eta', 'jet_phi', 'jet_signalId', 'jet_higgsIdx', 'jet_genIdx', 'jet_btag', 'jet_qgl', 'jet_id', 'jet_puid', 'jet_preselIdx']\n",
    "\n",
    "trees = []\n",
    "\n",
    "# n_jet_max = 0\n",
    "\n",
    "for i,array in enumerate(uproot.iterate('/eos/uscms/store/user/srosenzw/sixb/studies/NMSSM_nocuts/NMSSM_XYH_YToHH_6b_MX_700_MY_400_10M/ntuple.root:sixBtree', step_size=10000)):\n",
    "    # print(len(array))\n",
    "    print(array.fields)\n",
    "    # trees.append(array)\n",
    "    # if i == 2: break\n",
    "    break\n",
    "\n",
    "# print(trees)\n"
   ]
  },
  {
   "cell_type": "code",
   "execution_count": 5,
   "metadata": {},
   "outputs": [
    {
     "name": "stdout",
     "output_type": "stream",
     "text": [
      "<class 'awkward.highlevel.Array'>\n"
     ]
    }
   ],
   "source": [
    "# import awkward as ak\n",
    "newtree = ak.concatenate(trees)\n",
    "print(type(newtree))"
   ]
  },
  {
   "cell_type": "code",
   "execution_count": 14,
   "metadata": {},
   "outputs": [],
   "source": [
    "from utils.analysis.signal import presels"
   ]
  },
  {
   "cell_type": "code",
   "execution_count": 18,
   "metadata": {},
   "outputs": [
    {
     "data": {
      "text/plain": [
       "1000000"
      ]
     },
     "execution_count": 18,
     "metadata": {},
     "output_type": "execute_result"
    }
   ],
   "source": [
    "len(array)"
   ]
  },
  {
   "cell_type": "code",
   "execution_count": 19,
   "metadata": {},
   "outputs": [
    {
     "data": {
      "text/plain": [
       "499940"
      ]
     },
     "execution_count": 19,
     "metadata": {},
     "output_type": "execute_result"
    }
   ],
   "source": [
    "len(presels(array))"
   ]
  },
  {
   "cell_type": "code",
   "execution_count": 8,
   "metadata": {},
   "outputs": [
    {
     "data": {
      "text/plain": [
       "34"
      ]
     },
     "execution_count": 8,
     "metadata": {},
     "output_type": "execute_result"
    }
   ],
   "source": [
    "n_jet_max"
   ]
  },
  {
   "cell_type": "code",
   "execution_count": null,
   "metadata": {},
   "outputs": [],
   "source": []
  },
  {
   "cell_type": "code",
   "execution_count": null,
   "metadata": {},
   "outputs": [],
   "source": []
  },
  {
   "cell_type": "code",
   "execution_count": null,
   "metadata": {},
   "outputs": [],
   "source": []
  },
  {
   "cell_type": "code",
   "execution_count": null,
   "metadata": {},
   "outputs": [],
   "source": []
  },
  {
   "cell_type": "code",
   "execution_count": null,
   "metadata": {},
   "outputs": [],
   "source": []
  },
  {
   "cell_type": "code",
   "execution_count": null,
   "metadata": {},
   "outputs": [],
   "source": []
  }
 ],
 "metadata": {
  "kernelspec": {
   "display_name": "Python 3.8.12 ('work')",
   "language": "python",
   "name": "python3"
  },
  "language_info": {
   "codemirror_mode": {
    "name": "ipython",
    "version": 3
   },
   "file_extension": ".py",
   "mimetype": "text/x-python",
   "name": "python",
   "nbconvert_exporter": "python",
   "pygments_lexer": "ipython3",
   "version": "3.8.12"
  },
  "orig_nbformat": 4,
  "vscode": {
   "interpreter": {
    "hash": "5df4d1b2ce696ef8a7cc914f733ed0eed40caa2570f001e67a5aef7cf7cbd879"
   }
  }
 },
 "nbformat": 4,
 "nbformat_minor": 2
}
