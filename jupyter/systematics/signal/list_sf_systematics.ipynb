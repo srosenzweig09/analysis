{
 "cells": [
  {
   "cell_type": "code",
   "execution_count": 1,
   "metadata": {},
   "outputs": [],
   "source": [
    "import pandas as pd"
   ]
  },
  {
   "cell_type": "code",
   "execution_count": 2,
   "metadata": {},
   "outputs": [],
   "source": [
    "df = pd.read_csv('/uscms/home/srosenzw/nobackup/workarea/higgs/sixb_analysis/CMSSW_10_6_19_patch2/src/MultiHiggs/analysis/MultiHAnalysis/data/btag/2018/reshaping_deepJet_v3.csv')"
   ]
  },
  {
   "cell_type": "code",
   "execution_count": 3,
   "metadata": {},
   "outputs": [],
   "source": [
    "systematics = []\n",
    "for entry in df['sysType'].unique().tolist():\n",
    "    try: systematics.append(entry.split('_')[1])\n",
    "    except: systematics.append(entry)\n",
    "systematics = np.array(systematics)\n",
    "systematics = np.unique(systematics)"
   ]
  },
  {
   "cell_type": "code",
   "execution_count": 4,
   "metadata": {},
   "outputs": [
    {
     "name": "stdout",
     "output_type": "stream",
     "text": [
      "central\n",
      "cferr1\n",
      "cferr2\n",
      "hf\n",
      "hfstats1\n",
      "hfstats2\n",
      "jes\n",
      "jesAbsolute\n",
      "jesAbsoluteMPFBias\n",
      "jesAbsoluteScale\n",
      "jesAbsoluteStat\n",
      "jesBBEC1\n",
      "jesEC2\n",
      "jesFlavorQCD\n",
      "jesFragmentation\n",
      "jesHF\n",
      "jesPileUpDataMC\n",
      "jesPileUpPtBB\n",
      "jesPileUpPtEC1\n",
      "jesPileUpPtEC2\n",
      "jesPileUpPtHF\n",
      "jesPileUpPtRef\n",
      "jesRelativeBal\n",
      "jesRelativeFSR\n",
      "jesRelativeJEREC1\n",
      "jesRelativeJEREC2\n",
      "jesRelativeJERHF\n",
      "jesRelativePtBB\n",
      "jesRelativePtEC1\n",
      "jesRelativePtEC2\n",
      "jesRelativePtHF\n",
      "jesRelativeSample\n",
      "jesRelativeStatEC\n",
      "jesRelativeStatFSR\n",
      "jesRelativeStatHF\n",
      "jesSinglePionECAL\n",
      "jesSinglePionHCAL\n",
      "jesTimePtEta\n",
      "lf\n",
      "lfstats1\n",
      "lfstats2\n"
     ]
    }
   ],
   "source": [
    "for sys in systematics: print(sys)"
   ]
  },
  {
   "cell_type": "code",
   "execution_count": null,
   "metadata": {},
   "outputs": [],
   "source": []
  }
 ],
 "metadata": {
  "kernelspec": {
   "display_name": "sixb",
   "language": "python",
   "name": "python3"
  },
  "language_info": {
   "codemirror_mode": {
    "name": "ipython",
    "version": 3
   },
   "file_extension": ".py",
   "mimetype": "text/x-python",
   "name": "python",
   "nbconvert_exporter": "python",
   "pygments_lexer": "ipython3",
   "version": "3.9.18"
  }
 },
 "nbformat": 4,
 "nbformat_minor": 2
}
