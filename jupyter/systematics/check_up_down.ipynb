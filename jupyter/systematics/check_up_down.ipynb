{
 "cells": [
  {
   "cell_type": "code",
   "execution_count": null,
   "metadata": {},
   "outputs": [],
   "source": []
  },
  {
   "cell_type": "code",
   "execution_count": null,
   "metadata": {},
   "outputs": [],
   "source": []
  },
  {
   "cell_type": "code",
   "execution_count": null,
   "metadata": {},
   "outputs": [],
   "source": []
  },
  {
   "cell_type": "code",
   "execution_count": null,
   "metadata": {},
   "outputs": [],
   "source": [
    "f_dir = '/eos/uscms/store/user/srosenzw/sixb/ntuples/Summer2018UL/maxbtag_4b/Official_NMSSM'\n",
    "mass_point = 'NMSSM_XToYHTo6B_MX-700_MY-400_TuneCP5_13TeV-madgraph-pythia8'\n",
    "\n",
    "model_dir = '/eos/uscms/store/user/srosenzw/weaver/models/exp_sixb_official/feynnet_ranker_6b/20230731_7d266883bbfb88fe4e226783a7d1c9db_ranger_lr0.0047_batch2000_withbkg/predict_output/2018'"
   ]
  },
  {
   "cell_type": "code",
   "execution_count": null,
   "metadata": {},
   "outputs": [],
   "source": [
    "import subprocess\n",
    "output = subprocess.check_output(f'ls {model_dir}/*_NMSSM*', shell=True).decode('utf-8').split('\\n')\n",
    "output = [out for out in output if 'eos' in out]"
   ]
  },
  {
   "cell_type": "code",
   "execution_count": null,
   "metadata": {},
   "outputs": [],
   "source": [
    "systematics = [out.split('/')[-1].split('_NMSSM')[0].split('_') for out in output]\n",
    "systematics = [['_'.join(sys[:-1]), sys[-1]] if len(sys) == 3 else sys for sys in systematics]\n",
    "systematics"
   ]
  },
  {
   "cell_type": "code",
   "execution_count": null,
   "metadata": {},
   "outputs": [],
   "source": [
    "sys_dict = {\n",
    "    'Absolute_2018' : 'bSFshape_X_jesAbsolute',\n",
    "    'Absolute' : 'bSFshape_X_jesAbsolute',\n",
    "    'BBEC1_2018' : 'bSFshape_X_jesBBEC1',\n",
    "    'BBEC1' : 'bSFshape_X_jesBBEC1',\n",
    "    'EC2_2018' : 'bSFshape_X_jesEC2',\n",
    "    'EC2' : 'bSFshape_X_jesEC2',\n",
    "    'FlavorQCD' : 'bSFshape_X_jesFlavorQCD',\n",
    "    'HF_2018' : 'bSFshape_X_jesHF',\n",
    "    'HF' : 'bSFshape_X_jesHF',\n",
    "    'RelativeBal' : 'bSFshape_X_jesRelativeBal',\n",
    "    'RelativeSample_2018' : 'bSFshape_X_jesRelativeSample',\n",
    "}"
   ]
  },
  {
   "cell_type": "code",
   "execution_count": null,
   "metadata": {},
   "outputs": [],
   "source": [
    "mx_dict = {}"
   ]
  },
  {
   "cell_type": "code",
   "execution_count": null,
   "metadata": {},
   "outputs": [],
   "source": [
    "nominal = SixB(f\"{f_dir}/{mass_point}/ntuple.root\", feyn=False)\n",
    "\n",
    "# fig, ax = plt.subplots()    \n",
    "# mBins = np.linspace(375,1500,31)\n",
    "# n_nominal = Hist(nominal.X.m, bins=mBins, weights=nominal.scale, ax=ax)\n",
    "# n_central = Hist(nominal.X.m, bins=mBins, weights=nominal.scale*nominal.bSFshape_central, ax=ax)\n",
    "\n",
    "# mx_dict['nominal'] = n_nominal\n",
    "# mx_dict['bSFshape_central'] = n_central"
   ]
  },
  {
   "cell_type": "code",
   "execution_count": null,
   "metadata": {},
   "outputs": [],
   "source": [
    "\n",
    "for sys in systematics:\n",
    "    if 'Total' in sys[0]: continue\n",
    "    sys_name_up = sys_dict[sys[0]].replace('X', 'up')\n",
    "    sys_name_down = sys_dict[sys[0]].replace('X', 'down')\n",
    "    # if sys_name_up in mx_dict.keys(): continue\n",
    "\n",
    "    tree = SixB(f\"{f_dir}/syst/{sys[0]}/{sys[1]}/{mass_point}/ntuple.root\", feyn=f'{model_dir}/{sys[0]}_{sys[1]}_{mass_point}.root')\n",
    "\n",
    "    sys_up = tree.get(sys_name_up)\n",
    "    sys_down = tree.get(sys_name_down)\n",
    "\n",
    "    fig, ax = plt.subplots()    \n",
    "    mBins = np.linspace(375,1500,31)\n",
    "    n_up = Hist(tree.X.m, bins=mBins, weights=tree.scale*sys_up, ax=ax)\n",
    "    n_down = Hist(tree.X.m, bins=mBins, weights=tree.scale*sys_down, ax=ax)\n",
    "\n",
    "    mx_dict[sys_name_up] = n_up\n",
    "    mx_dict[sys_name_down] = n_down\n",
    "\n",
    "    plt.close()\n"
   ]
  },
  {
   "cell_type": "code",
   "execution_count": null,
   "metadata": {},
   "outputs": [],
   "source": [
    "mx_dict"
   ]
  },
  {
   "cell_type": "code",
   "execution_count": null,
   "metadata": {},
   "outputs": [],
   "source": [
    "sys_list = ['Absolute_2018', 'Absolute', 'BBEC1_2018', 'BBEC1', 'EC2_2018', 'EC2', 'FlavorQCD', 'HF_2018', 'HF', 'RelativeBal', 'RelativeSample_2018']"
   ]
  },
  {
   "cell_type": "code",
   "execution_count": null,
   "metadata": {},
   "outputs": [],
   "source": [
    "x = (mBins[1:] + mBins[:-1])/2"
   ]
  },
  {
   "cell_type": "code",
   "execution_count": null,
   "metadata": {},
   "outputs": [],
   "source": [
    "from matplotlib.gridspec import GridSpec, GridSpecFromSubplotSpec"
   ]
  },
  {
   "cell_type": "code",
   "execution_count": null,
   "metadata": {},
   "outputs": [],
   "source": [
    "fig = plt.figure(figsize=(30,30))\n",
    "gs = GridSpec(4, 3, figure=fig)\n",
    "\n",
    "for sys,ss in zip(sys_list, gs):\n",
    "    gs0 = GridSpecFromSubplotSpec(4, 1, subplot_spec=ss, hspace=0)\n",
    "\n",
    "    ax1 = fig.add_subplot(gs0[:-1])\n",
    "    ax2 = fig.add_subplot(gs0[-1], sharex=ax1)\n",
    "\n",
    "    sys_up = sys_dict[sys].replace('X', 'up')\n",
    "    sys_down = sys_dict[sys].replace('X', 'down')\n",
    "\n",
    "    n = Hist(x, bins=mBins, weights=mx_dict['bSFshape_central'], ax=ax1, label='nominal', color='k')\n",
    "    n_up = Hist(x, bins=mBins, weights=mx_dict[sys_up], ax=ax1, label=f\"{sys}_up\", color='b')\n",
    "    n_down = Hist(x, bins=mBins, weights=mx_dict[sys_down], ax=ax1, label=f\"{sys}_down\", color='r')\n",
    "\n",
    "    ratio_up = np.nan_to_num(n_up/n, 1.0)\n",
    "    ratio_down = np.nan_to_num(n_down/n, 1.0)\n",
    "\n",
    "    n_ratio_up = Hist(x, bins=mBins, weights=ratio_up, ax=ax2, color='b')\n",
    "    n_ratio_down = Hist(x, bins=mBins, weights=ratio_down, ax=ax2, color='r')\n",
    "    ax2.plot([375,1500], [1,1], 'k--')\n",
    "    ax2.set_ylim(0.8,1.2)\n",
    "    ax2.set_ylabel('Ratio')\n",
    "    ax2.set_xlabel(r'$m_{X}$ [GeV]')\n",
    "    ax1.set_ylabel('Events')\n",
    "    ax1.legend()\n",
    "\n",
    "# gs0 = GridSpecFromSubplotSpec(4, 1, subplot_spec=gs[-1], hspace=0)\n",
    "# ax1 = fig.add_subplot(gs0[:-1])\n",
    "# ax2 = fig.add_subplot(gs0[-1], sharex=ax1)\n",
    "# n = Hist(x, bins=mBins, weights=mx_dict['nominal'], ax=ax1, label='nominal', color='k')\n",
    "# n_c = Hist(x, bins=mBins, weights=mx_dict['bSFshape_central'], ax=ax1, label=\"central\", color='b')\n",
    "# ratio = np.nan_to_num(n_c/n, 1.0)\n",
    "# n_ratio = Hist(x, bins=mBins, weights=ratio, ax=ax2, color='b')\n",
    "# ax2.plot([375,1500], [1,1], 'k--')\n",
    "# ax2.set_ylim(0.5,1.5)\n",
    "# ax2.set_ylabel('Ratio')\n",
    "# ax2.set_xlabel(r'$m_{X}$ [GeV]')\n",
    "# ax1.set_ylabel('Events')\n",
    "# ax1.legend()\n",
    "\n",
    "fig.savefig('plots/systematics/up_down.pdf')"
   ]
  },
  {
   "cell_type": "code",
   "execution_count": null,
   "metadata": {},
   "outputs": [],
   "source": []
  },
  {
   "cell_type": "code",
   "execution_count": null,
   "metadata": {},
   "outputs": [],
   "source": []
  },
  {
   "cell_type": "code",
   "execution_count": null,
   "metadata": {},
   "outputs": [],
   "source": [
    "for sys,var in systematics:\n",
    "    print(f\"{sys}{var.capitalize()}\")"
   ]
  },
  {
   "cell_type": "code",
   "execution_count": null,
   "metadata": {},
   "outputs": [],
   "source": []
  },
  {
   "cell_type": "code",
   "execution_count": null,
   "metadata": {},
   "outputs": [],
   "source": []
  },
  {
   "cell_type": "code",
   "execution_count": null,
   "metadata": {},
   "outputs": [],
   "source": []
  },
  {
   "cell_type": "code",
   "execution_count": null,
   "metadata": {},
   "outputs": [],
   "source": [
    "nominal.asr_hs_mask.sum()*nominal.scale"
   ]
  },
  {
   "cell_type": "code",
   "execution_count": null,
   "metadata": {},
   "outputs": [],
   "source": []
  },
  {
   "cell_type": "code",
   "execution_count": null,
   "metadata": {},
   "outputs": [],
   "source": [
    "import uproot\n",
    "f = uproot.open(\"/eos/uscms/store/user/srosenzw/sixb/ntuples/Summer2018UL/maxbtag_4b/Official_NMSSM/NMSSM_XToYHTo6B_MX-850_MY-350_TuneCP5_13TeV-madgraph-pythia8/ntuple.root\")\n",
    "t = f['sixBtree']\n",
    "ttbar = uproot.open(\"/eos/uscms/store/user/srosenzw/sixb/ntuples/Summer2018UL/maxbtag_4b/TTJets/TTJets_TuneCP5_13TeV-amcatnloFXFX-pythia8/ntuple.root\")\n",
    "ttbar = f['sixBtree']\n",
    "tt_genWeight = ttbar['genWeight'].array()"
   ]
  },
  {
   "cell_type": "code",
   "execution_count": null,
   "metadata": {},
   "outputs": [],
   "source": [
    "t.keys()"
   ]
  },
  {
   "cell_type": "code",
   "execution_count": null,
   "metadata": {},
   "outputs": [],
   "source": [
    "import uproot\n",
    "f = uproot.open(\"/eos/uscms/store/user/srosenzw/sixb/ntuples/Summer2018UL/maxbtag_4b/Official_NMSSM/NMSSM_XToYHTo6B_MX-850_MY-350_TuneCP5_13TeV-madgraph-pythia8/ntuple.root\")\n",
    "print(f.keys())\n",
    "t = f['sixBtree']\n",
    "t['genWeight'].array(), len(t['jet_btag'].array()), [key for key in t.keys() if 'bSFshape' in key]"
   ]
  },
  {
   "cell_type": "code",
   "execution_count": null,
   "metadata": {},
   "outputs": [],
   "source": [
    "import uproot\n",
    "f = uproot.open(\"/uscms/home/srosenzw/nobackup/workarea/higgs/sixb_analysis/CMSSW_10_6_19_patch2/src/MultiHiggs/analysis/MultiHAnalysis/output.root\")\n",
    "print(f.keys())\n",
    "t = f['sixBtree']\n",
    "t['genWeight'].array(), len(t['jet_btag'].array())"
   ]
  },
  {
   "cell_type": "code",
   "execution_count": null,
   "metadata": {},
   "outputs": [],
   "source": [
    "import uproot\n",
    "f = uproot.open(\"/eos/uscms/store/user/srosenzw/sixb/ntuples/Summer2018UL/maxbtag_4b/TTJets/TTJets_TuneCP5_13TeV-amcatnloFXFX-pythia8/ntuple.root\")\n",
    "t = f['sixBtree']\n",
    "t['genWeight'].array()"
   ]
  },
  {
   "cell_type": "code",
   "execution_count": null,
   "metadata": {},
   "outputs": [],
   "source": [
    "ttbar = Bkg(\"/eos/uscms/store/user/srosenzw/sixb/ntuples/Summer2018UL/maxbtag_4b/TTJets/TTJets_TuneCP5_13TeV-amcatnloFXFX-pythia8/ntuple.root\")\n",
    "# tt_weight = ttbar.genWeight * ttbar.PUWeight * ttbar.triggerSF\n",
    "# tt_pu_up = ttbar.genWeight * ttbar.PUWeight_up * ttbar.triggerSF\n",
    "# tt_pu_down = ttbar.genWeight * ttbar.PUWeight_down * ttbar.triggerSF\n",
    "# tt_trigger_up = ttbar.genWeight * ttbar.PUWeight * ttbar.triggerSF_up\n",
    "# tt_trigger_down = ttbar.genWeight * ttbar.PUWeight * ttbar.triggerSF_down\n",
    "\n",
    "tt_pu = ttbar.PUWeight\n",
    "tt_pu_up = ttbar.PUWeight_up\n",
    "tt_pu_down = ttbar.PUWeight_down"
   ]
  },
  {
   "cell_type": "code",
   "execution_count": null,
   "metadata": {},
   "outputs": [],
   "source": [
    "ttbar.nevents"
   ]
  },
  {
   "cell_type": "code",
   "execution_count": null,
   "metadata": {},
   "outputs": [],
   "source": [
    "fig, ax = plt.subplots()\n",
    "\n",
    "n = Hist(ttbar.X.m, bins=np.linspace(375,1500,25), ax=ax, weights=tt_pu, label='nominal', color='k')\n",
    "n_pu_up = Hist(ttbar.X.m, bins=np.linspace(375,1500,25), weights=tt_pu_up, ax=ax, label='pu_up', color='b')\n",
    "n_pu_down = Hist(ttbar.X.m, bins=np.linspace(375,1500,25), weights=tt_pu_down, ax=ax, label='pu_down', color='r')"
   ]
  },
  {
   "cell_type": "code",
   "execution_count": null,
   "metadata": {},
   "outputs": [],
   "source": [
    "import uproot\n",
    "f = uproot.open(\"combine/feynnet/20230731_7d266883bbfb88fe4e226783a7d1c9db_ranger_lr0.0047_batch2000_withbkg/MX_850_MY_350.root\")\n",
    "f.keys()"
   ]
  },
  {
   "cell_type": "code",
   "execution_count": null,
   "metadata": {},
   "outputs": [],
   "source": [
    "n, bins = f['signal'].to_numpy()\n",
    "n_trig_up = f['signal_TriggerUp'].to_numpy()[0]\n",
    "n_trig_down = f['signal_TriggerDown'].to_numpy()[0]\n",
    "n_pu_up = f['signal_PileupUp'].to_numpy()[0]\n",
    "n_pu_down = f['signal_PileupDown'].to_numpy()[0]\n",
    "n_hf_up = f['signal_BTagHFUp'].to_numpy()[0]\n",
    "n_hf_down = f['signal_BTagHFDown'].to_numpy()[0]\n",
    "n_hfstats1_up = f['signal_BTagHFStats1Up'].to_numpy()[0]\n",
    "n_hfstats1_down = f['signal_BTagHFStats1Down'].to_numpy()[0]\n",
    "n_hfstats2_up = f['signal_BTagHFStats2Up'].to_numpy()[0]\n",
    "n_hfstats2_down = f['signal_BTagHFStats2Down'].to_numpy()[0]\n",
    "n_lf_up = f['signal_BTagLFUp'].to_numpy()[0]\n",
    "n_lf_down = f['signal_BTagLFDown'].to_numpy()[0]\n",
    "n_lfstats1_up = f['signal_BTagLFStats1Up'].to_numpy()[0]\n",
    "n_lfstats1_down = f['signal_BTagLFStats1Down'].to_numpy()[0]\n",
    "n_lfstats2_up = f['signal_BTagLFStats2Up'].to_numpy()[0]\n",
    "n_lfstats2_down = f['signal_BTagLFStats2Down'].to_numpy()[0]\n",
    "x = (bins[1:] + bins[:-1])/2"
   ]
  },
  {
   "cell_type": "code",
   "execution_count": null,
   "metadata": {},
   "outputs": [],
   "source": [
    "fig, ax = plt.subplots()\n",
    "\n",
    "n = Hist(x, bins=bins, weights=n, ax=ax, label='nominal', color='k')\n",
    "n = Hist(x, bins=bins, weights=n_trig_up, ax=ax, label=\"trigger up\", color='C0')\n",
    "n = Hist(x, bins=bins, weights=n_trig_down, ax=ax, label=\"trigger down\", color='C1')"
   ]
  },
  {
   "cell_type": "code",
   "execution_count": null,
   "metadata": {},
   "outputs": [],
   "source": [
    "fig, axs = plt.subplots(ncols=2, figsize=(20,10))\n",
    "\n",
    "n = Hist(x, bins=bins, weights=n, ax=ax, label='nominal', color='k')\n",
    "n = Hist(x, bins=bins, weights=n_pu_up, ax=ax, label=\"pileup up\", color='C0')\n",
    "n = Hist(x, bins=bins, weights=n_pu_down, ax=ax, label=\"pileup down\", color='C1')\n",
    "\n"
   ]
  },
  {
   "cell_type": "code",
   "execution_count": null,
   "metadata": {},
   "outputs": [],
   "source": [
    "fig, ax = plt.subplots()\n",
    "\n",
    "n = Hist(x, bins=bins, weights=n, ax=ax, label='nominal', color='k')\n",
    "n = Hist(x, bins=bins, weights=n_hf_up, ax=ax, label=\"btag hf up\", color='C0')\n",
    "n = Hist(x, bins=bins, weights=n_hf_down, ax=ax, label=\"btag hf down\", color='C1')"
   ]
  },
  {
   "cell_type": "code",
   "execution_count": null,
   "metadata": {},
   "outputs": [],
   "source": [
    "fig, ax = plt.subplots()\n",
    "\n",
    "n = Hist(x, bins=bins, weights=n, ax=ax, label='nominal', color='k')\n",
    "n = Hist(x, bins=bins, weights=n_hfstats1_up, ax=ax, label=\"btag hfstats1 up\", color='C0')\n",
    "n = Hist(x, bins=bins, weights=n_hfstats1_down, ax=ax, label=\"btag hfstats1 down\", color='C1')"
   ]
  },
  {
   "cell_type": "code",
   "execution_count": null,
   "metadata": {},
   "outputs": [],
   "source": [
    "fig, ax = plt.subplots()\n",
    "\n",
    "n = Hist(x, bins=bins, weights=n, ax=ax, label='nominal', color='k')\n",
    "n = Hist(x, bins=bins, weights=n_hfstats2_up, ax=ax, label=\"btag hfstats2 up\", color='C0')\n",
    "n = Hist(x, bins=bins, weights=n_hfstats2_down, ax=ax, label=\"btag hfstats2 down\", color='C1')"
   ]
  },
  {
   "cell_type": "code",
   "execution_count": null,
   "metadata": {},
   "outputs": [],
   "source": []
  },
  {
   "cell_type": "code",
   "execution_count": null,
   "metadata": {},
   "outputs": [],
   "source": []
  },
  {
   "cell_type": "code",
   "execution_count": null,
   "metadata": {},
   "outputs": [],
   "source": []
  },
  {
   "cell_type": "code",
   "execution_count": null,
   "metadata": {},
   "outputs": [],
   "source": []
  },
  {
   "cell_type": "code",
   "execution_count": null,
   "metadata": {},
   "outputs": [],
   "source": []
  }
 ],
 "metadata": {
  "kernelspec": {
   "display_name": "sixb",
   "language": "python",
   "name": "python3"
  },
  "language_info": {
   "codemirror_mode": {
    "name": "ipython",
    "version": 3
   },
   "file_extension": ".py",
   "mimetype": "text/x-python",
   "name": "python",
   "nbconvert_exporter": "python",
   "pygments_lexer": "ipython3",
   "version": "3.9.18"
  }
 },
 "nbformat": 4,
 "nbformat_minor": 2
}
