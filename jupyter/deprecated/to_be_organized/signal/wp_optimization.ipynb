{
 "cells": [
  {
   "cell_type": "code",
   "execution_count": 1,
   "id": "e56b0bbf-a77c-4fcc-b793-a13486b97fb8",
   "metadata": {},
   "outputs": [],
   "source": [
    "%load_ext autoreload\n",
    "%autoreload 2\n",
    "\n",
    "import os\n",
    "import sys\n",
    "import git\n",
    "\n",
    "import uproot as ut\n",
    "import awkward as ak\n",
    "import numpy as np\n",
    "import math\n",
    "import vector\n",
    "import sympy as sp\n",
    "\n",
    "import re\n",
    "from tqdm import tqdm\n",
    "import timeit\n",
    "\n",
    "sys.path.append( git.Repo('.', search_parent_directories=True).working_tree_dir )\n",
    "from utils import *"
   ]
  },
  {
   "cell_type": "code",
   "execution_count": 2,
   "id": "e31c0203-9695-49b1-b929-f4639fc7ca4f",
   "metadata": {},
   "outputs": [
    {
     "name": "stdout",
     "output_type": "stream",
     "text": [
      "--- all preselection / pt ---\n",
      "Event Efficiency:   0.74\n",
      "Selected Purity(6): 0.29\n",
      "Passed Jet S/T:     0.69\n",
      "Passed Jet MR:      0.40\n",
      "Passed Jet Eff:     0.95\n",
      "--- all baseline / pt ---\n",
      "Event Efficiency:   0.29\n",
      "Selected Purity(6): 1.00\n",
      "Passed Jet S/T:     0.79\n",
      "Passed Jet MR:      0.33\n",
      "Passed Jet Eff:     1.00\n"
     ]
    }
   ],
   "source": [
    "filename = \"NanoAOD/NMSSM_XYH_YToHH_6b_MX_700_MY_400_accstudies_500k_Jul2021.root\"\n",
    "tree = Tree(filename)\n",
    "preselection = Selection(tree,cuts={\"njetcut\":6},tag=\"preselection\")\n",
    "sixb_in_preselection = preselection.nsixb_selected == 6\n",
    "print(preselection)\n",
    "baseline = Selection(tree,mask=sixb_in_preselection,include=preselection,tag=\"baseline\")\n",
    "print(baseline)"
   ]
  },
  {
   "cell_type": "code",
   "execution_count": 3,
   "id": "52cf7aa5-aca0-431b-a62a-8562f4c72334",
   "metadata": {},
   "outputs": [],
   "source": [
    "ptinfo = dict(cutkey=\"ptcut\",cutlist=range(20,120,20),tag=\"jet{cut}pt\",cutlabels=range(20,120,20))\n",
    "btaginfo = dict(cutkey=\"btagcut\",cutlist=jet_btagWP,tag=\"{cut} btag\",cutlabels=wplabels)\n",
    "\n",
    "def multistep_signal_selection(previous=None,include=baseline):\n",
    "    remaining = Selection(tree,previous=previous,include=include,tag=\"remaining\")\n",
    "    jets_ordered_study(remaining,njets=1,subset=\"passed\")\n",
    "    ptselection = step_signal_selection(remaining,**ptinfo)\n",
    "    signaljet = step_signal_selection(ptselection,njets=1,**btaginfo)\n",
    "    return signaljet"
   ]
  },
  {
   "cell_type": "code",
   "execution_count": 4,
   "id": "6a725547-880c-4acf-9160-946383e5699b",
   "metadata": {},
   "outputs": [],
   "source": [
    "def step_signal_selection(selection,cutkey=None,cutlist=None,tag=None,cutlabels=None,njets=-1,optimize=\"jet_sovert\"):\n",
    "    print(f\"--- starting {cutkey} optimization ---\")\n",
    "    \n",
    "    if cutlabels is None: cutlabels = list(cutlist)\n",
    "    if selection.tag and selection.tag != \"remaining\": tag = f\"{tag} {selection.tag}\"\n",
    "    \n",
    "    cut_selections = [ \n",
    "        selection.chosen_jets(cuts={\"njetcut\":1,cutkey:cut},njets=njets,tag=tag.format(cut=cutlabels[i]))\n",
    "        for i,cut in enumerate(cutlist)\n",
    "    ]\n",
    "    cut_scores = [ cut_selection.score() for cut_selection in cut_selections ]\n",
    "    compare_scores_study(cut_scores,cutlabels,cutkey,values=[\"efficiency\",optimize])\n",
    "    \n",
    "    imax = np.argmax([ getattr(score,optimize) for score in cut_scores ])\n",
    "    cut_selection = cut_selections[imax]\n",
    "    print(f\"--- optimized {cutkey} selection ---\")\n",
    "    jets_ordered_study(cut_selection,njets=1,subset=\"passed\")\n",
    "    return cut_selection"
   ]
  },
  {
   "cell_type": "code",
   "execution_count": 5,
   "id": "d2f85f53-c55b-4284-8fda-6c5d2fda5c96",
   "metadata": {},
   "outputs": [],
   "source": [
    "def plot_2d_wp_scores(scores,score,xinfo=None,yinfo=None,vmin=None,vmax=None,clim=None,figax=None):\n",
    "    if figax is None: figax = plt.subplots()\n",
    "    fig,ax = figax\n",
    "    alpha = np.vectorize(lambda a:1)(scores)\n",
    "    if vmin: alpha = alpha * np.where(scores > vmin,1,0)\n",
    "    if vmax: alpha = alpha * np.where(scores < vmax,1,0)\n",
    "    \n",
    "    im = ax.imshow(scores*alpha,origin='lower',clim=clim)\n",
    "    ax.set_title(score)\n",
    "    if xinfo:\n",
    "        ax.set_xlabel(xinfo['cutkey'])\n",
    "        ax.set_xticks(range(len(xinfo['cutlabels'])))\n",
    "        ax.set_xticklabels(xinfo['cutlabels'])\n",
    "        \n",
    "    if yinfo:\n",
    "        ax.set_ylabel(yinfo['cutkey'])\n",
    "        ax.set_yticks(range(len(yinfo['cutlabels'])))\n",
    "        ax.set_yticklabels(yinfo['cutlabels'])\n",
    "    labels = np.vectorize(lambda a:f\"{a:0.2f}\")(scores)\n",
    "    for i,ylabels in enumerate(labels):\n",
    "        for j,xlabel in enumerate(ylabels):\n",
    "            ax.text(j,i, xlabel,ha='center',va='center')\n",
    "        \n",
    "    return im"
   ]
  },
  {
   "cell_type": "code",
   "execution_count": 6,
   "id": "44dddb37-bd75-476d-9776-2d8b2dafc7e4",
   "metadata": {},
   "outputs": [],
   "source": [
    "def signal_2d_wp(remaining):\n",
    "    selection_array = np.array(())\n",
    "    \n",
    "    schemes = []\n",
    "    for i,ptcut in enumerate(ptinfo[\"cutlist\"]):\n",
    "        for j,btagcut in enumerate(btaginfo[\"cutlist\"]):\n",
    "            schemes.append( (i,ptcut,j,btagcut) )\n",
    "            \n",
    "    for i,ptcut,j,btagcut in tqdm(schemes):\n",
    "        selection = remaining.chosen_jets(cuts=dict(njetcut=1,ptcut=ptcut,btagcut=btagcut),njets=1,tag=f\"{btaginfo['cutlabels'][j]} btag jet{ptcut}pt\")\n",
    "        selection_array = np.append(selection_array,selection)\n",
    "    selection_array = selection_array.reshape((len(ptinfo[\"cutlist\"]),len(btaginfo[\"cutlist\"])))\n",
    "    return selection_array"
   ]
  },
  {
   "cell_type": "code",
   "execution_count": 7,
   "id": "93220667-53b2-4d1d-b45e-4de6294b6763",
   "metadata": {},
   "outputs": [],
   "source": [
    "def wp_2d_scores(wp_selections,saveas=None):\n",
    "    wp_scores = np.vectorize(lambda a:a.score())(wp_selections)\n",
    "    fig,axs = plt.subplots(nrows=1,ncols=5,figsize=(16,5),sharey=True,constrained_layout=True)\n",
    "\n",
    "    efficiency = np.vectorize(lambda a:a.efficiency)(wp_scores)\n",
    "    purity =     np.vectorize(lambda a:a.purity)(wp_scores)\n",
    "    jet_sovert = np.vectorize(lambda a:a.jet_sovert)(wp_scores)\n",
    "    jet_misstr = np.vectorize(lambda a:1-a.jet_misstr)(wp_scores)\n",
    "    avg = np.mean([efficiency,purity,jet_sovert,jet_misstr],axis=0)\n",
    "\n",
    "    im = plot_2d_wp_scores(efficiency,\"efficiency\",xinfo=btaginfo,yinfo=ptinfo,figax=(fig,axs[0]))\n",
    "    im = plot_2d_wp_scores(purity,\"purity\",xinfo=btaginfo,clim=im.properties()['clim'],figax=(fig,axs[1]))\n",
    "    im = plot_2d_wp_scores(jet_sovert,\"jet_sovert\",xinfo=btaginfo,clim=im.properties()['clim'],figax=(fig,axs[2]))\n",
    "    im = plot_2d_wp_scores(jet_misstr,\"1-jet_misstr\",xinfo=btaginfo,clim=im.properties()['clim'],figax=(fig,axs[3]))\n",
    "    im = plot_2d_wp_scores(avg,\"avg\",xinfo=btaginfo,clim=im.properties()['clim'],figax=(fig,axs[4]))\n",
    "\n",
    "    fig.colorbar(im,ax=axs.ravel().tolist())\n",
    "    \n",
    "    if saveas: save_fig(fig,\"wp_2d\",saveas)\n",
    "    plt.show()"
   ]
  },
  {
   "cell_type": "markdown",
   "id": "15218103-ac42-488b-8650-af59b69f34cb",
   "metadata": {},
   "source": [
    "# First Signal Jet"
   ]
  },
  {
   "cell_type": "code",
   "execution_count": 8,
   "id": "7fc03e55-9116-4ca4-bdea-bed3da28ca66",
   "metadata": {},
   "outputs": [],
   "source": [
    "first_remaining = Selection(tree,include=baseline,tag=\"remaining\")"
   ]
  },
  {
   "cell_type": "code",
   "execution_count": 9,
   "id": "6e035ac3-4766-4d7c-b57e-fd28eea648af",
   "metadata": {},
   "outputs": [],
   "source": [
    "# first_wp_array = signal_2d_wp(first_remaining)"
   ]
  },
  {
   "cell_type": "code",
   "execution_count": 10,
   "id": "79fc348f-a14d-4bbc-acf8-176c495798e7",
   "metadata": {},
   "outputs": [],
   "source": [
    "# wp_2d_scores(first_wp_array,saveas=\"first_wp\")"
   ]
  },
  {
   "cell_type": "code",
   "execution_count": 11,
   "id": "64774981-e38c-41a8-a192-4341729c2842",
   "metadata": {},
   "outputs": [],
   "source": [
    "# first_signaljet = first_wp_array[1,3]\n",
    "first_signaljet = first_remaining.chosen_jets(cuts=dict(njetcut=1,ptcut=60,btagcut=jet_btagWP[tightWP]),njets=1,tag=\"tight btag jet60pt\")"
   ]
  },
  {
   "cell_type": "markdown",
   "id": "ca345c7c-05eb-4cd9-b0c8-9fa1627d3709",
   "metadata": {},
   "source": [
    "# Second Signal Jet"
   ]
  },
  {
   "cell_type": "code",
   "execution_count": 12,
   "id": "0c379f06-670b-407e-94c2-8c98d2d9cd3c",
   "metadata": {},
   "outputs": [],
   "source": [
    "second_remaining = Selection(tree,previous=first_signaljet,include=baseline,tag=\"remaining\")"
   ]
  },
  {
   "cell_type": "code",
   "execution_count": 13,
   "id": "56ad160e-c324-418d-b2d1-82b338fe00c2",
   "metadata": {},
   "outputs": [],
   "source": [
    "# second_wp_array = signal_2d_wp(second_remaining)"
   ]
  },
  {
   "cell_type": "code",
   "execution_count": 14,
   "id": "8c12f2d5-7f20-4ed4-b1b5-8a42a8bfda84",
   "metadata": {},
   "outputs": [],
   "source": [
    "# wp_2d_scores(second_wp_array,saveas=\"second_wp\")"
   ]
  },
  {
   "cell_type": "code",
   "execution_count": 15,
   "id": "0aa21854-a106-4222-bdc7-ebc187723640",
   "metadata": {},
   "outputs": [
    {
     "name": "stdout",
     "output_type": "stream",
     "text": [
      "--- 1 tight btag jet60pt / pt | 1 tight btag jet40pt / pt ---\n",
      "Event Efficiency:   0.96\n",
      "Selected Purity(1): 0.99\n",
      "Passed Jet S/T:     0.99\n",
      "Passed Jet MR:      0.01\n",
      "Passed Jet Eff:     0.43\n"
     ]
    }
   ],
   "source": [
    "# second_signaljet = second_wp_array[1,3]\n",
    "second_signaljet = second_remaining.chosen_jets(cuts=dict(njetcut=1,ptcut=40,btagcut=jet_btagWP[tightWP]),njets=1,tag=\"tight btag jet40pt\")\n",
    "print(second_signaljet)"
   ]
  },
  {
   "cell_type": "markdown",
   "id": "0ac4fc6f-5b90-4ed2-842c-2dc56cb560ef",
   "metadata": {},
   "source": [
    "# Third Signal Jet"
   ]
  },
  {
   "cell_type": "code",
   "execution_count": 16,
   "id": "a01f096d-4211-421a-b380-8646143badc5",
   "metadata": {},
   "outputs": [],
   "source": [
    "third_remaining = Selection(tree,previous=second_signaljet,include=baseline,tag=\"remaining\")"
   ]
  },
  {
   "cell_type": "code",
   "execution_count": 17,
   "id": "2d515ffa-5fd8-4de4-97ea-34ad60f2fc0e",
   "metadata": {},
   "outputs": [],
   "source": [
    "# third_wp_array = signal_2d_wp(third_remaining)"
   ]
  },
  {
   "cell_type": "code",
   "execution_count": 18,
   "id": "f95d35fd-8fa2-4a44-a777-353470d50030",
   "metadata": {},
   "outputs": [],
   "source": [
    "# wp_2d_scores(third_wp_array,saveas=\"third_wp\")"
   ]
  },
  {
   "cell_type": "code",
   "execution_count": 19,
   "id": "dbe4823c-4a8b-4073-a5a7-d5f5832281fc",
   "metadata": {},
   "outputs": [
    {
     "name": "stdout",
     "output_type": "stream",
     "text": [
      "--- 1 tight btag jet60pt / pt | 1 tight btag jet40pt / pt | 1 medium btag jet40pt / pt ---\n",
      "Event Efficiency:   0.97\n",
      "Selected Purity(1): 0.98\n",
      "Passed Jet S/T:     0.98\n",
      "Passed Jet MR:      0.01\n",
      "Passed Jet Eff:     0.41\n"
     ]
    }
   ],
   "source": [
    "# third_signaljet = third_wp_array[1,2]\n",
    "third_signaljet = third_remaining.chosen_jets(cuts=dict(njetcut=1,ptcut=40,btagcut=jet_btagWP[mediumWP]),njets=1,tag=\"medium btag jet40pt\")\n",
    "print(third_signaljet)"
   ]
  },
  {
   "cell_type": "markdown",
   "id": "a665f49a-f815-4733-89c1-70526165f6a5",
   "metadata": {},
   "source": [
    "# Fourth Signal Jet"
   ]
  },
  {
   "cell_type": "code",
   "execution_count": 20,
   "id": "ec5021d8-6b7a-4c15-802e-57558dd57551",
   "metadata": {},
   "outputs": [],
   "source": [
    "fourth_remaining = Selection(tree,previous=third_signaljet,include=baseline,tag=\"remaining\")"
   ]
  },
  {
   "cell_type": "code",
   "execution_count": 21,
   "id": "05f316ff-f365-4613-9bb7-b1f547204290",
   "metadata": {},
   "outputs": [],
   "source": [
    "# fourth_wp_array = signal_2d_wp(fourth_remaining)"
   ]
  },
  {
   "cell_type": "code",
   "execution_count": 22,
   "id": "5622929c-a3ee-4f81-ac4f-d301056cc82e",
   "metadata": {},
   "outputs": [],
   "source": [
    "# wp_2d_scores(fourth_wp_array,saveas=\"fourth_wp\")"
   ]
  },
  {
   "cell_type": "code",
   "execution_count": 23,
   "id": "a8e799dc-7ec7-4b5b-887f-cc06613b662e",
   "metadata": {},
   "outputs": [
    {
     "name": "stdout",
     "output_type": "stream",
     "text": [
      "--- 1 tight btag jet60pt / pt | 1 tight btag jet40pt / pt | 1 medium btag jet40pt / pt | 1 medium btag jet20pt / pt ---\n",
      "Event Efficiency:   0.84\n",
      "Selected Purity(1): 0.98\n",
      "Passed Jet S/T:     0.97\n",
      "Passed Jet MR:      0.01\n",
      "Passed Jet Eff:     0.29\n"
     ]
    }
   ],
   "source": [
    "# fourth_signaljet = fourth_wp_array[1,2]\n",
    "fourth_signaljet = fourth_remaining.chosen_jets(cuts=dict(njetcut=1,ptcut=40,btagcut=jet_btagWP[mediumWP]),njets=1,tag=\"medium btag jet20pt\")\n",
    "print(fourth_signaljet)"
   ]
  },
  {
   "cell_type": "markdown",
   "id": "89084e58-aa36-4d36-a942-27e9caef3bcf",
   "metadata": {},
   "source": [
    "# Fifth Signal Jet Selected"
   ]
  },
  {
   "cell_type": "code",
   "execution_count": 24,
   "id": "a155c164-7071-4003-ac0a-ab817498f1bf",
   "metadata": {},
   "outputs": [],
   "source": [
    "fifth_remaining = Selection(tree,previous=fourth_signaljet,include=baseline,tag=\"remaining\")"
   ]
  },
  {
   "cell_type": "code",
   "execution_count": 25,
   "id": "ee94582e-622b-41e4-8fa8-2d7115bb9222",
   "metadata": {},
   "outputs": [],
   "source": [
    "# fifth_wp_array = signal_2d_wp(fifth_remaining)"
   ]
  },
  {
   "cell_type": "code",
   "execution_count": 26,
   "id": "722fcfae-3cf5-4c1b-b1e9-10c9d3e296e1",
   "metadata": {},
   "outputs": [],
   "source": [
    "# wp_2d_scores(fifth_wp_array,saveas=\"fifth_wp\")"
   ]
  },
  {
   "cell_type": "code",
   "execution_count": 36,
   "id": "f1bfb56a-0097-427c-bf54-6ac15f97d465",
   "metadata": {},
   "outputs": [
    {
     "name": "stdout",
     "output_type": "stream",
     "text": [
      "--- 1 tight btag jet60pt / pt | 1 tight btag jet40pt / pt | 1 medium btag jet40pt / pt | 1 medium btag jet20pt / pt | 1 loose btag jet20pt / pt ---\n",
      "Event Efficiency:   0.97\n",
      "Selected Purity(1): 0.90\n",
      "Passed Jet S/T:     0.86\n",
      "Passed Jet MR:      0.06\n",
      "Passed Jet Eff:     0.28\n"
     ]
    }
   ],
   "source": [
    "# fifth_signaljet = fifth_wp_array[0,1]\n",
    "fifth_signaljet = fifth_remaining.chosen_jets(cuts=dict(njetcut=1,ptcut=20,btagcut=jet_btagWP[looseWP]),njets=1,tag=\"loose btag jet20pt\")\n",
    "print(fifth_signaljet)"
   ]
  },
  {
   "cell_type": "markdown",
   "id": "c83ecbad-28d3-4ae5-a61f-32b3513f66b9",
   "metadata": {},
   "source": [
    "# Sixth Signal Jet"
   ]
  },
  {
   "cell_type": "code",
   "execution_count": 40,
   "id": "289282f6-5ce0-44c8-aa43-720cce5ad30e",
   "metadata": {},
   "outputs": [],
   "source": [
    "sixth_remaining = Selection(tree,previous=fifth_signaljet,include=baseline,tag=\"remaining\")"
   ]
  },
  {
   "cell_type": "code",
   "execution_count": 41,
   "id": "d681cd68-729c-4bbf-ae08-ec5e0d090f88",
   "metadata": {},
   "outputs": [],
   "source": [
    "# sixth_wp_array = signal_2d_wp(sixth_remaining)"
   ]
  },
  {
   "cell_type": "code",
   "execution_count": 42,
   "id": "5fd7ee2b-cf1e-4e84-a840-3dcbcc8d4dd2",
   "metadata": {},
   "outputs": [],
   "source": [
    "# wp_2d_scores(sixth_wp_array,saveas=\"sixth_wp\")"
   ]
  },
  {
   "cell_type": "code",
   "execution_count": 43,
   "id": "3c4f396f-fd2b-4b3b-9cd2-e35f93af9ca1",
   "metadata": {},
   "outputs": [
    {
     "name": "stdout",
     "output_type": "stream",
     "text": [
      "--- 1 tight btag jet60pt / pt | 1 tight btag jet40pt / pt | 1 medium btag jet40pt / pt | 1 medium btag jet20pt / pt | 1 loose btag jet20pt / pt | 1 loose btag jet20pt / pt ---\n",
      "Event Efficiency:   0.77\n",
      "Selected Purity(1): 0.89\n",
      "Passed Jet S/T:     0.82\n",
      "Passed Jet MR:      0.05\n",
      "Passed Jet Eff:     0.17\n"
     ]
    }
   ],
   "source": [
    "# sixth_signaljet = sixth_wp_array[0,1]\n",
    "sixth_signaljet = sixth_remaining.chosen_jets(cuts=dict(njetcut=1,ptcut=20,btagcut=jet_btagWP[looseWP]),njets=1,tag=\"loose btag jet20pt\")\n",
    "print(sixth_signaljet)"
   ]
  },
  {
   "cell_type": "markdown",
   "id": "f794c497-d046-40e1-acab-1b94eca3b45c",
   "metadata": {},
   "source": [
    "# Final Signal Selection"
   ]
  },
  {
   "cell_type": "code",
   "execution_count": 44,
   "id": "de2ea8ff-11ca-4ad4-955a-8fec448bbcf5",
   "metadata": {},
   "outputs": [],
   "source": [
    "final_selection = sixth_signaljet.merge()"
   ]
  },
  {
   "cell_type": "code",
   "execution_count": 45,
   "id": "70f7b3f2-1ad5-4278-b6ba-d0e1a9fe6b48",
   "metadata": {},
   "outputs": [
    {
     "name": "stdout",
     "output_type": "stream",
     "text": [
      "--- 1 tight btag jet60pt / pt | 1 tight btag jet40pt / pt | 1 medium btag jet40pt / pt | 1 medium btag jet20pt / pt | 1 loose btag jet20pt / pt | 1 loose btag jet20pt / pt merged ---\n",
      "Event Efficiency:   0.58\n",
      "Selected Purity(6): 0.73\n",
      "Passed Jet S/T:     4.63\n",
      "Passed Jet MR:      0.05\n",
      "Passed Jet Eff:     0.54\n"
     ]
    },
    {
     "data": {
      "image/png": "[encoded data removed]",
      "text/plain": [
       "<Figure size 1152x360 with 4 Axes>"
      ]
     },
     "metadata": {
      "needs_background": "light"
     },
     "output_type": "display_data"
    }
   ],
   "source": [
    "jets_study(final_selection)"
   ]
  },
  {
   "cell_type": "code",
   "execution_count": 34,
   "id": "c617f148-128c-4436-a3d4-c0753baa6cce",
   "metadata": {},
   "outputs": [
    {
     "name": "stdout",
     "output_type": "stream",
     "text": [
      "--- 1 tight btag jet60pt / pt | 1 tight btag jet40pt / pt | 1 medium btag jet40pt / pt | 1 medium btag jet20pt / pt | 1 medium btag jet20pt / pt | 1 loose btag jet20pt / pt merged ---\n",
      "Event Efficiency:   0.52\n",
      "Selected Purity(6): 0.74\n",
      "Passed Jet S/T:     4.62\n",
      "Passed Jet MR:      0.06\n",
      "Passed Jet Eff:     0.54\n"
     ]
    },
    {
     "data": {
      "image/png": "[encoded data removed]",
      "text/plain": [
       "<Figure size 576x360 with 1 Axes>"
      ]
     },
     "metadata": {
      "needs_background": "light"
     },
     "output_type": "display_data"
    }
   ],
   "source": [
    "selection_study(final_selection,under6=1,saveas=\"final_selection\")"
   ]
  },
  {
   "cell_type": "code",
   "execution_count": 35,
   "id": "bb1547fb-f0ff-4997-bee4-7f1818ec849f",
   "metadata": {},
   "outputs": [],
   "source": [
    "# x_reco_study(final_selection)"
   ]
  },
  {
   "cell_type": "code",
   "execution_count": null,
   "id": "b0b7904a-38eb-4996-af95-a25a7f8b91a4",
   "metadata": {},
   "outputs": [],
   "source": []
  }
 ],
 "metadata": {
  "kernelspec": {
   "display_name": "Python 3",
   "language": "python",
   "name": "python3"
  },
  "language_info": {
   "codemirror_mode": {
    "name": "ipython",
    "version": 3
   },
   "file_extension": ".py",
   "mimetype": "text/x-python",
   "name": "python",
   "nbconvert_exporter": "python",
   "pygments_lexer": "ipython3",
   "version": "3.8.10"
  }
 },
 "nbformat": 4,
 "nbformat_minor": 5
}
