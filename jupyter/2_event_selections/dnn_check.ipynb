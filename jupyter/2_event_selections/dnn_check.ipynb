{
 "cells": [
  {
   "cell_type": "code",
   "execution_count": 8,
   "metadata": {},
   "outputs": [],
   "source": [
    "from utils.analysis import Signal\n",
    "from utils.plotter import Hist, Hist2d\n",
    "from utils.files import *\n",
    "from utils.varUtils import *\n",
    "from utils.useCMSstyle import *\n",
    "plt.style.use(CMS)"
   ]
  },
  {
   "cell_type": "code",
   "execution_count": 2,
   "metadata": {},
   "outputs": [
    {
     "name": "stdout",
     "output_type": "stream",
     "text": [
      "/eos/uscms/store/user/srosenzw/sixb/ntuples/Summer2018UL/dnn/NMSSM/NMSSM_XYH_YToHH_6b_MX_700_MY_400/ntuple.root\n"
     ]
    }
   ],
   "source": [
    "signal = Signal(get_NMSSM(700,400,jets='dnn'))"
   ]
  },
  {
   "cell_type": "code",
   "execution_count": 3,
   "metadata": {},
   "outputs": [
    {
     "data": {
      "text/plain": [
       "<Array [1, 0.0152, 1, ... 0.129, 0.0808] type='55951 * float32'>"
      ]
     },
     "execution_count": 3,
     "metadata": {},
     "output_type": "execute_result"
    }
   ],
   "source": [
    "signal.get('b_6j_score')"
   ]
  },
  {
   "cell_type": "code",
   "execution_count": 5,
   "metadata": {},
   "outputs": [],
   "source": [
    "from utils.analysis.tree import Tree"
   ]
  },
  {
   "cell_type": "code",
   "execution_count": 6,
   "metadata": {},
   "outputs": [],
   "source": [
    "qcd = Tree(get_qcd_list('dnn'))"
   ]
  },
  {
   "cell_type": "code",
   "execution_count": 32,
   "metadata": {},
   "outputs": [
    {
     "data": {
      "text/plain": [
       "array([1.86406918e+03, 2.60255677e+02, 8.86679273e+01, 9.60683031e+00,\n",
       "       9.60484013e+00, 2.09229090e+00, 1.55271391e-01, 9.73436346e-02,\n",
       "       3.93201435e+04, 6.21913888e+03, 1.62183756e+03, 3.49642828e+02,\n",
       "       1.10774858e+02, 6.26295276e+01, 2.28302060e+01, 8.55304142e+00])"
      ]
     },
     "execution_count": 32,
     "metadata": {},
     "output_type": "execute_result"
    }
   ],
   "source": [
    "qcd.scale"
   ]
  },
  {
   "cell_type": "code",
   "execution_count": 31,
   "metadata": {},
   "outputs": [
    {
     "data": {
      "text/plain": [
       "<Array [6.21e-05, 0.0172, ... 0.000894, 0.0741] type='9 * float32'>"
      ]
     },
     "execution_count": 31,
     "metadata": {},
     "output_type": "execute_result"
    }
   ],
   "source": [
    "qcd.tree[0]['b_6j_score'].array()"
   ]
  },
  {
   "cell_type": "code",
   "execution_count": 10,
   "metadata": {},
   "outputs": [
    {
     "name": "stdout",
     "output_type": "stream",
     "text": [
      "(25,) [0.00000000e+00 0.00000000e+00 0.00000000e+00 0.00000000e+00\n",
      " 0.00000000e+00 0.00000000e+00 1.98557728e+07 1.22390259e+07\n",
      " 5.73175817e+06 2.14728560e+06 7.27425931e+05 2.09294329e+05\n",
      " 5.46197523e+04 1.86242235e+04 4.77464209e+03 1.59335461e+03\n",
      " 2.04842308e+02 1.73638696e+02 0.00000000e+00 0.00000000e+00\n",
      " 0.00000000e+00 0.00000000e+00 0.00000000e+00 0.00000000e+00\n",
      " 0.00000000e+00]\n"
     ]
    },
    {
     "data": {
      "image/png": "[encoded data removed]",
      "text/plain": [
       "<Figure size 576x576 with 1 Axes>"
      ]
     },
     "metadata": {
      "needs_background": "light"
     },
     "output_type": "display_data"
    }
   ],
   "source": [
    "fig, ax = plt.subplots()\n",
    "\n",
    "n_arr = []\n",
    "for tree, scale in zip(qcd.tree, qcd.scale):\n",
    "    n, e = np.histogram(tree['n_jet'].array(library='np'), bins=np.arange(26))\n",
    "    n_arr.append(n*scale)\n",
    "\n",
    "n_arr = np.row_stack(n_arr)\n",
    "n_arr = n_arr.sum(axis=0)\n",
    "print(n_arr.shape, n_arr)\n",
    "\n",
    "_ = Hist(x_bins(np.arange(26)), weights=n_arr, bins=np.arange(26), ax=ax)\n",
    "_ = Hist(signal.n_jet, bins=np.arange(26), ax=ax)"
   ]
  },
  {
   "cell_type": "code",
   "execution_count": null,
   "metadata": {},
   "outputs": [],
   "source": []
  },
  {
   "cell_type": "code",
   "execution_count": 228,
   "metadata": {},
   "outputs": [],
   "source": [
    "upper = 1 + 1e-6"
   ]
  },
  {
   "cell_type": "code",
   "execution_count": 229,
   "metadata": {},
   "outputs": [
    {
     "data": {
      "text/plain": [
       "array([0.        , 0.02439027, 0.04878054, 0.0731708 , 0.09756107,\n",
       "       0.12195134, 0.14634161, 0.17073188, 0.19512215, 0.21951241,\n",
       "       0.24390268, 0.26829295, 0.29268322, 0.31707349, 0.34146376,\n",
       "       0.36585402, 0.39024429, 0.41463456, 0.43902483, 0.4634151 ,\n",
       "       0.48780537, 0.51219563, 0.5365859 , 0.56097617, 0.58536644,\n",
       "       0.60975671, 0.63414698, 0.65853724, 0.68292751, 0.70731778,\n",
       "       0.73170805, 0.75609832, 0.78048859, 0.80487885, 0.82926912,\n",
       "       0.85365939, 0.87804966, 0.90243993, 0.9268302 , 0.95122046,\n",
       "       0.97561073, 1.000001  ])"
      ]
     },
     "execution_count": 229,
     "metadata": {},
     "output_type": "execute_result"
    }
   ],
   "source": [
    "score_bins = np.linspace(0,upper,42)\n",
    "score_bins"
   ]
  },
  {
   "cell_type": "code",
   "execution_count": 230,
   "metadata": {},
   "outputs": [
    {
     "data": {
      "text/plain": [
       "((41,), (42,), (41,))"
      ]
     },
     "execution_count": 230,
     "metadata": {},
     "output_type": "execute_result"
    }
   ],
   "source": [
    "x_bins(score_bins).shape, score_bins.shape, n_arr.shape"
   ]
  },
  {
   "cell_type": "code",
   "execution_count": 231,
   "metadata": {},
   "outputs": [
    {
     "name": "stdout",
     "output_type": "stream",
     "text": [
      "(41,) [28853189.61330866  1903882.61223491  1032238.26528995   685777.6442169\n",
      "   511209.70148302   405983.54198803   353303.55230718   331830.32054629\n",
      "   272581.12127743   263698.64448779   229619.47303359   219230.47750104\n",
      "   213344.03521225   210600.60982077   159976.44743867   167790.31893959\n",
      "   159401.66506549   138377.79022308   158767.90591102   132429.4296133\n",
      "   152288.49418322   138757.43041525   139943.05326035   137412.6245405\n",
      "   126178.9020918    133555.60524237   128777.88811214   115895.51736398\n",
      "   143217.82685317   127517.34264575   139714.99804025   146709.75786633\n",
      "   154743.02310974   174829.00877713   161547.92780573   190677.04733786\n",
      "   227004.23383186   217365.75700225   294586.7981128    372592.36645033\n",
      "  1164004.38774303]\n"
     ]
    },
    {
     "data": {
      "image/png": "[encoded data removed]",
      "text/plain": [
       "<Figure size 576x576 with 1 Axes>"
      ]
     },
     "metadata": {
      "needs_background": "light"
     },
     "output_type": "display_data"
    }
   ],
   "source": [
    "fig, ax = plt.subplots()\n",
    "\n",
    "n_arr = []\n",
    "for tree, scale in zip(qcd.tree, qcd.scale):\n",
    "    n, e = np.histogram(tree['b_6j_score'].array(library='np'), bins=score_bins)\n",
    "    n_arr.append(n*scale)\n",
    "\n",
    "n_arr = np.row_stack(n_arr)\n",
    "n_arr = n_arr.sum(axis=0)\n",
    "print(n_arr.shape, n_arr)\n",
    "\n",
    "_ = Hist(x_bins(score_bins), weights=n_arr, bins=score_bins, ax=ax, density=False)"
   ]
  },
  {
   "cell_type": "code",
   "execution_count": 232,
   "metadata": {},
   "outputs": [],
   "source": [
    "signal_ratio_pass = []\n",
    "for s in score_bins:\n",
    "    signal_ratio_pass.append((signal.evt_score > s).to_numpy().sum() / len(signal.evt_score))\n",
    "\n",
    "signal_ratio_pass = np.asarray(signal_ratio_pass)\n",
    "bkg_ratio_fail = np.append(np.array((0)), n_arr[::-1].cumsum()/n_arr.sum())"
   ]
  },
  {
   "cell_type": "code",
   "execution_count": 234,
   "metadata": {},
   "outputs": [
    {
     "data": {
      "text/plain": [
       "(array([1.        , 0.75280156, 0.71787814, 0.69619846, 0.67907633,\n",
       "        0.6662258 , 0.65493021, 0.6446891 , 0.63585995, 0.62787082,\n",
       "        0.62082894, 0.6146807 , 0.60853247, 0.60191954, 0.59612876,\n",
       "        0.59073118, 0.58517274, 0.57952494, 0.57418098, 0.56885489,\n",
       "        0.56347518, 0.55805973, 0.55280513, 0.54738968, 0.54147379,\n",
       "        0.53579025, 0.52974924, 0.52402995, 0.51811406, 0.51216243,\n",
       "        0.50546013, 0.49886508, 0.49200193, 0.48451323, 0.47647048,\n",
       "        0.46710515, 0.45652446, 0.44415649, 0.42889314, 0.40835731,\n",
       "        0.37582885, 0.        ]),\n",
       " array([0.        , 0.02839689, 0.03748661, 0.04467331, 0.04997613,\n",
       "        0.0555141 , 0.06016583, 0.06410693, 0.06837203, 0.07214712,\n",
       "        0.07572624, 0.0791347 , 0.0822456 , 0.08573952, 0.08856689,\n",
       "        0.09170854, 0.09496675, 0.09804499, 0.10139729, 0.10481132,\n",
       "        0.10819643, 0.11191164, 0.11514237, 0.11901565, 0.1223915 ,\n",
       "        0.12628024, 0.13037363, 0.13427639, 0.13941418, 0.14461889,\n",
       "        0.1499672 , 0.15556897, 0.16200213, 0.16865198, 0.17674727,\n",
       "        0.18536641, 0.19527073, 0.20774213, 0.22447227, 0.24965462,\n",
       "        0.29610148, 1.        ]))"
      ]
     },
     "execution_count": 234,
     "metadata": {},
     "output_type": "execute_result"
    }
   ],
   "source": [
    "signal_ratio_pass, bkg_ratio_fail"
   ]
  },
  {
   "cell_type": "code",
   "execution_count": 246,
   "metadata": {},
   "outputs": [
    {
     "data": {
      "text/plain": [
       "[]"
      ]
     },
     "execution_count": 246,
     "metadata": {},
     "output_type": "execute_result"
    },
    {
     "data": {
      "image/png": "[encoded data removed]",
      "text/plain": [
       "<Figure size 576x576 with 2 Axes>"
      ]
     },
     "metadata": {
      "needs_background": "light"
     },
     "output_type": "display_data"
    }
   ],
   "source": [
    "fig, ax = plt.subplots()\n",
    "\n",
    "ax.plot([0,1], [0,0], color='gray', ls='--', alpha=0.5)\n",
    "ax.plot([0,0], [0,1], color='gray', ls='--', alpha=0.5)\n",
    "ax.plot([0,1], [1,1], color='gray', ls='--', alpha=0.5)\n",
    "ax.plot([1,1], [0,1], color='gray', ls='--', alpha=0.5)\n",
    "\n",
    "ax.plot(score_bins, signal_ratio_pass, label='Signal Acceptance', lw=2)\n",
    "ax.plot(score_bins, bkg_ratio_fail, label='Bkg Rejection', lw=2)\n",
    "\n",
    "ax_secondary = ax.twinx()\n",
    "\n",
    "ax.set_xlabel('Event Score Threshold')\n",
    "\n",
    "ax.set_ylabel('Acceptance', color='C0')\n",
    "ax_secondary.set_ylabel('Rejection', color='C1', rotation=270, va='bottom', ha='left', y=1)#, rotation_mode='anchor', ha='right')\n",
    "\n",
    "min_lim = -0.05\n",
    "max_lim = 1.05\n",
    "\n",
    "ax_secondary.set_xlim(min_lim, max_lim)\n",
    "ax_secondary.set_ylim(min_lim, max_lim)\n",
    "ax.set_xlim(min_lim, max_lim)\n",
    "ax.set_ylim(min_lim, max_lim)\n",
    "\n",
    "# ax.plot([score_bins[-2]]*2, [0,1])\n",
    "ax.legend()\n",
    "\n",
    "ax.plot()"
   ]
  },
  {
   "cell_type": "code",
   "execution_count": 257,
   "metadata": {},
   "outputs": [],
   "source": [
    "score_masks = []\n",
    "\n",
    "n_pass = []\n",
    "n_all = []\n",
    "for tree, scale in zip(qcd.tree, qcd.scale):\n",
    "    n_pass.append((tree['b_6j_score'].array() > score_bins[-2]).to_numpy().sum()*scale)\n",
    "    n_all.append((tree['b_6j_score'].array() > 0).to_numpy().sum()*scale)\n",
    "\n",
    "n_pass = np.asarray(n_pass)\n",
    "n_all = np.asarray(n_all)\n",
    "# score_bins[-2]"
   ]
  },
  {
   "cell_type": "code",
   "execution_count": 258,
   "metadata": {},
   "outputs": [
    {
     "data": {
      "text/plain": [
       "0.02839689386918209"
      ]
     },
     "execution_count": 258,
     "metadata": {},
     "output_type": "execute_result"
    }
   ],
   "source": [
    "n_pass.sum() / n_all.sum()"
   ]
  },
  {
   "cell_type": "code",
   "execution_count": 260,
   "metadata": {},
   "outputs": [
    {
     "data": {
      "text/plain": [
       "0.37582885024396345"
      ]
     },
     "execution_count": 260,
     "metadata": {},
     "output_type": "execute_result"
    }
   ],
   "source": [
    "(signal.evt_score > score_bins[-2]).to_numpy().sum() / len(signal.evt_score)"
   ]
  },
  {
   "cell_type": "code",
   "execution_count": 96,
   "metadata": {},
   "outputs": [
    {
     "data": {
      "image/png": "[encoded data removed]",
      "text/plain": [
       "<Figure size 576x576 with 1 Axes>"
      ]
     },
     "metadata": {
      "needs_background": "light"
     },
     "output_type": "display_data"
    }
   ],
   "source": [
    "fig, ax = plt.subplots()\n",
    "\n",
    "n_arr = []\n",
    "for tree, scale in zip(qcd.tree, qcd.scale):\n",
    "    n, e = np.histogram(tree['b_6j_score'].array(library='np'), bins=score_bins)\n",
    "    n_arr.append(n*scale)\n",
    "\n",
    "n_arr = np.row_stack(n_arr)\n",
    "n_arr = n_arr.sum(axis=0)\n",
    "\n",
    "_ = Hist(x_bins(score_bins), weights=n_arr, bins=score_bins, ax=ax)\n",
    "_ = Hist(signal.get('b_6j_score'), bins=score_bins, ax=ax)"
   ]
  },
  {
   "cell_type": "code",
   "execution_count": 97,
   "metadata": {},
   "outputs": [
    {
     "ename": "AttributeError",
     "evalue": "'Signal' object has no attribute 'b_2j_score'",
     "output_type": "error",
     "traceback": [
      "\u001b[0;31m---------------------------------------------------------------------------\u001b[0m",
      "\u001b[0;31mAttributeError\u001b[0m                            Traceback (most recent call last)",
      "\u001b[1;32m/uscms/home/srosenzw/nobackup/workarea/higgs/sixb_analysis/CMSSW_10_6_19_patch2/src/sixb/jupyter/2_event_selections/dnn_check.ipynb Cell 14\u001b[0m in \u001b[0;36m<cell line: 1>\u001b[0;34m()\u001b[0m\n\u001b[0;32m----> <a href='vscode-notebook-cell://ssh-remote%2Bsrosenzw@cmslpcgpu1.fnal.gov/uscms/home/srosenzw/nobackup/workarea/higgs/sixb_analysis/CMSSW_10_6_19_patch2/src/sixb/jupyter/2_event_selections/dnn_check.ipynb#X10sdnNjb2RlLXJlbW90ZQ%3D%3D?line=0'>1</a>\u001b[0m signal\u001b[39m.\u001b[39;49mget(\u001b[39m'\u001b[39;49m\u001b[39mb_2j_score\u001b[39;49m\u001b[39m'\u001b[39;49m)\n",
      "File \u001b[0;32m/uscms_data/d3/srosenzw/workarea/higgs/sixb_analysis/CMSSW_10_6_19_patch2/src/sixb/utils/analysis/signal.py:141\u001b[0m, in \u001b[0;36mSignal.get\u001b[0;34m(self, key, library)\u001b[0m\n\u001b[1;32m    139\u001b[0m    \u001b[39mreturn\u001b[39;00m \u001b[39mself\u001b[39m\u001b[39m.\u001b[39mtree[key]\u001b[39m.\u001b[39marray(library\u001b[39m=\u001b[39mlibrary)\n\u001b[1;32m    140\u001b[0m \u001b[39melse\u001b[39;00m:\n\u001b[0;32m--> 141\u001b[0m    arr \u001b[39m=\u001b[39m \u001b[39mgetattr\u001b[39;49m(\u001b[39mself\u001b[39;49m, key)\n\u001b[1;32m    142\u001b[0m    \u001b[39mif\u001b[39;00m library\u001b[39m==\u001b[39m\u001b[39m'\u001b[39m\u001b[39mnp\u001b[39m\u001b[39m'\u001b[39m \u001b[39mand\u001b[39;00m \u001b[39mnot\u001b[39;00m \u001b[39misinstance\u001b[39m(arr, np\u001b[39m.\u001b[39mndarray): arr \u001b[39m=\u001b[39m arr\u001b[39m.\u001b[39mto_numpy()\n\u001b[1;32m    143\u001b[0m    \u001b[39mreturn\u001b[39;00m arr\n",
      "\u001b[0;31mAttributeError\u001b[0m: 'Signal' object has no attribute 'b_2j_score'"
     ]
    }
   ],
   "source": [
    "signal.get('b_2j_score')"
   ]
  },
  {
   "cell_type": "code",
   "execution_count": 99,
   "metadata": {},
   "outputs": [
    {
     "data": {
      "text/plain": [
       "(<Array [6, 4, 5, 6, 6, 6, ... 6, 6, 6, 5, 5, 5] type='55951 * int32'>,\n",
       " <Array [6, 4, 4, 6, 5, 6, ... 6, 6, 4, 5, 5, 5] type='55951 * int32'>)"
      ]
     },
     "execution_count": 99,
     "metadata": {},
     "output_type": "execute_result"
    }
   ],
   "source": [
    "signal.nfound_presel, signal.nfound_select, signal.nfound"
   ]
  },
  {
   "cell_type": "code",
   "execution_count": 111,
   "metadata": {},
   "outputs": [
    {
     "data": {
      "text/plain": [
       "<Array [1, 0.0152, 1, ... 0.129, 0.0808] type='55951 * float32'>"
      ]
     },
     "execution_count": 111,
     "metadata": {},
     "output_type": "execute_result"
    }
   ],
   "source": [
    "signal.evt_score"
   ]
  },
  {
   "cell_type": "code",
   "execution_count": 115,
   "metadata": {},
   "outputs": [],
   "source": [
    "HX_found = (signal.HX_b1_genHflag == 0) | (signal.HX_b2_genHflag == 0)"
   ]
  },
  {
   "cell_type": "code",
   "execution_count": 109,
   "metadata": {},
   "outputs": [
    {
     "data": {
      "text/plain": [
       "array([   0.        ,    5.09457868,   83.33275127,  657.56454822,\n",
       "       2675.38160406, 4496.87543147, 2261.99293401])"
      ]
     },
     "execution_count": 109,
     "metadata": {},
     "output_type": "execute_result"
    },
    {
     "data": {
      "image/png": "[encoded data removed]",
      "text/plain": [
       "<Figure size 576x576 with 1 Axes>"
      ]
     },
     "metadata": {
      "needs_background": "light"
     },
     "output_type": "display_data"
    }
   ],
   "source": [
    "fig, ax = plt.subplots()\n",
    "\n",
    "# n, ex, ey, im = Hist2d(signal.nfound_presel, signal.nfound_select, bins=np.arange(8), ax=ax)\n",
    "\n",
    "signal.hist('nfound_presel', bins=np.arange(8), ax=ax)\n",
    "signal.hist('nfound_select', bins=np.arange(8), ax=ax)\n",
    "# signal.hist('nfound_paired', bins=np.arange(8), ax=ax)\n",
    "\n",
    "# ax.minorticks_off()\n",
    "\n",
    "# ax.set_xlabel('BFH in Preselected Jets')\n",
    "# ax.set_ylabel('BFH in Selected Jets')\n",
    "\n",
    "# fig.colorbar(im, ax=ax)"
   ]
  },
  {
   "cell_type": "code",
   "execution_count": 122,
   "metadata": {},
   "outputs": [
    {
     "data": {
      "text/plain": [
       "array([0.00000000e+00, 0.00000000e+00, 7.27796954e-01, 1.16447513e+01,\n",
       "       1.31367350e+02, 7.91115289e+02, 2.26199293e+03])"
      ]
     },
     "execution_count": 122,
     "metadata": {},
     "output_type": "execute_result"
    },
    {
     "data": {
      "image/png": "[encoded data removed]",
      "text/plain": [
       "<Figure size 576x576 with 1 Axes>"
      ]
     },
     "metadata": {
      "needs_background": "light"
     },
     "output_type": "display_data"
    }
   ],
   "source": [
    "fig, ax = plt.subplots()\n",
    "\n",
    "# n, ex, ey, im = Hist2d(signal.nfound_presel, signal.nfound_select, bins=np.arange(8), ax=ax)\n",
    "\n",
    "signal.hist(signal.nfound_select[signal.nfound_presel == 6], bins=np.arange(8), ax=ax)\n",
    "# signal.hist('nfound_paired', bins=np.arange(8), ax=ax)\n",
    "\n",
    "# ax.minorticks_off()\n",
    "\n",
    "# ax.set_xlabel('BFH in Preselected Jets')\n",
    "# ax.set_ylabel('BFH in Selected Jets')\n",
    "\n",
    "# fig.colorbar(im, ax=ax)"
   ]
  },
  {
   "cell_type": "code",
   "execution_count": 128,
   "metadata": {},
   "outputs": [
    {
     "data": {
      "text/plain": [
       "array([ 233.98672081,  604.98121827,    0.        , 1423.02499492])"
      ]
     },
     "execution_count": 128,
     "metadata": {},
     "output_type": "execute_result"
    },
    {
     "data": {
      "image/png": "[encoded data removed]",
      "text/plain": [
       "<Figure size 576x576 with 1 Axes>"
      ]
     },
     "metadata": {
      "needs_background": "light"
     },
     "output_type": "display_data"
    }
   ],
   "source": [
    "fig, ax = plt.subplots()\n",
    "\n",
    "# n, ex, ey, im = Hist2d(signal.nfound_presel, signal.nfound_select, bins=np.arange(8), ax=ax)\n",
    "\n",
    "signal.hist(signal.nfound_select_h[signal.nfound_presel_h == 3], bins=np.arange(5), ax=ax)\n",
    "# signal.hist(signal.nfound_paired_h[signal.nfound_presel_h == 3], bins=np.arange(5), ax=ax)\n",
    "signal.hist(signal.nfound_paired_h[signal.nfound_select_h == 3], bins=np.arange(5), ax=ax)\n",
    "# signal.hist('nfound_paired', bins=np.arange(8), ax=ax)\n",
    "\n",
    "# ax.minorticks_off()\n",
    "\n",
    "# ax.set_xlabel('BFH in Preselected Jets')\n",
    "# ax.set_ylabel('BFH in Selected Jets')\n",
    "\n",
    "# fig.colorbar(im, ax=ax)"
   ]
  },
  {
   "cell_type": "code",
   "execution_count": null,
   "metadata": {},
   "outputs": [],
   "source": []
  },
  {
   "cell_type": "code",
   "execution_count": null,
   "metadata": {},
   "outputs": [
    {
     "data": {
      "text/plain": [
       "<matplotlib.colorbar.Colorbar at 0x7fedf6d7e4f0>"
      ]
     },
     "metadata": {},
     "output_type": "display_data"
    },
    {
     "data": {
      "image/png": "[encoded data removed]",
      "text/plain": [
       "<Figure size 576x576 with 2 Axes>"
      ]
     },
     "metadata": {},
     "output_type": "display_data"
    }
   ],
   "source": [
    "fig, ax = plt.subplots()\n",
    "\n",
    "n, ex, ey, im = Hist2d(signal.nfound_presel, signal.nfound_select, bins=np.arange(8), ax=ax)\n",
    "\n",
    "ax.minorticks_off()\n",
    "\n",
    "ax.set_xlabel('BFH in Preselected Jets')\n",
    "ax.set_ylabel('BFH in Selected Jets')\n",
    "\n",
    "fig.colorbar(im, ax=ax)"
   ]
  },
  {
   "cell_type": "code",
   "execution_count": 121,
   "metadata": {},
   "outputs": [
    {
     "data": {
      "text/plain": [
       "<matplotlib.colorbar.Colorbar at 0x7fedf8a77970>"
      ]
     },
     "execution_count": 121,
     "metadata": {},
     "output_type": "execute_result"
    },
    {
     "data": {
      "image/png": "[encoded data removed]",
      "text/plain": [
       "<Figure size 576x576 with 2 Axes>"
      ]
     },
     "metadata": {
      "needs_background": "light"
     },
     "output_type": "display_data"
    }
   ],
   "source": [
    "fig, ax = plt.subplots()\n",
    "\n",
    "n, ex, ey, im = Hist2d(signal.nfound_presel[signal.nfound_presel == 6], signal.nfound_select[signal.nfound_presel == 6], bins=np.arange(8), ax=ax)\n",
    "\n",
    "ax.minorticks_off()\n",
    "\n",
    "ax.set_xlabel('BFH in Preselected Jets')\n",
    "ax.set_ylabel('BFH in Selected Jets')\n",
    "\n",
    "fig.colorbar(im, ax=ax)"
   ]
  },
  {
   "cell_type": "code",
   "execution_count": null,
   "metadata": {},
   "outputs": [],
   "source": [
    "signal.nfound"
   ]
  },
  {
   "cell_type": "code",
   "execution_count": 120,
   "metadata": {},
   "outputs": [
    {
     "data": {
      "text/plain": [
       "array([2985.05920812, 3874.60903553, 1897.54860913, 1423.02499492])"
      ]
     },
     "execution_count": 120,
     "metadata": {},
     "output_type": "execute_result"
    },
    {
     "data": {
      "image/png": "[encoded data removed]",
      "text/plain": [
       "<Figure size 576x576 with 1 Axes>"
      ]
     },
     "metadata": {
      "needs_background": "light"
     },
     "output_type": "display_data"
    }
   ],
   "source": [
    "fig, ax = plt.subplots()\n",
    "\n",
    "signal.hist('nfound_presel_h', bins=np.arange(5), ax=ax)\n",
    "signal.hist('nfound_select_h', bins=np.arange(5), ax=ax)\n",
    "signal.hist('nfound_paired_h', bins=np.arange(5), ax=ax)"
   ]
  },
  {
   "cell_type": "code",
   "execution_count": 98,
   "metadata": {},
   "outputs": [
    {
     "data": {
      "text/plain": [
       "['Run',\n",
       " 'LumiSec',\n",
       " 'Event',\n",
       " 'n_other_pv',\n",
       " 'rhofastjet_all',\n",
       " 'gen_X_fc_m',\n",
       " 'gen_X_fc_pt',\n",
       " 'gen_X_fc_eta',\n",
       " 'gen_X_fc_phi',\n",
       " 'gen_X_m',\n",
       " 'gen_X_pt',\n",
       " 'gen_X_eta',\n",
       " 'gen_X_phi',\n",
       " 'gen_Y_m',\n",
       " 'gen_Y_pt',\n",
       " 'gen_Y_eta',\n",
       " 'gen_Y_phi',\n",
       " 'gen_HX_m',\n",
       " 'gen_HX_pt',\n",
       " 'gen_HX_eta',\n",
       " 'gen_HX_phi',\n",
       " 'gen_H1_m',\n",
       " 'gen_H1_pt',\n",
       " 'gen_H1_eta',\n",
       " 'gen_H1_phi',\n",
       " 'gen_H2_m',\n",
       " 'gen_H2_pt',\n",
       " 'gen_H2_eta',\n",
       " 'gen_H2_phi',\n",
       " 'gen_HX_b1_m',\n",
       " 'gen_HX_b1_pt',\n",
       " 'gen_HX_b1_eta',\n",
       " 'gen_HX_b1_phi',\n",
       " 'gen_HX_b2_m',\n",
       " 'gen_HX_b2_pt',\n",
       " 'gen_HX_b2_eta',\n",
       " 'gen_HX_b2_phi',\n",
       " 'gen_H1_b1_m',\n",
       " 'gen_H1_b1_pt',\n",
       " 'gen_H1_b1_eta',\n",
       " 'gen_H1_b1_phi',\n",
       " 'gen_H1_b2_m',\n",
       " 'gen_H1_b2_pt',\n",
       " 'gen_H1_b2_eta',\n",
       " 'gen_H1_b2_phi',\n",
       " 'gen_H2_b1_m',\n",
       " 'gen_H2_b1_pt',\n",
       " 'gen_H2_b1_eta',\n",
       " 'gen_H2_b1_phi',\n",
       " 'gen_H2_b2_m',\n",
       " 'gen_H2_b2_pt',\n",
       " 'gen_H2_b2_eta',\n",
       " 'gen_H2_b2_phi',\n",
       " 'gen_HX_b1_genjet_m',\n",
       " 'gen_HX_b1_genjet_pt',\n",
       " 'gen_HX_b1_genjet_eta',\n",
       " 'gen_HX_b1_genjet_phi',\n",
       " 'gen_HX_b2_genjet_m',\n",
       " 'gen_HX_b2_genjet_pt',\n",
       " 'gen_HX_b2_genjet_eta',\n",
       " 'gen_HX_b2_genjet_phi',\n",
       " 'gen_H1_b1_genjet_m',\n",
       " 'gen_H1_b1_genjet_pt',\n",
       " 'gen_H1_b1_genjet_eta',\n",
       " 'gen_H1_b1_genjet_phi',\n",
       " 'gen_H1_b2_genjet_m',\n",
       " 'gen_H1_b2_genjet_pt',\n",
       " 'gen_H1_b2_genjet_eta',\n",
       " 'gen_H1_b2_genjet_phi',\n",
       " 'gen_H2_b1_genjet_m',\n",
       " 'gen_H2_b1_genjet_pt',\n",
       " 'gen_H2_b1_genjet_eta',\n",
       " 'gen_H2_b1_genjet_phi',\n",
       " 'gen_H2_b2_genjet_m',\n",
       " 'gen_H2_b2_genjet_pt',\n",
       " 'gen_H2_b2_genjet_eta',\n",
       " 'gen_H2_b2_genjet_phi',\n",
       " 'gen_HX_b1_recojet_m',\n",
       " 'gen_HX_b1_recojet_mRegressed',\n",
       " 'gen_HX_b1_recojet_pt',\n",
       " 'gen_HX_b1_recojet_ptRegressed',\n",
       " 'gen_HX_b1_recojet_eta',\n",
       " 'gen_HX_b1_recojet_phi',\n",
       " 'gen_HX_b1_recojet_btag',\n",
       " 'gen_HX_b2_recojet_m',\n",
       " 'gen_HX_b2_recojet_mRegressed',\n",
       " 'gen_HX_b2_recojet_pt',\n",
       " 'gen_HX_b2_recojet_ptRegressed',\n",
       " 'gen_HX_b2_recojet_eta',\n",
       " 'gen_HX_b2_recojet_phi',\n",
       " 'gen_HX_b2_recojet_btag',\n",
       " 'gen_H1_b1_recojet_m',\n",
       " 'gen_H1_b1_recojet_mRegressed',\n",
       " 'gen_H1_b1_recojet_pt',\n",
       " 'gen_H1_b1_recojet_ptRegressed',\n",
       " 'gen_H1_b1_recojet_eta',\n",
       " 'gen_H1_b1_recojet_phi',\n",
       " 'gen_H1_b1_recojet_btag',\n",
       " 'gen_H1_b2_recojet_m',\n",
       " 'gen_H1_b2_recojet_mRegressed',\n",
       " 'gen_H1_b2_recojet_pt',\n",
       " 'gen_H1_b2_recojet_ptRegressed',\n",
       " 'gen_H1_b2_recojet_eta',\n",
       " 'gen_H1_b2_recojet_phi',\n",
       " 'gen_H1_b2_recojet_btag',\n",
       " 'gen_H2_b1_recojet_m',\n",
       " 'gen_H2_b1_recojet_mRegressed',\n",
       " 'gen_H2_b1_recojet_pt',\n",
       " 'gen_H2_b1_recojet_ptRegressed',\n",
       " 'gen_H2_b1_recojet_eta',\n",
       " 'gen_H2_b1_recojet_phi',\n",
       " 'gen_H2_b1_recojet_btag',\n",
       " 'gen_H2_b2_recojet_m',\n",
       " 'gen_H2_b2_recojet_mRegressed',\n",
       " 'gen_H2_b2_recojet_pt',\n",
       " 'gen_H2_b2_recojet_ptRegressed',\n",
       " 'gen_H2_b2_recojet_eta',\n",
       " 'gen_H2_b2_recojet_phi',\n",
       " 'gen_H2_b2_recojet_btag',\n",
       " 'HX_b1_genHflag',\n",
       " 'HX_b2_genHflag',\n",
       " 'H1_b1_genHflag',\n",
       " 'H1_b2_genHflag',\n",
       " 'H2_b1_genHflag',\n",
       " 'H2_b2_genHflag',\n",
       " 'gen_bs_N_reco_match',\n",
       " 'gen_bs_N_reco_match_in_acc',\n",
       " 'gen_bs_match_recojet_minv',\n",
       " 'gen_bs_match_in_acc_recojet_minv',\n",
       " 'nfound_all',\n",
       " 'nfound_all_h',\n",
       " 'nfound_presel',\n",
       " 'nfound_presel_h',\n",
       " 'nfound_select',\n",
       " 'nfound_select_h',\n",
       " 'nfound_paired_h',\n",
       " 'X_m',\n",
       " 'X_pt',\n",
       " 'X_eta',\n",
       " 'X_phi',\n",
       " 'Y_m',\n",
       " 'Y_pt',\n",
       " 'Y_eta',\n",
       " 'Y_phi',\n",
       " 'HX_m',\n",
       " 'HX_pt',\n",
       " 'HX_eta',\n",
       " 'HX_phi',\n",
       " 'H1_m',\n",
       " 'H1_pt',\n",
       " 'H1_eta',\n",
       " 'H1_phi',\n",
       " 'H2_m',\n",
       " 'H2_pt',\n",
       " 'H2_eta',\n",
       " 'H2_phi',\n",
       " 'HX_b1_m',\n",
       " 'HX_b1_mRegressed',\n",
       " 'HX_b1_pt',\n",
       " 'HX_b1_ptRegressed',\n",
       " 'HX_b1_eta',\n",
       " 'HX_b1_phi',\n",
       " 'HX_b1_btag',\n",
       " 'HX_b2_m',\n",
       " 'HX_b2_mRegressed',\n",
       " 'HX_b2_pt',\n",
       " 'HX_b2_ptRegressed',\n",
       " 'HX_b2_eta',\n",
       " 'HX_b2_phi',\n",
       " 'HX_b2_btag',\n",
       " 'H1_b1_m',\n",
       " 'H1_b1_mRegressed',\n",
       " 'H1_b1_pt',\n",
       " 'H1_b1_ptRegressed',\n",
       " 'H1_b1_eta',\n",
       " 'H1_b1_phi',\n",
       " 'H1_b1_btag',\n",
       " 'H1_b2_m',\n",
       " 'H1_b2_mRegressed',\n",
       " 'H1_b2_pt',\n",
       " 'H1_b2_ptRegressed',\n",
       " 'H1_b2_eta',\n",
       " 'H1_b2_phi',\n",
       " 'H1_b2_btag',\n",
       " 'H2_b1_m',\n",
       " 'H2_b1_mRegressed',\n",
       " 'H2_b1_pt',\n",
       " 'H2_b1_ptRegressed',\n",
       " 'H2_b1_eta',\n",
       " 'H2_b1_phi',\n",
       " 'H2_b1_btag',\n",
       " 'H2_b2_m',\n",
       " 'H2_b2_mRegressed',\n",
       " 'H2_b2_pt',\n",
       " 'H2_b2_ptRegressed',\n",
       " 'H2_b2_eta',\n",
       " 'H2_b2_phi',\n",
       " 'H2_b2_btag',\n",
       " 'n_muon',\n",
       " 'muon_E',\n",
       " 'muon_m',\n",
       " 'muon_pt',\n",
       " 'muon_eta',\n",
       " 'muon_phi',\n",
       " 'muon_dxy',\n",
       " 'muon_dz',\n",
       " 'muon_charge',\n",
       " 'muon_pfRelIso04_all',\n",
       " 'muon_isLoose',\n",
       " 'muon_isMedium',\n",
       " 'muon_isTight',\n",
       " 'n_ele',\n",
       " 'ele_E',\n",
       " 'ele_m',\n",
       " 'ele_pt',\n",
       " 'ele_eta',\n",
       " 'ele_phi',\n",
       " 'ele_dxy',\n",
       " 'ele_dz',\n",
       " 'ele_charge',\n",
       " 'ele_pfRelIso03_all',\n",
       " 'ele_mvaFall17V2Iso_WPL',\n",
       " 'ele_mvaFall17V2Iso_WP90',\n",
       " 'ele_mvaFall17V2Iso_WP80',\n",
       " 'n_total_jet',\n",
       " 'n_jet',\n",
       " 'jet_E',\n",
       " 'jet_m',\n",
       " 'jet_mRegressed',\n",
       " 'jet_pt',\n",
       " 'jet_ptRegressed',\n",
       " 'jet_eta',\n",
       " 'jet_phi',\n",
       " 'jet_signalId',\n",
       " 'jet_higgsIdx',\n",
       " 'jet_genIdx',\n",
       " 'jet_btag',\n",
       " 'jet_qgl',\n",
       " 'jet_chEmEF',\n",
       " 'jet_chHEF',\n",
       " 'jet_neEmEF',\n",
       " 'jet_neHEF',\n",
       " 'jet_nConstituents',\n",
       " 'jet_id',\n",
       " 'jet_puid',\n",
       " 'b_6j_score',\n",
       " 'n_pu',\n",
       " 'n_true_int',\n",
       " 'lhe_ht',\n",
       " 'btagSF_WP_M',\n",
       " 'n_genjet',\n",
       " 'genjet_E',\n",
       " 'genjet_m',\n",
       " 'genjet_pt',\n",
       " 'genjet_eta',\n",
       " 'genjet_phi',\n",
       " 'genjet_partonFlav',\n",
       " 'genjet_hadronFlav',\n",
       " 'genjet_signalId',\n",
       " 'genjet_recoIdx',\n",
       " 'sphericity',\n",
       " 'sphericity_t',\n",
       " 'aplanarity',\n",
       " 'HLT_PFHT330PT30_QuadPFJet_75_60_45_40_TriplePFBTagDeepCSV_4p5',\n",
       " 'genWeight',\n",
       " 'PUWeight',\n",
       " 'PUWeight_up',\n",
       " 'PUWeight_down',\n",
       " 'LHEPdfWeight',\n",
       " 'LHEPdfWeight_var0',\n",
       " 'LHEPdfWeight_var1',\n",
       " 'LHEPdfWeight_var2',\n",
       " 'LHEPdfWeight_var3',\n",
       " 'LHEPdfWeight_var4',\n",
       " 'LHEPdfWeight_var5',\n",
       " 'LHEPdfWeight_var6',\n",
       " 'LHEPdfWeight_var7',\n",
       " 'LHEPdfWeight_var8',\n",
       " 'LHEPdfWeight_var9',\n",
       " 'LHEPdfWeight_var10',\n",
       " 'LHEPdfWeight_var11',\n",
       " 'LHEPdfWeight_var12',\n",
       " 'LHEPdfWeight_var13',\n",
       " 'LHEPdfWeight_var14',\n",
       " 'LHEPdfWeight_var15',\n",
       " 'LHEPdfWeight_var16',\n",
       " 'LHEPdfWeight_var17',\n",
       " 'LHEPdfWeight_var18',\n",
       " 'LHEPdfWeight_var19',\n",
       " 'LHEPdfWeight_var20',\n",
       " 'LHEPdfWeight_var21',\n",
       " 'LHEPdfWeight_var22',\n",
       " 'LHEPdfWeight_var23',\n",
       " 'LHEPdfWeight_var24',\n",
       " 'LHEPdfWeight_var25',\n",
       " 'LHEPdfWeight_var26',\n",
       " 'LHEPdfWeight_var27',\n",
       " 'LHEPdfWeight_var28',\n",
       " 'LHEPdfWeight_var29',\n",
       " 'LHEPdfWeight_var30',\n",
       " 'LHEPdfWeight_var31',\n",
       " 'LHEPdfWeight_var32',\n",
       " 'LHEPdfWeight_var33',\n",
       " 'LHEPdfWeight_var34',\n",
       " 'LHEPdfWeight_var35',\n",
       " 'LHEPdfWeight_var36',\n",
       " 'LHEPdfWeight_var37',\n",
       " 'LHEPdfWeight_var38',\n",
       " 'LHEPdfWeight_var39',\n",
       " 'LHEPdfWeight_var40',\n",
       " 'LHEPdfWeight_var41',\n",
       " 'LHEPdfWeight_var42',\n",
       " 'LHEPdfWeight_var43',\n",
       " 'LHEPdfWeight_var44',\n",
       " 'LHEPdfWeight_var45',\n",
       " 'LHEPdfWeight_var46',\n",
       " 'LHEPdfWeight_var47',\n",
       " 'LHEPdfWeight_var48',\n",
       " 'LHEPdfWeight_var49',\n",
       " 'LHEPdfWeight_var50',\n",
       " 'LHEPdfWeight_var51',\n",
       " 'LHEPdfWeight_var52',\n",
       " 'LHEPdfWeight_var53',\n",
       " 'LHEPdfWeight_var54',\n",
       " 'LHEPdfWeight_var55',\n",
       " 'LHEPdfWeight_var56',\n",
       " 'LHEPdfWeight_var57',\n",
       " 'LHEPdfWeight_var58',\n",
       " 'LHEPdfWeight_var59',\n",
       " 'LHEPdfWeight_var60',\n",
       " 'LHEPdfWeight_var61',\n",
       " 'LHEPdfWeight_var62',\n",
       " 'LHEPdfWeight_var63',\n",
       " 'LHEPdfWeight_var64',\n",
       " 'LHEPdfWeight_var65',\n",
       " 'LHEPdfWeight_var66',\n",
       " 'LHEPdfWeight_var67',\n",
       " 'LHEPdfWeight_var68',\n",
       " 'LHEPdfWeight_var69',\n",
       " 'LHEPdfWeight_var70',\n",
       " 'LHEPdfWeight_var71',\n",
       " 'LHEPdfWeight_var72',\n",
       " 'LHEPdfWeight_var73',\n",
       " 'LHEPdfWeight_var74',\n",
       " 'LHEPdfWeight_var75',\n",
       " 'LHEPdfWeight_var76',\n",
       " 'LHEPdfWeight_var77',\n",
       " 'LHEPdfWeight_var78',\n",
       " 'LHEPdfWeight_var79',\n",
       " 'LHEPdfWeight_var80',\n",
       " 'LHEPdfWeight_var81',\n",
       " 'LHEPdfWeight_var82',\n",
       " 'LHEPdfWeight_var83',\n",
       " 'LHEPdfWeight_var84',\n",
       " 'LHEPdfWeight_var85',\n",
       " 'LHEPdfWeight_var86',\n",
       " 'LHEPdfWeight_var87',\n",
       " 'LHEPdfWeight_var88',\n",
       " 'LHEPdfWeight_var89',\n",
       " 'LHEPdfWeight_var90',\n",
       " 'LHEPdfWeight_var91',\n",
       " 'LHEPdfWeight_var92',\n",
       " 'LHEPdfWeight_var93',\n",
       " 'LHEPdfWeight_var94',\n",
       " 'LHEPdfWeight_var95',\n",
       " 'LHEPdfWeight_var96',\n",
       " 'LHEPdfWeight_var97',\n",
       " 'LHEPdfWeight_var98',\n",
       " 'LHEPdfWeight_var99',\n",
       " 'LHEPdfWeight_var100',\n",
       " 'LHEScaleWeight',\n",
       " 'LHEScaleWeight_var0',\n",
       " 'LHEScaleWeight_var1',\n",
       " 'LHEScaleWeight_var2',\n",
       " 'LHEScaleWeight_var3',\n",
       " 'LHEScaleWeight_var4',\n",
       " 'LHEScaleWeight_var5',\n",
       " 'LHEScaleWeight_var6',\n",
       " 'LHEScaleWeight_var7',\n",
       " 'PSWeight',\n",
       " 'PSWeight_var0']"
      ]
     },
     "execution_count": 98,
     "metadata": {},
     "output_type": "execute_result"
    }
   ],
   "source": [
    "signal.keys()"
   ]
  },
  {
   "cell_type": "code",
   "execution_count": null,
   "metadata": {},
   "outputs": [],
   "source": [
    "signal."
   ]
  }
 ],
 "metadata": {
  "kernelspec": {
   "display_name": "Python 3.9.13 ('sixb')",
   "language": "python",
   "name": "python3"
  },
  "language_info": {
   "codemirror_mode": {
    "name": "ipython",
    "version": 3
   },
   "file_extension": ".py",
   "mimetype": "text/x-python",
   "name": "python",
   "nbconvert_exporter": "python",
   "pygments_lexer": "ipython3",
   "version": "3.9.13"
  },
  "orig_nbformat": 4,
  "vscode": {
   "interpreter": {
    "hash": "fd1aa3536eccf25268872fb0877ce450957c03a0faeafc6ef6bbb3c9838499b8"
   }
  }
 },
 "nbformat": 4,
 "nbformat_minor": 2
}
