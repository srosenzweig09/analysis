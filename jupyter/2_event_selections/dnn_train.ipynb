{
 "cells": [
  {
   "cell_type": "code",
   "execution_count": 99,
   "metadata": {},
   "outputs": [],
   "source": [
    "from utils.analysis import Signal\n",
    "from utils.plotter import Hist, Hist2d\n",
    "from utils.files import *\n",
    "from utils.varUtils import *\n",
    "from utils.useCMSstyle import *\n",
    "plt.style.use(CMS)"
   ]
  },
  {
   "cell_type": "code",
   "execution_count": 144,
   "metadata": {},
   "outputs": [],
   "source": [
    "from utils.analysis.tree import Tree"
   ]
  },
  {
   "cell_type": "code",
   "execution_count": 146,
   "metadata": {},
   "outputs": [
    {
     "ename": "FileNotFoundError",
     "evalue": "file not found\n\n    '/eos/uscms/store/user/srosenzw/sixb/ntuples/Summer2018UL/dnn/TTJets/TTJets/ntuple.root'\n\nFiles may be specified as:\n   * str/bytes: relative or absolute filesystem path or URL, without any colons\n         other than Windows drive letter or URL schema.\n         Examples: \"rel/file.root\", \"C:\\abs\\file.root\", \"http://where/what.root\"\n   * str/bytes: same with an object-within-ROOT path, separated by a colon.\n         Example: \"rel/file.root:tdirectory/ttree\"\n   * pathlib.Path: always interpreted as a filesystem path or URL only (no\n         object-within-ROOT path), regardless of whether there are any colons.\n         Examples: Path(\"rel:/file.root\"), Path(\"/abs/path:stuff.root\")\n\nFunctions that accept many files (uproot.iterate, etc.) also allow:\n   * glob syntax in str/bytes and pathlib.Path.\n         Examples: Path(\"rel/*.root\"), \"/abs/*.root:tdirectory/ttree\"\n   * dict: keys are filesystem paths, values are objects-within-ROOT paths.\n         Example: {\"/data_v1/*.root\": \"ttree_v1\", \"/data_v2/*.root\": \"ttree_v2\"}\n   * already-open TTree objects.\n   * iterables of the above.\n",
     "output_type": "error",
     "traceback": [
      "\u001b[0;31m---------------------------------------------------------------------------\u001b[0m",
      "\u001b[0;31mFileNotFoundError\u001b[0m                         Traceback (most recent call last)",
      "File \u001b[0;32m/uscms_data/d3/srosenzw/mambaforge/envs/sixb/lib/python3.9/site-packages/uproot/source/file.py:112\u001b[0m, in \u001b[0;36mMemmapSource._open\u001b[0;34m(self)\u001b[0m\n\u001b[1;32m    111\u001b[0m \u001b[39mtry\u001b[39;00m:\n\u001b[0;32m--> 112\u001b[0m     \u001b[39mself\u001b[39m\u001b[39m.\u001b[39m_file \u001b[39m=\u001b[39m numpy\u001b[39m.\u001b[39;49mmemmap(\u001b[39mself\u001b[39;49m\u001b[39m.\u001b[39;49m_file_path, dtype\u001b[39m=\u001b[39;49m\u001b[39mself\u001b[39;49m\u001b[39m.\u001b[39;49m_dtype, mode\u001b[39m=\u001b[39;49m\u001b[39m\"\u001b[39;49m\u001b[39mr\u001b[39;49m\u001b[39m\"\u001b[39;49m)\n\u001b[1;32m    113\u001b[0m     \u001b[39mself\u001b[39m\u001b[39m.\u001b[39m_fallback \u001b[39m=\u001b[39m \u001b[39mNone\u001b[39;00m\n",
      "File \u001b[0;32m/uscms_data/d3/srosenzw/mambaforge/envs/sixb/lib/python3.9/site-packages/numpy/core/memmap.py:228\u001b[0m, in \u001b[0;36mmemmap.__new__\u001b[0;34m(subtype, filename, dtype, mode, offset, shape, order)\u001b[0m\n\u001b[1;32m    227\u001b[0m \u001b[39melse\u001b[39;00m:\n\u001b[0;32m--> 228\u001b[0m     f_ctx \u001b[39m=\u001b[39m \u001b[39mopen\u001b[39;49m(os_fspath(filename), (\u001b[39m'\u001b[39;49m\u001b[39mr\u001b[39;49m\u001b[39m'\u001b[39;49m \u001b[39mif\u001b[39;49;00m mode \u001b[39m==\u001b[39;49m \u001b[39m'\u001b[39;49m\u001b[39mc\u001b[39;49m\u001b[39m'\u001b[39;49m \u001b[39melse\u001b[39;49;00m mode)\u001b[39m+\u001b[39;49m\u001b[39m'\u001b[39;49m\u001b[39mb\u001b[39;49m\u001b[39m'\u001b[39;49m)\n\u001b[1;32m    230\u001b[0m \u001b[39mwith\u001b[39;00m f_ctx \u001b[39mas\u001b[39;00m fid:\n",
      "\u001b[0;31mFileNotFoundError\u001b[0m: [Errno 2] No such file or directory: '/eos/uscms/store/user/srosenzw/sixb/ntuples/Summer2018UL/dnn/TTJets/TTJets/ntuple.root'",
      "\nDuring handling of the above exception, another exception occurred:\n",
      "\u001b[0;31mFileNotFoundError\u001b[0m                         Traceback (most recent call last)",
      "File \u001b[0;32m/uscms_data/d3/srosenzw/mambaforge/envs/sixb/lib/python3.9/site-packages/uproot/source/file.py:36\u001b[0m, in \u001b[0;36mFileResource.__init__\u001b[0;34m(self, file_path)\u001b[0m\n\u001b[1;32m     35\u001b[0m \u001b[39mtry\u001b[39;00m:\n\u001b[0;32m---> 36\u001b[0m     \u001b[39mself\u001b[39m\u001b[39m.\u001b[39m_file \u001b[39m=\u001b[39m \u001b[39mopen\u001b[39;49m(\u001b[39mself\u001b[39;49m\u001b[39m.\u001b[39;49m_file_path, \u001b[39m\"\u001b[39;49m\u001b[39mrb\u001b[39;49m\u001b[39m\"\u001b[39;49m)\n\u001b[1;32m     37\u001b[0m \u001b[39mexcept\u001b[39;00m uproot\u001b[39m.\u001b[39m_util\u001b[39m.\u001b[39m_FileNotFoundError:\n",
      "\u001b[0;31mFileNotFoundError\u001b[0m: [Errno 2] No such file or directory: '/eos/uscms/store/user/srosenzw/sixb/ntuples/Summer2018UL/dnn/TTJets/TTJets/ntuple.root'",
      "\nDuring handling of the above exception, another exception occurred:\n",
      "\u001b[0;31mFileNotFoundError\u001b[0m                         Traceback (most recent call last)",
      "\u001b[1;32m/uscms/home/srosenzw/nobackup/workarea/higgs/sixb_analysis/CMSSW_10_6_19_patch2/src/sixb/jupyter/2_event_selections/dnn_train.ipynb Cell 3\u001b[0m in \u001b[0;36m<cell line: 1>\u001b[0;34m()\u001b[0m\n\u001b[0;32m----> <a href='vscode-notebook-cell://ssh-remote%2Bsrosenzw@cmslpcgpu1.fnal.gov/uscms/home/srosenzw/nobackup/workarea/higgs/sixb_analysis/CMSSW_10_6_19_patch2/src/sixb/jupyter/2_event_selections/dnn_train.ipynb#X61sdnNjb2RlLXJlbW90ZQ%3D%3D?line=0'>1</a>\u001b[0m qcd \u001b[39m=\u001b[39m Tree(get_qcd_ttbar(\u001b[39m'\u001b[39;49m\u001b[39mdnn\u001b[39;49m\u001b[39m'\u001b[39;49m))\n",
      "File \u001b[0;32m/uscms_data/d3/srosenzw/workarea/higgs/sixb_analysis/CMSSW_10_6_19_patch2/src/sixb/utils/analysis/tree.py:57\u001b[0m, in \u001b[0;36mTree.__init__\u001b[0;34m(self, filename, treename, year, training, exploration, signal)\u001b[0m\n\u001b[1;32m     55\u001b[0m     \u001b[39mself\u001b[39m\u001b[39m.\u001b[39msingle_init(filename, treename, year, training\u001b[39m=\u001b[39mtraining, exploration\u001b[39m=\u001b[39mexploration, signal\u001b[39m=\u001b[39msignal)\n\u001b[1;32m     56\u001b[0m \u001b[39melse\u001b[39;00m:\n\u001b[0;32m---> 57\u001b[0m     \u001b[39mself\u001b[39;49m\u001b[39m.\u001b[39;49mmulti_init(filename, treename, year)\n",
      "File \u001b[0;32m/uscms_data/d3/srosenzw/workarea/higgs/sixb_analysis/CMSSW_10_6_19_patch2/src/sixb/utils/analysis/tree.py:102\u001b[0m, in \u001b[0;36mTree.multi_init\u001b[0;34m(self, filelist, treename, year)\u001b[0m\n\u001b[1;32m     99\u001b[0m \u001b[39mself\u001b[39m\u001b[39m.\u001b[39mcutflow \u001b[39m=\u001b[39m np\u001b[39m.\u001b[39mzeros(\u001b[39m11\u001b[39m)\n\u001b[1;32m    100\u001b[0m \u001b[39mfor\u001b[39;00m filename \u001b[39min\u001b[39;00m filelist:\n\u001b[1;32m    101\u001b[0m     \u001b[39m# Open tree\u001b[39;00m\n\u001b[0;32m--> 102\u001b[0m     tree \u001b[39m=\u001b[39m uproot\u001b[39m.\u001b[39;49mopen(\u001b[39mf\u001b[39;49m\u001b[39m\"\u001b[39;49m\u001b[39m{\u001b[39;49;00mfilename\u001b[39m}\u001b[39;49;00m\u001b[39m:\u001b[39;49m\u001b[39m{\u001b[39;49;00mtreename\u001b[39m}\u001b[39;49;00m\u001b[39m\"\u001b[39;49m)\n\u001b[1;32m    103\u001b[0m     \u001b[39m# How many events in the tree?\u001b[39;00m\n\u001b[1;32m    104\u001b[0m     n \u001b[39m=\u001b[39m \u001b[39mlen\u001b[39m(tree[\u001b[39m'\u001b[39m\u001b[39mn_jet\u001b[39m\u001b[39m'\u001b[39m]\u001b[39m.\u001b[39marray())\n",
      "File \u001b[0;32m/uscms_data/d3/srosenzw/mambaforge/envs/sixb/lib/python3.9/site-packages/uproot/reading.py:141\u001b[0m, in \u001b[0;36mopen\u001b[0;34m(path, object_cache, array_cache, custom_classes, decompression_executor, interpretation_executor, **options)\u001b[0m\n\u001b[1;32m    132\u001b[0m \u001b[39mif\u001b[39;00m \u001b[39mnot\u001b[39;00m uproot\u001b[39m.\u001b[39m_util\u001b[39m.\u001b[39misstr(file_path) \u001b[39mand\u001b[39;00m \u001b[39mnot\u001b[39;00m (\n\u001b[1;32m    133\u001b[0m     \u001b[39mhasattr\u001b[39m(file_path, \u001b[39m\"\u001b[39m\u001b[39mread\u001b[39m\u001b[39m\"\u001b[39m) \u001b[39mand\u001b[39;00m \u001b[39mhasattr\u001b[39m(file_path, \u001b[39m\"\u001b[39m\u001b[39mseek\u001b[39m\u001b[39m\"\u001b[39m)\n\u001b[1;32m    134\u001b[0m ):\n\u001b[1;32m    135\u001b[0m     \u001b[39mraise\u001b[39;00m \u001b[39mValueError\u001b[39;00m(\n\u001b[1;32m    136\u001b[0m         \u001b[39m\"\u001b[39m\u001b[39m'\u001b[39m\u001b[39mpath\u001b[39m\u001b[39m'\u001b[39m\u001b[39m must be a string, pathlib.Path, an object with \u001b[39m\u001b[39m'\u001b[39m\u001b[39mread\u001b[39m\u001b[39m'\u001b[39m\u001b[39m and \u001b[39m\u001b[39m\"\u001b[39m\n\u001b[1;32m    137\u001b[0m         \u001b[39m\"\u001b[39m\u001b[39m'\u001b[39m\u001b[39mseek\u001b[39m\u001b[39m'\u001b[39m\u001b[39m methods, or a length-1 dict of \u001b[39m\u001b[39m{{\u001b[39m\u001b[39mfile_path: object_path}}, \u001b[39m\u001b[39m\"\u001b[39m\n\u001b[1;32m    138\u001b[0m         \u001b[39m\"\u001b[39m\u001b[39mnot \u001b[39m\u001b[39m{0}\u001b[39;00m\u001b[39m\"\u001b[39m\u001b[39m.\u001b[39mformat(\u001b[39mrepr\u001b[39m(path))\n\u001b[1;32m    139\u001b[0m     )\n\u001b[0;32m--> 141\u001b[0m file \u001b[39m=\u001b[39m ReadOnlyFile(\n\u001b[1;32m    142\u001b[0m     file_path,\n\u001b[1;32m    143\u001b[0m     object_cache\u001b[39m=\u001b[39;49mobject_cache,\n\u001b[1;32m    144\u001b[0m     array_cache\u001b[39m=\u001b[39;49marray_cache,\n\u001b[1;32m    145\u001b[0m     custom_classes\u001b[39m=\u001b[39;49mcustom_classes,\n\u001b[1;32m    146\u001b[0m     decompression_executor\u001b[39m=\u001b[39;49mdecompression_executor,\n\u001b[1;32m    147\u001b[0m     interpretation_executor\u001b[39m=\u001b[39;49minterpretation_executor,\n\u001b[1;32m    148\u001b[0m     \u001b[39m*\u001b[39;49m\u001b[39m*\u001b[39;49moptions,  \u001b[39m# NOTE: a comma after **options breaks Python 2\u001b[39;49;00m\n\u001b[1;32m    149\u001b[0m )\n\u001b[1;32m    151\u001b[0m \u001b[39mif\u001b[39;00m object_path \u001b[39mis\u001b[39;00m \u001b[39mNone\u001b[39;00m:\n\u001b[1;32m    152\u001b[0m     \u001b[39mreturn\u001b[39;00m file\u001b[39m.\u001b[39mroot_directory\n",
      "File \u001b[0;32m/uscms_data/d3/srosenzw/mambaforge/envs/sixb/lib/python3.9/site-packages/uproot/reading.py:580\u001b[0m, in \u001b[0;36mReadOnlyFile.__init__\u001b[0;34m(self, file_path, object_cache, array_cache, custom_classes, decompression_executor, interpretation_executor, **options)\u001b[0m\n\u001b[1;32m    575\u001b[0m \u001b[39mself\u001b[39m\u001b[39m.\u001b[39mhook_before_create_source()\n\u001b[1;32m    577\u001b[0m Source, file_path \u001b[39m=\u001b[39m uproot\u001b[39m.\u001b[39m_util\u001b[39m.\u001b[39mfile_path_to_source_class(\n\u001b[1;32m    578\u001b[0m     file_path, \u001b[39mself\u001b[39m\u001b[39m.\u001b[39m_options\n\u001b[1;32m    579\u001b[0m )\n\u001b[0;32m--> 580\u001b[0m \u001b[39mself\u001b[39m\u001b[39m.\u001b[39m_source \u001b[39m=\u001b[39m Source(\n\u001b[1;32m    581\u001b[0m     file_path, \u001b[39m*\u001b[39;49m\u001b[39m*\u001b[39;49m\u001b[39mself\u001b[39;49m\u001b[39m.\u001b[39;49m_options  \u001b[39m# NOTE: a comma after **options breaks Python 2\u001b[39;49;00m\n\u001b[1;32m    582\u001b[0m )\n\u001b[1;32m    584\u001b[0m \u001b[39mself\u001b[39m\u001b[39m.\u001b[39mhook_before_get_chunks()\n\u001b[1;32m    586\u001b[0m \u001b[39mif\u001b[39;00m \u001b[39mself\u001b[39m\u001b[39m.\u001b[39m_options[\u001b[39m\"\u001b[39m\u001b[39mbegin_chunk_size\u001b[39m\u001b[39m\"\u001b[39m] \u001b[39m<\u001b[39m _file_header_fields_big\u001b[39m.\u001b[39msize:\n",
      "File \u001b[0;32m/uscms_data/d3/srosenzw/mambaforge/envs/sixb/lib/python3.9/site-packages/uproot/source/file.py:108\u001b[0m, in \u001b[0;36mMemmapSource.__init__\u001b[0;34m(self, file_path, **options)\u001b[0m\n\u001b[1;32m    105\u001b[0m \u001b[39mself\u001b[39m\u001b[39m.\u001b[39m_num_requested_bytes \u001b[39m=\u001b[39m \u001b[39m0\u001b[39m\n\u001b[1;32m    107\u001b[0m \u001b[39mself\u001b[39m\u001b[39m.\u001b[39m_file_path \u001b[39m=\u001b[39m file_path\n\u001b[0;32m--> 108\u001b[0m \u001b[39mself\u001b[39;49m\u001b[39m.\u001b[39;49m_open()\n",
      "File \u001b[0;32m/uscms_data/d3/srosenzw/mambaforge/envs/sixb/lib/python3.9/site-packages/uproot/source/file.py:118\u001b[0m, in \u001b[0;36mMemmapSource._open\u001b[0;34m(self)\u001b[0m\n\u001b[1;32m    116\u001b[0m opts \u001b[39m=\u001b[39m \u001b[39mdict\u001b[39m(\u001b[39mself\u001b[39m\u001b[39m.\u001b[39m_fallback_opts)\n\u001b[1;32m    117\u001b[0m opts[\u001b[39m\"\u001b[39m\u001b[39mnum_workers\u001b[39m\u001b[39m\"\u001b[39m] \u001b[39m=\u001b[39m \u001b[39mself\u001b[39m\u001b[39m.\u001b[39m_num_fallback_workers\n\u001b[0;32m--> 118\u001b[0m \u001b[39mself\u001b[39m\u001b[39m.\u001b[39m_fallback \u001b[39m=\u001b[39m uproot\u001b[39m.\u001b[39;49msource\u001b[39m.\u001b[39;49mfile\u001b[39m.\u001b[39;49mMultithreadedFileSource(\n\u001b[1;32m    119\u001b[0m     \u001b[39mself\u001b[39;49m\u001b[39m.\u001b[39;49m_file_path, \u001b[39m*\u001b[39;49m\u001b[39m*\u001b[39;49mopts  \u001b[39m# NOTE: a comma after **opts breaks Python 2\u001b[39;49;00m\n\u001b[1;32m    120\u001b[0m )\n",
      "File \u001b[0;32m/uscms_data/d3/srosenzw/mambaforge/envs/sixb/lib/python3.9/site-packages/uproot/source/file.py:250\u001b[0m, in \u001b[0;36mMultithreadedFileSource.__init__\u001b[0;34m(self, file_path, **options)\u001b[0m\n\u001b[1;32m    247\u001b[0m \u001b[39mself\u001b[39m\u001b[39m.\u001b[39m_num_requested_bytes \u001b[39m=\u001b[39m \u001b[39m0\u001b[39m\n\u001b[1;32m    249\u001b[0m \u001b[39mself\u001b[39m\u001b[39m.\u001b[39m_file_path \u001b[39m=\u001b[39m file_path\n\u001b[0;32m--> 250\u001b[0m \u001b[39mself\u001b[39;49m\u001b[39m.\u001b[39;49m_open()\n",
      "File \u001b[0;32m/uscms_data/d3/srosenzw/mambaforge/envs/sixb/lib/python3.9/site-packages/uproot/source/file.py:254\u001b[0m, in \u001b[0;36mMultithreadedFileSource._open\u001b[0;34m(self)\u001b[0m\n\u001b[1;32m    252\u001b[0m \u001b[39mdef\u001b[39;00m \u001b[39m_open\u001b[39m(\u001b[39mself\u001b[39m):\n\u001b[1;32m    253\u001b[0m     \u001b[39mself\u001b[39m\u001b[39m.\u001b[39m_executor \u001b[39m=\u001b[39m uproot\u001b[39m.\u001b[39msource\u001b[39m.\u001b[39mfutures\u001b[39m.\u001b[39mResourceThreadPoolExecutor(\n\u001b[0;32m--> 254\u001b[0m         [FileResource(\u001b[39mself\u001b[39m\u001b[39m.\u001b[39m_file_path) \u001b[39mfor\u001b[39;00m x \u001b[39min\u001b[39;00m \u001b[39mrange\u001b[39m(\u001b[39mself\u001b[39m\u001b[39m.\u001b[39m_num_workers)]\n\u001b[1;32m    255\u001b[0m     )\n\u001b[1;32m    256\u001b[0m     \u001b[39mself\u001b[39m\u001b[39m.\u001b[39m_num_bytes \u001b[39m=\u001b[39m os\u001b[39m.\u001b[39mpath\u001b[39m.\u001b[39mgetsize(\u001b[39mself\u001b[39m\u001b[39m.\u001b[39m_file_path)\n",
      "File \u001b[0;32m/uscms_data/d3/srosenzw/mambaforge/envs/sixb/lib/python3.9/site-packages/uproot/source/file.py:254\u001b[0m, in \u001b[0;36m<listcomp>\u001b[0;34m(.0)\u001b[0m\n\u001b[1;32m    252\u001b[0m \u001b[39mdef\u001b[39;00m \u001b[39m_open\u001b[39m(\u001b[39mself\u001b[39m):\n\u001b[1;32m    253\u001b[0m     \u001b[39mself\u001b[39m\u001b[39m.\u001b[39m_executor \u001b[39m=\u001b[39m uproot\u001b[39m.\u001b[39msource\u001b[39m.\u001b[39mfutures\u001b[39m.\u001b[39mResourceThreadPoolExecutor(\n\u001b[0;32m--> 254\u001b[0m         [FileResource(\u001b[39mself\u001b[39;49m\u001b[39m.\u001b[39;49m_file_path) \u001b[39mfor\u001b[39;00m x \u001b[39min\u001b[39;00m \u001b[39mrange\u001b[39m(\u001b[39mself\u001b[39m\u001b[39m.\u001b[39m_num_workers)]\n\u001b[1;32m    255\u001b[0m     )\n\u001b[1;32m    256\u001b[0m     \u001b[39mself\u001b[39m\u001b[39m.\u001b[39m_num_bytes \u001b[39m=\u001b[39m os\u001b[39m.\u001b[39mpath\u001b[39m.\u001b[39mgetsize(\u001b[39mself\u001b[39m\u001b[39m.\u001b[39m_file_path)\n",
      "File \u001b[0;32m/uscms_data/d3/srosenzw/mambaforge/envs/sixb/lib/python3.9/site-packages/uproot/source/file.py:38\u001b[0m, in \u001b[0;36mFileResource.__init__\u001b[0;34m(self, file_path)\u001b[0m\n\u001b[1;32m     36\u001b[0m     \u001b[39mself\u001b[39m\u001b[39m.\u001b[39m_file \u001b[39m=\u001b[39m \u001b[39mopen\u001b[39m(\u001b[39mself\u001b[39m\u001b[39m.\u001b[39m_file_path, \u001b[39m\"\u001b[39m\u001b[39mrb\u001b[39m\u001b[39m\"\u001b[39m)\n\u001b[1;32m     37\u001b[0m \u001b[39mexcept\u001b[39;00m uproot\u001b[39m.\u001b[39m_util\u001b[39m.\u001b[39m_FileNotFoundError:\n\u001b[0;32m---> 38\u001b[0m     \u001b[39mraise\u001b[39;00m uproot\u001b[39m.\u001b[39m_util\u001b[39m.\u001b[39m_file_not_found(file_path)\n",
      "\u001b[0;31mFileNotFoundError\u001b[0m: file not found\n\n    '/eos/uscms/store/user/srosenzw/sixb/ntuples/Summer2018UL/dnn/TTJets/TTJets/ntuple.root'\n\nFiles may be specified as:\n   * str/bytes: relative or absolute filesystem path or URL, without any colons\n         other than Windows drive letter or URL schema.\n         Examples: \"rel/file.root\", \"C:\\abs\\file.root\", \"http://where/what.root\"\n   * str/bytes: same with an object-within-ROOT path, separated by a colon.\n         Example: \"rel/file.root:tdirectory/ttree\"\n   * pathlib.Path: always interpreted as a filesystem path or URL only (no\n         object-within-ROOT path), regardless of whether there are any colons.\n         Examples: Path(\"rel:/file.root\"), Path(\"/abs/path:stuff.root\")\n\nFunctions that accept many files (uproot.iterate, etc.) also allow:\n   * glob syntax in str/bytes and pathlib.Path.\n         Examples: Path(\"rel/*.root\"), \"/abs/*.root:tdirectory/ttree\"\n   * dict: keys are filesystem paths, values are objects-within-ROOT paths.\n         Example: {\"/data_v1/*.root\": \"ttree_v1\", \"/data_v2/*.root\": \"ttree_v2\"}\n   * already-open TTree objects.\n   * iterables of the above.\n"
     ]
    }
   ],
   "source": [
    "qcd = Tree(get_qcd_ttbar('dnn'))"
   ]
  },
  {
   "cell_type": "code",
   "execution_count": 2,
   "metadata": {},
   "outputs": [
    {
     "name": "stdout",
     "output_type": "stream",
     "text": [
      "/eos/uscms/store/user/srosenzw/sixb/ntuples/Summer2018UL/NMSSM_cutflow_studies/presel/NMSSM_XYH_YToHH_6b_MX_700_MY_400_1M/ntuple.root\n"
     ]
    }
   ],
   "source": [
    "tree = Signal('/eos/uscms/store/user/srosenzw/sixb/ntuples/Summer2018UL/NMSSM_cutflow_studies/presel/NMSSM_XYH_YToHH_6b_MX_700_MY_400_1M/ntuple.root')"
   ]
  },
  {
   "cell_type": "code",
   "execution_count": 3,
   "metadata": {},
   "outputs": [],
   "source": [
    "import awkward as ak"
   ]
  },
  {
   "cell_type": "code",
   "execution_count": 34,
   "metadata": {},
   "outputs": [
    {
     "data": {
      "text/plain": [
       "<Array [[5, 4, 3, 2, 1, 0, ... 3, 2, 1, 0, -1]] type='569341 * var * int32'>"
      ]
     },
     "execution_count": 34,
     "metadata": {},
     "output_type": "execute_result"
    }
   ],
   "source": [
    "id_sort = ak.argsort(tree.jet_signalId, axis=1, ascending=False)[:,:6]\n",
    "tree.jet_signalId[id_sort]"
   ]
  },
  {
   "cell_type": "code",
   "execution_count": 63,
   "metadata": {},
   "outputs": [],
   "source": [
    "sixb_event = ak.sum(tree.jet_signalId[id_sort] > -1, axis=1) == 6\n",
    "combinatoric_event = ak.sum(tree.jet_signalId[id_sort] > -1, axis=1) != 6\n",
    "\n",
    "n_sixb = ak.sum(sixb_event)\n",
    "\n",
    "combinatoric_event = ak.local_index(tree.n_jet)[combinatoric_event][:n_sixb]\n",
    "sixb_event = ak.local_index(tree.n_jet)[sixb_event]"
   ]
  },
  {
   "cell_type": "code",
   "execution_count": null,
   "metadata": {},
   "outputs": [],
   "source": [
    "def get_features(mask):\n",
    "    pt = tree.jet_ptRegressed[id_sort][mask]\n",
    "    eta = abs(tree.jet_eta[id_sort][mask])\n",
    "    "
   ]
  },
  {
   "cell_type": "code",
   "execution_count": 86,
   "metadata": {},
   "outputs": [],
   "source": [
    "from itertools import combinations"
   ]
  },
  {
   "cell_type": "code",
   "execution_count": 87,
   "metadata": {},
   "outputs": [
    {
     "data": {
      "text/plain": [
       "[(0, 1),\n",
       " (0, 2),\n",
       " (0, 3),\n",
       " (0, 4),\n",
       " (0, 5),\n",
       " (1, 2),\n",
       " (1, 3),\n",
       " (1, 4),\n",
       " (1, 5),\n",
       " (2, 3),\n",
       " (2, 4),\n",
       " (2, 5),\n",
       " (3, 4),\n",
       " (3, 5),\n",
       " (4, 5)]"
      ]
     },
     "execution_count": 87,
     "metadata": {},
     "output_type": "execute_result"
    }
   ],
   "source": [
    "combos = list(combinations(np.arange(6),2))\n",
    "combos"
   ]
  },
  {
   "cell_type": "code",
   "execution_count": 93,
   "metadata": {},
   "outputs": [],
   "source": [
    "from utils.analysis.particle import Particle"
   ]
  },
  {
   "cell_type": "code",
   "execution_count": 141,
   "metadata": {},
   "outputs": [],
   "source": [
    "def get_min_dR(mask):\n",
    "    dR_dict = {}\n",
    "    for i,j in combos:\n",
    "        particle1 = Particle(kin_dict={\n",
    "            'pt' : tree.jet_ptRegressed[id_sort][mask][:,i],\n",
    "            'eta' : tree.jet_eta[id_sort][mask][:,i],\n",
    "            'phi' : tree.jet_phi[id_sort][mask][:,i],\n",
    "            'm' : tree.jet_mRegressed[id_sort][mask][:,i]\n",
    "            })\n",
    "        \n",
    "        particle2 = Particle(kin_dict={\n",
    "            'pt' : tree.jet_ptRegressed[id_sort][mask][:,j],\n",
    "            'eta' : tree.jet_eta[id_sort][mask][:,j],\n",
    "            'phi' : tree.jet_phi[id_sort][mask][:,j],\n",
    "            'm' : tree.jet_mRegressed[id_sort][mask][:,j]\n",
    "            })\n",
    "        \n",
    "        dR_dict[f\"{i}{j}\"] = particle1.deltaPhi(particle2)\n",
    "    min_dR = np.column_stack([dR_dict[key].to_numpy() for key in dR_dict.keys()]).min(axis=1)\n",
    "    return min_dR"
   ]
  },
  {
   "cell_type": "code",
   "execution_count": null,
   "metadata": {},
   "outputs": [],
   "source": []
  },
  {
   "cell_type": "code",
   "execution_count": 142,
   "metadata": {},
   "outputs": [],
   "source": [
    "min_dR_sixb = get_min_dR(sixb_event)\n",
    "min_dR_comb = get_min_dR(combinatoric_event)"
   ]
  },
  {
   "cell_type": "code",
   "execution_count": 143,
   "metadata": {},
   "outputs": [
    {
     "data": {
      "image/png": "[encoded data removed]",
      "text/plain": [
       "<Figure size 576x576 with 1 Axes>"
      ]
     },
     "metadata": {
      "needs_background": "light"
     },
     "output_type": "display_data"
    }
   ],
   "source": [
    "fig, ax = plt.subplots()\n",
    "\n",
    "_ = Hist(min_dR_sixb, bins=np.linspace(0,7,100), ax=ax)\n",
    "_ = Hist(min_dR_comb, bins=np.linspace(0,7,100), ax=ax)"
   ]
  },
  {
   "cell_type": "code",
   "execution_count": 105,
   "metadata": {},
   "outputs": [
    {
     "data": {
      "image/png": "[encoded data removed]",
      "text/plain": [
       "<Figure size 576x576 with 1 Axes>"
      ]
     },
     "metadata": {
      "needs_background": "light"
     },
     "output_type": "display_data"
    }
   ],
   "source": [
    "fig, ax = plt.subplots()\n",
    "\n",
    "_ = Hist(dR_dict['01'], bins=np.linspace(0,7,100), ax=ax)\n",
    "_ = Hist(dR_dict['23'], bins=np.linspace(0,7,100), ax=ax)\n",
    "_ = Hist(dR_dict['45'], bins=np.linspace(0,7,100), ax=ax)"
   ]
  },
  {
   "cell_type": "code",
   "execution_count": 118,
   "metadata": {},
   "outputs": [],
   "source": [
    "min_dR = np.column_stack((\n",
    "    dR_dict['01'].to_numpy(),\n",
    "    dR_dict['23'].to_numpy(),\n",
    "    dR_dict['45'].to_numpy())).min(axis=1)"
   ]
  },
  {
   "cell_type": "code",
   "execution_count": 120,
   "metadata": {},
   "outputs": [
    {
     "data": {
      "image/png": "[encoded data removed]",
      "text/plain": [
       "<Figure size 576x576 with 1 Axes>"
      ]
     },
     "metadata": {
      "needs_background": "light"
     },
     "output_type": "display_data"
    }
   ],
   "source": [
    "fig, ax = plt.subplots()\n",
    "\n",
    "_ = Hist(min_dR, bins=np.linspace(0,7,100), ax=ax)"
   ]
  },
  {
   "cell_type": "code",
   "execution_count": null,
   "metadata": {},
   "outputs": [],
   "source": []
  }
 ],
 "metadata": {
  "kernelspec": {
   "display_name": "Python 3.9.13 ('sixb')",
   "language": "python",
   "name": "python3"
  },
  "language_info": {
   "codemirror_mode": {
    "name": "ipython",
    "version": 3
   },
   "file_extension": ".py",
   "mimetype": "text/x-python",
   "name": "python",
   "nbconvert_exporter": "python",
   "pygments_lexer": "ipython3",
   "version": "3.9.13"
  },
  "orig_nbformat": 4,
  "vscode": {
   "interpreter": {
    "hash": "fd1aa3536eccf25268872fb0877ce450957c03a0faeafc6ef6bbb3c9838499b8"
   }
  }
 },
 "nbformat": 4,
 "nbformat_minor": 2
}
