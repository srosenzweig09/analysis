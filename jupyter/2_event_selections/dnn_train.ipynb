{
 "cells": [
  {
   "cell_type": "code",
   "execution_count": 1,
   "metadata": {},
   "outputs": [],
   "source": [
    "k = 'HX_dr'"
   ]
  },
  {
   "cell_type": "code",
   "execution_count": null,
   "metadata": {},
   "outputs": [],
   "source": [
    "k.startswith()"
   ]
  },
  {
   "cell_type": "code",
   "execution_count": 1,
   "metadata": {},
   "outputs": [],
   "source": [
    "import tensorflow as tf\n",
    "import tensorflow.python.util.deprecation as deprecation\n",
    "deprecation._PRINT_DEPRECATION_WARNINGS = False\n",
    "\n",
    "# from argparse import ArgumentParser\n",
    "# from configparser import ConfigParser\n",
    "from keras.models import Sequential, load_model\n",
    "from keras.layers import Activation, Dense#, AlphaDropout\n",
    "from keras.callbacks import EarlyStopping\n",
    "from keras.regularizers import l1, l2, l1_l2\n",
    "from keras.constraints import max_norm\n",
    "from keras.utils.generic_utils import get_custom_objects\n",
    "from pandas import DataFrame\n",
    "from sklearn.model_selection import train_test_split\n",
    "from sklearn.preprocessing import MinMaxScaler\n",
    "from tensorflow import compat\n",
    "import os\n",
    "os.environ['TF_CPP_MIN_LOG_LEVEL'] = '2' # suppress Keras/TF warnings\n",
    "compat.v1.logging.set_verbosity(compat.v1.logging.ERROR) # suppress Keras/TF warnings"
   ]
  },
  {
   "cell_type": "code",
   "execution_count": 2,
   "metadata": {},
   "outputs": [],
   "source": [
    "def gelu(x):\n",
    "    return 0.5 * x * (1 + tf.tanh(tf.sqrt(2 / np.pi) * (x + 0.044715 * tf.pow(x, 3))))\n",
    "get_custom_objects().update({'gelu': Activation(gelu)})"
   ]
  },
  {
   "cell_type": "code",
   "execution_count": 3,
   "metadata": {},
   "outputs": [],
   "source": [
    "# from utils.analysis.tree import Tree\n",
    "# bkg = Tree(get_qcd_ttbar('dnn'))"
   ]
  },
  {
   "cell_type": "code",
   "execution_count": 4,
   "metadata": {},
   "outputs": [
    {
     "name": "stdout",
     "output_type": "stream",
     "text": [
      "/eos/uscms/store/user/srosenzw/sixb/ntuples/Summer2018UL/cutflow_studies/presel/NMSSM/NMSSM_XYH_YToHH_6b_MX_700_MY_400_1M/ntuple.root\n"
     ]
    }
   ],
   "source": [
    "tree = Signal('/eos/uscms/store/user/srosenzw/sixb/ntuples/Summer2018UL/cutflow_studies/presel/NMSSM/NMSSM_XYH_YToHH_6b_MX_700_MY_400_1M/ntuple.root')"
   ]
  },
  {
   "cell_type": "code",
   "execution_count": 101,
   "metadata": {},
   "outputs": [
    {
     "data": {
      "text/plain": [
       "569341"
      ]
     },
     "execution_count": 101,
     "metadata": {},
     "output_type": "execute_result"
    }
   ],
   "source": [
    "tree.nevents"
   ]
  },
  {
   "cell_type": "code",
   "execution_count": 5,
   "metadata": {},
   "outputs": [],
   "source": [
    "n_maxbtag = ak.sum(tree.jet_signalId[ak.argsort(tree.jet_btag, axis=1, ascending=False)][:,:6] > -1, axis=1)\n",
    "n_in_event = ak.sum(ak.sort(tree.jet_signalId, axis=1, ascending=False)[:,:6] > -1, axis=1)"
   ]
  },
  {
   "cell_type": "code",
   "execution_count": 6,
   "metadata": {},
   "outputs": [
    {
     "data": {
      "image/png": "[encoded data removed]",
      "text/plain": [
       "<Figure size 864x720 with 2 Axes>"
      ]
     },
     "metadata": {
      "needs_background": "light"
     },
     "output_type": "display_data"
    }
   ],
   "source": [
    "fig, ax = plt.subplots(figsize=(12,10))\n",
    "\n",
    "n, ex, ey, im = Hist2d(n_in_event, n_maxbtag, bins=np.arange(8), ax=ax, density=1)\n",
    "\n",
    "fig.colorbar(im, ax=ax)\n",
    "ax.minorticks_off()"
   ]
  },
  {
   "cell_type": "code",
   "execution_count": 7,
   "metadata": {},
   "outputs": [
    {
     "data": {
      "text/plain": [
       "<Array [6, 5, 5, 4, 4, 5, ... 5, 5, 5, 5, 6, 5] type='569341 * int64'>"
      ]
     },
     "execution_count": 7,
     "metadata": {},
     "output_type": "execute_result"
    }
   ],
   "source": [
    "id_sort = ak.argsort(tree.jet_signalId, axis=1, ascending=False)[:,:6]\n",
    "tree.jet_signalId[id_sort]\n",
    "n_sigid_sort = ak.sum(tree.jet_signalId[id_sort] > -1, axis=1)\n",
    "n_sigid_sort"
   ]
  },
  {
   "cell_type": "code",
   "execution_count": 8,
   "metadata": {},
   "outputs": [
    {
     "data": {
      "text/plain": [
       "(<Array [[3, 2, 0, 4, 5, 1, ... 1, 2, 4, 3, -1]] type='569341 * var * int32'>,\n",
       " <Array [[0.999, 0.999, ... 0.731, 0.0296]] type='569341 * var * float32'>)"
      ]
     },
     "execution_count": 8,
     "metadata": {},
     "output_type": "execute_result"
    }
   ],
   "source": [
    "id_sort = ak.argsort(tree.jet_btag, axis=1, ascending=False)[:,:6]\n",
    "n_btag_sort = ak.sum(tree.jet_signalId[id_sort] > -1, axis=1)\n",
    "tree.jet_signalId[id_sort], tree.jet_btag[id_sort],"
   ]
  },
  {
   "cell_type": "code",
   "execution_count": 102,
   "metadata": {},
   "outputs": [
    {
     "data": {
      "text/plain": [
       "(<Array [6, 5, 5, 4, 4, 5, ... 5, 5, 5, 5, 6, 5] type='569341 * int64'>,\n",
       " <Array [6, 4, 5, 4, 4, 4, ... 4, 5, 5, 5, 6, 5] type='569341 * int64'>,\n",
       " <Array [6, 5, 5, 4, 4, 5, ... 5, 5, 5, 5, 6, 5] type='569341 * int64'>)"
      ]
     },
     "execution_count": 102,
     "metadata": {},
     "output_type": "execute_result"
    }
   ],
   "source": [
    "n_sigid_sort, n_btag_sort, n_in_event"
   ]
  },
  {
   "cell_type": "code",
   "execution_count": 103,
   "metadata": {},
   "outputs": [
    {
     "data": {
      "text/plain": [
       "(176884, 2779109, 2880221)"
      ]
     },
     "execution_count": 103,
     "metadata": {},
     "output_type": "execute_result"
    }
   ],
   "source": [
    "ak.sum(n_sigid_sort == 6), ak.sum(n_btag_sort), ak.sum(n_in_event)"
   ]
  },
  {
   "cell_type": "code",
   "execution_count": 10,
   "metadata": {},
   "outputs": [
    {
     "data": {
      "text/plain": [
       "(176884, 126140, False)"
      ]
     },
     "execution_count": 10,
     "metadata": {},
     "output_type": "execute_result"
    }
   ],
   "source": [
    "ak.sum(n_sigid_sort == 6), ak.sum(n_btag_sort == 6), ak.all(n_sigid_sort == n_btag_sort)"
   ]
  },
  {
   "cell_type": "code",
   "execution_count": 11,
   "metadata": {},
   "outputs": [],
   "source": [
    "sixb_event = ak.sum(tree.jet_signalId[id_sort] > -1, axis=1) == 6\n",
    "combinatoric_event = ak.sum(tree.jet_signalId[id_sort] > -1, axis=1) != 6\n",
    "\n",
    "assert not ak.any(sixb_event == combinatoric_event)\n",
    "\n",
    "n_sixb = ak.sum(sixb_event)\n",
    "\n",
    "combinatoric_event = ak.local_index(tree.n_jet)[combinatoric_event][:n_sixb]\n",
    "sixb_event = ak.local_index(tree.n_jet)[sixb_event]"
   ]
  },
  {
   "cell_type": "code",
   "execution_count": 12,
   "metadata": {},
   "outputs": [
    {
     "data": {
      "text/plain": [
       "(<Array [0, 6, 7, ... 569331, 569334, 569339] type='126140 * int64'>,\n",
       " <Array [1, 2, 3, 4, ... 162493, 162494, 162495] type='126140 * int64'>)"
      ]
     },
     "execution_count": 12,
     "metadata": {},
     "output_type": "execute_result"
    }
   ],
   "source": [
    "sixb_event, combinatoric_event"
   ]
  },
  {
   "cell_type": "code",
   "execution_count": 13,
   "metadata": {},
   "outputs": [],
   "source": [
    "from itertools import combinations"
   ]
  },
  {
   "cell_type": "code",
   "execution_count": 14,
   "metadata": {},
   "outputs": [
    {
     "data": {
      "text/plain": [
       "array([[0, 1, 2, 3, 4, 5],\n",
       "       [0, 1, 2, 4, 3, 5],\n",
       "       [0, 1, 2, 5, 3, 4],\n",
       "       [0, 2, 1, 3, 4, 5],\n",
       "       [0, 2, 1, 4, 3, 5],\n",
       "       [0, 2, 1, 5, 3, 4],\n",
       "       [0, 3, 1, 2, 4, 5],\n",
       "       [0, 3, 1, 4, 2, 5],\n",
       "       [0, 3, 1, 5, 2, 4],\n",
       "       [0, 4, 1, 2, 3, 5],\n",
       "       [0, 4, 1, 3, 2, 5],\n",
       "       [0, 4, 1, 5, 2, 3],\n",
       "       [0, 5, 1, 2, 3, 4],\n",
       "       [0, 5, 1, 3, 2, 4],\n",
       "       [0, 5, 1, 4, 2, 3]])"
      ]
     },
     "execution_count": 14,
     "metadata": {},
     "output_type": "execute_result"
    }
   ],
   "source": [
    "combos = list(combinations(np.arange(6),2))\n",
    "N = len(combos)\n",
    "\n",
    "indices = []\n",
    "for i,combo1 in enumerate(combos):\n",
    "    combo1 = np.array(combo1)\n",
    "    for j in range(i+1, N):\n",
    "        combo2 = np.array(combos[j])\n",
    "        # print(combo,combos[j])\n",
    "        if combo1[0] in combo2 or combo1[1] in combo2: continue\n",
    "        for k in range(j+1, N):\n",
    "            combo3 = np.array(combos[k])\n",
    "            if combo2[0] in combo3 or combo2[1] in combo3: continue\n",
    "            if combo1[0] in combo3 or combo1[1] in combo3: continue\n",
    "            indices.append(np.concatenate((combo1, combo2, combo3)))\n",
    "        # break\n",
    "    # break\n",
    "indices = np.row_stack([ind for ind in indices])\n",
    "indices"
   ]
  },
  {
   "cell_type": "code",
   "execution_count": 72,
   "metadata": {},
   "outputs": [],
   "source": [
    "def get_min_dR(ttree, mask, sort_id):\n",
    "    dR_dict = {}\n",
    "    for i,j in combos:\n",
    "        particle1 = Particle(kin_dict={\n",
    "            'pt' : ttree.jet_ptRegressed[sort_id][mask][:,i],\n",
    "            'eta' : ttree.jet_eta[sort_id][mask][:,i],\n",
    "            'phi' : ttree.jet_phi[sort_id][mask][:,i],\n",
    "            'm' : ttree.jet_mRegressed[sort_id][mask][:,i]\n",
    "            })\n",
    "        particle1.set_btag(ttree.jet_btag[sort_id][mask][:,i])\n",
    "        \n",
    "        particle2 = Particle(kin_dict={\n",
    "            'pt' : ttree.jet_ptRegressed[sort_id][mask][:,j],\n",
    "            'eta' : ttree.jet_eta[sort_id][mask][:,j],\n",
    "            'phi' : ttree.jet_phi[sort_id][mask][:,j],\n",
    "            'm' : ttree.jet_mRegressed[sort_id][mask][:,j]\n",
    "            })\n",
    "        particle2.set_btag(ttree.jet_btag[sort_id][mask][:,j])\n",
    "        \n",
    "        dR_dict[f\"{i}{j}\"] = particle1.deltaR(particle2)\n",
    "    \n",
    "    min_dR = np.column_stack([dR_dict[key].to_numpy() for key in dR_dict.keys()]).min(axis=1)\n",
    "    max_dR = np.column_stack([dR_dict[key].to_numpy() for key in dR_dict.keys()]).max(axis=1)\n",
    "    return min_dR, max_dR"
   ]
  },
  {
   "cell_type": "code",
   "execution_count": 16,
   "metadata": {},
   "outputs": [],
   "source": [
    "def get_pair_kin(ttree, mask, sort_id):\n",
    "    dPhi = []\n",
    "    dEta = []\n",
    "    for i,j in combos:\n",
    "        particle1 = Particle(kin_dict={\n",
    "            'pt' : ttree.jet_ptRegressed[sort_id][mask][:,i],\n",
    "            'eta' : ttree.jet_eta[sort_id][mask][:,i],\n",
    "            'phi' : ttree.jet_phi[sort_id][mask][:,i],\n",
    "            'm' : ttree.jet_mRegressed[sort_id][mask][:,i]\n",
    "            })\n",
    "        \n",
    "        particle2 = Particle(kin_dict={\n",
    "            'pt' : ttree.jet_ptRegressed[sort_id][mask][:,j],\n",
    "            'eta' : ttree.jet_eta[sort_id][mask][:,j],\n",
    "            'phi' : ttree.jet_phi[sort_id][mask][:,j],\n",
    "            'm' : ttree.jet_mRegressed[sort_id][mask][:,j]\n",
    "            })\n",
    "        \n",
    "        dPhi.append(particle1.deltaPhi(particle2).to_numpy())\n",
    "        dEta.append(particle1.deltaEta(particle2).to_numpy())\n",
    "    \n",
    "    dPhi = np.column_stack((np.array((dPhi))))\n",
    "    dEta = np.column_stack((np.array((dEta))))\n",
    "    # min_dR = np.column_stack([dR_dict[key].to_numpy() for key in dR_dict.keys()]).min(axis=1)\n",
    "    return dPhi, dEta"
   ]
  },
  {
   "cell_type": "code",
   "execution_count": 73,
   "metadata": {},
   "outputs": [],
   "source": [
    "min_dR_sixb, max_dR_sixb = get_min_dR(tree, sixb_event, id_sort)\n",
    "min_dR_comb, max_dR_comb = get_min_dR(tree, combinatoric_event, id_sort)"
   ]
  },
  {
   "cell_type": "code",
   "execution_count": 18,
   "metadata": {},
   "outputs": [
    {
     "data": {
      "text/plain": [
       "array([0.96852756, 0.49402815, 0.5518198 , ..., 0.72518146, 1.1474831 ,\n",
       "       0.8472547 ], dtype=float32)"
      ]
     },
     "execution_count": 18,
     "metadata": {},
     "output_type": "execute_result"
    }
   ],
   "source": [
    "min_dR_sixb"
   ]
  },
  {
   "cell_type": "code",
   "execution_count": 83,
   "metadata": {},
   "outputs": [],
   "source": [
    "dPhi_sixb, dEta_sixb = get_pair_kin(tree, sixb_event, id_sort)\n",
    "dPhi_comb, dEta_comb = get_pair_kin(tree, combinatoric_event, id_sort)"
   ]
  },
  {
   "cell_type": "code",
   "execution_count": 20,
   "metadata": {},
   "outputs": [
    {
     "data": {
      "text/plain": [
       "(126140, 15)"
      ]
     },
     "execution_count": 20,
     "metadata": {},
     "output_type": "execute_result"
    }
   ],
   "source": [
    "dPhi_sixb.shape"
   ]
  },
  {
   "cell_type": "code",
   "execution_count": 87,
   "metadata": {},
   "outputs": [],
   "source": [
    "sixb_features = np.column_stack((\n",
    "    tree.jet_ptRegressed[id_sort][sixb_event].to_numpy()[:,5],\n",
    "    abs(tree.jet_eta[id_sort][sixb_event].to_numpy())[:,5],\n",
    "    tree.jet_btag[id_sort][sixb_event].to_numpy()[:,5],\n",
    "    min_dR_sixb,\n",
    "    # dPhi_sixb,\n",
    "    # dEta_sixb\n",
    "))\n",
    "\n",
    "sixb_labels = np.column_stack((np.ones(len(sixb_features)), np.zeros(len(sixb_features))))\n",
    "\n",
    "comb_features = np.column_stack((\n",
    "    tree.jet_ptRegressed[id_sort][combinatoric_event].to_numpy()[:,5],\n",
    "    abs(tree.jet_eta[id_sort][combinatoric_event].to_numpy())[:,5],\n",
    "    tree.jet_btag[id_sort][combinatoric_event].to_numpy()[:,5],\n",
    "    min_dR_comb,\n",
    "    # dPhi_comb,\n",
    "    # dEta_comb\n",
    "))\n",
    "comb_labels = np.column_stack((np.zeros(len(comb_features)), np.ones(len(comb_features))))\n",
    "\n",
    "features = np.row_stack((sixb_features, comb_features))\n",
    "labels = np.row_stack((sixb_labels, comb_labels))"
   ]
  },
  {
   "cell_type": "code",
   "execution_count": 47,
   "metadata": {},
   "outputs": [
    {
     "data": {
      "text/plain": [
       "<Array [61.5, 142, 131, ... 82.8, 185, 185] type='126140 * float32'>"
      ]
     },
     "execution_count": 47,
     "metadata": {},
     "output_type": "execute_result"
    }
   ],
   "source": [
    "tree.jet_ptRegressed[id_sort][sixb_event][:,0]"
   ]
  },
  {
   "cell_type": "code",
   "execution_count": 86,
   "metadata": {},
   "outputs": [
    {
     "data": {
      "image/png": "[encoded data removed]",
      "text/plain": [
       "<Figure size 720x720 with 1 Axes>"
      ]
     },
     "metadata": {
      "needs_background": "light"
     },
     "output_type": "display_data"
    }
   ],
   "source": [
    "fig, ax = plt.subplots()\n",
    "\n",
    "Hist(dPhi_sixb[:,5], bins=np.linspace(-3.14,3.14,100), ax=ax)\n",
    "Hist(dPhi_comb[:,5], bins=np.linspace(-3.14,3.14,100), ax=ax)\n",
    "plt.show()"
   ]
  },
  {
   "cell_type": "code",
   "execution_count": 33,
   "metadata": {},
   "outputs": [
    {
     "data": {
      "text/plain": [
       "array([126140., 126140.])"
      ]
     },
     "execution_count": 33,
     "metadata": {},
     "output_type": "execute_result"
    }
   ],
   "source": [
    "labels.sum(axis=0)"
   ]
  },
  {
   "cell_type": "code",
   "execution_count": 34,
   "metadata": {},
   "outputs": [
    {
     "data": {
      "text/plain": [
       "((252280, 49), (252280, 2))"
      ]
     },
     "execution_count": 34,
     "metadata": {},
     "output_type": "execute_result"
    }
   ],
   "source": [
    "features.shape, labels.shape"
   ]
  },
  {
   "cell_type": "code",
   "execution_count": 88,
   "metadata": {},
   "outputs": [],
   "source": [
    "scaler = MinMaxScaler()\n",
    "scaler.fit(features)\n",
    "x = scaler.transform(features)\n",
    "\n",
    "val_size = 0.10\n",
    "x_train, x_val, y_train, y_val = train_test_split(x, labels, test_size=val_size)\n",
    "\n",
    "param_dim = int(np.shape(features)[1])"
   ]
  },
  {
   "cell_type": "code",
   "execution_count": 77,
   "metadata": {},
   "outputs": [
    {
     "data": {
      "text/plain": [
       "49"
      ]
     },
     "execution_count": 77,
     "metadata": {},
     "output_type": "execute_result"
    }
   ],
   "source": [
    "param_dim"
   ]
  },
  {
   "cell_type": "code",
   "execution_count": 95,
   "metadata": {},
   "outputs": [],
   "source": [
    "# Hidden hyperparameters\n",
    "hidden_activations = 'selu'\n",
    "nodes              = [40,40]\n",
    "nlayers            = len(nodes)\n",
    "\n",
    "# Output hyperparameters\n",
    "output_activation  = 'softmax'\n",
    "output_nodes       = 2\n",
    "\n",
    "optimizer_name     = 'nadam'\n",
    "loss_function      = 'binary_crossentropy'\n",
    "nepochs            = 50\n",
    "batch_size         = 200\n",
    "\n",
    "met = ['accuracy']\n",
    "\n",
    "lr = 0.001\n",
    "beta1 = 0.9\n",
    "beta2 = 0.999\n",
    "epsilon = 1e-7\n",
    "optimizer = tf.keras.optimizers.Nadam(\n",
    "    learning_rate=lr, beta_1=beta1, beta_2=beta2, epsilon=epsilon, name=\"Nadam\")\n",
    "\n",
    "es = EarlyStopping(monitor='loss', restore_best_weights=True, patience=10)"
   ]
  },
  {
   "cell_type": "code",
   "execution_count": 96,
   "metadata": {},
   "outputs": [],
   "source": [
    "model = Sequential()\n",
    "\n",
    "model.add(Dense(nodes[0], input_dim=param_dim, activation=hidden_activations))\n",
    "for i in range(1,nlayers):\n",
    "    model.add(Dense(int(nodes[i]), activation=hidden_activations, kernel_constraint=max_norm(1.0), kernel_regularizer=l1_l2(), bias_constraint=max_norm(1.0)))\n",
    "    # model.add(Dense(int(nodes[i]), kernel_initializer='lecun_normal', activation=hidden_activations, kernel_constraint=max_norm(1.0), kernel_regularizer=l1_l2(), bias_constraint=max_norm(1.0)))\n",
    "    # if bool(args.dropout): model.add(AlphaDropout(0.2)) \n",
    "model.add(Dense(output_nodes, activation=output_activation))"
   ]
  },
  {
   "cell_type": "code",
   "execution_count": 97,
   "metadata": {},
   "outputs": [],
   "source": [
    "model.compile(\n",
    "    loss=loss_function, \n",
    "    optimizer=optimizer, \n",
    "    metrics=met)"
   ]
  },
  {
   "cell_type": "code",
   "execution_count": 98,
   "metadata": {},
   "outputs": [
    {
     "name": "stdout",
     "output_type": "stream",
     "text": [
      "Input parameters:            4\n",
      "Optimizer:                   <keras.optimizers.optimizer_v2.nadam.Nadam object at 0x7f73525cbe20>\n",
      "Learning Rate:               0.001\n",
      "beta_1:                      0.9\n",
      "beta_2:                      0.999\n",
      "epsilon:                     1e-07\n",
      "Loss:                        binary_crossentropy\n",
      "Num epochs:                  50\n",
      "Batch size:                  200\n",
      "Num hidden layers:           2\n",
      "Input activation function:   selu\n",
      "Hidden layer nodes:          [40, 40]\n",
      "Hidden activation functions: selu\n",
      "Num output nodes:            2\n",
      "Output activation function:  Softmax\n"
     ]
    }
   ],
   "source": [
    "nn_info_list = [\n",
    "    f\"Input parameters:            {param_dim}\\n\",\n",
    "    f\"Optimizer:                   {optimizer}\\n\",\n",
    "    f\"Learning Rate:               {lr}\\n\",\n",
    "    f\"beta_1:                      {beta1}\\n\",\n",
    "    f\"beta_2:                      {beta2}\\n\",\n",
    "    f\"epsilon:                     {epsilon}\\n\",\n",
    "    f\"Loss:                        {loss_function}\\n\",\n",
    "    f\"Num epochs:                  {nepochs}\\n\",\n",
    "    f\"Batch size:                  {batch_size}\\n\",\n",
    "    f\"Num hidden layers:           {nlayers}\\n\",\n",
    "    f\"Input activation function:   {hidden_activations}\\n\",\n",
    "    f\"Hidden layer nodes:          {nodes}\\n\",\n",
    "    f\"Hidden activation functions: {hidden_activations}\\n\",\n",
    "    f\"Num output nodes:            {output_nodes}\\n\",\n",
    "    f\"Output activation function:  {output_activation.capitalize()}\\n\"]\n",
    "\n",
    "for line in nn_info_list:\n",
    "    print(line[:-1])"
   ]
  },
  {
   "cell_type": "code",
   "execution_count": 99,
   "metadata": {},
   "outputs": [],
   "source": [
    "tf.config.run_functions_eagerly(True)"
   ]
  },
  {
   "cell_type": "markdown",
   "metadata": {},
   "source": [
    "InternalError: Failed copying input tensor from /job:localhost/replica:0/task:0/device:CPU:0 to /job:localhost/replica:0/task:0/device:GPU:0 in order to run _EagerConst: Dst tensor is not initialized"
   ]
  },
  {
   "cell_type": "code",
   "execution_count": 100,
   "metadata": {},
   "outputs": [
    {
     "name": "stdout",
     "output_type": "stream",
     "text": [
      "Epoch 1/50\n",
      "1136/1136 [==============================] - 28s 25ms/step - loss: 0.8309 - accuracy: 0.7137 - val_loss: 0.5895 - val_accuracy: 0.7345\n",
      "Epoch 2/50\n",
      "1136/1136 [==============================] - 29s 25ms/step - loss: 0.5800 - accuracy: 0.7311 - val_loss: 0.5720 - val_accuracy: 0.7338\n",
      "Epoch 3/50\n",
      "1136/1136 [==============================] - 31s 27ms/step - loss: 0.5691 - accuracy: 0.7338 - val_loss: 0.5633 - val_accuracy: 0.7358\n",
      "Epoch 4/50\n",
      "1136/1136 [==============================] - 33s 29ms/step - loss: 0.5624 - accuracy: 0.7367 - val_loss: 0.5585 - val_accuracy: 0.7372\n",
      "Epoch 5/50\n",
      "1136/1136 [==============================] - 28s 25ms/step - loss: 0.5582 - accuracy: 0.7380 - val_loss: 0.5542 - val_accuracy: 0.7394\n",
      "Epoch 6/50\n",
      "1136/1136 [==============================] - 31s 27ms/step - loss: 0.5552 - accuracy: 0.7390 - val_loss: 0.5519 - val_accuracy: 0.7425\n",
      "Epoch 7/50\n",
      "1049/1136 [==========================>...] - ETA: 2s - loss: 0.5536 - accuracy: 0.7397"
     ]
    },
    {
     "ename": "KeyboardInterrupt",
     "evalue": "",
     "output_type": "error",
     "traceback": [
      "\u001b[0;31m---------------------------------------------------------------------------\u001b[0m",
      "\u001b[0;31mKeyboardInterrupt\u001b[0m                         Traceback (most recent call last)",
      "\u001b[1;32m/uscms/home/srosenzw/nobackup/workarea/higgs/sixb_analysis/CMSSW_10_6_19_patch2/src/sixb/jupyter/2_event_selections/dnn_train.ipynb Cell 34\u001b[0m in \u001b[0;36m<cell line: 1>\u001b[0;34m()\u001b[0m\n\u001b[0;32m----> <a href='vscode-notebook-cell://ssh-remote%2Bsrosenzw@cmslpcgpu2.fnal.gov/uscms/home/srosenzw/nobackup/workarea/higgs/sixb_analysis/CMSSW_10_6_19_patch2/src/sixb/jupyter/2_event_selections/dnn_train.ipynb#X43sdnNjb2RlLXJlbW90ZQ%3D%3D?line=0'>1</a>\u001b[0m history \u001b[39m=\u001b[39m model\u001b[39m.\u001b[39;49mfit(x_train,\n\u001b[1;32m      <a href='vscode-notebook-cell://ssh-remote%2Bsrosenzw@cmslpcgpu2.fnal.gov/uscms/home/srosenzw/nobackup/workarea/higgs/sixb_analysis/CMSSW_10_6_19_patch2/src/sixb/jupyter/2_event_selections/dnn_train.ipynb#X43sdnNjb2RlLXJlbW90ZQ%3D%3D?line=1'>2</a>\u001b[0m                     y_train, \n\u001b[1;32m      <a href='vscode-notebook-cell://ssh-remote%2Bsrosenzw@cmslpcgpu2.fnal.gov/uscms/home/srosenzw/nobackup/workarea/higgs/sixb_analysis/CMSSW_10_6_19_patch2/src/sixb/jupyter/2_event_selections/dnn_train.ipynb#X43sdnNjb2RlLXJlbW90ZQ%3D%3D?line=2'>3</a>\u001b[0m                     validation_data\u001b[39m=\u001b[39;49m(x_val, y_val), \n\u001b[1;32m      <a href='vscode-notebook-cell://ssh-remote%2Bsrosenzw@cmslpcgpu2.fnal.gov/uscms/home/srosenzw/nobackup/workarea/higgs/sixb_analysis/CMSSW_10_6_19_patch2/src/sixb/jupyter/2_event_selections/dnn_train.ipynb#X43sdnNjb2RlLXJlbW90ZQ%3D%3D?line=3'>4</a>\u001b[0m                     epochs\u001b[39m=\u001b[39;49mnepochs, \n\u001b[1;32m      <a href='vscode-notebook-cell://ssh-remote%2Bsrosenzw@cmslpcgpu2.fnal.gov/uscms/home/srosenzw/nobackup/workarea/higgs/sixb_analysis/CMSSW_10_6_19_patch2/src/sixb/jupyter/2_event_selections/dnn_train.ipynb#X43sdnNjb2RlLXJlbW90ZQ%3D%3D?line=4'>5</a>\u001b[0m                     batch_size\u001b[39m=\u001b[39;49mbatch_size, \n\u001b[1;32m      <a href='vscode-notebook-cell://ssh-remote%2Bsrosenzw@cmslpcgpu2.fnal.gov/uscms/home/srosenzw/nobackup/workarea/higgs/sixb_analysis/CMSSW_10_6_19_patch2/src/sixb/jupyter/2_event_selections/dnn_train.ipynb#X43sdnNjb2RlLXJlbW90ZQ%3D%3D?line=5'>6</a>\u001b[0m                     callbacks\u001b[39m=\u001b[39;49m[es])\n\u001b[1;32m      <a href='vscode-notebook-cell://ssh-remote%2Bsrosenzw@cmslpcgpu2.fnal.gov/uscms/home/srosenzw/nobackup/workarea/higgs/sixb_analysis/CMSSW_10_6_19_patch2/src/sixb/jupyter/2_event_selections/dnn_train.ipynb#X43sdnNjb2RlLXJlbW90ZQ%3D%3D?line=7'>8</a>\u001b[0m model\u001b[39m.\u001b[39msummary()\n",
      "File \u001b[0;32m/uscms_data/d3/srosenzw/mambaforge/envs/sixb/lib/python3.9/site-packages/keras/utils/traceback_utils.py:64\u001b[0m, in \u001b[0;36mfilter_traceback.<locals>.error_handler\u001b[0;34m(*args, **kwargs)\u001b[0m\n\u001b[1;32m     62\u001b[0m filtered_tb \u001b[39m=\u001b[39m \u001b[39mNone\u001b[39;00m\n\u001b[1;32m     63\u001b[0m \u001b[39mtry\u001b[39;00m:\n\u001b[0;32m---> 64\u001b[0m   \u001b[39mreturn\u001b[39;00m fn(\u001b[39m*\u001b[39;49margs, \u001b[39m*\u001b[39;49m\u001b[39m*\u001b[39;49mkwargs)\n\u001b[1;32m     65\u001b[0m \u001b[39mexcept\u001b[39;00m \u001b[39mException\u001b[39;00m \u001b[39mas\u001b[39;00m e:  \u001b[39m# pylint: disable=broad-except\u001b[39;00m\n\u001b[1;32m     66\u001b[0m   filtered_tb \u001b[39m=\u001b[39m _process_traceback_frames(e\u001b[39m.\u001b[39m__traceback__)\n",
      "File \u001b[0;32m/uscms_data/d3/srosenzw/mambaforge/envs/sixb/lib/python3.9/site-packages/keras/engine/training.py:1409\u001b[0m, in \u001b[0;36mModel.fit\u001b[0;34m(self, x, y, batch_size, epochs, verbose, callbacks, validation_split, validation_data, shuffle, class_weight, sample_weight, initial_epoch, steps_per_epoch, validation_steps, validation_batch_size, validation_freq, max_queue_size, workers, use_multiprocessing)\u001b[0m\n\u001b[1;32m   1402\u001b[0m \u001b[39mwith\u001b[39;00m tf\u001b[39m.\u001b[39mprofiler\u001b[39m.\u001b[39mexperimental\u001b[39m.\u001b[39mTrace(\n\u001b[1;32m   1403\u001b[0m     \u001b[39m'\u001b[39m\u001b[39mtrain\u001b[39m\u001b[39m'\u001b[39m,\n\u001b[1;32m   1404\u001b[0m     epoch_num\u001b[39m=\u001b[39mepoch,\n\u001b[1;32m   1405\u001b[0m     step_num\u001b[39m=\u001b[39mstep,\n\u001b[1;32m   1406\u001b[0m     batch_size\u001b[39m=\u001b[39mbatch_size,\n\u001b[1;32m   1407\u001b[0m     _r\u001b[39m=\u001b[39m\u001b[39m1\u001b[39m):\n\u001b[1;32m   1408\u001b[0m   callbacks\u001b[39m.\u001b[39mon_train_batch_begin(step)\n\u001b[0;32m-> 1409\u001b[0m   tmp_logs \u001b[39m=\u001b[39m \u001b[39mself\u001b[39;49m\u001b[39m.\u001b[39;49mtrain_function(iterator)\n\u001b[1;32m   1410\u001b[0m   \u001b[39mif\u001b[39;00m data_handler\u001b[39m.\u001b[39mshould_sync:\n\u001b[1;32m   1411\u001b[0m     context\u001b[39m.\u001b[39masync_wait()\n",
      "File \u001b[0;32m/uscms_data/d3/srosenzw/mambaforge/envs/sixb/lib/python3.9/site-packages/keras/engine/training.py:1051\u001b[0m, in \u001b[0;36mModel.make_train_function.<locals>.train_function\u001b[0;34m(iterator)\u001b[0m\n\u001b[1;32m   1049\u001b[0m \u001b[39mdef\u001b[39;00m \u001b[39mtrain_function\u001b[39m(iterator):\n\u001b[1;32m   1050\u001b[0m   \u001b[39m\"\"\"Runs a training execution with a single step.\"\"\"\u001b[39;00m\n\u001b[0;32m-> 1051\u001b[0m   \u001b[39mreturn\u001b[39;00m step_function(\u001b[39mself\u001b[39;49m, iterator)\n",
      "File \u001b[0;32m/uscms_data/d3/srosenzw/mambaforge/envs/sixb/lib/python3.9/site-packages/keras/engine/training.py:1040\u001b[0m, in \u001b[0;36mModel.make_train_function.<locals>.step_function\u001b[0;34m(model, iterator)\u001b[0m\n\u001b[1;32m   1037\u001b[0m   run_step \u001b[39m=\u001b[39m tf\u001b[39m.\u001b[39mfunction(\n\u001b[1;32m   1038\u001b[0m       run_step, jit_compile\u001b[39m=\u001b[39m\u001b[39mTrue\u001b[39;00m, reduce_retracing\u001b[39m=\u001b[39m\u001b[39mTrue\u001b[39;00m)\n\u001b[1;32m   1039\u001b[0m data \u001b[39m=\u001b[39m \u001b[39mnext\u001b[39m(iterator)\n\u001b[0;32m-> 1040\u001b[0m outputs \u001b[39m=\u001b[39m model\u001b[39m.\u001b[39;49mdistribute_strategy\u001b[39m.\u001b[39;49mrun(run_step, args\u001b[39m=\u001b[39;49m(data,))\n\u001b[1;32m   1041\u001b[0m outputs \u001b[39m=\u001b[39m reduce_per_replica(\n\u001b[1;32m   1042\u001b[0m     outputs, \u001b[39mself\u001b[39m\u001b[39m.\u001b[39mdistribute_strategy, reduction\u001b[39m=\u001b[39m\u001b[39m'\u001b[39m\u001b[39mfirst\u001b[39m\u001b[39m'\u001b[39m)\n\u001b[1;32m   1043\u001b[0m \u001b[39mreturn\u001b[39;00m outputs\n",
      "File \u001b[0;32m/uscms_data/d3/srosenzw/mambaforge/envs/sixb/lib/python3.9/site-packages/tensorflow/python/distribute/distribute_lib.py:1312\u001b[0m, in \u001b[0;36mStrategyBase.run\u001b[0;34m(***failed resolving arguments***)\u001b[0m\n\u001b[1;32m   1307\u001b[0m \u001b[39mwith\u001b[39;00m \u001b[39mself\u001b[39m\u001b[39m.\u001b[39mscope():\n\u001b[1;32m   1308\u001b[0m   \u001b[39m# tf.distribute supports Eager functions, so AutoGraph should not be\u001b[39;00m\n\u001b[1;32m   1309\u001b[0m   \u001b[39m# applied when the caller is also in Eager mode.\u001b[39;00m\n\u001b[1;32m   1310\u001b[0m   fn \u001b[39m=\u001b[39m autograph\u001b[39m.\u001b[39mtf_convert(\n\u001b[1;32m   1311\u001b[0m       fn, autograph_ctx\u001b[39m.\u001b[39mcontrol_status_ctx(), convert_by_default\u001b[39m=\u001b[39m\u001b[39mFalse\u001b[39;00m)\n\u001b[0;32m-> 1312\u001b[0m   \u001b[39mreturn\u001b[39;00m \u001b[39mself\u001b[39;49m\u001b[39m.\u001b[39;49m_extended\u001b[39m.\u001b[39;49mcall_for_each_replica(fn, args\u001b[39m=\u001b[39;49margs, kwargs\u001b[39m=\u001b[39;49mkwargs)\n",
      "File \u001b[0;32m/uscms_data/d3/srosenzw/mambaforge/envs/sixb/lib/python3.9/site-packages/tensorflow/python/distribute/distribute_lib.py:2888\u001b[0m, in \u001b[0;36mStrategyExtendedV1.call_for_each_replica\u001b[0;34m(self, fn, args, kwargs)\u001b[0m\n\u001b[1;32m   2886\u001b[0m   kwargs \u001b[39m=\u001b[39m {}\n\u001b[1;32m   2887\u001b[0m \u001b[39mwith\u001b[39;00m \u001b[39mself\u001b[39m\u001b[39m.\u001b[39m_container_strategy()\u001b[39m.\u001b[39mscope():\n\u001b[0;32m-> 2888\u001b[0m   \u001b[39mreturn\u001b[39;00m \u001b[39mself\u001b[39;49m\u001b[39m.\u001b[39;49m_call_for_each_replica(fn, args, kwargs)\n",
      "File \u001b[0;32m/uscms_data/d3/srosenzw/mambaforge/envs/sixb/lib/python3.9/site-packages/tensorflow/python/distribute/distribute_lib.py:3689\u001b[0m, in \u001b[0;36m_DefaultDistributionExtended._call_for_each_replica\u001b[0;34m(self, fn, args, kwargs)\u001b[0m\n\u001b[1;32m   3687\u001b[0m \u001b[39mdef\u001b[39;00m \u001b[39m_call_for_each_replica\u001b[39m(\u001b[39mself\u001b[39m, fn, args, kwargs):\n\u001b[1;32m   3688\u001b[0m   \u001b[39mwith\u001b[39;00m ReplicaContext(\u001b[39mself\u001b[39m\u001b[39m.\u001b[39m_container_strategy(), replica_id_in_sync_group\u001b[39m=\u001b[39m\u001b[39m0\u001b[39m):\n\u001b[0;32m-> 3689\u001b[0m     \u001b[39mreturn\u001b[39;00m fn(\u001b[39m*\u001b[39;49margs, \u001b[39m*\u001b[39;49m\u001b[39m*\u001b[39;49mkwargs)\n",
      "File \u001b[0;32m/uscms_data/d3/srosenzw/mambaforge/envs/sixb/lib/python3.9/site-packages/tensorflow/python/autograph/impl/api.py:595\u001b[0m, in \u001b[0;36mcall_with_unspecified_conversion_status.<locals>.wrapper\u001b[0;34m(*args, **kwargs)\u001b[0m\n\u001b[1;32m    593\u001b[0m \u001b[39mdef\u001b[39;00m \u001b[39mwrapper\u001b[39m(\u001b[39m*\u001b[39margs, \u001b[39m*\u001b[39m\u001b[39m*\u001b[39mkwargs):\n\u001b[1;32m    594\u001b[0m   \u001b[39mwith\u001b[39;00m ag_ctx\u001b[39m.\u001b[39mControlStatusCtx(status\u001b[39m=\u001b[39mag_ctx\u001b[39m.\u001b[39mStatus\u001b[39m.\u001b[39mUNSPECIFIED):\n\u001b[0;32m--> 595\u001b[0m     \u001b[39mreturn\u001b[39;00m func(\u001b[39m*\u001b[39;49margs, \u001b[39m*\u001b[39;49m\u001b[39m*\u001b[39;49mkwargs)\n",
      "File \u001b[0;32m/uscms_data/d3/srosenzw/mambaforge/envs/sixb/lib/python3.9/site-packages/keras/engine/training.py:1030\u001b[0m, in \u001b[0;36mModel.make_train_function.<locals>.step_function.<locals>.run_step\u001b[0;34m(data)\u001b[0m\n\u001b[1;32m   1029\u001b[0m \u001b[39mdef\u001b[39;00m \u001b[39mrun_step\u001b[39m(data):\n\u001b[0;32m-> 1030\u001b[0m   outputs \u001b[39m=\u001b[39m model\u001b[39m.\u001b[39;49mtrain_step(data)\n\u001b[1;32m   1031\u001b[0m   \u001b[39m# Ensure counter is updated only if `train_step` succeeds.\u001b[39;00m\n\u001b[1;32m   1032\u001b[0m   \u001b[39mwith\u001b[39;00m tf\u001b[39m.\u001b[39mcontrol_dependencies(_minimum_control_deps(outputs)):\n",
      "File \u001b[0;32m/uscms_data/d3/srosenzw/mambaforge/envs/sixb/lib/python3.9/site-packages/keras/engine/training.py:890\u001b[0m, in \u001b[0;36mModel.train_step\u001b[0;34m(self, data)\u001b[0m\n\u001b[1;32m    888\u001b[0m \u001b[39mwith\u001b[39;00m tf\u001b[39m.\u001b[39mGradientTape() \u001b[39mas\u001b[39;00m tape:\n\u001b[1;32m    889\u001b[0m   y_pred \u001b[39m=\u001b[39m \u001b[39mself\u001b[39m(x, training\u001b[39m=\u001b[39m\u001b[39mTrue\u001b[39;00m)\n\u001b[0;32m--> 890\u001b[0m   loss \u001b[39m=\u001b[39m \u001b[39mself\u001b[39;49m\u001b[39m.\u001b[39;49mcompute_loss(x, y, y_pred, sample_weight)\n\u001b[1;32m    891\u001b[0m \u001b[39mself\u001b[39m\u001b[39m.\u001b[39m_validate_target_and_loss(y, loss)\n\u001b[1;32m    892\u001b[0m \u001b[39m# Run backwards pass.\u001b[39;00m\n",
      "File \u001b[0;32m/uscms_data/d3/srosenzw/mambaforge/envs/sixb/lib/python3.9/site-packages/keras/engine/training.py:949\u001b[0m, in \u001b[0;36mModel.compute_loss\u001b[0;34m(***failed resolving arguments***)\u001b[0m\n\u001b[1;32m    897\u001b[0m \u001b[39m\"\"\"Compute the total loss, validate it, and return it.\u001b[39;00m\n\u001b[1;32m    898\u001b[0m \n\u001b[1;32m    899\u001b[0m \u001b[39mSubclasses can optionally override this method to provide custom loss\u001b[39;00m\n\u001b[0;32m   (...)\u001b[0m\n\u001b[1;32m    945\u001b[0m \u001b[39m  the case when called by `Model.test_step`).\u001b[39;00m\n\u001b[1;32m    946\u001b[0m \u001b[39m\"\"\"\u001b[39;00m\n\u001b[1;32m    947\u001b[0m \u001b[39mdel\u001b[39;00m x  \u001b[39m# The default implementation does not use `x`.\u001b[39;00m\n\u001b[1;32m    948\u001b[0m \u001b[39mreturn\u001b[39;00m \u001b[39mself\u001b[39m\u001b[39m.\u001b[39mcompiled_loss(\n\u001b[0;32m--> 949\u001b[0m     y, y_pred, sample_weight, regularization_losses\u001b[39m=\u001b[39m\u001b[39mself\u001b[39;49m\u001b[39m.\u001b[39;49mlosses)\n",
      "File \u001b[0;32m/uscms_data/d3/srosenzw/mambaforge/envs/sixb/lib/python3.9/site-packages/keras/engine/base_layer.py:1268\u001b[0m, in \u001b[0;36mLayer.losses\u001b[0;34m(self)\u001b[0m\n\u001b[1;32m   1266\u001b[0m   collected_losses\u001b[39m.\u001b[39mextend(layer\u001b[39m.\u001b[39m_losses)\n\u001b[1;32m   1267\u001b[0m \u001b[39mfor\u001b[39;00m regularizer \u001b[39min\u001b[39;00m layer\u001b[39m.\u001b[39m_callable_losses:\n\u001b[0;32m-> 1268\u001b[0m   loss_tensor \u001b[39m=\u001b[39m regularizer()\n\u001b[1;32m   1269\u001b[0m   \u001b[39mif\u001b[39;00m loss_tensor \u001b[39mis\u001b[39;00m \u001b[39mnot\u001b[39;00m \u001b[39mNone\u001b[39;00m:\n\u001b[1;32m   1270\u001b[0m     collected_losses\u001b[39m.\u001b[39mappend(loss_tensor)\n",
      "File \u001b[0;32m/uscms_data/d3/srosenzw/mambaforge/envs/sixb/lib/python3.9/site-packages/keras/engine/base_layer.py:1342\u001b[0m, in \u001b[0;36mLayer.add_loss.<locals>._tag_callable\u001b[0;34m(loss)\u001b[0m\n\u001b[1;32m   1338\u001b[0m \u001b[39mif\u001b[39;00m callable(loss):\n\u001b[1;32m   1339\u001b[0m   \u001b[39m# We run the loss without autocasting, as regularizers are often\u001b[39;00m\n\u001b[1;32m   1340\u001b[0m   \u001b[39m# numerically unstable in float16.\u001b[39;00m\n\u001b[1;32m   1341\u001b[0m   \u001b[39mwith\u001b[39;00m autocast_variable\u001b[39m.\u001b[39menable_auto_cast_variables(\u001b[39mNone\u001b[39;00m):\n\u001b[0;32m-> 1342\u001b[0m     loss \u001b[39m=\u001b[39m loss()\n\u001b[1;32m   1343\u001b[0m \u001b[39mif\u001b[39;00m loss \u001b[39mis\u001b[39;00m \u001b[39mNone\u001b[39;00m:\n\u001b[1;32m   1344\u001b[0m   \u001b[39mreturn\u001b[39;00m \u001b[39mNone\u001b[39;00m  \u001b[39m# Will be filtered out when computing the .losses property\u001b[39;00m\n",
      "File \u001b[0;32m/uscms_data/d3/srosenzw/mambaforge/envs/sixb/lib/python3.9/site-packages/keras/engine/base_layer.py:2547\u001b[0m, in \u001b[0;36mLayer._handle_weight_regularization.<locals>._loss_for_variable\u001b[0;34m(v)\u001b[0m\n\u001b[1;32m   2545\u001b[0m \u001b[39m\"\"\"Creates a regularization loss `Tensor` for variable `v`.\"\"\"\u001b[39;00m\n\u001b[1;32m   2546\u001b[0m \u001b[39mwith\u001b[39;00m backend\u001b[39m.\u001b[39mname_scope(name \u001b[39m+\u001b[39m \u001b[39m'\u001b[39m\u001b[39m/Regularizer\u001b[39m\u001b[39m'\u001b[39m):\n\u001b[0;32m-> 2547\u001b[0m   regularization \u001b[39m=\u001b[39m regularizer(v)\n\u001b[1;32m   2548\u001b[0m \u001b[39mreturn\u001b[39;00m regularization\n",
      "File \u001b[0;32m/uscms_data/d3/srosenzw/mambaforge/envs/sixb/lib/python3.9/site-packages/keras/regularizers.py:244\u001b[0m, in \u001b[0;36mL1L2.__call__\u001b[0;34m(self, x)\u001b[0m\n\u001b[1;32m    242\u001b[0m   regularization \u001b[39m+\u001b[39m\u001b[39m=\u001b[39m \u001b[39mself\u001b[39m\u001b[39m.\u001b[39ml1 \u001b[39m*\u001b[39m tf\u001b[39m.\u001b[39mreduce_sum(tf\u001b[39m.\u001b[39mabs(x))\n\u001b[1;32m    243\u001b[0m \u001b[39mif\u001b[39;00m \u001b[39mself\u001b[39m\u001b[39m.\u001b[39ml2:\n\u001b[0;32m--> 244\u001b[0m   regularization \u001b[39m+\u001b[39m\u001b[39m=\u001b[39m \u001b[39mself\u001b[39m\u001b[39m.\u001b[39ml2 \u001b[39m*\u001b[39m tf\u001b[39m.\u001b[39mreduce_sum(tf\u001b[39m.\u001b[39msquare(x))\n\u001b[1;32m    245\u001b[0m \u001b[39mreturn\u001b[39;00m regularization\n",
      "File \u001b[0;32m/uscms_data/d3/srosenzw/mambaforge/envs/sixb/lib/python3.9/site-packages/tensorflow/python/util/traceback_utils.py:150\u001b[0m, in \u001b[0;36mfilter_traceback.<locals>.error_handler\u001b[0;34m(*args, **kwargs)\u001b[0m\n\u001b[1;32m    148\u001b[0m filtered_tb \u001b[39m=\u001b[39m \u001b[39mNone\u001b[39;00m\n\u001b[1;32m    149\u001b[0m \u001b[39mtry\u001b[39;00m:\n\u001b[0;32m--> 150\u001b[0m   \u001b[39mreturn\u001b[39;00m fn(\u001b[39m*\u001b[39;49margs, \u001b[39m*\u001b[39;49m\u001b[39m*\u001b[39;49mkwargs)\n\u001b[1;32m    151\u001b[0m \u001b[39mexcept\u001b[39;00m \u001b[39mException\u001b[39;00m \u001b[39mas\u001b[39;00m e:\n\u001b[1;32m    152\u001b[0m   filtered_tb \u001b[39m=\u001b[39m _process_traceback_frames(e\u001b[39m.\u001b[39m__traceback__)\n",
      "File \u001b[0;32m/uscms_data/d3/srosenzw/mambaforge/envs/sixb/lib/python3.9/site-packages/tensorflow/python/ops/math_ops.py:1406\u001b[0m, in \u001b[0;36m_OverrideBinaryOperatorHelper.<locals>.binary_op_wrapper\u001b[0;34m(x, y)\u001b[0m\n\u001b[1;32m   1401\u001b[0m \u001b[39mtry\u001b[39;00m:\n\u001b[1;32m   1402\u001b[0m   \u001b[39m# force_same_dtype=False to preserve existing TF behavior\u001b[39;00m\n\u001b[1;32m   1403\u001b[0m   \u001b[39m# TODO(b/178860388): Figure out why binary_op_wrapper and\u001b[39;00m\n\u001b[1;32m   1404\u001b[0m   \u001b[39m#   r_binary_op_wrapper use different force_same_dtype values.\u001b[39;00m\n\u001b[1;32m   1405\u001b[0m   x, y \u001b[39m=\u001b[39m maybe_promote_tensors(x, y)\n\u001b[0;32m-> 1406\u001b[0m   \u001b[39mreturn\u001b[39;00m func(x, y, name\u001b[39m=\u001b[39;49mname)\n\u001b[1;32m   1407\u001b[0m \u001b[39mexcept\u001b[39;00m (\u001b[39mTypeError\u001b[39;00m, \u001b[39mValueError\u001b[39;00m) \u001b[39mas\u001b[39;00m e:\n\u001b[1;32m   1408\u001b[0m   \u001b[39m# Even if dispatching the op failed, the RHS may be a tensor aware\u001b[39;00m\n\u001b[1;32m   1409\u001b[0m   \u001b[39m# object that can implement the operator with knowledge of itself\u001b[39;00m\n\u001b[0;32m   (...)\u001b[0m\n\u001b[1;32m   1412\u001b[0m   \u001b[39m# original error from the LHS, because it may be more\u001b[39;00m\n\u001b[1;32m   1413\u001b[0m   \u001b[39m# informative.\u001b[39;00m\n\u001b[1;32m   1414\u001b[0m   \u001b[39mif\u001b[39;00m \u001b[39mhasattr\u001b[39m(\u001b[39mtype\u001b[39m(y), \u001b[39m\"\u001b[39m\u001b[39m__r\u001b[39m\u001b[39m%s\u001b[39;00m\u001b[39m__\u001b[39m\u001b[39m\"\u001b[39m \u001b[39m%\u001b[39m op_name):\n",
      "File \u001b[0;32m/uscms_data/d3/srosenzw/mambaforge/envs/sixb/lib/python3.9/site-packages/tensorflow/python/util/traceback_utils.py:140\u001b[0m, in \u001b[0;36mfilter_traceback.<locals>.error_handler\u001b[0;34m(*args, **kwargs)\u001b[0m\n\u001b[1;32m    138\u001b[0m \u001b[39mdef\u001b[39;00m \u001b[39merror_handler\u001b[39m(\u001b[39m*\u001b[39margs, \u001b[39m*\u001b[39m\u001b[39m*\u001b[39mkwargs):\n\u001b[1;32m    139\u001b[0m   \u001b[39mtry\u001b[39;00m:\n\u001b[0;32m--> 140\u001b[0m     \u001b[39mif\u001b[39;00m \u001b[39mnot\u001b[39;00m is_traceback_filtering_enabled():\n\u001b[1;32m    141\u001b[0m       \u001b[39mreturn\u001b[39;00m fn(\u001b[39m*\u001b[39margs, \u001b[39m*\u001b[39m\u001b[39m*\u001b[39mkwargs)\n\u001b[1;32m    142\u001b[0m   \u001b[39mexcept\u001b[39;00m \u001b[39mNameError\u001b[39;00m:\n\u001b[1;32m    143\u001b[0m     \u001b[39m# In some very rare cases,\u001b[39;00m\n\u001b[1;32m    144\u001b[0m     \u001b[39m# `is_traceback_filtering_enabled` (from the outer scope) may not be\u001b[39;00m\n\u001b[1;32m    145\u001b[0m     \u001b[39m# accessible from inside this function\u001b[39;00m\n",
      "File \u001b[0;32m/uscms_data/d3/srosenzw/mambaforge/envs/sixb/lib/python3.9/site-packages/tensorflow/python/util/traceback_utils.py:47\u001b[0m, in \u001b[0;36mis_traceback_filtering_enabled\u001b[0;34m()\u001b[0m\n\u001b[1;32m     32\u001b[0m \u001b[39m@tf_export\u001b[39m(\u001b[39m'\u001b[39m\u001b[39mdebugging.is_traceback_filtering_enabled\u001b[39m\u001b[39m'\u001b[39m)\n\u001b[1;32m     33\u001b[0m \u001b[39mdef\u001b[39;00m \u001b[39mis_traceback_filtering_enabled\u001b[39m():\n\u001b[1;32m     34\u001b[0m   \u001b[39m\"\"\"Check whether traceback filtering is currently enabled.\u001b[39;00m\n\u001b[1;32m     35\u001b[0m \n\u001b[1;32m     36\u001b[0m \u001b[39m  See also `tf.debugging.enable_traceback_filtering()` and\u001b[39;00m\n\u001b[0;32m   (...)\u001b[0m\n\u001b[1;32m     45\u001b[0m \u001b[39m    was called).\u001b[39;00m\n\u001b[1;32m     46\u001b[0m \u001b[39m  \"\"\"\u001b[39;00m\n\u001b[0;32m---> 47\u001b[0m   value \u001b[39m=\u001b[39m \u001b[39mgetattr\u001b[39;49m(_ENABLE_TRACEBACK_FILTERING, \u001b[39m'\u001b[39;49m\u001b[39mvalue\u001b[39;49m\u001b[39m'\u001b[39;49m, \u001b[39mTrue\u001b[39;49;00m)\n\u001b[1;32m     48\u001b[0m   \u001b[39mreturn\u001b[39;00m value\n",
      "\u001b[0;31mKeyboardInterrupt\u001b[0m: "
     ]
    }
   ],
   "source": [
    "history = model.fit(x_train,\n",
    "                    y_train, \n",
    "                    validation_data=(x_val, y_val), \n",
    "                    epochs=nepochs, \n",
    "                    batch_size=batch_size, \n",
    "                    callbacks=[es])\n",
    "\n",
    "model.summary()"
   ]
  },
  {
   "cell_type": "code",
   "execution_count": null,
   "metadata": {},
   "outputs": [],
   "source": [
    "hist_df = DataFrame(history.history)"
   ]
  },
  {
   "cell_type": "code",
   "execution_count": null,
   "metadata": {},
   "outputs": [],
   "source": [
    "out_dir = \"ml/dnn_evt_sel\"\n",
    "h5_save   = f\"{out_dir}/model.h5\"\n",
    "model.save_weights(h5_save)\n",
    "model.save(f\"{out_dir}/model\")"
   ]
  },
  {
   "cell_type": "code",
   "execution_count": 48,
   "metadata": {},
   "outputs": [
    {
     "data": {
      "text/plain": [
       "list"
      ]
     },
     "execution_count": 48,
     "metadata": {},
     "output_type": "execute_result"
    }
   ],
   "source": [
    "from utils.modelUtils.save import ModelSaver"
   ]
  },
  {
   "cell_type": "code",
   "execution_count": null,
   "metadata": {},
   "outputs": [],
   "source": [
    "ModelSaver(out_dir, model, history)"
   ]
  },
  {
   "cell_type": "code",
   "execution_count": 67,
   "metadata": {},
   "outputs": [
    {
     "data": {
      "text/plain": [
       "<Array [[141, 134, 114, ... 121, 45.6, 89.6]] type='55952 * var * float32'>"
      ]
     },
     "execution_count": 67,
     "metadata": {},
     "output_type": "execute_result"
    }
   ],
   "source": [
    "test_tree.jet_pt"
   ]
  },
  {
   "cell_type": "code",
   "execution_count": 79,
   "metadata": {},
   "outputs": [
    {
     "ename": "OSError",
     "evalue": "SavedModel file does not exist at: ml/dnn_evt_sel/{saved_model.pbtxt|saved_model.pb}",
     "output_type": "error",
     "traceback": [
      "\u001b[0;31m---------------------------------------------------------------------------\u001b[0m",
      "\u001b[0;31mOSError\u001b[0m                                   Traceback (most recent call last)",
      "\u001b[1;32m/uscms/home/srosenzw/nobackup/workarea/higgs/sixb_analysis/CMSSW_10_6_19_patch2/src/sixb/jupyter/2_event_selections/dnn_train.ipynb Cell 36\u001b[0m in \u001b[0;36m<cell line: 1>\u001b[0;34m()\u001b[0m\n\u001b[0;32m----> <a href='vscode-notebook-cell://ssh-remote%2Bsrosenzw@cmslpcgpu1.fnal.gov/uscms/home/srosenzw/nobackup/workarea/higgs/sixb_analysis/CMSSW_10_6_19_patch2/src/sixb/jupyter/2_event_selections/dnn_train.ipynb#Y104sdnNjb2RlLXJlbW90ZQ%3D%3D?line=0'>1</a>\u001b[0m model \u001b[39m=\u001b[39m load_model(\u001b[39m'\u001b[39;49m\u001b[39mml/dnn_evt_sel\u001b[39;49m\u001b[39m'\u001b[39;49m)\n",
      "File \u001b[0;32m/uscms_data/d3/srosenzw/mambaforge/envs/sixb/lib/python3.9/site-packages/keras/utils/traceback_utils.py:67\u001b[0m, in \u001b[0;36mfilter_traceback.<locals>.error_handler\u001b[0;34m(*args, **kwargs)\u001b[0m\n\u001b[1;32m     65\u001b[0m \u001b[39mexcept\u001b[39;00m \u001b[39mException\u001b[39;00m \u001b[39mas\u001b[39;00m e:  \u001b[39m# pylint: disable=broad-except\u001b[39;00m\n\u001b[1;32m     66\u001b[0m   filtered_tb \u001b[39m=\u001b[39m _process_traceback_frames(e\u001b[39m.\u001b[39m__traceback__)\n\u001b[0;32m---> 67\u001b[0m   \u001b[39mraise\u001b[39;00m e\u001b[39m.\u001b[39mwith_traceback(filtered_tb) \u001b[39mfrom\u001b[39;00m \u001b[39mNone\u001b[39m\n\u001b[1;32m     68\u001b[0m \u001b[39mfinally\u001b[39;00m:\n\u001b[1;32m     69\u001b[0m   \u001b[39mdel\u001b[39;00m filtered_tb\n",
      "File \u001b[0;32m/uscms_data/d3/srosenzw/mambaforge/envs/sixb/lib/python3.9/site-packages/tensorflow/python/saved_model/loader_impl.py:115\u001b[0m, in \u001b[0;36mparse_saved_model\u001b[0;34m(export_dir)\u001b[0m\n\u001b[1;32m    113\u001b[0m     \u001b[39mraise\u001b[39;00m \u001b[39mIOError\u001b[39;00m(\u001b[39mf\u001b[39m\u001b[39m\"\u001b[39m\u001b[39mCannot parse file \u001b[39m\u001b[39m{\u001b[39;00mpath_to_pbtxt\u001b[39m}\u001b[39;00m\u001b[39m: \u001b[39m\u001b[39m{\u001b[39;00m\u001b[39mstr\u001b[39m(e)\u001b[39m}\u001b[39;00m\u001b[39m.\u001b[39m\u001b[39m\"\u001b[39m)\n\u001b[1;32m    114\u001b[0m \u001b[39melse\u001b[39;00m:\n\u001b[0;32m--> 115\u001b[0m   \u001b[39mraise\u001b[39;00m \u001b[39mIOError\u001b[39;00m(\n\u001b[1;32m    116\u001b[0m       \u001b[39mf\u001b[39m\u001b[39m\"\u001b[39m\u001b[39mSavedModel file does not exist at: \u001b[39m\u001b[39m{\u001b[39;00mexport_dir\u001b[39m}\u001b[39;00m\u001b[39m{\u001b[39;00mos\u001b[39m.\u001b[39mpath\u001b[39m.\u001b[39msep\u001b[39m}\u001b[39;00m\u001b[39m\"\u001b[39m\n\u001b[1;32m    117\u001b[0m       \u001b[39mf\u001b[39m\u001b[39m\"\u001b[39m\u001b[39m{{\u001b[39;00m\u001b[39m{\u001b[39;00mconstants\u001b[39m.\u001b[39mSAVED_MODEL_FILENAME_PBTXT\u001b[39m}\u001b[39;00m\u001b[39m|\u001b[39m\u001b[39m\"\u001b[39m\n\u001b[1;32m    118\u001b[0m       \u001b[39mf\u001b[39m\u001b[39m\"\u001b[39m\u001b[39m{\u001b[39;00mconstants\u001b[39m.\u001b[39mSAVED_MODEL_FILENAME_PB\u001b[39m}\u001b[39;00m\u001b[39m}}\u001b[39;00m\u001b[39m\"\u001b[39m)\n",
      "\u001b[0;31mOSError\u001b[0m: SavedModel file does not exist at: ml/dnn_evt_sel/{saved_model.pbtxt|saved_model.pb}"
     ]
    }
   ],
   "source": [
    "model = load_model('ml/dnn_evt_sel')"
   ]
  },
  {
   "cell_type": "code",
   "execution_count": null,
   "metadata": {},
   "outputs": [],
   "source": []
  },
  {
   "cell_type": "code",
   "execution_count": null,
   "metadata": {},
   "outputs": [],
   "source": []
  },
  {
   "cell_type": "code",
   "execution_count": null,
   "metadata": {},
   "outputs": [],
   "source": []
  },
  {
   "cell_type": "code",
   "execution_count": 22,
   "metadata": {},
   "outputs": [
    {
     "name": "stdout",
     "output_type": "stream",
     "text": [
      "/eos/uscms/store/user/srosenzw/sixb/ntuples/Summer2018UL/cutflow_studies/presel/NMSSM/NMSSM_XYH_YToHH_6b_MX_700_MY_400/ntuple.root\n"
     ]
    }
   ],
   "source": [
    "test_tree = Signal('/eos/uscms/store/user/srosenzw/sixb/ntuples/Summer2018UL/cutflow_studies/presel/NMSSM/NMSSM_XYH_YToHH_6b_MX_700_MY_400/ntuple.root')"
   ]
  },
  {
   "cell_type": "code",
   "execution_count": null,
   "metadata": {},
   "outputs": [
    {
     "data": {
      "text/plain": [
       "<Array [3, 0, 1, 4, 2, 5] type='6 * int64'>"
      ]
     },
     "execution_count": 23,
     "metadata": {},
     "output_type": "execute_result"
    }
   ],
   "source": [
    "btag_sort = ak.argsort(test_tree.jet_btag, axis=1, ascending=False)"
   ]
  },
  {
   "cell_type": "code",
   "execution_count": 36,
   "metadata": {},
   "outputs": [],
   "source": [
    "test_dPhi, test_dEta = get_pair_kin(test_tree, mask=ak.local_index(test_tree.jet_pt)[:,:6], sort_id=ak.local_index(test_tree.jet_pt)[:,:6])"
   ]
  },
  {
   "cell_type": "code",
   "execution_count": 46,
   "metadata": {},
   "outputs": [],
   "source": [
    "test_features = np.column_stack((\n",
    "    test_tree.jet_ptRegressed[:,:6].to_numpy(),\n",
    "    test_tree.jet_eta[:,:6].to_numpy(),\n",
    "    get_min_dR(test_tree, mask=ak.local_index(test_tree.jet_pt)[:,:6], sort_id=ak.local_index(test_tree.jet_pt)[:,:6]),\n",
    "    test_dPhi,\n",
    "    test_dEta\n",
    "))"
   ]
  },
  {
   "cell_type": "code",
   "execution_count": 48,
   "metadata": {},
   "outputs": [
    {
     "name": "stdout",
     "output_type": "stream",
     "text": [
      "1749/1749 [==============================] - 9s 5ms/step\n"
     ]
    }
   ],
   "source": [
    "scores = model.predict(test_features)[:,0]"
   ]
  },
  {
   "cell_type": "code",
   "execution_count": 68,
   "metadata": {},
   "outputs": [
    {
     "data": {
      "text/plain": [
       "0.8467045413926223"
      ]
     },
     "execution_count": 68,
     "metadata": {},
     "output_type": "execute_result"
    }
   ],
   "source": [
    "scores.sum()/len(scores)"
   ]
  },
  {
   "cell_type": "code",
   "execution_count": 54,
   "metadata": {},
   "outputs": [],
   "source": [
    "test_hjet_mask = test_tree.jet_signalId > -1\n",
    "event_mask = (ak.sum(test_hjet_mask, axis=1) == 6).to_numpy()*1"
   ]
  },
  {
   "cell_type": "code",
   "execution_count": 71,
   "metadata": {},
   "outputs": [
    {
     "data": {
      "text/plain": [
       "0.3492279096368316"
      ]
     },
     "execution_count": 71,
     "metadata": {},
     "output_type": "execute_result"
    }
   ],
   "source": [
    "(scores == event_mask).sum()/len(scores)"
   ]
  },
  {
   "cell_type": "code",
   "execution_count": 76,
   "metadata": {},
   "outputs": [
    {
     "data": {
      "text/plain": [
       "1945"
      ]
     },
     "execution_count": 76,
     "metadata": {},
     "output_type": "execute_result"
    }
   ],
   "source": [
    "np.sum((scores > 0) & (scores < 1))"
   ]
  },
  {
   "cell_type": "code",
   "execution_count": 64,
   "metadata": {},
   "outputs": [
    {
     "data": {
      "image/png": "[encoded data removed]",
      "text/plain": [
       "<Figure size 864x720 with 2 Axes>"
      ]
     },
     "metadata": {
      "needs_background": "light"
     },
     "output_type": "display_data"
    }
   ],
   "source": [
    "fig, ax = plt.subplots(figsize=(12,10))\n",
    "\n",
    "n, ex, ey, im = Hist2d(event_mask, scores, bins=np.arange(3), ax=ax)\n",
    "fig.colorbar(im, ax=ax)\n",
    "\n",
    "ax.set_xticks(np.arange(3))\n",
    "ax.set_yticks(np.arange(3))\n",
    "\n",
    "ax.minorticks_off()"
   ]
  },
  {
   "cell_type": "code",
   "execution_count": null,
   "metadata": {},
   "outputs": [],
   "source": []
  },
  {
   "cell_type": "code",
   "execution_count": null,
   "metadata": {},
   "outputs": [],
   "source": []
  },
  {
   "cell_type": "code",
   "execution_count": 68,
   "metadata": {},
   "outputs": [],
   "source": [
    "six_jet_mask = ak.local_index(test_tree.jet_pt)[:,:6]"
   ]
  },
  {
   "cell_type": "code",
   "execution_count": 73,
   "metadata": {},
   "outputs": [
    {
     "ename": "ValueError",
     "evalue": "cannot fit jagged slice with length 569341 into RegularArray of size 55952\n\n(https://github.com/scikit-hep/awkward-1.0/blob/1.8.0/src/libawkward/array/RegularArray.cpp#L1533)",
     "output_type": "error",
     "traceback": [
      "\u001b[0;31m---------------------------------------------------------------------------\u001b[0m",
      "\u001b[0;31mValueError\u001b[0m                                Traceback (most recent call last)",
      "\u001b[1;32m/uscms/home/srosenzw/nobackup/workarea/higgs/sixb_analysis/CMSSW_10_6_19_patch2/src/sixb/jupyter/2_event_selections/dnn_train.ipynb Cell 41\u001b[0m in \u001b[0;36m<cell line: 2>\u001b[0;34m()\u001b[0m\n\u001b[1;32m      <a href='vscode-notebook-cell://ssh-remote%2Bsrosenzw@cmslpcgpu1.fnal.gov/uscms/home/srosenzw/nobackup/workarea/higgs/sixb_analysis/CMSSW_10_6_19_patch2/src/sixb/jupyter/2_event_selections/dnn_train.ipynb#X44sdnNjb2RlLXJlbW90ZQ%3D%3D?line=0'>1</a>\u001b[0m min_dR_test \u001b[39m=\u001b[39m get_min_dR(test_tree, all_mask, six_jet_mask)\n\u001b[0;32m----> <a href='vscode-notebook-cell://ssh-remote%2Bsrosenzw@cmslpcgpu1.fnal.gov/uscms/home/srosenzw/nobackup/workarea/higgs/sixb_analysis/CMSSW_10_6_19_patch2/src/sixb/jupyter/2_event_selections/dnn_train.ipynb#X44sdnNjb2RlLXJlbW90ZQ%3D%3D?line=1'>2</a>\u001b[0m dPhi_test, dEta_test \u001b[39m=\u001b[39m get_pair_kin(test_tree, all_mask, six_jet_mask)\n\u001b[1;32m      <a href='vscode-notebook-cell://ssh-remote%2Bsrosenzw@cmslpcgpu1.fnal.gov/uscms/home/srosenzw/nobackup/workarea/higgs/sixb_analysis/CMSSW_10_6_19_patch2/src/sixb/jupyter/2_event_selections/dnn_train.ipynb#X44sdnNjb2RlLXJlbW90ZQ%3D%3D?line=3'>4</a>\u001b[0m test_features \u001b[39m=\u001b[39m np\u001b[39m.\u001b[39mcolumn_stack((\n\u001b[1;32m      <a href='vscode-notebook-cell://ssh-remote%2Bsrosenzw@cmslpcgpu1.fnal.gov/uscms/home/srosenzw/nobackup/workarea/higgs/sixb_analysis/CMSSW_10_6_19_patch2/src/sixb/jupyter/2_event_selections/dnn_train.ipynb#X44sdnNjb2RlLXJlbW90ZQ%3D%3D?line=4'>5</a>\u001b[0m     test_tree\u001b[39m.\u001b[39mjet_ptRegressed\u001b[39m.\u001b[39mto_numpy(),\n\u001b[1;32m      <a href='vscode-notebook-cell://ssh-remote%2Bsrosenzw@cmslpcgpu1.fnal.gov/uscms/home/srosenzw/nobackup/workarea/higgs/sixb_analysis/CMSSW_10_6_19_patch2/src/sixb/jupyter/2_event_selections/dnn_train.ipynb#X44sdnNjb2RlLXJlbW90ZQ%3D%3D?line=5'>6</a>\u001b[0m     test_tree\u001b[39m.\u001b[39mjet_eta\u001b[39m.\u001b[39mto_numpy(),\n\u001b[0;32m   (...)\u001b[0m\n\u001b[1;32m      <a href='vscode-notebook-cell://ssh-remote%2Bsrosenzw@cmslpcgpu1.fnal.gov/uscms/home/srosenzw/nobackup/workarea/higgs/sixb_analysis/CMSSW_10_6_19_patch2/src/sixb/jupyter/2_event_selections/dnn_train.ipynb#X44sdnNjb2RlLXJlbW90ZQ%3D%3D?line=8'>9</a>\u001b[0m     dEta_test\n\u001b[1;32m     <a href='vscode-notebook-cell://ssh-remote%2Bsrosenzw@cmslpcgpu1.fnal.gov/uscms/home/srosenzw/nobackup/workarea/higgs/sixb_analysis/CMSSW_10_6_19_patch2/src/sixb/jupyter/2_event_selections/dnn_train.ipynb#X44sdnNjb2RlLXJlbW90ZQ%3D%3D?line=9'>10</a>\u001b[0m ))\n",
      "\u001b[1;32m/uscms/home/srosenzw/nobackup/workarea/higgs/sixb_analysis/CMSSW_10_6_19_patch2/src/sixb/jupyter/2_event_selections/dnn_train.ipynb Cell 41\u001b[0m in \u001b[0;36mget_pair_kin\u001b[0;34m(ttree, mask, sort_id)\u001b[0m\n\u001b[1;32m      <a href='vscode-notebook-cell://ssh-remote%2Bsrosenzw@cmslpcgpu1.fnal.gov/uscms/home/srosenzw/nobackup/workarea/higgs/sixb_analysis/CMSSW_10_6_19_patch2/src/sixb/jupyter/2_event_selections/dnn_train.ipynb#X44sdnNjb2RlLXJlbW90ZQ%3D%3D?line=2'>3</a>\u001b[0m dEta \u001b[39m=\u001b[39m []\n\u001b[1;32m      <a href='vscode-notebook-cell://ssh-remote%2Bsrosenzw@cmslpcgpu1.fnal.gov/uscms/home/srosenzw/nobackup/workarea/higgs/sixb_analysis/CMSSW_10_6_19_patch2/src/sixb/jupyter/2_event_selections/dnn_train.ipynb#X44sdnNjb2RlLXJlbW90ZQ%3D%3D?line=3'>4</a>\u001b[0m \u001b[39mfor\u001b[39;00m i,j \u001b[39min\u001b[39;00m combos:\n\u001b[1;32m      <a href='vscode-notebook-cell://ssh-remote%2Bsrosenzw@cmslpcgpu1.fnal.gov/uscms/home/srosenzw/nobackup/workarea/higgs/sixb_analysis/CMSSW_10_6_19_patch2/src/sixb/jupyter/2_event_selections/dnn_train.ipynb#X44sdnNjb2RlLXJlbW90ZQ%3D%3D?line=4'>5</a>\u001b[0m     particle1 \u001b[39m=\u001b[39m Particle(kin_dict\u001b[39m=\u001b[39m{\n\u001b[0;32m----> <a href='vscode-notebook-cell://ssh-remote%2Bsrosenzw@cmslpcgpu1.fnal.gov/uscms/home/srosenzw/nobackup/workarea/higgs/sixb_analysis/CMSSW_10_6_19_patch2/src/sixb/jupyter/2_event_selections/dnn_train.ipynb#X44sdnNjb2RlLXJlbW90ZQ%3D%3D?line=5'>6</a>\u001b[0m         \u001b[39m'\u001b[39m\u001b[39mpt\u001b[39m\u001b[39m'\u001b[39m : ttree\u001b[39m.\u001b[39;49mjet_ptRegressed[id_sort][mask][:,i],\n\u001b[1;32m      <a href='vscode-notebook-cell://ssh-remote%2Bsrosenzw@cmslpcgpu1.fnal.gov/uscms/home/srosenzw/nobackup/workarea/higgs/sixb_analysis/CMSSW_10_6_19_patch2/src/sixb/jupyter/2_event_selections/dnn_train.ipynb#X44sdnNjb2RlLXJlbW90ZQ%3D%3D?line=6'>7</a>\u001b[0m         \u001b[39m'\u001b[39m\u001b[39meta\u001b[39m\u001b[39m'\u001b[39m : ttree\u001b[39m.\u001b[39mjet_eta[id_sort][mask][:,i],\n\u001b[1;32m      <a href='vscode-notebook-cell://ssh-remote%2Bsrosenzw@cmslpcgpu1.fnal.gov/uscms/home/srosenzw/nobackup/workarea/higgs/sixb_analysis/CMSSW_10_6_19_patch2/src/sixb/jupyter/2_event_selections/dnn_train.ipynb#X44sdnNjb2RlLXJlbW90ZQ%3D%3D?line=7'>8</a>\u001b[0m         \u001b[39m'\u001b[39m\u001b[39mphi\u001b[39m\u001b[39m'\u001b[39m : ttree\u001b[39m.\u001b[39mjet_phi[id_sort][mask][:,i],\n\u001b[1;32m      <a href='vscode-notebook-cell://ssh-remote%2Bsrosenzw@cmslpcgpu1.fnal.gov/uscms/home/srosenzw/nobackup/workarea/higgs/sixb_analysis/CMSSW_10_6_19_patch2/src/sixb/jupyter/2_event_selections/dnn_train.ipynb#X44sdnNjb2RlLXJlbW90ZQ%3D%3D?line=8'>9</a>\u001b[0m         \u001b[39m'\u001b[39m\u001b[39mm\u001b[39m\u001b[39m'\u001b[39m : ttree\u001b[39m.\u001b[39mjet_mRegressed[id_sort][mask][:,i]\n\u001b[1;32m     <a href='vscode-notebook-cell://ssh-remote%2Bsrosenzw@cmslpcgpu1.fnal.gov/uscms/home/srosenzw/nobackup/workarea/higgs/sixb_analysis/CMSSW_10_6_19_patch2/src/sixb/jupyter/2_event_selections/dnn_train.ipynb#X44sdnNjb2RlLXJlbW90ZQ%3D%3D?line=9'>10</a>\u001b[0m         })\n\u001b[1;32m     <a href='vscode-notebook-cell://ssh-remote%2Bsrosenzw@cmslpcgpu1.fnal.gov/uscms/home/srosenzw/nobackup/workarea/higgs/sixb_analysis/CMSSW_10_6_19_patch2/src/sixb/jupyter/2_event_selections/dnn_train.ipynb#X44sdnNjb2RlLXJlbW90ZQ%3D%3D?line=11'>12</a>\u001b[0m     particle2 \u001b[39m=\u001b[39m Particle(kin_dict\u001b[39m=\u001b[39m{\n\u001b[1;32m     <a href='vscode-notebook-cell://ssh-remote%2Bsrosenzw@cmslpcgpu1.fnal.gov/uscms/home/srosenzw/nobackup/workarea/higgs/sixb_analysis/CMSSW_10_6_19_patch2/src/sixb/jupyter/2_event_selections/dnn_train.ipynb#X44sdnNjb2RlLXJlbW90ZQ%3D%3D?line=12'>13</a>\u001b[0m         \u001b[39m'\u001b[39m\u001b[39mpt\u001b[39m\u001b[39m'\u001b[39m : ttree\u001b[39m.\u001b[39mjet_ptRegressed[id_sort][mask][:,j],\n\u001b[1;32m     <a href='vscode-notebook-cell://ssh-remote%2Bsrosenzw@cmslpcgpu1.fnal.gov/uscms/home/srosenzw/nobackup/workarea/higgs/sixb_analysis/CMSSW_10_6_19_patch2/src/sixb/jupyter/2_event_selections/dnn_train.ipynb#X44sdnNjb2RlLXJlbW90ZQ%3D%3D?line=13'>14</a>\u001b[0m         \u001b[39m'\u001b[39m\u001b[39meta\u001b[39m\u001b[39m'\u001b[39m : ttree\u001b[39m.\u001b[39mjet_eta[id_sort][mask][:,j],\n\u001b[1;32m     <a href='vscode-notebook-cell://ssh-remote%2Bsrosenzw@cmslpcgpu1.fnal.gov/uscms/home/srosenzw/nobackup/workarea/higgs/sixb_analysis/CMSSW_10_6_19_patch2/src/sixb/jupyter/2_event_selections/dnn_train.ipynb#X44sdnNjb2RlLXJlbW90ZQ%3D%3D?line=14'>15</a>\u001b[0m         \u001b[39m'\u001b[39m\u001b[39mphi\u001b[39m\u001b[39m'\u001b[39m : ttree\u001b[39m.\u001b[39mjet_phi[id_sort][mask][:,j],\n\u001b[1;32m     <a href='vscode-notebook-cell://ssh-remote%2Bsrosenzw@cmslpcgpu1.fnal.gov/uscms/home/srosenzw/nobackup/workarea/higgs/sixb_analysis/CMSSW_10_6_19_patch2/src/sixb/jupyter/2_event_selections/dnn_train.ipynb#X44sdnNjb2RlLXJlbW90ZQ%3D%3D?line=15'>16</a>\u001b[0m         \u001b[39m'\u001b[39m\u001b[39mm\u001b[39m\u001b[39m'\u001b[39m : ttree\u001b[39m.\u001b[39mjet_mRegressed[id_sort][mask][:,j]\n\u001b[1;32m     <a href='vscode-notebook-cell://ssh-remote%2Bsrosenzw@cmslpcgpu1.fnal.gov/uscms/home/srosenzw/nobackup/workarea/higgs/sixb_analysis/CMSSW_10_6_19_patch2/src/sixb/jupyter/2_event_selections/dnn_train.ipynb#X44sdnNjb2RlLXJlbW90ZQ%3D%3D?line=16'>17</a>\u001b[0m         })\n\u001b[1;32m     <a href='vscode-notebook-cell://ssh-remote%2Bsrosenzw@cmslpcgpu1.fnal.gov/uscms/home/srosenzw/nobackup/workarea/higgs/sixb_analysis/CMSSW_10_6_19_patch2/src/sixb/jupyter/2_event_selections/dnn_train.ipynb#X44sdnNjb2RlLXJlbW90ZQ%3D%3D?line=18'>19</a>\u001b[0m     dPhi\u001b[39m.\u001b[39mappend(particle1\u001b[39m.\u001b[39mdeltaPhi(particle2)\u001b[39m.\u001b[39mto_numpy())\n",
      "File \u001b[0;32m/uscms_data/d3/srosenzw/mambaforge/envs/sixb/lib/python3.9/site-packages/awkward/highlevel.py:991\u001b[0m, in \u001b[0;36mArray.__getitem__\u001b[0;34m(self, where)\u001b[0m\n\u001b[1;32m    579\u001b[0m \u001b[39m\"\"\"\u001b[39;00m\n\u001b[1;32m    580\u001b[0m \u001b[39mArgs:\u001b[39;00m\n\u001b[1;32m    581\u001b[0m \u001b[39m    where (many types supported; see below): Index of positions to\u001b[39;00m\n\u001b[0;32m   (...)\u001b[0m\n\u001b[1;32m    988\u001b[0m \u001b[39mhave the same dimension as the array being indexed.\u001b[39;00m\n\u001b[1;32m    989\u001b[0m \u001b[39m\"\"\"\u001b[39;00m\n\u001b[1;32m    990\u001b[0m \u001b[39mif\u001b[39;00m \u001b[39mnot\u001b[39;00m \u001b[39mhasattr\u001b[39m(\u001b[39mself\u001b[39m, \u001b[39m\"\u001b[39m\u001b[39m_tracers\u001b[39m\u001b[39m\"\u001b[39m):\n\u001b[0;32m--> 991\u001b[0m     tmp \u001b[39m=\u001b[39m ak\u001b[39m.\u001b[39m_util\u001b[39m.\u001b[39mwrap(\u001b[39mself\u001b[39;49m\u001b[39m.\u001b[39;49mlayout[where], \u001b[39mself\u001b[39m\u001b[39m.\u001b[39m_behavior)\n\u001b[1;32m    992\u001b[0m \u001b[39melse\u001b[39;00m:\n\u001b[1;32m    993\u001b[0m     tmp \u001b[39m=\u001b[39m ak\u001b[39m.\u001b[39m_connect\u001b[39m.\u001b[39m_jax\u001b[39m.\u001b[39mjax_utils\u001b[39m.\u001b[39m_jaxtracers_getitem(\u001b[39mself\u001b[39m, where)\n",
      "\u001b[0;31mValueError\u001b[0m: cannot fit jagged slice with length 569341 into RegularArray of size 55952\n\n(https://github.com/scikit-hep/awkward-1.0/blob/1.8.0/src/libawkward/array/RegularArray.cpp#L1533)"
     ]
    }
   ],
   "source": [
    "min_dR_test = get_min_dR(test_tree, all_mask, six_jet_mask)\n",
    "dPhi_test, dEta_test = get_pair_kin(test_tree, all_mask, six_jet_mask)\n",
    "\n",
    "test_features = np.column_stack((\n",
    "    test_tree.jet_ptRegressed.to_numpy(),\n",
    "    test_tree.jet_eta.to_numpy(),\n",
    "    min_dR_test,\n",
    "    dPhi_test,\n",
    "    dEta_test\n",
    "))"
   ]
  },
  {
   "cell_type": "code",
   "execution_count": null,
   "metadata": {},
   "outputs": [],
   "source": []
  },
  {
   "cell_type": "code",
   "execution_count": null,
   "metadata": {},
   "outputs": [],
   "source": []
  },
  {
   "cell_type": "code",
   "execution_count": null,
   "metadata": {},
   "outputs": [],
   "source": []
  },
  {
   "cell_type": "code",
   "execution_count": null,
   "metadata": {},
   "outputs": [],
   "source": [
    "X = scaler.transform(features)"
   ]
  },
  {
   "cell_type": "code",
   "execution_count": null,
   "metadata": {},
   "outputs": [],
   "source": []
  }
 ],
 "metadata": {
  "kernelspec": {
   "display_name": "Python 3.9.13 ('sixb')",
   "language": "python",
   "name": "python3"
  },
  "language_info": {
   "codemirror_mode": {
    "name": "ipython",
    "version": 3
   },
   "file_extension": ".py",
   "mimetype": "text/x-python",
   "name": "python",
   "nbconvert_exporter": "python",
   "pygments_lexer": "ipython3",
   "version": "3.9.13"
  },
  "orig_nbformat": 4,
  "vscode": {
   "interpreter": {
    "hash": "fd1aa3536eccf25268872fb0877ce450957c03a0faeafc6ef6bbb3c9838499b8"
   }
  }
 },
 "nbformat": 4,
 "nbformat_minor": 2
}
