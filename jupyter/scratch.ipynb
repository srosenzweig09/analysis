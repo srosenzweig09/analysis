{
 "cells": [
  {
   "cell_type": "code",
   "execution_count": 1,
   "metadata": {},
   "outputs": [],
   "source": [
    "import uproot\n",
    "from tqdm import tqdm"
   ]
  },
  {
   "cell_type": "code",
   "execution_count": 2,
   "metadata": {},
   "outputs": [],
   "source": [
    "def getMinMax(fname):\n",
    "    f = uproot.open(fname)\n",
    "    e = f['Events']\n",
    "    runs = e['run'].array()\n",
    "    return int(min(runs)), int(max(runs))"
   ]
  },
  {
   "cell_type": "code",
   "execution_count": 9,
   "metadata": {},
   "outputs": [
    {
     "name": "stdout",
     "output_type": "stream",
     "text": [
      "57\n"
     ]
    }
   ],
   "source": [
    "with open(\"/uscms/home/srosenzw/nobackup/workarea/higgs/sixb_analysis/CMSSW_10_6_19_patch2/src/MultiHiggs/analysis/MultiHAnalysis/input/Run2_UL/RunIISummer20UL18NanoAODv9/JetHT_Run2018C.txt\", \"r\") as fi:\n",
    "    lines = fi.readlines()\n",
    "    lines = [line.strip('\\n') for line in lines]\n",
    "    print(len(lines))"
   ]
  },
  {
   "cell_type": "code",
   "execution_count": 10,
   "metadata": {},
   "outputs": [
    {
     "name": "stderr",
     "output_type": "stream",
     "text": [
      "  0%|          | 0/57 [00:00<?, ?it/s]"
     ]
    },
    {
     "name": "stderr",
     "output_type": "stream",
     "text": [
      "100%|██████████| 57/57 [10:12<00:00, 10.75s/it]"
     ]
    },
    {
     "name": "stdout",
     "output_type": "stream",
     "text": [
      "319337-320065\n"
     ]
    },
    {
     "name": "stderr",
     "output_type": "stream",
     "text": [
      "\n"
     ]
    }
   ],
   "source": [
    "rmin, rmax = np.array(()), np.array(())\n",
    "for line in tqdm(lines):\n",
    "    tmin, tmax = getMinMax(line)\n",
    "    rmin = np.append(rmin, tmin)\n",
    "    rmax = np.append(rmax, tmax)\n",
    "print(f\"{int(rmin.min())}-{int(rmax.max())}\")"
   ]
  },
  {
   "cell_type": "code",
   "execution_count": null,
   "metadata": {},
   "outputs": [],
   "source": []
  },
  {
   "cell_type": "markdown",
   "metadata": {},
   "source": []
  },
  {
   "cell_type": "code",
   "execution_count": null,
   "metadata": {},
   "outputs": [],
   "source": []
  },
  {
   "cell_type": "code",
   "execution_count": null,
   "metadata": {},
   "outputs": [],
   "source": []
  },
  {
   "cell_type": "code",
   "execution_count": 6,
   "metadata": {},
   "outputs": [],
   "source": [
    "tree = uproot.open(\"/uscms/home/srosenzw/nobackup/workarea/higgs/sixb_analysis/CMSSW_10_6_19_patch2/src/MultiHiggs/analysis/MultiHAnalysis/output.root:sixBtree\")"
   ]
  },
  {
   "cell_type": "code",
   "execution_count": 7,
   "metadata": {},
   "outputs": [
    {
     "data": {
      "text/plain": [
       "<Array [0, 0, 0, 0, 0, 0, ... 0, 0, 0, 0, 0, 0] type='37 * int64'>"
      ]
     },
     "execution_count": 7,
     "metadata": {},
     "output_type": "execute_result"
    }
   ],
   "source": [
    "ak.argsort(tree['jet_btag'].array(), axis=1, ascending=False)[:,0]"
   ]
  },
  {
   "cell_type": "code",
   "execution_count": null,
   "metadata": {},
   "outputs": [],
   "source": []
  },
  {
   "cell_type": "code",
   "execution_count": 37,
   "metadata": {},
   "outputs": [
    {
     "name": "stdout",
     "output_type": "stream",
     "text": [
      "[14:12:28] Loading model:                                          signal.py:113\n",
      "           /eos/uscms/store/user/srosenzw/weaver/models/exp_sixb_o              \n",
      "           fficial/feynnet_ranker_6b/20230731_7d266883bbfb88fe4e22              \n",
      "           6783a7d1c9db_ranger_lr0.0047_batch2000_withbkg/predict_              \n",
      "           output/2017/NMSSM_XToYHTo6B_MX-1000_MY-250_TuneCP5_13Te              \n",
      "           V-madgraph-pythia8.root                                              \n",
      "           Loading                                                 signal.py:121\n",
      "           Summer2017UL/maxbtag_4b/Official_NMSSM/NMSSM_XToYHTo6B_              \n",
      "           MX-1000_MY-250_TuneCP5_13TeV-madgraph-pythia8/ntuple.ro              \n",
      "           ot...                                                                \n",
      "Running:  ls /eos/uscms/store/user/srosenzw/weaver/models/exp_sixb_official/feynnet_ranker_6b/20230731_7d266883bbfb88fe4e226783a7d1c9db_ranger_lr0.0047_batch2000_withbkg/predict_output/2017\n",
      "['NMSSM_XToYHTo6B_MX-1000_MY-250_TuneCP5_13TeV-madgraph-pythia8.root', 'NMSSM_XToYHTo6B_MX-1000_MY-300_TuneCP5_13TeV-madgraph-pythia8.root', 'NMSSM_XToYHTo6B_MX-1000_MY-350_TuneCP5_13TeV-madgraph-pythia8.root', 'NMSSM_XToYHTo6B_MX-1000_MY-400_TuneCP5_13TeV-madgraph-pythia8.root', 'NMSSM_XToYHTo6B_MX-1000_MY-450_TuneCP5_13TeV-madgraph-pythia8.root', 'NMSSM_XToYHTo6B_MX-1000_MY-500_TuneCP5_13TeV-madgraph-pythia8.root', 'NMSSM_XToYHTo6B_MX-1000_MY-600_TuneCP5_13TeV-madgraph-pythia8.root', 'NMSSM_XToYHTo6B_MX-1000_MY-700_TuneCP5_13TeV-madgraph-pythia8.root', 'NMSSM_XToYHTo6B_MX-1000_MY-800_TuneCP5_13TeV-madgraph-pythia8.root', 'NMSSM_XToYHTo6B_MX-1100_MY-250_TuneCP5_13TeV-madgraph-pythia8.root', 'NMSSM_XToYHTo6B_MX-1100_MY-300_TuneCP5_13TeV-madgraph-pythia8.root', 'NMSSM_XToYHTo6B_MX-1100_MY-350_TuneCP5_13TeV-madgraph-pythia8.root', 'NMSSM_XToYHTo6B_MX-1100_MY-400_TuneCP5_13TeV-madgraph-pythia8.root', 'NMSSM_XToYHTo6B_MX-1100_MY-450_TuneCP5_13TeV-madgraph-pythia8.root', 'NMSSM_XToYHTo6B_MX-1100_MY-500_TuneCP5_13TeV-madgraph-pythia8.root', 'NMSSM_XToYHTo6B_MX-1100_MY-600_TuneCP5_13TeV-madgraph-pythia8.root', 'NMSSM_XToYHTo6B_MX-1100_MY-700_TuneCP5_13TeV-madgraph-pythia8.root', 'NMSSM_XToYHTo6B_MX-1100_MY-800_TuneCP5_13TeV-madgraph-pythia8.root', 'NMSSM_XToYHTo6B_MX-1100_MY-900_TuneCP5_13TeV-madgraph-pythia8.root', 'NMSSM_XToYHTo6B_MX-1200_MY-1000_TuneCP5_13TeV-madgraph-pythia8.root', 'NMSSM_XToYHTo6B_MX-1200_MY-250_TuneCP5_13TeV-madgraph-pythia8.root', 'NMSSM_XToYHTo6B_MX-1200_MY-300_TuneCP5_13TeV-madgraph-pythia8.root', 'NMSSM_XToYHTo6B_MX-1200_MY-350_TuneCP5_13TeV-madgraph-pythia8.root', 'NMSSM_XToYHTo6B_MX-1200_MY-400_TuneCP5_13TeV-madgraph-pythia8.root', 'NMSSM_XToYHTo6B_MX-1200_MY-450_TuneCP5_13TeV-madgraph-pythia8.root', 'NMSSM_XToYHTo6B_MX-1200_MY-500_TuneCP5_13TeV-madgraph-pythia8.root', 'NMSSM_XToYHTo6B_MX-1200_MY-600_TuneCP5_13TeV-madgraph-pythia8.root', 'NMSSM_XToYHTo6B_MX-1200_MY-700_TuneCP5_13TeV-madgraph-pythia8.root', 'NMSSM_XToYHTo6B_MX-1200_MY-800_TuneCP5_13TeV-madgraph-pythia8.root', 'NMSSM_XToYHTo6B_MX-1200_MY-900_TuneCP5_13TeV-madgraph-pythia8.root', 'NMSSM_XToYHTo6B_MX-1300_MY-1000_TuneCP5_13TeV-madgraph-pythia8.root', 'NMSSM_XToYHTo6B_MX-1300_MY-1100_TuneCP5_13TeV-madgraph-pythia8.root', 'NMSSM_XToYHTo6B_MX-1300_MY-250_TuneCP5_13TeV-madgraph-pythia8.root', 'NMSSM_XToYHTo6B_MX-1300_MY-300_TuneCP5_13TeV-madgraph-pythia8.root', 'NMSSM_XToYHTo6B_MX-1300_MY-350_TuneCP5_13TeV-madgraph-pythia8.root', 'NMSSM_XToYHTo6B_MX-1300_MY-400_TuneCP5_13TeV-madgraph-pythia8.root', 'NMSSM_XToYHTo6B_MX-1300_MY-450_TuneCP5_13TeV-madgraph-pythia8.root', 'NMSSM_XToYHTo6B_MX-1300_MY-600_TuneCP5_13TeV-madgraph-pythia8.root', 'NMSSM_XToYHTo6B_MX-1300_MY-700_TuneCP5_13TeV-madgraph-pythia8.root', 'NMSSM_XToYHTo6B_MX-1300_MY-800_TuneCP5_13TeV-madgraph-pythia8.root', 'NMSSM_XToYHTo6B_MX-1300_MY-900_TuneCP5_13TeV-madgraph-pythia8.root', 'NMSSM_XToYHTo6B_MX-1400_MY-1000_TuneCP5_13TeV-madgraph-pythia8.root', 'NMSSM_XToYHTo6B_MX-1400_MY-1100_TuneCP5_13TeV-madgraph-pythia8.root', 'NMSSM_XToYHTo6B_MX-1400_MY-1200_TuneCP5_13TeV-madgraph-pythia8.root', 'NMSSM_XToYHTo6B_MX-1400_MY-250_TuneCP5_13TeV-madgraph-pythia8.root', 'NMSSM_XToYHTo6B_MX-1400_MY-300_TuneCP5_13TeV-madgraph-pythia8.root', 'NMSSM_XToYHTo6B_MX-1400_MY-350_TuneCP5_13TeV-madgraph-pythia8.root', 'NMSSM_XToYHTo6B_MX-1400_MY-450_TuneCP5_13TeV-madgraph-pythia8.root', 'NMSSM_XToYHTo6B_MX-1400_MY-500_TuneCP5_13TeV-madgraph-pythia8.root', 'NMSSM_XToYHTo6B_MX-1400_MY-600_TuneCP5_13TeV-madgraph-pythia8.root', 'NMSSM_XToYHTo6B_MX-1400_MY-700_TuneCP5_13TeV-madgraph-pythia8.root', 'NMSSM_XToYHTo6B_MX-1400_MY-800_TuneCP5_13TeV-madgraph-pythia8.root', 'NMSSM_XToYHTo6B_MX-1400_MY-900_TuneCP5_13TeV-madgraph-pythia8.root', 'NMSSM_XToYHTo6B_MX-1500_MY-1000_TuneCP5_13TeV-madgraph-pythia8.root', 'NMSSM_XToYHTo6B_MX-1500_MY-1100_TuneCP5_13TeV-madgraph-pythia8.root', 'NMSSM_XToYHTo6B_MX-1500_MY-1200_TuneCP5_13TeV-madgraph-pythia8.root', 'NMSSM_XToYHTo6B_MX-1500_MY-1300_TuneCP5_13TeV-madgraph-pythia8.root', 'NMSSM_XToYHTo6B_MX-1500_MY-250_TuneCP5_13TeV-madgraph-pythia8.root', 'NMSSM_XToYHTo6B_MX-1500_MY-300_TuneCP5_13TeV-madgraph-pythia8.root', 'NMSSM_XToYHTo6B_MX-1500_MY-350_TuneCP5_13TeV-madgraph-pythia8.root', 'NMSSM_XToYHTo6B_MX-1500_MY-400_TuneCP5_13TeV-madgraph-pythia8.root', 'NMSSM_XToYHTo6B_MX-1500_MY-450_TuneCP5_13TeV-madgraph-pythia8.root', 'NMSSM_XToYHTo6B_MX-1500_MY-500_TuneCP5_13TeV-madgraph-pythia8.root', 'NMSSM_XToYHTo6B_MX-1500_MY-600_TuneCP5_13TeV-madgraph-pythia8.root', 'NMSSM_XToYHTo6B_MX-1500_MY-700_TuneCP5_13TeV-madgraph-pythia8.root', 'NMSSM_XToYHTo6B_MX-1500_MY-800_TuneCP5_13TeV-madgraph-pythia8.root', 'NMSSM_XToYHTo6B_MX-1500_MY-900_TuneCP5_13TeV-madgraph-pythia8.root', 'NMSSM_XToYHTo6B_MX-1600_MY-1000_TuneCP5_13TeV-madgraph-pythia8.root', 'NMSSM_XToYHTo6B_MX-1600_MY-1100_TuneCP5_13TeV-madgraph-pythia8.root', 'NMSSM_XToYHTo6B_MX-1600_MY-1200_TuneCP5_13TeV-madgraph-pythia8.root', 'NMSSM_XToYHTo6B_MX-1600_MY-1300_TuneCP5_13TeV-madgraph-pythia8.root', 'NMSSM_XToYHTo6B_MX-1600_MY-1400_TuneCP5_13TeV-madgraph-pythia8.root', 'NMSSM_XToYHTo6B_MX-1600_MY-250_TuneCP5_13TeV-madgraph-pythia8.root', 'NMSSM_XToYHTo6B_MX-1600_MY-300_TuneCP5_13TeV-madgraph-pythia8.root', 'NMSSM_XToYHTo6B_MX-1600_MY-350_TuneCP5_13TeV-madgraph-pythia8.root', 'NMSSM_XToYHTo6B_MX-1600_MY-400_TuneCP5_13TeV-madgraph-pythia8.root', 'NMSSM_XToYHTo6B_MX-1600_MY-450_TuneCP5_13TeV-madgraph-pythia8.root', 'NMSSM_XToYHTo6B_MX-1600_MY-500_TuneCP5_13TeV-madgraph-pythia8.root', 'NMSSM_XToYHTo6B_MX-1600_MY-600_TuneCP5_13TeV-madgraph-pythia8.root', 'NMSSM_XToYHTo6B_MX-1600_MY-700_TuneCP5_13TeV-madgraph-pythia8.root', 'NMSSM_XToYHTo6B_MX-1600_MY-800_TuneCP5_13TeV-madgraph-pythia8.root', 'NMSSM_XToYHTo6B_MX-1600_MY-900_TuneCP5_13TeV-madgraph-pythia8.root', 'NMSSM_XToYHTo6B_MX-1700_MY-1000_TuneCP5_13TeV-madgraph-pythia8.root', 'NMSSM_XToYHTo6B_MX-1700_MY-1100_TuneCP5_13TeV-madgraph-pythia8.root', 'NMSSM_XToYHTo6B_MX-1700_MY-1200_TuneCP5_13TeV-madgraph-pythia8.root', 'NMSSM_XToYHTo6B_MX-1700_MY-1300_TuneCP5_13TeV-madgraph-pythia8.root', 'NMSSM_XToYHTo6B_MX-1700_MY-1400_TuneCP5_13TeV-madgraph-pythia8.root', 'NMSSM_XToYHTo6B_MX-1700_MY-250_TuneCP5_13TeV-madgraph-pythia8.root', 'NMSSM_XToYHTo6B_MX-1700_MY-300_TuneCP5_13TeV-madgraph-pythia8.root', 'NMSSM_XToYHTo6B_MX-1700_MY-350_TuneCP5_13TeV-madgraph-pythia8.root', 'NMSSM_XToYHTo6B_MX-1700_MY-400_TuneCP5_13TeV-madgraph-pythia8.root', 'NMSSM_XToYHTo6B_MX-1700_MY-450_TuneCP5_13TeV-madgraph-pythia8.root', 'NMSSM_XToYHTo6B_MX-1700_MY-500_TuneCP5_13TeV-madgraph-pythia8.root', 'NMSSM_XToYHTo6B_MX-1700_MY-600_TuneCP5_13TeV-madgraph-pythia8.root', 'NMSSM_XToYHTo6B_MX-1700_MY-700_TuneCP5_13TeV-madgraph-pythia8.root', 'NMSSM_XToYHTo6B_MX-1700_MY-800_TuneCP5_13TeV-madgraph-pythia8.root', 'NMSSM_XToYHTo6B_MX-1700_MY-900_TuneCP5_13TeV-madgraph-pythia8.root', 'NMSSM_XToYHTo6B_MX-1800_MY-1000_TuneCP5_13TeV-madgraph-pythia8.root', 'NMSSM_XToYHTo6B_MX-1800_MY-1100_TuneCP5_13TeV-madgraph-pythia8.root', 'NMSSM_XToYHTo6B_MX-1800_MY-1200_TuneCP5_13TeV-madgraph-pythia8.root', 'NMSSM_XToYHTo6B_MX-1800_MY-1300_TuneCP5_13TeV-madgraph-pythia8.root', 'NMSSM_XToYHTo6B_MX-1800_MY-1400_TuneCP5_13TeV-madgraph-pythia8.root', 'NMSSM_XToYHTo6B_MX-1800_MY-1600_TuneCP5_13TeV-madgraph-pythia8.root', 'NMSSM_XToYHTo6B_MX-1800_MY-250_TuneCP5_13TeV-madgraph-pythia8.root', 'NMSSM_XToYHTo6B_MX-1800_MY-300_TuneCP5_13TeV-madgraph-pythia8.root', 'NMSSM_XToYHTo6B_MX-1800_MY-350_TuneCP5_13TeV-madgraph-pythia8.root', 'NMSSM_XToYHTo6B_MX-1800_MY-400_TuneCP5_13TeV-madgraph-pythia8.root', 'NMSSM_XToYHTo6B_MX-1800_MY-450_TuneCP5_13TeV-madgraph-pythia8.root', 'NMSSM_XToYHTo6B_MX-1800_MY-500_TuneCP5_13TeV-madgraph-pythia8.root', 'NMSSM_XToYHTo6B_MX-1800_MY-600_TuneCP5_13TeV-madgraph-pythia8.root', 'NMSSM_XToYHTo6B_MX-1800_MY-700_TuneCP5_13TeV-madgraph-pythia8.root', 'NMSSM_XToYHTo6B_MX-1800_MY-800_TuneCP5_13TeV-madgraph-pythia8.root', 'NMSSM_XToYHTo6B_MX-1800_MY-900_TuneCP5_13TeV-madgraph-pythia8.root', 'NMSSM_XToYHTo6B_MX-1900_MY-1000_TuneCP5_13TeV-madgraph-pythia8.root', 'NMSSM_XToYHTo6B_MX-1900_MY-1100_TuneCP5_13TeV-madgraph-pythia8.root', 'NMSSM_XToYHTo6B_MX-1900_MY-1200_TuneCP5_13TeV-madgraph-pythia8.root', 'NMSSM_XToYHTo6B_MX-1900_MY-1300_TuneCP5_13TeV-madgraph-pythia8.root', 'NMSSM_XToYHTo6B_MX-1900_MY-1400_TuneCP5_13TeV-madgraph-pythia8.root', 'NMSSM_XToYHTo6B_MX-1900_MY-1600_TuneCP5_13TeV-madgraph-pythia8.root', 'NMSSM_XToYHTo6B_MX-1900_MY-250_TuneCP5_13TeV-madgraph-pythia8.root', 'NMSSM_XToYHTo6B_MX-1900_MY-300_TuneCP5_13TeV-madgraph-pythia8.root', 'NMSSM_XToYHTo6B_MX-1900_MY-350_TuneCP5_13TeV-madgraph-pythia8.root', 'NMSSM_XToYHTo6B_MX-1900_MY-400_TuneCP5_13TeV-madgraph-pythia8.root', 'NMSSM_XToYHTo6B_MX-1900_MY-450_TuneCP5_13TeV-madgraph-pythia8.root', 'NMSSM_XToYHTo6B_MX-1900_MY-500_TuneCP5_13TeV-madgraph-pythia8.root', 'NMSSM_XToYHTo6B_MX-1900_MY-600_TuneCP5_13TeV-madgraph-pythia8.root', 'NMSSM_XToYHTo6B_MX-1900_MY-700_TuneCP5_13TeV-madgraph-pythia8.root', 'NMSSM_XToYHTo6B_MX-1900_MY-800_TuneCP5_13TeV-madgraph-pythia8.root', 'NMSSM_XToYHTo6B_MX-1900_MY-900_TuneCP5_13TeV-madgraph-pythia8.root', 'NMSSM_XToYHTo6B_MX-2000_MY-1000_TuneCP5_13TeV-madgraph-pythia8.root', 'NMSSM_XToYHTo6B_MX-2000_MY-1100_TuneCP5_13TeV-madgraph-pythia8.root', 'NMSSM_XToYHTo6B_MX-2000_MY-1200_TuneCP5_13TeV-madgraph-pythia8.root', 'NMSSM_XToYHTo6B_MX-2000_MY-1300_TuneCP5_13TeV-madgraph-pythia8.root', 'NMSSM_XToYHTo6B_MX-2000_MY-1400_TuneCP5_13TeV-madgraph-pythia8.root', 'NMSSM_XToYHTo6B_MX-2000_MY-1600_TuneCP5_13TeV-madgraph-pythia8.root', 'NMSSM_XToYHTo6B_MX-2000_MY-250_TuneCP5_13TeV-madgraph-pythia8.root', 'NMSSM_XToYHTo6B_MX-2000_MY-300_TuneCP5_13TeV-madgraph-pythia8.root', 'NMSSM_XToYHTo6B_MX-2000_MY-400_TuneCP5_13TeV-madgraph-pythia8.root', 'NMSSM_XToYHTo6B_MX-2000_MY-450_TuneCP5_13TeV-madgraph-pythia8.root', 'NMSSM_XToYHTo6B_MX-2000_MY-500_TuneCP5_13TeV-madgraph-pythia8.root', 'NMSSM_XToYHTo6B_MX-2000_MY-600_TuneCP5_13TeV-madgraph-pythia8.root', 'NMSSM_XToYHTo6B_MX-2000_MY-700_TuneCP5_13TeV-madgraph-pythia8.root', 'NMSSM_XToYHTo6B_MX-2000_MY-800_TuneCP5_13TeV-madgraph-pythia8.root', 'NMSSM_XToYHTo6B_MX-2000_MY-900_TuneCP5_13TeV-madgraph-pythia8.root', 'NMSSM_XToYHTo6B_MX-400_MY-250_TuneCP5_13TeV-madgraph-pythia8.root', 'NMSSM_XToYHTo6B_MX-450_MY-250_TuneCP5_13TeV-madgraph-pythia8.root', 'NMSSM_XToYHTo6B_MX-450_MY-300_TuneCP5_13TeV-madgraph-pythia8.root', 'NMSSM_XToYHTo6B_MX-500_MY-250_TuneCP5_13TeV-madgraph-pythia8.root', 'NMSSM_XToYHTo6B_MX-500_MY-300_TuneCP5_13TeV-madgraph-pythia8.root', 'NMSSM_XToYHTo6B_MX-500_MY-350_TuneCP5_13TeV-madgraph-pythia8.root', 'NMSSM_XToYHTo6B_MX-550_MY-250_TuneCP5_13TeV-madgraph-pythia8.root', 'NMSSM_XToYHTo6B_MX-550_MY-300_TuneCP5_13TeV-madgraph-pythia8.root', 'NMSSM_XToYHTo6B_MX-550_MY-350_TuneCP5_13TeV-madgraph-pythia8.root', 'NMSSM_XToYHTo6B_MX-550_MY-400_TuneCP5_13TeV-madgraph-pythia8.root', 'NMSSM_XToYHTo6B_MX-600_MY-250_TuneCP5_13TeV-madgraph-pythia8.root', 'NMSSM_XToYHTo6B_MX-600_MY-300_TuneCP5_13TeV-madgraph-pythia8.root', 'NMSSM_XToYHTo6B_MX-600_MY-350_TuneCP5_13TeV-madgraph-pythia8.root', 'NMSSM_XToYHTo6B_MX-600_MY-400_TuneCP5_13TeV-madgraph-pythia8.root', 'NMSSM_XToYHTo6B_MX-600_MY-450_TuneCP5_13TeV-madgraph-pythia8.root', 'NMSSM_XToYHTo6B_MX-650_MY-250_TuneCP5_13TeV-madgraph-pythia8.root', 'NMSSM_XToYHTo6B_MX-650_MY-300_TuneCP5_13TeV-madgraph-pythia8.root', 'NMSSM_XToYHTo6B_MX-650_MY-350_TuneCP5_13TeV-madgraph-pythia8.root', 'NMSSM_XToYHTo6B_MX-650_MY-400_TuneCP5_13TeV-madgraph-pythia8.root', 'NMSSM_XToYHTo6B_MX-650_MY-450_TuneCP5_13TeV-madgraph-pythia8.root', 'NMSSM_XToYHTo6B_MX-650_MY-500_TuneCP5_13TeV-madgraph-pythia8.root', 'NMSSM_XToYHTo6B_MX-700_MY-250_TuneCP5_13TeV-madgraph-pythia8.root', 'NMSSM_XToYHTo6B_MX-700_MY-300_TuneCP5_13TeV-madgraph-pythia8.root', 'NMSSM_XToYHTo6B_MX-700_MY-350_TuneCP5_13TeV-madgraph-pythia8.root', 'NMSSM_XToYHTo6B_MX-700_MY-400_TuneCP5_13TeV-madgraph-pythia8.root', 'NMSSM_XToYHTo6B_MX-700_MY-450_TuneCP5_13TeV-madgraph-pythia8.root', 'NMSSM_XToYHTo6B_MX-700_MY-500_TuneCP5_13TeV-madgraph-pythia8.root', 'NMSSM_XToYHTo6B_MX-750_MY-250_TuneCP5_13TeV-madgraph-pythia8.root', 'NMSSM_XToYHTo6B_MX-750_MY-300_TuneCP5_13TeV-madgraph-pythia8.root', 'NMSSM_XToYHTo6B_MX-750_MY-350_TuneCP5_13TeV-madgraph-pythia8.root', 'NMSSM_XToYHTo6B_MX-750_MY-400_TuneCP5_13TeV-madgraph-pythia8.root', 'NMSSM_XToYHTo6B_MX-750_MY-450_TuneCP5_13TeV-madgraph-pythia8.root', 'NMSSM_XToYHTo6B_MX-750_MY-500_TuneCP5_13TeV-madgraph-pythia8.root', 'NMSSM_XToYHTo6B_MX-750_MY-600_TuneCP5_13TeV-madgraph-pythia8.root', 'NMSSM_XToYHTo6B_MX-800_MY-250_TuneCP5_13TeV-madgraph-pythia8.root', 'NMSSM_XToYHTo6B_MX-800_MY-300_TuneCP5_13TeV-madgraph-pythia8.root', 'NMSSM_XToYHTo6B_MX-800_MY-350_TuneCP5_13TeV-madgraph-pythia8.root', 'NMSSM_XToYHTo6B_MX-800_MY-400_TuneCP5_13TeV-madgraph-pythia8.root', 'NMSSM_XToYHTo6B_MX-800_MY-450_TuneCP5_13TeV-madgraph-pythia8.root', 'NMSSM_XToYHTo6B_MX-800_MY-500_TuneCP5_13TeV-madgraph-pythia8.root', 'NMSSM_XToYHTo6B_MX-800_MY-600_TuneCP5_13TeV-madgraph-pythia8.root', 'NMSSM_XToYHTo6B_MX-850_MY-250_TuneCP5_13TeV-madgraph-pythia8.root', 'NMSSM_XToYHTo6B_MX-850_MY-300_TuneCP5_13TeV-madgraph-pythia8.root', 'NMSSM_XToYHTo6B_MX-850_MY-350_TuneCP5_13TeV-madgraph-pythia8.root', 'NMSSM_XToYHTo6B_MX-850_MY-400_TuneCP5_13TeV-madgraph-pythia8.root', 'NMSSM_XToYHTo6B_MX-850_MY-450_TuneCP5_13TeV-madgraph-pythia8.root', 'NMSSM_XToYHTo6B_MX-850_MY-500_TuneCP5_13TeV-madgraph-pythia8.root', 'NMSSM_XToYHTo6B_MX-850_MY-600_TuneCP5_13TeV-madgraph-pythia8.root', 'NMSSM_XToYHTo6B_MX-850_MY-700_TuneCP5_13TeV-madgraph-pythia8.root', 'NMSSM_XToYHTo6B_MX-900_MY-250_TuneCP5_13TeV-madgraph-pythia8.root', 'NMSSM_XToYHTo6B_MX-900_MY-300_TuneCP5_13TeV-madgraph-pythia8.root', 'NMSSM_XToYHTo6B_MX-900_MY-350_TuneCP5_13TeV-madgraph-pythia8.root', 'NMSSM_XToYHTo6B_MX-900_MY-400_TuneCP5_13TeV-madgraph-pythia8.root', 'NMSSM_XToYHTo6B_MX-900_MY-450_TuneCP5_13TeV-madgraph-pythia8.root', 'NMSSM_XToYHTo6B_MX-900_MY-500_TuneCP5_13TeV-madgraph-pythia8.root', 'NMSSM_XToYHTo6B_MX-900_MY-600_TuneCP5_13TeV-madgraph-pythia8.root', 'NMSSM_XToYHTo6B_MX-900_MY-700_TuneCP5_13TeV-madgraph-pythia8.root', 'NMSSM_XToYHTo6B_MX-950_MY-250_TuneCP5_13TeV-madgraph-pythia8.root', 'NMSSM_XToYHTo6B_MX-950_MY-300_TuneCP5_13TeV-madgraph-pythia8.root', 'NMSSM_XToYHTo6B_MX-950_MY-350_TuneCP5_13TeV-madgraph-pythia8.root', 'NMSSM_XToYHTo6B_MX-950_MY-400_TuneCP5_13TeV-madgraph-pythia8.root', 'NMSSM_XToYHTo6B_MX-950_MY-450_TuneCP5_13TeV-madgraph-pythia8.root', 'NMSSM_XToYHTo6B_MX-950_MY-500_TuneCP5_13TeV-madgraph-pythia8.root', 'NMSSM_XToYHTo6B_MX-950_MY-600_TuneCP5_13TeV-madgraph-pythia8.root', 'NMSSM_XToYHTo6B_MX-950_MY-700_TuneCP5_13TeV-madgraph-pythia8.root', 'NMSSM_XToYHTo6B_MX-950_MY-800_TuneCP5_13TeV-madgraph-pythia8.root', '']\n",
      "[14:12:31] Loading                                                 signal.py:218\n",
      "           /eos/uscms/store/user/srosenzw/weaver/models/exp_sixb_o              \n",
      "           fficial/feynnet_ranker_6b/20230731_7d266883bbfb88fe4e22              \n",
      "           6783a7d1c9db_ranger_lr0.0047_batch2000_withbkg/predict_              \n",
      "           output/2017/NMSSM_XToYHTo6B_MX-1000_MY-250_TuneCP5_13Te              \n",
      "           V-madgraph-pythia8.root...                                           \n"
     ]
    }
   ],
   "source": [
    "# tree = SixB(\"/eos/uscms/store/user/srosenzw/sixb/ntuples/Summer2018UL/cutflow_studies/presel/NMSSM/NMSSM_XYH_YToHH_6b_MX_700_MY_400/ntuple.root\")\n",
    "tree = SixB(\"/eos/uscms/store/user/srosenzw/sixb/ntuples/Summer2017UL/maxbtag_4b/Official_NMSSM/NMSSM_XToYHTo6B_MX-1000_MY-250_TuneCP5_13TeV-madgraph-pythia8/ntuple.root\")"
   ]
  },
  {
   "cell_type": "code",
   "execution_count": 8,
   "metadata": {},
   "outputs": [
    {
     "data": {
      "image/png": "[encoded data removed]",
      "text/plain": [
       "<Figure size 720x720 with 1 Axes>"
      ]
     },
     "metadata": {
      "needs_background": "light"
     },
     "output_type": "display_data"
    }
   ],
   "source": [
    "fig, ax = plt.subplots()\n",
    "\n",
    "tree.hist(tree.n_jet, bins=np.arange(22), ax=ax)\n",
    "ax.set_xlabel('Number of Reco Jets in Event')\n",
    "\n",
    "fig.savefig(\"plots/1_signal_exploration/n_jet.pdf\")"
   ]
  },
  {
   "cell_type": "code",
   "execution_count": null,
   "metadata": {},
   "outputs": [],
   "source": []
  },
  {
   "cell_type": "code",
   "execution_count": null,
   "metadata": {},
   "outputs": [],
   "source": []
  },
  {
   "cell_type": "code",
   "execution_count": null,
   "metadata": {},
   "outputs": [],
   "source": []
  },
  {
   "cell_type": "code",
   "execution_count": 1,
   "metadata": {},
   "outputs": [],
   "source": [
    "import uproot"
   ]
  },
  {
   "cell_type": "code",
   "execution_count": 8,
   "metadata": {},
   "outputs": [],
   "source": [
    "fout = '/uscms/home/srosenzw/nobackup/workarea/higgs/sixb_analysis/CMSSW_10_6_28/src/MultiHiggs/analysis/MultiHAnalysis/output.root'\n",
    "tree = uproot.open(f\"{fout}:sixBtree\")"
   ]
  },
  {
   "cell_type": "code",
   "execution_count": 12,
   "metadata": {},
   "outputs": [
    {
     "data": {
      "text/plain": [
       "([[-3.15625], [2.71875], [-1.890625], [2.046875], [-1.08203125], [-3.125]],\n",
       " [[-1.254638671875],\n",
       "  [-0.365966796875],\n",
       "  [1.6513671875],\n",
       "  [1.09912109375],\n",
       "  [-1.515380859375],\n",
       "  [1.692626953125]])"
      ]
     },
     "execution_count": 12,
     "metadata": {},
     "output_type": "execute_result"
    }
   ],
   "source": [
    "tree['matched_quark_eta'].array().to_list(), tree['matched_genjet_eta'].array().to_list()"
   ]
  },
  {
   "cell_type": "code",
   "execution_count": null,
   "metadata": {},
   "outputs": [],
   "source": []
  },
  {
   "cell_type": "code",
   "execution_count": null,
   "metadata": {},
   "outputs": [],
   "source": []
  },
  {
   "cell_type": "code",
   "execution_count": null,
   "metadata": {},
   "outputs": [
    {
     "ename": "",
     "evalue": "",
     "output_type": "error",
     "traceback": [
      "\u001b[1;31mFailed to start the Kernel 'sixb (Python 3.9.16)'. \n",
      "\u001b[1;31mView Jupyter <a href='command:jupyter.viewOutput'>log</a> for further details. Unknown system error -122: Unknown system error -122, close"
     ]
    }
   ],
   "source": [
    "import uproot\n",
    "import subprocess, shlex\n",
    "fileloc = '/eos/uscms/store/user/srosenzw/sixb/ntuples/Summer2018UL/maxbtag/NMSSM'\n",
    "cmd = f\"ls {fileloc}/*/fully_res_ntuple.root\"\n",
    "output = subprocess.check_output(shlex.split(cmd))\n",
    "output = output.decode('utf-8')\n",
    "output = output.split('\\n')\n",
    "output = [f\"{fileloc}/{out}/ntuple.root\" for out in output if 'NMSSM' in out]\n",
    "output"
   ]
  },
  {
   "cell_type": "code",
   "execution_count": 21,
   "metadata": {},
   "outputs": [
    {
     "data": {
      "text/plain": [
       "[]"
      ]
     },
     "execution_count": 21,
     "metadata": {},
     "output_type": "execute_result"
    }
   ],
   "source": [
    "tree = uproot.open(\"/eos/uscms/store/user/srosenzw/sixb/ntuples/Summer2018UL/maxbtag/NMSSM/NMSSM_XYH_YToHH_6b_MX_1000_MY_450_2M/output/ntuple_1.root\")"
   ]
  },
  {
   "cell_type": "code",
   "execution_count": null,
   "metadata": {},
   "outputs": [],
   "source": []
  },
  {
   "cell_type": "code",
   "execution_count": 23,
   "metadata": {},
   "outputs": [
    {
     "name": "stdout",
     "output_type": "stream",
     "text": [
      "[13:30:10] Loading                                                 signal.py:110\n",
      "           Summer2018UL/maxbtag_4b/Official_NMSSM/NMSSM_XToYHTo6B_              \n",
      "           MX-700_MY-400_TuneCP5_13TeV-madgraph-pythia8/ntuple.roo              \n",
      "           t...                                                                 \n",
      "Running:  ls /uscms/home/srosenzw/nobackup/workarea/higgs/sixb_analysis/CMSSW_10_6_19_patch2/src/sixb/weaver-multiH/weaver/models/exp_xy/feynnet_6b/20230621_ranger_lr0.0047_batch1024__99_masses_mxmy_reweighting_withbkg/predict_output\n",
      "[13:30:14] Loading                                                 signal.py:207\n",
      "           /uscms/home/srosenzw/nobackup/workarea/higgs/sixb_analy              \n",
      "           sis/CMSSW_10_6_19_patch2/src/sixb/weaver-multiH/weaver/              \n",
      "           models/exp_xy/feynnet_6b/20230621_ranger_lr0.0047_batch              \n",
      "           1024__99_masses_mxmy_reweighting_withbkg/predict_output              \n",
      "           /NMSSM_XToYHTo6B_MX-700_MY-400_TuneCP5_13TeV-madgraph-p              \n",
      "           ythia8.root...                                                       \n"
     ]
    }
   ],
   "source": [
    "tree = sixb_from_gnn(get_NMSSM())"
   ]
  },
  {
   "cell_type": "code",
   "execution_count": 6,
   "metadata": {},
   "outputs": [],
   "source": [
    "correct_mask = tree.H1_correct & tree.H2_correct"
   ]
  },
  {
   "cell_type": "code",
   "execution_count": 22,
   "metadata": {},
   "outputs": [
    {
     "data": {
      "text/plain": [
       "array([0.00097656, 0.00390625, 0.04101562, ..., 0.01416016, 0.        ,\n",
       "       0.00048828], dtype=float32)"
      ]
     },
     "execution_count": 22,
     "metadata": {},
     "output_type": "execute_result"
    }
   ],
   "source": [
    "np.sort(tree.scores, axis=1)[:,44]-np.sort(tree.scores, axis=1)[:,43]"
   ]
  },
  {
   "cell_type": "code",
   "execution_count": 26,
   "metadata": {},
   "outputs": [
    {
     "data": {
      "text/plain": [
       "array([1.14517570e-01, 1.20243526e+00, 9.67671871e+00, 3.31813622e+01,\n",
       "       6.35284195e+01, 1.01436157e+02, 1.41504761e+02, 2.10520447e+02,\n",
       "       3.03372925e+02, 4.24773682e+02, 5.63779053e+02, 6.67517944e+02,\n",
       "       6.32760986e+02, 4.35814697e+02, 2.51208008e+02, 1.63455566e+02,\n",
       "       1.29577148e+02, 1.17758301e+02, 1.12680664e+02, 9.95136719e+01,\n",
       "       9.07641602e+01, 8.13544922e+01, 7.65932617e+01, 7.07124023e+01,\n",
       "       6.09013672e+01, 5.29267578e+01, 4.94843750e+01, 4.47221680e+01,\n",
       "       3.85546875e+01, 3.43374023e+01])"
      ]
     },
     "execution_count": 26,
     "metadata": {},
     "output_type": "execute_result"
    },
    {
     "data": {
      "image/png": "[encoded data removed]",
      "text/plain": [
       "<Figure size 720x720 with 1 Axes>"
      ]
     },
     "metadata": {
      "needs_background": "light"
     },
     "output_type": "display_data"
    }
   ],
   "source": [
    "fig, ax = plt.subplots()\n",
    "\n",
    "tree.hist(tree.HX.m, np.linspace(0,300,31), ax=ax)"
   ]
  },
  {
   "cell_type": "code",
   "execution_count": 25,
   "metadata": {},
   "outputs": [
    {
     "data": {
      "text/plain": [
       "array([6.64231539e-01, 1.93151295e-01, 7.91246295e-02, 3.70346308e-02,\n",
       "       1.51883364e-02, 6.61993027e-03, 2.56031752e-03, 1.15287304e-03,\n",
       "       4.92572784e-04, 2.59816647e-04, 8.66055489e-05, 5.41806221e-05,\n",
       "       2.16364861e-05, 1.07884407e-05, 1.08480453e-05, 0.00000000e+00,\n",
       "       0.00000000e+00, 0.00000000e+00, 0.00000000e+00, 0.00000000e+00,\n",
       "       0.00000000e+00, 0.00000000e+00, 0.00000000e+00, 0.00000000e+00,\n",
       "       0.00000000e+00, 0.00000000e+00, 0.00000000e+00, 0.00000000e+00,\n",
       "       0.00000000e+00, 0.00000000e+00])"
      ]
     },
     "execution_count": 25,
     "metadata": {},
     "output_type": "execute_result"
    },
    {
     "data": {
      "image/png": "[encoded data removed]",
      "text/plain": [
       "<Figure size 720x720 with 1 Axes>"
      ]
     },
     "metadata": {
      "needs_background": "light"
     },
     "output_type": "display_data"
    }
   ],
   "source": [
    "fig, ax = plt.subplots()\n",
    "\n",
    "tree.hist(tree.max_diff[correct_mask], bins=np.linspace(0,1,31), ax=ax, label='Correct MY', density=True)\n",
    "tree.hist(tree.max_diff[~correct_mask], bins=np.linspace(0,1,31), ax=ax, label='Incorrect MY', density=True)"
   ]
  },
  {
   "cell_type": "code",
   "execution_count": 48,
   "metadata": {},
   "outputs": [
    {
     "data": {
      "text/plain": [
       "0.7197265625"
      ]
     },
     "execution_count": 48,
     "metadata": {},
     "output_type": "execute_result"
    }
   ],
   "source": [
    "max(tree.max_diff)"
   ]
  },
  {
   "cell_type": "code",
   "execution_count": 49,
   "metadata": {},
   "outputs": [
    {
     "data": {
      "text/plain": [
       "Text(0, 1, 'Max Score - Next Highest Score')"
      ]
     },
     "execution_count": 49,
     "metadata": {},
     "output_type": "execute_result"
    },
    {
     "data": {
      "image/png": "[encoded data removed]",
      "text/plain": [
       "<Figure size 720x576 with 2 Axes>"
      ]
     },
     "metadata": {
      "needs_background": "light"
     },
     "output_type": "display_data"
    }
   ],
   "source": [
    "fig, ax = plt.subplots(figsize=(10,8))\n",
    "\n",
    "n, ex, ey, im = Hist2d(tree.Y.m, tree.max_diff, bins=(np.linspace(0,1000,41), np.linspace(0,0.6,41)), ax=ax)\n",
    "fig.colorbar(im, ax=ax)\n",
    "\n",
    "ax.set_xlabel(r'$M_Y$ [GeV]')\n",
    "ax.set_ylabel('Max Score - Next Highest Score')"
   ]
  },
  {
   "cell_type": "code",
   "execution_count": 46,
   "metadata": {},
   "outputs": [
    {
     "data": {
      "text/plain": [
       "<matplotlib.colorbar.Colorbar at 0x7fb2f0a32af0>"
      ]
     },
     "execution_count": 46,
     "metadata": {},
     "output_type": "execute_result"
    },
    {
     "data": {
      "image/png": "[encoded data removed]",
      "text/plain": [
       "<Figure size 720x576 with 2 Axes>"
      ]
     },
     "metadata": {
      "needs_background": "light"
     },
     "output_type": "display_data"
    }
   ],
   "source": [
    "fig, ax = plt.subplots(figsize=(10,8))\n",
    "\n",
    "n, ex, ey, im = Hist2d(tree.Y.m, tree.minscore, bins=(np.linspace(0,1000,41), np.linspace(0,1,41)), ax=ax)\n",
    "fig.colorbar(im, ax=ax)"
   ]
  },
  {
   "cell_type": "code",
   "execution_count": 41,
   "metadata": {},
   "outputs": [
    {
     "data": {
      "text/plain": [
       "array([0.00000000e+00, 2.13357136e-02, 0.00000000e+00, 2.98699975e-01,\n",
       "       6.14468718e+00, 4.50608101e+01, 1.60593079e+02, 3.93801331e+02,\n",
       "       6.54867676e+02, 4.61515381e+02, 2.06001953e+02, 1.74823608e+02,\n",
       "       1.77701416e+02, 1.80741455e+02, 1.86764893e+02, 1.97424805e+02,\n",
       "       2.16864258e+02, 2.49548584e+02, 2.82636719e+02, 3.09488281e+02,\n",
       "       3.15939941e+02, 2.86824219e+02, 2.27139160e+02, 1.72881348e+02,\n",
       "       1.26226562e+02, 9.05087891e+01, 6.90615234e+01, 5.70786133e+01,\n",
       "       4.95161133e+01, 4.49663086e+01])"
      ]
     },
     "execution_count": 41,
     "metadata": {},
     "output_type": "execute_result"
    },
    {
     "data": {
      "image/png": "[encoded data removed]",
      "text/plain": [
       "<Figure size 720x720 with 1 Axes>"
      ]
     },
     "metadata": {
      "needs_background": "light"
     },
     "output_type": "display_data"
    }
   ],
   "source": [
    "fig, ax = plt.subplots()\n",
    "\n",
    "tree.hist(tree.Y.m, bins=np.linspace(0,1000,31), ax=ax)"
   ]
  },
  {
   "cell_type": "code",
   "execution_count": 37,
   "metadata": {},
   "outputs": [
    {
     "data": {
      "text/plain": [
       "0.72021484375"
      ]
     },
     "execution_count": 37,
     "metadata": {},
     "output_type": "execute_result"
    }
   ],
   "source": [
    "max(tree.max_diff)"
   ]
  },
  {
   "cell_type": "code",
   "execution_count": 12,
   "metadata": {},
   "outputs": [
    {
     "data": {
      "text/plain": [
       "(<Array [1e+03, 0.832, 0.634, ... 0.697, 998] type='268865 * float32'>,\n",
       " <Array [1e+03, 0.832, 0.634, ... 0.697, 998] type='268865 * float32'>)"
      ]
     },
     "execution_count": 12,
     "metadata": {},
     "output_type": "execute_result"
    }
   ],
   "source": [
    "tree.initialize_gen()\n",
    "tree.gen_matched_HX_b1.deltaR(tree.gen_matched_HX_b2),tree.gen_matched_HX.dr"
   ]
  },
  {
   "cell_type": "code",
   "execution_count": 14,
   "metadata": {},
   "outputs": [
    {
     "data": {
      "text/plain": [
       "<Array [114, 111, 112, 102, ... 120, 105, 124] type='145763 * float32'>"
      ]
     },
     "execution_count": 14,
     "metadata": {},
     "output_type": "execute_result"
    }
   ],
   "source": [
    "tree.gen_matched_HX.m[tree.good_mask]"
   ]
  },
  {
   "cell_type": "code",
   "execution_count": 8,
   "metadata": {},
   "outputs": [
    {
     "data": {
      "text/plain": [
       "<Array [-1, 114, 111, 112, ... 106, 124, -1] type='268865 * float32'>"
      ]
     },
     "execution_count": 8,
     "metadata": {},
     "output_type": "execute_result"
    }
   ],
   "source": [
    "ak.nan_to_num(tree.gen_matched_HX.m, nan=-1)"
   ]
  },
  {
   "cell_type": "code",
   "execution_count": null,
   "metadata": {},
   "outputs": [],
   "source": []
  },
  {
   "cell_type": "code",
   "execution_count": 25,
   "metadata": {},
   "outputs": [
    {
     "ename": "NameError",
     "evalue": "name 'self' is not defined",
     "output_type": "error",
     "traceback": [
      "\u001b[0;31m---------------------------------------------------------------------------\u001b[0m",
      "\u001b[0;31mNameError\u001b[0m                                 Traceback (most recent call last)",
      "\u001b[1;32m/uscms/home/srosenzw/nobackup/workarea/higgs/sixb_analysis/CMSSW_10_6_19_patch2/src/sixb/jupyter/scratch.ipynb Cell 3\u001b[0m in \u001b[0;36m<cell line: 1>\u001b[0;34m()\u001b[0m\n\u001b[0;32m----> <a href='vscode-notebook-cell://ssh-remote%2Bsrosenzw@cmslpcgpu2.fnal.gov/uscms/home/srosenzw/nobackup/workarea/higgs/sixb_analysis/CMSSW_10_6_19_patch2/src/sixb/jupyter/scratch.ipynb#X50sdnNjb2RlLXJlbW90ZQ%3D%3D?line=0'>1</a>\u001b[0m \u001b[39mself\u001b[39;49m\u001b[39m.\u001b[39mgen_matched_HX\n",
      "\u001b[0;31mNameError\u001b[0m: name 'self' is not defined"
     ]
    }
   ],
   "source": [
    "self.gen_matched_HX"
   ]
  },
  {
   "cell_type": "code",
   "execution_count": 16,
   "metadata": {},
   "outputs": [
    {
     "data": {
      "text/plain": [
       "utils.analysis.signal.SixB"
      ]
     },
     "execution_count": 16,
     "metadata": {},
     "output_type": "execute_result"
    }
   ],
   "source": [
    "type(tree)"
   ]
  },
  {
   "cell_type": "code",
   "execution_count": 19,
   "metadata": {},
   "outputs": [
    {
     "data": {
      "text/plain": [
       "False"
      ]
     },
     "execution_count": 19,
     "metadata": {},
     "output_type": "execute_result"
    }
   ],
   "source": [
    "isinstance(tree, SixB)"
   ]
  },
  {
   "cell_type": "code",
   "execution_count": 8,
   "metadata": {},
   "outputs": [
    {
     "data": {
      "text/plain": [
       "['gen_X_fc_m',\n",
       " 'gen_X_fc_pt',\n",
       " 'gen_X_fc_eta',\n",
       " 'gen_X_fc_phi',\n",
       " 'gen_X_m',\n",
       " 'gen_X_pt',\n",
       " 'gen_X_eta',\n",
       " 'gen_X_phi',\n",
       " 'gen_Y_m',\n",
       " 'gen_Y_pt',\n",
       " 'gen_Y_eta',\n",
       " 'gen_Y_phi',\n",
       " 'gen_HX_m',\n",
       " 'gen_HX_pt',\n",
       " 'gen_HX_eta',\n",
       " 'gen_HX_phi',\n",
       " 'gen_H1_m',\n",
       " 'gen_H1_pt',\n",
       " 'gen_H1_eta',\n",
       " 'gen_H1_phi',\n",
       " 'gen_H2_m',\n",
       " 'gen_H2_pt',\n",
       " 'gen_H2_eta',\n",
       " 'gen_H2_phi',\n",
       " 'gen_HX_b1_m',\n",
       " 'gen_HX_b1_pt',\n",
       " 'gen_HX_b1_eta',\n",
       " 'gen_HX_b1_phi',\n",
       " 'gen_HX_b2_m',\n",
       " 'gen_HX_b2_pt',\n",
       " 'gen_HX_b2_eta',\n",
       " 'gen_HX_b2_phi',\n",
       " 'gen_H1_b1_m',\n",
       " 'gen_H1_b1_pt',\n",
       " 'gen_H1_b1_eta',\n",
       " 'gen_H1_b1_phi',\n",
       " 'gen_H1_b2_m',\n",
       " 'gen_H1_b2_pt',\n",
       " 'gen_H1_b2_eta',\n",
       " 'gen_H1_b2_phi',\n",
       " 'gen_H2_b1_m',\n",
       " 'gen_H2_b1_pt',\n",
       " 'gen_H2_b1_eta',\n",
       " 'gen_H2_b1_phi',\n",
       " 'gen_H2_b2_m',\n",
       " 'gen_H2_b2_pt',\n",
       " 'gen_H2_b2_eta',\n",
       " 'gen_H2_b2_phi',\n",
       " 'gen_HX_b1_genjet_m',\n",
       " 'gen_HX_b1_genjet_pt',\n",
       " 'gen_HX_b1_genjet_eta',\n",
       " 'gen_HX_b1_genjet_phi',\n",
       " 'gen_HX_b2_genjet_m',\n",
       " 'gen_HX_b2_genjet_pt',\n",
       " 'gen_HX_b2_genjet_eta',\n",
       " 'gen_HX_b2_genjet_phi',\n",
       " 'gen_H1_b1_genjet_m',\n",
       " 'gen_H1_b1_genjet_pt',\n",
       " 'gen_H1_b1_genjet_eta',\n",
       " 'gen_H1_b1_genjet_phi',\n",
       " 'gen_H1_b2_genjet_m',\n",
       " 'gen_H1_b2_genjet_pt',\n",
       " 'gen_H1_b2_genjet_eta',\n",
       " 'gen_H1_b2_genjet_phi',\n",
       " 'gen_H2_b1_genjet_m',\n",
       " 'gen_H2_b1_genjet_pt',\n",
       " 'gen_H2_b1_genjet_eta',\n",
       " 'gen_H2_b1_genjet_phi',\n",
       " 'gen_H2_b2_genjet_m',\n",
       " 'gen_H2_b2_genjet_pt',\n",
       " 'gen_H2_b2_genjet_eta',\n",
       " 'gen_H2_b2_genjet_phi',\n",
       " 'gen_HX_b1_recojet_m',\n",
       " 'gen_HX_b1_recojet_mRegressed',\n",
       " 'gen_HX_b1_recojet_pt',\n",
       " 'gen_HX_b1_recojet_ptRegressed',\n",
       " 'gen_HX_b1_recojet_eta',\n",
       " 'gen_HX_b1_recojet_phi',\n",
       " 'gen_HX_b2_recojet_m',\n",
       " 'gen_HX_b2_recojet_mRegressed',\n",
       " 'gen_HX_b2_recojet_pt',\n",
       " 'gen_HX_b2_recojet_ptRegressed',\n",
       " 'gen_HX_b2_recojet_eta',\n",
       " 'gen_HX_b2_recojet_phi',\n",
       " 'gen_H1_b1_recojet_m',\n",
       " 'gen_H1_b1_recojet_mRegressed',\n",
       " 'gen_H1_b1_recojet_pt',\n",
       " 'gen_H1_b1_recojet_ptRegressed',\n",
       " 'gen_H1_b1_recojet_eta',\n",
       " 'gen_H1_b1_recojet_phi',\n",
       " 'gen_H1_b2_recojet_m',\n",
       " 'gen_H1_b2_recojet_mRegressed',\n",
       " 'gen_H1_b2_recojet_pt',\n",
       " 'gen_H1_b2_recojet_ptRegressed',\n",
       " 'gen_H1_b2_recojet_eta',\n",
       " 'gen_H1_b2_recojet_phi',\n",
       " 'gen_H2_b1_recojet_m',\n",
       " 'gen_H2_b1_recojet_mRegressed',\n",
       " 'gen_H2_b1_recojet_pt',\n",
       " 'gen_H2_b1_recojet_ptRegressed',\n",
       " 'gen_H2_b1_recojet_eta',\n",
       " 'gen_H2_b1_recojet_phi',\n",
       " 'gen_H2_b2_recojet_m',\n",
       " 'gen_H2_b2_recojet_mRegressed',\n",
       " 'gen_H2_b2_recojet_pt',\n",
       " 'gen_H2_b2_recojet_ptRegressed',\n",
       " 'gen_H2_b2_recojet_eta',\n",
       " 'gen_H2_b2_recojet_phi',\n",
       " 'gen_bs_N_reco_match',\n",
       " 'gen_bs_N_reco_match_in_acc',\n",
       " 'gen_bs_match_recojet_minv',\n",
       " 'gen_bs_match_in_acc_recojet_minv',\n",
       " 'genjet_E',\n",
       " 'genjet_m',\n",
       " 'genjet_pt',\n",
       " 'genjet_eta',\n",
       " 'genjet_phi',\n",
       " 'genjet_partonFlav',\n",
       " 'genjet_hadronFlav',\n",
       " 'genjet_signalId',\n",
       " 'genjet_recoIdx',\n",
       " 'genWeight']"
      ]
     },
     "execution_count": 8,
     "metadata": {},
     "output_type": "execute_result"
    }
   ],
   "source": [
    "[key for key in tree.keys() if key.startswith('gen')]"
   ]
  },
  {
   "cell_type": "code",
   "execution_count": null,
   "metadata": {},
   "outputs": [],
   "source": []
  },
  {
   "cell_type": "code",
   "execution_count": null,
   "metadata": {},
   "outputs": [],
   "source": []
  },
  {
   "cell_type": "code",
   "execution_count": null,
   "metadata": {},
   "outputs": [],
   "source": []
  },
  {
   "cell_type": "code",
   "execution_count": null,
   "metadata": {},
   "outputs": [],
   "source": []
  },
  {
   "cell_type": "code",
   "execution_count": 1,
   "metadata": {},
   "outputs": [
    {
     "name": "stdout",
     "output_type": "stream",
     "text": [
      "Welcome to JupyROOT 6.24/06\n"
     ]
    }
   ],
   "source": [
    "from utils.analysis import Signal"
   ]
  },
  {
   "cell_type": "code",
   "execution_count": 2,
   "metadata": {},
   "outputs": [],
   "source": [
    "indir = f\"root://cmseos.fnal.gov//store/user/srosenzw/sixb/ntuples/Summer2018UL/bias/\"\n",
    "datFileName = f\"{indir}JetHT_Data_UL/JetHT_Run2018_full/ntuple.root\"\n",
    "datTree = Signal(datFileName)"
   ]
  },
  {
   "cell_type": "code",
   "execution_count": 3,
   "metadata": {},
   "outputs": [
    {
     "name": "stdout",
     "output_type": "stream",
     "text": [
      "VR_center   = 174\n",
      "SR_edge     = 30\n",
      "CR_edge     = 40\n",
      "--------------------\n",
      "\n"
     ]
    }
   ],
   "source": [
    "from configparser import ConfigParser\n",
    "\n",
    "cfg = 'config/sphereConfig_bias.cfg'\n",
    "\n",
    "config = ConfigParser()\n",
    "config.optionxform = str\n",
    "config.read(cfg)\n",
    "\n",
    "base = config['file']['base']\n",
    "data = config['file']['data']\n",
    "\n",
    "indir = f\"root://cmseos.fnal.gov/{base}\"\n",
    "datFileName = f\"{indir}{data}\"\n",
    "datTree = Signal(datFileName)\n",
    "region_type = 'sphere'\n",
    "\n",
    "variables = config['BDT']['variables']\n",
    "variables = variables.split(', ')\n",
    "\n",
    "datTree.spherical_region(config)"
   ]
  },
  {
   "cell_type": "code",
   "execution_count": 4,
   "metadata": {},
   "outputs": [
    {
     "name": "stdout",
     "output_type": "stream",
     "text": [
      ".. training BDT in V_CR\n",
      ".. calling reweight.GBReweighter\n",
      ".. calling reweight.FoldingReweighter\n",
      ".. calling reweighter.fit\n",
      ".. predicting weights in CR\n",
      "\n",
      ".. predicting weights in V_SR\n",
      "\n",
      ".. training BDT in A_CR\n",
      ".. calling reweight.GBReweighter\n",
      ".. calling reweight.FoldingReweighter\n",
      ".. calling reweighter.fit\n",
      "\n",
      ".. predicting weights in A_SR\n",
      "\n"
     ]
    }
   ],
   "source": [
    "datTree.bdt_process(region_type, config)"
   ]
  },
  {
   "attachments": {},
   "cell_type": "markdown",
   "metadata": {},
   "source": [
    "Pull distributions"
   ]
  },
  {
   "cell_type": "code",
   "execution_count": 5,
   "metadata": {},
   "outputs": [],
   "source": [
    "hs_mask = datTree.V_SRhs_mask\n",
    "ls_mask = datTree.V_SRls_mask\n",
    "weights = datTree.V_SR_weights"
   ]
  },
  {
   "cell_type": "code",
   "execution_count": 6,
   "metadata": {},
   "outputs": [],
   "source": [
    "from matplotlib.gridspec import GridSpec, GridSpecFromSubplotSpec\n",
    "from scipy.optimize import curve_fit\n",
    "from matplotlib.patches import Rectangle\n",
    "from scipy.stats import chisquare"
   ]
  },
  {
   "cell_type": "code",
   "execution_count": 7,
   "metadata": {},
   "outputs": [],
   "source": [
    "def gauss(x, H, A, x0, sigma):\n",
    "   return H + A * np.exp(-(x - x0) ** 2 / (2 * sigma ** 2))\n",
    "\n",
    "def kernel_func(X, h, xi):\n",
    "   A = 1/(h*np.sqrt(2*np.pi))\n",
    "   B = -0.5*(X-xi)**2/h**2\n",
    "   return A*np.exp(B)"
   ]
  },
  {
   "cell_type": "code",
   "execution_count": 76,
   "metadata": {},
   "outputs": [
    {
     "data": {
      "text/plain": [
       "['Run',\n",
       " 'LumiSec',\n",
       " 'Event',\n",
       " 'n_other_pv',\n",
       " 'rhofastjet_all',\n",
       " 'X_m',\n",
       " 'X_pt',\n",
       " 'X_eta',\n",
       " 'X_phi',\n",
       " 'Y_m',\n",
       " 'Y_pt',\n",
       " 'Y_eta',\n",
       " 'Y_phi',\n",
       " 'HX_m',\n",
       " 'HX_pt',\n",
       " 'HX_eta',\n",
       " 'HX_phi',\n",
       " 'HY1_m',\n",
       " 'HY1_pt',\n",
       " 'HY1_eta',\n",
       " 'HY1_phi',\n",
       " 'HY2_m',\n",
       " 'HY2_pt',\n",
       " 'HY2_eta',\n",
       " 'HY2_phi',\n",
       " 'HX_b1_m',\n",
       " 'HX_b1_pt',\n",
       " 'HX_b1_ptRegressed',\n",
       " 'HX_b1_eta',\n",
       " 'HX_b1_phi',\n",
       " 'HX_b1_btag',\n",
       " 'HX_b2_m',\n",
       " 'HX_b2_pt',\n",
       " 'HX_b2_ptRegressed',\n",
       " 'HX_b2_eta',\n",
       " 'HX_b2_phi',\n",
       " 'HX_b2_btag',\n",
       " 'HY1_b1_m',\n",
       " 'HY1_b1_pt',\n",
       " 'HY1_b1_ptRegressed',\n",
       " 'HY1_b1_eta',\n",
       " 'HY1_b1_phi',\n",
       " 'HY1_b1_btag',\n",
       " 'HY1_b2_m',\n",
       " 'HY1_b2_pt',\n",
       " 'HY1_b2_ptRegressed',\n",
       " 'HY1_b2_eta',\n",
       " 'HY1_b2_phi',\n",
       " 'HY1_b2_btag',\n",
       " 'HY2_b1_m',\n",
       " 'HY2_b1_pt',\n",
       " 'HY2_b1_ptRegressed',\n",
       " 'HY2_b1_eta',\n",
       " 'HY2_b1_phi',\n",
       " 'HY2_b1_btag',\n",
       " 'HY2_b2_m',\n",
       " 'HY2_b2_pt',\n",
       " 'HY2_b2_ptRegressed',\n",
       " 'HY2_b2_eta',\n",
       " 'HY2_b2_phi',\n",
       " 'HY2_b2_btag',\n",
       " 'n_mu_loose',\n",
       " 'n_ele_loose',\n",
       " 'mu_1_m',\n",
       " 'mu_1_pt',\n",
       " 'mu_1_eta',\n",
       " 'mu_1_phi',\n",
       " 'mu_2_m',\n",
       " 'mu_2_pt',\n",
       " 'mu_2_eta',\n",
       " 'mu_2_phi',\n",
       " 'ele_1_m',\n",
       " 'ele_1_pt',\n",
       " 'ele_1_eta',\n",
       " 'ele_1_phi',\n",
       " 'ele_2_m',\n",
       " 'ele_2_pt',\n",
       " 'ele_2_eta',\n",
       " 'ele_2_phi',\n",
       " 'n_total_jet',\n",
       " 'n_jet',\n",
       " 'jet_E',\n",
       " 'jet_m',\n",
       " 'jet_pt',\n",
       " 'jet_eta',\n",
       " 'jet_phi',\n",
       " 'jet_signalId',\n",
       " 'jet_higgsIdx',\n",
       " 'jet_genIdx',\n",
       " 'jet_btag',\n",
       " 'jet_qgl',\n",
       " 'jet_id',\n",
       " 'jet_puid',\n",
       " 'b_6j_score']"
      ]
     },
     "execution_count": 76,
     "metadata": {},
     "output_type": "execute_result"
    }
   ],
   "source": [
    "datTree.keys()"
   ]
  },
  {
   "cell_type": "code",
   "execution_count": 111,
   "metadata": {},
   "outputs": [
    {
     "name": "stdout",
     "output_type": "stream",
     "text": [
      "42.64244946801557 0.27823771741858444\n"
     ]
    },
    {
     "data": {
      "text/plain": [
       "Text(0.99, 0.99, 'mean = 0.126+-0.167\\nstd = 0.817+-0.227')"
      ]
     },
     "execution_count": 111,
     "metadata": {},
     "output_type": "execute_result"
    },
    {
     "data": {
      "image/png": "[encoded data removed]",
      "text/plain": [
       "<Figure size 2160x720 with 4 Axes>"
      ]
     },
     "metadata": {
      "needs_background": "light"
     },
     "output_type": "display_data"
    }
   ],
   "source": [
    "var = variables[0]\n",
    "original = datTree.np(var)[ls_mask]\n",
    "target = datTree.np(var)[hs_mask]\n",
    "\n",
    "nbins = 40\n",
    "bmin = target.min()\n",
    "bmax = target.max()\n",
    "bins = np.linspace(bmin, bmax, nbins)\n",
    "x = (bins[:-1] + bins[1:]) / 2\n",
    "\n",
    "n_target, e = np.histogram(target, bins=bins)\n",
    "bmax = e[:-1][n_target > 0.05*n_target.max()][-1]\n",
    "bmin = e[:-1][n_target > 0.05*n_target.max()][0]\n",
    "bins = np.linspace(bmin, bmax, nbins)\n",
    "x = (bins[:-1] + bins[1:]) / 2\n",
    "\n",
    "n_target, e = np.histogram(target, bins=bins)\n",
    "\n",
    "weights = weights * n_target.sum() / weights[(original >= bmin) & (original < bmax)].sum()\n",
    "n_model, e  = np.histogram(original, bins=bins, weights=weights)\n",
    "Xsq, p = chisquare(n_target, n_model)\n",
    "print(Xsq, p)\n",
    "Xsq, p = int(Xsq), round(p, 3)\n",
    "\n",
    "fig = plt.figure(figsize=(30,10))\n",
    "GS = GridSpec(1, 3, figure=fig)\n",
    "\n",
    "gs1 = GridSpecFromSubplotSpec(2, 1, subplot_spec=GS[0], height_ratios=[3,1])\n",
    "gs2 = GridSpecFromSubplotSpec(1, 1, subplot_spec=GS[1])\n",
    "gs3 = GridSpecFromSubplotSpec(1, 1, subplot_spec=GS[2])\n",
    "\n",
    "ax1t = fig.add_subplot(gs1[0])\n",
    "ax1b = fig.add_subplot(gs1[1])\n",
    "ax2 = fig.add_subplot(gs2[0])\n",
    "ax3 = fig.add_subplot(gs3[0])\n",
    "\n",
    "# DISTRIBUTION plots on LEFT axis\n",
    "\n",
    "ax1t.set_title(f\"Xsq statistic = {round(Xsq)}, p-value = {round(p, 3)}\")\n",
    "\n",
    "n_model = Hist(x, weights=n_model, bins=bins, ax=ax1t, zorder=9)\n",
    "_ = ax1t.plot([x,x],[n_target+np.sqrt(n_target), n_target-np.sqrt(n_target)], color='k', zorder=10)\n",
    "scatter = ax1t.scatter(x, n_target, s=10, c='k', zorder=10)\n",
    "handles = [Rectangle([0,0],1,1,color='C0', fill=False, lw=2), Rectangle([0,0],1,1,color='C0', alpha=0.2)]\n",
    "labels=[f'Bkg Model ({int(n_model.sum())})', 'Bkg Uncertainty']\n",
    "handles.insert(0,scatter)\n",
    "labels.insert(0, f'Observed Data ({int(n_target.sum())})')\n",
    "ax1t.legend(handles=handles, labels=labels)\n",
    "\n",
    "bin_error_model = np.array(())\n",
    "for X,n,l in zip(x, n_model, bins):\n",
    "   width = X - l\n",
    "   r = X + width\n",
    "   est_mask = (original >= X - width) & (original < X + width)\n",
    "   est_err = np.sqrt(np.sum(weights[est_mask]**2))\n",
    "   bin_error_model = np.append(bin_error_model, np.sum(weights[est_mask]**2))\n",
    "   ax1t.fill_between([l, r], n-est_err, n+est_err, color='C0', alpha=0.2, zorder=0)\n",
    "\n",
    "   # est_err_hi = np.where(n == 0, 1 + est_err, (n + est_err) / n)\n",
    "   # est_err_lo =  np.where(n == 0, 1 - est_err, (n - est_err) / n)\n",
    "   # ax1b.fill_between([l, r], est_err_lo, est_err_hi, color='C0', alpha=0.2)\n",
    "\n",
    "ax1t.axes.set_xticklabels([])\n",
    "ax1t.set_ylabel('Events')\n",
    "\n",
    "ratio = np.nan_to_num(n_model / n_target, 1)\n",
    "ratio = np.where(ratio > 10**5, 1, ratio)\n",
    "ratio = np.where(ratio == 0, 1, ratio)\n",
    "error = np.sqrt(bin_error_model/n_model**2 + 1/n_target) # \n",
    "\n",
    "ax1b.plot([bins[0], bins[-1]], [1, 1], color='grey', linestyle='--')\n",
    "n_ratio, e = np.histogram(x, weights=ratio, bins=bins)\n",
    "_ = ax1b.scatter(x, n_ratio, s=10, c='k')\n",
    "ax1b.plot([x,x],[n_ratio+error,n_ratio-error], color='k')\n",
    "ax1b.set_xlabel(var)\n",
    "ax1b.set_ylabel('Obs/Exp')\n",
    "ax1b.set_ylim(0.5,1.5)\n",
    "\n",
    "# RATIO plots on MIDDLE axis\n",
    "\n",
    "rBins = np.arange(0.5,1.5,0.1)\n",
    "rX = (rBins[:-1] + rBins[1:]) / 2\n",
    "n_ratio = Hist(ratio, bins=rBins, ax=ax2, label='Ratio')\n",
    "ax2.set_xlabel('Ratio')\n",
    "\n",
    "mean = (rX*n_ratio).sum()/n_ratio.sum()\n",
    "sigma = np.sqrt(sum(n_ratio * (rX-mean) ** 2) / sum(n_ratio))\n",
    "\n",
    "X = np.linspace(0.5,1.5,200)\n",
    "params, covar = curve_fit(gauss, rX, n_ratio, p0=[min(n_ratio), max(n_ratio), mean, sigma])\n",
    "H, A, x0, s = params\n",
    "y = gauss(X, H, A, x0, s)\n",
    "std = np.around(np.sqrt(np.diag(covar)),3)\n",
    "\n",
    "ax2.plot(X, y, label='Gaussian Fit')\n",
    "ax2.legend(loc=2)\n",
    "box = {\n",
    "   'boxstyle' :'round',\n",
    "   'fc' : 'white'\n",
    "}\n",
    "ax2.text(.99,.99,f\"mean = {round(x0,3)}+-{std[2]}\\nstd = {round(s,3)}+-{std[3]}\", transform=ax2.transAxes, bbox=box, fontsize=18, va='top', ha='right')\n",
    "\n",
    "# PULL plots on RIGHT axis\n",
    "\n",
    "bins = np.arange(-3,3.0001,0.5)\n",
    "diff = n_model - n_target\n",
    "e_diff = np.sqrt(n_target + bin_error_model)\n",
    "# e_diff = np.sqrt(n_target)\n",
    "pull = diff / e_diff\n",
    "n_pull, e = np.histogram(pull, bins=bins)\n",
    "# N_pull = Hist(pull, bins=np.linspace(-4,4,41), ax=ax3, align='mid', label='Pull')\n",
    "N_pull = Hist(pull, bins=np.arange(-4,4.0001,0.4), ax=ax3, align='mid', label='Pull')\n",
    "\n",
    "# x = bins[:-1]\n",
    "x = (bins[:-1] + bins[1:]) / 2\n",
    "X = np.linspace(-2,2,200)\n",
    "# h = 1\n",
    "# pull_smear = np.zeros_like(X)\n",
    "# Npull, e = np.histogram(pull, bins=X)\n",
    "# for xi,n in zip(e[:-1],Npull):\n",
    "#    if n == 0: continue\n",
    "#    K = kernel_func(X, h, xi)\n",
    "#    pull_smear += K\n",
    "# ax3.plot(X, pull_smear, label='Smeared Pull')\n",
    "\n",
    "ax3.set_xlabel('Pull')\n",
    "ax3.set_ylabel('Bins')\n",
    "\n",
    "mean = (x*n_pull).sum()/n_pull.sum()\n",
    "sigma = np.sqrt(sum(n_pull * (x-mean) ** 2) / sum(n_pull))\n",
    "\n",
    "params, covar = curve_fit(gauss, x, n_pull, p0=[min(n_pull), max(n_pull), mean, sigma])\n",
    "H, A, x0, s = params\n",
    "y = gauss(X, H, A, x0, s)\n",
    "std = np.around(np.sqrt(np.diag(covar)),3)\n",
    "\n",
    "ax3.plot(X, y, label='Gaussian Fit')\n",
    "ax3.legend(loc=2)\n",
    "box = {\n",
    "   'boxstyle' :'round',\n",
    "   'fc' : 'white'\n",
    "}\n",
    "ax3.text(.99,.99,f\"mean = {round(x0,3)}+-{std[2]}\\nstd = {round(s,3)}+-{std[3]}\", transform=ax3.transAxes, bbox=box, fontsize=18, va='top', ha='right')\n",
    "\n",
    "# x_gauss = np.linspace(-4,4,100)\n",
    "# y = gauss(x_gauss, 0, 8, 0, 1)\n",
    "# ax3.plot(x_gauss, y, label='Desired Gaussian')\n"
   ]
  },
  {
   "cell_type": "code",
   "execution_count": 63,
   "metadata": {},
   "outputs": [
    {
     "name": "stdout",
     "output_type": "stream",
     "text": [
      "[-0.06423866 10.00868545  0.06778254  0.95762637]\n",
      "[[ 1.173 -0.856  0.    -0.153]\n",
      " [-0.856  1.705 -0.     0.043]\n",
      " [ 0.    -0.     0.013 -0.   ]\n",
      " [-0.153  0.043 -0.     0.033]]\n",
      "[1.08313995 1.30561585 0.1147617  0.18212764]\n"
     ]
    }
   ],
   "source": [
    "print(params)\n",
    "print(covar.round(3))\n",
    "print(np.sqrt(np.diag(covar)))"
   ]
  },
  {
   "cell_type": "code",
   "execution_count": 45,
   "metadata": {},
   "outputs": [
    {
     "name": "stdout",
     "output_type": "stream",
     "text": [
      "['pt6bsum', 'dR6bmin', 'HY1_pt', 'HY2_pt', 'HX_pt', 'HY1_dr', 'HY1_dr', 'HY2_dr', 'HX_dr', 'HX_m', 'HY1_m', 'HY1_HY2_dEta', 'HY2_HX_dEta', 'HX_HY1_dEta', 'HX_HY1_dPhi', 'HY1_HY2_dPhi', 'HY2_HX_dPhi', 'HY1_HY2_dR', 'HX_HY2_dR', 'HX_HY1_dR', 'HY1_costheta', 'HY2_costheta', 'HX_costheta'] \n",
      "\n",
      "VR_center   = 174\n",
      "SR_edge     = 30\n",
      "CR_edge     = 40\n",
      "--------------------\n",
      "\n",
      ".. training BDT in V_CR\n",
      ".. calling reweight.GBReweighter\n",
      ".. calling reweight.FoldingReweighter\n",
      ".. calling reweighter.fit\n",
      ".. predicting weights in CR\n",
      "\n",
      ".. predicting weights in V_SR\n",
      "\n",
      ".. training BDT in A_CR\n",
      ".. calling reweight.GBReweighter\n",
      ".. calling reweight.FoldingReweighter\n",
      ".. calling reweighter.fit\n",
      "\n",
      ".. predicting weights in A_SR\n",
      "\n",
      "pt6bsum\n",
      ".. saving fig\n",
      "\n",
      "dR6bmin\n",
      ".. saving fig\n",
      "\n",
      "HY1_pt\n",
      ".. saving fig\n",
      "\n",
      "HY2_pt\n",
      ".. saving fig\n",
      "\n",
      "HX_pt\n",
      ".. saving fig\n",
      "\n",
      "HY1_dr\n",
      ".. saving fig\n",
      "\n",
      "HY1_dr\n",
      ".. saving fig\n",
      "\n",
      "HY2_dr\n",
      ".. saving fig\n",
      "\n",
      "HX_dr\n",
      ".. saving fig\n",
      "\n",
      "HX_m\n",
      ".. saving fig\n",
      "\n",
      "HY1_m\n",
      ".. saving fig\n",
      "\n",
      "HY1_HY2_dEta\n",
      ".. saving fig\n",
      "\n",
      "HY2_HX_dEta\n",
      ".. saving fig\n",
      "\n",
      "HX_HY1_dEta\n",
      ".. saving fig\n",
      "\n",
      "HX_HY1_dPhi\n",
      ".. saving fig\n",
      "\n",
      "HY1_HY2_dPhi\n",
      ".. saving fig\n",
      "\n",
      "HY2_HX_dPhi\n",
      ".. saving fig\n",
      "\n",
      "HY1_HY2_dR\n",
      ".. saving fig\n",
      "\n",
      "HX_HY2_dR\n",
      ".. saving fig\n",
      "\n",
      "HX_HY1_dR\n",
      ".. saving fig\n",
      "\n",
      "HY1_costheta\n",
      ".. saving fig\n",
      "\n",
      "HY2_costheta\n",
      ".. saving fig\n",
      "\n",
      "HX_costheta\n",
      ".. saving fig\n",
      "\n",
      "X_m\n",
      ".. saving fig\n",
      "\n",
      "pt6bsum        -0.052\n",
      "dR6bmin         0.068\n",
      "HY1_pt         -0.072\n",
      "HY2_pt         -0.482\n",
      "HX_pt          -0.402\n",
      "HY1_dr          0.009\n",
      "HY1_dr          0.009\n",
      "HY2_dr          0.027\n",
      "HX_dr          -0.099\n",
      "HX_m            0.059\n",
      "HY1_m           0.126\n",
      "HY1_HY2_dEta    0.065\n",
      "HY2_HX_dEta    -0.088\n",
      "HX_HY1_dEta    -0.194\n",
      "HX_HY1_dPhi    -0.056\n",
      "HY1_HY2_dPhi    0.042\n",
      "HY2_HX_dPhi     0.093\n",
      "HY1_HY2_dR      0.036\n",
      "HX_HY2_dR      -0.083\n",
      "HX_HY1_dR       0.025\n",
      "HY1_costheta   -0.116\n",
      "HY2_costheta   -0.204\n",
      "HX_costheta    -0.123\n",
      "X_m             0.044\n",
      "dtype: float64\n",
      "pt6bsum         0.896\n",
      "dR6bmin         0.958\n",
      "HY1_pt          1.905\n",
      "HY2_pt          0.660\n",
      "HX_pt           1.113\n",
      "HY1_dr          0.897\n",
      "HY1_dr          0.897\n",
      "HY2_dr          0.747\n",
      "HX_dr           0.950\n",
      "HX_m            1.158\n",
      "HY1_m           1.065\n",
      "HY1_HY2_dEta    1.160\n",
      "HY2_HX_dEta     0.754\n",
      "HX_HY1_dEta     1.031\n",
      "HX_HY1_dPhi     0.862\n",
      "HY1_HY2_dPhi    1.067\n",
      "HY2_HX_dPhi     0.821\n",
      "HY1_HY2_dR      1.302\n",
      "HX_HY2_dR       1.214\n",
      "HX_HY1_dR       1.081\n",
      "HY1_costheta    1.154\n",
      "HY2_costheta    0.882\n",
      "HX_costheta     0.801\n",
      "X_m             0.724\n",
      "dtype: float64\n",
      "                Xsq      p\n",
      "pt6bsum        74.0  0.075\n",
      "dR6bmin        97.0  0.001\n",
      "HY1_pt        109.0  0.000\n",
      "HY2_pt         97.0  0.001\n",
      "HX_pt         155.0  0.000\n",
      "HY1_dr         76.0  0.055\n",
      "HY1_dr         76.0  0.055\n",
      "HY2_dr        125.0  0.000\n",
      "HX_dr         104.0  0.000\n",
      "HX_m           71.0  0.110\n",
      "HY1_m          87.0  0.007\n",
      "HY1_HY2_dEta   75.0  0.062\n",
      "HY2_HX_dEta    91.0  0.003\n",
      "HX_HY1_dEta    82.0  0.021\n",
      "HX_HY1_dPhi    95.0  0.002\n",
      "HY1_HY2_dPhi   79.0  0.034\n",
      "HY2_HX_dPhi    83.0  0.016\n",
      "HY1_HY2_dR    102.0  0.000\n",
      "HX_HY2_dR     111.0  0.000\n",
      "HX_HY1_dR      97.0  0.001\n",
      "HY1_costheta   98.0  0.001\n",
      "HY2_costheta   98.0  0.001\n",
      "HX_costheta   109.0  0.000\n",
      "X_m           142.0  0.000\n"
     ]
    }
   ],
   "source": [
    "%run scripts/bdt_pull_plots.py"
   ]
  },
  {
   "cell_type": "code",
   "execution_count": 74,
   "metadata": {},
   "outputs": [
    {
     "data": {
      "text/html": [
       "<div>\n",
       "<style scoped>\n",
       "    .dataframe tbody tr th:only-of-type {\n",
       "        vertical-align: middle;\n",
       "    }\n",
       "\n",
       "    .dataframe tbody tr th {\n",
       "        vertical-align: top;\n",
       "    }\n",
       "\n",
       "    .dataframe thead th {\n",
       "        text-align: right;\n",
       "    }\n",
       "</style>\n",
       "<table border=\"1\" class=\"dataframe\">\n",
       "  <thead>\n",
       "    <tr style=\"text-align: right;\">\n",
       "      <th></th>\n",
       "      <th>mean</th>\n",
       "      <th>s</th>\n",
       "    </tr>\n",
       "  </thead>\n",
       "  <tbody>\n",
       "    <tr>\n",
       "      <th>pt6bsum</th>\n",
       "      <td>-0.482</td>\n",
       "      <td>0.896</td>\n",
       "    </tr>\n",
       "    <tr>\n",
       "      <th>dR6bmin</th>\n",
       "      <td>-0.402</td>\n",
       "      <td>0.958</td>\n",
       "    </tr>\n",
       "    <tr>\n",
       "      <th>HY1_pt</th>\n",
       "      <td>-0.204</td>\n",
       "      <td>1.905</td>\n",
       "    </tr>\n",
       "    <tr>\n",
       "      <th>HY2_pt</th>\n",
       "      <td>-0.194</td>\n",
       "      <td>0.660</td>\n",
       "    </tr>\n",
       "    <tr>\n",
       "      <th>HX_pt</th>\n",
       "      <td>-0.123</td>\n",
       "      <td>1.113</td>\n",
       "    </tr>\n",
       "    <tr>\n",
       "      <th>HY1_dr</th>\n",
       "      <td>-0.116</td>\n",
       "      <td>0.897</td>\n",
       "    </tr>\n",
       "    <tr>\n",
       "      <th>HY1_dr</th>\n",
       "      <td>-0.099</td>\n",
       "      <td>0.897</td>\n",
       "    </tr>\n",
       "    <tr>\n",
       "      <th>HY2_dr</th>\n",
       "      <td>-0.088</td>\n",
       "      <td>0.747</td>\n",
       "    </tr>\n",
       "    <tr>\n",
       "      <th>HX_dr</th>\n",
       "      <td>-0.083</td>\n",
       "      <td>0.950</td>\n",
       "    </tr>\n",
       "    <tr>\n",
       "      <th>HX_m</th>\n",
       "      <td>-0.072</td>\n",
       "      <td>1.158</td>\n",
       "    </tr>\n",
       "    <tr>\n",
       "      <th>HY1_m</th>\n",
       "      <td>-0.056</td>\n",
       "      <td>1.065</td>\n",
       "    </tr>\n",
       "    <tr>\n",
       "      <th>HY1_HY2_dEta</th>\n",
       "      <td>-0.052</td>\n",
       "      <td>1.160</td>\n",
       "    </tr>\n",
       "    <tr>\n",
       "      <th>HY2_HX_dEta</th>\n",
       "      <td>0.009</td>\n",
       "      <td>0.754</td>\n",
       "    </tr>\n",
       "    <tr>\n",
       "      <th>HX_HY1_dEta</th>\n",
       "      <td>0.009</td>\n",
       "      <td>1.031</td>\n",
       "    </tr>\n",
       "    <tr>\n",
       "      <th>HX_HY1_dPhi</th>\n",
       "      <td>0.025</td>\n",
       "      <td>0.862</td>\n",
       "    </tr>\n",
       "    <tr>\n",
       "      <th>HY1_HY2_dPhi</th>\n",
       "      <td>0.027</td>\n",
       "      <td>1.067</td>\n",
       "    </tr>\n",
       "    <tr>\n",
       "      <th>HY2_HX_dPhi</th>\n",
       "      <td>0.036</td>\n",
       "      <td>0.821</td>\n",
       "    </tr>\n",
       "    <tr>\n",
       "      <th>HY1_HY2_dR</th>\n",
       "      <td>0.042</td>\n",
       "      <td>1.302</td>\n",
       "    </tr>\n",
       "    <tr>\n",
       "      <th>HX_HY2_dR</th>\n",
       "      <td>0.044</td>\n",
       "      <td>1.214</td>\n",
       "    </tr>\n",
       "    <tr>\n",
       "      <th>HX_HY1_dR</th>\n",
       "      <td>0.059</td>\n",
       "      <td>1.081</td>\n",
       "    </tr>\n",
       "    <tr>\n",
       "      <th>HY1_costheta</th>\n",
       "      <td>0.065</td>\n",
       "      <td>1.154</td>\n",
       "    </tr>\n",
       "    <tr>\n",
       "      <th>HY2_costheta</th>\n",
       "      <td>0.068</td>\n",
       "      <td>0.882</td>\n",
       "    </tr>\n",
       "    <tr>\n",
       "      <th>HX_costheta</th>\n",
       "      <td>0.093</td>\n",
       "      <td>0.801</td>\n",
       "    </tr>\n",
       "    <tr>\n",
       "      <th>X_m</th>\n",
       "      <td>0.126</td>\n",
       "      <td>0.724</td>\n",
       "    </tr>\n",
       "  </tbody>\n",
       "</table>\n",
       "</div>"
      ],
      "text/plain": [
       "               mean      s\n",
       "pt6bsum      -0.482  0.896\n",
       "dR6bmin      -0.402  0.958\n",
       "HY1_pt       -0.204  1.905\n",
       "HY2_pt       -0.194  0.660\n",
       "HX_pt        -0.123  1.113\n",
       "HY1_dr       -0.116  0.897\n",
       "HY1_dr       -0.099  0.897\n",
       "HY2_dr       -0.088  0.747\n",
       "HX_dr        -0.083  0.950\n",
       "HX_m         -0.072  1.158\n",
       "HY1_m        -0.056  1.065\n",
       "HY1_HY2_dEta -0.052  1.160\n",
       "HY2_HX_dEta   0.009  0.754\n",
       "HX_HY1_dEta   0.009  1.031\n",
       "HX_HY1_dPhi   0.025  0.862\n",
       "HY1_HY2_dPhi  0.027  1.067\n",
       "HY2_HX_dPhi   0.036  0.821\n",
       "HY1_HY2_dR    0.042  1.302\n",
       "HX_HY2_dR     0.044  1.214\n",
       "HX_HY1_dR     0.059  1.081\n",
       "HY1_costheta  0.065  1.154\n",
       "HY2_costheta  0.068  0.882\n",
       "HX_costheta   0.093  0.801\n",
       "X_m           0.126  0.724"
      ]
     },
     "execution_count": 74,
     "metadata": {},
     "output_type": "execute_result"
    }
   ],
   "source": [
    "G_df"
   ]
  },
  {
   "cell_type": "code",
   "execution_count": 76,
   "metadata": {},
   "outputs": [],
   "source": [
    "import pandas as pd"
   ]
  },
  {
   "cell_type": "code",
   "execution_count": 89,
   "metadata": {},
   "outputs": [
    {
     "data": {
      "text/html": [
       "<div>\n",
       "<style scoped>\n",
       "    .dataframe tbody tr th:only-of-type {\n",
       "        vertical-align: middle;\n",
       "    }\n",
       "\n",
       "    .dataframe tbody tr th {\n",
       "        vertical-align: top;\n",
       "    }\n",
       "\n",
       "    .dataframe thead th {\n",
       "        text-align: right;\n",
       "    }\n",
       "</style>\n",
       "<table border=\"1\" class=\"dataframe\">\n",
       "  <thead>\n",
       "    <tr style=\"text-align: right;\">\n",
       "      <th></th>\n",
       "      <th>Xsq</th>\n",
       "      <th>p</th>\n",
       "      <th>mean</th>\n",
       "      <th>s</th>\n",
       "    </tr>\n",
       "  </thead>\n",
       "  <tbody>\n",
       "    <tr>\n",
       "      <th>HX_m</th>\n",
       "      <td>71.0</td>\n",
       "      <td>0.110</td>\n",
       "      <td>-0.072</td>\n",
       "      <td>1.158</td>\n",
       "    </tr>\n",
       "    <tr>\n",
       "      <th>pt6bsum</th>\n",
       "      <td>74.0</td>\n",
       "      <td>0.075</td>\n",
       "      <td>-0.482</td>\n",
       "      <td>0.896</td>\n",
       "    </tr>\n",
       "    <tr>\n",
       "      <th>HY1_HY2_dEta</th>\n",
       "      <td>75.0</td>\n",
       "      <td>0.062</td>\n",
       "      <td>-0.052</td>\n",
       "      <td>1.160</td>\n",
       "    </tr>\n",
       "    <tr>\n",
       "      <th>HY1_dr</th>\n",
       "      <td>76.0</td>\n",
       "      <td>0.055</td>\n",
       "      <td>-0.116</td>\n",
       "      <td>0.897</td>\n",
       "    </tr>\n",
       "    <tr>\n",
       "      <th>HY1_dr</th>\n",
       "      <td>76.0</td>\n",
       "      <td>0.055</td>\n",
       "      <td>-0.099</td>\n",
       "      <td>0.897</td>\n",
       "    </tr>\n",
       "    <tr>\n",
       "      <th>HY1_HY2_dPhi</th>\n",
       "      <td>79.0</td>\n",
       "      <td>0.034</td>\n",
       "      <td>0.027</td>\n",
       "      <td>1.067</td>\n",
       "    </tr>\n",
       "    <tr>\n",
       "      <th>HX_HY1_dEta</th>\n",
       "      <td>82.0</td>\n",
       "      <td>0.021</td>\n",
       "      <td>0.009</td>\n",
       "      <td>1.031</td>\n",
       "    </tr>\n",
       "    <tr>\n",
       "      <th>HY2_HX_dPhi</th>\n",
       "      <td>83.0</td>\n",
       "      <td>0.016</td>\n",
       "      <td>0.036</td>\n",
       "      <td>0.821</td>\n",
       "    </tr>\n",
       "    <tr>\n",
       "      <th>HY1_m</th>\n",
       "      <td>87.0</td>\n",
       "      <td>0.007</td>\n",
       "      <td>-0.056</td>\n",
       "      <td>1.065</td>\n",
       "    </tr>\n",
       "    <tr>\n",
       "      <th>HY2_HX_dEta</th>\n",
       "      <td>91.0</td>\n",
       "      <td>0.003</td>\n",
       "      <td>0.009</td>\n",
       "      <td>0.754</td>\n",
       "    </tr>\n",
       "    <tr>\n",
       "      <th>HX_HY1_dPhi</th>\n",
       "      <td>95.0</td>\n",
       "      <td>0.002</td>\n",
       "      <td>0.025</td>\n",
       "      <td>0.862</td>\n",
       "    </tr>\n",
       "    <tr>\n",
       "      <th>HX_HY1_dR</th>\n",
       "      <td>97.0</td>\n",
       "      <td>0.001</td>\n",
       "      <td>0.059</td>\n",
       "      <td>1.081</td>\n",
       "    </tr>\n",
       "    <tr>\n",
       "      <th>HY2_pt</th>\n",
       "      <td>97.0</td>\n",
       "      <td>0.001</td>\n",
       "      <td>-0.194</td>\n",
       "      <td>0.660</td>\n",
       "    </tr>\n",
       "    <tr>\n",
       "      <th>dR6bmin</th>\n",
       "      <td>97.0</td>\n",
       "      <td>0.001</td>\n",
       "      <td>-0.402</td>\n",
       "      <td>0.958</td>\n",
       "    </tr>\n",
       "    <tr>\n",
       "      <th>HY1_costheta</th>\n",
       "      <td>98.0</td>\n",
       "      <td>0.001</td>\n",
       "      <td>0.065</td>\n",
       "      <td>1.154</td>\n",
       "    </tr>\n",
       "    <tr>\n",
       "      <th>HY2_costheta</th>\n",
       "      <td>98.0</td>\n",
       "      <td>0.001</td>\n",
       "      <td>0.068</td>\n",
       "      <td>0.882</td>\n",
       "    </tr>\n",
       "    <tr>\n",
       "      <th>HY1_HY2_dR</th>\n",
       "      <td>102.0</td>\n",
       "      <td>0.000</td>\n",
       "      <td>0.042</td>\n",
       "      <td>1.302</td>\n",
       "    </tr>\n",
       "    <tr>\n",
       "      <th>HX_dr</th>\n",
       "      <td>104.0</td>\n",
       "      <td>0.000</td>\n",
       "      <td>-0.083</td>\n",
       "      <td>0.950</td>\n",
       "    </tr>\n",
       "    <tr>\n",
       "      <th>HY1_pt</th>\n",
       "      <td>109.0</td>\n",
       "      <td>0.000</td>\n",
       "      <td>-0.204</td>\n",
       "      <td>1.905</td>\n",
       "    </tr>\n",
       "    <tr>\n",
       "      <th>HX_costheta</th>\n",
       "      <td>109.0</td>\n",
       "      <td>0.000</td>\n",
       "      <td>0.093</td>\n",
       "      <td>0.801</td>\n",
       "    </tr>\n",
       "    <tr>\n",
       "      <th>HX_HY2_dR</th>\n",
       "      <td>111.0</td>\n",
       "      <td>0.000</td>\n",
       "      <td>0.044</td>\n",
       "      <td>1.214</td>\n",
       "    </tr>\n",
       "    <tr>\n",
       "      <th>HY2_dr</th>\n",
       "      <td>125.0</td>\n",
       "      <td>0.000</td>\n",
       "      <td>-0.088</td>\n",
       "      <td>0.747</td>\n",
       "    </tr>\n",
       "    <tr>\n",
       "      <th>X_m</th>\n",
       "      <td>142.0</td>\n",
       "      <td>0.000</td>\n",
       "      <td>0.126</td>\n",
       "      <td>0.724</td>\n",
       "    </tr>\n",
       "    <tr>\n",
       "      <th>HX_pt</th>\n",
       "      <td>155.0</td>\n",
       "      <td>0.000</td>\n",
       "      <td>-0.123</td>\n",
       "      <td>1.113</td>\n",
       "    </tr>\n",
       "  </tbody>\n",
       "</table>\n",
       "</div>"
      ],
      "text/plain": [
       "                Xsq      p   mean      s\n",
       "HX_m           71.0  0.110 -0.072  1.158\n",
       "pt6bsum        74.0  0.075 -0.482  0.896\n",
       "HY1_HY2_dEta   75.0  0.062 -0.052  1.160\n",
       "HY1_dr         76.0  0.055 -0.116  0.897\n",
       "HY1_dr         76.0  0.055 -0.099  0.897\n",
       "HY1_HY2_dPhi   79.0  0.034  0.027  1.067\n",
       "HX_HY1_dEta    82.0  0.021  0.009  1.031\n",
       "HY2_HX_dPhi    83.0  0.016  0.036  0.821\n",
       "HY1_m          87.0  0.007 -0.056  1.065\n",
       "HY2_HX_dEta    91.0  0.003  0.009  0.754\n",
       "HX_HY1_dPhi    95.0  0.002  0.025  0.862\n",
       "HX_HY1_dR      97.0  0.001  0.059  1.081\n",
       "HY2_pt         97.0  0.001 -0.194  0.660\n",
       "dR6bmin        97.0  0.001 -0.402  0.958\n",
       "HY1_costheta   98.0  0.001  0.065  1.154\n",
       "HY2_costheta   98.0  0.001  0.068  0.882\n",
       "HY1_HY2_dR    102.0  0.000  0.042  1.302\n",
       "HX_dr         104.0  0.000 -0.083  0.950\n",
       "HY1_pt        109.0  0.000 -0.204  1.905\n",
       "HX_costheta   109.0  0.000  0.093  0.801\n",
       "HX_HY2_dR     111.0  0.000  0.044  1.214\n",
       "HY2_dr        125.0  0.000 -0.088  0.747\n",
       "X_m           142.0  0.000  0.126  0.724\n",
       "HX_pt         155.0  0.000 -0.123  1.113"
      ]
     },
     "execution_count": 89,
     "metadata": {},
     "output_type": "execute_result"
    }
   ],
   "source": [
    "G = np.column_stack((means, sigmas))\n",
    "G_df = DataFrame(G, index=variables+['X_m'], columns=['mean', 's'])\n",
    "G_df\n",
    "\n",
    "all_df = pd.concat((X_df, G_df), axis=1)\n",
    "all_df"
   ]
  },
  {
   "cell_type": "code",
   "execution_count": 95,
   "metadata": {},
   "outputs": [],
   "source": [
    "s_minus_1 = all_df['s'].to_numpy() - 1"
   ]
  },
  {
   "cell_type": "code",
   "execution_count": 97,
   "metadata": {},
   "outputs": [
    {
     "data": {
      "text/plain": [
       "<matplotlib.collections.PathCollection at 0x7f557dcb47c0>"
      ]
     },
     "execution_count": 97,
     "metadata": {},
     "output_type": "execute_result"
    },
    {
     "data": {
      "image/png": "[encoded data removed]",
      "text/plain": [
       "<Figure size 576x576 with 1 Axes>"
      ]
     },
     "metadata": {
      "needs_background": "light"
     },
     "output_type": "display_data"
    }
   ],
   "source": [
    "plt.scatter(s_minus_1, p)"
   ]
  },
  {
   "cell_type": "code",
   "execution_count": 77,
   "metadata": {},
   "outputs": [],
   "source": [
    "from scipy.stats import chi2"
   ]
  },
  {
   "cell_type": "code",
   "execution_count": 81,
   "metadata": {},
   "outputs": [
    {
     "data": {
      "text/plain": [
       "<scipy.stats._distn_infrastructure.rv_frozen at 0x7f5c880a1280>"
      ]
     },
     "execution_count": 81,
     "metadata": {},
     "output_type": "execute_result"
    }
   ],
   "source": []
  },
  {
   "cell_type": "code",
   "execution_count": 127,
   "metadata": {},
   "outputs": [
    {
     "name": "stdout",
     "output_type": "stream",
     "text": [
      "0.2715449851181677\n",
      "52.577404554294915\n"
     ]
    },
    {
     "data": {
      "text/plain": [
       "<matplotlib.collections.PolyCollection at 0x7f5c85ec8ee0>"
      ]
     },
     "execution_count": 127,
     "metadata": {},
     "output_type": "execute_result"
    },
    {
     "data": {
      "image/png": "[encoded data removed]",
      "text/plain": [
       "<Figure size 576x576 with 1 Axes>"
      ]
     },
     "metadata": {
      "needs_background": "light"
     },
     "output_type": "display_data"
    }
   ],
   "source": [
    "fig, ax = plt.subplots()\n",
    "\n",
    "df = 38\n",
    "mean, var, skew, kurt = chi2.stats(df, moments='mvsk')\n",
    "x = np.linspace(chi2.ppf(0.01, df), chi2.ppf(0.99, df), 100)\n",
    "y = chi2.pdf(x, df)\n",
    "ax.plot(x, y, lw=2, label='chi2 pdf')\n",
    "dx = x[1] - x[0]\n",
    "stat = 42.64244946801557\n",
    "ax.fill_between(x[x > stat], chi2.pdf(x[x > stat], df))\n",
    "print((chi2.pdf(x[x >= stat], df)*dx).sum())\n",
    "# print(chi2.pdf(x[x > stat], df).sum())\n",
    "cl_95 = x[y.cumsum()/y.sum() >= 0.95][0]\n",
    "print(cl_95)\n",
    "ax.fill_between(x[x > cl_95], y[x > cl_95])"
   ]
  },
  {
   "cell_type": "code",
   "execution_count": null,
   "metadata": {},
   "outputs": [],
   "source": []
  },
  {
   "cell_type": "code",
   "execution_count": null,
   "metadata": {},
   "outputs": [],
   "source": []
  },
  {
   "cell_type": "code",
   "execution_count": null,
   "metadata": {},
   "outputs": [],
   "source": []
  },
  {
   "cell_type": "code",
   "execution_count": null,
   "metadata": {},
   "outputs": [],
   "source": []
  },
  {
   "cell_type": "code",
   "execution_count": null,
   "metadata": {},
   "outputs": [],
   "source": []
  }
 ],
 "metadata": {
  "interpreter": {
   "hash": "5df4d1b2ce696ef8a7cc914f733ed0eed40caa2570f001e67a5aef7cf7cbd879"
  },
  "kernelspec": {
   "display_name": "Python 3.8.12 ('work')",
   "language": "python",
   "name": "python3"
  },
  "language_info": {
   "codemirror_mode": {
    "name": "ipython",
    "version": 3
   },
   "file_extension": ".py",
   "mimetype": "text/x-python",
   "name": "python",
   "nbconvert_exporter": "python",
   "pygments_lexer": "ipython3",
   "version": "3.9.18"
  },
  "orig_nbformat": 4
 },
 "nbformat": 4,
 "nbformat_minor": 2
}
