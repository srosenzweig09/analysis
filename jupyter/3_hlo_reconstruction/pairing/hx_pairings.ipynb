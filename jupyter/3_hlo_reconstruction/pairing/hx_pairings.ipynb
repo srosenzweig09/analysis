{
 "cells": [
  {
   "cell_type": "code",
   "execution_count": 1,
   "metadata": {},
   "outputs": [],
   "source": [
    "import tensorflow as tf\n",
    "import tensorflow.python.util.deprecation as deprecation\n",
    "deprecation._PRINT_DEPRECATION_WARNINGS = False\n",
    "\n",
    "from argparse import ArgumentParser\n",
    "from configparser import ConfigParser\n",
    "from keras.models import Sequential\n",
    "from keras.layers import Activation, Dense, AlphaDropout\n",
    "from keras.callbacks import EarlyStopping\n",
    "from keras.regularizers import l1, l2, l1_l2\n",
    "from keras.constraints import max_norm\n",
    "from keras.utils.generic_utils import get_custom_objects\n",
    "from pandas import DataFrame\n",
    "from sklearn.model_selection import train_test_split\n",
    "from sklearn.preprocessing import MinMaxScaler\n",
    "from tensorflow import compat\n",
    "import os\n",
    "os.environ['TF_CPP_MIN_LOG_LEVEL'] = '2' # suppress Keras/TF warnings\n",
    "compat.v1.logging.set_verbosity(compat.v1.logging.ERROR) # suppress Keras/TF warnings"
   ]
  },
  {
   "cell_type": "code",
   "execution_count": 2,
   "metadata": {},
   "outputs": [
    {
     "name": "stdout",
     "output_type": "stream",
     "text": [
      "/eos/uscms/store/user/srosenzw/sixb/ntuples/Summer2018UL/NMSSM_cutflow_studies/presel/NMSSM_XYH_YToHH_6b_MX_700_MY_400_1M/ntuple.root\n"
     ]
    }
   ],
   "source": [
    "tree = Signal('/eos/uscms/store/user/srosenzw/sixb/ntuples/Summer2018UL/NMSSM_cutflow_studies/presel/NMSSM_XYH_YToHH_6b_MX_700_MY_400_1M/ntuple.root')"
   ]
  },
  {
   "cell_type": "code",
   "execution_count": 3,
   "metadata": {},
   "outputs": [
    {
     "data": {
      "text/plain": [
       "<Array [[5, 4, 3, 2, 1, 0, ... 3, 2, 1, 0, -1]] type='569341 * var * int32'>"
      ]
     },
     "execution_count": 3,
     "metadata": {},
     "output_type": "execute_result"
    }
   ],
   "source": [
    "id_sort = ak.argsort(tree.jet_signalId, axis=1, ascending=False)[:,:6]\n",
    "tree.jet_signalId[id_sort]"
   ]
  },
  {
   "cell_type": "code",
   "execution_count": 5,
   "metadata": {},
   "outputs": [],
   "source": [
    "btag_sort = ak.argsort(tree.jet_btag, axis=1, ascending=False)[:,:6]"
   ]
  },
  {
   "cell_type": "code",
   "execution_count": 71,
   "metadata": {},
   "outputs": [
    {
     "name": "stdout",
     "output_type": "stream",
     "text": [
      "409288\n"
     ]
    },
    {
     "data": {
      "text/plain": [
       "(<Array [[False, True, False, ... False, False]] type='409288 * var * bool'>,\n",
       " <Array [[False, False, ... False, False]] type='409288 * var * bool'>)"
      ]
     },
     "execution_count": 71,
     "metadata": {},
     "output_type": "execute_result"
    }
   ],
   "source": [
    "n_HX_bs = ak.sum(tree.jet_signalId == 0, axis=1).to_numpy() + ak.sum(tree.jet_signalId == 1, axis=1).to_numpy()\n",
    "\n",
    "HX_b1_mask = tree.jet_signalId == 0\n",
    "HX_b2_mask = tree.jet_signalId == 1\n",
    "\n",
    "HX_found = (ak.sum(HX_b1_mask, axis=1) == 1) & (ak.sum(HX_b2_mask, axis=1) == 1)\n",
    "print(ak.sum(HX_found))\n",
    "\n",
    "HX_b1_mask = HX_b1_mask[HX_found]\n",
    "HX_b2_mask = HX_b2_mask[HX_found]\n",
    "HX_b1_mask, HX_b2_mask"
   ]
  },
  {
   "cell_type": "code",
   "execution_count": 72,
   "metadata": {},
   "outputs": [
    {
     "data": {
      "text/plain": [
       "<Array [[135], [91.3], ... [217], [145]] type='409288 * var * float32'>"
      ]
     },
     "execution_count": 72,
     "metadata": {},
     "output_type": "execute_result"
    }
   ],
   "source": [
    "tree.jet_ptRegressed[HX_found][HX_b1_mask]"
   ]
  },
  {
   "cell_type": "code",
   "execution_count": 88,
   "metadata": {},
   "outputs": [],
   "source": [
    "HX_b1_P4 = Particle(kin_dict={\n",
    "    'pt' : ak.flatten(tree.jet_ptRegressed[HX_found][HX_b1_mask]),\n",
    "    'eta' : ak.flatten(tree.jet_eta[HX_found][HX_b1_mask]),\n",
    "    'phi' : ak.flatten(tree.jet_phi[HX_found][HX_b1_mask]),\n",
    "    'm' : ak.flatten(tree.jet_mRegressed[HX_found][HX_b1_mask])\n",
    "    })\n",
    "\n",
    "HX_b2_P4 = Particle(kin_dict={\n",
    "    'pt' : ak.flatten(tree.jet_ptRegressed[HX_found][HX_b2_mask]),\n",
    "    'eta' : ak.flatten(tree.jet_eta[HX_found][HX_b2_mask]),\n",
    "    'phi' : ak.flatten(tree.jet_phi[HX_found][HX_b2_mask]),\n",
    "    'm' : ak.flatten(tree.jet_mRegressed[HX_found][HX_b2_mask])\n",
    "    })\n",
    "\n",
    "j1_P4 = Particle(kin_dict={\n",
    "    'pt' : tree.jet_ptRegressed[~HX_found][:,0],\n",
    "    'eta' : tree.jet_eta[~HX_found][:,0],\n",
    "    'phi' : tree.jet_phi[~HX_found][:,0],\n",
    "    'm' : tree.jet_mRegressed[~HX_found][:,0]\n",
    "    })\n",
    "\n",
    "j2_P4 = Particle(kin_dict={\n",
    "    'pt' : tree.jet_ptRegressed[~HX_found][:,1],\n",
    "    'eta' : tree.jet_eta[~HX_found][:,1],\n",
    "    'phi' : tree.jet_phi[~HX_found][:,1],\n",
    "    'm' : tree.jet_mRegressed[~HX_found][:,1]\n",
    "    })\n",
    "\n",
    "j3_P4 = Particle(kin_dict={\n",
    "    'pt' : tree.jet_ptRegressed[~HX_found][:,2],\n",
    "    'eta' : tree.jet_eta[~HX_found][:,2],\n",
    "    'phi' : tree.jet_phi[~HX_found][:,2],\n",
    "    'm' : tree.jet_mRegressed[~HX_found][:,2]\n",
    "    })\n",
    "\n",
    "j4_P4 = Particle(kin_dict={\n",
    "    'pt' : tree.jet_ptRegressed[~HX_found][:,3],\n",
    "    'eta' : tree.jet_eta[~HX_found][:,3],\n",
    "    'phi' : tree.jet_phi[~HX_found][:,3],\n",
    "    'm' : tree.jet_mRegressed[~HX_found][:,3]\n",
    "    })\n",
    "\n",
    "j5_P4 = Particle(kin_dict={\n",
    "    'pt' : tree.jet_ptRegressed[~HX_found][:,4],\n",
    "    'eta' : tree.jet_eta[~HX_found][:,4],\n",
    "    'phi' : tree.jet_phi[~HX_found][:,4],\n",
    "    'm' : tree.jet_mRegressed[~HX_found][:,4]\n",
    "    })\n",
    "\n",
    "j6_P4 = Particle(kin_dict={\n",
    "    'pt' : tree.jet_ptRegressed[~HX_found][:,5],\n",
    "    'eta' : tree.jet_eta[~HX_found][:,5],\n",
    "    'phi' : tree.jet_phi[~HX_found][:,5],\n",
    "    'm' : tree.jet_mRegressed[~HX_found][:,5]\n",
    "    })"
   ]
  },
  {
   "cell_type": "code",
   "execution_count": 83,
   "metadata": {},
   "outputs": [
    {
     "data": {
      "text/plain": [
       "(<Array [135, 91.3, 73.3, ... 140, 217, 145] type='409288 * float32'>,\n",
       " <Array [40.4, 54.4, 70.2, ... 115, 104, 57.7] type='409288 * float32'>)"
      ]
     },
     "execution_count": 83,
     "metadata": {},
     "output_type": "execute_result"
    }
   ],
   "source": [
    "HX_b1_P4.pt, HX_b2_P4.pt"
   ]
  },
  {
   "cell_type": "code",
   "execution_count": 95,
   "metadata": {},
   "outputs": [
    {
     "data": {
      "text/plain": [
       "((409288, 6), (409288, 6))"
      ]
     },
     "execution_count": 95,
     "metadata": {},
     "output_type": "execute_result"
    }
   ],
   "source": [
    "HX_features = np.column_stack((\n",
    "    HX_b1_P4.pt.to_numpy(),\n",
    "    HX_b1_P4.eta.to_numpy(),\n",
    "    HX_b2_P4.pt.to_numpy(),\n",
    "    HX_b2_P4.eta.to_numpy(),\n",
    "    HX_b1_P4.deltaPhi(HX_b2_P4).to_numpy(),\n",
    "    HX_b1_P4.deltaR(HX_b2_P4).to_numpy()\n",
    "))\n",
    "\n",
    "NO_features = np.row_stack((\n",
    "    np.column_stack((\n",
    "        j1_P4.pt.to_numpy(),\n",
    "        j1_P4.eta.to_numpy(),\n",
    "        j2_P4.pt.to_numpy(),\n",
    "        j2_P4.eta.to_numpy(),\n",
    "        j1_P4.deltaPhi(j2_P4).to_numpy(),\n",
    "        j1_P4.deltaR(j2_P4).to_numpy()\n",
    "        )),\n",
    "    np.column_stack((\n",
    "        j3_P4.pt.to_numpy(),\n",
    "        j3_P4.eta.to_numpy(),\n",
    "        j4_P4.pt.to_numpy(),\n",
    "        j4_P4.eta.to_numpy(),\n",
    "        j3_P4.deltaPhi(j4_P4).to_numpy(),\n",
    "        j3_P4.deltaR(j4_P4).to_numpy()\n",
    "        )),\n",
    "    np.column_stack((\n",
    "        j5_P4.pt.to_numpy(),\n",
    "        j5_P4.eta.to_numpy(),\n",
    "        j6_P4.pt.to_numpy(),\n",
    "        j6_P4.eta.to_numpy(),\n",
    "        j5_P4.deltaPhi(j6_P4).to_numpy(),\n",
    "        j5_P4.deltaR(j6_P4).to_numpy()\n",
    "        ))\n",
    "    ))\n",
    "\n",
    "n_events = HX_features.shape[0]\n",
    "NO_features = NO_features[:n_events]\n",
    "HX_features.shape, NO_features.shape"
   ]
  },
  {
   "cell_type": "code",
   "execution_count": 101,
   "metadata": {},
   "outputs": [
    {
     "data": {
      "text/plain": [
       "(818576, 6)"
      ]
     },
     "execution_count": 101,
     "metadata": {},
     "output_type": "execute_result"
    }
   ],
   "source": [
    "features = np.row_stack((HX_features, NO_features))\n",
    "n_inputs = features.shape[1]\n",
    "features.shape"
   ]
  },
  {
   "cell_type": "code",
   "execution_count": 163,
   "metadata": {},
   "outputs": [
    {
     "data": {
      "text/plain": [
       "(818576, 2)"
      ]
     },
     "execution_count": 163,
     "metadata": {},
     "output_type": "execute_result"
    }
   ],
   "source": [
    "labels = np.row_stack((\n",
    "    np.column_stack((\n",
    "        np.ones(n_events),\n",
    "        np.zeros(n_events)\n",
    "    )),\n",
    "    np.column_stack((\n",
    "        np.zeros(n_events),\n",
    "        np.ones(n_events)\n",
    "    ))\n",
    "))\n",
    "\n",
    "labels.shape"
   ]
  },
  {
   "cell_type": "code",
   "execution_count": 164,
   "metadata": {},
   "outputs": [
    {
     "data": {
      "text/plain": [
       "(818576, 2)"
      ]
     },
     "execution_count": 164,
     "metadata": {},
     "output_type": "execute_result"
    }
   ],
   "source": [
    "labels.shape"
   ]
  },
  {
   "cell_type": "code",
   "execution_count": 102,
   "metadata": {},
   "outputs": [],
   "source": [
    "# Hidden hyperparameters\n",
    "hidden_activations = 'selu'\n",
    "nodes              = [40,20]\n",
    "nlayers            = len(nodes)\n",
    "\n",
    "# Output hyperparameters\n",
    "output_activation  = 'softmax'\n",
    "output_nodes       = 2\n",
    "\n",
    "optimizer_name     = 'nadam'\n",
    "loss_function      = 'binary_crossentropy'\n",
    "nepochs            = 50\n",
    "batch_size         = 200"
   ]
  },
  {
   "cell_type": "code",
   "execution_count": 103,
   "metadata": {},
   "outputs": [],
   "source": [
    "scaler = MinMaxScaler()\n",
    "scaler.fit(features)\n",
    "x = scaler.transform(features)\n",
    "\n",
    "val_size = 0.10\n",
    "x_train, x_val, y_train, y_val = train_test_split(x, labels, test_size=val_size)\n",
    "\n",
    "param_dim = n_inputs"
   ]
  },
  {
   "cell_type": "code",
   "execution_count": 104,
   "metadata": {},
   "outputs": [],
   "source": [
    "model = Sequential()\n",
    "\n",
    "model.add(Dense(nodes[0], input_dim=param_dim, activation=hidden_activations, kernel_initializer='he_uniform'))\n",
    "for i in range(1,nlayers):\n",
    "    model.add(Dense(int(nodes[i]), activation=hidden_activations, kernel_constraint=max_norm(1.0), kernel_regularizer=l1_l2(), bias_constraint=max_norm(1.0)))\n",
    "    # model.add(Dense(int(nodes[i]), activation=hidden_activations, kernel_initializer='he_uniform'))\n",
    "    # model.add(Dense(int(nodes[i]), kernel_initializer='lecun_normal', activation=hidden_activations, kernel_constraint=max_norm(1.0), kernel_regularizer=l1_l2(), bias_constraint=max_norm(1.0)))\n",
    "    # if bool(args.dropout): model.add(AlphaDropout(0.2)) \n",
    "model.add(Dense(output_nodes, activation=output_activation))"
   ]
  },
  {
   "cell_type": "code",
   "execution_count": 107,
   "metadata": {},
   "outputs": [],
   "source": [
    "lr = 0.0001\n",
    "beta1 = 0.9\n",
    "beta2 = 0.999\n",
    "epsilon = 1e-7\n",
    "\n",
    "es = EarlyStopping(monitor='loss', restore_best_weights=True, patience=5)\n",
    "met = ['accuracy']"
   ]
  },
  {
   "cell_type": "code",
   "execution_count": 108,
   "metadata": {},
   "outputs": [],
   "source": [
    "# optimizer = 'nadam'\n",
    "optimizer = tf.keras.optimizers.Nadam(\n",
    "    learning_rate=lr, beta_1=beta1, beta_2=beta2, epsilon=epsilon, name=\"nadam\"\n",
    ")"
   ]
  },
  {
   "cell_type": "code",
   "execution_count": 109,
   "metadata": {},
   "outputs": [],
   "source": [
    "model.compile(loss=loss_function, \n",
    "              optimizer=optimizer, \n",
    "              metrics=met)"
   ]
  },
  {
   "cell_type": "code",
   "execution_count": 110,
   "metadata": {},
   "outputs": [
    {
     "name": "stdout",
     "output_type": "stream",
     "text": [
      "Input parameters:            6\n",
      "Optimizer:                   <keras.optimizers.optimizer_v2.nadam.Nadam object at 0x7fa46e801a90>\n",
      "Learning Rate:               0.0001\n",
      "beta_1:                      0.9\n",
      "beta_2:                      0.999\n",
      "epsilon:                     1e-07\n",
      "Loss:                        binary_crossentropy\n",
      "Num epochs:                  50\n",
      "Batch size:                  200\n",
      "Num hidden layers:           2\n",
      "Input activation function:   selu\n",
      "Hidden layer nodes:          [40, 20]\n",
      "Hidden activation functions: selu\n",
      "Num output nodes:            2\n",
      "Output activation function:  Softmax\n"
     ]
    }
   ],
   "source": [
    "nn_info_list = [\n",
    "    f\"Input parameters:            {param_dim}\\n\",\n",
    "    f\"Optimizer:                   {optimizer}\\n\",\n",
    "    f\"Learning Rate:               {lr}\\n\",\n",
    "    f\"beta_1:                      {beta1}\\n\",\n",
    "    f\"beta_2:                      {beta2}\\n\",\n",
    "    f\"epsilon:                     {epsilon}\\n\",\n",
    "    f\"Loss:                        {loss_function}\\n\",\n",
    "    f\"Num epochs:                  {nepochs}\\n\",\n",
    "    f\"Batch size:                  {batch_size}\\n\",\n",
    "    f\"Num hidden layers:           {nlayers}\\n\",\n",
    "    f\"Input activation function:   {hidden_activations}\\n\",\n",
    "    f\"Hidden layer nodes:          {nodes}\\n\",\n",
    "    f\"Hidden activation functions: {hidden_activations}\\n\",\n",
    "    f\"Num output nodes:            {output_nodes}\\n\",\n",
    "    f\"Output activation function:  {output_activation.capitalize()}\\n\"]\n",
    "\n",
    "for line in nn_info_list:\n",
    "    print(line[:-1])"
   ]
  },
  {
   "cell_type": "code",
   "execution_count": 111,
   "metadata": {},
   "outputs": [],
   "source": [
    "# tf.config.run_functions_eagerly(True)"
   ]
  },
  {
   "cell_type": "code",
   "execution_count": 112,
   "metadata": {},
   "outputs": [
    {
     "name": "stdout",
     "output_type": "stream",
     "text": [
      "Epoch 1/50\n",
      "3684/3684 [==============================] - 22s 5ms/step - loss: 1.0201 - accuracy: 0.7272 - val_loss: 0.6326 - val_accuracy: 0.7506\n",
      "Epoch 2/50\n",
      "3684/3684 [==============================] - 19s 5ms/step - loss: 0.6059 - accuracy: 0.7540 - val_loss: 0.5868 - val_accuracy: 0.7612\n",
      "Epoch 3/50\n",
      "3684/3684 [==============================] - 19s 5ms/step - loss: 0.5771 - accuracy: 0.7605 - val_loss: 0.5672 - val_accuracy: 0.7655\n",
      "Epoch 4/50\n",
      "3684/3684 [==============================] - 20s 5ms/step - loss: 0.5619 - accuracy: 0.7644 - val_loss: 0.5549 - val_accuracy: 0.7682\n",
      "Epoch 5/50\n",
      "3684/3684 [==============================] - 19s 5ms/step - loss: 0.5520 - accuracy: 0.7677 - val_loss: 0.5462 - val_accuracy: 0.7722\n",
      "Epoch 6/50\n",
      "3684/3684 [==============================] - 20s 5ms/step - loss: 0.5441 - accuracy: 0.7711 - val_loss: 0.5388 - val_accuracy: 0.7755\n",
      "Epoch 7/50\n",
      "3684/3684 [==============================] - 20s 5ms/step - loss: 0.5373 - accuracy: 0.7748 - val_loss: 0.5323 - val_accuracy: 0.7800\n",
      "Epoch 8/50\n",
      "3684/3684 [==============================] - 20s 5ms/step - loss: 0.5310 - accuracy: 0.7796 - val_loss: 0.5259 - val_accuracy: 0.7847\n",
      "Epoch 9/50\n",
      "3684/3684 [==============================] - 20s 5ms/step - loss: 0.5255 - accuracy: 0.7840 - val_loss: 0.5211 - val_accuracy: 0.7885\n",
      "Epoch 10/50\n",
      "3684/3684 [==============================] - 19s 5ms/step - loss: 0.5211 - accuracy: 0.7866 - val_loss: 0.5170 - val_accuracy: 0.7900\n",
      "Epoch 11/50\n",
      "3684/3684 [==============================] - 19s 5ms/step - loss: 0.5176 - accuracy: 0.7880 - val_loss: 0.5138 - val_accuracy: 0.7917\n",
      "Epoch 12/50\n",
      "3684/3684 [==============================] - 20s 5ms/step - loss: 0.5147 - accuracy: 0.7889 - val_loss: 0.5113 - val_accuracy: 0.7921\n",
      "Epoch 13/50\n",
      "3684/3684 [==============================] - 20s 5ms/step - loss: 0.5123 - accuracy: 0.7895 - val_loss: 0.5087 - val_accuracy: 0.7921\n",
      "Epoch 14/50\n",
      "3684/3684 [==============================] - 20s 5ms/step - loss: 0.5102 - accuracy: 0.7899 - val_loss: 0.5067 - val_accuracy: 0.7930\n",
      "Epoch 15/50\n",
      "3684/3684 [==============================] - 20s 5ms/step - loss: 0.5084 - accuracy: 0.7902 - val_loss: 0.5052 - val_accuracy: 0.7932\n",
      "Epoch 16/50\n",
      "3684/3684 [==============================] - 20s 6ms/step - loss: 0.5069 - accuracy: 0.7904 - val_loss: 0.5040 - val_accuracy: 0.7934\n",
      "Epoch 17/50\n",
      "3684/3684 [==============================] - 21s 6ms/step - loss: 0.5056 - accuracy: 0.7905 - val_loss: 0.5025 - val_accuracy: 0.7935\n",
      "Epoch 18/50\n",
      "3684/3684 [==============================] - 21s 6ms/step - loss: 0.5044 - accuracy: 0.7907 - val_loss: 0.5013 - val_accuracy: 0.7936\n",
      "Epoch 19/50\n",
      "3684/3684 [==============================] - 19s 5ms/step - loss: 0.5034 - accuracy: 0.7908 - val_loss: 0.5003 - val_accuracy: 0.7935\n",
      "Epoch 20/50\n",
      "3684/3684 [==============================] - 20s 6ms/step - loss: 0.5024 - accuracy: 0.7909 - val_loss: 0.4994 - val_accuracy: 0.7936\n",
      "Epoch 21/50\n",
      "3684/3684 [==============================] - 21s 6ms/step - loss: 0.5015 - accuracy: 0.7910 - val_loss: 0.4985 - val_accuracy: 0.7936\n",
      "Epoch 22/50\n",
      "3684/3684 [==============================] - 21s 6ms/step - loss: 0.5006 - accuracy: 0.7912 - val_loss: 0.4976 - val_accuracy: 0.7935\n",
      "Epoch 23/50\n",
      "3684/3684 [==============================] - 20s 5ms/step - loss: 0.4997 - accuracy: 0.7912 - val_loss: 0.4967 - val_accuracy: 0.7936\n",
      "Epoch 24/50\n",
      "3684/3684 [==============================] - 20s 6ms/step - loss: 0.4990 - accuracy: 0.7913 - val_loss: 0.4961 - val_accuracy: 0.7936\n",
      "Epoch 25/50\n",
      "3684/3684 [==============================] - 20s 5ms/step - loss: 0.4985 - accuracy: 0.7913 - val_loss: 0.4957 - val_accuracy: 0.7934\n",
      "Epoch 26/50\n",
      "3684/3684 [==============================] - 19s 5ms/step - loss: 0.4980 - accuracy: 0.7914 - val_loss: 0.4951 - val_accuracy: 0.7935\n",
      "Epoch 27/50\n",
      "3684/3684 [==============================] - 19s 5ms/step - loss: 0.4975 - accuracy: 0.7914 - val_loss: 0.4948 - val_accuracy: 0.7935\n",
      "Epoch 28/50\n",
      "3684/3684 [==============================] - 20s 5ms/step - loss: 0.4971 - accuracy: 0.7913 - val_loss: 0.4943 - val_accuracy: 0.7937\n",
      "Epoch 29/50\n",
      "3684/3684 [==============================] - 20s 5ms/step - loss: 0.4967 - accuracy: 0.7913 - val_loss: 0.4940 - val_accuracy: 0.7936\n",
      "Epoch 30/50\n",
      "3684/3684 [==============================] - 20s 5ms/step - loss: 0.4963 - accuracy: 0.7914 - val_loss: 0.4935 - val_accuracy: 0.7936\n",
      "Epoch 31/50\n",
      "3684/3684 [==============================] - 20s 5ms/step - loss: 0.4959 - accuracy: 0.7913 - val_loss: 0.4930 - val_accuracy: 0.7936\n",
      "Epoch 32/50\n",
      "3684/3684 [==============================] - 20s 5ms/step - loss: 0.4955 - accuracy: 0.7912 - val_loss: 0.4928 - val_accuracy: 0.7937\n",
      "Epoch 33/50\n",
      "3684/3684 [==============================] - 20s 5ms/step - loss: 0.4951 - accuracy: 0.7913 - val_loss: 0.4922 - val_accuracy: 0.7936\n",
      "Epoch 34/50\n",
      "3684/3684 [==============================] - 19s 5ms/step - loss: 0.4947 - accuracy: 0.7912 - val_loss: 0.4917 - val_accuracy: 0.7936\n",
      "Epoch 35/50\n",
      "3684/3684 [==============================] - 19s 5ms/step - loss: 0.4942 - accuracy: 0.7912 - val_loss: 0.4912 - val_accuracy: 0.7934\n",
      "Epoch 36/50\n",
      "3684/3684 [==============================] - 20s 5ms/step - loss: 0.4936 - accuracy: 0.7911 - val_loss: 0.4905 - val_accuracy: 0.7936\n",
      "Epoch 37/50\n",
      "3684/3684 [==============================] - 20s 6ms/step - loss: 0.4929 - accuracy: 0.7911 - val_loss: 0.4898 - val_accuracy: 0.7937\n",
      "Epoch 38/50\n",
      "3684/3684 [==============================] - 20s 6ms/step - loss: 0.4921 - accuracy: 0.7911 - val_loss: 0.4890 - val_accuracy: 0.7935\n",
      "Epoch 39/50\n",
      "3684/3684 [==============================] - 20s 5ms/step - loss: 0.4914 - accuracy: 0.7911 - val_loss: 0.4883 - val_accuracy: 0.7938\n",
      "Epoch 40/50\n",
      "3684/3684 [==============================] - 20s 6ms/step - loss: 0.4905 - accuracy: 0.7912 - val_loss: 0.4874 - val_accuracy: 0.7934\n",
      "Epoch 41/50\n",
      "3684/3684 [==============================] - 20s 5ms/step - loss: 0.4896 - accuracy: 0.7913 - val_loss: 0.4862 - val_accuracy: 0.7935\n",
      "Epoch 42/50\n",
      "3684/3684 [==============================] - 18s 5ms/step - loss: 0.4884 - accuracy: 0.7913 - val_loss: 0.4852 - val_accuracy: 0.7938\n",
      "Epoch 43/50\n",
      "3684/3684 [==============================] - 19s 5ms/step - loss: 0.4872 - accuracy: 0.7914 - val_loss: 0.4837 - val_accuracy: 0.7937\n",
      "Epoch 44/50\n",
      "3684/3684 [==============================] - 20s 5ms/step - loss: 0.4858 - accuracy: 0.7916 - val_loss: 0.4823 - val_accuracy: 0.7939\n",
      "Epoch 45/50\n",
      "3684/3684 [==============================] - 21s 6ms/step - loss: 0.4842 - accuracy: 0.7919 - val_loss: 0.4807 - val_accuracy: 0.7947\n",
      "Epoch 46/50\n",
      "3684/3684 [==============================] - 20s 5ms/step - loss: 0.4826 - accuracy: 0.7925 - val_loss: 0.4790 - val_accuracy: 0.7951\n",
      "Epoch 47/50\n",
      "3684/3684 [==============================] - 20s 5ms/step - loss: 0.4808 - accuracy: 0.7931 - val_loss: 0.4773 - val_accuracy: 0.7962\n",
      "Epoch 48/50\n",
      "3684/3684 [==============================] - 20s 5ms/step - loss: 0.4789 - accuracy: 0.7940 - val_loss: 0.4753 - val_accuracy: 0.7971\n",
      "Epoch 49/50\n",
      "3684/3684 [==============================] - 20s 5ms/step - loss: 0.4770 - accuracy: 0.7953 - val_loss: 0.4736 - val_accuracy: 0.7987\n",
      "Epoch 50/50\n",
      "3684/3684 [==============================] - 19s 5ms/step - loss: 0.4752 - accuracy: 0.7971 - val_loss: 0.4716 - val_accuracy: 0.8016\n",
      "Model: \"sequential\"\n",
      "_________________________________________________________________\n",
      " Layer (type)                Output Shape              Param #   \n",
      "=================================================================\n",
      " dense (Dense)               (None, 40)                280       \n",
      "                                                                 \n",
      " dense_1 (Dense)             (None, 20)                820       \n",
      "                                                                 \n",
      " dense_2 (Dense)             (None, 2)                 42        \n",
      "                                                                 \n",
      "=================================================================\n",
      "Total params: 1,142\n",
      "Trainable params: 1,142\n",
      "Non-trainable params: 0\n",
      "_________________________________________________________________\n"
     ]
    }
   ],
   "source": [
    "history = model.fit(x_train,\n",
    "                    y_train, \n",
    "                    validation_data=(x_val, y_val), \n",
    "                    epochs=nepochs, \n",
    "                    batch_size=batch_size, \n",
    "                    callbacks=[es])\n",
    "\n",
    "model.summary()"
   ]
  },
  {
   "cell_type": "code",
   "execution_count": 113,
   "metadata": {},
   "outputs": [
    {
     "name": "stdout",
     "output_type": "stream",
     "text": [
      "/eos/uscms/store/user/srosenzw/sixb/ntuples/Summer2018UL/NMSSM_cutflow_studies/presel/NMSSM_XYH_YToHH_6b_MX_700_MY_400/ntuple.root\n"
     ]
    }
   ],
   "source": [
    "test_tree = Signal('/eos/uscms/store/user/srosenzw/sixb/ntuples/Summer2018UL/NMSSM_cutflow_studies/presel/NMSSM_XYH_YToHH_6b_MX_700_MY_400/ntuple.root')"
   ]
  },
  {
   "cell_type": "code",
   "execution_count": 114,
   "metadata": {},
   "outputs": [
    {
     "data": {
      "text/plain": [
       "<Array [[0.997, 0.992, ... 0.0157, 0.0139]] type='55952 * var * float32'>"
      ]
     },
     "execution_count": 114,
     "metadata": {},
     "output_type": "execute_result"
    }
   ],
   "source": [
    "btag_sort = ak.argsort(test_tree.jet_btag, axis=1, ascending=False)\n",
    "test_tree.jet_btag[btag_sort]"
   ]
  },
  {
   "cell_type": "code",
   "execution_count": 131,
   "metadata": {},
   "outputs": [
    {
     "data": {
      "text/plain": [
       "<Array [0, 1, 0, 0, 0, 0, ... 0, 0, 0, 0, 1, 1] type='55952 * int64'>"
      ]
     },
     "execution_count": 131,
     "metadata": {},
     "output_type": "execute_result"
    }
   ],
   "source": [
    "jet_index = ak.local_index(test_tree.jet_signalId[btag_sort])\n",
    "\n",
    "# jet_label = (test_tree.jet_signalId[btag_sort] == -1) | (test_tree.jet_signalId[btag_sort] > 1)\n",
    "jet_label = (test_tree.jet_signalId[btag_sort] == 0) | (test_tree.jet_signalId[btag_sort] == 1)\n",
    "\n",
    "test_tree.jet_signalId[btag_sort][jet_index[jet_label]]\n",
    "jet_label[:,0]*1\n",
    "# jet_label"
   ]
  },
  {
   "cell_type": "code",
   "execution_count": 136,
   "metadata": {},
   "outputs": [
    {
     "data": {
      "text/plain": [
       "array([ 57.357674, 190.21924 , 292.987   , ..., 203.44594 , 132.53278 ,\n",
       "       108.16328 ], dtype=float32)"
      ]
     },
     "execution_count": 136,
     "metadata": {},
     "output_type": "execute_result"
    }
   ],
   "source": [
    "test_tree.jet_ptRegressed[btag_sort][:,i].to_numpy()"
   ]
  },
  {
   "cell_type": "code",
   "execution_count": 148,
   "metadata": {},
   "outputs": [
    {
     "name": "stdout",
     "output_type": "stream",
     "text": [
      "1749/1749 [==============================] - 3s 2ms/step\n",
      "1749/1749 [==============================] - 3s 2ms/step\n",
      "1749/1749 [==============================] - 3s 2ms/step\n",
      "1749/1749 [==============================] - 3s 2ms/step\n",
      "1749/1749 [==============================] - 3s 2ms/step\n",
      "1749/1749 [==============================] - 3s 2ms/step\n",
      "1749/1749 [==============================] - 3s 2ms/step\n",
      "1749/1749 [==============================] - 3s 2ms/step\n",
      "1749/1749 [==============================] - 3s 2ms/step\n",
      "1749/1749 [==============================] - 3s 2ms/step\n",
      "1749/1749 [==============================] - 3s 2ms/step\n",
      "1749/1749 [==============================] - 3s 2ms/step\n",
      "1749/1749 [==============================] - 3s 2ms/step\n",
      "1749/1749 [==============================] - 3s 2ms/step\n",
      "1749/1749 [==============================] - 3s 1ms/step\n"
     ]
    },
    {
     "data": {
      "text/plain": [
       "([array([0, 1, 0, ..., 0, 1, 1]),\n",
       "  array([0, 1, 0, ..., 0, 1, 1]),\n",
       "  array([0, 1, 0, ..., 0, 1, 1]),\n",
       "  array([0, 1, 0, ..., 0, 1, 1]),\n",
       "  array([0, 1, 0, ..., 0, 1, 1]),\n",
       "  array([1, 0, 0, ..., 1, 0, 1]),\n",
       "  array([1, 0, 0, ..., 1, 0, 1]),\n",
       "  array([1, 0, 0, ..., 1, 0, 1]),\n",
       "  array([1, 0, 0, ..., 1, 0, 1]),\n",
       "  array([0, 1, 1, ..., 1, 0, 0]),\n",
       "  array([0, 1, 1, ..., 1, 0, 0]),\n",
       "  array([0, 1, 1, ..., 1, 0, 0]),\n",
       "  array([0, 0, 0, ..., 0, 0, 0]),\n",
       "  array([0, 0, 0, ..., 0, 0, 0]),\n",
       "  array([0, 0, 1, ..., 0, 1, 0])],\n",
       " [array([1., 1., 1., ..., 1., 1., 1.], dtype=float32),\n",
       "  array([1., 1., 1., ..., 1., 1., 1.], dtype=float32),\n",
       "  array([1., 1., 1., ..., 1., 1., 1.], dtype=float32),\n",
       "  array([1., 1., 1., ..., 1., 1., 1.], dtype=float32),\n",
       "  array([1., 1., 1., ..., 1., 1., 1.], dtype=float32),\n",
       "  array([1., 1., 1., ..., 1., 1., 1.], dtype=float32),\n",
       "  array([1., 1., 1., ..., 1., 1., 1.], dtype=float32),\n",
       "  array([1., 1., 1., ..., 1., 1., 1.], dtype=float32),\n",
       "  array([1., 1., 1., ..., 1., 1., 1.], dtype=float32),\n",
       "  array([1., 1., 1., ..., 1., 1., 1.], dtype=float32),\n",
       "  array([1., 1., 1., ..., 1., 1., 1.], dtype=float32),\n",
       "  array([1., 1., 1., ..., 1., 1., 1.], dtype=float32),\n",
       "  array([1., 1., 1., ..., 1., 1., 1.], dtype=float32),\n",
       "  array([1., 1., 1., ..., 1., 1., 1.], dtype=float32),\n",
       "  array([1., 1., 1., ..., 1., 1., 1.], dtype=float32)])"
      ]
     },
     "execution_count": 148,
     "metadata": {},
     "output_type": "execute_result"
    }
   ],
   "source": [
    "test_labels = []\n",
    "test_outputs = []\n",
    "\n",
    "for i in range(5):\n",
    "    for j in range(i+1,6):\n",
    "        jet_1 = Particle(kin_dict={\n",
    "            'pt' : test_tree.jet_ptRegressed[btag_sort][:,i].to_numpy(),\n",
    "            'eta' : test_tree.jet_eta[btag_sort][:,i].to_numpy(),\n",
    "            'phi' : test_tree.jet_phi[btag_sort][:,i].to_numpy(),\n",
    "            'm' : test_tree.jet_mRegressed[btag_sort][:,i].to_numpy()\n",
    "            })\n",
    "\n",
    "        jet_2 = Particle(kin_dict={\n",
    "            'pt' : test_tree.jet_ptRegressed[btag_sort][:,j].to_numpy(),\n",
    "            'eta' : test_tree.jet_eta[btag_sort][:,j].to_numpy(),\n",
    "            'phi' : test_tree.jet_phi[btag_sort][:,j].to_numpy(),\n",
    "            'm' : test_tree.jet_mRegressed[btag_sort][:,j].to_numpy()\n",
    "            })\n",
    "        \n",
    "        \n",
    "        jet_features = np.column_stack((\n",
    "            jet_1.pt,\n",
    "            jet_1.eta,\n",
    "            jet_2.pt,\n",
    "            jet_2.eta,\n",
    "            jet_1.deltaPhi(jet_2),\n",
    "            jet_1.deltaR(jet_2)\n",
    "        ))\n",
    "\n",
    "        label = np.column_stack(((jet_label[:,i]*1).to_numpy(), (jet_label[:,j]*1).to_numpy()))\n",
    "        output = model.predict(jet_features)\n",
    "\n",
    "        test_labels.append(label[:,0])\n",
    "        test_outputs.append(output[:,0])\n",
    "\n",
    "test_labels, test_outputs"
   ]
  },
  {
   "cell_type": "code",
   "execution_count": 155,
   "metadata": {},
   "outputs": [],
   "source": [
    "labels = np.column_stack((labels))\n",
    "outputs = np.column_stack((outputs))"
   ]
  },
  {
   "cell_type": "code",
   "execution_count": null,
   "metadata": {},
   "outputs": [],
   "source": []
  }
 ],
 "metadata": {
  "kernelspec": {
   "display_name": "Python 3.9.13 ('sixb')",
   "language": "python",
   "name": "python3"
  },
  "language_info": {
   "codemirror_mode": {
    "name": "ipython",
    "version": 3
   },
   "file_extension": ".py",
   "mimetype": "text/x-python",
   "name": "python",
   "nbconvert_exporter": "python",
   "pygments_lexer": "ipython3",
   "version": "3.9.13"
  },
  "orig_nbformat": 4,
  "vscode": {
   "interpreter": {
    "hash": "fd1aa3536eccf25268872fb0877ce450957c03a0faeafc6ef6bbb3c9838499b8"
   }
  }
 },
 "nbformat": 4,
 "nbformat_minor": 2
}
