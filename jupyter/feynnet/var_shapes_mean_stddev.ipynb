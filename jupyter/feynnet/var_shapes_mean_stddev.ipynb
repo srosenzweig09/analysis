{
 "cells": [
  {
   "cell_type": "code",
   "execution_count": null,
   "metadata": {},
   "outputs": [],
   "source": [
    "signal_path = \"/store/user/srosenzw/sixb/ntuples/Summer2018UL/maxbtag/NMSSM/NMSSM_XYH_YToHH_6b\"\n",
    "masses = [\n",
    "    \"MX_450_MY_300_10M\",\n",
    "    \"MX_550_MY_300_4M\",\n",
    "    \"MX_700_MY_400_2M\",\n",
    "    \"MX_900_MY_300_2M\",\n",
    "    \"MX_1000_MY_600_3M\",\n",
    "]"
   ]
  }
 ],
 "metadata": {
  "language_info": {
   "name": "python"
  },
  "orig_nbformat": 4
 },
 "nbformat": 4,
 "nbformat_minor": 2
}
