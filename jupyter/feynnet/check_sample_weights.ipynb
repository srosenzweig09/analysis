{
 "cells": [
  {
   "cell_type": "code",
   "execution_count": 1,
   "metadata": {},
   "outputs": [],
   "source": [
    "import subprocess, shlex\n",
    "import uproot"
   ]
  },
  {
   "cell_type": "code",
   "execution_count": 2,
   "metadata": {},
   "outputs": [
    {
     "data": {
      "text/plain": [
       "0"
      ]
     },
     "execution_count": 2,
     "metadata": {},
     "output_type": "execute_result"
    }
   ],
   "source": [
    "len(uproot.open('/eos/uscms/store/user/srosenzw/sixb/ntuples/Autumn18/maxbtag/QCD/QCD_HT100to200_BGenFilter_TuneCP5_13TeV-madgraph-pythia8/ntuple.root:sixBtree')['jet_pt'].array())"
   ]
  },
  {
   "cell_type": "code",
   "execution_count": 2,
   "metadata": {},
   "outputs": [
    {
     "data": {
      "text/plain": [
       "['/eos/uscms/store/user/srosenzw/sixb/ntuples/Autumn18/maxbtag/QCD/QCD_bEnriched_HT1000to1500_TuneCP5_13TeV-madgraph-pythia8/training_ntuple.root',\n",
       " '/eos/uscms/store/user/srosenzw/sixb/ntuples/Autumn18/maxbtag/QCD/QCD_bEnriched_HT100to200_TuneCP5_13TeV-madgraph-pythia8/training_ntuple.root',\n",
       " '/eos/uscms/store/user/srosenzw/sixb/ntuples/Autumn18/maxbtag/QCD/QCD_bEnriched_HT1500to2000_TuneCP5_13TeV-madgraph-pythia8/training_ntuple.root',\n",
       " '/eos/uscms/store/user/srosenzw/sixb/ntuples/Autumn18/maxbtag/QCD/QCD_bEnriched_HT2000toInf_TuneCP5_13TeV-madgraph-pythia8/training_ntuple.root',\n",
       " '/eos/uscms/store/user/srosenzw/sixb/ntuples/Autumn18/maxbtag/QCD/QCD_bEnriched_HT200to300_TuneCP5_13TeV-madgraph-pythia8/training_ntuple.root',\n",
       " '/eos/uscms/store/user/srosenzw/sixb/ntuples/Autumn18/maxbtag/QCD/QCD_bEnriched_HT300to500_TuneCP5_13TeV-madgraph-pythia8/training_ntuple.root',\n",
       " '/eos/uscms/store/user/srosenzw/sixb/ntuples/Autumn18/maxbtag/QCD/QCD_bEnriched_HT500to700_TuneCP5_13TeV-madgraph-pythia8/training_ntuple.root',\n",
       " '/eos/uscms/store/user/srosenzw/sixb/ntuples/Autumn18/maxbtag/QCD/QCD_bEnriched_HT700to1000_TuneCP5_13TeV-madgraph-pythia8/training_ntuple.root',\n",
       " '/eos/uscms/store/user/srosenzw/sixb/ntuples/Autumn18/maxbtag/QCD/QCD_HT1000to1500_BGenFilter_TuneCP5_13TeV-madgraph-pythia8/training_ntuple.root',\n",
       " '/eos/uscms/store/user/srosenzw/sixb/ntuples/Autumn18/maxbtag/QCD/QCD_HT100to200_BGenFilter_TuneCP5_13TeV-madgraph-pythia8/training_ntuple.root',\n",
       " '/eos/uscms/store/user/srosenzw/sixb/ntuples/Autumn18/maxbtag/QCD/QCD_HT1500to2000_BGenFilter_TuneCP5_13TeV-madgraph-pythia8/training_ntuple.root',\n",
       " '/eos/uscms/store/user/srosenzw/sixb/ntuples/Autumn18/maxbtag/QCD/QCD_HT2000toInf_BGenFilter_TuneCP5_13TeV-madgraph-pythia8/training_ntuple.root',\n",
       " '/eos/uscms/store/user/srosenzw/sixb/ntuples/Autumn18/maxbtag/QCD/QCD_HT200to300_BGenFilter_TuneCP5_13TeV-madgraph-pythia8/training_ntuple.root',\n",
       " '/eos/uscms/store/user/srosenzw/sixb/ntuples/Autumn18/maxbtag/QCD/QCD_HT300to500_BGenFilter_TuneCP5_13TeV-madgraph-pythia8/training_ntuple.root',\n",
       " '/eos/uscms/store/user/srosenzw/sixb/ntuples/Autumn18/maxbtag/QCD/QCD_HT500to700_BGenFilter_TuneCP5_13TeV-madgraph-pythia8/training_ntuple.root',\n",
       " '/eos/uscms/store/user/srosenzw/sixb/ntuples/Autumn18/maxbtag/QCD/QCD_HT700to1000_BGenFilter_TuneCP5_13TeV-madgraph-pythia8/training_ntuple.root']"
      ]
     },
     "execution_count": 2,
     "metadata": {},
     "output_type": "execute_result"
    }
   ],
   "source": [
    "base = '/eos/uscms/store/user/srosenzw/sixb/ntuples'\n",
    "dir_qcd = f\"{base}/Autumn18/maxbtag/QCD/\"\n",
    "\n",
    "cmd = f\"ls {dir_qcd}\"\n",
    "output = subprocess.check_output(shlex.split(cmd))\n",
    "output = output.decode('UTF-8').split('\\n')\n",
    "# output = [f\"{dir_qcd}{out}/training_ntuple.root\" for out in output if 'QCD' in out]\n",
    "output = [f\"{dir_qcd}{out}/training_ntuple.root\" for out in output if 'QCD' in out]\n",
    "output"
   ]
  },
  {
   "cell_type": "code",
   "execution_count": 3,
   "metadata": {},
   "outputs": [],
   "source": [
    "output.append('/eos/uscms/store/user/srosenzw/sixb/ntuples/Summer2018UL/maxbtag/TTJets/TTJets_TuneCP5_13TeV-amcatnloFXFX-pythia8/training_ntuple.root')"
   ]
  },
  {
   "cell_type": "code",
   "execution_count": 4,
   "metadata": {},
   "outputs": [],
   "source": [
    "skip_indices = [i for i,out in enumerate(output) if out=='/eos/uscms/store/user/srosenzw/sixb/ntuples/Autumn18/maxbtag/QCD/QCD_HT100to200_BGenFilter_TuneCP5_13TeV-madgraph-pythia8/training_ntuple.root' or out=='/eos/uscms/store/user/srosenzw/sixb/ntuples/Autumn18/maxbtag/QCD/QCD_HT500to700_BGenFilter_TuneCP5_13TeV-madgraph-pythia8/training_ntuple.root']\n",
    "\n",
    "for skip in skip_indices[::-1]:\n",
    "    output.pop(skip)"
   ]
  },
  {
   "cell_type": "code",
   "execution_count": 5,
   "metadata": {},
   "outputs": [
    {
     "data": {
      "text/plain": [
       "['/eos/uscms/store/user/srosenzw/sixb/ntuples/Autumn18/maxbtag/QCD/QCD_bEnriched_HT1000to1500_TuneCP5_13TeV-madgraph-pythia8/training_ntuple.root',\n",
       " '/eos/uscms/store/user/srosenzw/sixb/ntuples/Autumn18/maxbtag/QCD/QCD_bEnriched_HT100to200_TuneCP5_13TeV-madgraph-pythia8/training_ntuple.root',\n",
       " '/eos/uscms/store/user/srosenzw/sixb/ntuples/Autumn18/maxbtag/QCD/QCD_bEnriched_HT1500to2000_TuneCP5_13TeV-madgraph-pythia8/training_ntuple.root',\n",
       " '/eos/uscms/store/user/srosenzw/sixb/ntuples/Autumn18/maxbtag/QCD/QCD_bEnriched_HT2000toInf_TuneCP5_13TeV-madgraph-pythia8/training_ntuple.root',\n",
       " '/eos/uscms/store/user/srosenzw/sixb/ntuples/Autumn18/maxbtag/QCD/QCD_bEnriched_HT200to300_TuneCP5_13TeV-madgraph-pythia8/training_ntuple.root',\n",
       " '/eos/uscms/store/user/srosenzw/sixb/ntuples/Autumn18/maxbtag/QCD/QCD_bEnriched_HT300to500_TuneCP5_13TeV-madgraph-pythia8/training_ntuple.root',\n",
       " '/eos/uscms/store/user/srosenzw/sixb/ntuples/Autumn18/maxbtag/QCD/QCD_bEnriched_HT500to700_TuneCP5_13TeV-madgraph-pythia8/training_ntuple.root',\n",
       " '/eos/uscms/store/user/srosenzw/sixb/ntuples/Autumn18/maxbtag/QCD/QCD_bEnriched_HT700to1000_TuneCP5_13TeV-madgraph-pythia8/training_ntuple.root',\n",
       " '/eos/uscms/store/user/srosenzw/sixb/ntuples/Autumn18/maxbtag/QCD/QCD_HT1000to1500_BGenFilter_TuneCP5_13TeV-madgraph-pythia8/training_ntuple.root',\n",
       " '/eos/uscms/store/user/srosenzw/sixb/ntuples/Autumn18/maxbtag/QCD/QCD_HT1500to2000_BGenFilter_TuneCP5_13TeV-madgraph-pythia8/training_ntuple.root',\n",
       " '/eos/uscms/store/user/srosenzw/sixb/ntuples/Autumn18/maxbtag/QCD/QCD_HT2000toInf_BGenFilter_TuneCP5_13TeV-madgraph-pythia8/training_ntuple.root',\n",
       " '/eos/uscms/store/user/srosenzw/sixb/ntuples/Autumn18/maxbtag/QCD/QCD_HT200to300_BGenFilter_TuneCP5_13TeV-madgraph-pythia8/training_ntuple.root',\n",
       " '/eos/uscms/store/user/srosenzw/sixb/ntuples/Autumn18/maxbtag/QCD/QCD_HT300to500_BGenFilter_TuneCP5_13TeV-madgraph-pythia8/training_ntuple.root',\n",
       " '/eos/uscms/store/user/srosenzw/sixb/ntuples/Autumn18/maxbtag/QCD/QCD_HT700to1000_BGenFilter_TuneCP5_13TeV-madgraph-pythia8/training_ntuple.root',\n",
       " '/eos/uscms/store/user/srosenzw/sixb/ntuples/Summer2018UL/maxbtag/TTJets/TTJets_TuneCP5_13TeV-amcatnloFXFX-pythia8/training_ntuple.root']"
      ]
     },
     "execution_count": 5,
     "metadata": {},
     "output_type": "execute_result"
    }
   ],
   "source": [
    "output"
   ]
  },
  {
   "cell_type": "code",
   "execution_count": 6,
   "metadata": {},
   "outputs": [],
   "source": [
    "trees = [uproot.open(out+':sixBtree') for out in output]"
   ]
  },
  {
   "cell_type": "code",
   "execution_count": 7,
   "metadata": {},
   "outputs": [
    {
     "data": {
      "text/plain": [
       "[<TTree 'sixBtree' (51 branches) at 0x7f583062a130>,\n",
       " <TTree 'sixBtree' (51 branches) at 0x7f582467e220>,\n",
       " <TTree 'sixBtree' (51 branches) at 0x7f582460dac0>,\n",
       " <TTree 'sixBtree' (51 branches) at 0x7f582418d3a0>,\n",
       " <TTree 'sixBtree' (51 branches) at 0x7f582411cc40>,\n",
       " <TTree 'sixBtree' (51 branches) at 0x7f58240b3550>,\n",
       " <TTree 'sixBtree' (51 branches) at 0x7f5824040c40>,\n",
       " <TTree 'sixBtree' (51 branches) at 0x7f581e300520>,\n",
       " <TTree 'sixBtree' (51 branches) at 0x7f581da2fdc0>,\n",
       " <TTree 'sixBtree' (51 branches) at 0x7f581d35a6a0>,\n",
       " <TTree 'sixBtree' (51 branches) at 0x7f581cffff40>,\n",
       " <TTree 'sixBtree' (51 branches) at 0x7f581ce2f880>,\n",
       " <TTree 'sixBtree' (51 branches) at 0x7f581cdb0160>,\n",
       " <TTree 'sixBtree' (51 branches) at 0x7f581cae4a00>,\n",
       " <TTree 'sixBtree' (51 branches) at 0x7f581bfac2e0>]"
      ]
     },
     "execution_count": 7,
     "metadata": {},
     "output_type": "execute_result"
    }
   ],
   "source": [
    "trees"
   ]
  },
  {
   "cell_type": "code",
   "execution_count": 8,
   "metadata": {},
   "outputs": [
    {
     "data": {
      "text/plain": [
       "([45.03511123166509,\n",
       "  6.999999999999999,\n",
       "  4.612512297229817,\n",
       "  0.7423133335053584,\n",
       "  44.59758645509598,\n",
       "  739.1007336057382,\n",
       "  446.03072813971863,\n",
       "  177.263270764046,\n",
       "  84.91659403181626,\n",
       "  11.720394862880319,\n",
       "  2.573035968045822,\n",
       "  22.94640518912628,\n",
       "  540.678936099541,\n",
       "  245.39125777809602,\n",
       "  546.7330750158668],\n",
       " 2919.3419547723715)"
      ]
     },
     "execution_count": 8,
     "metadata": {},
     "output_type": "execute_result"
    }
   ],
   "source": [
    "weights = [ak.sum(tree['dataset_norm_abs_scale'].array()) for tree in trees]\n",
    "weights, ak.sum(weights)"
   ]
  },
  {
   "cell_type": "code",
   "execution_count": 9,
   "metadata": {},
   "outputs": [
    {
     "data": {
      "text/plain": [
       "2919.3419547723647"
      ]
     },
     "execution_count": 9,
     "metadata": {},
     "output_type": "execute_result"
    }
   ],
   "source": [
    "tree = uproot.open(\"/eos/uscms/store/user/srosenzw/sixb/ntuples/2018_gnn_training/feynnet_training/background.root:sixBtree\")\n",
    "ak.sum(tree['dataset_norm_abs_scale'].array())"
   ]
  },
  {
   "cell_type": "code",
   "execution_count": 10,
   "metadata": {},
   "outputs": [
    {
     "data": {
      "text/plain": [
       "595.4156808572072"
      ]
     },
     "execution_count": 10,
     "metadata": {},
     "output_type": "execute_result"
    }
   ],
   "source": [
    "split_tree = uproot.open(\"/eos/uscms/store/user/srosenzw/sixb/ntuples/2018_gnn_training/feynnet_training/split_0_background.root:sixBtree\")\n",
    "ak.sum(split_tree['dataset_norm_abs_scale'].array())"
   ]
  },
  {
   "cell_type": "code",
   "execution_count": 11,
   "metadata": {},
   "outputs": [],
   "source": [
    "samples = [\n",
    "    'MX_1000_MY_600_3M',\n",
    "    'MX_450_MY_300_10M',\n",
    "    'MX_550_MY_300_4M',\n",
    "    'MX_700_MY_400_2M',\n",
    "    'MX_900_MY_300_2M'\n",
    "]\n",
    "base = '/eos/uscms/store/user/srosenzw/sixb/ntuples/Summer2018UL/maxbtag/NMSSM/NMSSM_XYH_YToHH_6b_'\n",
    "# end = '/split_0_fully_res_ntuple.root:sixBtree'\n",
    "# end = '/fully_res_ntuple.root:sixBtree'\n",
    "end = '/split_0_fully_res_ntuple.root:sixBtree'\n",
    "\n",
    "def get_end(i):\n",
    "    return f'/split_{i}_fully_res_ntuple.root:sixBtree'"
   ]
  },
  {
   "cell_type": "code",
   "execution_count": 12,
   "metadata": {},
   "outputs": [],
   "source": [
    "# sample_trees = [uproot.open(f\"{base}{sample}{end}\") for sample in samples]\n",
    "sample_trees = [uproot.open(f\"{base}{sample}{get_end(i)}\") for sample in samples for i in range(5)]"
   ]
  },
  {
   "cell_type": "code",
   "execution_count": 13,
   "metadata": {},
   "outputs": [
    {
     "name": "stdout",
     "output_type": "stream",
     "text": [
      "./run_files.py randomize_split /eos/uscms/store/user/srosenzw/sixb/ntuples/Summer2018UL/maxbtag/NMSSM/NMSSM_XYH_YToHH_6b_MX_1000_MY_600_3M/fully_res_ntuple.root\n",
      "./run_files.py randomize_split /eos/uscms/store/user/srosenzw/sixb/ntuples/Summer2018UL/maxbtag/NMSSM/NMSSM_XYH_YToHH_6b_MX_450_MY_300_10M/fully_res_ntuple.root\n",
      "./run_files.py randomize_split /eos/uscms/store/user/srosenzw/sixb/ntuples/Summer2018UL/maxbtag/NMSSM/NMSSM_XYH_YToHH_6b_MX_550_MY_300_4M/fully_res_ntuple.root\n",
      "./run_files.py randomize_split /eos/uscms/store/user/srosenzw/sixb/ntuples/Summer2018UL/maxbtag/NMSSM/NMSSM_XYH_YToHH_6b_MX_700_MY_400_2M/fully_res_ntuple.root\n",
      "./run_files.py randomize_split /eos/uscms/store/user/srosenzw/sixb/ntuples/Summer2018UL/maxbtag/NMSSM/NMSSM_XYH_YToHH_6b_MX_900_MY_300_2M/fully_res_ntuple.root\n",
      "./run_files.py randomize_split /eos/uscms/store/user/srosenzw/sixb/ntuples/2018_gnn_training/feynnet_training/background.root\n"
     ]
    }
   ],
   "source": [
    "# [f\"./run_files.py randomize_split {base}{sample}/fully_res_ntuple.root\" for sample in samples]\n",
    "for sample in samples:\n",
    "    print(f\"./run_files.py randomize_split {base}{sample}/fully_res_ntuple.root\")\n",
    "print(\"./run_files.py randomize_split /eos/uscms/store/user/srosenzw/sixb/ntuples/2018_gnn_training/feynnet_training/background.root\")"
   ]
  },
  {
   "cell_type": "code",
   "execution_count": 14,
   "metadata": {},
   "outputs": [
    {
     "data": {
      "text/plain": [
       "[585.0180417776164,\n",
       " 580.7750317235788,\n",
       " 586.3556955289445,\n",
       " 582.0591189977068,\n",
       " 585.1340667445246,\n",
       " 583.1474118005699,\n",
       " 585.2693445183565,\n",
       " 584.5435434974127,\n",
       " 579.9181752689414,\n",
       " 586.4634796870903,\n",
       " 581.5801828188615,\n",
       " 585.1361513023389,\n",
       " 585.7582277690449,\n",
       " 584.4435009882885,\n",
       " 582.423891893838,\n",
       " 582.442815111304,\n",
       " 586.136530627056,\n",
       " 584.2915814034071,\n",
       " 583.8295980439635,\n",
       " 582.6414295866408,\n",
       " 584.3801260069971,\n",
       " 581.3094322169029,\n",
       " 584.769231285705,\n",
       " 586.1113004945672,\n",
       " 582.7718647681987]"
      ]
     },
     "execution_count": 14,
     "metadata": {},
     "output_type": "execute_result"
    }
   ],
   "source": [
    "[ak.sum(tree['dataset_norm_abs_scale'].array()) for tree in sample_trees]"
   ]
  },
  {
   "cell_type": "code",
   "execution_count": 15,
   "metadata": {},
   "outputs": [],
   "source": [
    "base = '/eos/uscms/store/user/srosenzw/sixb/ntuples/2018_gnn_training/MX_450_550_700_900_1000_MY_300_300_400_300_600/split_'\n",
    "end = '_background.root:sixBtree'\n",
    "\n",
    "bkg_trees = [uproot.open(f\"{base}{i}{end}\") for i in range(5)]"
   ]
  },
  {
   "cell_type": "code",
   "execution_count": null,
   "metadata": {},
   "outputs": [],
   "source": []
  },
  {
   "cell_type": "code",
   "execution_count": 16,
   "metadata": {},
   "outputs": [
    {
     "name": "stdout",
     "output_type": "stream",
     "text": [
      "[585.0180417776164, 580.7750317235788, 586.3556955289445, 582.0591189977068, 585.1340667445246, 583.1474118005699, 585.2693445183565, 584.5435434974127, 579.9181752689414, 586.4634796870903, 581.5801828188615, 585.1361513023389, 585.7582277690449, 584.4435009882885, 582.423891893838, 582.442815111304, 586.136530627056, 584.2915814034071, 583.8295980439635, 582.6414295866408, 584.3801260069971, 581.3094322169029, 584.769231285705, 586.1113004945672, 582.7718647681987] [313.5285206916707, 316.4896821077141, 314.1870878791769, 324.6899964502063, 316.6705521728159]\n",
      "[14596.709773861858] [1585.565839301584]\n"
     ]
    }
   ],
   "source": [
    "print([ak.sum(tree['dataset_norm_abs_scale'].array()) for tree in sample_trees],[ak.sum(tree['dataset_norm_abs_scale'].array()) for tree in bkg_trees])\n",
    "print([ak.sum(tree['dataset_norm_abs_scale'].array() for tree in sample_trees)],[ak.sum(tree['dataset_norm_abs_scale'].array() for tree in bkg_trees)])"
   ]
  },
  {
   "cell_type": "code",
   "execution_count": null,
   "metadata": {},
   "outputs": [],
   "source": []
  },
  {
   "cell_type": "code",
   "execution_count": null,
   "metadata": {},
   "outputs": [],
   "source": []
  },
  {
   "cell_type": "code",
   "execution_count": null,
   "metadata": {},
   "outputs": [],
   "source": [
    "base = '/eos/uscms/store/user/srosenzw/sixb/ntuples/Summer2018UL/maxbtag/NMSSM/NMSSM_XYH_YToHH_6b_'\n",
    "end = '/fully_res_ntuple.root:sixBtree'\n",
    "sample_trees = [uproot.open(f\"{base}{sample}{end}\") for sample in samples]"
   ]
  },
  {
   "cell_type": "code",
   "execution_count": null,
   "metadata": {},
   "outputs": [
    {
     "data": {
      "text/plain": [
       "['MX_1000_MY_600_1M: 192185',\n",
       " 'MX_450_MY_300_5M: 98719',\n",
       " 'MX_550_MY_300_4M: 240804',\n",
       " 'MX_700_MY_400_2M: 240486',\n",
       " 'MX_900_MY_300_1M: 126840']"
      ]
     },
     "execution_count": 11,
     "metadata": {},
     "output_type": "execute_result"
    }
   ],
   "source": [
    "[f\"{sample}: {len(tree['jet_pt'].array())}\" for tree,sample in zip(sample_trees,samples)]"
   ]
  },
  {
   "cell_type": "code",
   "execution_count": null,
   "metadata": {},
   "outputs": [
    {
     "data": {
      "text/plain": [
       "['MX_1000_MY_600_1M: 192185',\n",
       " 'MX_450_MY_300_5M: 98719',\n",
       " 'MX_550_MY_300_4M: 240804',\n",
       " 'MX_700_MY_400_2M: 240486',\n",
       " 'MX_900_MY_300_1M: 126840']"
      ]
     },
     "metadata": {},
     "output_type": "display_data"
    }
   ],
   "source": [
    "[f\"{sample}: {len(tree['jet_pt'].array())}\" for tree,sample in zip(sample_trees,samples)]"
   ]
  },
  {
   "cell_type": "code",
   "execution_count": null,
   "metadata": {},
   "outputs": [],
   "source": []
  }
 ],
 "metadata": {
  "kernelspec": {
   "display_name": "sixb",
   "language": "python",
   "name": "python3"
  },
  "language_info": {
   "codemirror_mode": {
    "name": "ipython",
    "version": 3
   },
   "file_extension": ".py",
   "mimetype": "text/x-python",
   "name": "python",
   "nbconvert_exporter": "python",
   "pygments_lexer": "ipython3",
   "version": "3.9.13"
  },
  "orig_nbformat": 4,
  "vscode": {
   "interpreter": {
    "hash": "fd1aa3536eccf25268872fb0877ce450957c03a0faeafc6ef6bbb3c9838499b8"
   }
  }
 },
 "nbformat": 4,
 "nbformat_minor": 2
}
