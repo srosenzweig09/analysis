{
 "cells": [
  {
   "cell_type": "markdown",
   "metadata": {},
   "source": [
    "## Step 1\n",
    "### Produce skims\n",
    "This step is done before running this notebook. Godspeed, lady."
   ]
  },
  {
   "cell_type": "code",
   "execution_count": null,
   "metadata": {},
   "outputs": [
    {
     "data": {
      "text/plain": [
       "'parallel -j 4 \"python scripts/file_handling/hadd_private.py {}\" ::: $(cat sig_files.txt) --eta\"'"
      ]
     },
     "execution_count": 5,
     "metadata": {},
     "output_type": "execute_result"
    }
   ],
   "source": [
    "cmd = \"sh scripts/6b_scripts/submit_all_6b_signal.sh\"\n",
    "cmd = 'parallel -j 4 \"python scripts/file_handling/hadd_private.py {}\" ::: $(cat sig_files.txt) --eta\"'\n",
    "cmd"
   ]
  },
  {
   "cell_type": "code",
   "execution_count": 3,
   "metadata": {},
   "outputs": [
    {
     "data": {
      "text/html": [
       "<pre>[0.562,\n",
       " 0.754,\n",
       " 0.838,\n",
       " 0.855,\n",
       " 1.25,\n",
       " 0.601,\n",
       " 0.936,\n",
       " 0.75,\n",
       " 0.791,\n",
       " 1.04,\n",
       " ...,\n",
       " 0.674,\n",
       " 0.547,\n",
       " 0.609,\n",
       " 0.97,\n",
       " 0.846,\n",
       " 0.871,\n",
       " 0.796,\n",
       " 0.834,\n",
       " 0.651]\n",
       "------------------\n",
       "type: 21 * float32</pre>"
      ],
      "text/plain": [
       "<Array [0.562, 0.754, 0.838, ..., 0.796, 0.834, 0.651] type='21 * float32'>"
      ]
     },
     "execution_count": 3,
     "metadata": {},
     "output_type": "execute_result"
    }
   ],
   "source": [
    "import uproot\n",
    "f = uproot.open(\"/home/srhelfrich/workarea/CMSSW_12_6_0/src/MultiHiggs/analysis/MultiHAnalysis/output.root\")\n",
    "t = f['sixBtree']\n",
    "t['bSFshape_central'].array()"
   ]
  },
  {
   "cell_type": "markdown",
   "metadata": {},
   "source": [
    "## Step 2\n",
    "### B tag SFs and corrections"
   ]
  },
  {
   "cell_type": "code",
   "execution_count": null,
   "metadata": {},
   "outputs": [
    {
     "data": {
      "text/plain": [
       "('/eos/uscms/store/user/srosenzw/sixb/ntuples/Summer2018UL/maxbtag/NMSSM/NMSSM_XYH_YToHH_6b_MX_700_MY_400_2M/ntuple.root',\n",
       " '/eos/uscms/store/user/srosenzw/sixb/ntuples/Summer2018UL/maxbtag_4b/Official_NMSSM/NMSSM_XToYHTo6B_MX-1400_MY-700_TuneCP5_13TeV-madgraph-pythia8/ntuple.root')"
      ]
     },
     "execution_count": 25,
     "metadata": {},
     "output_type": "execute_result"
    }
   ],
   "source": [
    "get_NMSSM(700,400,selection='maxbtag',private=True,suffix='2M'), get_NMSSM()"
   ]
  },
  {
   "cell_type": "code",
   "execution_count": 4,
   "metadata": {},
   "outputs": [
    {
     "name": "stdout",
     "output_type": "stream",
     "text": [
      "\u001b[36mntuple: /eos/uscms/store/user/srosenzw/sixb/ntuples/Summer2018UL/maxbtag_4b/Official_NMSSM/NMSSM_XToYHTo6B_MX-1000_MY-400_TuneCP5_13TeV-madgraph-pythia8/ntuple.root\u001b[0m\n",
      "\u001b[35mmodel: /eos/uscms/store/user/srosenzw/weaver/models/exp_sixb_official/feynnet_ranker_6b/20230731_7d266883bbfb88fe4e226783a7d1c9db_ranger_lr0.0047_batch2000_withbkg/predict_output/2018/NMSSM_XToYHTo6B_MX-1000_MY-400_TuneCP5_13TeV-madgraph-pythia8.root\u001b[0m\n"
     ]
    },
    {
     "data": {
      "text/html": [
       "<pre>[1,\n",
       " 1,\n",
       " 1,\n",
       " 1,\n",
       " 1,\n",
       " 1,\n",
       " 1,\n",
       " 1,\n",
       " 1,\n",
       " 1,\n",
       " ...,\n",
       " 1,\n",
       " 1,\n",
       " 1,\n",
       " 1,\n",
       " 1,\n",
       " 1,\n",
       " 1,\n",
       " 1,\n",
       " 1]\n",
       "---------------------\n",
       "type: 74663 * float64</pre>"
      ],
      "text/plain": [
       "<Array [1, 1, 1, 1, 1, 1, 1, ..., 1, 1, 1, 1, 1, 1, 1] type='74663 * float64'>"
      ]
     },
     "execution_count": 4,
     "metadata": {},
     "output_type": "execute_result"
    }
   ],
   "source": [
    "# maxbtag = SixB(get_NMSSM(700,400,selection='maxbtag',private=True,suffix='2M'))\n",
    "selection = SixB(get_NMSSM(1000,400))\n",
    "selection.bSFshape_central"
   ]
  },
  {
   "cell_type": "code",
   "execution_count": 11,
   "metadata": {},
   "outputs": [
    {
     "ename": "AssertionError",
     "evalue": "",
     "output_type": "error",
     "traceback": [
      "\u001b[0;31m---------------------------------------------------------------------------\u001b[0m",
      "\u001b[0;31mAssertionError\u001b[0m                            Traceback (most recent call last)",
      "\u001b[1;32m/uscms/home/srosenzw/nobackup/workarea/higgs/sixb_analysis/CMSSW_10_6_19_patch2/src/sixb/jupyter/step_by_step.ipynb Cell 4\u001b[0m line \u001b[0;36m1\n\u001b[0;32m----> <a href='vscode-notebook-cell://ssh-remote%2Bsrosenzw@cmslpcgpu2.fnal.gov/uscms/home/srosenzw/nobackup/workarea/higgs/sixb_analysis/CMSSW_10_6_19_patch2/src/sixb/jupyter/step_by_step.ipynb#X16sdnNjb2RlLXJlbW90ZQ%3D%3D?line=0'>1</a>\u001b[0m \u001b[39massert\u001b[39;00m \u001b[39mnot\u001b[39;00m ak\u001b[39m.\u001b[39mall(maxbtag\u001b[39m.\u001b[39mtree[\u001b[39m'\u001b[39m\u001b[39mbSFshape_central\u001b[39m\u001b[39m'\u001b[39m]\u001b[39m.\u001b[39marray() \u001b[39m==\u001b[39m \u001b[39m1\u001b[39m)\n",
      "\u001b[0;31mAssertionError\u001b[0m: "
     ]
    }
   ],
   "source": [
    "assert not ak.all(maxbtag.tree['bSFshape_central'].array() == 1)"
   ]
  },
  {
   "cell_type": "code",
   "execution_count": null,
   "metadata": {},
   "outputs": [],
   "source": [
    "%run scripts/calculate_2d_sf_corrs.py"
   ]
  },
  {
   "cell_type": "markdown",
   "metadata": {},
   "source": [
    "## Step 3\n",
    "### FeynNet Predictions & Efficiency Evaluation\n",
    "FeynNet predictions are done before running this notebook. Efficiencies are evaluated here."
   ]
  },
  {
   "cell_type": "code",
   "execution_count": null,
   "metadata": {},
   "outputs": [],
   "source": []
  },
  {
   "cell_type": "code",
   "execution_count": null,
   "metadata": {},
   "outputs": [],
   "source": []
  }
 ],
 "metadata": {
  "kernelspec": {
   "display_name": "Python 3",
   "language": "python",
   "name": "python3"
  },
  "language_info": {
   "codemirror_mode": {
    "name": "ipython",
    "version": 3
   },
   "file_extension": ".py",
   "mimetype": "text/x-python",
   "name": "python",
   "nbconvert_exporter": "python",
   "pygments_lexer": "ipython3",
   "version": "3.9.18"
  }
 },
 "nbformat": 4,
 "nbformat_minor": 2
}
