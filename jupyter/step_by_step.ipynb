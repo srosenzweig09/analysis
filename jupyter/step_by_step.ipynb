{
 "cells": [
  {
   "cell_type": "markdown",
   "metadata": {},
   "source": [
    "## Step 1\n",
    "### Produce skims\n",
    "This step is done before running this notebook. Godspeed, lady."
   ]
  },
  {
   "cell_type": "code",
   "execution_count": 1,
   "metadata": {},
   "outputs": [],
   "source": [
    "import subprocess"
   ]
  },
  {
   "cell_type": "code",
   "execution_count": null,
   "metadata": {},
   "outputs": [
    {
     "data": {
      "text/plain": [
       "'parallel -j 4 \"python scripts/file_handling/hadd_private.py {}\" ::: $(cat sig_files.txt) --eta\"'"
      ]
     },
     "execution_count": 5,
     "metadata": {},
     "output_type": "execute_result"
    }
   ],
   "source": [
    "cmd = \"sh scripts/6b_scripts/submit_all_6b_signal.sh\"\n",
    "cmd = 'parallel -j 4 \"python scripts/file_handling/hadd_private.py {}\" ::: $(cat sig_files.txt) --eta\"'"
   ]
  },
  {
   "cell_type": "markdown",
   "metadata": {},
   "source": [
    "## Step 2\n",
    "### B tag SFs and corrections"
   ]
  },
  {
   "cell_type": "code",
   "execution_count": 3,
   "metadata": {},
   "outputs": [
    {
     "name": "stdout",
     "output_type": "stream",
     "text": [
      "\u001b[36mntuple: /eos/uscms/store/user/srosenzw/sixb/ntuples/Summer2018UL/maxbtag/NMSSM/NMSSM_XYH_YToHH_6b_MX_700_MY_400_2M/ntuple.root\u001b[0m\n",
      "\u001b[36mntuple: /eos/uscms/store/user/srosenzw/sixb/ntuples/Summer2018UL/maxbtag_4b/Official_NMSSM/NMSSM_XToYHTo6B_MX-1000_MY-400_TuneCP5_13TeV-madgraph-pythia8/ntuple.root\u001b[0m\n",
      "\u001b[35mmodel: /eos/uscms/store/user/srosenzw/weaver/models/exp_sixb_official/feynnet_ranker_6b/20230731_7d266883bbfb88fe4e226783a7d1c9db_ranger_lr0.0047_batch2000_withbkg/predict_output/2018/NMSSM_XToYHTo6B_MX-1000_MY-400_TuneCP5_13TeV-madgraph-pythia8.root\u001b[0m\n"
     ]
    }
   ],
   "source": [
    "maxbtag = SixB(get_NMSSM(700,400,selection='maxbtag',private=True,suffix='2M'), feyn=False)\n",
    "selection = SixB(get_NMSSM(1000,400))"
   ]
  },
  {
   "cell_type": "code",
   "execution_count": 4,
   "metadata": {},
   "outputs": [],
   "source": [
    "assert not ak.all(maxbtag.tree['bSFshape_central'].array() == 1)"
   ]
  },
  {
   "cell_type": "code",
   "execution_count": 5,
   "metadata": {},
   "outputs": [
    {
     "name": "stdout",
     "output_type": "stream",
     "text": [
      "\u001b[36mntuple: /eos/uscms/store/user/srosenzw/sixb/ntuples/Summer2018UL/maxbtag/NMSSM/NMSSM_XYH_YToHH_6b_MX_1000_MY_350/ntuple.root\u001b[0m\n",
      "\u001b[36mntuple: /eos/uscms/store/user/srosenzw/sixb/ntuples/Summer2018UL/maxbtag/NMSSM/NMSSM_XYH_YToHH_6b_MX_1000_MY_300/ntuple.root\u001b[0m\n",
      "\u001b[36mntuple: /eos/uscms/store/user/srosenzw/sixb/ntuples/Summer2018UL/maxbtag/NMSSM/NMSSM_XYH_YToHH_6b_MX_1000_MY_250_2M/ntuple.root\u001b[0m\n",
      "\u001b[36mntuple: /eos/uscms/store/user/srosenzw/sixb/ntuples/Summer2018UL/maxbtag/NMSSM/NMSSM_XYH_YToHH_6b_MX_1000_MY_550/ntuple.root\u001b[0m\n",
      "\u001b[36mntuple: /eos/uscms/store/user/srosenzw/sixb/ntuples/Summer2018UL/maxbtag/NMSSM/NMSSM_XYH_YToHH_6b_MX_1000_MY_450_2M/ntuple.root\u001b[0m\n",
      "\u001b[36mntuple: /eos/uscms/store/user/srosenzw/sixb/ntuples/Summer2018UL/maxbtag/NMSSM/NMSSM_XYH_YToHH_6b_MX_1000_MY_500_2M/ntuple.root\u001b[0m\n",
      "\u001b[36mntuple: /eos/uscms/store/user/srosenzw/sixb/ntuples/Summer2018UL/maxbtag/NMSSM/NMSSM_XYH_YToHH_6b_MX_1000_MY_400_2M/ntuple.root\u001b[0m\n",
      "\u001b[36mntuple: /eos/uscms/store/user/srosenzw/sixb/ntuples/Summer2018UL/maxbtag/NMSSM/NMSSM_XYH_YToHH_6b_MX_1100_MY_250_2M/ntuple.root\u001b[0m\n",
      "\u001b[36mntuple: /eos/uscms/store/user/srosenzw/sixb/ntuples/Summer2018UL/maxbtag/NMSSM/NMSSM_XYH_YToHH_6b_MX_1000_MY_700_2M/ntuple.root\u001b[0m\n",
      "\u001b[36mntuple: /eos/uscms/store/user/srosenzw/sixb/ntuples/Summer2018UL/maxbtag/NMSSM/NMSSM_XYH_YToHH_6b_MX_1100_MY_350/ntuple.root\u001b[0m\n",
      "\u001b[36mntuple: /eos/uscms/store/user/srosenzw/sixb/ntuples/Summer2018UL/maxbtag/NMSSM/NMSSM_XYH_YToHH_6b_MX_1000_MY_800_2M/ntuple.root\u001b[0m\n",
      "\u001b[36mntuple: /eos/uscms/store/user/srosenzw/sixb/ntuples/Summer2018UL/maxbtag/NMSSM/NMSSM_XYH_YToHH_6b_MX_1100_MY_400/ntuple.root\u001b[0m\n",
      "\u001b[36mntuple: /eos/uscms/store/user/srosenzw/sixb/ntuples/Summer2018UL/maxbtag/NMSSM/NMSSM_XYH_YToHH_6b_MX_1100_MY_450_2M/ntuple.root\u001b[0m\n",
      "\u001b[36mntuple: /eos/uscms/store/user/srosenzw/sixb/ntuples/Summer2018UL/maxbtag/NMSSM/NMSSM_XYH_YToHH_6b_MX_1100_MY_300_2M/ntuple.root\u001b[0m\n",
      "\u001b[36mntuple: /eos/uscms/store/user/srosenzw/sixb/ntuples/Summer2018UL/maxbtag/NMSSM/NMSSM_XYH_YToHH_6b_MX_1100_MY_500_2M/ntuple.root\u001b[0m\n",
      "\u001b[36mntuple: /eos/uscms/store/user/srosenzw/sixb/ntuples/Summer2018UL/maxbtag/NMSSM/NMSSM_XYH_YToHH_6b_MX_1100_MY_600_2M/ntuple.root\u001b[0m\n",
      "\u001b[36mntuple: /eos/uscms/store/user/srosenzw/sixb/ntuples/Summer2018UL/maxbtag/NMSSM/NMSSM_XYH_YToHH_6b_MX_1100_MY_700_2M/ntuple.root\u001b[0m\n",
      "\u001b[36mntuple: /eos/uscms/store/user/srosenzw/sixb/ntuples/Summer2018UL/maxbtag/NMSSM/NMSSM_XYH_YToHH_6b_MX_1000_MY_600_3M/ntuple.root\u001b[0m\n",
      "\u001b[36mntuple: /eos/uscms/store/user/srosenzw/sixb/ntuples/Summer2018UL/maxbtag/NMSSM/NMSSM_XYH_YToHH_6b_MX_1100_MY_800_2M/ntuple.root\u001b[0m\n",
      "\u001b[36mntuple: /eos/uscms/store/user/srosenzw/sixb/ntuples/Summer2018UL/maxbtag/NMSSM/NMSSM_XYH_YToHH_6b_MX_1200_MY_300/ntuple.root\u001b[0m\n",
      "\u001b[36mntuple: /eos/uscms/store/user/srosenzw/sixb/ntuples/Summer2018UL/maxbtag/NMSSM/NMSSM_XYH_YToHH_6b_MX_1200_MY_350/ntuple.root\u001b[0m\n",
      "\u001b[36mntuple: /eos/uscms/store/user/srosenzw/sixb/ntuples/Summer2018UL/maxbtag/NMSSM/NMSSM_XYH_YToHH_6b_MX_1200_MY_250_2M/ntuple.root\u001b[0m\n",
      "\u001b[36mntuple: /eos/uscms/store/user/srosenzw/sixb/ntuples/Summer2018UL/maxbtag/NMSSM/NMSSM_XYH_YToHH_6b_MX_1200_MY_1000_2M/ntuple.root\u001b[0m\n",
      "\u001b[36mntuple: /eos/uscms/store/user/srosenzw/sixb/ntuples/Summer2018UL/maxbtag/NMSSM/NMSSM_XYH_YToHH_6b_MX_1100_MY_900_2M/ntuple.root\u001b[0m\n",
      "\u001b[36mntuple: /eos/uscms/store/user/srosenzw/sixb/ntuples/Summer2018UL/maxbtag/NMSSM/NMSSM_XYH_YToHH_6b_MX_1200_MY_450_2M/ntuple.root\u001b[0m\n",
      "\u001b[36mntuple: /eos/uscms/store/user/srosenzw/sixb/ntuples/Summer2018UL/maxbtag/NMSSM/NMSSM_XYH_YToHH_6b_MX_1200_MY_400_2M/ntuple.root\u001b[0m\n",
      "\u001b[36mntuple: /eos/uscms/store/user/srosenzw/sixb/ntuples/Summer2018UL/maxbtag/NMSSM/NMSSM_XYH_YToHH_6b_MX_1200_MY_500_2M/ntuple.root\u001b[0m\n",
      "\u001b[36mntuple: /eos/uscms/store/user/srosenzw/sixb/ntuples/Summer2018UL/maxbtag/NMSSM/NMSSM_XYH_YToHH_6b_MX_1200_MY_700_2M/ntuple.root\u001b[0m\n",
      "\u001b[36mntuple: /eos/uscms/store/user/srosenzw/sixb/ntuples/Summer2018UL/maxbtag/NMSSM/NMSSM_XYH_YToHH_6b_MX_1200_MY_600_2M/ntuple.root\u001b[0m\n",
      "\u001b[36mntuple: /eos/uscms/store/user/srosenzw/sixb/ntuples/Summer2018UL/maxbtag/NMSSM/NMSSM_XYH_YToHH_6b_MX_450_MY_250_5M/ntuple.root\u001b[0m\n",
      "\u001b[36mntuple: /eos/uscms/store/user/srosenzw/sixb/ntuples/Summer2018UL/maxbtag/NMSSM/NMSSM_XYH_YToHH_6b_MX_400_MY_250_10M/ntuple.root\u001b[0m\n",
      "\u001b[36mntuple: /eos/uscms/store/user/srosenzw/sixb/ntuples/Summer2018UL/maxbtag/NMSSM/NMSSM_XYH_YToHH_6b_MX_1200_MY_900_2M/ntuple.root\u001b[0m\n",
      "\u001b[36mntuple: /eos/uscms/store/user/srosenzw/sixb/ntuples/Summer2018UL/maxbtag/NMSSM/NMSSM_XYH_YToHH_6b_MX_1200_MY_800_2M/ntuple.root\u001b[0m\n",
      "\u001b[36mntuple: /eos/uscms/store/user/srosenzw/sixb/ntuples/Summer2018UL/maxbtag/NMSSM/NMSSM_XYH_YToHH_6b_MX_500_MY_300/ntuple.root\u001b[0m\n",
      "\u001b[36mntuple: /eos/uscms/store/user/srosenzw/sixb/ntuples/Summer2018UL/maxbtag/NMSSM/NMSSM_XYH_YToHH_6b_MX_500_MY_350/ntuple.root\u001b[0m\n",
      "\u001b[36mntuple: /eos/uscms/store/user/srosenzw/sixb/ntuples/Summer2018UL/maxbtag/NMSSM/NMSSM_XYH_YToHH_6b_MX_550_MY_250/ntuple.root\u001b[0m\n",
      "\u001b[36mntuple: /eos/uscms/store/user/srosenzw/sixb/ntuples/Summer2018UL/maxbtag/NMSSM/NMSSM_XYH_YToHH_6b_MX_450_MY_300_10M/ntuple.root\u001b[0m\n",
      "\u001b[36mntuple: /eos/uscms/store/user/srosenzw/sixb/ntuples/Summer2018UL/maxbtag/NMSSM/NMSSM_XYH_YToHH_6b_MX_550_MY_350/ntuple.root\u001b[0m\n",
      "\u001b[36mntuple: /eos/uscms/store/user/srosenzw/sixb/ntuples/Summer2018UL/maxbtag/NMSSM/NMSSM_XYH_YToHH_6b_MX_500_MY_250_10M/ntuple.root\u001b[0m\n",
      "\u001b[36mntuple: /eos/uscms/store/user/srosenzw/sixb/ntuples/Summer2018UL/maxbtag/NMSSM/NMSSM_XYH_YToHH_6b_MX_550_MY_400/ntuple.root\u001b[0m\n",
      "\u001b[36mntuple: /eos/uscms/store/user/srosenzw/sixb/ntuples/Summer2018UL/maxbtag/NMSSM/NMSSM_XYH_YToHH_6b_MX_600_MY_300/ntuple.root\u001b[0m\n",
      "\u001b[36mntuple: /eos/uscms/store/user/srosenzw/sixb/ntuples/Summer2018UL/maxbtag/NMSSM/NMSSM_XYH_YToHH_6b_MX_600_MY_400/ntuple.root\u001b[0m\n",
      "\u001b[36mntuple: /eos/uscms/store/user/srosenzw/sixb/ntuples/Summer2018UL/maxbtag/NMSSM/NMSSM_XYH_YToHH_6b_MX_600_MY_450/ntuple.root\u001b[0m\n",
      "\u001b[36mntuple: /eos/uscms/store/user/srosenzw/sixb/ntuples/Summer2018UL/maxbtag/NMSSM/NMSSM_XYH_YToHH_6b_MX_650_MY_250/ntuple.root\u001b[0m\n",
      "\u001b[36mntuple: /eos/uscms/store/user/srosenzw/sixb/ntuples/Summer2018UL/maxbtag/NMSSM/NMSSM_XYH_YToHH_6b_MX_600_MY_250_4M/ntuple.root\u001b[0m\n",
      "\u001b[36mntuple: /eos/uscms/store/user/srosenzw/sixb/ntuples/Summer2018UL/maxbtag/NMSSM/NMSSM_XYH_YToHH_6b_MX_650_MY_300/ntuple.root\u001b[0m\n",
      "\u001b[36mntuple: /eos/uscms/store/user/srosenzw/sixb/ntuples/Summer2018UL/maxbtag/NMSSM/NMSSM_XYH_YToHH_6b_MX_600_MY_350_2M/ntuple.root\u001b[0m\n",
      "\u001b[36mntuple: /eos/uscms/store/user/srosenzw/sixb/ntuples/Summer2018UL/maxbtag/NMSSM/NMSSM_XYH_YToHH_6b_MX_650_MY_350/ntuple.root\u001b[0m\n",
      "\u001b[36mntuple: /eos/uscms/store/user/srosenzw/sixb/ntuples/Summer2018UL/maxbtag/NMSSM/NMSSM_XYH_YToHH_6b_MX_550_MY_300/ntuple.root\u001b[0m\n",
      "\u001b[36mntuple: /eos/uscms/store/user/srosenzw/sixb/ntuples/Summer2018UL/maxbtag/NMSSM/NMSSM_XYH_YToHH_6b_MX_650_MY_400/ntuple.root\u001b[0m\n",
      "\u001b[36mntuple: /eos/uscms/store/user/srosenzw/sixb/ntuples/Summer2018UL/maxbtag/NMSSM/NMSSM_XYH_YToHH_6b_MX_650_MY_500/ntuple.root\u001b[0m\n",
      "\u001b[36mntuple: /eos/uscms/store/user/srosenzw/sixb/ntuples/Summer2018UL/maxbtag/NMSSM/NMSSM_XYH_YToHH_6b_MX_650_MY_450/ntuple.root\u001b[0m\n",
      "\u001b[36mntuple: /eos/uscms/store/user/srosenzw/sixb/ntuples/Summer2018UL/maxbtag/NMSSM/NMSSM_XYH_YToHH_6b_MX_700_MY_350/ntuple.root\u001b[0m\n",
      "\u001b[36mntuple: /eos/uscms/store/user/srosenzw/sixb/ntuples/Summer2018UL/maxbtag/NMSSM/NMSSM_XYH_YToHH_6b_MX_700_MY_300/ntuple.root\u001b[0m\n",
      "\u001b[36mntuple: /eos/uscms/store/user/srosenzw/sixb/ntuples/Summer2018UL/maxbtag/NMSSM/NMSSM_XYH_YToHH_6b_MX_700_MY_450/ntuple.root\u001b[0m\n",
      "\u001b[36mntuple: /eos/uscms/store/user/srosenzw/sixb/ntuples/Summer2018UL/maxbtag/NMSSM/NMSSM_XYH_YToHH_6b_MX_700_MY_250_3M/ntuple.root\u001b[0m\n",
      "\u001b[36mntuple: /eos/uscms/store/user/srosenzw/sixb/ntuples/Summer2018UL/maxbtag/NMSSM/NMSSM_XYH_YToHH_6b_MX_700_MY_500/ntuple.root\u001b[0m\n",
      "\u001b[36mntuple: /eos/uscms/store/user/srosenzw/sixb/ntuples/Summer2018UL/maxbtag/NMSSM/NMSSM_XYH_YToHH_6b_MX_750_MY_250/ntuple.root\u001b[0m\n",
      "\u001b[36mntuple: /eos/uscms/store/user/srosenzw/sixb/ntuples/Summer2018UL/maxbtag/NMSSM/NMSSM_XYH_YToHH_6b_MX_750_MY_300/ntuple.root\u001b[0m\n",
      "\u001b[36mntuple: /eos/uscms/store/user/srosenzw/sixb/ntuples/Summer2018UL/maxbtag/NMSSM/NMSSM_XYH_YToHH_6b_MX_750_MY_350/ntuple.root\u001b[0m\n",
      "\u001b[36mntuple: /eos/uscms/store/user/srosenzw/sixb/ntuples/Summer2018UL/maxbtag/NMSSM/NMSSM_XYH_YToHH_6b_MX_750_MY_400/ntuple.root\u001b[0m\n",
      "\u001b[36mntuple: /eos/uscms/store/user/srosenzw/sixb/ntuples/Summer2018UL/maxbtag/NMSSM/NMSSM_XYH_YToHH_6b_MX_750_MY_450/ntuple.root\u001b[0m\n",
      "\u001b[36mntuple: /eos/uscms/store/user/srosenzw/sixb/ntuples/Summer2018UL/maxbtag/NMSSM/NMSSM_XYH_YToHH_6b_MX_750_MY_500/ntuple.root\u001b[0m\n",
      "\u001b[36mntuple: /eos/uscms/store/user/srosenzw/sixb/ntuples/Summer2018UL/maxbtag/NMSSM/NMSSM_XYH_YToHH_6b_MX_700_MY_400/ntuple.root\u001b[0m\n",
      "\u001b[36mntuple: /eos/uscms/store/user/srosenzw/sixb/ntuples/Summer2018UL/maxbtag/NMSSM/NMSSM_XYH_YToHH_6b_MX_700_MY_400_2M/ntuple.root\u001b[0m\n",
      "\u001b[36mntuple: /eos/uscms/store/user/srosenzw/sixb/ntuples/Summer2018UL/maxbtag/NMSSM/NMSSM_XYH_YToHH_6b_MX_750_MY_550/ntuple.root\u001b[0m\n",
      "\u001b[36mntuple: /eos/uscms/store/user/srosenzw/sixb/ntuples/Summer2018UL/maxbtag/NMSSM/NMSSM_XYH_YToHH_6b_MX_750_MY_600/ntuple.root\u001b[0m\n",
      "\u001b[36mntuple: /eos/uscms/store/user/srosenzw/sixb/ntuples/Summer2018UL/maxbtag/NMSSM/NMSSM_XYH_YToHH_6b_MX_800_MY_300/ntuple.root\u001b[0m\n",
      "\u001b[36mntuple: /eos/uscms/store/user/srosenzw/sixb/ntuples/Summer2018UL/maxbtag/NMSSM/NMSSM_XYH_YToHH_6b_MX_800_MY_400/ntuple.root\u001b[0m\n",
      "\u001b[36mntuple: /eos/uscms/store/user/srosenzw/sixb/ntuples/Summer2018UL/maxbtag/NMSSM/NMSSM_XYH_YToHH_6b_MX_800_MY_450/ntuple.root\u001b[0m\n",
      "\u001b[36mntuple: /eos/uscms/store/user/srosenzw/sixb/ntuples/Summer2018UL/maxbtag/NMSSM/NMSSM_XYH_YToHH_6b_MX_800_MY_250_3M/ntuple.root\u001b[0m\n",
      "\u001b[36mntuple: /eos/uscms/store/user/srosenzw/sixb/ntuples/Summer2018UL/maxbtag/NMSSM/NMSSM_XYH_YToHH_6b_MX_850_MY_250/ntuple.root\u001b[0m\n",
      "\u001b[36mntuple: /eos/uscms/store/user/srosenzw/sixb/ntuples/Summer2018UL/maxbtag/NMSSM/NMSSM_XYH_YToHH_6b_MX_850_MY_300/ntuple.root\u001b[0m\n",
      "\u001b[36mntuple: /eos/uscms/store/user/srosenzw/sixb/ntuples/Summer2018UL/maxbtag/NMSSM/NMSSM_XYH_YToHH_6b_MX_800_MY_350_2M/ntuple.root\u001b[0m\n",
      "\u001b[36mntuple: /eos/uscms/store/user/srosenzw/sixb/ntuples/Summer2018UL/maxbtag/NMSSM/NMSSM_XYH_YToHH_6b_MX_850_MY_350/ntuple.root\u001b[0m\n",
      "\u001b[36mntuple: /eos/uscms/store/user/srosenzw/sixb/ntuples/Summer2018UL/maxbtag/NMSSM/NMSSM_XYH_YToHH_6b_MX_850_MY_400/ntuple.root\u001b[0m\n",
      "\u001b[36mntuple: /eos/uscms/store/user/srosenzw/sixb/ntuples/Summer2018UL/maxbtag/NMSSM/NMSSM_XYH_YToHH_6b_MX_850_MY_450/ntuple.root\u001b[0m\n",
      "\u001b[36mntuple: /eos/uscms/store/user/srosenzw/sixb/ntuples/Summer2018UL/maxbtag/NMSSM/NMSSM_XYH_YToHH_6b_MX_850_MY_500/ntuple.root\u001b[0m\n",
      "\u001b[36mntuple: /eos/uscms/store/user/srosenzw/sixb/ntuples/Summer2018UL/maxbtag/NMSSM/NMSSM_XYH_YToHH_6b_MX_800_MY_500_2M/ntuple.root\u001b[0m\n",
      "\u001b[36mntuple: /eos/uscms/store/user/srosenzw/sixb/ntuples/Summer2018UL/maxbtag/NMSSM/NMSSM_XYH_YToHH_6b_MX_850_MY_550/ntuple.root\u001b[0m\n",
      "\u001b[36mntuple: /eos/uscms/store/user/srosenzw/sixb/ntuples/Summer2018UL/maxbtag/NMSSM/NMSSM_XYH_YToHH_6b_MX_850_MY_600/ntuple.root\u001b[0m\n",
      "\u001b[36mntuple: /eos/uscms/store/user/srosenzw/sixb/ntuples/Summer2018UL/maxbtag/NMSSM/NMSSM_XYH_YToHH_6b_MX_850_MY_650/ntuple.root\u001b[0m\n",
      "\u001b[36mntuple: /eos/uscms/store/user/srosenzw/sixb/ntuples/Summer2018UL/maxbtag/NMSSM/NMSSM_XYH_YToHH_6b_MX_850_MY_700/ntuple.root\u001b[0m\n",
      "\u001b[36mntuple: /eos/uscms/store/user/srosenzw/sixb/ntuples/Summer2018UL/maxbtag/NMSSM/NMSSM_XYH_YToHH_6b_MX_800_MY_600_2M/ntuple.root\u001b[0m\n",
      "\u001b[36mntuple: /eos/uscms/store/user/srosenzw/sixb/ntuples/Summer2018UL/maxbtag/NMSSM/NMSSM_XYH_YToHH_6b_MX_900_MY_350/ntuple.root\u001b[0m\n",
      "\u001b[36mntuple: /eos/uscms/store/user/srosenzw/sixb/ntuples/Summer2018UL/maxbtag/NMSSM/NMSSM_XYH_YToHH_6b_MX_900_MY_400/ntuple.root\u001b[0m\n",
      "\u001b[36mntuple: /eos/uscms/store/user/srosenzw/sixb/ntuples/Summer2018UL/maxbtag/NMSSM/NMSSM_XYH_YToHH_6b_MX_900_MY_250_2M/ntuple.root\u001b[0m\n",
      "\u001b[36mntuple: /eos/uscms/store/user/srosenzw/sixb/ntuples/Summer2018UL/maxbtag/NMSSM/NMSSM_XYH_YToHH_6b_MX_900_MY_450_2M/ntuple.root\u001b[0m\n",
      "\u001b[36mntuple: /eos/uscms/store/user/srosenzw/sixb/ntuples/Summer2018UL/maxbtag/NMSSM/NMSSM_XYH_YToHH_6b_MX_900_MY_300_2M/ntuple.root\u001b[0m\n",
      "\u001b[36mntuple: /eos/uscms/store/user/srosenzw/sixb/ntuples/Summer2018UL/maxbtag/NMSSM/NMSSM_XYH_YToHH_6b_MX_900_MY_500_2M/ntuple.root\u001b[0m\n",
      "\u001b[36mntuple: /eos/uscms/store/user/srosenzw/sixb/ntuples/Summer2018UL/maxbtag/NMSSM/NMSSM_XYH_YToHH_6b_MX_950_MY_250/ntuple.root\u001b[0m\n",
      "\u001b[36mntuple: /eos/uscms/store/user/srosenzw/sixb/ntuples/Summer2018UL/maxbtag/NMSSM/NMSSM_XYH_YToHH_6b_MX_900_MY_600_2M/ntuple.root\u001b[0m\n",
      "\u001b[36mntuple: /eos/uscms/store/user/srosenzw/sixb/ntuples/Summer2018UL/maxbtag/NMSSM/NMSSM_XYH_YToHH_6b_MX_950_MY_300/ntuple.root\u001b[0m\n",
      "\u001b[36mntuple: /eos/uscms/store/user/srosenzw/sixb/ntuples/Summer2018UL/maxbtag/NMSSM/NMSSM_XYH_YToHH_6b_MX_950_MY_350/ntuple.root\u001b[0m\n",
      "\u001b[36mntuple: /eos/uscms/store/user/srosenzw/sixb/ntuples/Summer2018UL/maxbtag/NMSSM/NMSSM_XYH_YToHH_6b_MX_950_MY_400/ntuple.root\u001b[0m\n",
      "\u001b[36mntuple: /eos/uscms/store/user/srosenzw/sixb/ntuples/Summer2018UL/maxbtag/NMSSM/NMSSM_XYH_YToHH_6b_MX_950_MY_450/ntuple.root\u001b[0m\n",
      "\u001b[36mntuple: /eos/uscms/store/user/srosenzw/sixb/ntuples/Summer2018UL/maxbtag/NMSSM/NMSSM_XYH_YToHH_6b_MX_950_MY_500/ntuple.root\u001b[0m\n",
      "\u001b[36mntuple: /eos/uscms/store/user/srosenzw/sixb/ntuples/Summer2018UL/maxbtag/NMSSM/NMSSM_XYH_YToHH_6b_MX_950_MY_600/ntuple.root\u001b[0m\n"
     ]
    },
    {
     "name": "stderr",
     "output_type": "stream",
     "text": [
      "usage: calculate_2d_sf_corrs.py [-h] filename\n",
      "calculate_2d_sf_corrs.py: error: the following arguments are required: filename\n"
     ]
    },
    {
     "name": "stdout",
     "output_type": "stream",
     "text": [
      "\u001b[36mntuple: /eos/uscms/store/user/srosenzw/sixb/ntuples/Summer2018UL/maxbtag/NMSSM/NMSSM_XYH_YToHH_6b_MX_900_MY_700_2M/ntuple.root\u001b[0m\n",
      "\u001b[36mntuple: /eos/uscms/store/user/srosenzw/sixb/ntuples/Summer2018UL/maxbtag/NMSSM/NMSSM_XYH_YToHH_6b_MX_950_MY_700/ntuple.root\u001b[0m\n",
      "\u001b[36mntuple: /eos/uscms/store/user/srosenzw/sixb/ntuples/Summer2018UL/maxbtag/NMSSM/NMSSM_XYH_YToHH_6b_MX_950_MY_800/ntuple.root\u001b[0m\n"
     ]
    },
    {
     "data": {
      "text/plain": [
       "1"
      ]
     },
     "execution_count": 5,
     "metadata": {},
     "output_type": "execute_result"
    }
   ],
   "source": [
    "cmd = 'parallel -j 4 \"python scripts/calculate_2d_sf_corrs.py {}\" ::: $(cat filelists/private.txt) --eta'\n",
    "subprocess.call(cmd, shell=True)"
   ]
  },
  {
   "cell_type": "markdown",
   "metadata": {},
   "source": [
    "## Step 3\n",
    "### FeynNet Predictions & Efficiency Evaluation\n",
    "FeynNet predictions are done before running this notebook. Efficiencies are evaluated here."
   ]
  },
  {
   "cell_type": "code",
   "execution_count": 8,
   "metadata": {},
   "outputs": [
    {
     "data": {
      "text/plain": [
       "(<Array [[1.28, 0.763, ..., 0.105, 0.00897], ...] type='21288 * 15 * float32'>,\n",
       " <Array [[[0, 1, 2, 5, 3, 4], ..., [0, ...]], ...] type='21288 * 5 * 6 * int64'>)"
      ]
     },
     "execution_count": 8,
     "metadata": {},
     "output_type": "execute_result"
    }
   ],
   "source": [
    "import json\n",
    "new_model_path = \"/eos/uscms/store/user/srosenzw/weaver/cmsuf/data/store/user/srosenzw/lightning/models/feynnet_lightning/X_YH_3H_6b/x3h/lightning_logs/version_23183119/predict/\"\n",
    "with open(f\"{new_model_path}/samples.json\") as f:\n",
    "    mass_dict = json.load(f)\n",
    "mass_dict\n",
    "\n",
    "import uproot\n",
    "test_masspoint = 'NMSSM_XToYHTo6B_MX-1100_MY-900_TuneCP5_13TeV-madgraph-pythia8'\n",
    "f = uproot.open(f\"{new_model_path}/{mass_dict[test_masspoint]}.root\")\n",
    "t = f['Events']\n",
    "t['sorted_rank'].array(), t['sorted_j_assignments'].array()"
   ]
  },
  {
   "cell_type": "markdown",
   "metadata": {},
   "source": [
    "## Step 4\n",
    "### Studies\n",
    "Such as efficiency studies, etc."
   ]
  },
  {
   "cell_type": "code",
   "execution_count": null,
   "metadata": {},
   "outputs": [],
   "source": []
  },
  {
   "cell_type": "markdown",
   "metadata": {},
   "source": [
    "## Step 5\n",
    "### Produce datacards and generate Combine root files containing various MX distributions"
   ]
  },
  {
   "cell_type": "code",
   "execution_count": null,
   "metadata": {},
   "outputs": [],
   "source": [
    "cmd = 'parallel -j 10 \"python scripts/generate_combine_root_files.py {}\" ::: $(cat sig_files.txt) --eta'\n",
    "subprocess.call(cmd, shell=True)"
   ]
  },
  {
   "cell_type": "code",
   "execution_count": null,
   "metadata": {},
   "outputs": [],
   "source": []
  },
  {
   "cell_type": "markdown",
   "metadata": {},
   "source": [
    "## Step 6\n",
    "### Run HiggsCombine"
   ]
  },
  {
   "cell_type": "code",
   "execution_count": null,
   "metadata": {},
   "outputs": [],
   "source": []
  },
  {
   "cell_type": "code",
   "execution_count": null,
   "metadata": {},
   "outputs": [],
   "source": []
  },
  {
   "cell_type": "code",
   "execution_count": null,
   "metadata": {},
   "outputs": [],
   "source": [
    "import uproot\n",
    "f = uproot.open"
   ]
  }
 ],
 "metadata": {
  "kernelspec": {
   "display_name": "Python 3",
   "language": "python",
   "name": "python3"
  },
  "language_info": {
   "codemirror_mode": {
    "name": "ipython",
    "version": 3
   },
   "file_extension": ".py",
   "mimetype": "text/x-python",
   "name": "python",
   "nbconvert_exporter": "python",
   "pygments_lexer": "ipython3",
   "version": "3.9.18"
  }
 },
 "nbformat": 4,
 "nbformat_minor": 2
}
