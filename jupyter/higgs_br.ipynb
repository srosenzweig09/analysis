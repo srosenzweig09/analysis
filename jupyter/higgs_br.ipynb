{
 "cells": [
  {
   "cell_type": "code",
   "execution_count": 1,
   "metadata": {},
   "outputs": [
    {
     "name": "stdout",
     "output_type": "stream",
     "text": [
      "Using default run: default\n",
      "Using default pair: default\n"
     ]
    }
   ],
   "source": [
    "   files = FileLocations()"
   ]
  },
  {
   "cell_type": "code",
   "execution_count": 7,
   "metadata": {},
   "outputs": [
    {
     "name": "stdout",
     "output_type": "stream",
     "text": [
      "/uscms_data/d3/srosenzw/workarea/higgs/sixb_analysis/CMSSW_10_6_19_patch2/src/sixb/jupyter\n"
     ]
    }
   ],
   "source": [
    "import os\n",
    "print(os.getcwd())"
   ]
  },
  {
   "cell_type": "code",
   "execution_count": 2,
   "metadata": {},
   "outputs": [
    {
     "data": {
      "text/plain": [
       "['../config/rectConfig.cfg']"
      ]
     },
     "execution_count": 2,
     "metadata": {},
     "output_type": "execute_result"
    }
   ],
   "source": [
    "from configparser import ConfigParser\n",
    "config = ConfigParser()\n",
    "config.read('../config/rectConfig.cfg')"
   ]
  },
  {
   "cell_type": "code",
   "execution_count": 4,
   "metadata": {},
   "outputs": [
    {
     "data": {
      "text/plain": [
       "array([697.69055, 646.901  , 690.29193, ..., 717.648  , 585.92346,\n",
       "       589.4529 ], dtype=float32)"
      ]
     },
     "execution_count": 4,
     "metadata": {},
     "output_type": "execute_result"
    }
   ],
   "source": [
    "tree = Signal(files.get_NMSSM(700, 400))\n",
    "tree.rectangular_region(config)"
   ]
  },
  {
   "cell_type": "code",
   "execution_count": 5,
   "metadata": {},
   "outputs": [
    {
     "name": "stdout",
     "output_type": "stream",
     "text": [
      "0.27498441000531215\n",
      "0.16234381134951614\n",
      "0.0022403399773656373\n"
     ]
    }
   ],
   "source": [
    "print((sum(tree.SRls_mask) + sum(tree.SRhs_mask))/len(tree.SRls_mask))\n",
    "print((sum(tree.VRls_mask) + sum(tree.VRhs_mask))/len(tree.VRls_mask))\n",
    "print((sum(tree.CRls_mask) + sum(tree.CRhs_mask))/len(tree.CRls_mask))"
   ]
  },
  {
   "cell_type": "code",
   "execution_count": 6,
   "metadata": {},
   "outputs": [
    {
     "data": {
      "text/plain": [
       "array([697.69055, 646.901  , 690.29193, ..., 717.648  , 585.92346,\n",
       "       589.4529 ], dtype=float32)"
      ]
     },
     "execution_count": 6,
     "metadata": {},
     "output_type": "execute_result"
    }
   ],
   "source": [
    "config = ConfigParser()\n",
    "config.read('../config/sphereConfig.cfg')\n",
    "tree.spherical_region(config)"
   ]
  },
  {
   "cell_type": "code",
   "execution_count": 19,
   "metadata": {},
   "outputs": [
    {
     "name": "stdout",
     "output_type": "stream",
     "text": [
      "0.2713121001455066\n",
      "0.04443725893248955\n",
      "0.19012864632653534\n",
      "0.0692426727024967\n"
     ]
    }
   ],
   "source": [
    "print((sum(tree.A_SRls_mask) + sum(tree.A_SRhs_mask))/len(tree.A_SRls_mask))\n",
    "print((sum(tree.V_SRls_mask) + sum(tree.V_SRhs_mask))/len(tree.V_SRls_mask))\n",
    "print((sum(tree.A_CRls_mask) + sum(tree.A_CRhs_mask))/len(tree.A_CRls_mask))\n",
    "print((sum(tree.V_CRls_mask) + sum(tree.V_CRhs_mask))/len(tree.V_CRls_mask))"
   ]
  },
  {
   "cell_type": "code",
   "execution_count": null,
   "metadata": {},
   "outputs": [],
   "source": []
  }
 ],
 "metadata": {
  "interpreter": {
   "hash": "a7e290e4a2f65fda2e4500aedb80e8aa18c05eb1e2417a443d5d3683a16a9f63"
  },
  "kernelspec": {
   "display_name": "Python 3.8.5 ('base')",
   "language": "python",
   "name": "python3"
  },
  "language_info": {
   "codemirror_mode": {
    "name": "ipython",
    "version": 3
   },
   "file_extension": ".py",
   "mimetype": "text/x-python",
   "name": "python",
   "nbconvert_exporter": "python",
   "pygments_lexer": "ipython3",
   "version": "3.8.12"
  },
  "orig_nbformat": 4
 },
 "nbformat": 4,
 "nbformat_minor": 2
}
