{
 "cells": [
  {
   "cell_type": "code",
   "execution_count": 1,
   "metadata": {},
   "outputs": [],
   "source": [
    "import uproot\n",
    "tree = uproot.lazy('/eos/uscms/store/user/srosenzw/sixb/ntuples/Summer2018UL/cutflow_studies/presel/NMSSM/NMSSM_XYH_YToHH_6b_MX_700_MY_400_2M/ntuple.root:sixBtree')"
   ]
  },
  {
   "cell_type": "code",
   "execution_count": 2,
   "metadata": {},
   "outputs": [],
   "source": [
    "# tree = uproot.lazy('/eos/uscms/store/user/srosenzw/sixb/ntuples/Summer2018UL/cutflow_studies/presel/NMSSM/NMSSM_XYH_YToHH_6b_MX_700_MY_400_2M/ntuple_allsixhj.root:sixBtree')"
   ]
  },
  {
   "cell_type": "code",
   "execution_count": 3,
   "metadata": {},
   "outputs": [
    {
     "data": {
      "text/plain": [
       "<Array [{Run: 1, ... PSWeight_var0: 1}] type='1137531 * {\"Run\": uint32, \"LumiSec...'>"
      ]
     },
     "execution_count": 3,
     "metadata": {},
     "output_type": "execute_result"
    }
   ],
   "source": [
    "tree"
   ]
  },
  {
   "cell_type": "code",
   "execution_count": 4,
   "metadata": {},
   "outputs": [],
   "source": [
    "all_sixb = tree.nfound_select == 6"
   ]
  },
  {
   "cell_type": "code",
   "execution_count": 5,
   "metadata": {},
   "outputs": [
    {
     "data": {
      "text/plain": [
       "252303"
      ]
     },
     "execution_count": 5,
     "metadata": {},
     "output_type": "execute_result"
    }
   ],
   "source": [
    "ak.sum(all_sixb)"
   ]
  },
  {
   "cell_type": "code",
   "execution_count": 6,
   "metadata": {},
   "outputs": [],
   "source": [
    "sixb_tree = tree[all_sixb]"
   ]
  },
  {
   "cell_type": "code",
   "execution_count": 7,
   "metadata": {},
   "outputs": [
    {
     "data": {
      "text/plain": [
       "(array([1.492703e+06, 2.018000e+04, 8.190000e+02, 9.200000e+01,\n",
       "        1.800000e+01, 4.000000e+00, 0.000000e+00, 1.000000e+00,\n",
       "        0.000000e+00, 1.000000e+00]),\n",
       " array([  20.000038,  246.32875 ,  472.65744 ,  698.98615 ,  925.3149  ,\n",
       "        1151.6436  , 1377.9723  , 1604.301   , 1830.6296  , 2056.9585  ,\n",
       "        2283.287   ], dtype=float32),\n",
       " <BarContainer object of 10 artists>)"
      ]
     },
     "execution_count": 7,
     "metadata": {},
     "output_type": "execute_result"
    },
    {
     "data": {
      "image/png": "[encoded data removed]",
      "text/plain": [
       "<Figure size 720x720 with 1 Axes>"
      ]
     },
     "metadata": {
      "needs_background": "light"
     },
     "output_type": "display_data"
    }
   ],
   "source": [
    "plt.hist(ak.flatten(sixb_tree.jet_pt))"
   ]
  },
  {
   "cell_type": "code",
   "execution_count": 8,
   "metadata": {},
   "outputs": [],
   "source": [
    "\n",
    "fields = [\n",
    "    'jet_pt',\n",
    "    'jet_ptRegressed',\n",
    "    'jet_eta',\n",
    "    'jet_phi',\n",
    "    'jet_m',\n",
    "    'jet_mRegressed',\n",
    "    'jet_signalId',\n",
    "    'jet_btag',\n",
    "    'X_m',\n",
    "    'X_pt',\n",
    "]\n",
    "\n",
    "branches = {\n",
    "    field:sixb_tree[field]\n",
    "    for field in fields\n",
    "}"
   ]
  },
  {
   "cell_type": "code",
   "execution_count": 9,
   "metadata": {},
   "outputs": [
    {
     "data": {
      "text/plain": [
       "dict_keys(['jet_pt', 'jet_ptRegressed', 'jet_eta', 'jet_phi', 'jet_m', 'jet_mRegressed', 'jet_signalId', 'jet_btag', 'X_m', 'X_pt'])"
      ]
     },
     "execution_count": 9,
     "metadata": {},
     "output_type": "execute_result"
    }
   ],
   "source": [
    "branches.keys()"
   ]
  },
  {
   "cell_type": "code",
   "execution_count": 10,
   "metadata": {},
   "outputs": [],
   "source": [
    "tmp_output = '/eos/uscms/store/user/srosenzw/sixb/ntuples/Summer2018UL/cutflow_studies/presel/NMSSM/NMSSM_XYH_YToHH_6b_MX_700_MY_400_2M/ntuple_allsixhj.root'\n",
    "try:\n",
    "    with uproot.recreate(tmp_output) as f:\n",
    "        # for key, value in kwargs.items():\n",
    "            # f[key] = value\n",
    "        f['sixBtree']=branches\n",
    "        # print(\"f.mktree()\")\n",
    "        # f.mktree('sixBtree', types)\n",
    "        # print(\"f.extend(tree)\")\n",
    "        # f['sixBtree'].extend(masked_tree)\n",
    "except ValueError:\n",
    "    ..."
   ]
  },
  {
   "cell_type": "code",
   "execution_count": null,
   "metadata": {},
   "outputs": [],
   "source": []
  },
  {
   "cell_type": "code",
   "execution_count": null,
   "metadata": {},
   "outputs": [],
   "source": []
  },
  {
   "cell_type": "code",
   "execution_count": 4,
   "metadata": {},
   "outputs": [],
   "source": [
    "fields = tree.fields\n",
    "\n",
    "fields = [\n",
    "    'jet_pt',\n",
    "    'jet_ptRegressed',\n",
    "    'jet_eta',\n",
    "    'jet_phi',\n",
    "    'jet_m',\n",
    "    'jet_signalId',\n",
    "]\n",
    "\n",
    "types = dict()\n",
    "option_fields = []\n",
    "for field in fields:\n",
    "    types[field] = tree.type.type[field]\n",
    "    \n",
    "    if \"?\" in str(types[field]):\n",
    "        option_fields.append(field)"
   ]
  },
  {
   "cell_type": "code",
   "execution_count": 5,
   "metadata": {},
   "outputs": [
    {
     "data": {
      "text/plain": [
       "array([[ 1,  1,  0,  0,  2,  2],\n",
       "       [ 0,  0,  1,  2, -1, -1],\n",
       "       [ 1,  1,  0,  0, -1,  2],\n",
       "       ...,\n",
       "       [ 0,  2, -1,  0,  1,  2],\n",
       "       [ 1,  1,  0,  0,  2,  2],\n",
       "       [ 0, -1,  1,  2, -1,  1]], dtype=int32)"
      ]
     },
     "execution_count": 5,
     "metadata": {},
     "output_type": "execute_result"
    }
   ],
   "source": [
    "higgs_id = np.column_stack((\n",
    "    tree.HX_b1_genHflag.to_numpy(),\n",
    "    tree.HX_b2_genHflag.to_numpy(),\n",
    "    tree.H1_b1_genHflag.to_numpy(),\n",
    "    tree.H1_b2_genHflag.to_numpy(),\n",
    "    tree.H2_b1_genHflag.to_numpy(),\n",
    "    tree.H2_b2_genHflag.to_numpy(),\n",
    "))\n",
    "higgs_id\n"
   ]
  },
  {
   "cell_type": "code",
   "execution_count": 6,
   "metadata": {},
   "outputs": [],
   "source": [
    "all_sixb = tree.nfound_select == 6"
   ]
  },
  {
   "cell_type": "code",
   "execution_count": 7,
   "metadata": {},
   "outputs": [],
   "source": [
    "masked_tree = tree[all_sixb]"
   ]
  },
  {
   "cell_type": "code",
   "execution_count": 8,
   "metadata": {},
   "outputs": [
    {
     "data": {
      "text/plain": [
       "(array([1.55814e+05, 8.39510e+04, 1.11390e+04, 1.10000e+03, 2.16000e+02,\n",
       "        6.00000e+01, 1.30000e+01, 8.00000e+00, 1.00000e+00, 1.00000e+00]),\n",
       " array([ 20.003326, 110.358696, 200.71407 , 291.06943 , 381.4248  ,\n",
       "        471.78015 , 562.13556 , 652.4909  , 742.84625 , 833.20166 ,\n",
       "        923.557   ], dtype=float32),\n",
       " <BarContainer object of 10 artists>)"
      ]
     },
     "execution_count": 8,
     "metadata": {},
     "output_type": "execute_result"
    },
    {
     "data": {
      "image/png": "[encoded data removed]",
      "text/plain": [
       "<Figure size 720x720 with 1 Axes>"
      ]
     },
     "metadata": {
      "needs_background": "light"
     },
     "output_type": "display_data"
    }
   ],
   "source": [
    "plt.hist(masked_tree.jet_pt[:,0])"
   ]
  },
  {
   "cell_type": "code",
   "execution_count": 9,
   "metadata": {},
   "outputs": [
    {
     "data": {
      "text/plain": [
       "<Array [[64.1, 232, 134, ... 35, 62.9, 40.1]] type='252303 * var * float32'>"
      ]
     },
     "execution_count": 9,
     "metadata": {},
     "output_type": "execute_result"
    }
   ],
   "source": [
    "masked_tree.jet_pt"
   ]
  },
  {
   "cell_type": "code",
   "execution_count": 12,
   "metadata": {},
   "outputs": [
    {
     "data": {
      "text/plain": [
       "['jet_pt', 'jet_ptRegressed', 'jet_eta', 'jet_phi', 'jet_m', 'jet_signalId']"
      ]
     },
     "execution_count": 12,
     "metadata": {},
     "output_type": "execute_result"
    }
   ],
   "source": [
    "fields"
   ]
  },
  {
   "cell_type": "code",
   "execution_count": null,
   "metadata": {},
   "outputs": [],
   "source": []
  }
 ],
 "metadata": {
  "kernelspec": {
   "display_name": "sixb",
   "language": "python",
   "name": "python3"
  },
  "language_info": {
   "codemirror_mode": {
    "name": "ipython",
    "version": 3
   },
   "file_extension": ".py",
   "mimetype": "text/x-python",
   "name": "python",
   "nbconvert_exporter": "python",
   "pygments_lexer": "ipython3",
   "version": "3.9.13"
  },
  "orig_nbformat": 4,
  "vscode": {
   "interpreter": {
    "hash": "fd1aa3536eccf25268872fb0877ce450957c03a0faeafc6ef6bbb3c9838499b8"
   }
  }
 },
 "nbformat": 4,
 "nbformat_minor": 2
}
