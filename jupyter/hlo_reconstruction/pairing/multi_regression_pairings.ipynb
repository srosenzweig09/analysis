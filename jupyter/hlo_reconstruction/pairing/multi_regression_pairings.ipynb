{
 "cells": [
  {
   "cell_type": "code",
   "execution_count": 1,
   "metadata": {},
   "outputs": [],
   "source": [
    "import tensorflow as tf\n",
    "import tensorflow.python.util.deprecation as deprecation\n",
    "deprecation._PRINT_DEPRECATION_WARNINGS = False\n",
    "\n",
    "from argparse import ArgumentParser\n",
    "from configparser import ConfigParser\n",
    "from keras.models import Sequential\n",
    "from keras.layers import Activation, Dense, AlphaDropout\n",
    "from keras.callbacks import EarlyStopping\n",
    "from keras.regularizers import l1, l2, l1_l2\n",
    "from keras.constraints import max_norm\n",
    "from keras.utils.generic_utils import get_custom_objects\n",
    "from pandas import DataFrame\n",
    "from sklearn.model_selection import train_test_split\n",
    "from sklearn.preprocessing import MinMaxScaler\n",
    "from tensorflow import compat\n",
    "import os\n",
    "os.environ['TF_CPP_MIN_LOG_LEVEL'] = '2' # suppress Keras/TF warnings\n",
    "compat.v1.logging.set_verbosity(compat.v1.logging.ERROR) # suppress Keras/TF warnings"
   ]
  },
  {
   "cell_type": "code",
   "execution_count": 2,
   "metadata": {},
   "outputs": [],
   "source": [
    "# from utils.analysis.tree import Tree\n",
    "# bkg = Tree(get_qcd_ttbar('dnn'))"
   ]
  },
  {
   "cell_type": "code",
   "execution_count": 5,
   "metadata": {},
   "outputs": [
    {
     "name": "stdout",
     "output_type": "stream",
     "text": [
      "/eos/uscms/store/user/srosenzw/sixb/ntuples/Summer2018UL/NMSSM_cutflow_studies/presel/NMSSM_XYH_YToHH_6b_MX_700_MY_400_1M/ntuple.root\n"
     ]
    }
   ],
   "source": [
    "tree = Signal('/eos/uscms/store/user/srosenzw/sixb/ntuples/Summer2018UL/NMSSM_cutflow_studies/presel/NMSSM_XYH_YToHH_6b_MX_700_MY_400_1M/ntuple.root')"
   ]
  },
  {
   "cell_type": "code",
   "execution_count": 6,
   "metadata": {},
   "outputs": [
    {
     "data": {
      "text/plain": [
       "<Array [[5, 4, 3, 2, 1, 0, ... 3, 2, 1, 0, -1]] type='569341 * var * int32'>"
      ]
     },
     "execution_count": 6,
     "metadata": {},
     "output_type": "execute_result"
    }
   ],
   "source": [
    "id_sort = ak.argsort(tree.jet_signalId, axis=1, ascending=False)[:,:6]\n",
    "tree.jet_signalId[id_sort]"
   ]
  },
  {
   "cell_type": "code",
   "execution_count": 76,
   "metadata": {},
   "outputs": [
    {
     "data": {
      "text/plain": [
       "array([ True, False, False, ..., False,  True, False])"
      ]
     },
     "execution_count": 76,
     "metadata": {},
     "output_type": "execute_result"
    }
   ],
   "source": [
    "sixb_event = ak.all(tree.jet_signalId[id_sort][:,:6] > -1, axis=1).to_numpy()\n",
    "n_events = sixb_event.sum()\n",
    "sixb_event"
   ]
  },
  {
   "cell_type": "code",
   "execution_count": 77,
   "metadata": {},
   "outputs": [],
   "source": [
    "sorted_id = tree.jet_signalId[id_sort][:,:6].to_numpy()\n",
    "\n",
    "# turn jet id 0 into higgs id 1 (jet id 1 is already higgs id 1 - HX)\n",
    "sorted_id = np.where(sorted_id == 0, 1, sorted_id)\n",
    "# turn jet id 3 into higgs id 2 (jet id 2 is already higgs id 2 - H1)\n",
    "sorted_id = np.where(sorted_id == 3, 2, sorted_id)\n",
    "# turn jet id 4 and 5 into higgs id 3 (H2)\n",
    "sorted_id = np.where(sorted_id == 4, 3, sorted_id)\n",
    "sorted_id = np.where(sorted_id == 5, 3, sorted_id)\n",
    "# turn jet id -1 into higgs id 0 (not a Higgs)\n",
    "sorted_id = np.where(sorted_id == -1, 0, sorted_id)\n",
    "\n",
    "# n_events = sorted_id[sixb_event].shape[0]\n",
    "\n",
    "\n",
    "sixb_sorted_id = sorted_id[sixb_event][:n_events]\n",
    "xxxx_sorted_id = sorted_id[~sixb_event][:n_events]"
   ]
  },
  {
   "cell_type": "code",
   "execution_count": 78,
   "metadata": {},
   "outputs": [
    {
     "data": {
      "text/plain": [
       "((569341, 6), (176884, 6), (392457, 6))"
      ]
     },
     "execution_count": 78,
     "metadata": {},
     "output_type": "execute_result"
    }
   ],
   "source": [
    "sorted_id.shape, sorted_id[sixb_event].shape, sorted_id[~sixb_event].shape"
   ]
  },
  {
   "cell_type": "code",
   "execution_count": 79,
   "metadata": {},
   "outputs": [
    {
     "data": {
      "text/plain": [
       "((569341, 6), (176884, 6), (176884, 6))"
      ]
     },
     "execution_count": 79,
     "metadata": {},
     "output_type": "execute_result"
    }
   ],
   "source": [
    "sorted_id.shape, sixb_sorted_id.shape, xxxx_sorted_id.shape"
   ]
  },
  {
   "cell_type": "code",
   "execution_count": 80,
   "metadata": {},
   "outputs": [
    {
     "data": {
      "text/plain": [
       "(array([[3, 3, 2, 2, 1, 1],\n",
       "        [3, 3, 2, 2, 1, 1],\n",
       "        [3, 3, 2, 2, 1, 1],\n",
       "        ...,\n",
       "        [3, 3, 2, 2, 1, 1],\n",
       "        [3, 3, 2, 2, 1, 1],\n",
       "        [3, 3, 2, 2, 1, 1]], dtype=int32),\n",
       " array([[3, 2, 2, 1, 1, 0],\n",
       "        [3, 2, 2, 1, 1, 0],\n",
       "        [3, 3, 2, 1, 0, 0],\n",
       "        ...,\n",
       "        [3, 3, 2, 1, 1, 0],\n",
       "        [3, 3, 2, 1, 0, 0],\n",
       "        [3, 2, 2, 1, 1, 0]], dtype=int32))"
      ]
     },
     "execution_count": 80,
     "metadata": {},
     "output_type": "execute_result"
    }
   ],
   "source": [
    "sixb_sorted_id, xxxx_sorted_id"
   ]
  },
  {
   "cell_type": "code",
   "execution_count": 81,
   "metadata": {},
   "outputs": [
    {
     "data": {
      "text/plain": [
       "[(0, 1),\n",
       " (0, 2),\n",
       " (0, 3),\n",
       " (0, 4),\n",
       " (0, 5),\n",
       " (1, 2),\n",
       " (1, 3),\n",
       " (1, 4),\n",
       " (1, 5),\n",
       " (2, 3),\n",
       " (2, 4),\n",
       " (2, 5),\n",
       " (3, 4),\n",
       " (3, 5),\n",
       " (4, 5)]"
      ]
     },
     "execution_count": 81,
     "metadata": {},
     "output_type": "execute_result"
    }
   ],
   "source": [
    "from itertools import combinations\n",
    "\n",
    "combos = list(combinations(np.arange(6),2))\n",
    "combos"
   ]
  },
  {
   "cell_type": "code",
   "execution_count": 82,
   "metadata": {},
   "outputs": [],
   "source": [
    "sixb_particles = []\n",
    "for i in range(6):\n",
    "    sixb_particles.append(Particle(kin_dict={\n",
    "        'pt' : tree.jet_ptRegressed[id_sort][sixb_event][:,i],\n",
    "        'eta' : tree.jet_eta[id_sort][sixb_event][:,i],\n",
    "        'phi' : tree.jet_phi[id_sort][sixb_event][:,i],\n",
    "        'm' : tree.jet_mRegressed[id_sort][sixb_event][:,i]\n",
    "        }))\n",
    "sixb_particles\n",
    "\n",
    "xxxx_particles = []\n",
    "for i in range(6):\n",
    "    xxxx_particles.append(Particle(kin_dict={\n",
    "        'pt' : tree.jet_ptRegressed[id_sort][~sixb_event][:,i],\n",
    "        'eta' : tree.jet_eta[id_sort][~sixb_event][:,i],\n",
    "        'phi' : tree.jet_phi[id_sort][~sixb_event][:,i],\n",
    "        'm' : tree.jet_mRegressed[id_sort][~sixb_event][:,i]\n",
    "        }))"
   ]
  },
  {
   "cell_type": "code",
   "execution_count": 83,
   "metadata": {},
   "outputs": [],
   "source": [
    "sixb_pt = np.column_stack([particle.pt.to_numpy() for particle in sixb_particles])\n",
    "sixb_eta = np.column_stack([particle.eta.to_numpy() for particle in sixb_particles])\n",
    "\n",
    "xxxx_pt = np.column_stack([particle.pt.to_numpy() for particle in xxxx_particles])\n",
    "xxxx_eta = np.column_stack([particle.eta.to_numpy() for particle in xxxx_particles])\n",
    "\n",
    "sixb_deltaPhi = []\n",
    "sixb_deltaEta = []\n",
    "sixb_deltaR = []\n",
    "\n",
    "xxxx_deltaPhi = []\n",
    "xxxx_deltaEta = []\n",
    "xxxx_deltaR = []\n",
    "\n",
    "# boost_dPhi = []\n",
    "# boost_dEta = []\n",
    "# boost_dR = []\n",
    "# boost_m = []\n",
    "\n",
    "for combo in combos:\n",
    "    i,j = combo[0], combo[1]\n",
    "\n",
    "    part_1 = sixb_particles[i]\n",
    "    part_2 = sixb_particles[j]\n",
    "\n",
    "    sixb_deltaPhi.append(part_1.deltaPhi(part_2).to_numpy())\n",
    "    sixb_deltaEta.append(part_1.deltaEta(part_2).to_numpy())\n",
    "    sixb_deltaR.append(part_1.deltaR(part_2).to_numpy())\n",
    "\n",
    "    part_1 = xxxx_particles[i]\n",
    "    part_2 = xxxx_particles[j]\n",
    "\n",
    "    xxxx_deltaPhi.append(part_1.deltaPhi(part_2).to_numpy())\n",
    "    xxxx_deltaEta.append(part_1.deltaEta(part_2).to_numpy())\n",
    "    xxxx_deltaR.append(part_1.deltaR(part_2).to_numpy())\n",
    "\n",
    "sixb_deltaPhi = np.column_stack((sixb_deltaPhi))\n",
    "sixb_deltaEta = np.column_stack((sixb_deltaEta))\n",
    "sixb_deltaR = np.column_stack((sixb_deltaR))\n",
    "\n",
    "xxxx_deltaPhi = np.column_stack((xxxx_deltaPhi))\n",
    "xxxx_deltaEta = np.column_stack((xxxx_deltaEta))\n",
    "xxxx_deltaR = np.column_stack((xxxx_deltaR))"
   ]
  },
  {
   "cell_type": "code",
   "execution_count": 130,
   "metadata": {},
   "outputs": [
    {
     "name": "stdout",
     "output_type": "stream",
     "text": [
      "(353768, 27) (353768, 6)\n",
      "27 6\n"
     ]
    }
   ],
   "source": [
    "# sixb_features = np.column_stack((sixb_pt, sixb_eta, sixb_deltaPhi, sixb_deltaEta, sixb_deltaR))\n",
    "# xxxx_features = np.column_stack((xxxx_pt, xxxx_eta, xxxx_deltaPhi, xxxx_deltaEta, xxxx_deltaR))\n",
    "# sixb_features = np.column_stack((sixb_pt, sixb_eta, sixb_deltaPhi, sixb_deltaR))\n",
    "# xxxx_features = np.column_stack((xxxx_pt, xxxx_eta, xxxx_deltaPhi, xxxx_deltaR))\n",
    "sixb_features = np.column_stack((sixb_pt, sixb_eta, sixb_deltaPhi))\n",
    "xxxx_features = np.column_stack((xxxx_pt, xxxx_eta, xxxx_deltaPhi))\n",
    "\n",
    "features = np.row_stack((sixb_features[:n_events], xxxx_features[:n_events]))\n",
    "labels = np.row_stack((sixb_sorted_id, xxxx_sorted_id))\n",
    "\n",
    "n_inputs = features.shape[1]\n",
    "n_outputs = labels.shape[1]\n",
    "\n",
    "print(features.shape, labels.shape)\n",
    "print(n_inputs, n_outputs)"
   ]
  },
  {
   "cell_type": "code",
   "execution_count": 179,
   "metadata": {},
   "outputs": [],
   "source": [
    "# Hidden hyperparameters\n",
    "hidden_activations = 'selu'\n",
    "nodes              = [20,40,20]\n",
    "nlayers            = len(nodes)\n",
    "\n",
    "# Output hyperparameters\n",
    "output_activation  = 'linear'\n",
    "output_nodes       = n_outputs\n",
    "\n",
    "optimizer_name     = 'nadam'\n",
    "loss_function      = 'mae'\n",
    "nepochs            = 50\n",
    "batch_size         = 100"
   ]
  },
  {
   "cell_type": "code",
   "execution_count": 180,
   "metadata": {},
   "outputs": [],
   "source": [
    "scaler = MinMaxScaler()\n",
    "scaler.fit(features)\n",
    "x = scaler.transform(features)\n",
    "\n",
    "val_size = 0.10\n",
    "x_train, x_val, y_train, y_val = train_test_split(x, labels, test_size=val_size)\n",
    "\n",
    "param_dim = n_inputs"
   ]
  },
  {
   "cell_type": "code",
   "execution_count": 181,
   "metadata": {},
   "outputs": [],
   "source": [
    "def gelu(x):\n",
    "    return 0.5 * x * (1 + tf.tanh(tf.sqrt(2 / np.pi) * (x + 0.044715 * tf.pow(x, 3))))\n",
    "get_custom_objects().update({'gelu': Activation(gelu)})"
   ]
  },
  {
   "cell_type": "code",
   "execution_count": 182,
   "metadata": {},
   "outputs": [],
   "source": [
    "model = Sequential()\n",
    "\n",
    "model.add(Dense(nodes[0], input_dim=param_dim, activation=hidden_activations, kernel_initializer='he_uniform'))\n",
    "for i in range(1,nlayers):\n",
    "    # model.add(Dense(int(nodes[i]), activation=hidden_activations, kernel_constraint=max_norm(1.0), kernel_regularizer=l1_l2(), bias_constraint=max_norm(1.0)))\n",
    "    model.add(Dense(int(nodes[i]), activation=hidden_activations, kernel_initializer='he_uniform'))\n",
    "    # model.add(Dense(int(nodes[i]), kernel_initializer='lecun_normal', activation=hidden_activations, kernel_constraint=max_norm(1.0), kernel_regularizer=l1_l2(), bias_constraint=max_norm(1.0)))\n",
    "    # if bool(args.dropout): model.add(AlphaDropout(0.2)) \n",
    "model.add(Dense(output_nodes, activation=output_activation))"
   ]
  },
  {
   "cell_type": "code",
   "execution_count": 183,
   "metadata": {},
   "outputs": [],
   "source": [
    "es = EarlyStopping(monitor='loss', restore_best_weights=True, patience=10)"
   ]
  },
  {
   "cell_type": "code",
   "execution_count": 184,
   "metadata": {},
   "outputs": [],
   "source": [
    "met = ['accuracy']"
   ]
  },
  {
   "cell_type": "code",
   "execution_count": 185,
   "metadata": {},
   "outputs": [],
   "source": [
    "lr = 0.0001\n",
    "beta1 = 0.9\n",
    "beta2 = 0.999\n",
    "epsilon = 1e-7"
   ]
  },
  {
   "cell_type": "code",
   "execution_count": 186,
   "metadata": {},
   "outputs": [],
   "source": [
    "# optimizer = 'nadam'\n",
    "optimizer = tf.keras.optimizers.Nadam(\n",
    "    learning_rate=lr, beta_1=beta1, beta_2=beta2, epsilon=epsilon, name=\"nadam\"\n",
    ")"
   ]
  },
  {
   "cell_type": "code",
   "execution_count": 187,
   "metadata": {},
   "outputs": [],
   "source": [
    "optimizer = tf.keras.optimizers.Adam(\n",
    "    learning_rate=lr, beta_1=beta1, beta_2=beta2, epsilon=epsilon, name=\"adam\"\n",
    ")"
   ]
  },
  {
   "cell_type": "code",
   "execution_count": 188,
   "metadata": {},
   "outputs": [],
   "source": [
    "model.compile(loss=loss_function, \n",
    "              optimizer=optimizer, \n",
    "              metrics=met)"
   ]
  },
  {
   "cell_type": "code",
   "execution_count": 189,
   "metadata": {},
   "outputs": [
    {
     "name": "stdout",
     "output_type": "stream",
     "text": [
      "Input parameters:            27\n",
      "Optimizer:                   <keras.optimizers.optimizer_v2.adam.Adam object at 0x7f19ec165580>\n",
      "Learning Rate:               0.0001\n",
      "beta_1:                      0.9\n",
      "beta_2:                      0.999\n",
      "epsilon:                     1e-07\n",
      "Loss:                        mae\n",
      "Num epochs:                  50\n",
      "Batch size:                  100\n",
      "Num hidden layers:           3\n",
      "Input activation function:   selu\n",
      "Hidden layer nodes:          [20, 40, 20]\n",
      "Hidden activation functions: selu\n",
      "Num output nodes:            6\n",
      "Output activation function:  Linear\n"
     ]
    }
   ],
   "source": [
    "nn_info_list = [\n",
    "    f\"Input parameters:            {param_dim}\\n\",\n",
    "    f\"Optimizer:                   {optimizer}\\n\",\n",
    "    f\"Learning Rate:               {lr}\\n\",\n",
    "    f\"beta_1:                      {beta1}\\n\",\n",
    "    f\"beta_2:                      {beta2}\\n\",\n",
    "    f\"epsilon:                     {epsilon}\\n\",\n",
    "    f\"Loss:                        {loss_function}\\n\",\n",
    "    f\"Num epochs:                  {nepochs}\\n\",\n",
    "    f\"Batch size:                  {batch_size}\\n\",\n",
    "    f\"Num hidden layers:           {nlayers}\\n\",\n",
    "    f\"Input activation function:   {hidden_activations}\\n\",\n",
    "    f\"Hidden layer nodes:          {nodes}\\n\",\n",
    "    f\"Hidden activation functions: {hidden_activations}\\n\",\n",
    "    f\"Num output nodes:            {output_nodes}\\n\",\n",
    "    f\"Output activation function:  {output_activation.capitalize()}\\n\"]\n",
    "\n",
    "for line in nn_info_list:\n",
    "    print(line[:-1])"
   ]
  },
  {
   "cell_type": "code",
   "execution_count": 190,
   "metadata": {},
   "outputs": [],
   "source": [
    "# tf.config.run_functions_eagerly(True)"
   ]
  },
  {
   "cell_type": "code",
   "execution_count": 191,
   "metadata": {},
   "outputs": [
    {
     "name": "stdout",
     "output_type": "stream",
     "text": [
      "Epoch 1/50\n",
      "3184/3184 [==============================] - 11s 3ms/step - loss: 0.3857 - accuracy: 0.6089 - val_loss: 0.2554 - val_accuracy: 0.6699\n",
      "Epoch 2/50\n",
      "3184/3184 [==============================] - 12s 4ms/step - loss: 0.2325 - accuracy: 0.6702 - val_loss: 0.2057 - val_accuracy: 0.7415\n",
      "Epoch 3/50\n",
      "3184/3184 [==============================] - 12s 4ms/step - loss: 0.1930 - accuracy: 0.7548 - val_loss: 0.1917 - val_accuracy: 0.8221\n",
      "Epoch 4/50\n",
      "3184/3184 [==============================] - 12s 4ms/step - loss: 0.1867 - accuracy: 0.7721 - val_loss: 0.1875 - val_accuracy: 0.7882\n",
      "Epoch 5/50\n",
      "3184/3184 [==============================] - 12s 4ms/step - loss: 0.1835 - accuracy: 0.7725 - val_loss: 0.1847 - val_accuracy: 0.7803\n",
      "Epoch 6/50\n",
      "3184/3184 [==============================] - 12s 4ms/step - loss: 0.1809 - accuracy: 0.7710 - val_loss: 0.1823 - val_accuracy: 0.7568\n",
      "Epoch 7/50\n",
      "3184/3184 [==============================] - 12s 4ms/step - loss: 0.1781 - accuracy: 0.7695 - val_loss: 0.1790 - val_accuracy: 0.7953\n",
      "Epoch 8/50\n",
      "3184/3184 [==============================] - 12s 4ms/step - loss: 0.1748 - accuracy: 0.7664 - val_loss: 0.1753 - val_accuracy: 0.7212\n",
      "Epoch 9/50\n",
      "3184/3184 [==============================] - 12s 4ms/step - loss: 0.1712 - accuracy: 0.7624 - val_loss: 0.1715 - val_accuracy: 0.7510\n",
      "Epoch 10/50\n",
      "3184/3184 [==============================] - 12s 4ms/step - loss: 0.1678 - accuracy: 0.7602 - val_loss: 0.1688 - val_accuracy: 0.7932\n",
      "Epoch 11/50\n",
      "3184/3184 [==============================] - 12s 4ms/step - loss: 0.1647 - accuracy: 0.7583 - val_loss: 0.1652 - val_accuracy: 0.7552\n",
      "Epoch 12/50\n",
      "3184/3184 [==============================] - 12s 4ms/step - loss: 0.1614 - accuracy: 0.7557 - val_loss: 0.1617 - val_accuracy: 0.7231\n",
      "Epoch 13/50\n",
      "3184/3184 [==============================] - 12s 4ms/step - loss: 0.1576 - accuracy: 0.7544 - val_loss: 0.1581 - val_accuracy: 0.6971\n",
      "Epoch 14/50\n",
      "3184/3184 [==============================] - 11s 3ms/step - loss: 0.1534 - accuracy: 0.7525 - val_loss: 0.1536 - val_accuracy: 0.7407\n",
      "Epoch 15/50\n",
      "3184/3184 [==============================] - 11s 4ms/step - loss: 0.1500 - accuracy: 0.7507 - val_loss: 0.1512 - val_accuracy: 0.7926\n",
      "Epoch 16/50\n",
      "3184/3184 [==============================] - 12s 4ms/step - loss: 0.1476 - accuracy: 0.7477 - val_loss: 0.1490 - val_accuracy: 0.7749\n",
      "Epoch 17/50\n",
      "3184/3184 [==============================] - 12s 4ms/step - loss: 0.1457 - accuracy: 0.7449 - val_loss: 0.1469 - val_accuracy: 0.7647\n",
      "Epoch 18/50\n",
      "3184/3184 [==============================] - 12s 4ms/step - loss: 0.1442 - accuracy: 0.7423 - val_loss: 0.1455 - val_accuracy: 0.7506\n",
      "Epoch 19/50\n",
      "3184/3184 [==============================] - 12s 4ms/step - loss: 0.1428 - accuracy: 0.7409 - val_loss: 0.1443 - val_accuracy: 0.7942\n",
      "Epoch 20/50\n",
      "3184/3184 [==============================] - 12s 4ms/step - loss: 0.1416 - accuracy: 0.7397 - val_loss: 0.1433 - val_accuracy: 0.7288\n",
      "Epoch 21/50\n",
      "3184/3184 [==============================] - 12s 4ms/step - loss: 0.1405 - accuracy: 0.7387 - val_loss: 0.1421 - val_accuracy: 0.7513\n",
      "Epoch 22/50\n",
      "3184/3184 [==============================] - 12s 4ms/step - loss: 0.1394 - accuracy: 0.7377 - val_loss: 0.1411 - val_accuracy: 0.7285\n",
      "Epoch 23/50\n",
      "3184/3184 [==============================] - 12s 4ms/step - loss: 0.1384 - accuracy: 0.7368 - val_loss: 0.1399 - val_accuracy: 0.7619\n",
      "Epoch 24/50\n",
      "3184/3184 [==============================] - 12s 4ms/step - loss: 0.1375 - accuracy: 0.7361 - val_loss: 0.1392 - val_accuracy: 0.7348\n",
      "Epoch 25/50\n",
      "3184/3184 [==============================] - 12s 4ms/step - loss: 0.1367 - accuracy: 0.7359 - val_loss: 0.1386 - val_accuracy: 0.8623\n",
      "Epoch 26/50\n",
      "3184/3184 [==============================] - 12s 4ms/step - loss: 0.1360 - accuracy: 0.7352 - val_loss: 0.1378 - val_accuracy: 0.6958\n",
      "Epoch 27/50\n",
      "3184/3184 [==============================] - 11s 3ms/step - loss: 0.1353 - accuracy: 0.7345 - val_loss: 0.1372 - val_accuracy: 0.6808\n",
      "Epoch 28/50\n",
      "3184/3184 [==============================] - 11s 4ms/step - loss: 0.1347 - accuracy: 0.7339 - val_loss: 0.1365 - val_accuracy: 0.7165\n",
      "Epoch 29/50\n",
      "3184/3184 [==============================] - 13s 4ms/step - loss: 0.1342 - accuracy: 0.7335 - val_loss: 0.1360 - val_accuracy: 0.6873\n",
      "Epoch 30/50\n",
      "3184/3184 [==============================] - 12s 4ms/step - loss: 0.1337 - accuracy: 0.7330 - val_loss: 0.1370 - val_accuracy: 0.6811\n",
      "Epoch 31/50\n",
      "3184/3184 [==============================] - 12s 4ms/step - loss: 0.1332 - accuracy: 0.7327 - val_loss: 0.1349 - val_accuracy: 0.7628\n",
      "Epoch 32/50\n",
      "3184/3184 [==============================] - 12s 4ms/step - loss: 0.1327 - accuracy: 0.7321 - val_loss: 0.1349 - val_accuracy: 0.7091\n",
      "Epoch 33/50\n",
      "3184/3184 [==============================] - 12s 4ms/step - loss: 0.1322 - accuracy: 0.7321 - val_loss: 0.1346 - val_accuracy: 0.9077\n",
      "Epoch 34/50\n",
      "3184/3184 [==============================] - 12s 4ms/step - loss: 0.1318 - accuracy: 0.7319 - val_loss: 0.1336 - val_accuracy: 0.7953\n",
      "Epoch 35/50\n",
      "3184/3184 [==============================] - 12s 4ms/step - loss: 0.1313 - accuracy: 0.7315 - val_loss: 0.1331 - val_accuracy: 0.7774\n",
      "Epoch 36/50\n",
      "3184/3184 [==============================] - 12s 4ms/step - loss: 0.1309 - accuracy: 0.7311 - val_loss: 0.1326 - val_accuracy: 0.7225\n",
      "Epoch 37/50\n",
      "3184/3184 [==============================] - 12s 4ms/step - loss: 0.1305 - accuracy: 0.7310 - val_loss: 0.1322 - val_accuracy: 0.6728\n",
      "Epoch 38/50\n",
      "3184/3184 [==============================] - 12s 4ms/step - loss: 0.1300 - accuracy: 0.7305 - val_loss: 0.1319 - val_accuracy: 0.7804\n",
      "Epoch 39/50\n",
      "3184/3184 [==============================] - 13s 4ms/step - loss: 0.1296 - accuracy: 0.7303 - val_loss: 0.1316 - val_accuracy: 0.8030\n",
      "Epoch 40/50\n",
      "3184/3184 [==============================] - 11s 3ms/step - loss: 0.1291 - accuracy: 0.7299 - val_loss: 0.1311 - val_accuracy: 0.6989\n",
      "Epoch 41/50\n",
      "3184/3184 [==============================] - 11s 3ms/step - loss: 0.1287 - accuracy: 0.7299 - val_loss: 0.1304 - val_accuracy: 0.6983\n",
      "Epoch 42/50\n",
      "3184/3184 [==============================] - 12s 4ms/step - loss: 0.1283 - accuracy: 0.7298 - val_loss: 0.1300 - val_accuracy: 0.7181\n",
      "Epoch 43/50\n",
      "3184/3184 [==============================] - 13s 4ms/step - loss: 0.1278 - accuracy: 0.7290 - val_loss: 0.1297 - val_accuracy: 0.8342\n",
      "Epoch 44/50\n",
      "3184/3184 [==============================] - 12s 4ms/step - loss: 0.1274 - accuracy: 0.7289 - val_loss: 0.1292 - val_accuracy: 0.8089\n",
      "Epoch 45/50\n",
      "3184/3184 [==============================] - 12s 4ms/step - loss: 0.1270 - accuracy: 0.7284 - val_loss: 0.1288 - val_accuracy: 0.6807\n",
      "Epoch 46/50\n",
      "3184/3184 [==============================] - 12s 4ms/step - loss: 0.1266 - accuracy: 0.7284 - val_loss: 0.1284 - val_accuracy: 0.6593\n",
      "Epoch 47/50\n",
      "3184/3184 [==============================] - 12s 4ms/step - loss: 0.1261 - accuracy: 0.7274 - val_loss: 0.1280 - val_accuracy: 0.7574\n",
      "Epoch 48/50\n",
      "3184/3184 [==============================] - 12s 4ms/step - loss: 0.1257 - accuracy: 0.7271 - val_loss: 0.1279 - val_accuracy: 0.7352\n",
      "Epoch 49/50\n",
      "3184/3184 [==============================] - 12s 4ms/step - loss: 0.1253 - accuracy: 0.7269 - val_loss: 0.1274 - val_accuracy: 0.8490\n",
      "Epoch 50/50\n",
      "3184/3184 [==============================] - 13s 4ms/step - loss: 0.1250 - accuracy: 0.7267 - val_loss: 0.1272 - val_accuracy: 0.7203\n",
      "Model: \"sequential_10\"\n",
      "_________________________________________________________________\n",
      " Layer (type)                Output Shape              Param #   \n",
      "=================================================================\n",
      " dense_35 (Dense)            (None, 20)                560       \n",
      "                                                                 \n",
      " dense_36 (Dense)            (None, 40)                840       \n",
      "                                                                 \n",
      " dense_37 (Dense)            (None, 20)                820       \n",
      "                                                                 \n",
      " dense_38 (Dense)            (None, 6)                 126       \n",
      "                                                                 \n",
      "=================================================================\n",
      "Total params: 2,346\n",
      "Trainable params: 2,346\n",
      "Non-trainable params: 0\n",
      "_________________________________________________________________\n"
     ]
    }
   ],
   "source": [
    "history = model.fit(x_train,\n",
    "                    y_train, \n",
    "                    validation_data=(x_val, y_val), \n",
    "                    epochs=nepochs, \n",
    "                    batch_size=batch_size, \n",
    "                    callbacks=[es])\n",
    "\n",
    "model.summary()"
   ]
  },
  {
   "cell_type": "code",
   "execution_count": 192,
   "metadata": {},
   "outputs": [
    {
     "name": "stdout",
     "output_type": "stream",
     "text": [
      "/eos/uscms/store/user/srosenzw/sixb/ntuples/Summer2018UL/NMSSM_cutflow_studies/presel/NMSSM_XYH_YToHH_6b_MX_700_MY_400/ntuple.root\n"
     ]
    }
   ],
   "source": [
    "test_tree = Signal('/eos/uscms/store/user/srosenzw/sixb/ntuples/Summer2018UL/NMSSM_cutflow_studies/presel/NMSSM_XYH_YToHH_6b_MX_700_MY_400/ntuple.root')"
   ]
  },
  {
   "cell_type": "code",
   "execution_count": 194,
   "metadata": {},
   "outputs": [
    {
     "data": {
      "text/plain": [
       "[<utils.analysis.particle.Particle at 0x7f166c3a1b50>,\n",
       " <utils.analysis.particle.Particle at 0x7f16c45f94c0>,\n",
       " <utils.analysis.particle.Particle at 0x7f16c45dd2e0>,\n",
       " <utils.analysis.particle.Particle at 0x7f16c45f6400>,\n",
       " <utils.analysis.particle.Particle at 0x7f16c45dd6d0>,\n",
       " <utils.analysis.particle.Particle at 0x7f16c45c6760>]"
      ]
     },
     "execution_count": 194,
     "metadata": {},
     "output_type": "execute_result"
    }
   ],
   "source": [
    "test_particles = []\n",
    "for i in range(6):\n",
    "    test_particles.append(Particle(kin_dict={\n",
    "        'pt' : test_tree.jet_ptRegressed[:,i],\n",
    "        'eta' : test_tree.jet_eta[:,i],\n",
    "        'phi' : test_tree.jet_phi[:,i],\n",
    "        'm' : test_tree.jet_mRegressed[:,i]\n",
    "        }))\n",
    "test_particles"
   ]
  },
  {
   "cell_type": "code",
   "execution_count": 195,
   "metadata": {},
   "outputs": [],
   "source": [
    "test_pt = np.column_stack([particle.pt.to_numpy() for particle in test_particles])\n",
    "test_eta = np.column_stack([particle.eta.to_numpy() for particle in test_particles])\n",
    "\n",
    "test_deltaPhi = []\n",
    "test_deltaEta = []\n",
    "test_deltaR = []\n",
    "\n",
    "for combo in combos:\n",
    "    i,j = combo[0], combo[1]\n",
    "\n",
    "    part_1 = test_particles[i]\n",
    "    part_2 = test_particles[j]\n",
    "\n",
    "    test_deltaPhi.append(part_1.deltaPhi(part_2).to_numpy())\n",
    "    test_deltaEta.append(part_1.deltaEta(part_2).to_numpy())\n",
    "    test_deltaR.append(part_1.deltaR(part_2).to_numpy())\n",
    "\n",
    "test_deltaPhi = np.column_stack((test_deltaPhi))\n",
    "test_deltaEta = np.column_stack((test_deltaEta))\n",
    "test_deltaR = np.column_stack((test_deltaR))"
   ]
  },
  {
   "cell_type": "code",
   "execution_count": 196,
   "metadata": {},
   "outputs": [],
   "source": [
    "test_features = np.column_stack((test_pt, test_eta, test_deltaPhi))"
   ]
  },
  {
   "cell_type": "code",
   "execution_count": 197,
   "metadata": {},
   "outputs": [],
   "source": [
    "test_id = test_tree.jet_signalId[:,:6].to_numpy()\n",
    "\n",
    "test_id = np.where(test_id == 0, 1, test_id)\n",
    "test_id = np.where(test_id == 3, 2, test_id)\n",
    "test_id = np.where(test_id == 4, 3, test_id)\n",
    "test_id = np.where(test_id == 5, 3, test_id)\n",
    "test_id = np.where(test_id == -1, 0, test_id)"
   ]
  },
  {
   "cell_type": "code",
   "execution_count": 199,
   "metadata": {},
   "outputs": [
    {
     "data": {
      "text/plain": [
       "((55952, 27), (55952, 6))"
      ]
     },
     "execution_count": 199,
     "metadata": {},
     "output_type": "execute_result"
    }
   ],
   "source": [
    "test_features.shape, test_id.shape"
   ]
  },
  {
   "cell_type": "code",
   "execution_count": 213,
   "metadata": {},
   "outputs": [],
   "source": [
    "test_input = scaler.transform(test_features)"
   ]
  },
  {
   "cell_type": "code",
   "execution_count": 214,
   "metadata": {},
   "outputs": [
    {
     "name": "stdout",
     "output_type": "stream",
     "text": [
      "1749/1749 [==============================] - 3s 2ms/step\n"
     ]
    },
    {
     "data": {
      "text/plain": [
       "(55952, 6)"
      ]
     },
     "execution_count": 214,
     "metadata": {},
     "output_type": "execute_result"
    }
   ],
   "source": [
    "test_output = model.predict(test_input)\n",
    "test_output.shape"
   ]
  },
  {
   "cell_type": "code",
   "execution_count": 232,
   "metadata": {},
   "outputs": [
    {
     "name": "stdout",
     "output_type": "stream",
     "text": [
      "1749/1749 [==============================] - 3s 2ms/step\n"
     ]
    },
    {
     "data": {
      "text/plain": [
       "array([[ 3.0009506e+00,  2.0660005e+00,  2.0005045e+00,  9.9621248e-01,\n",
       "         1.0008233e+00,  3.5982803e-03],\n",
       "       [ 2.9948192e+00,  1.9261633e+00,  1.9944764e+00,  1.0457910e+00,\n",
       "         9.6157491e-01,  6.6370316e-02],\n",
       "       [ 3.0022426e+00,  1.9630197e+00,  1.9998080e+00,  9.7861636e-01,\n",
       "         1.0003309e+00,  4.4650584e-04],\n",
       "       ...,\n",
       "       [ 2.9977434e+00,  2.0169146e+00,  1.9999269e+00,  9.7949362e-01,\n",
       "         1.0011699e+00, -1.9192152e-02],\n",
       "       [ 3.0006115e+00,  2.0231431e+00,  2.0019224e+00,  9.7862887e-01,\n",
       "         9.8991638e-01, -1.9088797e-02],\n",
       "       [ 3.0017829e+00,  2.0353847e+00,  1.9995835e+00,  9.8529506e-01,\n",
       "         9.9525744e-01,  3.8823262e-03]], dtype=float32)"
      ]
     },
     "execution_count": 232,
     "metadata": {},
     "output_type": "execute_result"
    }
   ],
   "source": [
    "model.predict(test_input)"
   ]
  },
  {
   "cell_type": "code",
   "execution_count": 215,
   "metadata": {},
   "outputs": [
    {
     "data": {
      "text/plain": [
       "array([[3, 2, 2, 1, 1, 0],\n",
       "       [3, 2, 2, 1, 1, 0],\n",
       "       [3, 2, 2, 1, 1, 0],\n",
       "       ...,\n",
       "       [3, 2, 2, 1, 1, 0],\n",
       "       [3, 2, 2, 1, 1, 0],\n",
       "       [3, 2, 2, 1, 1, 0]])"
      ]
     },
     "execution_count": 215,
     "metadata": {},
     "output_type": "execute_result"
    }
   ],
   "source": [
    "test_output = np.round(test_output).astype(int)\n",
    "test_output"
   ]
  },
  {
   "cell_type": "code",
   "execution_count": 216,
   "metadata": {},
   "outputs": [
    {
     "data": {
      "text/plain": [
       "array([[1, 3, 2, 2, 3, 1],\n",
       "       [3, 1, 0, 1, 2, 0],\n",
       "       [2, 3, 2, 1, 1, 0],\n",
       "       ...,\n",
       "       [3, 2, 1, 1, 2, 0],\n",
       "       [2, 2, 1, 1, 3, 0],\n",
       "       [1, 1, 2, 3, 2, 0]], dtype=int32)"
      ]
     },
     "execution_count": 216,
     "metadata": {},
     "output_type": "execute_result"
    }
   ],
   "source": [
    "test_id"
   ]
  },
  {
   "cell_type": "code",
   "execution_count": 1,
   "metadata": {},
   "outputs": [
    {
     "ename": "NameError",
     "evalue": "name 'test_id' is not defined",
     "output_type": "error",
     "traceback": [
      "\u001b[0;31m---------------------------------------------------------------------------\u001b[0m",
      "\u001b[0;31mNameError\u001b[0m                                 Traceback (most recent call last)",
      "\u001b[1;32m/uscms/home/srosenzw/nobackup/workarea/higgs/sixb_analysis/CMSSW_10_6_19_patch2/src/sixb/jupyter/3_hlo_reconstruction/pairing/multi_regression_pairings.ipynb Cell 38\u001b[0m in \u001b[0;36m<cell line: 1>\u001b[0;34m()\u001b[0m\n\u001b[0;32m----> <a href='vscode-notebook-cell://ssh-remote%2Bsrosenzw@cmslpcgpu1.fnal.gov/uscms/home/srosenzw/nobackup/workarea/higgs/sixb_analysis/CMSSW_10_6_19_patch2/src/sixb/jupyter/3_hlo_reconstruction/pairing/multi_regression_pairings.ipynb#X61sdnNjb2RlLXJlbW90ZQ%3D%3D?line=0'>1</a>\u001b[0m np\u001b[39m.\u001b[39many(test_id \u001b[39m==\u001b[39m \u001b[39m0\u001b[39m, axis\u001b[39m=\u001b[39m\u001b[39m1\u001b[39m)\n",
      "\u001b[0;31mNameError\u001b[0m: name 'test_id' is not defined"
     ]
    }
   ],
   "source": [
    "np.any(test_id == 0, axis=1)"
   ]
  },
  {
   "cell_type": "code",
   "execution_count": 217,
   "metadata": {},
   "outputs": [
    {
     "data": {
      "text/plain": [
       "((55952, 6), (55952, 6))"
      ]
     },
     "execution_count": 217,
     "metadata": {},
     "output_type": "execute_result"
    }
   ],
   "source": [
    "test_output.shape, test_id.shape"
   ]
  },
  {
   "cell_type": "code",
   "execution_count": 219,
   "metadata": {},
   "outputs": [],
   "source": [
    "test_truth_values = np.equal(test_output, test_id)"
   ]
  },
  {
   "cell_type": "code",
   "execution_count": 220,
   "metadata": {},
   "outputs": [
    {
     "data": {
      "text/plain": [
       "0.30509186445524733"
      ]
     },
     "execution_count": 220,
     "metadata": {},
     "output_type": "execute_result"
    }
   ],
   "source": [
    "test_truth_values.sum() / np.ones_like(test_truth_values).sum()"
   ]
  },
  {
   "cell_type": "code",
   "execution_count": 223,
   "metadata": {},
   "outputs": [
    {
     "data": {
      "text/plain": [
       "1.830551186731484"
      ]
     },
     "execution_count": 223,
     "metadata": {},
     "output_type": "execute_result"
    }
   ],
   "source": [
    "np.average(test_truth_values.sum(axis=1))"
   ]
  },
  {
   "cell_type": "code",
   "execution_count": 230,
   "metadata": {},
   "outputs": [
    {
     "data": {
      "text/plain": [
       "0.2597955894204704"
      ]
     },
     "execution_count": 230,
     "metadata": {},
     "output_type": "execute_result"
    }
   ],
   "source": [
    "test_truth_values[test_id > 0].sum() / (test_id > 0).sum()"
   ]
  },
  {
   "cell_type": "code",
   "execution_count": null,
   "metadata": {},
   "outputs": [],
   "source": []
  }
 ],
 "metadata": {
  "kernelspec": {
   "display_name": "Python 3.9.13 ('sixb')",
   "language": "python",
   "name": "python3"
  },
  "language_info": {
   "codemirror_mode": {
    "name": "ipython",
    "version": 3
   },
   "file_extension": ".py",
   "mimetype": "text/x-python",
   "name": "python",
   "nbconvert_exporter": "python",
   "pygments_lexer": "ipython3",
   "version": "3.9.13"
  },
  "orig_nbformat": 4,
  "vscode": {
   "interpreter": {
    "hash": "fd1aa3536eccf25268872fb0877ce450957c03a0faeafc6ef6bbb3c9838499b8"
   }
  }
 },
 "nbformat": 4,
 "nbformat_minor": 2
}
