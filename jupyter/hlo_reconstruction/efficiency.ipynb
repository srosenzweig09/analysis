{
 "cells": [
  {
   "cell_type": "code",
   "execution_count": 2,
   "metadata": {},
   "outputs": [],
   "source": [
    "import awkward as ak"
   ]
  },
  {
   "cell_type": "code",
   "execution_count": 3,
   "metadata": {},
   "outputs": [
    {
     "ename": "NameError",
     "evalue": "name 'Signal' is not defined",
     "output_type": "error",
     "traceback": [
      "\u001b[0;31m---------------------------------------------------------------------------\u001b[0m",
      "\u001b[0;31mNameError\u001b[0m                                 Traceback (most recent call last)",
      "\u001b[0;32m<ipython-input-3-b60c623bb371>\u001b[0m in \u001b[0;36m<module>\u001b[0;34m\u001b[0m\n\u001b[0;32m----> 1\u001b[0;31m \u001b[0mtree\u001b[0m \u001b[0;34m=\u001b[0m \u001b[0mSignal\u001b[0m\u001b[0;34m(\u001b[0m\u001b[0;34m\"/eos/uscms/store/user/srosenzw/sixb/ntuples/Summer2018UL/bias/NMSSM/NMSSM_XYH_YToHH_6b_MX_700_MY_400/ntuple.root\"\u001b[0m\u001b[0;34m)\u001b[0m\u001b[0;34m\u001b[0m\u001b[0;34m\u001b[0m\u001b[0m\n\u001b[0m",
      "\u001b[0;31mNameError\u001b[0m: name 'Signal' is not defined"
     ]
    }
   ],
   "source": [
    "tree = Signal(\"/eos/uscms/store/user/srosenzw/sixb/ntuples/Summer2018UL/bias/NMSSM/NMSSM_XYH_YToHH_6b_MX_700_MY_400/ntuple.root\")"
   ]
  },
  {
   "cell_type": "code",
   "execution_count": null,
   "metadata": {},
   "outputs": [
    {
     "ename": "NameError",
     "evalue": "name 'tree' is not defined",
     "output_type": "error",
     "traceback": [
      "\u001b[0;31m---------------------------------------------------------------------------\u001b[0m",
      "\u001b[0;31mNameError\u001b[0m                                 Traceback (most recent call last)",
      "\u001b[0;32m<ipython-input-1-9d4103c88104>\u001b[0m in \u001b[0;36m<module>\u001b[0;34m\u001b[0m\n\u001b[0;32m----> 1\u001b[0;31m \u001b[0mtree\u001b[0m\u001b[0;34m.\u001b[0m\u001b[0mHX_b1_genHflag\u001b[0m\u001b[0;34m,\u001b[0m \u001b[0mtree\u001b[0m\u001b[0;34m.\u001b[0m\u001b[0mHX_b2_genHflag\u001b[0m\u001b[0;34m.\u001b[0m\u001b[0mto_numpy\u001b[0m\u001b[0;34m(\u001b[0m\u001b[0;34m)\u001b[0m\u001b[0;34m.\u001b[0m\u001b[0mmax\u001b[0m\u001b[0;34m(\u001b[0m\u001b[0;34m)\u001b[0m\u001b[0;34m\u001b[0m\u001b[0;34m\u001b[0m\u001b[0m\n\u001b[0m",
      "\u001b[0;31mNameError\u001b[0m: name 'tree' is not defined"
     ]
    }
   ],
   "source": [
    "tree.HX_b1_genHflag, tree.HX_b2_genHflag.to_numpy().max()"
   ]
  },
  {
   "cell_type": "code",
   "execution_count": 10,
   "metadata": {},
   "outputs": [
    {
     "data": {
      "text/plain": [
       "(12627, 9587, 4806)"
      ]
     },
     "execution_count": 10,
     "metadata": {},
     "output_type": "execute_result"
    }
   ],
   "source": [
    "HX_b1_selected = tree.HX_b1_genHflag == 0\n",
    "HX_b2_selected = tree.HX_b2_genHflag == 0\n",
    "HX_selected = HX_b1_selected & HX_b2_selected\n",
    "\n",
    "ak.sum(HX_b1_selected), ak.sum(HX_b2_selected), ak.sum(HX_selected)"
   ]
  },
  {
   "cell_type": "code",
   "execution_count": 15,
   "metadata": {},
   "outputs": [
    {
     "data": {
      "text/plain": [
       "(14009, 10200, 5677)"
      ]
     },
     "execution_count": 15,
     "metadata": {},
     "output_type": "execute_result"
    }
   ],
   "source": [
    "H1_b1_selected = tree.H1_b1_genHflag == 1\n",
    "H1_b2_selected = tree.H1_b2_genHflag == 1\n",
    "H1_selected = H1_b1_selected & H1_b2_selected\n",
    "\n",
    "ak.sum(H1_b1_selected), ak.sum(H1_b2_selected), ak.sum(H1_selected)"
   ]
  },
  {
   "cell_type": "code",
   "execution_count": 16,
   "metadata": {},
   "outputs": [
    {
     "data": {
      "text/plain": [
       "(15704, 15882, 6838)"
      ]
     },
     "execution_count": 16,
     "metadata": {},
     "output_type": "execute_result"
    }
   ],
   "source": [
    "H2_b1_selected = tree.H2_b1_genHflag == 2\n",
    "H2_b2_selected = tree.H2_b2_genHflag == 2\n",
    "H2_selected = H2_b1_selected & H2_b2_selected\n",
    "\n",
    "ak.sum(H2_b1_selected), ak.sum(H2_b2_selected), ak.sum(H2_selected)"
   ]
  },
  {
   "cell_type": "code",
   "execution_count": 48,
   "metadata": {},
   "outputs": [],
   "source": [
    "H_selected = np.column_stack((HX_selected.to_numpy(), H1_selected.to_numpy(), H2_selected.to_numpy()))\n",
    "n_select_h = np.sum(H_selected, axis=1)"
   ]
  },
  {
   "cell_type": "code",
   "execution_count": 17,
   "metadata": {},
   "outputs": [
    {
     "data": {
      "text/plain": [
       "1925"
      ]
     },
     "execution_count": 17,
     "metadata": {},
     "output_type": "execute_result"
    }
   ],
   "source": [
    "ak.sum(HX_selected & H1_selected & H2_selected)"
   ]
  },
  {
   "cell_type": "code",
   "execution_count": 50,
   "metadata": {},
   "outputs": [
    {
     "data": {
      "text/plain": [
       "<AxesSubplot:title={'right':'$M_X=$ 700 GeV, $M_Y=$ 400 GeV'}, ylabel='AU'>"
      ]
     },
     "execution_count": 50,
     "metadata": {},
     "output_type": "execute_result"
    },
    {
     "data": {
      "image/png": "[encoded data removed]",
      "text/plain": [
       "<Figure size 576x576 with 1 Axes>"
      ]
     },
     "metadata": {
      "needs_background": "light"
     },
     "output_type": "display_data"
    }
   ],
   "source": [
    "fig, ax = plt.subplots()\n",
    "\n",
    "tree.hist('nfound_presel_h', bins=np.arange(0,5), ax=ax, '')\n",
    "tree.hist(n_select_h, bins=np.arange(0,5), ax=ax)"
   ]
  },
  {
   "cell_type": "code",
   "execution_count": null,
   "metadata": {},
   "outputs": [],
   "source": []
  },
  {
   "cell_type": "code",
   "execution_count": null,
   "metadata": {},
   "outputs": [],
   "source": []
  },
  {
   "cell_type": "code",
   "execution_count": null,
   "metadata": {},
   "outputs": [],
   "source": []
  },
  {
   "cell_type": "code",
   "execution_count": 8,
   "metadata": {},
   "outputs": [
    {
     "name": "stdout",
     "output_type": "stream",
     "text": [
      "/eos/uscms/store/user/srosenzw/sixb/ntuples/Summer2018UL/bias/NMSSM/NMSSM_XYH_YToHH_6b_MX_700_MY_400/ntuple.root\n"
     ]
    },
    {
     "data": {
      "text/plain": [
       "array([17922.   , 12604.185, 10214.286,  7736.39 ], dtype=float32)"
      ]
     },
     "execution_count": 8,
     "metadata": {},
     "output_type": "execute_result"
    }
   ],
   "source": [
    "# tree = Signal('/eos/uscms/store/user/srosenzw/sixb/studies/NMSSM_nocuts/NMSSM_XYH_YToHH_6b_MX_700_MY_400_10M/ntuple.root', presel=True)\n",
    "\n",
    "# tree_raw = Signal(get_nocuts(700,400))\n",
    "# tree_presel = Signal(get_presel(700,400))\n",
    "\n",
    "tree = Signal(get_NMSSM(700, 400))\n",
    "tree.cutflow"
   ]
  },
  {
   "cell_type": "code",
   "execution_count": 10,
   "metadata": {},
   "outputs": [
    {
     "data": {
      "text/plain": [
       "['Run',\n",
       " 'LumiSec',\n",
       " 'Event',\n",
       " 'n_other_pv',\n",
       " 'rhofastjet_all',\n",
       " 'gen_X_fc_m',\n",
       " 'gen_X_fc_pt',\n",
       " 'gen_X_fc_eta',\n",
       " 'gen_X_fc_phi',\n",
       " 'gen_X_m',\n",
       " 'gen_X_pt',\n",
       " 'gen_X_eta',\n",
       " 'gen_X_phi',\n",
       " 'gen_Y_m',\n",
       " 'gen_Y_pt',\n",
       " 'gen_Y_eta',\n",
       " 'gen_Y_phi',\n",
       " 'gen_HX_m',\n",
       " 'gen_HX_pt',\n",
       " 'gen_HX_eta',\n",
       " 'gen_HX_phi',\n",
       " 'gen_HY1_m',\n",
       " 'gen_HY1_pt',\n",
       " 'gen_HY1_eta',\n",
       " 'gen_HY1_phi',\n",
       " 'gen_HY2_m',\n",
       " 'gen_HY2_pt',\n",
       " 'gen_HY2_eta',\n",
       " 'gen_HY2_phi',\n",
       " 'gen_HX_b1_m',\n",
       " 'gen_HX_b1_pt',\n",
       " 'gen_HX_b1_eta',\n",
       " 'gen_HX_b1_phi',\n",
       " 'gen_HX_b2_m',\n",
       " 'gen_HX_b2_pt',\n",
       " 'gen_HX_b2_eta',\n",
       " 'gen_HX_b2_phi',\n",
       " 'gen_HY1_b1_m',\n",
       " 'gen_HY1_b1_pt',\n",
       " 'gen_HY1_b1_eta',\n",
       " 'gen_HY1_b1_phi',\n",
       " 'gen_HY1_b2_m',\n",
       " 'gen_HY1_b2_pt',\n",
       " 'gen_HY1_b2_eta',\n",
       " 'gen_HY1_b2_phi',\n",
       " 'gen_HY2_b1_m',\n",
       " 'gen_HY2_b1_pt',\n",
       " 'gen_HY2_b1_eta',\n",
       " 'gen_HY2_b1_phi',\n",
       " 'gen_HY2_b2_m',\n",
       " 'gen_HY2_b2_pt',\n",
       " 'gen_HY2_b2_eta',\n",
       " 'gen_HY2_b2_phi',\n",
       " 'gen_HX_b1_genjet_m',\n",
       " 'gen_HX_b1_genjet_pt',\n",
       " 'gen_HX_b1_genjet_eta',\n",
       " 'gen_HX_b1_genjet_phi',\n",
       " 'gen_HX_b2_genjet_m',\n",
       " 'gen_HX_b2_genjet_pt',\n",
       " 'gen_HX_b2_genjet_eta',\n",
       " 'gen_HX_b2_genjet_phi',\n",
       " 'gen_HY1_b1_genjet_m',\n",
       " 'gen_HY1_b1_genjet_pt',\n",
       " 'gen_HY1_b1_genjet_eta',\n",
       " 'gen_HY1_b1_genjet_phi',\n",
       " 'gen_HY1_b2_genjet_m',\n",
       " 'gen_HY1_b2_genjet_pt',\n",
       " 'gen_HY1_b2_genjet_eta',\n",
       " 'gen_HY1_b2_genjet_phi',\n",
       " 'gen_HY2_b1_genjet_m',\n",
       " 'gen_HY2_b1_genjet_pt',\n",
       " 'gen_HY2_b1_genjet_eta',\n",
       " 'gen_HY2_b1_genjet_phi',\n",
       " 'gen_HY2_b2_genjet_m',\n",
       " 'gen_HY2_b2_genjet_pt',\n",
       " 'gen_HY2_b2_genjet_eta',\n",
       " 'gen_HY2_b2_genjet_phi',\n",
       " 'gen_HX_b1_recojet_m',\n",
       " 'gen_HX_b1_recojet_pt',\n",
       " 'gen_HX_b1_recojet_ptRegressed',\n",
       " 'gen_HX_b1_recojet_eta',\n",
       " 'gen_HX_b1_recojet_phi',\n",
       " 'gen_HX_b2_recojet_m',\n",
       " 'gen_HX_b2_recojet_pt',\n",
       " 'gen_HX_b2_recojet_ptRegressed',\n",
       " 'gen_HX_b2_recojet_eta',\n",
       " 'gen_HX_b2_recojet_phi',\n",
       " 'gen_HY1_b1_recojet_m',\n",
       " 'gen_HY1_b1_recojet_pt',\n",
       " 'gen_HY1_b1_recojet_ptRegressed',\n",
       " 'gen_HY1_b1_recojet_eta',\n",
       " 'gen_HY1_b1_recojet_phi',\n",
       " 'gen_HY1_b2_recojet_m',\n",
       " 'gen_HY1_b2_recojet_pt',\n",
       " 'gen_HY1_b2_recojet_ptRegressed',\n",
       " 'gen_HY1_b2_recojet_eta',\n",
       " 'gen_HY1_b2_recojet_phi',\n",
       " 'gen_HY2_b1_recojet_m',\n",
       " 'gen_HY2_b1_recojet_pt',\n",
       " 'gen_HY2_b1_recojet_ptRegressed',\n",
       " 'gen_HY2_b1_recojet_eta',\n",
       " 'gen_HY2_b1_recojet_phi',\n",
       " 'gen_HY2_b2_recojet_m',\n",
       " 'gen_HY2_b2_recojet_pt',\n",
       " 'gen_HY2_b2_recojet_ptRegressed',\n",
       " 'gen_HY2_b2_recojet_eta',\n",
       " 'gen_HY2_b2_recojet_phi',\n",
       " 'HX_b1_genHflag',\n",
       " 'HX_b2_genHflag',\n",
       " 'HY1_b1_genHflag',\n",
       " 'HY1_b2_genHflag',\n",
       " 'HY2_b1_genHflag',\n",
       " 'HY2_b2_genHflag',\n",
       " 'gen_bs_N_reco_match',\n",
       " 'gen_bs_N_reco_match_in_acc',\n",
       " 'gen_bs_match_recojet_minv',\n",
       " 'gen_bs_match_in_acc_recojet_minv',\n",
       " 'nfound_all',\n",
       " 'nfound_all_h',\n",
       " 'nfound_presel',\n",
       " 'nfound_presel_h',\n",
       " 'nfound_select',\n",
       " 'nfound_select_h',\n",
       " 'nfound_paired_h',\n",
       " 'X_m',\n",
       " 'X_pt',\n",
       " 'X_eta',\n",
       " 'X_phi',\n",
       " 'Y_m',\n",
       " 'Y_pt',\n",
       " 'Y_eta',\n",
       " 'Y_phi',\n",
       " 'HX_m',\n",
       " 'HX_pt',\n",
       " 'HX_eta',\n",
       " 'HX_phi',\n",
       " 'HY1_m',\n",
       " 'HY1_pt',\n",
       " 'HY1_eta',\n",
       " 'HY1_phi',\n",
       " 'HY2_m',\n",
       " 'HY2_pt',\n",
       " 'HY2_eta',\n",
       " 'HY2_phi',\n",
       " 'HX_b1_m',\n",
       " 'HX_b1_pt',\n",
       " 'HX_b1_ptRegressed',\n",
       " 'HX_b1_eta',\n",
       " 'HX_b1_phi',\n",
       " 'HX_b1_btag',\n",
       " 'HX_b2_m',\n",
       " 'HX_b2_pt',\n",
       " 'HX_b2_ptRegressed',\n",
       " 'HX_b2_eta',\n",
       " 'HX_b2_phi',\n",
       " 'HX_b2_btag',\n",
       " 'HY1_b1_m',\n",
       " 'HY1_b1_pt',\n",
       " 'HY1_b1_ptRegressed',\n",
       " 'HY1_b1_eta',\n",
       " 'HY1_b1_phi',\n",
       " 'HY1_b1_btag',\n",
       " 'HY1_b2_m',\n",
       " 'HY1_b2_pt',\n",
       " 'HY1_b2_ptRegressed',\n",
       " 'HY1_b2_eta',\n",
       " 'HY1_b2_phi',\n",
       " 'HY1_b2_btag',\n",
       " 'HY2_b1_m',\n",
       " 'HY2_b1_pt',\n",
       " 'HY2_b1_ptRegressed',\n",
       " 'HY2_b1_eta',\n",
       " 'HY2_b1_phi',\n",
       " 'HY2_b1_btag',\n",
       " 'HY2_b2_m',\n",
       " 'HY2_b2_pt',\n",
       " 'HY2_b2_ptRegressed',\n",
       " 'HY2_b2_eta',\n",
       " 'HY2_b2_phi',\n",
       " 'HY2_b2_btag',\n",
       " 'n_mu_loose',\n",
       " 'n_ele_loose',\n",
       " 'mu_1_m',\n",
       " 'mu_1_pt',\n",
       " 'mu_1_eta',\n",
       " 'mu_1_phi',\n",
       " 'mu_2_m',\n",
       " 'mu_2_pt',\n",
       " 'mu_2_eta',\n",
       " 'mu_2_phi',\n",
       " 'ele_1_m',\n",
       " 'ele_1_pt',\n",
       " 'ele_1_eta',\n",
       " 'ele_1_phi',\n",
       " 'ele_2_m',\n",
       " 'ele_2_pt',\n",
       " 'ele_2_eta',\n",
       " 'ele_2_phi',\n",
       " 'n_total_jet',\n",
       " 'n_jet',\n",
       " 'jet_E',\n",
       " 'jet_m',\n",
       " 'jet_pt',\n",
       " 'jet_eta',\n",
       " 'jet_phi',\n",
       " 'jet_signalId',\n",
       " 'jet_higgsIdx',\n",
       " 'jet_genIdx',\n",
       " 'jet_btag',\n",
       " 'jet_qgl',\n",
       " 'jet_id',\n",
       " 'jet_puid',\n",
       " 'b_6j_score',\n",
       " 'n_pu',\n",
       " 'n_true_int',\n",
       " 'lhe_ht',\n",
       " 'btagSF_WP_M',\n",
       " 'n_genjet',\n",
       " 'genjet_E',\n",
       " 'genjet_m',\n",
       " 'genjet_pt',\n",
       " 'genjet_eta',\n",
       " 'genjet_phi',\n",
       " 'genjet_partonFlav',\n",
       " 'genjet_hadronFlav',\n",
       " 'genjet_signalId',\n",
       " 'genjet_recoIdx',\n",
       " 'genWeight',\n",
       " 'PUWeight',\n",
       " 'PUWeight_up',\n",
       " 'PUWeight_down',\n",
       " 'LHEPdfWeight',\n",
       " 'LHEPdfWeight_var0',\n",
       " 'LHEPdfWeight_var1',\n",
       " 'LHEPdfWeight_var2',\n",
       " 'LHEPdfWeight_var3',\n",
       " 'LHEPdfWeight_var4',\n",
       " 'LHEPdfWeight_var5',\n",
       " 'LHEPdfWeight_var6',\n",
       " 'LHEPdfWeight_var7',\n",
       " 'LHEPdfWeight_var8',\n",
       " 'LHEPdfWeight_var9',\n",
       " 'LHEPdfWeight_var10',\n",
       " 'LHEPdfWeight_var11',\n",
       " 'LHEPdfWeight_var12',\n",
       " 'LHEPdfWeight_var13',\n",
       " 'LHEPdfWeight_var14',\n",
       " 'LHEPdfWeight_var15',\n",
       " 'LHEPdfWeight_var16',\n",
       " 'LHEPdfWeight_var17',\n",
       " 'LHEPdfWeight_var18',\n",
       " 'LHEPdfWeight_var19',\n",
       " 'LHEPdfWeight_var20',\n",
       " 'LHEPdfWeight_var21',\n",
       " 'LHEPdfWeight_var22',\n",
       " 'LHEPdfWeight_var23',\n",
       " 'LHEPdfWeight_var24',\n",
       " 'LHEPdfWeight_var25',\n",
       " 'LHEPdfWeight_var26',\n",
       " 'LHEPdfWeight_var27',\n",
       " 'LHEPdfWeight_var28',\n",
       " 'LHEPdfWeight_var29',\n",
       " 'LHEPdfWeight_var30',\n",
       " 'LHEPdfWeight_var31',\n",
       " 'LHEPdfWeight_var32',\n",
       " 'LHEPdfWeight_var33',\n",
       " 'LHEPdfWeight_var34',\n",
       " 'LHEPdfWeight_var35',\n",
       " 'LHEPdfWeight_var36',\n",
       " 'LHEPdfWeight_var37',\n",
       " 'LHEPdfWeight_var38',\n",
       " 'LHEPdfWeight_var39',\n",
       " 'LHEPdfWeight_var40',\n",
       " 'LHEPdfWeight_var41',\n",
       " 'LHEPdfWeight_var42',\n",
       " 'LHEPdfWeight_var43',\n",
       " 'LHEPdfWeight_var44',\n",
       " 'LHEPdfWeight_var45',\n",
       " 'LHEPdfWeight_var46',\n",
       " 'LHEPdfWeight_var47',\n",
       " 'LHEPdfWeight_var48',\n",
       " 'LHEPdfWeight_var49',\n",
       " 'LHEPdfWeight_var50',\n",
       " 'LHEPdfWeight_var51',\n",
       " 'LHEPdfWeight_var52',\n",
       " 'LHEPdfWeight_var53',\n",
       " 'LHEPdfWeight_var54',\n",
       " 'LHEPdfWeight_var55',\n",
       " 'LHEPdfWeight_var56',\n",
       " 'LHEPdfWeight_var57',\n",
       " 'LHEPdfWeight_var58',\n",
       " 'LHEPdfWeight_var59',\n",
       " 'LHEPdfWeight_var60',\n",
       " 'LHEPdfWeight_var61',\n",
       " 'LHEPdfWeight_var62',\n",
       " 'LHEPdfWeight_var63',\n",
       " 'LHEPdfWeight_var64',\n",
       " 'LHEPdfWeight_var65',\n",
       " 'LHEPdfWeight_var66',\n",
       " 'LHEPdfWeight_var67',\n",
       " 'LHEPdfWeight_var68',\n",
       " 'LHEPdfWeight_var69',\n",
       " 'LHEPdfWeight_var70',\n",
       " 'LHEPdfWeight_var71',\n",
       " 'LHEPdfWeight_var72',\n",
       " 'LHEPdfWeight_var73',\n",
       " 'LHEPdfWeight_var74',\n",
       " 'LHEPdfWeight_var75',\n",
       " 'LHEPdfWeight_var76',\n",
       " 'LHEPdfWeight_var77',\n",
       " 'LHEPdfWeight_var78',\n",
       " 'LHEPdfWeight_var79',\n",
       " 'LHEPdfWeight_var80',\n",
       " 'LHEPdfWeight_var81',\n",
       " 'LHEPdfWeight_var82',\n",
       " 'LHEPdfWeight_var83',\n",
       " 'LHEPdfWeight_var84',\n",
       " 'LHEPdfWeight_var85',\n",
       " 'LHEPdfWeight_var86',\n",
       " 'LHEPdfWeight_var87',\n",
       " 'LHEPdfWeight_var88',\n",
       " 'LHEPdfWeight_var89',\n",
       " 'LHEPdfWeight_var90',\n",
       " 'LHEPdfWeight_var91',\n",
       " 'LHEPdfWeight_var92',\n",
       " 'LHEPdfWeight_var93',\n",
       " 'LHEPdfWeight_var94',\n",
       " 'LHEPdfWeight_var95',\n",
       " 'LHEPdfWeight_var96',\n",
       " 'LHEPdfWeight_var97',\n",
       " 'LHEPdfWeight_var98',\n",
       " 'LHEPdfWeight_var99',\n",
       " 'LHEPdfWeight_var100',\n",
       " 'LHEScaleWeight',\n",
       " 'LHEScaleWeight_var0',\n",
       " 'LHEScaleWeight_var1',\n",
       " 'LHEScaleWeight_var2',\n",
       " 'LHEScaleWeight_var3',\n",
       " 'LHEScaleWeight_var4',\n",
       " 'LHEScaleWeight_var5',\n",
       " 'LHEScaleWeight_var6',\n",
       " 'LHEScaleWeight_var7',\n",
       " 'PSWeight',\n",
       " 'PSWeight_var0']"
      ]
     },
     "execution_count": 10,
     "metadata": {},
     "output_type": "execute_result"
    }
   ],
   "source": [
    "tree.keys()"
   ]
  },
  {
   "cell_type": "code",
   "execution_count": 9,
   "metadata": {},
   "outputs": [
    {
     "data": {
      "text/plain": [
       "array([1.        , 0.70328003, 0.56993   , 0.43167   ], dtype=float32)"
      ]
     },
     "execution_count": 9,
     "metadata": {},
     "output_type": "execute_result"
    }
   ],
   "source": [
    "tree.cutflow/tree.cutflow[0]"
   ]
  },
  {
   "cell_type": "code",
   "execution_count": 19,
   "metadata": {},
   "outputs": [
    {
     "name": "stdout",
     "output_type": "stream",
     "text": [
      "0.5872662345475732\n",
      "2.362931350925319\n"
     ]
    }
   ],
   "source": [
    "var = 'jet_btag'\n",
    "\n",
    "print(ak.mean(tree.get(var)))\n",
    "print(1/ak.std(tree.get(var)))"
   ]
  },
  {
   "cell_type": "code",
   "execution_count": 9,
   "metadata": {},
   "outputs": [],
   "source": [
    "import awkward as ak"
   ]
  },
  {
   "cell_type": "code",
   "execution_count": 10,
   "metadata": {},
   "outputs": [
    {
     "data": {
      "text/plain": [
       "16"
      ]
     },
     "execution_count": 10,
     "metadata": {},
     "output_type": "execute_result"
    }
   ],
   "source": [
    "ak.max(tree_presel.n_jet)"
   ]
  },
  {
   "cell_type": "code",
   "execution_count": 7,
   "metadata": {},
   "outputs": [],
   "source": [
    "import tensorflow as tf\n",
    "import tensorflow.python.util.deprecation as deprecation\n",
    "deprecation._PRINT_DEPRECATION_WARNINGS = False"
   ]
  },
  {
   "cell_type": "code",
   "execution_count": null,
   "metadata": {},
   "outputs": [],
   "source": []
  },
  {
   "cell_type": "code",
   "execution_count": 8,
   "metadata": {},
   "outputs": [
    {
     "data": {
      "text/plain": [
       "[0.99267578125,\n",
       " 0.96875,\n",
       " 0.7177734375,\n",
       " 0.99853515625,\n",
       " 0.0074462890625,\n",
       " 0.07098388671875,\n",
       " 0.1142578125]"
      ]
     },
     "execution_count": 8,
     "metadata": {},
     "output_type": "execute_result"
    }
   ],
   "source": [
    "tree.get('jet_btag')[0].tolist()"
   ]
  },
  {
   "cell_type": "code",
   "execution_count": 20,
   "metadata": {},
   "outputs": [
    {
     "data": {
      "text/plain": [
       "'/eos/uscms/store/user/srosenzw/sixb/ntuples/Summer2018UL/bias/NMSSM/NMSSM_XYH_YToHH_6b_MX_700_MY_400/ntuple.root'"
      ]
     },
     "execution_count": 20,
     "metadata": {},
     "output_type": "execute_result"
    }
   ],
   "source": [
    "get_NMSSM(700, 400)"
   ]
  },
  {
   "cell_type": "code",
   "execution_count": 3,
   "metadata": {},
   "outputs": [
    {
     "name": "stdout",
     "output_type": "stream",
     "text": [
      "['total', 'trigger', 'npresel_jets>=6', 'nselect_jets>=6']\n"
     ]
    },
    {
     "data": {
      "text/plain": [
       "7736.38974"
      ]
     },
     "execution_count": 3,
     "metadata": {},
     "output_type": "execute_result"
    }
   ],
   "source": [
    "tree = Signal(get_NMSSM(700, 400))\n",
    "tree.nevents * tree.scale"
   ]
  },
  {
   "cell_type": "code",
   "execution_count": 4,
   "metadata": {},
   "outputs": [
    {
     "data": {
      "text/plain": [
       "array([17922.   , 12604.185, 10214.286,  7736.39 ], dtype=float32)"
      ]
     },
     "execution_count": 4,
     "metadata": {},
     "output_type": "execute_result"
    }
   ],
   "source": [
    "tree.cutflow"
   ]
  },
  {
   "cell_type": "code",
   "execution_count": 9,
   "metadata": {},
   "outputs": [
    {
     "data": {
      "text/plain": [
       "<Array [[1, 2, 3, 2, 3, 0, ... 0, 0, 2, 0, 0]] type='43167 * var * int32'>"
      ]
     },
     "execution_count": 9,
     "metadata": {},
     "output_type": "execute_result"
    }
   ],
   "source": [
    "(tree.get('jet_signalId') + 2) // 2"
   ]
  },
  {
   "cell_type": "code",
   "execution_count": 11,
   "metadata": {},
   "outputs": [
    {
     "data": {
      "text/plain": [
       "<Array [[-1, -1, -1, -1, ... -1, -1, -1, -1]] type='43167 * var * int32'>"
      ]
     },
     "execution_count": 11,
     "metadata": {},
     "output_type": "execute_result"
    }
   ],
   "source": [
    "tree.get('jet_higgsIdx')"
   ]
  },
  {
   "cell_type": "code",
   "execution_count": 6,
   "metadata": {},
   "outputs": [
    {
     "data": {
      "text/plain": [
       "array([0, 1, 1, 2, 2, 3, 3])"
      ]
     },
     "execution_count": 6,
     "metadata": {},
     "output_type": "execute_result"
    }
   ],
   "source": [
    "(np.arange(-1,6) + 2) // 2"
   ]
  },
  {
   "cell_type": "code",
   "execution_count": 2,
   "metadata": {},
   "outputs": [
    {
     "data": {
      "text/plain": [
       "['Run',\n",
       " 'LumiSec',\n",
       " 'Event',\n",
       " 'n_other_pv',\n",
       " 'rhofastjet_all',\n",
       " 'gen_X_fc_m',\n",
       " 'gen_X_fc_pt',\n",
       " 'gen_X_fc_eta',\n",
       " 'gen_X_fc_phi',\n",
       " 'gen_X_m',\n",
       " 'gen_X_pt',\n",
       " 'gen_X_eta',\n",
       " 'gen_X_phi',\n",
       " 'gen_Y_m',\n",
       " 'gen_Y_pt',\n",
       " 'gen_Y_eta',\n",
       " 'gen_Y_phi',\n",
       " 'gen_HX_m',\n",
       " 'gen_HX_pt',\n",
       " 'gen_HX_eta',\n",
       " 'gen_HX_phi',\n",
       " 'gen_HY1_m',\n",
       " 'gen_HY1_pt',\n",
       " 'gen_HY1_eta',\n",
       " 'gen_HY1_phi',\n",
       " 'gen_HY2_m',\n",
       " 'gen_HY2_pt',\n",
       " 'gen_HY2_eta',\n",
       " 'gen_HY2_phi',\n",
       " 'gen_HX_b1_m',\n",
       " 'gen_HX_b1_pt',\n",
       " 'gen_HX_b1_eta',\n",
       " 'gen_HX_b1_phi',\n",
       " 'gen_HX_b2_m',\n",
       " 'gen_HX_b2_pt',\n",
       " 'gen_HX_b2_eta',\n",
       " 'gen_HX_b2_phi',\n",
       " 'gen_HY1_b1_m',\n",
       " 'gen_HY1_b1_pt',\n",
       " 'gen_HY1_b1_eta',\n",
       " 'gen_HY1_b1_phi',\n",
       " 'gen_HY1_b2_m',\n",
       " 'gen_HY1_b2_pt',\n",
       " 'gen_HY1_b2_eta',\n",
       " 'gen_HY1_b2_phi',\n",
       " 'gen_HY2_b1_m',\n",
       " 'gen_HY2_b1_pt',\n",
       " 'gen_HY2_b1_eta',\n",
       " 'gen_HY2_b1_phi',\n",
       " 'gen_HY2_b2_m',\n",
       " 'gen_HY2_b2_pt',\n",
       " 'gen_HY2_b2_eta',\n",
       " 'gen_HY2_b2_phi',\n",
       " 'gen_HX_b1_genjet_m',\n",
       " 'gen_HX_b1_genjet_pt',\n",
       " 'gen_HX_b1_genjet_eta',\n",
       " 'gen_HX_b1_genjet_phi',\n",
       " 'gen_HX_b2_genjet_m',\n",
       " 'gen_HX_b2_genjet_pt',\n",
       " 'gen_HX_b2_genjet_eta',\n",
       " 'gen_HX_b2_genjet_phi',\n",
       " 'gen_HY1_b1_genjet_m',\n",
       " 'gen_HY1_b1_genjet_pt',\n",
       " 'gen_HY1_b1_genjet_eta',\n",
       " 'gen_HY1_b1_genjet_phi',\n",
       " 'gen_HY1_b2_genjet_m',\n",
       " 'gen_HY1_b2_genjet_pt',\n",
       " 'gen_HY1_b2_genjet_eta',\n",
       " 'gen_HY1_b2_genjet_phi',\n",
       " 'gen_HY2_b1_genjet_m',\n",
       " 'gen_HY2_b1_genjet_pt',\n",
       " 'gen_HY2_b1_genjet_eta',\n",
       " 'gen_HY2_b1_genjet_phi',\n",
       " 'gen_HY2_b2_genjet_m',\n",
       " 'gen_HY2_b2_genjet_pt',\n",
       " 'gen_HY2_b2_genjet_eta',\n",
       " 'gen_HY2_b2_genjet_phi',\n",
       " 'gen_HX_b1_recojet_m',\n",
       " 'gen_HX_b1_recojet_pt',\n",
       " 'gen_HX_b1_recojet_ptRegressed',\n",
       " 'gen_HX_b1_recojet_eta',\n",
       " 'gen_HX_b1_recojet_phi',\n",
       " 'gen_HX_b2_recojet_m',\n",
       " 'gen_HX_b2_recojet_pt',\n",
       " 'gen_HX_b2_recojet_ptRegressed',\n",
       " 'gen_HX_b2_recojet_eta',\n",
       " 'gen_HX_b2_recojet_phi',\n",
       " 'gen_HY1_b1_recojet_m',\n",
       " 'gen_HY1_b1_recojet_pt',\n",
       " 'gen_HY1_b1_recojet_ptRegressed',\n",
       " 'gen_HY1_b1_recojet_eta',\n",
       " 'gen_HY1_b1_recojet_phi',\n",
       " 'gen_HY1_b2_recojet_m',\n",
       " 'gen_HY1_b2_recojet_pt',\n",
       " 'gen_HY1_b2_recojet_ptRegressed',\n",
       " 'gen_HY1_b2_recojet_eta',\n",
       " 'gen_HY1_b2_recojet_phi',\n",
       " 'gen_HY2_b1_recojet_m',\n",
       " 'gen_HY2_b1_recojet_pt',\n",
       " 'gen_HY2_b1_recojet_ptRegressed',\n",
       " 'gen_HY2_b1_recojet_eta',\n",
       " 'gen_HY2_b1_recojet_phi',\n",
       " 'gen_HY2_b2_recojet_m',\n",
       " 'gen_HY2_b2_recojet_pt',\n",
       " 'gen_HY2_b2_recojet_ptRegressed',\n",
       " 'gen_HY2_b2_recojet_eta',\n",
       " 'gen_HY2_b2_recojet_phi',\n",
       " 'HX_b1_genHflag',\n",
       " 'HX_b2_genHflag',\n",
       " 'HY1_b1_genHflag',\n",
       " 'HY1_b2_genHflag',\n",
       " 'HY2_b1_genHflag',\n",
       " 'HY2_b2_genHflag',\n",
       " 'gen_bs_N_reco_match',\n",
       " 'gen_bs_N_reco_match_in_acc',\n",
       " 'gen_bs_match_recojet_minv',\n",
       " 'gen_bs_match_in_acc_recojet_minv',\n",
       " 'nfound_all',\n",
       " 'nfound_all_h',\n",
       " 'nfound_presel',\n",
       " 'nfound_presel_h',\n",
       " 'nfound_select',\n",
       " 'nfound_select_h',\n",
       " 'nfound_paired_h',\n",
       " 'X_m',\n",
       " 'X_pt',\n",
       " 'X_eta',\n",
       " 'X_phi',\n",
       " 'Y_m',\n",
       " 'Y_pt',\n",
       " 'Y_eta',\n",
       " 'Y_phi',\n",
       " 'HX_m',\n",
       " 'HX_pt',\n",
       " 'HX_eta',\n",
       " 'HX_phi',\n",
       " 'HY1_m',\n",
       " 'HY1_pt',\n",
       " 'HY1_eta',\n",
       " 'HY1_phi',\n",
       " 'HY2_m',\n",
       " 'HY2_pt',\n",
       " 'HY2_eta',\n",
       " 'HY2_phi',\n",
       " 'HX_b1_m',\n",
       " 'HX_b1_pt',\n",
       " 'HX_b1_ptRegressed',\n",
       " 'HX_b1_eta',\n",
       " 'HX_b1_phi',\n",
       " 'HX_b1_btag',\n",
       " 'HX_b2_m',\n",
       " 'HX_b2_pt',\n",
       " 'HX_b2_ptRegressed',\n",
       " 'HX_b2_eta',\n",
       " 'HX_b2_phi',\n",
       " 'HX_b2_btag',\n",
       " 'HY1_b1_m',\n",
       " 'HY1_b1_pt',\n",
       " 'HY1_b1_ptRegressed',\n",
       " 'HY1_b1_eta',\n",
       " 'HY1_b1_phi',\n",
       " 'HY1_b1_btag',\n",
       " 'HY1_b2_m',\n",
       " 'HY1_b2_pt',\n",
       " 'HY1_b2_ptRegressed',\n",
       " 'HY1_b2_eta',\n",
       " 'HY1_b2_phi',\n",
       " 'HY1_b2_btag',\n",
       " 'HY2_b1_m',\n",
       " 'HY2_b1_pt',\n",
       " 'HY2_b1_ptRegressed',\n",
       " 'HY2_b1_eta',\n",
       " 'HY2_b1_phi',\n",
       " 'HY2_b1_btag',\n",
       " 'HY2_b2_m',\n",
       " 'HY2_b2_pt',\n",
       " 'HY2_b2_ptRegressed',\n",
       " 'HY2_b2_eta',\n",
       " 'HY2_b2_phi',\n",
       " 'HY2_b2_btag',\n",
       " 'n_mu_loose',\n",
       " 'n_ele_loose',\n",
       " 'mu_1_m',\n",
       " 'mu_1_pt',\n",
       " 'mu_1_eta',\n",
       " 'mu_1_phi',\n",
       " 'mu_2_m',\n",
       " 'mu_2_pt',\n",
       " 'mu_2_eta',\n",
       " 'mu_2_phi',\n",
       " 'ele_1_m',\n",
       " 'ele_1_pt',\n",
       " 'ele_1_eta',\n",
       " 'ele_1_phi',\n",
       " 'ele_2_m',\n",
       " 'ele_2_pt',\n",
       " 'ele_2_eta',\n",
       " 'ele_2_phi',\n",
       " 'n_total_jet',\n",
       " 'n_jet',\n",
       " 'jet_E',\n",
       " 'jet_m',\n",
       " 'jet_pt',\n",
       " 'jet_eta',\n",
       " 'jet_phi',\n",
       " 'jet_signalId',\n",
       " 'jet_higgsIdx',\n",
       " 'jet_genIdx',\n",
       " 'jet_btag',\n",
       " 'jet_qgl',\n",
       " 'jet_id',\n",
       " 'jet_puid',\n",
       " 'b_6j_score',\n",
       " 'n_pu',\n",
       " 'n_true_int',\n",
       " 'lhe_ht',\n",
       " 'btagSF_WP_M',\n",
       " 'n_genjet',\n",
       " 'genjet_E',\n",
       " 'genjet_m',\n",
       " 'genjet_pt',\n",
       " 'genjet_eta',\n",
       " 'genjet_phi',\n",
       " 'genjet_partonFlav',\n",
       " 'genjet_hadronFlav',\n",
       " 'genjet_signalId',\n",
       " 'genjet_recoIdx',\n",
       " 'genWeight',\n",
       " 'PUWeight',\n",
       " 'PUWeight_up',\n",
       " 'PUWeight_down',\n",
       " 'LHEPdfWeight',\n",
       " 'LHEPdfWeight_var0',\n",
       " 'LHEPdfWeight_var1',\n",
       " 'LHEPdfWeight_var2',\n",
       " 'LHEPdfWeight_var3',\n",
       " 'LHEPdfWeight_var4',\n",
       " 'LHEPdfWeight_var5',\n",
       " 'LHEPdfWeight_var6',\n",
       " 'LHEPdfWeight_var7',\n",
       " 'LHEPdfWeight_var8',\n",
       " 'LHEPdfWeight_var9',\n",
       " 'LHEPdfWeight_var10',\n",
       " 'LHEPdfWeight_var11',\n",
       " 'LHEPdfWeight_var12',\n",
       " 'LHEPdfWeight_var13',\n",
       " 'LHEPdfWeight_var14',\n",
       " 'LHEPdfWeight_var15',\n",
       " 'LHEPdfWeight_var16',\n",
       " 'LHEPdfWeight_var17',\n",
       " 'LHEPdfWeight_var18',\n",
       " 'LHEPdfWeight_var19',\n",
       " 'LHEPdfWeight_var20',\n",
       " 'LHEPdfWeight_var21',\n",
       " 'LHEPdfWeight_var22',\n",
       " 'LHEPdfWeight_var23',\n",
       " 'LHEPdfWeight_var24',\n",
       " 'LHEPdfWeight_var25',\n",
       " 'LHEPdfWeight_var26',\n",
       " 'LHEPdfWeight_var27',\n",
       " 'LHEPdfWeight_var28',\n",
       " 'LHEPdfWeight_var29',\n",
       " 'LHEPdfWeight_var30',\n",
       " 'LHEPdfWeight_var31',\n",
       " 'LHEPdfWeight_var32',\n",
       " 'LHEPdfWeight_var33',\n",
       " 'LHEPdfWeight_var34',\n",
       " 'LHEPdfWeight_var35',\n",
       " 'LHEPdfWeight_var36',\n",
       " 'LHEPdfWeight_var37',\n",
       " 'LHEPdfWeight_var38',\n",
       " 'LHEPdfWeight_var39',\n",
       " 'LHEPdfWeight_var40',\n",
       " 'LHEPdfWeight_var41',\n",
       " 'LHEPdfWeight_var42',\n",
       " 'LHEPdfWeight_var43',\n",
       " 'LHEPdfWeight_var44',\n",
       " 'LHEPdfWeight_var45',\n",
       " 'LHEPdfWeight_var46',\n",
       " 'LHEPdfWeight_var47',\n",
       " 'LHEPdfWeight_var48',\n",
       " 'LHEPdfWeight_var49',\n",
       " 'LHEPdfWeight_var50',\n",
       " 'LHEPdfWeight_var51',\n",
       " 'LHEPdfWeight_var52',\n",
       " 'LHEPdfWeight_var53',\n",
       " 'LHEPdfWeight_var54',\n",
       " 'LHEPdfWeight_var55',\n",
       " 'LHEPdfWeight_var56',\n",
       " 'LHEPdfWeight_var57',\n",
       " 'LHEPdfWeight_var58',\n",
       " 'LHEPdfWeight_var59',\n",
       " 'LHEPdfWeight_var60',\n",
       " 'LHEPdfWeight_var61',\n",
       " 'LHEPdfWeight_var62',\n",
       " 'LHEPdfWeight_var63',\n",
       " 'LHEPdfWeight_var64',\n",
       " 'LHEPdfWeight_var65',\n",
       " 'LHEPdfWeight_var66',\n",
       " 'LHEPdfWeight_var67',\n",
       " 'LHEPdfWeight_var68',\n",
       " 'LHEPdfWeight_var69',\n",
       " 'LHEPdfWeight_var70',\n",
       " 'LHEPdfWeight_var71',\n",
       " 'LHEPdfWeight_var72',\n",
       " 'LHEPdfWeight_var73',\n",
       " 'LHEPdfWeight_var74',\n",
       " 'LHEPdfWeight_var75',\n",
       " 'LHEPdfWeight_var76',\n",
       " 'LHEPdfWeight_var77',\n",
       " 'LHEPdfWeight_var78',\n",
       " 'LHEPdfWeight_var79',\n",
       " 'LHEPdfWeight_var80',\n",
       " 'LHEPdfWeight_var81',\n",
       " 'LHEPdfWeight_var82',\n",
       " 'LHEPdfWeight_var83',\n",
       " 'LHEPdfWeight_var84',\n",
       " 'LHEPdfWeight_var85',\n",
       " 'LHEPdfWeight_var86',\n",
       " 'LHEPdfWeight_var87',\n",
       " 'LHEPdfWeight_var88',\n",
       " 'LHEPdfWeight_var89',\n",
       " 'LHEPdfWeight_var90',\n",
       " 'LHEPdfWeight_var91',\n",
       " 'LHEPdfWeight_var92',\n",
       " 'LHEPdfWeight_var93',\n",
       " 'LHEPdfWeight_var94',\n",
       " 'LHEPdfWeight_var95',\n",
       " 'LHEPdfWeight_var96',\n",
       " 'LHEPdfWeight_var97',\n",
       " 'LHEPdfWeight_var98',\n",
       " 'LHEPdfWeight_var99',\n",
       " 'LHEPdfWeight_var100',\n",
       " 'LHEScaleWeight',\n",
       " 'LHEScaleWeight_var0',\n",
       " 'LHEScaleWeight_var1',\n",
       " 'LHEScaleWeight_var2',\n",
       " 'LHEScaleWeight_var3',\n",
       " 'LHEScaleWeight_var4',\n",
       " 'LHEScaleWeight_var5',\n",
       " 'LHEScaleWeight_var6',\n",
       " 'LHEScaleWeight_var7',\n",
       " 'PSWeight',\n",
       " 'PSWeight_var0']"
      ]
     },
     "execution_count": 2,
     "metadata": {},
     "output_type": "execute_result"
    }
   ],
   "source": [
    "tree.keys()"
   ]
  },
  {
   "cell_type": "code",
   "execution_count": 4,
   "metadata": {},
   "outputs": [
    {
     "data": {
      "text/plain": [
       "uproot.models.TTree.Model_TTree_v20"
      ]
     },
     "execution_count": 4,
     "metadata": {},
     "output_type": "execute_result"
    }
   ],
   "source": [
    "import uproot\n",
    "tree = uproot.open(get_NMSSM(700,400) + ':sixBtree')\n",
    "type(tree)"
   ]
  },
  {
   "cell_type": "code",
   "execution_count": 2,
   "metadata": {},
   "outputs": [
    {
     "data": {
      "text/plain": [
       "['Run',\n",
       " 'LumiSec',\n",
       " 'Event',\n",
       " 'n_other_pv',\n",
       " 'rhofastjet_all',\n",
       " 'gen_X_fc_m',\n",
       " 'gen_X_fc_pt',\n",
       " 'gen_X_fc_eta',\n",
       " 'gen_X_fc_phi',\n",
       " 'gen_X_m',\n",
       " 'gen_X_pt',\n",
       " 'gen_X_eta',\n",
       " 'gen_X_phi',\n",
       " 'gen_Y_m',\n",
       " 'gen_Y_pt',\n",
       " 'gen_Y_eta',\n",
       " 'gen_Y_phi',\n",
       " 'gen_HX_m',\n",
       " 'gen_HX_pt',\n",
       " 'gen_HX_eta',\n",
       " 'gen_HX_phi',\n",
       " 'gen_HY1_m',\n",
       " 'gen_HY1_pt',\n",
       " 'gen_HY1_eta',\n",
       " 'gen_HY1_phi',\n",
       " 'gen_HY2_m',\n",
       " 'gen_HY2_pt',\n",
       " 'gen_HY2_eta',\n",
       " 'gen_HY2_phi',\n",
       " 'gen_HX_b1_m',\n",
       " 'gen_HX_b1_pt',\n",
       " 'gen_HX_b1_eta',\n",
       " 'gen_HX_b1_phi',\n",
       " 'gen_HX_b2_m',\n",
       " 'gen_HX_b2_pt',\n",
       " 'gen_HX_b2_eta',\n",
       " 'gen_HX_b2_phi',\n",
       " 'gen_HY1_b1_m',\n",
       " 'gen_HY1_b1_pt',\n",
       " 'gen_HY1_b1_eta',\n",
       " 'gen_HY1_b1_phi',\n",
       " 'gen_HY1_b2_m',\n",
       " 'gen_HY1_b2_pt',\n",
       " 'gen_HY1_b2_eta',\n",
       " 'gen_HY1_b2_phi',\n",
       " 'gen_HY2_b1_m',\n",
       " 'gen_HY2_b1_pt',\n",
       " 'gen_HY2_b1_eta',\n",
       " 'gen_HY2_b1_phi',\n",
       " 'gen_HY2_b2_m',\n",
       " 'gen_HY2_b2_pt',\n",
       " 'gen_HY2_b2_eta',\n",
       " 'gen_HY2_b2_phi',\n",
       " 'gen_HX_b1_genjet_m',\n",
       " 'gen_HX_b1_genjet_pt',\n",
       " 'gen_HX_b1_genjet_eta',\n",
       " 'gen_HX_b1_genjet_phi',\n",
       " 'gen_HX_b2_genjet_m',\n",
       " 'gen_HX_b2_genjet_pt',\n",
       " 'gen_HX_b2_genjet_eta',\n",
       " 'gen_HX_b2_genjet_phi',\n",
       " 'gen_HY1_b1_genjet_m',\n",
       " 'gen_HY1_b1_genjet_pt',\n",
       " 'gen_HY1_b1_genjet_eta',\n",
       " 'gen_HY1_b1_genjet_phi',\n",
       " 'gen_HY1_b2_genjet_m',\n",
       " 'gen_HY1_b2_genjet_pt',\n",
       " 'gen_HY1_b2_genjet_eta',\n",
       " 'gen_HY1_b2_genjet_phi',\n",
       " 'gen_HY2_b1_genjet_m',\n",
       " 'gen_HY2_b1_genjet_pt',\n",
       " 'gen_HY2_b1_genjet_eta',\n",
       " 'gen_HY2_b1_genjet_phi',\n",
       " 'gen_HY2_b2_genjet_m',\n",
       " 'gen_HY2_b2_genjet_pt',\n",
       " 'gen_HY2_b2_genjet_eta',\n",
       " 'gen_HY2_b2_genjet_phi',\n",
       " 'gen_HX_b1_recojet_m',\n",
       " 'gen_HX_b1_recojet_pt',\n",
       " 'gen_HX_b1_recojet_ptRegressed',\n",
       " 'gen_HX_b1_recojet_eta',\n",
       " 'gen_HX_b1_recojet_phi',\n",
       " 'gen_HX_b2_recojet_m',\n",
       " 'gen_HX_b2_recojet_pt',\n",
       " 'gen_HX_b2_recojet_ptRegressed',\n",
       " 'gen_HX_b2_recojet_eta',\n",
       " 'gen_HX_b2_recojet_phi',\n",
       " 'gen_HY1_b1_recojet_m',\n",
       " 'gen_HY1_b1_recojet_pt',\n",
       " 'gen_HY1_b1_recojet_ptRegressed',\n",
       " 'gen_HY1_b1_recojet_eta',\n",
       " 'gen_HY1_b1_recojet_phi',\n",
       " 'gen_HY1_b2_recojet_m',\n",
       " 'gen_HY1_b2_recojet_pt',\n",
       " 'gen_HY1_b2_recojet_ptRegressed',\n",
       " 'gen_HY1_b2_recojet_eta',\n",
       " 'gen_HY1_b2_recojet_phi',\n",
       " 'gen_HY2_b1_recojet_m',\n",
       " 'gen_HY2_b1_recojet_pt',\n",
       " 'gen_HY2_b1_recojet_ptRegressed',\n",
       " 'gen_HY2_b1_recojet_eta',\n",
       " 'gen_HY2_b1_recojet_phi',\n",
       " 'gen_HY2_b2_recojet_m',\n",
       " 'gen_HY2_b2_recojet_pt',\n",
       " 'gen_HY2_b2_recojet_ptRegressed',\n",
       " 'gen_HY2_b2_recojet_eta',\n",
       " 'gen_HY2_b2_recojet_phi',\n",
       " 'HX_b1_genHflag',\n",
       " 'HX_b2_genHflag',\n",
       " 'HY1_b1_genHflag',\n",
       " 'HY1_b2_genHflag',\n",
       " 'HY2_b1_genHflag',\n",
       " 'HY2_b2_genHflag',\n",
       " 'gen_bs_N_reco_match',\n",
       " 'gen_bs_N_reco_match_in_acc',\n",
       " 'gen_bs_match_recojet_minv',\n",
       " 'gen_bs_match_in_acc_recojet_minv',\n",
       " 'nfound_all',\n",
       " 'nfound_all_h',\n",
       " 'nfound_presel',\n",
       " 'nfound_presel_h',\n",
       " 'nfound_select',\n",
       " 'nfound_select_h',\n",
       " 'nfound_paired_h',\n",
       " 'X_m',\n",
       " 'X_pt',\n",
       " 'X_eta',\n",
       " 'X_phi',\n",
       " 'Y_m',\n",
       " 'Y_pt',\n",
       " 'Y_eta',\n",
       " 'Y_phi',\n",
       " 'HX_m',\n",
       " 'HX_pt',\n",
       " 'HX_eta',\n",
       " 'HX_phi',\n",
       " 'HY1_m',\n",
       " 'HY1_pt',\n",
       " 'HY1_eta',\n",
       " 'HY1_phi',\n",
       " 'HY2_m',\n",
       " 'HY2_pt',\n",
       " 'HY2_eta',\n",
       " 'HY2_phi',\n",
       " 'HX_b1_m',\n",
       " 'HX_b1_pt',\n",
       " 'HX_b1_ptRegressed',\n",
       " 'HX_b1_eta',\n",
       " 'HX_b1_phi',\n",
       " 'HX_b1_btag',\n",
       " 'HX_b2_m',\n",
       " 'HX_b2_pt',\n",
       " 'HX_b2_ptRegressed',\n",
       " 'HX_b2_eta',\n",
       " 'HX_b2_phi',\n",
       " 'HX_b2_btag',\n",
       " 'HY1_b1_m',\n",
       " 'HY1_b1_pt',\n",
       " 'HY1_b1_ptRegressed',\n",
       " 'HY1_b1_eta',\n",
       " 'HY1_b1_phi',\n",
       " 'HY1_b1_btag',\n",
       " 'HY1_b2_m',\n",
       " 'HY1_b2_pt',\n",
       " 'HY1_b2_ptRegressed',\n",
       " 'HY1_b2_eta',\n",
       " 'HY1_b2_phi',\n",
       " 'HY1_b2_btag',\n",
       " 'HY2_b1_m',\n",
       " 'HY2_b1_pt',\n",
       " 'HY2_b1_ptRegressed',\n",
       " 'HY2_b1_eta',\n",
       " 'HY2_b1_phi',\n",
       " 'HY2_b1_btag',\n",
       " 'HY2_b2_m',\n",
       " 'HY2_b2_pt',\n",
       " 'HY2_b2_ptRegressed',\n",
       " 'HY2_b2_eta',\n",
       " 'HY2_b2_phi',\n",
       " 'HY2_b2_btag',\n",
       " 'n_mu_loose',\n",
       " 'n_ele_loose',\n",
       " 'mu_1_m',\n",
       " 'mu_1_pt',\n",
       " 'mu_1_eta',\n",
       " 'mu_1_phi',\n",
       " 'mu_2_m',\n",
       " 'mu_2_pt',\n",
       " 'mu_2_eta',\n",
       " 'mu_2_phi',\n",
       " 'ele_1_m',\n",
       " 'ele_1_pt',\n",
       " 'ele_1_eta',\n",
       " 'ele_1_phi',\n",
       " 'ele_2_m',\n",
       " 'ele_2_pt',\n",
       " 'ele_2_eta',\n",
       " 'ele_2_phi',\n",
       " 'n_total_jet',\n",
       " 'n_jet',\n",
       " 'jet_E',\n",
       " 'jet_m',\n",
       " 'jet_pt',\n",
       " 'jet_eta',\n",
       " 'jet_phi',\n",
       " 'jet_signalId',\n",
       " 'jet_higgsIdx',\n",
       " 'jet_genIdx',\n",
       " 'jet_btag',\n",
       " 'jet_qgl',\n",
       " 'jet_id',\n",
       " 'jet_puid',\n",
       " 'b_6j_score',\n",
       " 'n_pu',\n",
       " 'n_true_int',\n",
       " 'lhe_ht',\n",
       " 'btagSF_WP_M',\n",
       " 'n_genjet',\n",
       " 'genjet_E',\n",
       " 'genjet_m',\n",
       " 'genjet_pt',\n",
       " 'genjet_eta',\n",
       " 'genjet_phi',\n",
       " 'genjet_partonFlav',\n",
       " 'genjet_hadronFlav',\n",
       " 'genjet_signalId',\n",
       " 'genjet_recoIdx',\n",
       " 'genWeight',\n",
       " 'PUWeight',\n",
       " 'PUWeight_up',\n",
       " 'PUWeight_down',\n",
       " 'LHEPdfWeight',\n",
       " 'LHEPdfWeight_var0',\n",
       " 'LHEPdfWeight_var1',\n",
       " 'LHEPdfWeight_var2',\n",
       " 'LHEPdfWeight_var3',\n",
       " 'LHEPdfWeight_var4',\n",
       " 'LHEPdfWeight_var5',\n",
       " 'LHEPdfWeight_var6',\n",
       " 'LHEPdfWeight_var7',\n",
       " 'LHEPdfWeight_var8',\n",
       " 'LHEPdfWeight_var9',\n",
       " 'LHEPdfWeight_var10',\n",
       " 'LHEPdfWeight_var11',\n",
       " 'LHEPdfWeight_var12',\n",
       " 'LHEPdfWeight_var13',\n",
       " 'LHEPdfWeight_var14',\n",
       " 'LHEPdfWeight_var15',\n",
       " 'LHEPdfWeight_var16',\n",
       " 'LHEPdfWeight_var17',\n",
       " 'LHEPdfWeight_var18',\n",
       " 'LHEPdfWeight_var19',\n",
       " 'LHEPdfWeight_var20',\n",
       " 'LHEPdfWeight_var21',\n",
       " 'LHEPdfWeight_var22',\n",
       " 'LHEPdfWeight_var23',\n",
       " 'LHEPdfWeight_var24',\n",
       " 'LHEPdfWeight_var25',\n",
       " 'LHEPdfWeight_var26',\n",
       " 'LHEPdfWeight_var27',\n",
       " 'LHEPdfWeight_var28',\n",
       " 'LHEPdfWeight_var29',\n",
       " 'LHEPdfWeight_var30',\n",
       " 'LHEPdfWeight_var31',\n",
       " 'LHEPdfWeight_var32',\n",
       " 'LHEPdfWeight_var33',\n",
       " 'LHEPdfWeight_var34',\n",
       " 'LHEPdfWeight_var35',\n",
       " 'LHEPdfWeight_var36',\n",
       " 'LHEPdfWeight_var37',\n",
       " 'LHEPdfWeight_var38',\n",
       " 'LHEPdfWeight_var39',\n",
       " 'LHEPdfWeight_var40',\n",
       " 'LHEPdfWeight_var41',\n",
       " 'LHEPdfWeight_var42',\n",
       " 'LHEPdfWeight_var43',\n",
       " 'LHEPdfWeight_var44',\n",
       " 'LHEPdfWeight_var45',\n",
       " 'LHEPdfWeight_var46',\n",
       " 'LHEPdfWeight_var47',\n",
       " 'LHEPdfWeight_var48',\n",
       " 'LHEPdfWeight_var49',\n",
       " 'LHEPdfWeight_var50',\n",
       " 'LHEPdfWeight_var51',\n",
       " 'LHEPdfWeight_var52',\n",
       " 'LHEPdfWeight_var53',\n",
       " 'LHEPdfWeight_var54',\n",
       " 'LHEPdfWeight_var55',\n",
       " 'LHEPdfWeight_var56',\n",
       " 'LHEPdfWeight_var57',\n",
       " 'LHEPdfWeight_var58',\n",
       " 'LHEPdfWeight_var59',\n",
       " 'LHEPdfWeight_var60',\n",
       " 'LHEPdfWeight_var61',\n",
       " 'LHEPdfWeight_var62',\n",
       " 'LHEPdfWeight_var63',\n",
       " 'LHEPdfWeight_var64',\n",
       " 'LHEPdfWeight_var65',\n",
       " 'LHEPdfWeight_var66',\n",
       " 'LHEPdfWeight_var67',\n",
       " 'LHEPdfWeight_var68',\n",
       " 'LHEPdfWeight_var69',\n",
       " 'LHEPdfWeight_var70',\n",
       " 'LHEPdfWeight_var71',\n",
       " 'LHEPdfWeight_var72',\n",
       " 'LHEPdfWeight_var73',\n",
       " 'LHEPdfWeight_var74',\n",
       " 'LHEPdfWeight_var75',\n",
       " 'LHEPdfWeight_var76',\n",
       " 'LHEPdfWeight_var77',\n",
       " 'LHEPdfWeight_var78',\n",
       " 'LHEPdfWeight_var79',\n",
       " 'LHEPdfWeight_var80',\n",
       " 'LHEPdfWeight_var81',\n",
       " 'LHEPdfWeight_var82',\n",
       " 'LHEPdfWeight_var83',\n",
       " 'LHEPdfWeight_var84',\n",
       " 'LHEPdfWeight_var85',\n",
       " 'LHEPdfWeight_var86',\n",
       " 'LHEPdfWeight_var87',\n",
       " 'LHEPdfWeight_var88',\n",
       " 'LHEPdfWeight_var89',\n",
       " 'LHEPdfWeight_var90',\n",
       " 'LHEPdfWeight_var91',\n",
       " 'LHEPdfWeight_var92',\n",
       " 'LHEPdfWeight_var93',\n",
       " 'LHEPdfWeight_var94',\n",
       " 'LHEPdfWeight_var95',\n",
       " 'LHEPdfWeight_var96',\n",
       " 'LHEPdfWeight_var97',\n",
       " 'LHEPdfWeight_var98',\n",
       " 'LHEPdfWeight_var99',\n",
       " 'LHEPdfWeight_var100',\n",
       " 'LHEScaleWeight',\n",
       " 'LHEScaleWeight_var0',\n",
       " 'LHEScaleWeight_var1',\n",
       " 'LHEScaleWeight_var2',\n",
       " 'LHEScaleWeight_var3',\n",
       " 'LHEScaleWeight_var4',\n",
       " 'LHEScaleWeight_var5',\n",
       " 'LHEScaleWeight_var6',\n",
       " 'LHEScaleWeight_var7',\n",
       " 'PSWeight',\n",
       " 'PSWeight_var0']"
      ]
     },
     "execution_count": 2,
     "metadata": {},
     "output_type": "execute_result"
    }
   ],
   "source": [
    "tree.keys()"
   ]
  },
  {
   "cell_type": "code",
   "execution_count": 10,
   "metadata": {},
   "outputs": [
    {
     "data": {
      "text/plain": [
       "<Array [0, 2, 4, 3, 5, -1, 1] type='7 * int32'>"
      ]
     },
     "execution_count": 10,
     "metadata": {},
     "output_type": "execute_result"
    }
   ],
   "source": [
    "tree.get('jet_signalId')[0]"
   ]
  },
  {
   "cell_type": "code",
   "execution_count": 3,
   "metadata": {},
   "outputs": [
    {
     "data": {
      "image/png": "[encoded data removed]",
      "text/plain": [
       "<Figure size 576x576 with 1 Axes>"
      ]
     },
     "metadata": {
      "needs_background": "light"
     },
     "output_type": "display_data"
    }
   ],
   "source": [
    "fig, ax = plt.subplots()\n",
    "\n",
    "_ = Hist(tree.np('gen_HX_pt'), bins=np.linspace(0,500,60), ax=ax, label='gen HX', density=1)\n",
    "_ = Hist(tree.np('gen_HY1_pt'), bins=np.linspace(0,500,60), ax=ax, label='gen H1', density=1)\n",
    "_ = Hist(tree.np('gen_HY2_pt'), bins=np.linspace(0,500,60), ax=ax, label='gen H2', density=1)\n",
    "\n",
    "ax.set_xlabel(r'$p_T$ [GeV]')\n",
    "\n",
    "fig.savefig('plots/higgs_pt.pdf')"
   ]
  },
  {
   "cell_type": "code",
   "execution_count": 4,
   "metadata": {},
   "outputs": [
    {
     "data": {
      "image/png": "[encoded data removed]",
      "text/plain": [
       "<Figure size 576x576 with 1 Axes>"
      ]
     },
     "metadata": {
      "needs_background": "light"
     },
     "output_type": "display_data"
    }
   ],
   "source": [
    "fig, ax = plt.subplots()\n",
    "\n",
    "Hist(tree.np('nfound_all'), bins=np.arange(8), ax=ax, label='Before Preselections', density=1)\n",
    "Hist(tree.np('nfound_presel'), bins=np.arange(8), ax=ax, label='After Preselections', density=1)\n",
    "Hist(tree.np('nfound_select'), bins=np.arange(8), ax=ax, label='Selected Jets', density=1)\n",
    "ax.legend(loc=2)\n",
    "ax.set_xlabel('Signal Jets in Event')\n",
    "ax.set_ylabel('Percentage of Events')\n",
    "plt.show()\n",
    "\n",
    "fig.savefig('plots/3_hlo_reconstruction/njet_selections.pdf')"
   ]
  },
  {
   "cell_type": "code",
   "execution_count": 5,
   "metadata": {},
   "outputs": [
    {
     "data": {
      "text/plain": [
       "array([array([1, 2, 3, 4, 6, 5, 7], dtype=int32),\n",
       "       array([0, 1, 2, 4, 3, 6, 5], dtype=int32),\n",
       "       array([1, 2, 0, 3, 4, 5], dtype=int32), ...,\n",
       "       array([0, 2, 1, 3, 5, 4, 6], dtype=int32),\n",
       "       array([0, 1, 2, 3, 6, 5], dtype=int32),\n",
       "       array([ 0,  1,  2,  3,  4,  5,  6,  9,  8, -1], dtype=int32)],\n",
       "      dtype=object)"
      ]
     },
     "execution_count": 5,
     "metadata": {},
     "output_type": "execute_result"
    }
   ],
   "source": [
    "tree.np('jet_genIdx')"
   ]
  },
  {
   "cell_type": "code",
   "execution_count": 6,
   "metadata": {},
   "outputs": [
    {
     "data": {
      "text/plain": [
       "(43167, 43167)"
      ]
     },
     "execution_count": 6,
     "metadata": {},
     "output_type": "execute_result"
    }
   ],
   "source": [
    "paired_h = tree.np('nfound_paired_h')\n",
    "select_h = tree.np('nfound_select_h')\n",
    "\n",
    "sum(select_h >= paired_h), len((select_h >= paired_h))"
   ]
  },
  {
   "cell_type": "code",
   "execution_count": 7,
   "metadata": {},
   "outputs": [],
   "source": [
    "from utils.plotter import Hist2d"
   ]
  },
  {
   "cell_type": "code",
   "execution_count": 8,
   "metadata": {},
   "outputs": [
    {
     "data": {
      "image/png": "[encoded data removed]",
      "text/plain": [
       "<Figure size 720x576 with 2 Axes>"
      ]
     },
     "metadata": {
      "needs_background": "light"
     },
     "output_type": "display_data"
    }
   ],
   "source": [
    "fig, ax = plt.subplots(figsize=(10,8))\n",
    "n, xe, ye, im = Hist2d(select_h, paired_h, bins=np.arange(5), ax=ax)\n",
    "fig.colorbar(im)\n",
    "ax.set_xlabel('Higgs in Six Jets')\n",
    "ax.set_ylabel('Paired in Six Jets')\n",
    "\n",
    "fig.savefig('plots/3_hlo_reconstruction/higgs_2d.pdf')"
   ]
  },
  {
   "cell_type": "code",
   "execution_count": 9,
   "metadata": {},
   "outputs": [],
   "source": [
    "from utils.plotter import Hist"
   ]
  },
  {
   "cell_type": "code",
   "execution_count": 10,
   "metadata": {},
   "outputs": [
    {
     "data": {
      "image/png": "[encoded data removed]",
      "text/plain": [
       "<Figure size 576x576 with 1 Axes>"
      ]
     },
     "metadata": {
      "needs_background": "light"
     },
     "output_type": "display_data"
    }
   ],
   "source": [
    "fig, ax = plt.subplots()\n",
    "\n",
    "_ = Hist(select_h, bins=np.arange(5), ax=ax, label='Higgs in Six Jets', density=1)\n",
    "_ = Hist(paired_h, bins=np.arange(5), ax=ax, label='Six Jets Paired', density=1)\n",
    "ax.legend(loc=4)\n",
    "ax.set_xlabel('True Higgs Present')\n",
    "ax.set_ylabel('Percentage of Events')\n",
    "\n",
    "fig.savefig('plots/3_hlo_reconstruction/higgs_hist.pdf')"
   ]
  },
  {
   "cell_type": "code",
   "execution_count": 51,
   "metadata": {},
   "outputs": [],
   "source": [
    "gen_HX_pt = tree.np('gen_HX_b2_genjet_pt')\n",
    "gen_H1_pt = tree.np('gen_HY1_b2_genjet_pt')\n",
    "gen_H2_pt = tree.np('gen_HY2_b2_genjet_pt')\n",
    "\n",
    "gen_pt = np.column_stack((gen_HX_pt, gen_H1_pt, gen_H2_pt))\n",
    "min_gen_pt = gen_pt.min(axis=1)"
   ]
  },
  {
   "cell_type": "code",
   "execution_count": 49,
   "metadata": {},
   "outputs": [],
   "source": [
    "min_gen_pt.sort()"
   ]
  },
  {
   "cell_type": "code",
   "execution_count": 53,
   "metadata": {},
   "outputs": [
    {
     "data": {
      "text/plain": [
       "array([  16.32248 ,   62.311157, -999.      , ...,   10.098236,\n",
       "         22.390574,   28.664766], dtype=float32)"
      ]
     },
     "execution_count": 53,
     "metadata": {},
     "output_type": "execute_result"
    }
   ],
   "source": [
    "min_gen_pt"
   ]
  },
  {
   "cell_type": "code",
   "execution_count": 52,
   "metadata": {},
   "outputs": [
    {
     "ename": "TypeError",
     "evalue": "object of type 'NoneType' has no len()",
     "output_type": "error",
     "traceback": [
      "\u001b[0;31m---------------------------------------------------------------------------\u001b[0m",
      "\u001b[0;31mTypeError\u001b[0m                                 Traceback (most recent call last)",
      "\u001b[0;32m<ipython-input-52-47fc6623bc99>\u001b[0m in \u001b[0;36m<module>\u001b[0;34m\u001b[0m\n\u001b[1;32m      1\u001b[0m \u001b[0mordered_pt\u001b[0m \u001b[0;34m=\u001b[0m \u001b[0mmin_gen_pt\u001b[0m\u001b[0;34m.\u001b[0m\u001b[0mcopy\u001b[0m\u001b[0;34m(\u001b[0m\u001b[0;34m)\u001b[0m\u001b[0;34m.\u001b[0m\u001b[0msort\u001b[0m\u001b[0;34m(\u001b[0m\u001b[0;34m)\u001b[0m\u001b[0;34m\u001b[0m\u001b[0;34m\u001b[0m\u001b[0m\n\u001b[0;32m----> 2\u001b[0;31m \u001b[0mN_30\u001b[0m \u001b[0;34m=\u001b[0m \u001b[0mordered_pt\u001b[0m\u001b[0;34m[\u001b[0m\u001b[0;34m:\u001b[0m\u001b[0mround\u001b[0m\u001b[0;34m(\u001b[0m\u001b[0mlen\u001b[0m\u001b[0;34m(\u001b[0m\u001b[0mordered_pt\u001b[0m\u001b[0;34m)\u001b[0m\u001b[0;34m*\u001b[0m\u001b[0;36m0.3\u001b[0m\u001b[0;34m)\u001b[0m\u001b[0;34m]\u001b[0m\u001b[0;34m\u001b[0m\u001b[0;34m\u001b[0m\u001b[0m\n\u001b[0m\u001b[1;32m      3\u001b[0m \u001b[0mN_30\u001b[0m\u001b[0;34m\u001b[0m\u001b[0;34m\u001b[0m\u001b[0m\n",
      "\u001b[0;31mTypeError\u001b[0m: object of type 'NoneType' has no len()"
     ]
    }
   ],
   "source": [
    "ordered_pt = min_gen_pt.copy().sort()\n",
    "N_30 = ordered_pt[:round(len(ordered_pt)*0.3)]\n",
    "N_30"
   ]
  },
  {
   "cell_type": "code",
   "execution_count": 44,
   "metadata": {},
   "outputs": [
    {
     "name": "stderr",
     "output_type": "stream",
     "text": [
      "No artists with labels found to put in legend.  Note that artists whose label start with an underscore are ignored when legend() is called with no argument.\n"
     ]
    },
    {
     "data": {
      "text/plain": [
       "Text(0, 1, 'Percentage of Events')"
      ]
     },
     "execution_count": 44,
     "metadata": {},
     "output_type": "execute_result"
    },
    {
     "data": {
      "image/png": "[encoded data removed]",
      "text/plain": [
       "<Figure size 576x576 with 1 Axes>"
      ]
     },
     "metadata": {
      "needs_background": "light"
     },
     "output_type": "display_data"
    }
   ],
   "source": [
    "fig, ax = plt.subplots()\n",
    "\n",
    "Hist(min_gen_pt, bins=np.linspace(0,100,30), ax=ax, density=1)\n",
    "ax.set_xlabel(r'Min Gen $p_T$ [GeV]')\n",
    "ax.set_ylabel('Percentage of Events')"
   ]
  },
  {
   "cell_type": "code",
   "execution_count": null,
   "metadata": {},
   "outputs": [],
   "source": [
    "flags = ['HX_b1_genHflag',\n",
    "         'HX_b2_genHflag',\n",
    "         'HY1_b1_genHflag',\n",
    "         'HY1_b2_genHflag',\n",
    "         'HY2_b1_genHflag',\n",
    "         'HY2_b2_genHflag']\n",
    "\n",
    "tree_flags =[tree.get(flag).to_numpy() for flag in flags]"
   ]
  },
  {
   "cell_type": "code",
   "execution_count": 48,
   "metadata": {},
   "outputs": [],
   "source": [
    "HX = np.column_stack((tree_flags[:2]))\n",
    "HY1 = np.column_stack((tree_flags[2:4]))\n",
    "HY2 = np.column_stack((tree_flags[4:]))"
   ]
  },
  {
   "cell_type": "code",
   "execution_count": 58,
   "metadata": {},
   "outputs": [],
   "source": [
    "HX_flag = np.any(HX == 0, axis=1)\n",
    "HY1_flag = np.any(np.logical_or(HY1 == 1, HY1 == 2), axis=1)\n",
    "HY2_flag = np.any(np.logical_or(HY2 == 1, HY2 == 2), axis=1)"
   ]
  },
  {
   "cell_type": "code",
   "execution_count": 62,
   "metadata": {},
   "outputs": [
    {
     "data": {
      "text/plain": [
       "0.7574240211419431"
      ]
     },
     "execution_count": 62,
     "metadata": {},
     "output_type": "execute_result"
    }
   ],
   "source": [
    "sum(np.logical_or(HX_flag, HY1_flag, HY2_flag)) / len(HY1_flag)"
   ]
  },
  {
   "cell_type": "code",
   "execution_count": 63,
   "metadata": {},
   "outputs": [
    {
     "data": {
      "text/plain": [
       "0.41630155087280063"
      ]
     },
     "execution_count": 63,
     "metadata": {},
     "output_type": "execute_result"
    }
   ],
   "source": [
    "sum(np.logical_and(HX_flag, HY1_flag, HY2_flag)) / len(HY1_flag)"
   ]
  },
  {
   "cell_type": "code",
   "execution_count": null,
   "metadata": {},
   "outputs": [],
   "source": []
  }
 ],
 "metadata": {
  "interpreter": {
   "hash": "5df4d1b2ce696ef8a7cc914f733ed0eed40caa2570f001e67a5aef7cf7cbd879"
  },
  "kernelspec": {
   "display_name": "Python 3.8.12 ('work')",
   "language": "python",
   "name": "python3"
  },
  "language_info": {
   "codemirror_mode": {
    "name": "ipython",
    "version": 3
   },
   "file_extension": ".py",
   "mimetype": "text/x-python",
   "name": "python",
   "nbconvert_exporter": "python",
   "pygments_lexer": "ipython3",
   "version": "3.8.12"
  },
  "orig_nbformat": 4
 },
 "nbformat": 4,
 "nbformat_minor": 2
}
