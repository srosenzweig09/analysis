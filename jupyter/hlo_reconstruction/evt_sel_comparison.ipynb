{
 "cells": [
  {
   "cell_type": "code",
   "execution_count": 1,
   "metadata": {},
   "outputs": [
    {
     "name": "stdout",
     "output_type": "stream",
     "text": [
      "/eos/uscms/store/user/srosenzw/sixb/ntuples/Summer2018UL/btag_tttm/NMSSM/NMSSM_XYH_YToHH_6b_MX_700_MY_400/ntuple.root\n"
     ]
    }
   ],
   "source": [
    "# signal_btag_pt = Signal('/eos/uscms/store/user/srosenzw/sixb/ntuples/Summer2018UL/btag_pt/NMSSM/NMSSM_XYH_YToHH_6b_MX_700_MY_400/ntuple.root')\n",
    "# signal_btag_ttmm = Signal('/eos/uscms/store/user/srosenzw/sixb/ntuples/Summer2018UL/btag_ttmm/NMSSM/NMSSM_XYH_YToHH_6b_MX_700_MY_400/ntuple.root')\n",
    "# signal_btag_tttm = Signal('/eos/uscms/store/user/srosenzw/sixb/ntuples/Summer2018UL/btag_tttm/NMSSM/NMSSM_XYH_YToHH_6b_MX_700_MY_400/ntuple.root')\n",
    "\n",
    "tree = Signal('/eos/uscms/store/user/srosenzw/sixb/ntuples/Summer2018UL/btag_tttm/NMSSM/NMSSM_XYH_YToHH_6b_MX_700_MY_400/ntuple.root')"
   ]
  },
  {
   "cell_type": "code",
   "execution_count": 2,
   "metadata": {},
   "outputs": [],
   "source": [
    "from utils.analysis.tree import Tree\n",
    "qcd = Tree(get_qcd_enriched('btag_tttm'))"
   ]
  },
  {
   "cell_type": "code",
   "execution_count": 22,
   "metadata": {},
   "outputs": [
    {
     "data": {
      "text/plain": [
       "<Array [[141, 135, 118, ... 94.8, 51.1, 33.6]] type='55952 * var * float32'>"
      ]
     },
     "execution_count": 22,
     "metadata": {},
     "output_type": "execute_result"
    }
   ],
   "source": [
    "# index of jets sorted by btag\n",
    "btag_sort_ind = ak.argsort(tree.jet_btag, axis=1, ascending=False)\n",
    "\n",
    "# index of jets sorted by pt\n",
    "pt_sort_ind =  ak.argsort(tree.jet_ptRegressed, axis=1, ascending=False)\n",
    "\n",
    "\n",
    "# six_jet_pt_sorted_by_btag = tree.jet_ptRegressed[btag_sort_ind][:,:6]\n",
    "# six_jet_pt_sort_ind = ak.argsort(six_jet_pt_sorted_by_btag, axis=1, ascending=False)\n",
    "# six_jet_pt_sorted_by_btag[six_jet_pt_sort_ind]"
   ]
  },
  {
   "cell_type": "code",
   "execution_count": 11,
   "metadata": {},
   "outputs": [],
   "source": [
    "# jet cut masks\n",
    "jet1_tight = tree.jet_btag[btag_sort_ind][:,0] > btagWP[2018]['Tight']\n",
    "jet2_tight = tree.jet_btag[btag_sort_ind][:,1] > btagWP[2018]['Tight']\n",
    "jet3_tight = tree.jet_btag[btag_sort_ind][:,2] > btagWP[2018]['Tight']\n",
    "jet3_medium = tree.jet_btag[btag_sort_ind][:,2] > btagWP[2018]['Medium']\n",
    "jet4_medium = tree.jet_btag[btag_sort_ind][:,3] > btagWP[2018]['Medium']"
   ]
  },
  {
   "cell_type": "code",
   "execution_count": 12,
   "metadata": {},
   "outputs": [],
   "source": [
    "jet_tight = tree.jet_btag[btag_sort_ind] > btagWP[2018]['Tight']\n",
    "jet_medium = tree.jet_btag[btag_sort_ind] > btagWP[2018]['Medium']"
   ]
  },
  {
   "cell_type": "code",
   "execution_count": 15,
   "metadata": {},
   "outputs": [],
   "source": [
    "# events that pass btag cuts [tight, tight, tight, medium]\n",
    "btag_tttm = jet1_tight & jet2_tight & jet3_tight & jet4_medium\n",
    "\n",
    "# events that pass btag cuts [tight, tight, medium, medium]\n",
    "btag_ttmm = jet1_tight & jet2_tight & jet3_medium & jet4_medium"
   ]
  },
  {
   "cell_type": "code",
   "execution_count": 56,
   "metadata": {},
   "outputs": [
    {
     "data": {
      "text/plain": [
       "(<Array [6, 5, 6, 6, 5, 5, ... 4, 6, 4, 5, 5, 5] type='42581 * int64'>,\n",
       " <Array [6, 5, 6, 5, 6, 5, ... 4, 6, 4, 5, 5, 5] type='46346 * int64'>)"
      ]
     },
     "execution_count": 56,
     "metadata": {},
     "output_type": "execute_result"
    }
   ],
   "source": [
    "# sort first six jets (sorted by btag) by ptRegressed\n",
    "six_jet_pt_sorted_by_btag_tttm = tree.jet_ptRegressed[btag_sort_ind][btag_tttm][:,:6]\n",
    "# index of first six jets (sorted by btag) sorted by pt\n",
    "six_jet_sorted_by_btag_tttm_sorted_by_pt_ind = ak.argsort(six_jet_pt_sorted_by_btag_tttm, axis=1, ascending=False)\n",
    "# pt of jets sorted by btag then pt\n",
    "six_jet_sigID_sorted_by_btag_tttm = tree.jet_signalId[btag_sort_ind][btag_tttm][:,:6][six_jet_sorted_by_btag_tttm_sorted_by_pt_ind]\n",
    "nfound_selected_b_tttm = ak.sum(six_jet_sigID_sorted_by_btag_tttm > -1, axis=1)\n",
    "nfound_selected_b_tttm\n",
    "\n",
    "# sort first six jets (sorted by btag) by ptRegressed\n",
    "six_jet_pt_sorted_by_btag_ttmm = tree.jet_ptRegressed[btag_sort_ind][btag_ttmm][:,:6]\n",
    "# index of first six jets (sorted by btag) sorted by pt\n",
    "six_jet_sorted_by_btag_ttmm_sorted_by_pt_ind = ak.argsort(six_jet_pt_sorted_by_btag_ttmm, axis=1, ascending=False)\n",
    "# pt of jets sorted by btag then pt\n",
    "six_jet_sigID_sorted_by_btag_ttmm = tree.jet_signalId[btag_sort_ind][btag_ttmm][:,:6][six_jet_sorted_by_btag_ttmm_sorted_by_pt_ind]\n",
    "nfound_selected_b_ttmm = ak.sum(six_jet_sigID_sorted_by_btag_ttmm > -1, axis=1)\n",
    "\n",
    "nfound_selected_b_tttm, nfound_selected_b_ttmm\n"
   ]
  },
  {
   "cell_type": "code",
   "execution_count": 60,
   "metadata": {},
   "outputs": [
    {
     "data": {
      "text/plain": [
       "(0.43229441624365483, 0.4705177664974619)"
      ]
     },
     "execution_count": 60,
     "metadata": {},
     "output_type": "execute_result"
    }
   ],
   "source": [
    "ak.count(nfound_selected_b_tttm)*tree.scale/tree.cutflow[0], ak.count(nfound_selected_b_ttmm)*tree.scale/tree.cutflow[0]"
   ]
  },
  {
   "cell_type": "code",
   "execution_count": 42,
   "metadata": {},
   "outputs": [],
   "source": [
    "bins_sixb = np.arange(8)\n",
    "bins_higgs = np.arange(5)"
   ]
  },
  {
   "cell_type": "code",
   "execution_count": 43,
   "metadata": {},
   "outputs": [
    {
     "data": {
      "image/png": "[encoded data removed]",
      "text/plain": [
       "<Figure size 720x720 with 1 Axes>"
      ]
     },
     "metadata": {
      "needs_background": "light"
     },
     "output_type": "display_data"
    }
   ],
   "source": [
    "fig, ax = plt.subplots()\n",
    "\n",
    "_ = tree.hist(nfound_selected_b_tttm, bins=bins_sixb, ax=ax, label='tttm')\n",
    "_ = tree.hist(nfound_selected_b_ttmm, bins=bins_sixb, ax=ax, label='ttmm')"
   ]
  },
  {
   "cell_type": "code",
   "execution_count": 45,
   "metadata": {},
   "outputs": [],
   "source": [
    "from utils.analysis.tree import Tree\n",
    "ttbar_tttm = Tree('/eos/uscms/store/user/srosenzw/sixb/ntuples/Summer2018UL/btag_tttm/TTJets/ntuple.root')"
   ]
  },
  {
   "cell_type": "code",
   "execution_count": 55,
   "metadata": {},
   "outputs": [
    {
     "data": {
      "text/plain": [
       "array([4.9689344e+07, 1.8308028e+06, 1.4781990e+06, 4.8780504e+04],\n",
       "      dtype=float32)"
      ]
     },
     "execution_count": 55,
     "metadata": {},
     "output_type": "execute_result"
    }
   ],
   "source": [
    "ttbar_tttm.cutflow"
   ]
  },
  {
   "cell_type": "code",
   "execution_count": null,
   "metadata": {},
   "outputs": [],
   "source": []
  }
 ],
 "metadata": {
  "kernelspec": {
   "display_name": "Python 3.9.13 ('sixb')",
   "language": "python",
   "name": "python3"
  },
  "language_info": {
   "codemirror_mode": {
    "name": "ipython",
    "version": 3
   },
   "file_extension": ".py",
   "mimetype": "text/x-python",
   "name": "python",
   "nbconvert_exporter": "python",
   "pygments_lexer": "ipython3",
   "version": "3.9.13"
  },
  "orig_nbformat": 4,
  "vscode": {
   "interpreter": {
    "hash": "fd1aa3536eccf25268872fb0877ce450957c03a0faeafc6ef6bbb3c9838499b8"
   }
  }
 },
 "nbformat": 4,
 "nbformat_minor": 2
}
