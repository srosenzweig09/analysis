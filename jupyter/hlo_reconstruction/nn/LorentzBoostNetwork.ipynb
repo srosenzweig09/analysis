{
 "cells": [
  {
   "cell_type": "code",
   "execution_count": 1,
   "id": "6293df43-0842-450e-bd45-59127adc35c6",
   "metadata": {},
   "outputs": [],
   "source": [
    "%load_ext autoreload\n",
    "%autoreload 2"
   ]
  },
  {
   "cell_type": "code",
   "execution_count": 2,
   "id": "58682c2a-470b-480f-984e-ba028e8a6c93",
   "metadata": {},
   "outputs": [],
   "source": [
    "from utils.train.build import TrainSix\n",
    "from utils.plotter import plot"
   ]
  },
  {
   "cell_type": "code",
   "execution_count": 3,
   "id": "63adf174-0518-4bf7-9581-141f73ead368",
   "metadata": {},
   "outputs": [],
   "source": [
    "import awkward as ak\n",
    "import matplotlib.pyplot as plt\n",
    "%matplotlib widget\n",
    "import numpy as np\n",
    "import vector\n",
    "vector.register_awkward()"
   ]
  },
  {
   "cell_type": "code",
   "execution_count": 4,
   "id": "24918fe4-831e-4813-8b0c-bad58f035878",
   "metadata": {},
   "outputs": [],
   "source": [
    "def p4(pt, eta, phi, m):\n",
    "    return vector.obj(pt=pt, eta=eta, phi=phi, m=m)"
   ]
  },
  {
   "cell_type": "code",
   "execution_count": 5,
   "id": "ba4ef51f-7102-47ab-821a-c5309dda8979",
   "metadata": {},
   "outputs": [],
   "source": [
    "filename = '../inputs/NMSSM_XYH_YToHH_6b_MX_700_MY_400_training_set.root'"
   ]
  },
  {
   "cell_type": "code",
   "execution_count": 6,
   "id": "dca2d28a-f774-421c-a141-f439be8a1568",
   "metadata": {},
   "outputs": [
    {
     "name": "stdout",
     "output_type": "stream",
     "text": [
      "Initializing tree.\n",
      "Identifying signal.\n"
     ]
    }
   ],
   "source": [
    "training = TrainSix(filename)"
   ]
  },
  {
   "cell_type": "code",
   "execution_count": 7,
   "id": "b9af79eb-4575-4aa3-8213-e1255348f248",
   "metadata": {},
   "outputs": [],
   "source": [
    "signal = training.correct_mask\n",
    "cbkgd  = training.incorrect_mask"
   ]
  },
  {
   "cell_type": "code",
   "execution_count": 8,
   "id": "fcede9ce-df90-4ffc-a68d-0cdaca901c0a",
   "metadata": {},
   "outputs": [],
   "source": [
    "jet_pt = training.get_t6('jet_pt')\n",
    "jet_eta = training.get_t6('jet_eta')\n",
    "jet_phi = training.get_t6('jet_phi')\n",
    "jet_m = training.get_t6('jet_m')\n",
    "jet_btag = training.get_t6('jet_btag')"
   ]
  },
  {
   "cell_type": "code",
   "execution_count": 10,
   "id": "8f200640-896d-4bcb-a53e-c2275b7718b0",
   "metadata": {},
   "outputs": [],
   "source": [
    "sig_btag = jet_btag[signal].to_numpy()\n",
    "bkg_btag = jet_btag[cbkgd].to_numpy()"
   ]
  },
  {
   "cell_type": "code",
   "execution_count": 11,
   "id": "0bf74376-f4ac-4d10-bd5b-f809dbd9677b",
   "metadata": {},
   "outputs": [],
   "source": [
    "sig_pt  = ak.unzip(ak.combinations(jet_pt[signal], 6))\n",
    "sig_eta = ak.unzip(ak.combinations(jet_eta[signal], 6))\n",
    "sig_phi = ak.unzip(ak.combinations(jet_phi[signal], 6))\n",
    "sig_m   = ak.unzip(ak.combinations(jet_m[signal], 6))"
   ]
  },
  {
   "cell_type": "code",
   "execution_count": 12,
   "id": "7a30a26e-8aac-4bc6-82a8-63167a33da1e",
   "metadata": {},
   "outputs": [],
   "source": [
    "sig_pt = [ak.flatten(pt) for pt in sig_pt]\n",
    "sig_eta = [ak.flatten(pt) for pt in sig_eta]\n",
    "sig_phi = [ak.flatten(pt) for pt in sig_phi]\n",
    "sig_m = [ak.flatten(pt) for pt in sig_m]"
   ]
  },
  {
   "cell_type": "code",
   "execution_count": 13,
   "id": "72417c0b-9f63-493e-ab20-dd21195eeb73",
   "metadata": {},
   "outputs": [
    {
     "data": {
      "text/plain": [
       "(6, 4, 921985)"
      ]
     },
     "execution_count": 13,
     "metadata": {},
     "output_type": "execute_result"
    }
   ],
   "source": [
    "sig_p4 = [p4(pt,eta,phi,m) for pt,eta,phi,m in zip(sig_pt,sig_eta,sig_phi,sig_m)]\n",
    "signal_input = [[p4.E, p4.px, p4.py, p4.pz] for p4 in sig_p4]\n",
    "signal_input = np.asarray(signal_input)\n",
    "signal_input.shape"
   ]
  },
  {
   "cell_type": "code",
   "execution_count": 14,
   "id": "8cf4e6ed-bad5-49e6-b81b-587a437ca86e",
   "metadata": {},
   "outputs": [],
   "source": [
    "bkg_pt  = ak.unzip(ak.combinations(jet_pt[cbkgd], 6))\n",
    "bkg_eta = ak.unzip(ak.combinations(jet_eta[cbkgd], 6))\n",
    "bkg_phi = ak.unzip(ak.combinations(jet_phi[cbkgd], 6))\n",
    "bkg_m   = ak.unzip(ak.combinations(jet_m[cbkgd], 6))"
   ]
  },
  {
   "cell_type": "code",
   "execution_count": 15,
   "id": "3aa244bc-279d-40c1-8f85-06c8efb4747a",
   "metadata": {},
   "outputs": [],
   "source": [
    "bkg_pt = [ak.flatten(pt) for pt in bkg_pt]\n",
    "bkg_eta = [ak.flatten(pt) for pt in bkg_eta]\n",
    "bkg_phi = [ak.flatten(pt) for pt in bkg_phi]\n",
    "bkg_m = [ak.flatten(pt) for pt in bkg_m]"
   ]
  },
  {
   "cell_type": "code",
   "execution_count": 16,
   "id": "612e1fd6-4bd1-4218-9b21-58aa7ddd891d",
   "metadata": {},
   "outputs": [
    {
     "data": {
      "text/plain": [
       "(6, 4, 921983)"
      ]
     },
     "execution_count": 16,
     "metadata": {},
     "output_type": "execute_result"
    }
   ],
   "source": [
    "bkg_p4 = [p4(pt,eta,phi,m) for pt,eta,phi,m in zip(bkg_pt,bkg_eta,bkg_phi,bkg_m)]\n",
    "bkgd_input = [[p4.E, p4.px, p4.py, p4.pz] for p4 in bkg_p4]\n",
    "bkgd_input = np.asarray(bkgd_input)\n",
    "bkgd_input.shape"
   ]
  },
  {
   "cell_type": "code",
   "execution_count": 17,
   "id": "68cf9f08-b77a-487c-8ae6-52f2033e4839",
   "metadata": {},
   "outputs": [],
   "source": [
    "from lbn import LBN"
   ]
  },
  {
   "cell_type": "code",
   "execution_count": 56,
   "id": "1eb0c6bd-06a8-401f-ae38-2ceec5dc6efe",
   "metadata": {},
   "outputs": [],
   "source": [
    "lbn = LBN(11, 5, boost_mode=LBN.PRODUCT)"
   ]
  },
  {
   "cell_type": "code",
   "execution_count": 57,
   "id": "ad065dd1-d98d-410a-b2c0-f9a297a0de16",
   "metadata": {},
   "outputs": [],
   "source": [
    "bkgd_lbn_features = lbn(np.transpose(bkgd_input, (2,0,1))[:1000,...], features=[\"E\",\"px\",\"py\",\"pz\"])"
   ]
  },
  {
   "cell_type": "code",
   "execution_count": 58,
   "id": "bd1ad7c2-7698-4f3e-9e05-768ea0dc0e24",
   "metadata": {},
   "outputs": [
    {
     "data": {
      "text/plain": [
       "<tf.Tensor: shape=(1000, 220), dtype=float32, numpy=\n",
       "array([[119.88961   , 115.38278   , 156.85626   , ...,  19.282246  ,\n",
       "          4.5712204 ,  39.661877  ],\n",
       "       [ 39.55864   ,  39.140457  ,  41.646034  , ...,  -7.8888397 ,\n",
       "          4.5588875 ,  -9.153503  ],\n",
       "       [ 39.210964  ,  36.999928  ,  39.933918  , ..., -35.35868   ,\n",
       "         -1.0717802 , -40.943146  ],\n",
       "       ...,\n",
       "       [ 65.19505   ,  55.99904   ,  66.11459   , ..., -20.790644  ,\n",
       "         67.103004  ,  -5.5584183 ],\n",
       "       [ 38.769573  ,  42.761513  ,  49.96231   , ...,  60.610588  ,\n",
       "         24.862621  ,  42.332363  ],\n",
       "       [ 42.268147  ,  42.954987  ,  43.73986   , ...,   0.16486359,\n",
       "         24.551682  , -19.297829  ]], dtype=float32)>"
      ]
     },
     "execution_count": 58,
     "metadata": {},
     "output_type": "execute_result"
    }
   ],
   "source": [
    "bkgd_lbn_features"
   ]
  },
  {
   "cell_type": "code",
   "execution_count": 59,
   "id": "bcaf8017-5cfa-4f83-9013-f98f07ac64e5",
   "metadata": {},
   "outputs": [],
   "source": [
    "signal_lbn_features = lbn(np.transpose(signal_input, (2,0,1))[:1000,...], features=[\"E\",\"px\",\"py\",\"pz\"])"
   ]
  },
  {
   "cell_type": "code",
   "execution_count": 60,
   "id": "b49ce344-db30-4dab-b30f-41cde58c531a",
   "metadata": {},
   "outputs": [
    {
     "data": {
      "text/plain": [
       "<tf.Tensor: shape=(1000, 220), dtype=float32, numpy=\n",
       "array([[ 41.37749  ,  40.849068 ,  45.23269  , ...,   6.114486 ,\n",
       "        -11.578175 ,  21.668858 ],\n",
       "       [ 40.56363  ,  40.671906 ,  46.083717 , ...,  25.53328  ,\n",
       "         51.739098 ,  35.730377 ],\n",
       "       [ 34.721    ,  34.37339  ,  36.45673  , ...,   0.9926491,\n",
       "         -4.4729347,  -3.9192867],\n",
       "       ...,\n",
       "       [ 28.150589 ,  30.370838 ,  32.798862 , ..., -20.485039 ,\n",
       "         -7.7699356, -14.107376 ],\n",
       "       [ 33.147663 ,  33.85107  ,  36.877136 , ..., -26.621246 ,\n",
       "         -5.852421 ,  -8.718517 ],\n",
       "       [ 36.608673 ,  37.51292  ,  39.341225 , ..., -29.519386 ,\n",
       "         -5.000145 , -23.983055 ]], dtype=float32)>"
      ]
     },
     "execution_count": 60,
     "metadata": {},
     "output_type": "execute_result"
    }
   ],
   "source": [
    "signal_lbn_features"
   ]
  },
  {
   "cell_type": "code",
   "execution_count": 44,
   "id": "a73006d6-82df-4fba-92ec-69a9091199a7",
   "metadata": {},
   "outputs": [
    {
     "data": {
      "application/vnd.jupyter.widget-view+json": {
       "model_id": "ac6e4824501f480cbea838097e5c7c0f",
       "version_major": 2,
       "version_minor": 0
      },
      "text/plain": [
       "Canvas(toolbar=Toolbar(toolitems=[('Home', 'Reset original view', 'home', 'home'), ('Back', 'Back to previous …"
      ]
     },
     "metadata": {},
     "output_type": "display_data"
    }
   ],
   "source": [
    "fig, axs = plt.subplots(nrows=11, ncols=4, figsize=(10,20))\n",
    "for i,ax in enumerate(axs.flatten()):\n",
    "    bkgd_mean = np.mean(bkgd_lbn_features[:,i].numpy())\n",
    "    bkgd_std = np.std(bkgd_lbn_features[:,i].numpy())\n",
    "    baxrange = [bkgd_mean - 3*bkgd_std, bkgd_mean + 3*bkgd_std]\n",
    "    \n",
    "    signal_mean = np.mean(signal_lbn_features[:,i].numpy())\n",
    "    signal_std = np.std(signal_lbn_features[:,i].numpy())\n",
    "    saxrange = [signal_mean - 3*signal_std, signal_mean + 3*signal_std]\n",
    "    \n",
    "    axrange = [baxrange[0] if baxrange[0] < saxrange[0] else saxrange[0], baxrange[1] if baxrange[1] > saxrange[1] else saxrange[1]]\n",
    "    \n",
    "    bins = np.linspace(axrange[0], axrange[1], 50)\n",
    "    _ = plot(x=signal_lbn_features[:,i].numpy(), bins=bins, fig=fig, ax=ax)\n",
    "    _ = plot(x=bkgd_lbn_features[:,i].numpy(), bins=bins, fig=fig, ax=ax)\n",
    "    \n",
    "plt.tight_layout()\n",
    "plt.show()"
   ]
  },
  {
   "cell_type": "code",
   "execution_count": 25,
   "id": "c7c6ae57-6c87-497d-9b76-ff5282d5e8ab",
   "metadata": {},
   "outputs": [],
   "source": [
    "import tensorflow as tf"
   ]
  },
  {
   "cell_type": "code",
   "execution_count": 26,
   "id": "c94a22f1-66fd-45f4-a3b8-9cded941c1c6",
   "metadata": {},
   "outputs": [],
   "source": [
    "signal_lbn_features = tf.concat([signal_lbn_features, sig_btag], axis=1)"
   ]
  },
  {
   "cell_type": "code",
   "execution_count": 27,
   "id": "ecc5c896-4bb0-473d-b979-b4e608ed9f08",
   "metadata": {},
   "outputs": [],
   "source": [
    "bkgd_lbn_features = tf.concat([bkgd_lbn_features, bkg_btag], axis=1)"
   ]
  },
  {
   "cell_type": "code",
   "execution_count": 28,
   "id": "3f539b9b-2e59-4ab7-8179-629dd1d14ed1",
   "metadata": {},
   "outputs": [],
   "source": [
    "features = tf.concat([signal_lbn_features, bkgd_lbn_features], axis=0)"
   ]
  },
  {
   "cell_type": "code",
   "execution_count": null,
   "id": "022e90f1-58a6-4197-a8be-8acc06ee3c80",
   "metadata": {},
   "outputs": [],
   "source": [
    "plt.hist2d()"
   ]
  }
 ],
 "metadata": {
  "kernelspec": {
   "display_name": "Python 3 (ipykernel)",
   "language": "python",
   "name": "python3"
  },
  "language_info": {
   "codemirror_mode": {
    "name": "ipython",
    "version": 3
   },
   "file_extension": ".py",
   "mimetype": "text/x-python",
   "name": "python",
   "nbconvert_exporter": "python",
   "pygments_lexer": "ipython3",
   "version": "3.8.8"
  },
  "widgets": {
   "application/vnd.jupyter.widget-state+json": {
    "state": {},
    "version_major": 2,
    "version_minor": 0
   }
  }
 },
 "nbformat": 4,
 "nbformat_minor": 5
}
