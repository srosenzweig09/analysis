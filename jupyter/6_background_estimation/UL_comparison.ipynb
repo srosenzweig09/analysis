{
 "cells": [
  {
   "cell_type": "code",
   "execution_count": 1,
   "metadata": {},
   "outputs": [],
   "source": [
    "base = \"root://cmseos.fnal.gov//store/user/srosenzw/sixb/sixb_ntuples/Summer2018UL/dHHH_pairs/\""
   ]
  },
  {
   "cell_type": "code",
   "execution_count": 2,
   "metadata": {},
   "outputs": [],
   "source": [
    "new_sample = base + 'NMSSM/NMSSM_XYH_YToHH_6b_MX_700_MY_400/ntuple.root'\n",
    "old_sample = base + 'NMSSM_old/NMSSM_XYH_YToHH_6b_MX_700_MY_400/ntuple.root'"
   ]
  },
  {
   "cell_type": "code",
   "execution_count": 3,
   "metadata": {},
   "outputs": [],
   "source": [
    "new_tree = Signal(new_sample)\n",
    "old_tree = Signal(old_sample)"
   ]
  },
  {
   "cell_type": "code",
   "execution_count": 4,
   "metadata": {},
   "outputs": [
    {
     "data": {
      "text/plain": [
       "(array([17922.    , 12604.185 , 10210.343 ,  7731.1924], dtype=float32),\n",
       " array([17922.   , 12736.93 , 10441.104,  7838.069], dtype=float32))"
      ]
     },
     "execution_count": 4,
     "metadata": {},
     "output_type": "execute_result"
    }
   ],
   "source": [
    "new_tree.cutflow, old_tree.cutflow"
   ]
  },
  {
   "cell_type": "code",
   "execution_count": 5,
   "metadata": {},
   "outputs": [
    {
     "data": {
      "text/plain": [
       "array([697.69055, 646.901  , 690.29193, ..., 717.648  , 585.92346,\n",
       "       589.4529 ], dtype=float32)"
      ]
     },
     "execution_count": 5,
     "metadata": {},
     "output_type": "execute_result"
    }
   ],
   "source": [
    "config = {'rectangular': {'maxSR':25, 'maxVR':125, 'maxCR':175}}\n",
    "new_tree.rectangular_region(config)\n",
    "old_tree.rectangular_region(config)"
   ]
  },
  {
   "cell_type": "code",
   "execution_count": 6,
   "metadata": {},
   "outputs": [
    {
     "data": {
      "text/plain": [
       "(8687, 8607)"
      ]
     },
     "execution_count": 6,
     "metadata": {},
     "output_type": "execute_result"
    }
   ],
   "source": [
    "ak.sum(new_tree.SRhs_mask), ak.sum(old_tree.SRhs_mask)"
   ]
  },
  {
   "cell_type": "code",
   "execution_count": 9,
   "metadata": {},
   "outputs": [
    {
     "name": "stdout",
     "output_type": "stream",
     "text": [
      "8687\n",
      "8607\n"
     ]
    }
   ],
   "source": [
    "new_sr_mask = new_tree.SRhs_mask\n",
    "new_X_m = new_tree.X_m[new_sr_mask]\n",
    "print(sum(new_tree.SRhs_mask))\n",
    "new_n,e = np.histogram(new_X_m.to_numpy(), bins=np.linspace(375,2000,40))\n",
    "\n",
    "old_sr_mask = old_tree.SRhs_mask\n",
    "print(sum(old_tree.SRhs_mask))\n",
    "old_X_m = old_tree.X_m[old_sr_mask]\n",
    "old_n,e = np.histogram(old_X_m.to_numpy(), bins=np.linspace(375,2000,40))"
   ]
  },
  {
   "cell_type": "code",
   "execution_count": 12,
   "metadata": {},
   "outputs": [
    {
     "data": {
      "text/plain": [
       "array([1.100e+01, 2.700e+01, 6.800e+01, 1.500e+02, 1.960e+02, 3.490e+02,\n",
       "       5.800e+02, 9.000e+02, 1.320e+03, 1.539e+03, 1.381e+03, 9.530e+02,\n",
       "       5.200e+02, 2.730e+02, 1.100e+02, 6.000e+01, 4.000e+01, 3.900e+01,\n",
       "       3.200e+01, 2.500e+01, 1.800e+01, 1.600e+01, 1.300e+01, 1.100e+01,\n",
       "       8.000e+00, 4.000e+00, 6.000e+00, 7.000e+00, 1.000e+00, 4.000e+00,\n",
       "       1.000e+00, 2.000e+00, 1.000e+00, 0.000e+00, 3.000e+00, 1.000e+00,\n",
       "       1.000e+00, 0.000e+00, 0.000e+00, 2.000e+00, 3.000e+00, 1.000e+00,\n",
       "       1.000e+00, 2.000e+00, 0.000e+00, 0.000e+00, 1.000e+00, 0.000e+00,\n",
       "       1.000e+00, 0.000e+00, 0.000e+00, 0.000e+00, 0.000e+00, 0.000e+00,\n",
       "       0.000e+00, 0.000e+00, 0.000e+00, 0.000e+00, 0.000e+00])"
      ]
     },
     "execution_count": 12,
     "metadata": {},
     "output_type": "execute_result"
    },
    {
     "data": {
      "image/png": "[encoded data removed]",
      "text/plain": [
       "<Figure size 720x720 with 1 Axes>"
      ]
     },
     "metadata": {
      "needs_background": "light"
     },
     "output_type": "display_data"
    }
   ],
   "source": [
    "fig, ax = plt.subplots()\n",
    "bins = np.linspace(375,2000,60)\n",
    "Hist(old_tree.X_m[old_sr_mask], bins=bins, ax=ax)\n",
    "Hist(new_tree.X_m[new_sr_mask], bins=bins, ax=ax)"
   ]
  },
  {
   "cell_type": "code",
   "execution_count": null,
   "metadata": {},
   "outputs": [],
   "source": []
  }
 ],
 "metadata": {
  "interpreter": {
   "hash": "5df4d1b2ce696ef8a7cc914f733ed0eed40caa2570f001e67a5aef7cf7cbd879"
  },
  "kernelspec": {
   "display_name": "Python 3.8.12 ('work')",
   "language": "python",
   "name": "python3"
  },
  "language_info": {
   "codemirror_mode": {
    "name": "ipython",
    "version": 3
   },
   "file_extension": ".py",
   "mimetype": "text/x-python",
   "name": "python",
   "nbconvert_exporter": "python",
   "pygments_lexer": "ipython3",
   "version": "3.8.12"
  },
  "orig_nbformat": 4
 },
 "nbformat": 4,
 "nbformat_minor": 2
}
