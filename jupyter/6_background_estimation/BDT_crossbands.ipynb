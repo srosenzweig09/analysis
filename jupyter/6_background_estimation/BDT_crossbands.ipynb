{
 "cells": [
  {
   "cell_type": "code",
   "execution_count": 1,
   "metadata": {},
   "outputs": [],
   "source": [
    "from hep_ml import reweight\n",
    "from pandas import DataFrame"
   ]
  },
  {
   "cell_type": "code",
   "execution_count": 2,
   "metadata": {},
   "outputs": [],
   "source": [
    "datTree = Tree(JetHT_Data_UL)\n",
    "datTree.initialize_t6_X()\n",
    "\n",
    "X = datTree.t6_X"
   ]
  },
  {
   "cell_type": "code",
   "execution_count": 3,
   "metadata": {},
   "outputs": [],
   "source": [
    "cut_6jNN = 0\n",
    "\n",
    "# edges of mH windows\n",
    "SR_edge = 25 # GeV\n",
    "VR_edge = 60 # GeV\n",
    "CR_edge = 120 # GeV"
   ]
  },
  {
   "cell_type": "code",
   "execution_count": 4,
   "metadata": {},
   "outputs": [],
   "source": [
    "mH = 125 # GeV\n",
    "\n",
    "SR_lo = mH - SR_edge\n",
    "SR_hi = mH + SR_edge\n",
    "\n",
    "VR_lo = mH - VR_edge\n",
    "VR_hi = mH + VR_edge\n",
    "\n",
    "CR_lo = mH - CR_edge\n",
    "CR_hi = mH + CR_edge"
   ]
  },
  {
   "cell_type": "code",
   "execution_count": 5,
   "metadata": {},
   "outputs": [],
   "source": [
    "dat_6sums = ak.sum(datTree.t6_jet_btag, axis=1)/6"
   ]
  },
  {
   "cell_type": "code",
   "execution_count": 6,
   "metadata": {},
   "outputs": [],
   "source": [
    "#### DATA ####\n",
    "dat_6jNN_mask = datTree.b_6j_score > cut_6jNN # pass 6jNN mask\n",
    "\n",
    "# dat_m_cand = datTree.t6_higgs_m[:,2]\n",
    "dat_Dm_cand = abs(datTree.t6_higgs_m - 125)\n",
    "dat_Dm      = datTree.t6_higgs_m - 125\n",
    "dat_Dm_pos  = ak.all(datTree.t6_higgs_m - 125 > 0, axis=1)\n",
    "dat_Dm_neg  = ak.all(datTree.t6_higgs_m - 125 < 0, axis=1)\n",
    "\n",
    "# triple mass veto\n",
    "dat_SR = ak.all(dat_Dm_cand <= SR_edge, axis=1) # SR\n",
    "dat_VR = ak.all(dat_Dm_cand > SR_edge, axis=1) & ak.all(dat_Dm_cand <= VR_edge, axis=1) # VR\n",
    "dat_CR = ak.all(dat_Dm_cand > VR_edge, axis=1) # CR\n",
    "\n",
    "hi_m = ak.all(dat_Dm < -SR_edge, axis=1)\n",
    "lo_m = ak.all(dat_Dm >= -VR_edge, axis=1)\n",
    "dat_SRlo = ak.all(dat_Dm >= -SR_edge, axis=1) # SR\n",
    "# dat_VRlo = ak.all(dat_Dm[dat_Dm_neg] < -SR_edge, axis=1) & ak.all(dat_Dm[dat_Dm_neg] >= -VR_edge, axis=1) # VR\n",
    "dat_VRlo = hi_m & lo_m # VR\n",
    "dat_CRlo = ak.all(dat_Dm < -VR_edge, axis=1) # CR\n",
    "\n",
    "hi_m = ak.all(dat_Dm <= VR_edge, axis=1)\n",
    "lo_m = ak.all(dat_Dm > SR_edge, axis=1)\n",
    "dat_SRhi = ak.all(dat_Dm <= SR_edge, axis=1) # SR\n",
    "dat_VRhi = hi_m & lo_m # VR\n",
    "dat_CRhi = ak.all(dat_Dm > VR_edge, axis=1) # CR\n",
    "\n",
    "# # single first mass veto\n",
    "# dat_SR_1 = dat_Dm_cand[:,0] <= SR_edge # SR\n",
    "# dat_VR_1 = (dat_Dm_cand[:,0] > SR_edge) & (dat_Dm_cand[:,0] <= VR_edge) # VR\n",
    "# dat_CR_1 = dat_Dm_cand[:,0] > VR_edge # CR\n",
    "\n",
    "# # second first mass veto\n",
    "# dat_SR_2 = dat_Dm_cand[:,1] <= SR_edge # SR\n",
    "# dat_VR_2 = (dat_Dm_cand[:,1] > SR_edge) & (dat_Dm_cand[:,1] <= VR_edge) # VR\n",
    "# dat_CR_2 = dat_Dm_cand[:,1] > VR_edge # CR\n",
    "\n",
    "# # third first mass veto\n",
    "# dat_SR_3 = dat_Dm_cand[:,2] <= SR_edge # SR\n",
    "# dat_VR_3 = (dat_Dm_cand[:,2] > SR_edge) & (dat_Dm_cand[:,2] <= VR_edge) # VR\n",
    "# dat_CR_3 = dat_Dm_cand[:,2] > VR_edge # CR"
   ]
  },
  {
   "cell_type": "code",
   "execution_count": 7,
   "metadata": {},
   "outputs": [],
   "source": [
    "dat_CR_lo = dat_Dm_neg & dat_CRlo\n",
    "dat_CR_hi = dat_Dm_pos & dat_CRhi\n",
    "\n",
    "dat_VR_lo = dat_Dm_neg & dat_VRlo\n",
    "dat_VR_hi = dat_Dm_pos & dat_VRhi"
   ]
  },
  {
   "cell_type": "code",
   "execution_count": 8,
   "metadata": {},
   "outputs": [],
   "source": [
    "# fig, ax = plt.subplots()\n",
    "\n",
    "# ax.set_title('CR bands')\n",
    "\n",
    "# n,e = Hist(ak.flatten(dat_Dm[dat_CR_lo]), bins=np.linspace(-250,250,100), ax=ax, label='low')\n",
    "# n,e = Hist(ak.flatten(dat_Dm[dat_CR_hi]), bins=np.linspace(-250,250,100), ax=ax, label='high')\n",
    "\n",
    "# ax.set_xlabel(r'$m_i - m_H$ [GeV]')\n",
    "# ax.set_ylabel('Events')\n",
    "\n",
    "# fig.savefig('CR_bands.pdf', bbox_inches='tight')"
   ]
  },
  {
   "cell_type": "code",
   "execution_count": 9,
   "metadata": {},
   "outputs": [],
   "source": [
    "# fig, ax = plt.subplots()\n",
    "\n",
    "# ax.set_title('Data, Separate CR bands')\n",
    "\n",
    "# n,e = Hist(X.m[dat_CR_lo], bins=mBins, ax=ax, label='$(m_1, m_2, m_3) < 65 \\;\\mathrm{GeV}$')\n",
    "# n,e = Hist(X.m[dat_CR_hi], bins=mBins, ax=ax, label='$(m_1, m_2, m_3) > 185 \\;\\mathrm{GeV}$')\n",
    "# # n,e = Hist(X.m[dat_CR], bins=mBins, ax=ax, label='$(m_1, m_2, m_3) > 185 \\;\\mathrm{GeV}$')\n",
    "\n",
    "# ax.legend(loc=2, fontsize=18)\n",
    "\n",
    "# ax.set_ylabel('Events')\n",
    "# ax.set_xlabel(r'$M_X$ [GeV]')\n",
    "\n",
    "# fig.savefig('plots/MX700_MY400/dat_CR_bands.pdf', bbox_inches='tight')"
   ]
  },
  {
   "cell_type": "code",
   "execution_count": 10,
   "metadata": {},
   "outputs": [],
   "source": [
    "# fig, ax = plt.subplots()\n",
    "\n",
    "# ax.set_title('VR bands')\n",
    "\n",
    "# n,e = Hist(dat_Dm[dat_VR_lo], bins=np.linspace(-250,250,100), ax=ax, label='low')\n",
    "# n,e = Hist(dat_Dm[dat_VR_hi], bins=np.linspace(-250,250,100), ax=ax, label='high')\n",
    "\n",
    "# ax.set_xlabel(r'$m_i - m_H$ [GeV]')\n",
    "# ax.set_ylabel('Events')\n",
    "\n",
    "# fig.savefig('VR_bands.pdf', bbox_inches='tight')"
   ]
  },
  {
   "cell_type": "code",
   "execution_count": 11,
   "metadata": {},
   "outputs": [],
   "source": [
    "# fig, ax = plt.subplots()\n",
    "\n",
    "# ax.set_title('Data, Separate VR bands')\n",
    "\n",
    "# n,e = Hist(X.m[dat_VR_lo], bins=mBins, ax=ax, label='$65 < (m_1, m_2, m_3) < 100 \\;\\mathrm{GeV}$')\n",
    "# n,e = Hist(X.m[dat_VR_hi], bins=mBins, ax=ax, label='$150 < (m_1, m_2, m_3) < 185 \\;\\mathrm{GeV}$')\n",
    "# # n,e = Hist(X.m[dat_VR_hi], bins=mBins, ax=ax, label='$150 < (m_1, m_2, m_3) < 185 \\;\\mathrm{GeV}$', bottom=n)\n",
    "# # n,e = Hist(X.m[dat_VR], bins=mBins, ax=ax, label='$150 < (m_1, m_2, m_3) < 185 \\;\\mathrm{GeV}$')\n",
    "\n",
    "# ax.set_ylabel('Events')\n",
    "# ax.set_xlabel(r'$M_X$ [GeV]')\n",
    "\n",
    "# ax.legend(fontsize=18)\n",
    "\n",
    "# fig.savefig('plots/MX700_MY400/dat_VR_bands.pdf', bbox_inches='tight')"
   ]
  },
  {
   "cell_type": "code",
   "execution_count": 12,
   "metadata": {},
   "outputs": [],
   "source": [
    "nbins = 60\n",
    "mBins = np.linspace(0,2000,nbins)"
   ]
  },
  {
   "cell_type": "code",
   "execution_count": 13,
   "metadata": {},
   "outputs": [],
   "source": [
    "dat_sums = ak.sum(datTree.t6_jet_btag, axis=1)[dat_CR]/6\n",
    "n_dat, edges = np.histogram(dat_sums.to_numpy(), bins=score_bins)"
   ]
  },
  {
   "cell_type": "code",
   "execution_count": 14,
   "metadata": {},
   "outputs": [],
   "source": [
    "opt_cut = 0.66"
   ]
  },
  {
   "cell_type": "code",
   "execution_count": 15,
   "metadata": {},
   "outputs": [],
   "source": [
    "#### DATA ####\n",
    "# score veto\n",
    "dat_ls_mask = ak.sum(datTree.t6_jet_btag, axis=1)/6 < opt_cut # ls\n",
    "dat_hs_mask = ak.sum(datTree.t6_jet_btag, axis=1)/6 >= opt_cut # hs\n",
    "\n",
    "dat_CR_lo_ls = dat_ls_mask & dat_CR_lo\n",
    "dat_CR_hi_ls = dat_ls_mask & dat_CR_hi\n",
    "dat_CR_lo_hs = dat_hs_mask & dat_CR_lo\n",
    "dat_CR_hi_hs = dat_hs_mask & dat_CR_hi\n",
    "\n",
    "dat_VR_lo_ls = dat_ls_mask & dat_VR_lo\n",
    "dat_VR_hi_ls = dat_ls_mask & dat_VR_hi\n",
    "dat_VR_lo_hs = dat_hs_mask & dat_VR_lo\n",
    "dat_VR_hi_hs = dat_hs_mask & dat_VR_hi\n",
    "\n",
    "# combination\n",
    "dat_CRls_mask = dat_6jNN_mask & dat_CR & dat_ls_mask\n",
    "dat_CRhs_mask = dat_6jNN_mask & dat_CR & dat_hs_mask\n",
    "dat_VRls_mask = dat_6jNN_mask & dat_VR & dat_ls_mask\n",
    "dat_VRhs_mask = dat_6jNN_mask & dat_VR & dat_hs_mask\n",
    "dat_SRls_mask = dat_6jNN_mask & dat_SR & dat_ls_mask"
   ]
  },
  {
   "cell_type": "code",
   "execution_count": 16,
   "metadata": {},
   "outputs": [],
   "source": [
    "TF = ak.sum(dat_CRhs_mask)/ak.sum(dat_CRls_mask)\n",
    "\n",
    "TF_lo = ak.sum(dat_CR_lo_hs)/ak.sum(dat_CR_lo_ls)\n",
    "TF_hi = ak.sum(dat_CR_hi_hs)/ak.sum(dat_CR_hi_ls)\n",
    "\n",
    "TF_lohi = ak.sum(dat_CR_hi_hs)/ak.sum(dat_CR_lo_ls)\n",
    "TF_hilo = ak.sum(dat_CR_lo_hs)/ak.sum(dat_CR_hi_ls)"
   ]
  },
  {
   "cell_type": "code",
   "execution_count": 17,
   "metadata": {},
   "outputs": [],
   "source": [
    "max_mass = 2000\n",
    "min_mass = 250"
   ]
  },
  {
   "cell_type": "code",
   "execution_count": 18,
   "metadata": {},
   "outputs": [],
   "source": [
    "dat_crls_H1_b1_pt = ak.sort(datTree.t6_jet_pt[datTree.t6_jet_higgsIdx == 0], axis=1, ascending=False)[:,0][dat_CRls_mask].to_numpy()\n",
    "dat_crls_H1_b2_pt = ak.sort(datTree.t6_jet_pt[datTree.t6_jet_higgsIdx == 0], axis=1, ascending=False)[:,1][dat_CRls_mask].to_numpy()\n",
    "dat_crls_H2_b1_pt = ak.sort(datTree.t6_jet_pt[datTree.t6_jet_higgsIdx == 1], axis=1, ascending=False)[:,0][dat_CRls_mask].to_numpy()\n",
    "dat_crls_H2_b2_pt = ak.sort(datTree.t6_jet_pt[datTree.t6_jet_higgsIdx == 1], axis=1, ascending=False)[:,1][dat_CRls_mask].to_numpy()\n",
    "dat_crls_H3_b1_pt = ak.sort(datTree.t6_jet_pt[datTree.t6_jet_higgsIdx == 2], axis=1, ascending=False)[:,0][dat_CRls_mask].to_numpy()\n",
    "dat_crls_H3_b2_pt = ak.sort(datTree.t6_jet_pt[datTree.t6_jet_higgsIdx == 2], axis=1, ascending=False)[:,1][dat_CRls_mask].to_numpy()\n",
    "dat_crls_H1_pt = datTree.t6_higgs_pt[:,0][dat_CRls_mask].to_numpy()\n",
    "dat_crls_H2_pt = datTree.t6_higgs_pt[:,1][dat_CRls_mask].to_numpy()\n",
    "dat_crls_H3_pt = datTree.t6_higgs_pt[:,2][dat_CRls_mask].to_numpy()\n",
    "dat_crls_H1_eta = datTree.t6_higgs_eta[:,0][dat_CRls_mask].to_numpy()\n",
    "dat_crls_H2_eta = datTree.t6_higgs_eta[:,1][dat_CRls_mask].to_numpy()\n",
    "dat_crls_H3_eta = datTree.t6_higgs_eta[:,2][dat_CRls_mask].to_numpy()\n",
    "dat_crls_H1_dr = datTree.t6_higgs_dr[:,0][dat_CRls_mask].to_numpy()\n",
    "dat_crls_H2_dr = datTree.t6_higgs_dr[:,1][dat_CRls_mask].to_numpy()\n",
    "dat_crls_H3_dr = datTree.t6_higgs_dr[:,2][dat_CRls_mask].to_numpy()\n",
    "\n",
    "dat_crhs_H1_b1_pt = ak.sort(datTree.t6_jet_pt[datTree.t6_jet_higgsIdx == 0], axis=1, ascending=False)[:,0][dat_CRhs_mask].to_numpy()\n",
    "dat_crhs_H1_b2_pt = ak.sort(datTree.t6_jet_pt[datTree.t6_jet_higgsIdx == 0], axis=1, ascending=False)[:,1][dat_CRhs_mask].to_numpy()\n",
    "dat_crhs_H2_b1_pt = ak.sort(datTree.t6_jet_pt[datTree.t6_jet_higgsIdx == 1], axis=1, ascending=False)[:,0][dat_CRhs_mask].to_numpy()\n",
    "dat_crhs_H2_b2_pt = ak.sort(datTree.t6_jet_pt[datTree.t6_jet_higgsIdx == 1], axis=1, ascending=False)[:,1][dat_CRhs_mask].to_numpy()\n",
    "dat_crhs_H3_b1_pt = ak.sort(datTree.t6_jet_pt[datTree.t6_jet_higgsIdx == 2], axis=1, ascending=False)[:,0][dat_CRhs_mask].to_numpy()\n",
    "dat_crhs_H3_b2_pt = ak.sort(datTree.t6_jet_pt[datTree.t6_jet_higgsIdx == 2], axis=1, ascending=False)[:,1][dat_CRhs_mask].to_numpy()\n",
    "dat_crhs_H1_pt = datTree.t6_higgs_pt[:,0][dat_CRhs_mask].to_numpy()\n",
    "dat_crhs_H2_pt = datTree.t6_higgs_pt[:,1][dat_CRhs_mask].to_numpy()\n",
    "dat_crhs_H3_pt = datTree.t6_higgs_pt[:,2][dat_CRhs_mask].to_numpy()\n",
    "dat_crhs_H1_eta = datTree.t6_higgs_eta[:,0][dat_CRhs_mask].to_numpy()\n",
    "dat_crhs_H2_eta = datTree.t6_higgs_eta[:,1][dat_CRhs_mask].to_numpy()\n",
    "dat_crhs_H3_eta = datTree.t6_higgs_eta[:,2][dat_CRhs_mask].to_numpy()\n",
    "dat_crhs_H1_dr = datTree.t6_higgs_dr[:,0][dat_CRhs_mask].to_numpy()\n",
    "dat_crhs_H2_dr = datTree.t6_higgs_dr[:,1][dat_CRhs_mask].to_numpy()\n",
    "dat_crhs_H3_dr = datTree.t6_higgs_dr[:,2][dat_CRhs_mask].to_numpy()\n",
    "\n",
    "dat_vrls_H1_b1_pt = ak.sort(datTree.t6_jet_pt[datTree.t6_jet_higgsIdx == 0], axis=1, ascending=False)[:,0][dat_VRls_mask].to_numpy()\n",
    "dat_vrls_H1_b2_pt = ak.sort(datTree.t6_jet_pt[datTree.t6_jet_higgsIdx == 0], axis=1, ascending=False)[:,1][dat_VRls_mask].to_numpy()\n",
    "dat_vrls_H2_b1_pt = ak.sort(datTree.t6_jet_pt[datTree.t6_jet_higgsIdx == 1], axis=1, ascending=False)[:,0][dat_VRls_mask].to_numpy()\n",
    "dat_vrls_H2_b2_pt = ak.sort(datTree.t6_jet_pt[datTree.t6_jet_higgsIdx == 1], axis=1, ascending=False)[:,1][dat_VRls_mask].to_numpy()\n",
    "dat_vrls_H3_b1_pt = ak.sort(datTree.t6_jet_pt[datTree.t6_jet_higgsIdx == 2], axis=1, ascending=False)[:,0][dat_VRls_mask].to_numpy()\n",
    "dat_vrls_H3_b2_pt = ak.sort(datTree.t6_jet_pt[datTree.t6_jet_higgsIdx == 2], axis=1, ascending=False)[:,1][dat_VRls_mask].to_numpy()\n",
    "dat_vrls_H1_pt = datTree.t6_higgs_pt[:,0][dat_VRls_mask].to_numpy()\n",
    "dat_vrls_H2_pt = datTree.t6_higgs_pt[:,1][dat_VRls_mask].to_numpy()\n",
    "dat_vrls_H3_pt = datTree.t6_higgs_pt[:,2][dat_VRls_mask].to_numpy()\n",
    "dat_vrls_H1_eta = datTree.t6_higgs_eta[:,0][dat_VRls_mask].to_numpy()\n",
    "dat_vrls_H2_eta = datTree.t6_higgs_eta[:,1][dat_VRls_mask].to_numpy()\n",
    "dat_vrls_H3_eta = datTree.t6_higgs_eta[:,2][dat_VRls_mask].to_numpy()\n",
    "dat_vrls_H1_dr = datTree.t6_higgs_dr[:,0][dat_VRls_mask].to_numpy()\n",
    "dat_vrls_H2_dr = datTree.t6_higgs_dr[:,1][dat_VRls_mask].to_numpy()\n",
    "dat_vrls_H3_dr = datTree.t6_higgs_dr[:,2][dat_VRls_mask].to_numpy()\n",
    "\n",
    "dat_vrhs_H1_b1_pt = ak.sort(datTree.t6_jet_pt[datTree.t6_jet_higgsIdx == 0], axis=1, ascending=False)[:,0][dat_VRhs_mask].to_numpy()\n",
    "dat_vrhs_H1_b2_pt = ak.sort(datTree.t6_jet_pt[datTree.t6_jet_higgsIdx == 0], axis=1, ascending=False)[:,1][dat_VRhs_mask].to_numpy()\n",
    "dat_vrhs_H2_b1_pt = ak.sort(datTree.t6_jet_pt[datTree.t6_jet_higgsIdx == 1], axis=1, ascending=False)[:,0][dat_VRhs_mask].to_numpy()\n",
    "dat_vrhs_H2_b2_pt = ak.sort(datTree.t6_jet_pt[datTree.t6_jet_higgsIdx == 1], axis=1, ascending=False)[:,1][dat_VRhs_mask].to_numpy()\n",
    "dat_vrhs_H3_b1_pt = ak.sort(datTree.t6_jet_pt[datTree.t6_jet_higgsIdx == 2], axis=1, ascending=False)[:,0][dat_VRhs_mask].to_numpy()\n",
    "dat_vrhs_H3_b2_pt = ak.sort(datTree.t6_jet_pt[datTree.t6_jet_higgsIdx == 2], axis=1, ascending=False)[:,1][dat_VRhs_mask].to_numpy()\n",
    "dat_vrhs_H1_pt = datTree.t6_higgs_pt[:,0][dat_VRhs_mask].to_numpy()\n",
    "dat_vrhs_H2_pt = datTree.t6_higgs_pt[:,1][dat_VRhs_mask].to_numpy()\n",
    "dat_vrhs_H3_pt = datTree.t6_higgs_pt[:,2][dat_VRhs_mask].to_numpy()\n",
    "dat_vrhs_H1_eta = datTree.t6_higgs_eta[:,0][dat_VRhs_mask].to_numpy()\n",
    "dat_vrhs_H2_eta = datTree.t6_higgs_eta[:,1][dat_VRhs_mask].to_numpy()\n",
    "dat_vrhs_H3_eta = datTree.t6_higgs_eta[:,2][dat_VRhs_mask].to_numpy()\n",
    "dat_vrhs_H1_dr = datTree.t6_higgs_dr[:,0][dat_VRhs_mask].to_numpy()\n",
    "dat_vrhs_H2_dr = datTree.t6_higgs_dr[:,1][dat_VRhs_mask].to_numpy()\n",
    "dat_vrhs_H3_dr = datTree.t6_higgs_dr[:,2][dat_VRhs_mask].to_numpy()"
   ]
  },
  {
   "cell_type": "code",
   "execution_count": 19,
   "metadata": {},
   "outputs": [],
   "source": [
    "data_crls = np.column_stack((dat_crls_H1_b1_pt, dat_crls_H1_b2_pt, dat_crls_H2_b1_pt, dat_crls_H2_b2_pt, dat_crls_H3_b1_pt, dat_crls_H3_b2_pt, dat_crls_H1_pt, dat_crls_H2_pt, dat_crls_H3_pt, dat_crls_H1_dr, dat_crls_H2_dr, dat_crls_H3_dr, dat_crls_H1_eta, dat_crls_H2_eta, dat_crls_H3_eta))\n",
    "data_crhs = np.column_stack((dat_crhs_H1_b1_pt, dat_crhs_H1_b2_pt, dat_crhs_H2_b1_pt, dat_crhs_H2_b2_pt, dat_crhs_H3_b1_pt, dat_crhs_H3_b2_pt, dat_crhs_H1_pt, dat_crhs_H2_pt, dat_crhs_H3_pt, dat_crhs_H1_dr, dat_crhs_H2_dr, dat_crhs_H3_dr, dat_crhs_H1_eta, dat_crhs_H2_eta, dat_crhs_H3_eta))"
   ]
  },
  {
   "cell_type": "code",
   "execution_count": 20,
   "metadata": {},
   "outputs": [],
   "source": [
    "data_vrls = np.column_stack((dat_vrls_H1_b1_pt, dat_vrls_H1_b2_pt, dat_vrls_H2_b1_pt, dat_vrls_H2_b2_pt, dat_vrls_H3_b1_pt, dat_vrls_H3_b2_pt, dat_vrls_H1_pt, dat_vrls_H2_pt, dat_vrls_H3_pt, dat_vrls_H1_dr, dat_vrls_H2_dr, dat_vrls_H3_dr, dat_vrls_H1_eta, dat_vrls_H2_eta, dat_vrls_H3_eta))\n",
    "data_vrhs = np.column_stack((dat_vrhs_H1_b1_pt, dat_vrhs_H1_b2_pt, dat_vrhs_H2_b1_pt, dat_vrhs_H2_b2_pt, dat_vrhs_H3_b1_pt, dat_vrhs_H3_b2_pt, dat_vrhs_H1_pt, dat_vrhs_H2_pt, dat_vrhs_H3_pt, dat_vrhs_H1_dr, dat_vrhs_H2_dr, dat_vrhs_H3_dr, dat_vrhs_H1_eta, dat_vrhs_H2_eta, dat_vrhs_H3_eta))"
   ]
  },
  {
   "cell_type": "code",
   "execution_count": 21,
   "metadata": {},
   "outputs": [],
   "source": [
    "cols = ['H1 b1 pt','H1 b2 pt','H2 b1 pt','H2 b2 pt','H3 b1 pt','H3 b1 pt','H1 pt','H2 pt','H3 pt','H1 dr','H2 dr','H3 dr','H1 eta','H2 eta','H3 eta']"
   ]
  },
  {
   "cell_type": "code",
   "execution_count": 22,
   "metadata": {},
   "outputs": [],
   "source": [
    "df_crls = DataFrame(data=data_crls, columns=cols)\n",
    "df_crhs = DataFrame(data=data_crhs, columns=cols)"
   ]
  },
  {
   "cell_type": "code",
   "execution_count": 23,
   "metadata": {},
   "outputs": [],
   "source": [
    "df_vrls = DataFrame(data=data_vrls, columns=cols)\n",
    "df_vrhs = DataFrame(data=data_vrhs, columns=cols)"
   ]
  },
  {
   "cell_type": "code",
   "execution_count": 24,
   "metadata": {},
   "outputs": [],
   "source": [
    "CRlslo = dat_Dm_neg[dat_CRls_mask].to_numpy()\n",
    "CRlshi = dat_Dm_pos[dat_CRls_mask].to_numpy()\n",
    "CRhslo = dat_Dm_neg[dat_CRhs_mask].to_numpy()\n",
    "CRhshi = dat_Dm_pos[dat_CRhs_mask].to_numpy()\n",
    "\n",
    "VRlslo = dat_Dm_neg[dat_VRls_mask].to_numpy()\n",
    "VRlshi = dat_Dm_pos[dat_VRls_mask].to_numpy()\n",
    "VRhslo = dat_Dm_neg[dat_VRhs_mask].to_numpy()\n",
    "VRhshi = dat_Dm_pos[dat_VRhs_mask].to_numpy()"
   ]
  },
  {
   "cell_type": "code",
   "execution_count": 25,
   "metadata": {},
   "outputs": [],
   "source": [
    "X_cr_ls_lo = ak.nan_to_num(X.m[dat_CRls_mask][CRlslo],0).to_numpy()\n",
    "np.isnan(X_cr_ls_lo).sum()\n",
    "X_vr_ls_lo = ak.nan_to_num(X.m[dat_VRls_mask][VRlslo],0).to_numpy()"
   ]
  },
  {
   "cell_type": "code",
   "execution_count": 26,
   "metadata": {},
   "outputs": [],
   "source": [
    "X_cr_ls_hi = ak.nan_to_num(X.m[dat_CRls_mask][CRlshi],0).to_numpy()\n",
    "np.isnan(X_cr_ls_hi).sum()\n",
    "X_vr_ls_hi = ak.nan_to_num(X.m[dat_VRls_mask][VRlshi],0).to_numpy()"
   ]
  },
  {
   "cell_type": "code",
   "execution_count": 27,
   "metadata": {},
   "outputs": [],
   "source": [
    "X_cr_ls = ak.nan_to_num(X.m[dat_CRls_mask],0).to_numpy()\n",
    "np.isnan(X_cr_ls).sum()\n",
    "X_vr_ls = ak.nan_to_num(X.m[dat_VRls_mask],0).to_numpy()"
   ]
  },
  {
   "cell_type": "code",
   "execution_count": 28,
   "metadata": {},
   "outputs": [],
   "source": [
    "ls_weights = np.ones(len(df_crls))*TF\n",
    "hs_weights = np.ones(len(df_crhs))"
   ]
  },
  {
   "cell_type": "code",
   "execution_count": 29,
   "metadata": {},
   "outputs": [],
   "source": [
    "# A set of BDT arguments borrowed from 4b analysis\n",
    "# Nestimators, learningRate, maxDepth, minLeaves, GB['subsample'], randomState\n",
    "args = [40, 0.1, 3, 300, 0.6, 2020]"
   ]
  },
  {
   "cell_type": "code",
   "execution_count": 30,
   "metadata": {},
   "outputs": [
    {
     "data": {
      "text/plain": [
       "FoldingReweighter(base_reweighter=GBReweighter(gb_args={'subsample': 0.6},\n",
       "                                               learning_rate=0.1,\n",
       "                                               min_samples_leaf=300),\n",
       "                  random_state=2020, verbose=False)"
      ]
     },
     "execution_count": 30,
     "metadata": {},
     "output_type": "execute_result"
    }
   ],
   "source": [
    "ls_weights = np.ones(len(df_crls[CRlslo]))*TF\n",
    "hs_weights = np.ones(len(df_crhs[CRhshi]))\n",
    "\n",
    "np.random.seed(args[5]) #Fix any random seed using numpy arrays\n",
    "reweighter_base_lohi = reweight.GBReweighter(n_estimators=args[0], learning_rate=args[1], max_depth=args[2], min_samples_leaf=args[3],gb_args={'subsample': args[4]})\n",
    "reweighter_lohi = reweight.FoldingReweighter(reweighter_base_lohi, random_state=args[5], n_folds=2, verbose=False)\n",
    "reweighter_lohi.fit(df_crls[CRlslo],df_crhs[CRhshi],ls_weights,hs_weights)"
   ]
  },
  {
   "cell_type": "code",
   "execution_count": 31,
   "metadata": {},
   "outputs": [],
   "source": [
    "weights_lohi = reweighter_lohi.predict_weights(df_vrls[VRlslo],np.ones(sum(VRlslo))*TF_lohi,lambda x: np.mean(x, axis=0))"
   ]
  },
  {
   "cell_type": "code",
   "execution_count": 32,
   "metadata": {},
   "outputs": [
    {
     "data": {
      "text/plain": [
       "FoldingReweighter(base_reweighter=GBReweighter(gb_args={'subsample': 0.6},\n",
       "                                               learning_rate=0.1,\n",
       "                                               min_samples_leaf=300),\n",
       "                  random_state=2020, verbose=False)"
      ]
     },
     "execution_count": 32,
     "metadata": {},
     "output_type": "execute_result"
    }
   ],
   "source": [
    "ls_weights = np.ones(len(df_crls[CRlshi]))*TF\n",
    "hs_weights = np.ones(len(df_crhs[CRhslo]))\n",
    "\n",
    "np.random.seed(args[5]) #Fix any random seed using numpy arrays\n",
    "reweighter_base_hilo = reweight.GBReweighter(n_estimators=args[0], learning_rate=args[1], max_depth=args[2], min_samples_leaf=args[3],gb_args={'subsample': args[4]})\n",
    "reweighter_hilo = reweight.FoldingReweighter(reweighter_base_hilo, random_state=args[5], n_folds=2, verbose=False)\n",
    "reweighter_hilo.fit(df_crls[CRlshi],df_crhs[CRhslo],ls_weights,hs_weights)"
   ]
  },
  {
   "cell_type": "code",
   "execution_count": 33,
   "metadata": {},
   "outputs": [],
   "source": [
    "weights_hilo = reweighter_hilo.predict_weights(df_vrls[VRlshi],np.ones(sum(VRlshi))*TF_hilo,lambda x: np.mean(x, axis=0))"
   ]
  },
  {
   "cell_type": "code",
   "execution_count": 35,
   "metadata": {},
   "outputs": [
    {
     "data": {
      "image/png": "[encoded data removed]",
      "text/plain": [
       "<Figure size 1440x720 with 2 Axes>"
      ]
     },
     "metadata": {
      "needs_background": "light"
     },
     "output_type": "display_data"
    }
   ],
   "source": [
    "fig, axs = plt.subplots(nrows=1, ncols=2, figsize=(20,10))\n",
    "\n",
    "ax = axs[0]\n",
    "\n",
    "ax.set_title('Data, VR, BDT, low mass -> high mass')\n",
    "n_VRhs, e = Hist(X.m[dat_VRhs_mask].to_numpy()[VRhshi], bins=mBins, ax=ax, label='Target')\n",
    "n_VRls_transformed, e = Hist(X_vr_ls_lo, weights=weights_lohi, bins=mBins, ax=ax, label='Estimation')\n",
    "\n",
    "ax.set_yscale('log')\n",
    "ax.set_xlabel(r'Six Jet $m_\\mathrm{inv}$ [GeV]')\n",
    "ax.set_ylabel('Events')\n",
    "# ax.legend(loc=2)\n",
    "\n",
    "\n",
    "ax = axs[1]\n",
    "\n",
    "ax.set_title('Data, VR, BDT, high mass -> low mass')\n",
    "n_VRhs, e = Hist(X.m[dat_VRhs_mask].to_numpy()[VRhslo], bins=mBins, ax=ax, label='Target')\n",
    "n_VRls_transformed, e = Hist(X_vr_ls_hi, weights=weights_hilo, bins=mBins, ax=ax, label='Estimation')\n",
    "\n",
    "ax.set_yscale('log')\n",
    "ax.set_xlabel(r'Six Jet $m_\\mathrm{inv}$ [GeV]')\n",
    "ax.set_ylabel('Events')\n",
    "# ax.legend(loc=2)\n",
    "\n",
    "fig.savefig(\"plots/Data/mass_bands/VR_hilo_BDT.pdf\", bbox_inches='tight')"
   ]
  },
  {
   "cell_type": "code",
   "execution_count": null,
   "metadata": {},
   "outputs": [],
   "source": []
  },
  {
   "cell_type": "code",
   "execution_count": null,
   "metadata": {},
   "outputs": [],
   "source": []
  },
  {
   "cell_type": "code",
   "execution_count": null,
   "metadata": {},
   "outputs": [],
   "source": []
  }
 ],
 "metadata": {
  "interpreter": {
   "hash": "5df4d1b2ce696ef8a7cc914f733ed0eed40caa2570f001e67a5aef7cf7cbd879"
  },
  "kernelspec": {
   "display_name": "Python 3.8.8 64-bit ('work': conda)",
   "language": "python",
   "name": "python3"
  },
  "language_info": {
   "codemirror_mode": {
    "name": "ipython",
    "version": 3
   },
   "file_extension": ".py",
   "mimetype": "text/x-python",
   "name": "python",
   "nbconvert_exporter": "python",
   "pygments_lexer": "ipython3",
   "version": "3.8.8"
  },
  "orig_nbformat": 4
 },
 "nbformat": 4,
 "nbformat_minor": 2
}
