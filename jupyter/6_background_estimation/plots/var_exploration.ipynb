{
 "cells": [
  {
   "cell_type": "code",
   "execution_count": 1,
   "metadata": {},
   "outputs": [],
   "source": [
    "from utils.fileUtils.sr import NMSSM_MX_700_MY_400"
   ]
  },
  {
   "cell_type": "code",
   "execution_count": 2,
   "metadata": {},
   "outputs": [],
   "source": [
    "datTree = Tree(JetHT_Data_UL)\n",
    "datTree.initialize_t6_X()\n",
    "\n",
    "X = datTree.t6_X"
   ]
  },
  {
   "cell_type": "code",
   "execution_count": 3,
   "metadata": {},
   "outputs": [],
   "source": [
    "sigTree = Tree(NMSSM_MX_700_MY_400)\n",
    "sigTree.initialize_t6_X()\n",
    "\n",
    "sig_X = sigTree.t6_X"
   ]
  },
  {
   "cell_type": "code",
   "execution_count": 4,
   "metadata": {},
   "outputs": [
    {
     "data": {
      "text/plain": [
       "<Array [1, 0, 0, 1, 1, 1, ... 0, 1, 1, 1, 1, 1] type='43836 * int64'>"
      ]
     },
     "execution_count": 4,
     "metadata": {},
     "output_type": "execute_result"
    }
   ],
   "source": [
    "sigTree.t6_jet_pt[sigTree.t6_jet_higgsIdx == 0]\n",
    "ak.argsort(sigTree.t6_jet_pt[sigTree.t6_jet_higgsIdx == 0], axis=1)[:,0]"
   ]
  },
  {
   "cell_type": "markdown",
   "metadata": {},
   "source": [
    "Control region definitions:\n",
    "\n",
    "<span style=\"font-family:Courier;\">SR<sup>hs</sup> = <span style=\"color:green\">pass</span> m<sub>H</sub> veto, <span style=\"color:green\">pass</span> b<sub>sum</sub> veto  \n",
    "SR<sup>ls</sup> = <span style=\"color:green\">pass</span> m<sub>H</sub> veto, <span style=\"color:red\">fail</span> b<sub>sum</sub> veto  \n",
    "CR<sup>hs</sup> = <span style=\"color:red\">fail</span> m<sub>H</sub> veto, <span style=\"color:green\">pass</span> b<sub>sum</sub> veto  \n",
    "CR<sup>ls</sup> = <span style=\"color:red\">fail</span> m<sub>H</sub> veto, <span style=\"color:red\">fail</span> b<sub>sum</sub> veto</span>"
   ]
  },
  {
   "cell_type": "markdown",
   "metadata": {},
   "source": [
    "### <span style=\"font-variant:small-caps;\"><font size=4>Control Region</font></span>: <font size=3>Thresholds</font>"
   ]
  },
  {
   "cell_type": "markdown",
   "metadata": {},
   "source": [
    "Remember:\n",
    "\n",
    "\n",
    "| | `SIGNAL REGION`   | `VALIDATION REGION`  | `CONTROL REGION`   |\n",
    "| - | -------- | ----------- | ------- |\n",
    "| Within | m<sub>H</sub> &#177; 30 GeV | m<sub>H</sub> &#177; 60 GeV | |\n",
    "| Outside |  | m<sub>H</sub> &#177; 30 GeV | m<sub>H</sub> &#177; 60 GeV |"
   ]
  },
  {
   "cell_type": "code",
   "execution_count": 5,
   "metadata": {},
   "outputs": [],
   "source": [
    "# edges of mH windows\n",
    "SR_edge = 25 # GeV\n",
    "VR_edge = 60 # GeV\n",
    "CR_edge = 120 # GeV"
   ]
  },
  {
   "cell_type": "code",
   "execution_count": 6,
   "metadata": {},
   "outputs": [],
   "source": [
    "mH = 125 # GeV\n",
    "\n",
    "SR_lo = mH - SR_edge\n",
    "SR_hi = mH + SR_edge\n",
    "\n",
    "VR_lo = mH - VR_edge\n",
    "VR_hi = mH + VR_edge\n",
    "\n",
    "CR_lo = mH - CR_edge\n",
    "CR_hi = mH + CR_edge"
   ]
  },
  {
   "cell_type": "code",
   "execution_count": 7,
   "metadata": {},
   "outputs": [
    {
     "name": "stdout",
     "output_type": "stream",
     "text": [
      "Triple mass veto\n",
      "SR: 2361\n",
      "VR: 363\n",
      "CR: 799\n"
     ]
    }
   ],
   "source": [
    "sig_Dm_cand = abs(sigTree.t6_higgs_m - 125)\n",
    "\n",
    "# triple mass veto\n",
    "sig_SR = ak.all(sig_Dm_cand <= SR_edge, axis=1) # SR\n",
    "sig_VR = ak.all(sig_Dm_cand > SR_edge, axis=1) & ak.all(sig_Dm_cand <= VR_edge, axis=1) # VR\n",
    "sig_CR = ak.all(sig_Dm_cand > VR_edge, axis=1) # CR\n",
    "\n",
    "print(\"Triple mass veto\")\n",
    "print(\"SR:\",int(ak.sum(sig_SR)*sigTree.scale))\n",
    "print(\"VR:\",int(ak.sum(sig_VR)*sigTree.scale))\n",
    "print(\"CR:\",int(ak.sum(sig_CR)*sigTree.scale))"
   ]
  },
  {
   "cell_type": "code",
   "execution_count": 8,
   "metadata": {},
   "outputs": [],
   "source": [
    "dat_6sums = ak.sum(datTree.t6_jet_btag, axis=1)/6"
   ]
  },
  {
   "cell_type": "code",
   "execution_count": 9,
   "metadata": {},
   "outputs": [
    {
     "name": "stdout",
     "output_type": "stream",
     "text": [
      "14520\n",
      "8784\n",
      "Triple mass veto\n",
      "SR: 35659\n",
      "VR: 29087\n",
      "CR: 70259\n"
     ]
    }
   ],
   "source": [
    "#### DATA ####\n",
    "\n",
    "# dat_m_cand = datTree.t6_higgs_m[:,2]\n",
    "dat_Dm_cand = abs(datTree.t6_higgs_m - 125)\n",
    "dat_Dm      = datTree.t6_higgs_m - 125\n",
    "dat_Dm_pos  = ak.all(datTree.t6_higgs_m - 125 > 0, axis=1)\n",
    "dat_Dm_neg  = ak.all(datTree.t6_higgs_m - 125 < 0, axis=1)\n",
    "\n",
    "# triple mass veto\n",
    "dat_SR = ak.all(dat_Dm_cand <= SR_edge, axis=1) # SR\n",
    "dat_VR = ak.all(dat_Dm_cand > SR_edge, axis=1) & ak.all(dat_Dm_cand <= VR_edge, axis=1) # VR\n",
    "dat_CR = ak.all(dat_Dm_cand > VR_edge, axis=1) # CR\n",
    "\n",
    "hi_m = ak.all(dat_Dm < -SR_edge, axis=1)\n",
    "lo_m = ak.all(dat_Dm > -VR_edge, axis=1)\n",
    "dat_SRlo = ak.all(dat_Dm >= -SR_edge, axis=1) # SR\n",
    "# dat_VRlo = ak.all(dat_Dm[dat_Dm_neg] < -SR_edge, axis=1) & ak.all(dat_Dm[dat_Dm_neg] >= -VR_edge, axis=1) # VR\n",
    "dat_VRlo = hi_m & lo_m # VR\n",
    "dat_CRlo = ak.all(dat_Dm < -VR_edge, axis=1) # CR\n",
    "\n",
    "hi_m = ak.all(dat_Dm <= VR_edge, axis=1)\n",
    "lo_m = ak.all(dat_Dm > SR_edge, axis=1)\n",
    "dat_SRhi = ak.all(dat_Dm <= SR_edge, axis=1) # SR\n",
    "dat_VRhi = hi_m & lo_m # VR\n",
    "dat_CRhi = ak.all(dat_Dm > VR_edge, axis=1) # CR\n",
    "\n",
    "print(ak.sum(dat_VRlo))\n",
    "print(ak.sum(dat_VRhi))\n",
    "\n",
    "print(\"Triple mass veto\")\n",
    "print(\"SR:\",ak.sum(dat_SR))\n",
    "print(\"VR:\",ak.sum(dat_VR))\n",
    "print(\"CR:\",ak.sum(dat_CR))"
   ]
  },
  {
   "cell_type": "code",
   "execution_count": 10,
   "metadata": {},
   "outputs": [
    {
     "name": "stdout",
     "output_type": "stream",
     "text": [
      "4224\n",
      "65338\n",
      "14520\n",
      "8784\n"
     ]
    }
   ],
   "source": [
    "dat_CR_lo = dat_Dm_neg & dat_CRlo\n",
    "dat_CR_hi = dat_Dm_pos & dat_CRhi\n",
    "\n",
    "dat_VR_lo = dat_Dm_neg & dat_VRlo\n",
    "dat_VR_hi = dat_Dm_pos & dat_VRhi\n",
    "\n",
    "print(ak.sum(dat_CR_lo))\n",
    "print(ak.sum(dat_CR_hi))\n",
    "\n",
    "print(ak.sum(dat_VR_lo))\n",
    "print(ak.sum(dat_VR_hi))"
   ]
  },
  {
   "cell_type": "code",
   "execution_count": 11,
   "metadata": {},
   "outputs": [],
   "source": [
    "nbins = 60\n",
    "mBins = np.linspace(0,2000,nbins)"
   ]
  },
  {
   "cell_type": "code",
   "execution_count": 12,
   "metadata": {},
   "outputs": [],
   "source": [
    "max_mass = 2000\n",
    "min_mass = 250"
   ]
  },
  {
   "cell_type": "code",
   "execution_count": 13,
   "metadata": {},
   "outputs": [],
   "source": [
    "n_bs = 6"
   ]
  },
  {
   "cell_type": "code",
   "execution_count": 14,
   "metadata": {},
   "outputs": [],
   "source": [
    "sig_sums = ak.sum(sigTree.t6_jet_btag, axis=1)[sig_SR]/n_bs\n",
    "dat_sums = ak.sum(datTree.t6_jet_btag, axis=1)[dat_CR]/n_bs\n",
    "\n",
    "n_sig, edges = np.histogram(sig_sums.to_numpy(), bins=score_bins)\n",
    "n_dat, edges = np.histogram(dat_sums.to_numpy(), bins=score_bins)"
   ]
  },
  {
   "cell_type": "code",
   "execution_count": 15,
   "metadata": {},
   "outputs": [],
   "source": [
    "sum_eff = []\n",
    "sum_rej = []\n",
    "\n",
    "for cut in edges[:-1]:\n",
    "    sum_eff.append(n_sig[edges[:-1] >= cut].sum()/n_sig.sum())\n",
    "    sum_rej.append(n_dat[edges[:-1] < cut].sum()/n_dat.sum())\n",
    "\n",
    "sum_eff = np.append(1, np.asarray(sum_eff))\n",
    "sum_rej = np.asarray(sum_rej)\n",
    "\n",
    "dx = sum_eff[:-1] - sum_eff[1:]\n",
    "auc = np.sum(sum_rej*dx)\n",
    "sum_rej = np.append(sum_rej, 1)"
   ]
  },
  {
   "cell_type": "code",
   "execution_count": 17,
   "metadata": {},
   "outputs": [
    {
     "name": "stdout",
     "output_type": "stream",
     "text": [
      "0.66\n",
      "Optimal score cut = 0.66\n",
      "0.7252932607528942 0.12135100129520773\n",
      "0.2747067392471057 0.8786489987047923\n"
     ]
    }
   ],
   "source": [
    "opt_arg = (abs(sum_eff-auc)+abs(sum_rej-auc)).argmin()\n",
    "opt_cut = score_bins[opt_arg]\n",
    "print(opt_cut)\n",
    "\n",
    "print(f\"Optimal score cut = {opt_cut}\")\n",
    "\n",
    "p_sig_hi = ak.sum(sig_sums >= opt_cut)/len(sig_sums)\n",
    "p_sig_lo = ak.sum(sig_sums < opt_cut)/len(sig_sums)\n",
    "\n",
    "p_bkg_hi = ak.sum(dat_sums >= opt_cut)/len(dat_sums)\n",
    "p_bkg_lo = ak.sum(dat_sums < opt_cut)/len(dat_sums)\n",
    "\n",
    "print(p_sig_hi,p_bkg_hi)\n",
    "print(p_sig_lo,p_bkg_lo)"
   ]
  },
  {
   "cell_type": "code",
   "execution_count": 18,
   "metadata": {},
   "outputs": [
    {
     "name": "stdout",
     "output_type": "stream",
     "text": [
      "0.7252932607528942 0.12135100129520773\n",
      "0.2747067392471057 0.8786489987047923\n"
     ]
    }
   ],
   "source": [
    "p_sig_hi = ak.sum(sig_sums >= opt_cut)/len(sig_sums)\n",
    "p_sig_lo = ak.sum(sig_sums < opt_cut)/len(sig_sums)\n",
    "\n",
    "p_bkg_hi = ak.sum(dat_sums >= opt_cut)/len(dat_sums)\n",
    "p_bkg_lo = ak.sum(dat_sums < opt_cut)/len(dat_sums)\n",
    "\n",
    "print(p_sig_hi,p_bkg_hi)\n",
    "print(p_sig_lo,p_bkg_lo)"
   ]
  },
  {
   "cell_type": "code",
   "execution_count": 19,
   "metadata": {},
   "outputs": [
    {
     "data": {
      "image/png": "[encoded data removed]",
      "text/plain": [
       "<Figure size 720x720 with 1 Axes>"
      ]
     },
     "metadata": {
      "needs_background": "light"
     },
     "output_type": "display_data"
    }
   ],
   "source": [
    "score_bins = np.linspace(0,1,101)\n",
    "\n",
    "fig, ax = plt.subplots()\n",
    "\n",
    "ax.set_title('First 6 Jets', loc='right')\n",
    "n_s, edges = Hist(x_bins(score_bins), weights=n_sig/n_sig.sum(), bins=score_bins, ax=ax, label='Signal (SR)', color='blue')\n",
    "n_data, edges = Hist(x_bins(score_bins), weights=n_dat/n_dat.sum(), bins=score_bins, ax=ax, label='Data (CR)', color='black')\n",
    "if n_s.max() > n_data.max(): nMax = n_s.max()\n",
    "else: nMax = n_data.max()\n",
    "ax.plot([opt_cut, opt_cut],[0,nMax*1.1],'gray')\n",
    "ax.legend(fontsize='smaller', loc=2)\n",
    "ax.set_xlabel(r'Normalized b-tag Sum')\n",
    "ax.set_ylabel('Fraction of Events')\n",
    "\n",
    "plt.tight_layout()\n",
    "\n",
    "# fig.savefig(f'plots/{sigTree.mXmY}_bsum.pdf')"
   ]
  },
  {
   "cell_type": "code",
   "execution_count": 21,
   "metadata": {},
   "outputs": [],
   "source": [
    "#### DATA ####\n",
    "# score veto\n",
    "dat_ls_mask = ak.sum(datTree.t6_jet_btag, axis=1)/6 < opt_cut # ls\n",
    "dat_hs_mask = ak.sum(datTree.t6_jet_btag, axis=1)/6 >= opt_cut # hs\n",
    "\n",
    "dat_CR_lo_ls = dat_ls_mask & dat_CR_lo\n",
    "dat_CR_hi_ls = dat_ls_mask & dat_CR_hi\n",
    "dat_CR_lo_hs = dat_hs_mask & dat_CR_lo\n",
    "dat_CR_hi_hs = dat_hs_mask & dat_CR_hi\n",
    "\n",
    "dat_VR_lo_ls = dat_ls_mask & dat_VR_lo\n",
    "dat_VR_hi_ls = dat_ls_mask & dat_VR_hi\n",
    "dat_VR_lo_hs = dat_hs_mask & dat_VR_lo\n",
    "dat_VR_hi_hs = dat_hs_mask & dat_VR_hi\n",
    "\n",
    "# combination\n",
    "dat_CRls_mask = dat_CR & dat_ls_mask\n",
    "dat_CRhs_mask = dat_CR & dat_hs_mask\n",
    "dat_VRls_mask = dat_VR & dat_ls_mask\n",
    "dat_VRhs_mask = dat_VR & dat_hs_mask\n",
    "dat_SRls_mask = dat_SR & dat_ls_mask"
   ]
  },
  {
   "cell_type": "code",
   "execution_count": 22,
   "metadata": {},
   "outputs": [
    {
     "name": "stdout",
     "output_type": "stream",
     "text": [
      "3645\n",
      "57478\n",
      "579\n",
      "7860\n",
      "\n",
      "0.1588477366255144\n",
      "0.13674797313754827\n"
     ]
    }
   ],
   "source": [
    "print(ak.sum(dat_CR_lo_ls))\n",
    "print(ak.sum(dat_CR_hi_ls))\n",
    "print(ak.sum(dat_CR_lo_hs))\n",
    "print(ak.sum(dat_CR_hi_hs))\n",
    "\n",
    "TF_lo = ak.sum(dat_CR_lo_hs)/ak.sum(dat_CR_lo_ls)\n",
    "TF_hi = ak.sum(dat_CR_hi_hs)/ak.sum(dat_CR_hi_ls)\n",
    "\n",
    "print()\n",
    "print(TF_lo)\n",
    "print(TF_hi)"
   ]
  },
  {
   "cell_type": "code",
   "execution_count": 23,
   "metadata": {},
   "outputs": [],
   "source": [
    "### SIGNAL ###\n",
    "# score veto\n",
    "sig_ls_mask = ak.sum(sigTree.t6_jet_btag, axis=1)/6 < opt_cut # ls\n",
    "sig_hs_mask = ak.sum(sigTree.t6_jet_btag, axis=1)/6 >= opt_cut # hs\n",
    "\n",
    "# combination\n",
    "sig_SRhs_mask = sig_SR & sig_hs_mask\n",
    "sig_SRls_mask = sig_SR & sig_ls_mask\n",
    "sig_VRhs_mask = sig_VR & sig_hs_mask\n",
    "sig_VRls_mask = sig_VR & sig_ls_mask\n",
    "sig_CRhs_mask = sig_CR & sig_hs_mask\n",
    "sig_CRls_mask = sig_CR & sig_ls_mask"
   ]
  },
  {
   "cell_type": "code",
   "execution_count": 24,
   "metadata": {},
   "outputs": [
    {
     "data": {
      "text/plain": [
       "0.13811089692708925"
      ]
     },
     "execution_count": 24,
     "metadata": {},
     "output_type": "execute_result"
    }
   ],
   "source": [
    "TF = ak.sum(dat_CRhs_mask)/ak.sum(dat_CRls_mask)\n",
    "TF"
   ]
  },
  {
   "cell_type": "markdown",
   "metadata": {},
   "source": []
  },
  {
   "cell_type": "code",
   "execution_count": null,
   "metadata": {},
   "outputs": [],
   "source": []
  },
  {
   "cell_type": "code",
   "execution_count": null,
   "metadata": {},
   "outputs": [],
   "source": []
  },
  {
   "cell_type": "code",
   "execution_count": null,
   "metadata": {},
   "outputs": [],
   "source": []
  },
  {
   "cell_type": "code",
   "execution_count": null,
   "metadata": {},
   "outputs": [],
   "source": []
  }
 ],
 "metadata": {
  "interpreter": {
   "hash": "5df4d1b2ce696ef8a7cc914f733ed0eed40caa2570f001e67a5aef7cf7cbd879"
  },
  "kernelspec": {
   "display_name": "Python 3.8.8 64-bit ('work': conda)",
   "language": "python",
   "name": "python3"
  },
  "language_info": {
   "codemirror_mode": {
    "name": "ipython",
    "version": 3
   },
   "file_extension": ".py",
   "mimetype": "text/x-python",
   "name": "python",
   "nbconvert_exporter": "python",
   "pygments_lexer": "ipython3",
   "version": "3.8.8"
  },
  "orig_nbformat": 4
 },
 "nbformat": 4,
 "nbformat_minor": 2
}
