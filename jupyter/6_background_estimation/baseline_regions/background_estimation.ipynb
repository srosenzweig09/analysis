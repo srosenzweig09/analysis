{
 "cells": [
  {
   "cell_type": "markdown",
   "metadata": {},
   "source": [
    "# <span style=\"font-variant:small-caps;\"><font color=#DAA6E4 size=12>Background and Sensitivity Estimation</font></span>\n",
    "\n",
    "This notebook should present the distributions of signal and data within control regions.\n",
    "\n",
    "[This link](https://cms-analysis.github.io/HiggsAnalysis-CombinedLimit/part2/settinguptheanalysis/) will show you how to format the data cards and enter them into HiggsCombine."
   ]
  },
  {
   "cell_type": "markdown",
   "metadata": {},
   "source": [
    "## 1. Load signal and data events"
   ]
  },
  {
   "cell_type": "code",
   "execution_count": 7,
   "metadata": {},
   "outputs": [],
   "source": [
    "# from utils.fileUtils.sr import NMSSM_MX_700_MY_400, JetHT_Data_UL"
   ]
  },
  {
   "cell_type": "code",
   "execution_count": 8,
   "metadata": {},
   "outputs": [],
   "source": [
    "NMSSM_MX_700_MY_400 = '/eos/uscms/store/user/srosenzw/sixb/sixb_ntuples/old_skims/NMSSM/NMSSM_XYH_YToHH_6b_MX_700_MY_400/ntuple.root'\n",
    "JetHT_Data_UL = '/eos/uscms/store/user/srosenzw/sixb/sixb_ntuples/old_skims/JetHT_Data_UL/ntuple.root'"
   ]
  },
  {
   "cell_type": "code",
   "execution_count": 9,
   "metadata": {},
   "outputs": [],
   "source": [
    "datTree = Tree(JetHT_Data_UL)\n",
    "datTree.initialize_t6_X()\n",
    "\n",
    "X = datTree.t6_X"
   ]
  },
  {
   "cell_type": "code",
   "execution_count": 10,
   "metadata": {},
   "outputs": [],
   "source": [
    "sigTree = Tree(NMSSM_MX_700_MY_400)\n",
    "sigTree.initialize_t6_X()\n",
    "\n",
    "sig_X = sigTree.t6_X"
   ]
  },
  {
   "cell_type": "markdown",
   "metadata": {},
   "source": [
    "## 2. Define signal, control, and validation regions"
   ]
  },
  {
   "cell_type": "markdown",
   "metadata": {},
   "source": [
    "Control region definitions:\n",
    "\n",
    "<span style=\"font-family:Courier;\">SR<sup>hs</sup> = <span style=\"color:green\">pass</span> m<sub>H</sub> veto, <span style=\"color:green\">pass</span> b<sub>sum</sub> veto  \n",
    "SR<sup>ls</sup> = <span style=\"color:green\">pass</span> m<sub>H</sub> veto, <span style=\"color:red\">fail</span> b<sub>sum</sub> veto  \n",
    "CR<sup>hs</sup> = <span style=\"color:red\">fail</span> m<sub>H</sub> veto, <span style=\"color:green\">pass</span> b<sub>sum</sub> veto  \n",
    "CR<sup>ls</sup> = <span style=\"color:red\">fail</span> m<sub>H</sub> veto, <span style=\"color:red\">fail</span> b<sub>sum</sub> veto</span>"
   ]
  },
  {
   "cell_type": "markdown",
   "metadata": {},
   "source": [
    "### <span style=\"font-variant:small-caps;\"><font size=4>Control Region</font></span>: <font size=3>Thresholds</font>"
   ]
  },
  {
   "cell_type": "markdown",
   "metadata": {},
   "source": [
    "Remember:\n",
    "\n",
    "\n",
    "| | `SIGNAL REGION`   | `VALIDATION REGION`  | `CONTROL REGION`   |\n",
    "| - | -------- | ----------- | ------- |\n",
    "| Within | m<sub>H</sub> &#177; 30 GeV | m<sub>H</sub> &#177; 60 GeV | |\n",
    "| Outside |  | m<sub>H</sub> &#177; 30 GeV | m<sub>H</sub> &#177; 60 GeV |"
   ]
  },
  {
   "cell_type": "code",
   "execution_count": 11,
   "metadata": {},
   "outputs": [],
   "source": [
    "cut_6jNN = 0\n",
    "\n",
    "# edges of mH windows\n",
    "SR_edge = 25 # GeV\n",
    "VR_edge = 60 # GeV\n",
    "CR_edge = 120 # GeV"
   ]
  },
  {
   "cell_type": "code",
   "execution_count": 12,
   "metadata": {},
   "outputs": [],
   "source": [
    "mH = 125 # GeV\n",
    "\n",
    "SR_lo = mH - SR_edge\n",
    "SR_hi = mH + SR_edge\n",
    "\n",
    "VR_lo = mH - VR_edge\n",
    "VR_hi = mH + VR_edge\n",
    "\n",
    "CR_lo = mH - CR_edge\n",
    "CR_hi = mH + CR_edge"
   ]
  },
  {
   "cell_type": "markdown",
   "metadata": {},
   "source": [
    "### <span style=\"font-variant:small-caps;\"><font size=4>Region</font></span>: <font size=3>Masks</font>"
   ]
  },
  {
   "cell_type": "code",
   "execution_count": 13,
   "metadata": {},
   "outputs": [],
   "source": [
    "### SIGNAL ###\n",
    "sig_6jNN_mask = sigTree.b_6j_score > cut_6jNN # pass 6jNN mask\n",
    "\n",
    "sig_Dm_cand = abs(sigTree.t6_higgs_m - 125)\n",
    "\n",
    "# triple mass veto\n",
    "sig_SR = ak.all(sig_Dm_cand <= SR_edge, axis=1) # SR\n",
    "sig_VR = ak.all(sig_Dm_cand > SR_edge, axis=1) & ak.all(sig_Dm_cand <= VR_edge, axis=1) # VR\n",
    "sig_CR = ak.all(sig_Dm_cand > VR_edge, axis=1) # CR\n",
    "\n",
    "# # single first mass veto\n",
    "# sig_SR_1 = sig_Dm_cand[:,0] <= SR_edge # SR\n",
    "# sig_VR_1 = (sig_Dm_cand[:,0] > SR_edge) & (sig_Dm_cand[:,0] <= VR_edge) # VR\n",
    "# sig_CR_1 = sig_Dm_cand[:,0] > VR_edge # CR\n",
    "\n",
    "# # second first mass veto\n",
    "# sig_SR_2 = sig_Dm_cand[:,1] <= SR_edge # SR\n",
    "# sig_VR_2 = (sig_Dm_cand[:,1] > SR_edge) & (sig_Dm_cand[:,1] <= VR_edge) # VR\n",
    "# sig_CR_2 = sig_Dm_cand[:,1] > VR_edge # CR\n",
    "\n",
    "# # third first mass veto\n",
    "# sig_SR_3 = sig_Dm_cand[:,2] <= SR_edge # SR\n",
    "# sig_VR_3 = (sig_Dm_cand[:,2] > SR_edge) & (sig_Dm_cand[:,2] <= VR_edge) # VR\n",
    "# sig_CR_3 = sig_Dm_cand[:,2] > VR_edge # CR"
   ]
  },
  {
   "cell_type": "code",
   "execution_count": 14,
   "metadata": {},
   "outputs": [
    {
     "name": "stdout",
     "output_type": "stream",
     "text": [
      "Triple mass veto\n",
      "SR: 2361\n",
      "VR: 363\n",
      "CR: 799\n"
     ]
    }
   ],
   "source": [
    "print(\"Triple mass veto\")\n",
    "print(\"SR:\",int(ak.sum(sig_SR)*sigTree.scale))\n",
    "print(\"VR:\",int(ak.sum(sig_VR)*sigTree.scale))\n",
    "print(\"CR:\",int(ak.sum(sig_CR)*sigTree.scale))\n",
    "\n",
    "# print()\n",
    "# print(\"First mass veto\")\n",
    "# print(\"SR:\",int(ak.sum(sig_SR_1)*sigTree.scale))\n",
    "# print(\"VR:\",int(ak.sum(sig_VR_1)*sigTree.scale))\n",
    "# print(\"CR:\",int(ak.sum(sig_CR_1)*sigTree.scale))\n",
    "\n",
    "# print()\n",
    "# print(\"Second mass veto\")\n",
    "# print(\"SR:\",int(ak.sum(sig_SR_2)*sigTree.scale))\n",
    "# print(\"VR:\",int(ak.sum(sig_VR_2)*sigTree.scale))\n",
    "# print(\"CR:\",int(ak.sum(sig_CR_2)*sigTree.scale))\n",
    "\n",
    "# print()\n",
    "# print(\"Third mass veto\")\n",
    "# print(\"SR:\",int(ak.sum(sig_SR_3)*sigTree.scale))\n",
    "# print(\"VR:\",int(ak.sum(sig_VR_3)*sigTree.scale))\n",
    "# print(\"CR:\",int(ak.sum(sig_CR_3)*sigTree.scale))"
   ]
  },
  {
   "cell_type": "code",
   "execution_count": 15,
   "metadata": {},
   "outputs": [],
   "source": [
    "dat_6sums = ak.sum(datTree.t6_jet_btag, axis=1)/6"
   ]
  },
  {
   "cell_type": "code",
   "execution_count": 16,
   "metadata": {},
   "outputs": [],
   "source": [
    "#### DATA ####\n",
    "dat_6jNN_mask = datTree.b_6j_score > cut_6jNN # pass 6jNN mask\n",
    "\n",
    "# dat_m_cand = datTree.t6_higgs_m[:,2]\n",
    "dat_Dm_cand = abs(datTree.t6_higgs_m - 125)\n",
    "dat_Dm      = datTree.t6_higgs_m - 125\n",
    "\n",
    "# triple mass veto\n",
    "dat_SR = ak.all(dat_Dm_cand <= SR_edge, axis=1) # SR\n",
    "dat_VR = ak.all(dat_Dm_cand > SR_edge, axis=1) & ak.all(dat_Dm_cand <= VR_edge, axis=1) # VR\n",
    "dat_CR = ak.all(dat_Dm_cand > VR_edge, axis=1) # CR\n",
    "\n",
    "# # single first mass veto\n",
    "# dat_SR_1 = dat_Dm_cand[:,0] <= SR_edge # SR\n",
    "# dat_VR_1 = (dat_Dm_cand[:,0] > SR_edge) & (dat_Dm_cand[:,0] <= VR_edge) # VR\n",
    "# dat_CR_1 = dat_Dm_cand[:,0] > VR_edge # CR\n",
    "\n",
    "# # second first mass veto\n",
    "# dat_SR_2 = dat_Dm_cand[:,1] <= SR_edge # SR\n",
    "# dat_VR_2 = (dat_Dm_cand[:,1] > SR_edge) & (dat_Dm_cand[:,1] <= VR_edge) # VR\n",
    "# dat_CR_2 = dat_Dm_cand[:,1] > VR_edge # CR\n",
    "\n",
    "# # third first mass veto\n",
    "# dat_SR_3 = dat_Dm_cand[:,2] <= SR_edge # SR\n",
    "# dat_VR_3 = (dat_Dm_cand[:,2] > SR_edge) & (dat_Dm_cand[:,2] <= VR_edge) # VR\n",
    "# dat_CR_3 = dat_Dm_cand[:,2] > VR_edge # CR"
   ]
  },
  {
   "cell_type": "code",
   "execution_count": 17,
   "metadata": {},
   "outputs": [
    {
     "name": "stdout",
     "output_type": "stream",
     "text": [
      "Triple mass veto\n",
      "SR: 35659\n",
      "VR: 29087\n",
      "CR: 70259\n"
     ]
    }
   ],
   "source": [
    "print(\"Triple mass veto\")\n",
    "print(\"SR:\",ak.sum(dat_SR))\n",
    "print(\"VR:\",ak.sum(dat_VR))\n",
    "print(\"CR:\",ak.sum(dat_CR))\n",
    "\n",
    "# print()\n",
    "# print(\"First mass veto\")\n",
    "# print(\"SR:\",ak.sum(dat_SR_1))\n",
    "# print(\"VR:\",ak.sum(dat_VR_1))\n",
    "# print(\"CR:\",ak.sum(dat_CR_1))\n",
    "\n",
    "# print()\n",
    "# print(\"Second mass veto\")\n",
    "# print(\"SR:\",ak.sum(dat_SR_2))\n",
    "# print(\"VR:\",ak.sum(dat_VR_2))\n",
    "# print(\"CR:\",ak.sum(dat_CR_2))\n",
    "\n",
    "# print()\n",
    "# print(\"Third mass veto\")\n",
    "# print(\"SR:\",ak.sum(dat_SR_3))\n",
    "# print(\"VR:\",ak.sum(dat_VR_3))\n",
    "# print(\"CR:\",ak.sum(dat_CR_3))"
   ]
  },
  {
   "cell_type": "code",
   "execution_count": 18,
   "metadata": {},
   "outputs": [],
   "source": [
    "nbins = 60\n",
    "mBins = np.linspace(0,2000,nbins)"
   ]
  },
  {
   "cell_type": "code",
   "execution_count": 19,
   "metadata": {},
   "outputs": [],
   "source": [
    "# fig, ax = plt.subplots()\n",
    "\n",
    "# n,e = Hist(X.m[dat_CR_lo], bins=mBins, ax=ax, label='CR, low mass band', color='C0')\n",
    "# n,e = Hist(X.m[dat_CR_hi], bins=mBins, ax=ax, label='CR, high mass band', color='C1', bottom=n)\n",
    "# n,e = Hist(X.m[dat_VR_lo], bins=mBins, ax=ax, label='VR, low mass band', color='C0', linestyle='--')\n",
    "# n,e = Hist(X.m[dat_VR_hi], bins=mBins, ax=ax, label='VR, high mass band', color='C1', linestyle='--')\n",
    "# n,e = Hist(X.m[dat_CR], bins=mBins, ax=ax, label='CR', color='C2')\n",
    "\n",
    "# ax.legend(loc=2, fontsize=18)\n",
    "\n",
    "# ax.set_ylabel('Events')\n",
    "# ax.set_xlabel(r'$M_X$ [GeV]')\n",
    "\n",
    "# # fig.savefig('plots/MX700_MY400/dat_CR_bands.pdf', bbox_inches='tight')"
   ]
  },
  {
   "cell_type": "code",
   "execution_count": 20,
   "metadata": {},
   "outputs": [
    {
     "name": "stdout",
     "output_type": "stream",
     "text": [
      "35659\n",
      "29087\n",
      "70259\n"
     ]
    }
   ],
   "source": [
    "print(ak.sum(dat_SR))\n",
    "print(ak.sum(dat_VR))\n",
    "print(ak.sum(dat_CR))"
   ]
  },
  {
   "cell_type": "code",
   "execution_count": 21,
   "metadata": {},
   "outputs": [],
   "source": [
    "# mH_bins = np.linspace(0,500,101)\n",
    "# fig, axs = plt.subplots(figsize=(25,10), nrows=1, ncols=3)\n",
    "\n",
    "# ax = axs[0]\n",
    "# n_CR, b = Hist(sigTree.t6_higgs_m[:,0][sig_CR], bins=mH_bins, ax=ax, color='orangered', label='CR')\n",
    "# n_VR, b = Hist(sigTree.t6_higgs_m[:,0][sig_VR], bins=mH_bins, ax=ax, color='darkblue', label='VR')\n",
    "# n_VR, b = Hist(sigTree.t6_higgs_m[:,0][sig_SR], bins=mH_bins, ax=ax, color='darkgreen', label='SR')\n",
    "# n_VR, b = Hist(sigTree.t6_higgs_m[:,0][(~sig_CR) & (~sig_SR) & (~sig_VR)], bins=mH_bins, ax=ax, color='pink', label='SR')\n",
    "# # ax.yaxis.set_major_formatter(FormatStrFormatter('%.2f'))\n",
    "# ax.set_xlabel(r'$m_1$ [GeV]')\n",
    "# ax.set_ylabel('Events')\n",
    "# # print(n_s.sum()/np.sqrt(n_b.sum()))\n",
    "\n",
    "# ax = axs[1]\n",
    "# n_CR, b = Hist(sigTree.t6_higgs_m[:,1][sig_CR], bins=mH_bins, ax=ax,color='orangered', label='CR')\n",
    "# n_VR, b = Hist(sigTree.t6_higgs_m[:,1][sig_VR], bins=mH_bins, ax=ax,color='darkblue', label='VR')\n",
    "# n_VR, b = Hist(sigTree.t6_higgs_m[:,1][sig_SR], bins=mH_bins, ax=ax,color='darkgreen', label='SR')\n",
    "# # ax.yaxis.set_major_formatter(FormatStrFormatter('%.2f'))\n",
    "# ax.set_xlabel(r'$m_2$ [GeV]')\n",
    "# ax.set_ylabel('Events')\n",
    "\n",
    "# ax = axs[2]\n",
    "# n_s, b = Hist(sigTree.t6_higgs_m[:,2][sig_CR], bins=mH_bins, ax=ax, color='orangered', label='CR')\n",
    "# n_s, b = Hist(sigTree.t6_higgs_m[:,2][sig_VR], bins=mH_bins, ax=ax, color='darkblue', label='VR')\n",
    "# n_s, b = Hist(sigTree.t6_higgs_m[:,2][sig_SR], bins=mH_bins, ax=ax, color='darkgreen', label='SR')\n",
    "# # ax.yaxis.set_major_formatter(FormatStrFormatter('%2.2f'))\n",
    "# ax.set_xlabel(r'$m_3$ [GeV]')\n",
    "# ax.set_ylabel('Events')\n",
    "\n",
    "# plt.tight_layout()"
   ]
  },
  {
   "cell_type": "markdown",
   "metadata": {},
   "source": [
    "## 3. Plot CR vars"
   ]
  },
  {
   "cell_type": "markdown",
   "metadata": {},
   "source": [
    "Verify control region definition: mass veto."
   ]
  },
  {
   "cell_type": "code",
   "execution_count": 22,
   "metadata": {},
   "outputs": [],
   "source": [
    "# mH_bins = np.linspace(0,500,101)\n",
    "# fig, axs = plt.subplots(figsize=(25,10), nrows=1, ncols=3)\n",
    "\n",
    "# ax = axs[0]\n",
    "# n_CR, b = Hist(datTree.t6_higgs_m[:,0][dat_CR], bins=mH_bins, ax=ax, color='orangered', label='CR')\n",
    "# n_VR, b = Hist(datTree.t6_higgs_m[:,0][dat_VR], bins=mH_bins, ax=ax, color='darkblue', label='VR')\n",
    "# # ax.yaxis.set_major_formatter(FormatStrFormatter('%.2f'))\n",
    "# ax.set_xlabel(r'$m_1$ [GeV]')\n",
    "# # ax.set_ylabel('Fraction of Events')\n",
    "# ax.set_ylabel('Events')\n",
    "# # print(n_s.sum()/np.sqrt(n_b.sum()))\n",
    "\n",
    "# ax = axs[1]\n",
    "# n_CR, b = Hist(datTree.t6_higgs_m[:,1][dat_CR], bins=mH_bins, ax=ax,color='orangered', label='CR')\n",
    "# n_VR, b = Hist(datTree.t6_higgs_m[:,1][dat_VR], bins=mH_bins, ax=ax,color='darkblue', label='VR')\n",
    "# # ax.yaxis.set_major_formatter(FormatStrFormatter('%.2f'))\n",
    "# ax.set_xlabel(r'$m_2$ [GeV]')\n",
    "# # ax.set_ylabel('Fraction of Events')\n",
    "# ax.set_ylabel('Events')\n",
    "\n",
    "# ax = axs[2]\n",
    "# n_s, b = Hist(datTree.t6_higgs_m[:,2][dat_CR], bins=mH_bins, ax=ax, color='orangered', label='CR')\n",
    "# n_s, b = Hist(datTree.t6_higgs_m[:,2][dat_VR], bins=mH_bins, ax=ax, color='darkblue', label='VR')\n",
    "# # ax.yaxis.set_major_formatter(FormatStrFormatter('%2.2f'))\n",
    "# ax.set_xlabel(r'$m_3$ [GeV]')\n",
    "# # ax.set_ylabel('Fraction of Events')\n",
    "# ax.set_ylabel('Events')\n",
    "\n",
    "# plt.tight_layout()\n",
    "\n",
    "# fig.savefig(f'plots/dat_mH_CRVR.pdf')"
   ]
  },
  {
   "cell_type": "code",
   "execution_count": 23,
   "metadata": {},
   "outputs": [],
   "source": [
    "# ptBins = np.linspace(0,400,101)\n",
    "# fig, axs = plt.subplots(figsize=(25,10), nrows=1, ncols=3)\n",
    "\n",
    "# ax = axs[0]\n",
    "# n_CR, b = Hist(datTree.t6_jet_pt[:,0][dat_CR], bins=ptBins, ax=ax, color='orangered', label='CR')\n",
    "# # n_VR, b = Hist(datTree.t6_jet_pt[:,0][dat_VR], bins=ptBins, ax=ax, color='darkblue', label='VR')\n",
    "# # ax.yaxis.set_major_formatter(FormatStrFormatter('%.2f'))\n",
    "# ax.set_xlabel(r'$p_{T,1}$ [GeV]')\n",
    "# ax.set_ylabel('Fraction of Events')\n",
    "# # print(n_s.sum()/np.sqrt(n_b.sum()))\n",
    "\n",
    "# ax = axs[1]\n",
    "# n_CR, b = Hist(datTree.t6_jet_pt[:,1][dat_CR], bins=ptBins, ax=ax,color='orangered', label='CR')\n",
    "# n_VR, b = Hist(datTree.t6_jet_pt[:,1][dat_VR], bins=ptBins, ax=ax,color='darkblue', label='VR')\n",
    "# # ax.yaxis.set_major_formatter(FormatStrFormatter('%.2f'))\n",
    "# ax.set_xlabel(r'$p_{T,2}$ [GeV]')\n",
    "# ax.set_ylabel('Fraction of Events')\n",
    "\n",
    "# ax = axs[2]\n",
    "# n_s, b = Hist(datTree.t6_jet_pt[:,2][dat_CR], bins=ptBins, ax=ax, color='orangered', label='CR')\n",
    "# n_s, b = Hist(datTree.t6_jet_pt[:,2][dat_VR], bins=ptBins, ax=ax, color='darkblue', label='VR')\n",
    "# # ax.yaxis.set_major_formatter(FormatStrFormatter('%2.2f'))\n",
    "# ax.set_xlabel(r'$p_{T,3}$ [GeV]')\n",
    "# ax.set_ylabel('Fraction of Events')\n",
    "\n",
    "# plt.tight_layout()\n",
    "\n",
    "# # fig.savefig(f'plots/dat_mH_CRVR.pdf')"
   ]
  },
  {
   "cell_type": "code",
   "execution_count": 24,
   "metadata": {},
   "outputs": [],
   "source": [
    "# ptBins = np.linspace(0,400,101)\n",
    "# fig, axs = plt.subplots(figsize=(25,10), nrows=1, ncols=3)\n",
    "\n",
    "# ax = axs[0]\n",
    "# n_CR, b = Hist(sigTree.t6_jet_pt[:,0][sig_CR], bins=ptBins, ax=ax, color='orangered', label='CR')\n",
    "# n_VR, b = Hist(sigTree.t6_jet_pt[:,0][sig_VR], bins=ptBins, ax=ax, color='darkblue', label='VR')\n",
    "# n_VR, b = Hist(sigTree.t6_jet_pt[:,0][sig_SR], bins=ptBins, ax=ax, color='darkgreen', label='SR')\n",
    "# # ax.yaxis.set_major_formatter(FormatStrFormatter('%.2f'))\n",
    "# ax.set_xlabel(r'$p_{T,1}$ [GeV]')\n",
    "# ax.set_ylabel('Fraction of Events')\n",
    "# # print(n_s.sum()/np.sqrt(n_b.sum()))\n",
    "\n",
    "# ax = axs[1]\n",
    "# n_CR, b = Hist(sigTree.t6_jet_pt[:,1][sig_CR], bins=ptBins, ax=ax,color='orangered', label='CR')\n",
    "# n_VR, b = Hist(sigTree.t6_jet_pt[:,1][sig_VR], bins=ptBins, ax=ax,color='darkblue', label='VR')\n",
    "# n_VR, b = Hist(sigTree.t6_jet_pt[:,1][sig_SR], bins=ptBins, ax=ax, color='darkgreen', label='SR')\n",
    "# # ax.yaxis.set_major_formatter(FormatStrFormatter('%.2f'))\n",
    "# ax.set_xlabel(r'$p_{T,2}$ [GeV]')\n",
    "# ax.set_ylabel('Fraction of Events')\n",
    "\n",
    "# ax = axs[2]\n",
    "# n_s, b = Hist(sigTree.t6_jet_pt[:,2][sig_CR], bins=ptBins, ax=ax, color='orangered', label='CR')\n",
    "# n_s, b = Hist(sigTree.t6_jet_pt[:,2][sig_VR], bins=ptBins, ax=ax, color='darkblue', label='VR')\n",
    "# n_s, b = Hist(sigTree.t6_jet_pt[:,2][sig_SR], bins=ptBins, ax=ax, color='darkgreen', label='SR')\n",
    "# # ax.yaxis.set_major_formatter(FormatStrFormatter('%2.2f'))\n",
    "# ax.set_xlabel(r'$p_{T,3}$ [GeV]')\n",
    "# ax.set_ylabel('Fraction of Events')\n",
    "\n",
    "# plt.tight_layout()\n",
    "\n",
    "# # fig.savefig(f'plots/dat_mH_CRVR.pdf')"
   ]
  },
  {
   "cell_type": "code",
   "execution_count": 25,
   "metadata": {},
   "outputs": [],
   "source": [
    "# mH_bins = np.linspace(0,500,101)\n",
    "# fig, axs = plt.subplots(figsize=(25,6), nrows=1, ncols=3)\n",
    "\n",
    "# ax = axs[0]\n",
    "# n_CR, b = Hist(datTree.t6_higgs_m[:,0][dat_VR], bins=mH_bins, ax=ax, color='black', density=1)\n",
    "# # ax.yaxis.set_major_formatter(FormatStrFormatter('%.2f'))\n",
    "# ax.set_xlabel(r'$m_1$ [GeV]')\n",
    "# ax.set_ylabel('Fraction of Events')\n",
    "# # print(n_s.sum()/np.sqrt(n_b.sum()))\n",
    "\n",
    "# ax = axs[1]\n",
    "# n_s, b = Hist(datTree.t6_higgs_m[:,1][dat_VR], bins=mH_bins, ax=ax,color='black', density=1)\n",
    "# # ax.yaxis.set_major_formatter(FormatStrFormatter('%.2f'))\n",
    "# ax.set_xlabel(r'$m_2$ [GeV]')\n",
    "# ax.set_ylabel('Fraction of Events')\n",
    "\n",
    "# ax = axs[2]\n",
    "# n_s, b = Hist(datTree.t6_higgs_m[:,2][dat_VR], bins=mH_bins, ax=ax, color='black', density=1)\n",
    "# # ax.yaxis.set_major_formatter(FormatStrFormatter('%2.2f'))\n",
    "# ax.set_xlabel(r'$m_3$ [GeV]')\n",
    "# ax.set_ylabel('Fraction of Events')\n",
    "\n",
    "# plt.tight_layout()\n",
    "\n",
    "# fig.savefig(f'plots/dat_mH_VR.pdf')"
   ]
  },
  {
   "cell_type": "markdown",
   "metadata": {},
   "source": [
    "## Variable exploration"
   ]
  },
  {
   "cell_type": "code",
   "execution_count": 26,
   "metadata": {},
   "outputs": [],
   "source": [
    "# bins = np.linspace(0,7,100)\n",
    "\n",
    "# fig, axs = plt.subplots(nrows=1, ncols=3, figsize=(30,10))\n",
    "\n",
    "# ax = axs[0]\n",
    "# n,e = Hist(sigTree.t6_higgs_dr[:,0], bins=bins, ax=ax, density=1, label='Signal in SR')\n",
    "# n,e = Hist(datTree.t6_higgs_dr[:,0], bins=bins, ax=ax, density=1, label='Data in CR')\n",
    "\n",
    "# ax = axs[1]\n",
    "# n,e = Hist(sigTree.t6_higgs_dr[:,1], bins=bins, ax=ax, density=1, label='Signal in SR')\n",
    "# n,e = Hist(datTree.t6_higgs_dr[:,1], bins=bins, ax=ax, density=1, label='Data in CR')\n",
    "\n",
    "# ax = axs[2]\n",
    "# n,e = Hist(sigTree.t6_higgs_dr[:,2], bins=bins, ax=ax, density=1, label='Signal in SR')\n",
    "# n,e = Hist(datTree.t6_higgs_dr[:,2], bins=bins, ax=ax, density=1, label='Data in CR')\n",
    "\n",
    "# for i,ax in enumerate(axs):\n",
    "#     ax.set_xlabel(f'$H_{i} \\; \\Delta R_{{bb}}$')"
   ]
  },
  {
   "cell_type": "code",
   "execution_count": 27,
   "metadata": {},
   "outputs": [],
   "source": [
    "# bins = np.linspace(0,7,100)\n",
    "\n",
    "# fig, axs = plt.subplots(nrows=1, ncols=6, figsize=(60,10))\n",
    "\n",
    "# ax = axs[0]\n",
    "# n,e = Hist(sigTree.t6_jet_pt[:,0], bins=bins, ax=ax, density=1, label='Signal in SR')\n",
    "# n,e = Hist(datTree.t6_higgs_dr[:,0], bins=bins, ax=ax, density=1, label='Data in CR')\n",
    "\n",
    "# ax = axs[1]\n",
    "# n,e = Hist(sigTree.t6_higgs_dr[:,1], bins=bins, ax=ax, density=1, label='Signal in SR')\n",
    "# n,e = Hist(datTree.t6_higgs_dr[:,1], bins=bins, ax=ax, density=1, label='Data in CR')\n",
    "\n",
    "# ax = axs[2]\n",
    "# n,e = Hist(sigTree.t6_higgs_dr[:,2], bins=bins, ax=ax, density=1, label='Signal in SR')\n",
    "# n,e = Hist(datTree.t6_higgs_dr[:,2], bins=bins, ax=ax, density=1, label='Data in CR')\n",
    "\n",
    "# for i,ax in enumerate(axs):\n",
    "#     ax.set_xlabel(f'$H_{i} \\; \\Delta R_{{bb}}$')"
   ]
  },
  {
   "cell_type": "code",
   "execution_count": 28,
   "metadata": {},
   "outputs": [
    {
     "data": {
      "text/plain": [
       "<Array [[138, 58.5], [93.8, ... [78.1, 101]] type='43836 * var * float32'>"
      ]
     },
     "execution_count": 28,
     "metadata": {},
     "output_type": "execute_result"
    }
   ],
   "source": [
    "sigTree.t6_jet_pt[sigTree.t6_jet_higgsIdx == 1]"
   ]
  },
  {
   "cell_type": "markdown",
   "metadata": {},
   "source": [
    "## Average b-tag score"
   ]
  },
  {
   "cell_type": "markdown",
   "metadata": {},
   "source": [
    "Investigate control region definition: sum of b-tag score."
   ]
  },
  {
   "cell_type": "code",
   "execution_count": 29,
   "metadata": {},
   "outputs": [],
   "source": [
    "sig_sums = ak.sum(sigTree.t6_jet_btag, axis=1)[sig_SR]/6\n",
    "dat_sums = ak.sum(datTree.t6_jet_btag, axis=1)[dat_CR]/6\n",
    "\n",
    "n_sig, edges = np.histogram(sig_sums.to_numpy(), bins=score_bins)\n",
    "n_dat, edges = np.histogram(dat_sums.to_numpy(), bins=score_bins)"
   ]
  },
  {
   "cell_type": "code",
   "execution_count": 30,
   "metadata": {},
   "outputs": [],
   "source": [
    "sum6_eff = []\n",
    "sum6_rej = []\n",
    "\n",
    "for cut in edges[:-1]:\n",
    "    sum6_eff.append(n_sig[edges[:-1] >= cut].sum()/n_sig.sum())\n",
    "    sum6_rej.append(n_dat[edges[:-1] < cut].sum()/n_dat.sum())\n",
    "\n",
    "sum6_eff = np.append(1, np.asarray(sum6_eff))\n",
    "sum6_rej = np.asarray(sum6_rej)\n",
    "\n",
    "dx = sum6_eff[:-1] - sum6_eff[1:]\n",
    "auc = np.sum(sum6_rej*dx)\n",
    "sum6_rej = np.append(sum6_rej, 1)"
   ]
  },
  {
   "cell_type": "code",
   "execution_count": 31,
   "metadata": {},
   "outputs": [
    {
     "name": "stdout",
     "output_type": "stream",
     "text": [
      "0.7511308747987426 0.155126033675401\n",
      "0.24886912520125737 0.844873966324599\n"
     ]
    }
   ],
   "source": [
    "p_sig_hi = ak.sum(sig_sums >= 0.65)/len(sig_sums)\n",
    "p_sig_lo = ak.sum(sig_sums < 0.65)/len(sig_sums)\n",
    "\n",
    "p_bkg_hi = ak.sum(dat_sums >= 0.65)/len(dat_sums)\n",
    "p_bkg_lo = ak.sum(dat_sums < 0.65)/len(dat_sums)\n",
    "\n",
    "print(p_sig_hi,p_bkg_hi)\n",
    "print(p_sig_lo,p_bkg_lo)"
   ]
  },
  {
   "cell_type": "code",
   "execution_count": 32,
   "metadata": {},
   "outputs": [
    {
     "name": "stdout",
     "output_type": "stream",
     "text": [
      "0.66\n",
      "Optimal score cut = 0.66\n",
      "0.7252932607528942 0.12135100129520773\n",
      "0.2747067392471057 0.8786489987047923\n"
     ]
    }
   ],
   "source": [
    "opt_arg = (abs(sum6_eff-auc)+abs(sum6_rej-auc)).argmin()\n",
    "opt_cut = score_bins[opt_arg]\n",
    "print(opt_cut)\n",
    "# opt_cut = 0.64\n",
    "\n",
    "print(f\"Optimal score cut = {opt_cut}\")\n",
    "\n",
    "p_sig_hi = ak.sum(sig_sums >= opt_cut)/len(sig_sums)\n",
    "p_sig_lo = ak.sum(sig_sums < opt_cut)/len(sig_sums)\n",
    "\n",
    "p_bkg_hi = ak.sum(dat_sums >= opt_cut)/len(dat_sums)\n",
    "p_bkg_lo = ak.sum(dat_sums < opt_cut)/len(dat_sums)\n",
    "\n",
    "print(p_sig_hi,p_bkg_hi)\n",
    "print(p_sig_lo,p_bkg_lo)"
   ]
  },
  {
   "cell_type": "code",
   "execution_count": 33,
   "metadata": {},
   "outputs": [
    {
     "data": {
      "image/png": "[encoded data removed]",
      "text/plain": [
       "<Figure size 720x720 with 1 Axes>"
      ]
     },
     "metadata": {
      "needs_background": "light"
     },
     "output_type": "display_data"
    }
   ],
   "source": [
    "score_bins = np.linspace(0,1,101)\n",
    "\n",
    "fig, ax = plt.subplots()\n",
    "\n",
    "# fig.suptitle(sigTree.sample, x=.85, y=.95)\n",
    "\n",
    "# ax = axs[0]\n",
    "ax.set_title('First 6 Jets', loc='right')\n",
    "n_s, edges = Hist(x_bins(score_bins), weights=n_sig/n_sig.sum(), bins=score_bins, ax=ax, label='Signal (SR)', color='blue')\n",
    "n_data, edges = Hist(x_bins(score_bins), weights=n_dat/n_dat.sum(), bins=score_bins, ax=ax, label='Data (CR)', color='black')\n",
    "if n_s.max() > n_data.max(): nMax = n_s.max()\n",
    "else: nMax = n_data.max()\n",
    "ax.plot([opt_cut, opt_cut],[0,nMax*1.1],'gray')\n",
    "ax.legend(fontsize='smaller', loc=2)\n",
    "ax.set_xlabel(r'Normalized b-tag Sum')\n",
    "ax.set_ylabel('Fraction of Events')\n",
    "\n",
    "ax.text(0.0, 0.04, f'Signal below: {p_sig_lo*100:.0f}%\\nSignal below: {p_sig_hi*100:.0f}%', fontsize=18, color='blue')\n",
    "ax.text(0.0, 0.03, f'Data below: {p_bkg_lo*100:.0f}%\\nData below: {p_bkg_hi*100:.0f}%', fontsize=18)\n",
    "\n",
    "plt.tight_layout()\n",
    "\n",
    "# fig.savefig(f'plots/{sigTree.mXmY}_6bsum.pdf')"
   ]
  },
  {
   "cell_type": "code",
   "execution_count": 34,
   "metadata": {},
   "outputs": [],
   "source": [
    "# score_bins = np.linspace(0,1,101)\n",
    "\n",
    "# fig, axs = plt.subplots(nrows=1, ncols=2, figsize=(20,10))\n",
    "\n",
    "# # fig.suptitle(sigTree.sample, x=.85, y=.95)\n",
    "\n",
    "# ax = axs[0]\n",
    "# ax.set_title('First 6 Jets', loc='right')\n",
    "# n_s, edges = Hist(x_bins(score_bins), weights=n_sig/n_sig.sum(), bins=score_bins, ax=ax, label='Signal (SR)', color='blue')\n",
    "# n_data, edges = Hist(x_bins(score_bins), weights=n_data/n_data.sum(), bins=score_bins, ax=ax, label='Data (CR)', color='black')\n",
    "# if n_s.max() > n_data.max(): nMax = n_s.max()\n",
    "# else: nMax = n_data.max()\n",
    "# ax.plot([opt_cut, opt_cut],[0,nMax*1.1],'gray')\n",
    "# ax.legend(fontsize='smaller', loc=2)\n",
    "# ax.set_xlabel(r'Normalized b-tag Sum')\n",
    "# ax.set_ylabel('Fraction of Events')\n",
    "\n",
    "# ax = axs[1]\n",
    "# ax.set_title('First 6 Jets', loc='right')\n",
    "# ax.plot(sum6_eff, sum6_rej, linewidth=2)\n",
    "# ax.set_xlabel(r'Signal Efficiency')\n",
    "# ax.set_ylabel('Background Rejection')\n",
    "# dx = sum6_eff[:-1]-sum6_eff[1:]\n",
    "# auc = np.sum(sum6_rej[:-1]*dx)\n",
    "# bbox_props = dict(boxstyle=\"round,pad=0.3\", ec=\"k\", fc='white', lw=2)\n",
    "# t = ax.text(0.2, 0.1, f\"auc = {auc:.3f}\", ha=\"center\", va=\"center\", transform=ax.transAxes,\n",
    "#             # size=20,\n",
    "#             bbox=bbox_props)\n",
    "# ax.scatter(sum6_eff[::10], sum6_rej[::10])\n",
    "# ax.scatter(sum6_eff[opt_arg], sum6_rej[opt_arg])\n",
    "# print(opt_cut)\n",
    "\n",
    "# plt.tight_layout()\n",
    "\n",
    "# fig.savefig(f'plots/{sigTree.mXmY}_bsum_roc.pdf')"
   ]
  },
  {
   "cell_type": "code",
   "execution_count": 42,
   "metadata": {},
   "outputs": [
    {
     "data": {
      "text/plain": [
       "4863"
      ]
     },
     "execution_count": 42,
     "metadata": {},
     "output_type": "execute_result"
    }
   ],
   "source": [
    "#### DATA ####\n",
    "# score veto\n",
    "dat_ls_mask = ak.sum(datTree.t6_jet_btag, axis=1)/6 < opt_cut # ls\n",
    "dat_hs_mask = ak.sum(datTree.t6_jet_btag, axis=1)/6 >= opt_cut # hs\n",
    "\n",
    "# combination\n",
    "dat_CRls_mask = dat_6jNN_mask & dat_CR & dat_ls_mask\n",
    "dat_CRhs_mask = dat_6jNN_mask & dat_CR & dat_hs_mask\n",
    "dat_VRls_mask = dat_6jNN_mask & dat_VR & dat_ls_mask\n",
    "dat_VRhs_mask = dat_6jNN_mask & dat_VR & dat_hs_mask\n",
    "dat_SRls_mask = dat_6jNN_mask & dat_SR & dat_ls_mask\n",
    "\n",
    "n_dat_SRhs = ak.sum(dat_6jNN_mask & dat_SR & dat_hs_mask)\n",
    "n_dat_SRhs"
   ]
  },
  {
   "cell_type": "code",
   "execution_count": 36,
   "metadata": {},
   "outputs": [],
   "source": [
    "### SIGNAL ###\n",
    "# score veto\n",
    "sig_ls_mask = ak.sum(sigTree.t6_jet_btag, axis=1)/6 < opt_cut # ls\n",
    "sig_hs_mask = ak.sum(sigTree.t6_jet_btag, axis=1)/6 >= opt_cut # hs\n",
    "\n",
    "# combination\n",
    "sig_SRhs_mask = sig_SR & sig_hs_mask\n",
    "sig_SRls_mask = sig_SR & sig_ls_mask\n",
    "sig_VRhs_mask = sig_VR & sig_hs_mask\n",
    "sig_VRls_mask = sig_VR & sig_ls_mask\n",
    "sig_CRhs_mask = sig_CR & sig_hs_mask\n",
    "sig_CRls_mask = sig_CR & sig_ls_mask"
   ]
  },
  {
   "cell_type": "code",
   "execution_count": 37,
   "metadata": {},
   "outputs": [
    {
     "name": "stdout",
     "output_type": "stream",
     "text": [
      "648\n",
      "1712\n",
      "136\n",
      "226\n",
      "370\n",
      "428\n"
     ]
    }
   ],
   "source": [
    "print(int(ak.sum(sig_SRls_mask)*sigTree.scale))\n",
    "print(int(ak.sum(sig_SRhs_mask)*sigTree.scale))\n",
    "print(int(ak.sum(sig_VRls_mask)*sigTree.scale))\n",
    "print(int(ak.sum(sig_VRhs_mask)*sigTree.scale))\n",
    "print(int(ak.sum(sig_CRls_mask)*sigTree.scale))\n",
    "print(int(ak.sum(sig_CRhs_mask)*sigTree.scale))"
   ]
  },
  {
   "cell_type": "markdown",
   "metadata": {},
   "source": [
    "## Transfer Factor - Normalization"
   ]
  },
  {
   "cell_type": "markdown",
   "metadata": {},
   "source": [
    "A **transfer factor** is calculated and used to estimate the event yield in the **low-scoring** region "
   ]
  },
  {
   "cell_type": "code",
   "execution_count": 38,
   "metadata": {},
   "outputs": [
    {
     "data": {
      "text/plain": [
       "0.13811089692708925"
      ]
     },
     "execution_count": 38,
     "metadata": {},
     "output_type": "execute_result"
    }
   ],
   "source": [
    "TF = ak.sum(dat_CRhs_mask)/ak.sum(dat_CRls_mask)\n",
    "TF"
   ]
  },
  {
   "cell_type": "code",
   "execution_count": 39,
   "metadata": {},
   "outputs": [],
   "source": [
    "from colorama import Fore, Style"
   ]
  },
  {
   "cell_type": "code",
   "execution_count": 43,
   "metadata": {},
   "outputs": [
    {
     "name": "stdout",
     "output_type": "stream",
     "text": [
      "30796\n",
      "\u001b[31m4253\u001b[0m\n",
      "25167\n",
      "3920\n",
      "61733\n",
      "8526\n"
     ]
    }
   ],
   "source": [
    "print(ak.sum(dat_SRls_mask))\n",
    "print(Fore.RED + str(int(ak.sum(dat_SRls_mask)*TF)) + Style.RESET_ALL)\n",
    "# print(ak.sum(dat_SRhs_mask))\n",
    "print(ak.sum(dat_VRls_mask))\n",
    "print(ak.sum(dat_VRhs_mask))\n",
    "print(ak.sum(dat_CRls_mask))\n",
    "print(ak.sum(dat_CRhs_mask))"
   ]
  },
  {
   "cell_type": "markdown",
   "metadata": {},
   "source": [
    "Transfer Factor, TF"
   ]
  },
  {
   "cell_type": "markdown",
   "metadata": {},
   "source": [
    "## Use CRhs and CRls to observe variables"
   ]
  },
  {
   "cell_type": "code",
   "execution_count": null,
   "metadata": {},
   "outputs": [],
   "source": [
    "max_mass = 2000\n",
    "min_mass = 250"
   ]
  },
  {
   "cell_type": "code",
   "execution_count": null,
   "metadata": {},
   "outputs": [
    {
     "data": {
      "text/plain": [
       "array([   0.        ,   33.89830508,   67.79661017,  101.69491525,\n",
       "        135.59322034,  169.49152542,  203.38983051,  237.28813559,\n",
       "        271.18644068,  305.08474576,  338.98305085,  372.88135593,\n",
       "        406.77966102,  440.6779661 ,  474.57627119,  508.47457627,\n",
       "        542.37288136,  576.27118644,  610.16949153,  644.06779661,\n",
       "        677.96610169,  711.86440678,  745.76271186,  779.66101695,\n",
       "        813.55932203,  847.45762712,  881.3559322 ,  915.25423729,\n",
       "        949.15254237,  983.05084746, 1016.94915254, 1050.84745763,\n",
       "       1084.74576271, 1118.6440678 , 1152.54237288, 1186.44067797,\n",
       "       1220.33898305, 1254.23728814, 1288.13559322, 1322.03389831,\n",
       "       1355.93220339, 1389.83050847, 1423.72881356, 1457.62711864,\n",
       "       1491.52542373, 1525.42372881, 1559.3220339 , 1593.22033898,\n",
       "       1627.11864407, 1661.01694915, 1694.91525424, 1728.81355932,\n",
       "       1762.71186441, 1796.61016949, 1830.50847458, 1864.40677966,\n",
       "       1898.30508475, 1932.20338983, 1966.10169492, 2000.        ])"
      ]
     },
     "execution_count": 56,
     "metadata": {},
     "output_type": "execute_result"
    }
   ],
   "source": [
    "mBins"
   ]
  },
  {
   "cell_type": "code",
   "execution_count": null,
   "metadata": {},
   "outputs": [
    {
     "data": {
      "image/png": "[encoded data removed]",
      "text/plain": [
       "<Figure size 720x720 with 1 Axes>"
      ]
     },
     "metadata": {
      "needs_background": "light"
     },
     "output_type": "display_data"
    }
   ],
   "source": [
    "fig, ax = plt.subplots()\n",
    "\n",
    "dat_sums = ak.sum(datTree.t6_jet_btag, axis=1)/6\n",
    "\n",
    "n,xe,xy,im = Hist2d(datTree.t6_higgs_m[:,0][dat_CRls_mask], dat_sums[dat_CRls_mask], bins=(mBins, np.linspace(0,1.01,100)), ax=ax)"
   ]
  },
  {
   "cell_type": "code",
   "execution_count": null,
   "metadata": {},
   "outputs": [],
   "source": [
    "# bins = np.linspace(0,300,100)\n",
    "\n",
    "# fig, axs = plt.subplots(figsize=(30,15),nrows=2, ncols=3)\n",
    "\n",
    "# for i,ax in enumerate(axs.flat):\n",
    "#     n, e = Hist(datTree.t6_jet_pt[dat_CRls_mask][:,i], bins=bins, ax=ax, label='CR ls', density=1, color='k')\n",
    "#     n, e = Hist(datTree.t6_jet_pt[dat_CRhs_mask][:,i], bins=bins, ax=ax, label='Target', density=1, color='slategrey')\n",
    "#     ax.set_xlabel(rf'Jet {i} $p_T$ [GeV]')\n",
    "#     ax.set_ylabel('Fraction of Events')\n",
    "\n",
    "# fig.savefig(f'plots/dat_jet_pt.pdf')"
   ]
  },
  {
   "cell_type": "code",
   "execution_count": null,
   "metadata": {},
   "outputs": [],
   "source": [
    "# fig, axs = plt.subplots(figsize=(15,5), nrows=1, ncols=2)\n",
    "\n",
    "# ax = axs[0]\n",
    "# n, e = Hist(X.m[dat_CRls_mask], bins=np.linspace(0,max_mass,100), label='CR ls', ax=ax, color='k')\n",
    "# n, e = Hist(X.m[dat_CRhs_mask], bins=np.linspace(0,max_mass,100), ax=ax, label='Target', color='slategrey')\n",
    "# ax.set_xlabel(r'Six Jet $m_\\mathrm{inv}$ [GeV]')\n",
    "# ax.set_ylabel('Events')\n",
    "\n",
    "# ax = axs[1]\n",
    "# n, e = Hist(X.m[dat_CRls_mask], bins=np.linspace(0,max_mass,100), label='CR ls', ax=ax, density=1, color='k')\n",
    "# n, e = Hist(X.m[dat_CRhs_mask], bins=np.linspace(0,max_mass,100), ax=ax, label='Target', density=1, color='slategrey')\n",
    "# ax.set_xlabel(r'Six Jet $m_\\mathrm{inv}$ [GeV]')\n",
    "# ax.set_ylabel('Events')\n",
    "\n",
    "# plt.tight_layout()"
   ]
  },
  {
   "cell_type": "markdown",
   "metadata": {},
   "source": [
    "CRhs and CRls have similar shapes. Yay!"
   ]
  },
  {
   "cell_type": "markdown",
   "metadata": {},
   "source": [
    "## Estimate sensitivity using mX"
   ]
  },
  {
   "cell_type": "code",
   "execution_count": null,
   "metadata": {},
   "outputs": [],
   "source": [
    "mX = int(sigTree.sample.split(' ')[1])\n",
    "mY = int(sigTree.sample.split(' ')[4])"
   ]
  },
  {
   "cell_type": "code",
   "execution_count": null,
   "metadata": {},
   "outputs": [
    {
     "data": {
      "text/plain": [
       "<Array [721, 575, 703, 618, ... 751, 778, 589] type='43836 * float32'>"
      ]
     },
     "execution_count": 47,
     "metadata": {},
     "output_type": "execute_result"
    }
   ],
   "source": [
    "sig_X.M"
   ]
  },
  {
   "cell_type": "code",
   "execution_count": null,
   "metadata": {},
   "outputs": [
    {
     "data": {
      "text/plain": [
       "<Array [1.33e+03, 1.06e+03, ... 3.18e+03] type='61733 * float32'>"
      ]
     },
     "execution_count": 48,
     "metadata": {},
     "output_type": "execute_result"
    }
   ],
   "source": [
    "X.m[dat_CRls_mask]"
   ]
  },
  {
   "cell_type": "code",
   "execution_count": null,
   "metadata": {},
   "outputs": [
    {
     "data": {
      "text/plain": [
       "<matplotlib.legend.Legend at 0x7f42f81cbd30>"
      ]
     },
     "execution_count": 49,
     "metadata": {},
     "output_type": "execute_result"
    },
    {
     "name": "stderr",
     "output_type": "stream",
     "text": [
      "findfont: Font family ['Helvetica'] not found. Falling back to DejaVu Sans.\n",
      "findfont: Font family ['Helvetica'] not found. Falling back to DejaVu Sans.\n",
      "findfont: Font family ['Helvetica'] not found. Falling back to DejaVu Sans.\n"
     ]
    },
    {
     "data": {
      "image/png": "[encoded data removed]",
      "text/plain": [
       "<Figure size 720x720 with 1 Axes>"
      ]
     },
     "metadata": {
      "needs_background": "light"
     },
     "output_type": "display_data"
    }
   ],
   "source": [
    "fig, ax = plt.subplots()#nrows=2, ncols=1, gridspec={})\n",
    "\n",
    "ax.set_title('Data - CR')\n",
    "\n",
    "n_CRls, e = np.histogram(X.m[dat_CRls_mask].to_numpy(), bins=mBins)\n",
    "# print(n_CRls)\n",
    "n_CRls_transformed, e = Hist(x_bins(e), weights=n_CRls*TF, bins=mBins, ax=ax, label='Estimation')\n",
    "# n_CR, e = Hist(X.m[dat_CRls_mask], bins=mBins, ax=ax, label='CR ls')\n",
    "# B = n[(e[:-1]>xmin) & (e[:-1]<xmax)].sum()\n",
    "n_CRhs, e = Hist(X.m[dat_CRhs_mask].to_numpy(), bins=mBins, ax=ax, label='Target')\n",
    "# print(n_CRhs.sum())\n",
    "\n",
    "# ax.plot([xmin, xmin], [0, n.max()], color='k', alpha=0.6)\n",
    "# ax.plot([xmax, xmax], [0, n.max()], color='k', alpha=0.6)\n",
    "\n",
    "ax.set_xlabel(r'Six Jet $m_\\mathrm{inv}$ [GeV]')\n",
    "ax.set_ylabel('Events')\n",
    "ax.legend(loc=2)\n",
    "\n",
    "# fig.savefig(f'plots/{sigTree.mXmY}_data_VRls_v_VRhs.pdf')\n",
    "\n",
    "\n",
    "## SPLIT INTO HIGH AND LOW INV MASS"
   ]
  },
  {
   "cell_type": "code",
   "execution_count": null,
   "metadata": {},
   "outputs": [],
   "source": [
    "# fig, ax = plt.subplots()#nrows=2, ncols=1, gridspec={})\n",
    "\n",
    "# ax.set_title('Data - CR')\n",
    "\n",
    "# n_CRls_lo, e = np.histogram(X.m[dat_CR_lo_ls].to_numpy(), bins=mBins)\n",
    "# n_CRls_lo_transformed, e = Hist(x_bins(e), weights=n_CRls_lo*TF, bins=mBins, ax=ax, label='CR lo ls (renormalized)')\n",
    "# n_CRhs, e = Hist(X.m[dat_CR_lo_hs].to_numpy(), bins=mBins, ax=ax, label='CR lo hs')\n",
    "\n",
    "# n_CRls_hi, e = np.histogram(X.m[dat_CR_hi_ls].to_numpy(), bins=mBins)\n",
    "# n_CRls_hi_transformed, e = Hist(x_bins(e), weights=n_CRls_hi*TF, bins=mBins, ax=ax, label='CR hi ls (renormalized)')\n",
    "# n_CRhs, e = Hist(X.m[dat_CR_hi_hs].to_numpy(), bins=mBins, ax=ax, label='CR hi hs')\n",
    "\n",
    "\n",
    "# ax.set_xlabel(r'Six Jet $m_\\mathrm{inv}$ [GeV]')\n",
    "# ax.set_ylabel('Events')\n",
    "# ax.legend(loc=2)\n",
    "\n",
    "# # fig.savefig(f'plots/{sigTree.mXmY}_data_VRls_v_VRhs.pdf')"
   ]
  },
  {
   "cell_type": "code",
   "execution_count": null,
   "metadata": {},
   "outputs": [
    {
     "data": {
      "text/plain": [
       "Text(0, 1, 'Events')"
      ]
     },
     "execution_count": 51,
     "metadata": {},
     "output_type": "execute_result"
    },
    {
     "data": {
      "image/png": "[encoded data removed]",
      "text/plain": [
       "<Figure size 720x720 with 1 Axes>"
      ]
     },
     "metadata": {
      "needs_background": "light"
     },
     "output_type": "display_data"
    }
   ],
   "source": [
    "fig, ax = plt.subplots()#nrows=2, ncols=1, gridspec={})\n",
    "\n",
    "ax.set_title('Data - VR - Normalization')\n",
    "\n",
    "n_VRhs, e = Hist(X.m[dat_VRhs_mask].to_numpy(), bins=mBins, ax=ax, label='Target')\n",
    "n_VRls, e = np.histogram(X.m[dat_VRls_mask].to_numpy(), bins=mBins)\n",
    "n_VRls_transformed, e = Hist(x_bins(e), weights=n_VRls*TF, bins=mBins, ax=ax, label='Estimation')\n",
    "\n",
    "ax.set_xlabel(r'Six Jet $m_\\mathrm{inv}$ [GeV]')\n",
    "ax.set_ylabel('Events')\n",
    "\n",
    "# fig.savefig(f'plots/{sigTree.mXmY}_data_VRls_v_VRhs.pdf')"
   ]
  },
  {
   "cell_type": "code",
   "execution_count": null,
   "metadata": {},
   "outputs": [],
   "source": [
    "# fig, ax = plt.subplots()#nrows=2, ncols=1, gridspec={})\n",
    "\n",
    "# ax.set_title('Data - VR - Normalization')\n",
    "\n",
    "# n_VRls_lo, e = np.histogram(X.m[dat_VR_lo_ls].to_numpy(), bins=mBins)\n",
    "# n_VRls_lo_transformed, e = Hist(x_bins(e), weights=n_VRls_lo*TF, bins=mBins, ax=ax, label='VR lo ls (renormalized)')\n",
    "# n_VRhs_lo, e = Hist(X.m[dat_VR_lo_hs].to_numpy(), bins=mBins, ax=ax, label='VR lo hs')\n",
    "\n",
    "# n_VRls_hi, e = np.histogram(X.m[dat_VR_hi_ls].to_numpy(), bins=mBins)\n",
    "# n_VRls_hi_transformed, e = Hist(x_bins(e), weights=n_VRls_hi*TF, bins=mBins, ax=ax, label='VR hi ls (renormalized)')\n",
    "# n_VRhs_hi, e = Hist(X.m[dat_VR_hi_hs].to_numpy(), bins=mBins, ax=ax, label='VR hi hs')\n",
    "\n",
    "# ax.set_xlabel(r'Six Jet $m_\\mathrm{inv}$ [GeV]')\n",
    "# ax.set_ylabel('Events')\n",
    "\n",
    "# # fig.savefig(f'plots/{sigTree.mXmY}_data_VRls_v_VRhs.pdf')"
   ]
  },
  {
   "cell_type": "markdown",
   "metadata": {},
   "source": [
    "## BDT-Reweighting"
   ]
  },
  {
   "cell_type": "code",
   "execution_count": null,
   "metadata": {},
   "outputs": [],
   "source": [
    "from hep_ml import reweight\n",
    "from pandas import DataFrame"
   ]
  },
  {
   "cell_type": "code",
   "execution_count": null,
   "metadata": {},
   "outputs": [
    {
     "data": {
      "text/plain": [
       "<Array [[157, 147, 133], ... 84.8, 82.1, 80.6]] type='434815 * var * float32'>"
      ]
     },
     "execution_count": 36,
     "metadata": {},
     "output_type": "execute_result"
    }
   ],
   "source": [
    "datTree.t6_higgs_pt"
   ]
  },
  {
   "cell_type": "code",
   "execution_count": null,
   "metadata": {},
   "outputs": [],
   "source": [
    "def get_df(mask):\n",
    "    H1_b1_pt = ak.sort(datTree.t6_jet_pt[datTree.t6_jet_higgsIdx == 0], axis=1, ascending=False)[:,0][mask].to_numpy()\n",
    "    H1_b2_pt = ak.sort(datTree.t6_jet_pt[datTree.t6_jet_higgsIdx == 0], axis=1, ascending=False)[:,1][mask].to_numpy()\n",
    "    H2_b1_pt = ak.sort(datTree.t6_jet_pt[datTree.t6_jet_higgsIdx == 1], axis=1, ascending=False)[:,0][mask].to_numpy()\n",
    "    H2_b2_pt = ak.sort(datTree.t6_jet_pt[datTree.t6_jet_higgsIdx == 1], axis=1, ascending=False)[:,1][mask].to_numpy()\n",
    "    H3_b1_pt = ak.sort(datTree.t6_jet_pt[datTree.t6_jet_higgsIdx == 2], axis=1, ascending=False)[:,0][mask].to_numpy()\n",
    "    H3_b2_pt = ak.sort(datTree.t6_jet_pt[datTree.t6_jet_higgsIdx == 2], axis=1, ascending=False)[:,1][mask].to_numpy()\n",
    "    H1_pt = datTree.t6_higgs_pt[:,0][mask].to_numpy()\n",
    "    H2_pt = datTree.t6_higgs_pt[:,1][mask].to_numpy()\n",
    "    H3_pt = datTree.t6_higgs_pt[:,2][mask].to_numpy()\n",
    "    H1_eta = datTree.t6_higgs_eta[:,0][mask].to_numpy()\n",
    "    H2_eta = datTree.t6_higgs_eta[:,1][mask].to_numpy()\n",
    "    H3_eta = datTree.t6_higgs_eta[:,2][mask].to_numpy()\n",
    "    H1_dr = datTree.t6_higgs_dr[:,0][mask].to_numpy()\n",
    "    H2_dr = datTree.t6_higgs_dr[:,1][mask].to_numpy()\n",
    "    H3_dr = datTree.t6_higgs_dr[:,2][mask].to_numpy()\n",
    "\n",
    "    data = np.column_stack((H1_b1_pt, H1_b2_pt, H2_b1_pt, H2_b2_pt, H3_b1_pt, H3_b2_pt, H1_pt, H2_pt, H3_pt, H1_dr, H2_dr, H3_dr, H1_eta, H2_eta, H3_eta))\n",
    "\n",
    "    cols = ['H1 b1 pt','H1 b2 pt','H2 b1 pt','H2 b2 pt','H3 b1 pt','H3 b1 pt','H1 pt','H2 pt','H3 pt','H1 dr','H2 dr','H3 dr','H1 eta','H2 eta','H3 eta']\n",
    "\n",
    "    df = DataFrame(data=data, columns=cols)\n",
    "\n",
    "    return df"
   ]
  },
  {
   "cell_type": "code",
   "execution_count": null,
   "metadata": {},
   "outputs": [],
   "source": [
    "df_crls = get_df(dat_CRls_mask)\n",
    "df_crhs = get_df(dat_CRhs_mask)\n",
    "df_vrls = get_df(dat_VRls_mask)\n",
    "df_vrhs = get_df(dat_VRhs_mask)"
   ]
  },
  {
   "cell_type": "code",
   "execution_count": null,
   "metadata": {},
   "outputs": [],
   "source": [
    "ls_weights = np.ones(len(df_crls))*TF\n",
    "hs_weights = np.ones(len(df_crhs))"
   ]
  },
  {
   "cell_type": "code",
   "execution_count": null,
   "metadata": {},
   "outputs": [
    {
     "name": "stdout",
     "output_type": "stream",
     "text": [
      "[0.1381109 0.1381109 0.1381109 ... 0.1381109 0.1381109 0.1381109]\n",
      "[1. 1. 1. ... 1. 1. 1.]\n"
     ]
    }
   ],
   "source": [
    "print(ls_weights)\n",
    "print(hs_weights)"
   ]
  },
  {
   "cell_type": "code",
   "execution_count": null,
   "metadata": {},
   "outputs": [],
   "source": [
    "# A set of BDT arguments borrowed from 4b analysis\n",
    "# Nestimators, learningRate, maxDepth, minLeaves, GB['subsample'], randomState\n",
    "args = [40, 0.1, 3, 300, 0.6, 2020]"
   ]
  },
  {
   "cell_type": "code",
   "execution_count": null,
   "metadata": {},
   "outputs": [
    {
     "data": {
      "text/plain": [
       "FoldingReweighter(base_reweighter=GBReweighter(gb_args={'subsample': 0.6},\n",
       "                                               learning_rate=0.1,\n",
       "                                               min_samples_leaf=300),\n",
       "                  random_state=2020, verbose=False)"
      ]
     },
     "execution_count": 42,
     "metadata": {},
     "output_type": "execute_result"
    }
   ],
   "source": [
    "np.random.seed(args[5]) #Fix any random seed using numpy arrays\n",
    "reweighter_base = reweight.GBReweighter(n_estimators=args[0], learning_rate=args[1], max_depth=args[2], min_samples_leaf=args[3],gb_args={'subsample': args[4]})\n",
    "reweighter = reweight.FoldingReweighter(reweighter_base, random_state=args[5], n_folds=2, verbose=False)\n",
    "reweighter.fit(df_crls,df_crhs,ls_weights,hs_weights)"
   ]
  },
  {
   "cell_type": "code",
   "execution_count": null,
   "metadata": {},
   "outputs": [
    {
     "name": "stdout",
     "output_type": "stream",
     "text": [
      "Target VR = 3920\n"
     ]
    }
   ],
   "source": [
    "print(f\"Target VR = {ak.sum(dat_VRhs_mask)}\")"
   ]
  },
  {
   "cell_type": "code",
   "execution_count": null,
   "metadata": {},
   "outputs": [
    {
     "data": {
      "text/plain": [
       "3475.836942964055"
      ]
     },
     "execution_count": 44,
     "metadata": {},
     "output_type": "execute_result"
    }
   ],
   "source": [
    "ls_weights = TF*ak.sum(dat_VRls_mask)\n",
    "ls_weights"
   ]
  },
  {
   "cell_type": "code",
   "execution_count": null,
   "metadata": {},
   "outputs": [],
   "source": [
    "ws_unnormalized = reweighter.predict_weights(df_crls,ls_weights,lambda x: np.mean(x, axis=0))\n",
    "ws_unnormalized_vr = reweighter.predict_weights(df_vrls,np.ones(len(df_vrls))*TF,lambda x: np.mean(x, axis=0))"
   ]
  },
  {
   "cell_type": "code",
   "execution_count": null,
   "metadata": {},
   "outputs": [
    {
     "data": {
      "text/plain": [
       "array([0.15416274, 0.15437665, 0.15265462, ..., 0.14133889, 0.15900563,\n",
       "       0.1343679 ])"
      ]
     },
     "execution_count": 50,
     "metadata": {},
     "output_type": "execute_result"
    }
   ],
   "source": [
    "ws_unnormalized_vr"
   ]
  },
  {
   "cell_type": "code",
   "execution_count": null,
   "metadata": {},
   "outputs": [
    {
     "data": {
      "text/plain": [
       "3730.9670243948326"
      ]
     },
     "execution_count": 51,
     "metadata": {},
     "output_type": "execute_result"
    }
   ],
   "source": [
    "ws_unnormalized_vr.sum()"
   ]
  },
  {
   "cell_type": "code",
   "execution_count": null,
   "metadata": {},
   "outputs": [
    {
     "data": {
      "text/plain": [
       "Text(0, 1, 'Events')"
      ]
     },
     "execution_count": 67,
     "metadata": {},
     "output_type": "execute_result"
    },
    {
     "data": {
      "image/png": "[encoded data removed]",
      "text/plain": [
       "<Figure size 720x720 with 1 Axes>"
      ]
     },
     "metadata": {
      "needs_background": "light"
     },
     "output_type": "display_data"
    }
   ],
   "source": [
    "fig, ax = plt.subplots()#nrows=2, ncols=1, gridspec={})\n",
    "\n",
    "ax.set_title('Data - CR')\n",
    "\n",
    "n_CRhs, e = Hist(X.m[dat_CRhs_mask], bins=mBins, ax=ax, label='Target')\n",
    "n_CRls_transformed, e = Hist(X.m[dat_CRls_mask], weights=ws_unnormalized, bins=mBins, ax=ax, label='Estimation')\n",
    "\n",
    "ax.set_xlabel(r'Six Jet $m_\\mathrm{inv}$ [GeV]')\n",
    "ax.set_ylabel('Events')\n",
    "# ax.legend()\n",
    "\n",
    "# fig.savefig(f'plots/{sigTree.mXmY}_data_VRls_v_VRhs.pdf')"
   ]
  },
  {
   "cell_type": "code",
   "execution_count": null,
   "metadata": {},
   "outputs": [
    {
     "name": "stderr",
     "output_type": "stream",
     "text": [
      "/tmp/ipykernel_20616/468359908.py:47: UserWarning: This figure includes Axes that are not compatible with tight_layout, so results might be incorrect.\n",
      "  plt.tight_layout()\n"
     ]
    },
    {
     "data": {
      "image/png": "[encoded data removed]",
      "text/plain": [
       "<Figure size 1440x864 with 4 Axes>"
      ]
     },
     "metadata": {
      "needs_background": "light"
     },
     "output_type": "display_data"
    }
   ],
   "source": [
    "# start with a square Figure\n",
    "fig = plt.figure(figsize=(20, 12))\n",
    "\n",
    "# Add a gridspec with two rows and two columns and a ratio of 2 to 7 between\n",
    "# the size of the marginal axes and the main axes in both directions.\n",
    "# Also adjust the subplot parameters for a square plot.\n",
    "gs = fig.add_gridspec(2, 2,  width_ratios=(1, 1), height_ratios=(7, 2),\n",
    "                      left=0.1, right=0.9, bottom=0.1, top=0.9,\n",
    "                      wspace=0.15, hspace=0.05)\n",
    "\n",
    "ax = fig.add_subplot(gs[0,0])\n",
    "\n",
    "ax.set_title(\"Transfer Factor\")\n",
    "\n",
    "n_VRhs, e = Hist(X.m[dat_VRhs_mask], bins=mBins, ax=ax, label='Target')\n",
    "n_VRls, e = np.histogram(X.m[dat_VRls_mask].to_numpy(), bins=mBins)\n",
    "n_VRls_TF, e = Hist(x_bins(mBins), weights=n_VRls*TF, bins=mBins, ax=ax, label='Estimation')\n",
    "\n",
    "ax.set_ylabel('Events')\n",
    "ax.tick_params(axis=\"x\", labelbottom=False)\n",
    "\n",
    "ax = fig.add_subplot(gs[1,0], sharex=ax)\n",
    "\n",
    "ratio = np.where(n_VRls_TF != 0, n_VRhs/n_VRls_TF, 0)\n",
    "ax.scatter(x=x_bins(e), y=ratio, marker='_', color='k')\n",
    "ax.plot(x_bins(e), np.ones_like(x_bins(e)), color='grey', linestyle='--')\n",
    "ax.ticklabel_format(axis='y', style='plain')\n",
    "ax.set_xlabel(r'Six Jet $m_\\mathrm{inv}$ [GeV]')\n",
    "\n",
    "ax = fig.add_subplot(gs[0,1])\n",
    "\n",
    "ax.set_title(\"BDT Reweighting\")\n",
    "\n",
    "n_VRhs, e = Hist(X.m[dat_VRhs_mask].to_numpy(), bins=mBins, ax=ax, label='Target')\n",
    "n_VRls_transformed, e = Hist(X.m[dat_VRls_mask], weights=ws_unnormalized_vr, bins=mBins, ax=ax, label='Estimation')\n",
    "\n",
    "ax.tick_params(axis=\"x\", labelbottom=False)\n",
    "\n",
    "ax = fig.add_subplot(gs[1,1], sharex=ax)\n",
    "\n",
    "ratio = np.where(n_VRls_transformed != 0, n_VRhs/n_VRls_transformed, 0)\n",
    "ax.scatter(x_bins(e), ratio, marker='_', color='k')\n",
    "ax.plot(x_bins(e), np.ones_like(x_bins(e)), color='grey', linestyle='--')\n",
    "ax.ticklabel_format(axis='y', style='plain')\n",
    "ax.set_xlabel(r'Six Jet $m_\\mathrm{inv}$ [GeV]')\n",
    "\n",
    "plt.tight_layout()\n",
    "\n",
    "fig.savefig(\"plots/Data/VR_BDT.pdf\", bbox_inches='tight')"
   ]
  },
  {
   "cell_type": "code",
   "execution_count": null,
   "metadata": {},
   "outputs": [],
   "source": [
    "n_dat_SRls, _ = np.histogram(X.m[dat_SRls_mask].to_numpy(), bins=mBins)\n",
    "\n",
    "n_dat_SRls_transformed = n_dat_SRls*TF"
   ]
  },
  {
   "cell_type": "code",
   "execution_count": null,
   "metadata": {},
   "outputs": [
    {
     "name": "stdout",
     "output_type": "stream",
     "text": [
      "Welcome to JupyROOT 6.22/08\n"
     ]
    }
   ],
   "source": [
    "import ROOT\n",
    "from array import array"
   ]
  },
  {
   "cell_type": "code",
   "execution_count": null,
   "metadata": {},
   "outputs": [],
   "source": [
    "n_sig_SRhs, _ = np.histogram(sig_X.m[sig_SRhs_mask].to_numpy(), bins=mBins)\n",
    "n_sig_SRhs = n_sig_SRhs * sigTree.scale"
   ]
  },
  {
   "cell_type": "code",
   "execution_count": null,
   "metadata": {},
   "outputs": [],
   "source": [
    "assert len(n_dat_SRls_transformed) == len(n_sig_SRhs)"
   ]
  },
  {
   "cell_type": "markdown",
   "metadata": {},
   "source": [
    "## ROOT hist"
   ]
  },
  {
   "cell_type": "code",
   "execution_count": null,
   "metadata": {},
   "outputs": [
    {
     "name": "stdout",
     "output_type": "stream",
     "text": [
      "Data 4242.490531806327\n",
      "Signal 1712.5466666666675\n"
     ]
    },
    {
     "data": {
      "image/png": "[encoded data removed]",
      "text/plain": [
       "<IPython.core.display.Image object>"
      ]
     },
     "metadata": {},
     "output_type": "display_data"
    }
   ],
   "source": [
    "try: del canvas, h_sig, h_sig1, h_sig2, h_sig4, h_dat\n",
    "except: pass\n",
    "\n",
    "canvas = ROOT.TCanvas('c1','c1', 600, 600)\n",
    "canvas.SetFrameLineWidth(3)\n",
    "\n",
    "h_dat = ROOT.TH1D(\"h_dat\",\";m_{X} [GeV];Events\",len(n_dat_SRls_transformed),array('d',list(e)))\n",
    "h_sig = ROOT.TH1D(\"h_sig\",\";m_{X} [GeV];Events\",len(n_sig_SRhs),array('d',list(e)))\n",
    "# h_sig1 = ROOT.TH1D(\"h_sig1\",\";m_{X} [GeV];Events\",len(n_sig1_SRhs),array('d',list(e)))\n",
    "# h_sig2 = ROOT.TH1D(\"h_sig2\",\";m_{X} [GeV];Events\",len(n_sig2_SRhs),array('d',list(e)))\n",
    "# h_sig4 = ROOT.TH1D(\"h_sig4\",\";m_{X} [GeV];Events\",len(n_sig4_SRhs),array('d',list(e)))\n",
    "\n",
    "# for i,(bin_sig,bin_dat,bin_sig1,bin_sig2,bin_sig4) in enumerate(zip(n_sig_SRhs, n_dat_SRls_transformed, n_sig1_SRhs,n_sig2_SRhs,n_sig4_SRhs)):\n",
    "for i,(bin_sig,bin_dat) in enumerate(zip(n_sig_SRhs, n_dat_SRls_transformed)):\n",
    "    h_dat.SetBinContent(i+1, bin_dat)\n",
    "    h_sig.SetBinContent(i+1, bin_sig)\n",
    "    # h_sig1.SetBinContent(i+1, bin_sig1)\n",
    "    # h_sig2.SetBinContent(i+1, bin_sig2)\n",
    "    # h_sig4.SetBinContent(i+1, bin_sig4)\n",
    "\n",
    "h_dat.Draw(\"hist\")\n",
    "h_sig.Draw(\"hist same\")\n",
    "# h_sig4.Draw(\"hist same\")\n",
    "# h_sig2.Draw(\"hist same\")\n",
    "# h_sig1.Draw(\"hist same\")\n",
    "h_dat.SetLineColor(1)\n",
    "h_sig.SetLineColor(ROOT.kBlue + 1)\n",
    "# h_sig4.SetLineColor(ROOT.kGreen + 1)\n",
    "# h_sig2.SetLineColor(ROOT.kViolet + 2)\n",
    "# h_sig1.SetLineColor(ROOT.kRed - 3)\n",
    "# h_dat.SetLineWidth(2)\n",
    "h_sig.SetLineWidth(2)\n",
    "# h_sig1.SetLineWidth(2)\n",
    "# h_sig2.SetLineWidth(2)\n",
    "# h_sig4.SetLineWidth(2)\n",
    "# h_sig.Scale(0.5)\n",
    "# h_sig1.Scale(0.5)\n",
    "# h_sig2.Scale(0.5)\n",
    "# h_sig4.Scale(0.5)\n",
    "canvas.Draw()\n",
    "print(\"Data\",h_dat.Integral())\n",
    "print(\"Signal\",h_sig.Integral())\n",
    "\n",
    "ROOT.gStyle.SetOptStat(0)\n",
    "leg = ROOT.TLegend(0.4, 0.65, 0.88, 0.88)\n",
    "leg.SetFillStyle(0)\n",
    "leg.SetBorderSize(0)\n",
    "leg.SetTextSize(0.03)\n",
    "leg.AddEntry(h_dat, \"Background\", \"l\")\n",
    "leg.AddEntry(h_sig, \"Signal, m_{X},m_{Y} = 700, 400 GeV\", \"l\")\n",
    "# leg.AddEntry(h_sig4, \"Signal, m_{X},m_{Y} = 600, 400 GeV\", \"l\")\n",
    "# leg.AddEntry(h_sig2, \"Signal, m_{X},m_{Y} = 500, 300 GeV\", \"l\")\n",
    "# leg.AddEntry(h_sig1, \"Signal, m_{X},m_{Y} = 450, 300 GeV\", \"l\")\n",
    "leg.Draw()\n",
    "\n",
    "# canvas.Print(f\"plots/{sigTree.mXmY}_SR.pdf)\",\"Title:Signal Region\");\n",
    "# canvas.Print(f\"plots/All_SR.pdf)\",\"Title:Signal Region\");\n",
    "\n",
    "# fout = ROOT.TFile(\"mass_info/{sigTree.mXmY}_mX.root\",\"recreate\")\n",
    "# fout = ROOT.TFile(\"mass_info/all_sig_mX.root\",\"recreate\")\n",
    "# fout.cd()\n",
    "# h_dat.Write()\n",
    "# h_sig.Write()\n",
    "# fout.Close()"
   ]
  },
  {
   "cell_type": "code",
   "execution_count": null,
   "metadata": {},
   "outputs": [
    {
     "data": {
      "text/plain": [
       "'mX_700_mY_400'"
      ]
     },
     "execution_count": 101,
     "metadata": {},
     "output_type": "execute_result"
    }
   ],
   "source": [
    "sigTree.mXmY"
   ]
  },
  {
   "cell_type": "code",
   "execution_count": null,
   "metadata": {},
   "outputs": [
    {
     "ename": "NameError",
     "evalue": "name 'B' is not defined",
     "output_type": "error",
     "traceback": [
      "\u001b[0;31m---------------------------------------------------------------------------\u001b[0m",
      "\u001b[0;31mNameError\u001b[0m                                 Traceback (most recent call last)",
      "\u001b[0;32m/tmp/ipykernel_21213/706033687.py\u001b[0m in \u001b[0;36m<module>\u001b[0;34m\u001b[0m\n\u001b[0;32m----> 1\u001b[0;31m \u001b[0msigma\u001b[0m \u001b[0;34m=\u001b[0m \u001b[0;36m2\u001b[0m\u001b[0;34m*\u001b[0m\u001b[0mnp\u001b[0m\u001b[0;34m.\u001b[0m\u001b[0msqrt\u001b[0m\u001b[0;34m(\u001b[0m\u001b[0mB\u001b[0m\u001b[0;34m)\u001b[0m\u001b[0;34m\u001b[0m\u001b[0;34m\u001b[0m\u001b[0m\n\u001b[0m\u001b[1;32m      2\u001b[0m \u001b[0mmu\u001b[0m \u001b[0;34m=\u001b[0m \u001b[0;36m2\u001b[0m\u001b[0;34m*\u001b[0m\u001b[0mnp\u001b[0m\u001b[0;34m.\u001b[0m\u001b[0msqrt\u001b[0m\u001b[0;34m(\u001b[0m\u001b[0mB\u001b[0m\u001b[0;34m)\u001b[0m\u001b[0;34m/\u001b[0m\u001b[0mS\u001b[0m\u001b[0;34m\u001b[0m\u001b[0;34m\u001b[0m\u001b[0m\n\u001b[1;32m      3\u001b[0m \u001b[0msensitivity\u001b[0m \u001b[0;34m=\u001b[0m \u001b[0msigTree\u001b[0m\u001b[0;34m.\u001b[0m\u001b[0mxsec\u001b[0m\u001b[0;34m*\u001b[0m\u001b[0mmu\u001b[0m\u001b[0;34m\u001b[0m\u001b[0;34m\u001b[0m\u001b[0m\n",
      "\u001b[0;31mNameError\u001b[0m: name 'B' is not defined"
     ]
    }
   ],
   "source": [
    "# sigma = 2*np.sqrt(B)\n",
    "# mu = 2*np.sqrt(B)/S\n",
    "# sensitivity = sigTree.xsec*mu"
   ]
  },
  {
   "cell_type": "code",
   "execution_count": null,
   "metadata": {},
   "outputs": [
    {
     "name": "stdout",
     "output_type": "stream",
     "text": [
      "mX_700_mY_400\n",
      "    Number of signal events = 1045\n",
      "Number of background events = 678\n",
      "    Standard Deviation of B = 52\n",
      "                         mu = 0.050\n",
      "                      limit = 0.015 pb\n"
     ]
    }
   ],
   "source": [
    "# print(sigTree.mXmY)\n",
    "# print(f\"    Number of signal events = {int(S)}\")\n",
    "# print(f\"Number of background events = {int(B)}\")\n",
    "# print(f\"    Standard Deviation of B = {int(sigma)}\")\n",
    "# print(f\"                         mu = {mu:.3f}\")\n",
    "# print(f\"                      limit = {sensitivity:.3f} pb\")"
   ]
  },
  {
   "cell_type": "code",
   "execution_count": null,
   "metadata": {},
   "outputs": [],
   "source": [
    "# lines = [\n",
    "#     sigTree.mXmY + '\\n',\n",
    "#     f\"    Number of signal events = {int(S)}\\n\",\n",
    "#     f\"Number of background events = {int(B)}\\n\",\n",
    "#     f\"    Standard Deviation of B = {int(sigma)}\\n\",\n",
    "#     f\"                         mu = {mu:.3f}\\n\",\n",
    "#     f\"                      limit = {sensitivity:.3f} pb\"]"
   ]
  },
  {
   "cell_type": "code",
   "execution_count": null,
   "metadata": {},
   "outputs": [],
   "source": [
    "# with open(f\"mass_info/{sigTree.mXmY}.txt\",\"w\") as f:\n",
    "#     f.writelines(lines)"
   ]
  },
  {
   "cell_type": "markdown",
   "metadata": {},
   "source": [
    "## Region Chart"
   ]
  },
  {
   "cell_type": "code",
   "execution_count": null,
   "metadata": {},
   "outputs": [],
   "source": [
    "from matplotlib.colors import ListedColormap"
   ]
  },
  {
   "cell_type": "code",
   "execution_count": null,
   "metadata": {},
   "outputs": [
    {
     "name": "stderr",
     "output_type": "stream",
     "text": [
      "findfont: Font family ['cursive'] not found. Falling back to DejaVu Sans.\n"
     ]
    },
    {
     "data": {
      "image/png": "[encoded data removed]",
      "text/plain": [
       "<Figure size 720x720 with 1 Axes>"
      ]
     },
     "metadata": {
      "needs_background": "light"
     },
     "output_type": "display_data"
    }
   ],
   "source": [
    "fig, ax = plt.subplots()\n",
    "\n",
    "ubound = 250\n",
    "lbound = 0\n",
    "\n",
    "hx = [30] + [75]*2 + [125]*3 + [175]*2 + [200]\n",
    "hy = [0.5]*len(hx)\n",
    "hx += [30]*4 + [75]*5 + [125]*6 + [175]*5 + [200]*4\n",
    "hy += [0.75]*24\n",
    "\n",
    "hx, hy = np.asarray(hx), np.asarray(hy)\n",
    "\n",
    "xbins = np.array((lbound,VR_lo,SR_lo,SR_hi,VR_hi,ubound))\n",
    "ybins = np.array((0,0.66,1.0))\n",
    "\n",
    "# ax.hist2d(hx, hy, bins=(xbins,ybins))\n",
    "cmp = ListedColormap(['orange', 'steelblue', (22/255, 160/255, 134/255, 1), 'gold', (53/255, 153/255, 219/255, 1), (28/255, 188/255, 155/255, 1)])\n",
    "n,ex,ey,im = Hist2d(hx, hy, bins=(xbins,ybins), ax=ax, cmap=cmp)\n",
    "\n",
    "ax.set_ylabel('Average b-tag score')\n",
    "ax.set_xlabel(r'$m_1$,$m_2$,$m_3$ [GeV]')\n",
    "\n",
    "txt_CR_lo = np.average((lbound,VR_lo))\n",
    "txt_VR_lo = np.average((VR_lo,SR_lo))\n",
    "txt_VR_hi = np.average((SR_hi,VR_hi))\n",
    "txt_CR_hi = np.average((ubound,VR_hi))\n",
    "\n",
    "ax.text(txt_CR_lo, 0.33, 'CR\\nlow', ha='center', va='center')\n",
    "ax.text(txt_CR_lo, 0.83, 'CR\\nhigh', ha='center', va='center')\n",
    "ax.text(txt_VR_lo, 0.33, 'VR\\nlow', ha='center', va='center')\n",
    "ax.text(txt_VR_lo, 0.83, 'VR\\nhigh', ha='center', va='center')\n",
    "ax.text(125, 0.33, 'SR\\nlow', ha='center', va='center')\n",
    "ax.text(125, 0.83, 'SR\\nhigh', ha='center', va='center')\n",
    "ax.text(txt_VR_hi, 0.33, 'VR\\nlow', ha='center', va='center')\n",
    "ax.text(txt_VR_hi, 0.83, 'VR\\nhigh', ha='center', va='center')\n",
    "ax.text(txt_CR_hi, 0.33, 'CR\\nlow', ha='center', va='center')\n",
    "ax.text(txt_CR_hi, 0.83, 'CR\\nhigh', ha='center', va='center')\n",
    "\n",
    "ax.minorticks_off()\n",
    "ax.set_xticks(ticks=[lbound,100,125,150,185,ubound])\n",
    "ax.set_yticks(ticks=[0, 0.66, 1.0])\n",
    "\n",
    "fig.savefig(\"region_diagram.pdf\",bbox_inches='tight')"
   ]
  },
  {
   "cell_type": "code",
   "execution_count": null,
   "metadata": {},
   "outputs": [],
   "source": []
  }
 ],
 "metadata": {
  "interpreter": {
   "hash": "5df4d1b2ce696ef8a7cc914f733ed0eed40caa2570f001e67a5aef7cf7cbd879"
  },
  "kernelspec": {
   "display_name": "Python 3.8.8 64-bit ('work': conda)",
   "language": "python",
   "name": "python3"
  },
  "language_info": {
   "codemirror_mode": {
    "name": "ipython",
    "version": 3
   },
   "file_extension": ".py",
   "mimetype": "text/x-python",
   "name": "python",
   "nbconvert_exporter": "python",
   "pygments_lexer": "ipython3",
   "version": "3.8.8"
  },
  "orig_nbformat": 4
 },
 "nbformat": 4,
 "nbformat_minor": 2
}
