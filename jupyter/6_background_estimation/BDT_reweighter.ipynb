{
 "cells": [
  {
   "cell_type": "code",
   "execution_count": 1,
   "metadata": {},
   "outputs": [],
   "source": [
    "from utils.fileUtils.sr import NMSSM_MX_700_MY_400"
   ]
  },
  {
   "cell_type": "code",
   "execution_count": 2,
   "metadata": {},
   "outputs": [],
   "source": [
    "from hep_ml import reweight"
   ]
  },
  {
   "cell_type": "code",
   "execution_count": 3,
   "metadata": {},
   "outputs": [],
   "source": [
    "import uproot"
   ]
  },
  {
   "cell_type": "code",
   "execution_count": 4,
   "metadata": {},
   "outputs": [],
   "source": [
    "from pandas import DataFrame"
   ]
  },
  {
   "cell_type": "code",
   "execution_count": 104,
   "metadata": {},
   "outputs": [],
   "source": [
    "sigTree = Tree(NMSSM_MX_700_MY_400)"
   ]
  },
  {
   "cell_type": "code",
   "execution_count": 116,
   "metadata": {},
   "outputs": [
    {
     "name": "stdout",
     "output_type": "stream",
     "text": [
      "vector.obj(pt=[174, 92.3, 236, 192, 125, 106, 934, 221, ... 544, 236, 200, 232, 240, 227, 255, 222], phi=[2.44, 2.59, -0.661, -2.35, -2.9, 2.41, 2.58, ... -1.27, -1.91, -0.648, 2.27, 1.1, 3], eta=[2.2, 1.69, 0.531, -1.42, -1.51, 0.108, ... -0.437, 0.323, -0.632, 0.962, 0.902], mass=[183, 132, 118, 153, 180, 123, 514, 130, ... 237, 140, 113, 135, 182, 170, 152, 128])\n",
      "vector.obj(pt=[153, 65.3, 137, 57.5, 85.1, 96.3, 749, 146, ... 159, 172, 114, 220, 69.5, 201, 162], phi=[-0.932, 0.78, 2.87, 2.14, 0.71, -0.475, ... 2.35, 0.655, 2.64, -0.749, -1.26, -1.25], eta=[1.07, -0.635, -0.125, 0.298, 0.328, 1.2, ... 1.24, -0.685, 0.089, 1.68, 0.707, 1.64], mass=[129, 120, 94.1, 156, 170, 187, 387, 123, ... 124, 104, 130, 130, 75.4, 144, 113])\n",
      "vector.obj(pt=[137, 40.1, 67, 40.3, 2.55, 26.6, 494, 103, ... 54.8, 59.6, 18.4, 106, 50.9, 184, 52], phi=[-0.116, -1.43, 2.09, 2.27, -2.44, -1.79, ... 2.12, -2.74, -1.12, 2.97, -0.134], eta=[2.37, 2.31, 2.4, -2, -2.05, -3.21, -0.772, ... 0.653, 1.93, 1.51, 2.28, 0.807, 1.02], mass=[137, 173, 122, 141, 166, 161, 259, 113, ... 177, 138, 90.8, 117, 137, 117, 142, 108])\n"
     ]
    }
   ],
   "source": [
    "sigTree.initialize_t6_X()"
   ]
  },
  {
   "cell_type": "code",
   "execution_count": 118,
   "metadata": {},
   "outputs": [
    {
     "data": {
      "text/plain": [
       "<Array [721, 575, 703, 618, ... 751, 778, 589] type='43836 * float32'>"
      ]
     },
     "execution_count": 118,
     "metadata": {},
     "output_type": "execute_result"
    }
   ],
   "source": [
    "sigTree.t6_X.m"
   ]
  },
  {
   "cell_type": "code",
   "execution_count": 112,
   "metadata": {},
   "outputs": [
    {
     "data": {
      "text/plain": [
       "<Array [174, 92.3, 236, 192, ... 227, 255, 222] type='43836 * float32'>"
      ]
     },
     "execution_count": 112,
     "metadata": {},
     "output_type": "execute_result"
    }
   ],
   "source": [
    "sigTree.t6_higgs_pt[:,0]"
   ]
  },
  {
   "cell_type": "code",
   "execution_count": 113,
   "metadata": {},
   "outputs": [
    {
     "data": {
      "text/plain": [
       "vector.obj(pt=[[157, 108], [157, 108], [157, 108], [157, ... [157, 108], [157, 108], [157, 108]], phi=[[-0.239, 2.49], [-0.239, 2.49], [-0.239, ... 2.49], [-0.239, 2.49], [-0.239, 2.49]], eta=[[2.92, 2.5], [2.92, 2.5], [2.92, 2.5], ... [2.92, 2.5], [2.92, 2.5], [2.92, 2.5]], mass=[[1.02e+03, 413], [1.02e+03, 413], ... [1.02e+03, 413], [1.02e+03, 413]])"
      ]
     },
     "execution_count": 113,
     "metadata": {},
     "output_type": "execute_result"
    }
   ],
   "source": [
    "sigTree.t6_X"
   ]
  },
  {
   "cell_type": "code",
   "execution_count": 5,
   "metadata": {},
   "outputs": [],
   "source": [
    "tree = uproot.open(NMSSM_MX_700_MY_400 + \":sixBtree\")"
   ]
  },
  {
   "cell_type": "code",
   "execution_count": null,
   "metadata": {},
   "outputs": [],
   "source": [
    "btagsum = (ak.sum(tree['t6_jet_btag'].array(), axis=1)/6).to_numpy()"
   ]
  },
  {
   "cell_type": "code",
   "execution_count": 84,
   "metadata": {},
   "outputs": [],
   "source": [
    "data = [tree['t6_jet_pt'].array()[:,i].to_numpy() for i in range(6)] + \\\n",
    "    [tree['t6_jet_m'].array()[:,i].to_numpy() for i in range(6)] + \\\n",
    "    [tree['t6_higgs_pt'].array()[:,i].to_numpy() for i in range(3)] + \\\n",
    "    [tree['t6_higgs_m'].array()[:,i].to_numpy() for i in range(3)] + \\\n",
    "    [tree['t6_higgs_dr'].array()[:,i].to_numpy() for i in range(3)] + \\\n",
    "    [btagsum]\n",
    "    # [tree['t6_jet_eta'].array(library=\"np\")[i] for i in range(6)] + \\\n",
    "    # [tree['t6_jet_phi'].array(library=\"np\")[i] for i in range(6)] + \\\n",
    "    # [tree['t6_higgs_eta'].array(library=\"n`p\")[i] for i in range(3)] + \\\n",
    "    # [tree['t6_higgs_phi'].array(library=\"np\")[i] for i in range(3)] + \\"
   ]
  },
  {
   "cell_type": "code",
   "execution_count": 85,
   "metadata": {},
   "outputs": [],
   "source": [
    "data = np.column_stack((data))"
   ]
  },
  {
   "cell_type": "code",
   "execution_count": 86,
   "metadata": {},
   "outputs": [
    {
     "data": {
      "text/plain": [
       "array([[209.37376   , 161.53326   , 138.49478   , ...,   1.5384502 ,\n",
       "          2.99352   ,   0.7963435 ],\n",
       "       [ 93.802     ,  84.42499   ,  40.122044  , ...,   2.539651  ,\n",
       "          2.9484003 ,   0.6557643 ],\n",
       "       [102.32611   ,  90.767624  , 126.734665  , ...,   1.2920724 ,\n",
       "          2.6483715 ,   0.54677325],\n",
       "       ...,\n",
       "       [193.60405   ,  86.607315  ,  76.97284   , ...,   1.8397809 ,\n",
       "          3.1204607 ,   0.64707565],\n",
       "       [222.2965    , 194.9769    , 111.05606   , ...,   1.2019951 ,\n",
       "          2.0131087 ,   0.6714986 ],\n",
       "       [203.92487   ,  78.053734  ,  55.996174  , ...,   1.2618929 ,\n",
       "          2.5770833 ,   0.8554077 ]], dtype=float32)"
      ]
     },
     "execution_count": 86,
     "metadata": {},
     "output_type": "execute_result"
    }
   ],
   "source": [
    "data"
   ]
  },
  {
   "cell_type": "code",
   "execution_count": 87,
   "metadata": {},
   "outputs": [],
   "source": [
    "labels = [f'Jet {i} pt' for i in range(6)] +\\\n",
    "    [f'Jet {i} m' for i in range(6)] +\\\n",
    "    [f'Higgs {i} pt' for i in range(3)] +\\\n",
    "    [f'Higgs {i} m' for i in range(3)] +\\\n",
    "    [f'Higgs {i} dr' for i in range(3)] +\\\n",
    "    ['btagsum']"
   ]
  },
  {
   "cell_type": "code",
   "execution_count": 54,
   "metadata": {},
   "outputs": [
    {
     "data": {
      "text/plain": [
       "21"
      ]
     },
     "execution_count": 54,
     "metadata": {},
     "output_type": "execute_result"
    }
   ],
   "source": [
    "len(labels)"
   ]
  },
  {
   "cell_type": "code",
   "execution_count": 88,
   "metadata": {},
   "outputs": [],
   "source": [
    "df = DataFrame(data, columns=labels)"
   ]
  },
  {
   "cell_type": "code",
   "execution_count": 89,
   "metadata": {},
   "outputs": [
    {
     "data": {
      "text/html": [
       "<div>\n",
       "<style scoped>\n",
       "    .dataframe tbody tr th:only-of-type {\n",
       "        vertical-align: middle;\n",
       "    }\n",
       "\n",
       "    .dataframe tbody tr th {\n",
       "        vertical-align: top;\n",
       "    }\n",
       "\n",
       "    .dataframe thead th {\n",
       "        text-align: right;\n",
       "    }\n",
       "</style>\n",
       "<table border=\"1\" class=\"dataframe\">\n",
       "  <thead>\n",
       "    <tr style=\"text-align: right;\">\n",
       "      <th></th>\n",
       "      <th>Jet 0 pt</th>\n",
       "      <th>Jet 1 pt</th>\n",
       "      <th>Jet 2 pt</th>\n",
       "      <th>Jet 3 pt</th>\n",
       "      <th>Jet 4 pt</th>\n",
       "      <th>Jet 5 pt</th>\n",
       "      <th>Jet 0 m</th>\n",
       "      <th>Jet 1 m</th>\n",
       "      <th>Jet 2 m</th>\n",
       "      <th>Jet 3 m</th>\n",
       "      <th>...</th>\n",
       "      <th>Higgs 0 pt</th>\n",
       "      <th>Higgs 1 pt</th>\n",
       "      <th>Higgs 2 pt</th>\n",
       "      <th>Higgs 0 m</th>\n",
       "      <th>Higgs 1 m</th>\n",
       "      <th>Higgs 2 m</th>\n",
       "      <th>Higgs 0 dr</th>\n",
       "      <th>Higgs 1 dr</th>\n",
       "      <th>Higgs 2 dr</th>\n",
       "      <th>btagsum</th>\n",
       "    </tr>\n",
       "  </thead>\n",
       "  <tbody>\n",
       "    <tr>\n",
       "      <th>0</th>\n",
       "      <td>209.373764</td>\n",
       "      <td>161.533264</td>\n",
       "      <td>138.494781</td>\n",
       "      <td>58.456890</td>\n",
       "      <td>52.131474</td>\n",
       "      <td>24.965063</td>\n",
       "      <td>42.901520</td>\n",
       "      <td>28.313913</td>\n",
       "      <td>19.727392</td>\n",
       "      <td>9.526486</td>\n",
       "      <td>...</td>\n",
       "      <td>174.052338</td>\n",
       "      <td>152.634933</td>\n",
       "      <td>137.074310</td>\n",
       "      <td>182.946976</td>\n",
       "      <td>128.756973</td>\n",
       "      <td>137.095718</td>\n",
       "      <td>2.412882</td>\n",
       "      <td>1.538450</td>\n",
       "      <td>2.993520</td>\n",
       "      <td>0.796344</td>\n",
       "    </tr>\n",
       "    <tr>\n",
       "      <th>1</th>\n",
       "      <td>93.802002</td>\n",
       "      <td>84.424988</td>\n",
       "      <td>40.122044</td>\n",
       "      <td>31.614040</td>\n",
       "      <td>62.630230</td>\n",
       "      <td>123.106735</td>\n",
       "      <td>13.669215</td>\n",
       "      <td>10.679927</td>\n",
       "      <td>6.608989</td>\n",
       "      <td>6.857266</td>\n",
       "      <td>...</td>\n",
       "      <td>92.333328</td>\n",
       "      <td>65.299774</td>\n",
       "      <td>40.079350</td>\n",
       "      <td>132.172089</td>\n",
       "      <td>120.217018</td>\n",
       "      <td>172.653854</td>\n",
       "      <td>3.008264</td>\n",
       "      <td>2.539651</td>\n",
       "      <td>2.948400</td>\n",
       "      <td>0.655764</td>\n",
       "    </tr>\n",
       "    <tr>\n",
       "      <th>2</th>\n",
       "      <td>102.326111</td>\n",
       "      <td>90.767624</td>\n",
       "      <td>126.734665</td>\n",
       "      <td>34.818054</td>\n",
       "      <td>129.800720</td>\n",
       "      <td>50.597897</td>\n",
       "      <td>8.751846</td>\n",
       "      <td>8.930799</td>\n",
       "      <td>20.950661</td>\n",
       "      <td>6.661128</td>\n",
       "      <td>...</td>\n",
       "      <td>235.556671</td>\n",
       "      <td>137.308136</td>\n",
       "      <td>66.989937</td>\n",
       "      <td>118.138725</td>\n",
       "      <td>94.094742</td>\n",
       "      <td>121.752266</td>\n",
       "      <td>0.869615</td>\n",
       "      <td>1.292072</td>\n",
       "      <td>2.648371</td>\n",
       "      <td>0.546773</td>\n",
       "    </tr>\n",
       "    <tr>\n",
       "      <th>3</th>\n",
       "      <td>69.488327</td>\n",
       "      <td>43.917400</td>\n",
       "      <td>170.852585</td>\n",
       "      <td>73.699799</td>\n",
       "      <td>42.285942</td>\n",
       "      <td>71.253319</td>\n",
       "      <td>13.427586</td>\n",
       "      <td>9.487126</td>\n",
       "      <td>23.580011</td>\n",
       "      <td>10.901905</td>\n",
       "      <td>...</td>\n",
       "      <td>192.343811</td>\n",
       "      <td>57.451321</td>\n",
       "      <td>40.306820</td>\n",
       "      <td>152.976913</td>\n",
       "      <td>155.707901</td>\n",
       "      <td>140.692368</td>\n",
       "      <td>1.491624</td>\n",
       "      <td>2.549902</td>\n",
       "      <td>3.090795</td>\n",
       "      <td>0.621592</td>\n",
       "    </tr>\n",
       "    <tr>\n",
       "      <th>4</th>\n",
       "      <td>151.420135</td>\n",
       "      <td>83.320374</td>\n",
       "      <td>66.895630</td>\n",
       "      <td>65.573326</td>\n",
       "      <td>120.983559</td>\n",
       "      <td>80.914474</td>\n",
       "      <td>14.019319</td>\n",
       "      <td>13.280220</td>\n",
       "      <td>8.490156</td>\n",
       "      <td>7.249807</td>\n",
       "      <td>...</td>\n",
       "      <td>125.359650</td>\n",
       "      <td>85.122620</td>\n",
       "      <td>2.545424</td>\n",
       "      <td>180.259277</td>\n",
       "      <td>169.654770</td>\n",
       "      <td>165.606201</td>\n",
       "      <td>2.187894</td>\n",
       "      <td>2.413069</td>\n",
       "      <td>3.132051</td>\n",
       "      <td>0.719503</td>\n",
       "    </tr>\n",
       "  </tbody>\n",
       "</table>\n",
       "<p>5 rows × 22 columns</p>\n",
       "</div>"
      ],
      "text/plain": [
       "     Jet 0 pt    Jet 1 pt    Jet 2 pt   Jet 3 pt    Jet 4 pt    Jet 5 pt  \\\n",
       "0  209.373764  161.533264  138.494781  58.456890   52.131474   24.965063   \n",
       "1   93.802002   84.424988   40.122044  31.614040   62.630230  123.106735   \n",
       "2  102.326111   90.767624  126.734665  34.818054  129.800720   50.597897   \n",
       "3   69.488327   43.917400  170.852585  73.699799   42.285942   71.253319   \n",
       "4  151.420135   83.320374   66.895630  65.573326  120.983559   80.914474   \n",
       "\n",
       "     Jet 0 m    Jet 1 m    Jet 2 m    Jet 3 m  ...  Higgs 0 pt  Higgs 1 pt  \\\n",
       "0  42.901520  28.313913  19.727392   9.526486  ...  174.052338  152.634933   \n",
       "1  13.669215  10.679927   6.608989   6.857266  ...   92.333328   65.299774   \n",
       "2   8.751846   8.930799  20.950661   6.661128  ...  235.556671  137.308136   \n",
       "3  13.427586   9.487126  23.580011  10.901905  ...  192.343811   57.451321   \n",
       "4  14.019319  13.280220   8.490156   7.249807  ...  125.359650   85.122620   \n",
       "\n",
       "   Higgs 2 pt   Higgs 0 m   Higgs 1 m   Higgs 2 m  Higgs 0 dr  Higgs 1 dr  \\\n",
       "0  137.074310  182.946976  128.756973  137.095718    2.412882    1.538450   \n",
       "1   40.079350  132.172089  120.217018  172.653854    3.008264    2.539651   \n",
       "2   66.989937  118.138725   94.094742  121.752266    0.869615    1.292072   \n",
       "3   40.306820  152.976913  155.707901  140.692368    1.491624    2.549902   \n",
       "4    2.545424  180.259277  169.654770  165.606201    2.187894    2.413069   \n",
       "\n",
       "   Higgs 2 dr   btagsum  \n",
       "0    2.993520  0.796344  \n",
       "1    2.948400  0.655764  \n",
       "2    2.648371  0.546773  \n",
       "3    3.090795  0.621592  \n",
       "4    3.132051  0.719503  \n",
       "\n",
       "[5 rows x 22 columns]"
      ]
     },
     "execution_count": 89,
     "metadata": {},
     "output_type": "execute_result"
    }
   ],
   "source": [
    "df.head()"
   ]
  },
  {
   "cell_type": "code",
   "execution_count": 123,
   "metadata": {},
   "outputs": [],
   "source": [
    "H0_sr_mask = abs(df['Higgs 0 m'] - 125) < 25\n",
    "H1_sr_mask = abs(df['Higgs 1 m'] - 125) < 25\n",
    "H2_sr_mask = abs(df['Higgs 2 m'] - 125) < 25\n",
    "\n",
    "H0_cr_mask = abs(df['Higgs 0 m'] - 125) > 25\n",
    "H1_cr_mask = abs(df['Higgs 1 m'] - 125) > 25\n",
    "H2_cr_mask = abs(df['Higgs 2 m'] - 125) > 25\n",
    "\n",
    "mH_sr_mask = H0_sr_mask & H1_sr_mask & H2_sr_mask\n",
    "mH_cr_mask = H0_cr_mask & H1_cr_mask & H2_cr_mask\n",
    "\n",
    "hi_mask = df['btagsum'] > 0.65\n",
    "lo_mask = df['btagsum'] <= 0.65\n",
    "\n",
    "sr_hi_mask = mH_sr_mask & hi_mask\n",
    "sr_lo_mask = mH_sr_mask & lo_mask\n",
    "cr_hi_mask = mH_cr_mask & hi_mask\n",
    "cr_lo_mask = mH_cr_mask & lo_mask"
   ]
  },
  {
   "cell_type": "code",
   "execution_count": 132,
   "metadata": {},
   "outputs": [
    {
     "data": {
      "text/plain": [
       "array([0.        , 0.        , 0.        , 0.        , 0.        ,\n",
       "       0.        , 0.        , 0.        , 0.        , 0.        ,\n",
       "       0.        , 0.        , 0.        , 0.        , 0.        ,\n",
       "       0.        , 0.5       , 0.        , 1.5       , 0.7       ,\n",
       "       2.        , 2.77777778, 1.11111111, 1.52380952, 2.31818182,\n",
       "       2.71428571, 2.        , 1.7826087 , 1.68333333, 2.42253521,\n",
       "       2.08571429, 2.32258065, 2.47333333, 2.37654321, 2.10714286,\n",
       "       2.39259259, 1.85093168, 1.54117647, 1.54193548, 1.8015873 ,\n",
       "       1.27329193, 1.59633028, 1.65048544, 1.47115385, 1.34951456,\n",
       "       1.24509804, 1.77142857, 1.20618557, 1.2278481 , 1.50649351,\n",
       "       1.25675676, 1.52702703, 1.171875  , 1.02857143, 1.18461538,\n",
       "       1.12727273, 1.22413793, 1.675     , 1.13207547, 1.01960784,\n",
       "       1.04255319, 1.43478261, 1.34210526, 1.55263158, 1.54166667,\n",
       "       1.15384615, 1.77777778, 1.2       , 1.13793103, 0.9375    ,\n",
       "       1.15151515, 1.22727273, 1.28      , 1.        , 1.03571429,\n",
       "       0.875     , 1.04545455, 1.08      , 5.5       , 1.76470588,\n",
       "       1.25      , 0.85      , 1.        , 1.16666667, 0.72222222,\n",
       "       1.58333333, 1.        , 2.14285714, 1.9       , 1.88888889,\n",
       "       1.1       , 1.08333333, 1.36363636, 1.83333333, 1.        ,\n",
       "       1.1       , 1.        , 0.6       , 1.        ])"
      ]
     },
     "execution_count": 132,
     "metadata": {},
     "output_type": "execute_result"
    }
   ],
   "source": [
    "n_cr_hi,e = np.histogram(sigTree.t6_X.m[cr_hi_mask].to_numpy(),  bins=np.linspace(0,2000,100))\n",
    "n_cr_lo,e = np.histogram(sigTree.t6_X.m[cr_lo_mask].to_numpy(),  bins=np.linspace(0,2000,100))\n",
    "\n",
    "tf = np.where(n_cr_lo != 0, n_cr_hi / n_cr_lo, 0)\n",
    "tf"
   ]
  },
  {
   "cell_type": "code",
   "execution_count": 138,
   "metadata": {},
   "outputs": [
    {
     "data": {
      "image/png": "[encoded data removed]",
      "text/plain": [
       "<Figure size 720x720 with 1 Axes>"
      ]
     },
     "metadata": {
      "needs_background": "light"
     },
     "output_type": "display_data"
    }
   ],
   "source": [
    "fig, ax = plt.subplots()\n",
    "\n",
    "n_hi,e = Hist(sigTree.t6_X.m[sr_hi_mask], bins=np.linspace(0,2000,100), ax=ax, label='hi')\n",
    "n_lo,e = Hist(sigTree.t6_X.m[sr_lo_mask], bins=np.linspace(0,2000,100), ax=ax, label='lo')\n",
    "n,e = Hist(sigTree.t6_X.m[sr_lo_mask], weights=n_lo*tf, bins=np.linspace(0,2000,100), ax=ax, label='hi - tf')"
   ]
  },
  {
   "cell_type": "code",
   "execution_count": 134,
   "metadata": {},
   "outputs": [
    {
     "data": {
      "image/png": "[encoded data removed]",
      "text/plain": [
       "<Figure size 720x720 with 1 Axes>"
      ]
     },
     "metadata": {
      "needs_background": "light"
     },
     "output_type": "display_data"
    }
   ],
   "source": [
    "fig, ax = plt.subplots()\n",
    "\n",
    "n_hi,e = Hist(sigTree.t6_X.m[cr_hi_mask], bins=np.linspace(0,2000,100), ax=ax)\n",
    "n_lo,e = Hist(sigTree.t6_X.m[cr_lo_mask], bins=np.linspace(0,2000,100), ax=ax)"
   ]
  },
  {
   "cell_type": "code",
   "execution_count": null,
   "metadata": {},
   "outputs": [],
   "source": []
  },
  {
   "cell_type": "code",
   "execution_count": null,
   "metadata": {},
   "outputs": [],
   "source": []
  }
 ],
 "metadata": {
  "interpreter": {
   "hash": "5df4d1b2ce696ef8a7cc914f733ed0eed40caa2570f001e67a5aef7cf7cbd879"
  },
  "kernelspec": {
   "display_name": "Python 3.8.8 64-bit ('work': conda)",
   "language": "python",
   "name": "python3"
  },
  "language_info": {
   "codemirror_mode": {
    "name": "ipython",
    "version": 3
   },
   "file_extension": ".py",
   "mimetype": "text/x-python",
   "name": "python",
   "nbconvert_exporter": "python",
   "pygments_lexer": "ipython3",
   "version": "3.8.8"
  },
  "orig_nbformat": 4
 },
 "nbformat": 4,
 "nbformat_minor": 2
}
