{
 "cells": [
  {
   "cell_type": "markdown",
   "metadata": {},
   "source": [
    "# <span style=\"font-variant:small-caps;\"><font color=#DAA6E4 size=12>Score Region Exploration</font></span>\n",
    "\n",
    "This notebook should present the distributions of signal and data within control regions.\n",
    "\n",
    "[This link](https://cms-analysis.github.io/HiggsAnalysis-CombinedLimit/part2/settinguptheanalysis/) will show you how to format the data cards and enter them into HiggsCombine."
   ]
  },
  {
   "cell_type": "code",
   "execution_count": null,
   "metadata": {},
   "outputs": [],
   "source": [
    "datTree = Tree(JetHT_Data_UL)\n",
    "datTree.initialize_t6_X()\n",
    "\n",
    "X = datTree.t6_X"
   ]
  },
  {
   "cell_type": "code",
   "execution_count": null,
   "metadata": {},
   "outputs": [],
   "source": [
    "cut_6jNN = 0\n",
    "\n",
    "# edges of mH windows\n",
    "SR_edge = 25 # GeV\n",
    "VR_edge = 60 # GeV\n",
    "CR_edge = 120 # GeV"
   ]
  },
  {
   "cell_type": "code",
   "execution_count": null,
   "metadata": {},
   "outputs": [],
   "source": [
    "mH = 125 # GeV\n",
    "\n",
    "SR_lo = mH - SR_edge\n",
    "SR_hi = mH + SR_edge\n",
    "\n",
    "VR_lo = mH - VR_edge\n",
    "VR_hi = mH + VR_edge\n",
    "\n",
    "CR_lo = mH - CR_edge\n",
    "CR_hi = mH + CR_edge"
   ]
  },
  {
   "cell_type": "code",
   "execution_count": null,
   "metadata": {},
   "outputs": [],
   "source": [
    "dat_6sums = ak.sum(datTree.t6_jet_btag, axis=1)/6"
   ]
  },
  {
   "cell_type": "code",
   "execution_count": null,
   "metadata": {},
   "outputs": [],
   "source": [
    "#### DATA ####\n",
    "dat_6jNN_mask = datTree.b_6j_score > cut_6jNN # pass 6jNN mask\n",
    "\n",
    "# dat_m_cand = datTree.t6_higgs_m[:,2]\n",
    "dat_Dm_cand = abs(datTree.t6_higgs_m - 125)\n",
    "dat_Dm      = datTree.t6_higgs_m - 125\n",
    "dat_Dm_pos  = ak.all(datTree.t6_higgs_m - 125 > 0, axis=1)\n",
    "dat_Dm_neg  = ak.all(datTree.t6_higgs_m - 125 < 0, axis=1)\n",
    "\n",
    "# triple mass veto\n",
    "dat_SR = ak.all(dat_Dm_cand <= SR_edge, axis=1) # SR\n",
    "dat_VR = ak.all(dat_Dm_cand > SR_edge, axis=1) & ak.all(dat_Dm_cand <= VR_edge, axis=1) # VR\n",
    "dat_CR = ak.all(dat_Dm_cand > VR_edge, axis=1) # CR"
   ]
  },
  {
   "cell_type": "code",
   "execution_count": null,
   "metadata": {},
   "outputs": [],
   "source": [
    "nbins = 60\n",
    "mBins = np.linspace(0,2000,nbins)"
   ]
  },
  {
   "cell_type": "code",
   "execution_count": null,
   "metadata": {},
   "outputs": [],
   "source": [
    "# sig_4sums = ak.sum(sigTree.t6_jet_btag[:,:4], axis=1)[sig_SR]/4\n",
    "# dat_4sums = ak.sum(datTree.t6_jet_btag[:,:4], axis=1)[dat_CR]/4\n",
    "\n",
    "# n4_sig, edges = np.histogram(sig_4sums.to_numpy(), bins=score_bins)\n",
    "# n4_dat, edges = np.histogram(dat_4sums.to_numpy(), bins=score_bins)"
   ]
  },
  {
   "cell_type": "code",
   "execution_count": null,
   "metadata": {},
   "outputs": [],
   "source": [
    "# sum4_eff = []\n",
    "# sum4_rej = []\n",
    "\n",
    "# for cut in edges[:-1]:\n",
    "#     sum4_eff.append(n4_sig[edges[:-1] >= cut].sum()/n4_sig.sum())\n",
    "#     sum4_rej.append(n4_dat[edges[:-1] < cut].sum()/n4_dat.sum())\n",
    "\n",
    "# sum4_eff = np.append(1, np.asarray(sum4_eff))\n",
    "# sum4_rej = np.asarray(sum4_rej)\n",
    "\n",
    "# dx = sum4_eff[:-1] - sum4_eff[1:]\n",
    "# auc = np.sum(sum4_rej*dx)\n",
    "# sum4_rej = np.append(sum4_rej, 1)"
   ]
  },
  {
   "cell_type": "code",
   "execution_count": null,
   "metadata": {},
   "outputs": [],
   "source": [
    "# opt4_arg = (abs(sum4_eff-auc)+abs(sum4_rej-auc)).argmin()\n",
    "# opt4_cut = score_bins[opt4_arg]\n",
    "\n",
    "# print(f\"Optimal score cut = {opt4_cut}\")\n",
    "\n",
    "# p_sig_hi = ak.sum(sig_4sums >= 0.88)/len(sig_4sums)\n",
    "# p_sig_lo = ak.sum(sig_4sums < 0.88)/len(sig_4sums)\n",
    "\n",
    "# p_bkg_hi = ak.sum(dat_4sums >= 0.88)/len(dat_4sums)\n",
    "# p_bkg_lo = ak.sum(dat_4sums < 0.88)/len(dat_4sums)\n",
    "\n",
    "# print(p_sig_hi,p_bkg_hi)\n",
    "# print(p_sig_lo,p_bkg_lo)"
   ]
  },
  {
   "cell_type": "code",
   "execution_count": null,
   "metadata": {},
   "outputs": [],
   "source": [
    "# score_bins = np.linspace(0,1,101)\n",
    "\n",
    "# fig, ax = plt.subplots()\n",
    "\n",
    "# # fig.suptitle(sigTree.sample, x=.85, y=.95)\n",
    "\n",
    "# # ax = axs[0]\n",
    "# ax.set_title('First 4 Jets', loc='right')\n",
    "# n4_s, edges = Hist(x_bins(score_bins), weights=n4_sig/n4_sig.sum(), bins=score_bins, ax=ax, label='Signal (SR)', color='blue')\n",
    "# n4_data, edges = Hist(x_bins(score_bins), weights=n4_dat/n4_dat.sum(), bins=score_bins, ax=ax, label='Data (CR)', color='black')\n",
    "# if n4_s.max() > n4_data.max(): nMax = n4_s.max()\n",
    "# else: nMax = n4_data.max()\n",
    "# ax.plot([0.88, 0.88],[0,nMax*1.1],'gray')\n",
    "# ax.legend(fontsize='smaller', loc=2)\n",
    "# ax.set_xlabel(r'Normalized b-tag Sum')\n",
    "# ax.set_ylabel('Fraction of Events')\n",
    "\n",
    "# ax.text(0.1, 0.08, f'Signal below: {p_sig_lo*100:.0f}%\\nSignal below: {p_sig_hi*100:.0f}%', fontsize=18, color='blue')\n",
    "# ax.text(0.1, 0.07, f'Data below: {p_bkg_lo*100:.0f}%\\nData below: {p_bkg_hi*100:.0f}%', fontsize=18)\n",
    "\n",
    "# plt.tight_layout()\n",
    "\n",
    "# fig.savefig(f'plots/{sigTree.mXmY}_4bsum.pdf')"
   ]
  },
  {
   "cell_type": "code",
   "execution_count": null,
   "metadata": {},
   "outputs": [],
   "source": [
    "# sig_2sums = ak.sum(sigTree.t6_jet_btag[:,-2:], axis=1)[sig_SR]/2\n",
    "# dat_2sums = ak.sum(datTree.t6_jet_btag[:,-2:], axis=1)[dat_CR]/2\n",
    "\n",
    "# n2_sig, edges = np.histogram(sig_2sums.to_numpy(), bins=score_bins)\n",
    "# n2_dat, edges = np.histogram(dat_2sums.to_numpy(), bins=score_bins)"
   ]
  },
  {
   "cell_type": "code",
   "execution_count": null,
   "metadata": {},
   "outputs": [],
   "source": [
    "# sum2_eff = []\n",
    "# sum2_rej = []\n",
    "\n",
    "# for cut in edges[:-1]:\n",
    "#     sum2_eff.append(n2_sig[edges[:-1] >= cut].sum()/n2_sig.sum())\n",
    "#     sum2_rej.append(n2_dat[edges[:-1] < cut].sum()/n2_dat.sum())\n",
    "\n",
    "# sum2_eff = np.append(1, np.asarray(sum2_eff))\n",
    "# sum2_rej = np.asarray(sum2_rej)\n",
    "\n",
    "# dx = sum2_eff[:-1] - sum2_eff[1:]\n",
    "# auc = np.sum(sum2_rej*dx)\n",
    "# sum2_rej = np.append(sum2_rej, 1)"
   ]
  },
  {
   "cell_type": "code",
   "execution_count": null,
   "metadata": {},
   "outputs": [],
   "source": [
    "# opt2_arg = (abs(sum2_eff-auc)+abs(sum2_rej-auc)).argmin()\n",
    "# opt2_cut = score_bins[opt2_arg]\n",
    "\n",
    "# print(f\"Optimal score cut = {opt2_cut}\")\n",
    "\n",
    "# p_sig_hi = ak.sum(sig_2sums >= 0.13)/len(sig_2sums)\n",
    "# p_sig_lo = ak.sum(sig_2sums < 0.13)/len(sig_2sums)\n",
    "\n",
    "# p_bkg_hi = ak.sum(dat_2sums >= 0.13)/len(dat_2sums)\n",
    "# p_bkg_lo = ak.sum(dat_2sums < 0.13)/len(dat_2sums)\n",
    "\n",
    "# print(p_sig_hi,p_bkg_hi)\n",
    "# print(p_sig_lo,p_bkg_lo)"
   ]
  },
  {
   "cell_type": "code",
   "execution_count": null,
   "metadata": {},
   "outputs": [],
   "source": [
    "# score_bins = np.linspace(0,1,101)\n",
    "\n",
    "# fig, ax = plt.subplots()\n",
    "\n",
    "# # fig.suptitle(sigTree.sample, x=.85, y=.95)\n",
    "\n",
    "# # ax = axs[0]\n",
    "# ax.set_title('Last 2 Jets', loc='right')\n",
    "# n2_s, edges = Hist(x_bins(score_bins), weights=n2_sig/n2_sig.sum(), bins=score_bins, ax=ax, label='Signal (SR)', color='blue')\n",
    "# n2_data, edges = Hist(x_bins(score_bins), weights=n2_dat/n2_dat.sum(), bins=score_bins, ax=ax, label='Data (CR)', color='black')\n",
    "# if n2_s.max() > n2_data.max(): nMax = n2_s.max()\n",
    "# else: nMax = n2_data.max()\n",
    "# ax.plot([0.13, 0.13],[0,nMax*1.1],'gray')\n",
    "# ax.legend(fontsize='smaller', loc=2)\n",
    "# ax.set_xlabel(r'Normalized b-tag Sum')\n",
    "# ax.set_ylabel('Fraction of Events')\n",
    "\n",
    "# ax.text(0.5, 0.15, f'Signal below: {p_sig_lo*100:.0f}%\\nSignal below: {p_sig_hi*100:.0f}%', fontsize=18, color='blue')\n",
    "# ax.text(0.5, 0.125, f'Data below: {p_bkg_lo*100:.0f}%\\nData below: {p_bkg_hi*100:.0f}%', fontsize=18)\n",
    "\n",
    "# plt.tight_layout()\n",
    "\n",
    "# fig.savefig(f'plots/{sigTree.mXmY}_2bsum.pdf')"
   ]
  },
  {
   "cell_type": "code",
   "execution_count": null,
   "metadata": {},
   "outputs": [],
   "source": [
    "sig_sums = ak.sum(sigTree.t6_jet_btag, axis=1)[sig_SR]/6\n",
    "dat_sums = ak.sum(datTree.t6_jet_btag, axis=1)[dat_CR]/6\n",
    "\n",
    "n_sig, edges = np.histogram(sig_sums.to_numpy(), bins=score_bins)\n",
    "n_dat, edges = np.histogram(dat_sums.to_numpy(), bins=score_bins)"
   ]
  },
  {
   "cell_type": "code",
   "execution_count": null,
   "metadata": {},
   "outputs": [],
   "source": [
    "sum6_eff = []\n",
    "sum6_rej = []\n",
    "\n",
    "for cut in edges[:-1]:\n",
    "    sum6_eff.append(n_sig[edges[:-1] >= cut].sum()/n_sig.sum())\n",
    "    sum6_rej.append(n_dat[edges[:-1] < cut].sum()/n_dat.sum())\n",
    "\n",
    "sum6_eff = np.append(1, np.asarray(sum6_eff))\n",
    "sum6_rej = np.asarray(sum6_rej)\n",
    "\n",
    "dx = sum6_eff[:-1] - sum6_eff[1:]\n",
    "auc = np.sum(sum6_rej*dx)\n",
    "sum6_rej = np.append(sum6_rej, 1)"
   ]
  },
  {
   "cell_type": "code",
   "execution_count": null,
   "metadata": {},
   "outputs": [
    {
     "name": "stdout",
     "output_type": "stream",
     "text": [
      "0.7511308747987426 0.155126033675401\n",
      "0.24886912520125737 0.844873966324599\n"
     ]
    }
   ],
   "source": [
    "p_sig_hi = ak.sum(sig_sums >= 0.65)/len(sig_sums)\n",
    "p_sig_lo = ak.sum(sig_sums < 0.65)/len(sig_sums)\n",
    "\n",
    "p_bkg_hi = ak.sum(dat_sums >= 0.65)/len(dat_sums)\n",
    "p_bkg_lo = ak.sum(dat_sums < 0.65)/len(dat_sums)\n",
    "\n",
    "print(p_sig_hi,p_bkg_hi)\n",
    "print(p_sig_lo,p_bkg_lo)"
   ]
  },
  {
   "cell_type": "code",
   "execution_count": null,
   "metadata": {},
   "outputs": [
    {
     "name": "stdout",
     "output_type": "stream",
     "text": [
      "0.66\n",
      "Optimal score cut = 0.66\n",
      "0.7252932607528942 0.12135100129520773\n",
      "0.2747067392471057 0.8786489987047923\n"
     ]
    }
   ],
   "source": [
    "opt_arg = (abs(sum6_eff-auc)+abs(sum6_rej-auc)).argmin()\n",
    "opt_cut = score_bins[opt_arg]\n",
    "print(opt_cut)\n",
    "# opt_cut = 0.64\n",
    "\n",
    "print(f\"Optimal score cut = {opt_cut}\")\n",
    "\n",
    "p_sig_hi = ak.sum(sig_sums >= opt_cut)/len(sig_sums)\n",
    "p_sig_lo = ak.sum(sig_sums < opt_cut)/len(sig_sums)\n",
    "\n",
    "p_bkg_hi = ak.sum(dat_sums >= opt_cut)/len(dat_sums)\n",
    "p_bkg_lo = ak.sum(dat_sums < opt_cut)/len(dat_sums)\n",
    "\n",
    "print(p_sig_hi,p_bkg_hi)\n",
    "print(p_sig_lo,p_bkg_lo)"
   ]
  },
  {
   "cell_type": "code",
   "execution_count": null,
   "metadata": {},
   "outputs": [],
   "source": [
    "score_cut = 0.66\n",
    "\n",
    "#### DATA ####\n",
    "# score veto\n",
    "dat_ls_mask = ak.sum(datTree.t6_jet_btag, axis=1)/6 < score_cut # ls\n",
    "dat_hs_mask = ak.sum(datTree.t6_jet_btag, axis=1)/6 >= score_cut # hs\n",
    "\n",
    "# combination\n",
    "dat_CRls_mask = dat_6jNN_mask & dat_CR & dat_ls_mask\n",
    "dat_CRhs_mask = dat_6jNN_mask & dat_CR & dat_hs_mask\n",
    "dat_VRls_mask = dat_6jNN_mask & dat_VR & dat_ls_mask\n",
    "dat_VRhs_mask = dat_6jNN_mask & dat_VR & dat_hs_mask\n",
    "dat_SRls_mask = dat_6jNN_mask & dat_SR & dat_ls_mask"
   ]
  },
  {
   "cell_type": "code",
   "execution_count": null,
   "metadata": {},
   "outputs": [
    {
     "data": {
      "text/plain": [
       "0.18360849056603773"
      ]
     },
     "metadata": {},
     "output_type": "display_data"
    }
   ],
   "source": [
    "TF = ak.sum(dat_CRhs_mask)/ak.sum(dat_CRls_mask)\n",
    "TF"
   ]
  },
  {
   "cell_type": "code",
   "execution_count": null,
   "metadata": {},
   "outputs": [],
   "source": [
    "from hep_ml import reweight\n",
    "from pandas import DataFrame"
   ]
  },
  {
   "cell_type": "code",
   "execution_count": null,
   "metadata": {},
   "outputs": [],
   "source": [
    "dat_crls_H1_b1_pt = ak.sort(datTree.t6_jet_pt[datTree.t6_jet_higgsIdx == 0], axis=1, ascending=False)[:,0][dat_CRls_mask].to_numpy()\n",
    "dat_crls_H1_b2_pt = ak.sort(datTree.t6_jet_pt[datTree.t6_jet_higgsIdx == 0], axis=1, ascending=False)[:,1][dat_CRls_mask].to_numpy()\n",
    "dat_crls_H2_b1_pt = ak.sort(datTree.t6_jet_pt[datTree.t6_jet_higgsIdx == 1], axis=1, ascending=False)[:,0][dat_CRls_mask].to_numpy()\n",
    "dat_crls_H2_b2_pt = ak.sort(datTree.t6_jet_pt[datTree.t6_jet_higgsIdx == 1], axis=1, ascending=False)[:,1][dat_CRls_mask].to_numpy()\n",
    "dat_crls_H3_b1_pt = ak.sort(datTree.t6_jet_pt[datTree.t6_jet_higgsIdx == 2], axis=1, ascending=False)[:,0][dat_CRls_mask].to_numpy()\n",
    "dat_crls_H3_b2_pt = ak.sort(datTree.t6_jet_pt[datTree.t6_jet_higgsIdx == 2], axis=1, ascending=False)[:,1][dat_CRls_mask].to_numpy()\n",
    "dat_crls_H1_pt = datTree.t6_higgs_pt[:,0][dat_CRls_mask].to_numpy()\n",
    "dat_crls_H2_pt = datTree.t6_higgs_pt[:,1][dat_CRls_mask].to_numpy()\n",
    "dat_crls_H3_pt = datTree.t6_higgs_pt[:,2][dat_CRls_mask].to_numpy()\n",
    "dat_crls_H1_eta = datTree.t6_higgs_eta[:,0][dat_CRls_mask].to_numpy()\n",
    "dat_crls_H2_eta = datTree.t6_higgs_eta[:,1][dat_CRls_mask].to_numpy()\n",
    "dat_crls_H3_eta = datTree.t6_higgs_eta[:,2][dat_CRls_mask].to_numpy()\n",
    "dat_crls_H1_dr = datTree.t6_higgs_dr[:,0][dat_CRls_mask].to_numpy()\n",
    "dat_crls_H2_dr = datTree.t6_higgs_dr[:,1][dat_CRls_mask].to_numpy()\n",
    "dat_crls_H3_dr = datTree.t6_higgs_dr[:,2][dat_CRls_mask].to_numpy()\n",
    "\n",
    "dat_crhs_H1_b1_pt = ak.sort(datTree.t6_jet_pt[datTree.t6_jet_higgsIdx == 0], axis=1, ascending=False)[:,0][dat_CRhs_mask].to_numpy()\n",
    "dat_crhs_H1_b2_pt = ak.sort(datTree.t6_jet_pt[datTree.t6_jet_higgsIdx == 0], axis=1, ascending=False)[:,1][dat_CRhs_mask].to_numpy()\n",
    "dat_crhs_H2_b1_pt = ak.sort(datTree.t6_jet_pt[datTree.t6_jet_higgsIdx == 1], axis=1, ascending=False)[:,0][dat_CRhs_mask].to_numpy()\n",
    "dat_crhs_H2_b2_pt = ak.sort(datTree.t6_jet_pt[datTree.t6_jet_higgsIdx == 1], axis=1, ascending=False)[:,1][dat_CRhs_mask].to_numpy()\n",
    "dat_crhs_H3_b1_pt = ak.sort(datTree.t6_jet_pt[datTree.t6_jet_higgsIdx == 2], axis=1, ascending=False)[:,0][dat_CRhs_mask].to_numpy()\n",
    "dat_crhs_H3_b2_pt = ak.sort(datTree.t6_jet_pt[datTree.t6_jet_higgsIdx == 2], axis=1, ascending=False)[:,1][dat_CRhs_mask].to_numpy()\n",
    "dat_crhs_H1_pt = datTree.t6_higgs_pt[:,0][dat_CRhs_mask].to_numpy()\n",
    "dat_crhs_H2_pt = datTree.t6_higgs_pt[:,1][dat_CRhs_mask].to_numpy()\n",
    "dat_crhs_H3_pt = datTree.t6_higgs_pt[:,2][dat_CRhs_mask].to_numpy()\n",
    "dat_crhs_H1_eta = datTree.t6_higgs_eta[:,0][dat_CRhs_mask].to_numpy()\n",
    "dat_crhs_H2_eta = datTree.t6_higgs_eta[:,1][dat_CRhs_mask].to_numpy()\n",
    "dat_crhs_H3_eta = datTree.t6_higgs_eta[:,2][dat_CRhs_mask].to_numpy()\n",
    "dat_crhs_H1_dr = datTree.t6_higgs_dr[:,0][dat_CRhs_mask].to_numpy()\n",
    "dat_crhs_H2_dr = datTree.t6_higgs_dr[:,1][dat_CRhs_mask].to_numpy()\n",
    "dat_crhs_H3_dr = datTree.t6_higgs_dr[:,2][dat_CRhs_mask].to_numpy()\n",
    "\n",
    "dat_vrls_H1_b1_pt = ak.sort(datTree.t6_jet_pt[datTree.t6_jet_higgsIdx == 0], axis=1, ascending=False)[:,0][dat_VRls_mask].to_numpy()\n",
    "dat_vrls_H1_b2_pt = ak.sort(datTree.t6_jet_pt[datTree.t6_jet_higgsIdx == 0], axis=1, ascending=False)[:,1][dat_VRls_mask].to_numpy()\n",
    "dat_vrls_H2_b1_pt = ak.sort(datTree.t6_jet_pt[datTree.t6_jet_higgsIdx == 1], axis=1, ascending=False)[:,0][dat_VRls_mask].to_numpy()\n",
    "dat_vrls_H2_b2_pt = ak.sort(datTree.t6_jet_pt[datTree.t6_jet_higgsIdx == 1], axis=1, ascending=False)[:,1][dat_VRls_mask].to_numpy()\n",
    "dat_vrls_H3_b1_pt = ak.sort(datTree.t6_jet_pt[datTree.t6_jet_higgsIdx == 2], axis=1, ascending=False)[:,0][dat_VRls_mask].to_numpy()\n",
    "dat_vrls_H3_b2_pt = ak.sort(datTree.t6_jet_pt[datTree.t6_jet_higgsIdx == 2], axis=1, ascending=False)[:,1][dat_VRls_mask].to_numpy()\n",
    "dat_vrls_H1_pt = datTree.t6_higgs_pt[:,0][dat_VRls_mask].to_numpy()\n",
    "dat_vrls_H2_pt = datTree.t6_higgs_pt[:,1][dat_VRls_mask].to_numpy()\n",
    "dat_vrls_H3_pt = datTree.t6_higgs_pt[:,2][dat_VRls_mask].to_numpy()\n",
    "dat_vrls_H1_eta = datTree.t6_higgs_eta[:,0][dat_VRls_mask].to_numpy()\n",
    "dat_vrls_H2_eta = datTree.t6_higgs_eta[:,1][dat_VRls_mask].to_numpy()\n",
    "dat_vrls_H3_eta = datTree.t6_higgs_eta[:,2][dat_VRls_mask].to_numpy()\n",
    "dat_vrls_H1_dr = datTree.t6_higgs_dr[:,0][dat_VRls_mask].to_numpy()\n",
    "dat_vrls_H2_dr = datTree.t6_higgs_dr[:,1][dat_VRls_mask].to_numpy()\n",
    "dat_vrls_H3_dr = datTree.t6_higgs_dr[:,2][dat_VRls_mask].to_numpy()\n",
    "\n",
    "dat_vrhs_H1_b1_pt = ak.sort(datTree.t6_jet_pt[datTree.t6_jet_higgsIdx == 0], axis=1, ascending=False)[:,0][dat_VRhs_mask].to_numpy()\n",
    "dat_vrhs_H1_b2_pt = ak.sort(datTree.t6_jet_pt[datTree.t6_jet_higgsIdx == 0], axis=1, ascending=False)[:,1][dat_VRhs_mask].to_numpy()\n",
    "dat_vrhs_H2_b1_pt = ak.sort(datTree.t6_jet_pt[datTree.t6_jet_higgsIdx == 1], axis=1, ascending=False)[:,0][dat_VRhs_mask].to_numpy()\n",
    "dat_vrhs_H2_b2_pt = ak.sort(datTree.t6_jet_pt[datTree.t6_jet_higgsIdx == 1], axis=1, ascending=False)[:,1][dat_VRhs_mask].to_numpy()\n",
    "dat_vrhs_H3_b1_pt = ak.sort(datTree.t6_jet_pt[datTree.t6_jet_higgsIdx == 2], axis=1, ascending=False)[:,0][dat_VRhs_mask].to_numpy()\n",
    "dat_vrhs_H3_b2_pt = ak.sort(datTree.t6_jet_pt[datTree.t6_jet_higgsIdx == 2], axis=1, ascending=False)[:,1][dat_VRhs_mask].to_numpy()\n",
    "dat_vrhs_H1_pt = datTree.t6_higgs_pt[:,0][dat_VRhs_mask].to_numpy()\n",
    "dat_vrhs_H2_pt = datTree.t6_higgs_pt[:,1][dat_VRhs_mask].to_numpy()\n",
    "dat_vrhs_H3_pt = datTree.t6_higgs_pt[:,2][dat_VRhs_mask].to_numpy()\n",
    "dat_vrhs_H1_eta = datTree.t6_higgs_eta[:,0][dat_VRhs_mask].to_numpy()\n",
    "dat_vrhs_H2_eta = datTree.t6_higgs_eta[:,1][dat_VRhs_mask].to_numpy()\n",
    "dat_vrhs_H3_eta = datTree.t6_higgs_eta[:,2][dat_VRhs_mask].to_numpy()\n",
    "dat_vrhs_H1_dr = datTree.t6_higgs_dr[:,0][dat_VRhs_mask].to_numpy()\n",
    "dat_vrhs_H2_dr = datTree.t6_higgs_dr[:,1][dat_VRhs_mask].to_numpy()\n",
    "dat_vrhs_H3_dr = datTree.t6_higgs_dr[:,2][dat_VRhs_mask].to_numpy()"
   ]
  }
 ],
 "metadata": {
  "language_info": {
   "name": "python"
  },
  "orig_nbformat": 4
 },
 "nbformat": 4,
 "nbformat_minor": 2
}
