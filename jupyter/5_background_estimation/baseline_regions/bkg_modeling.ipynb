{
 "cells": [
  {
   "cell_type": "code",
   "execution_count": 1,
   "metadata": {},
   "outputs": [],
   "source": [
    "from configparser import ConfigParser"
   ]
  },
  {
   "cell_type": "code",
   "execution_count": 2,
   "metadata": {},
   "outputs": [
    {
     "name": "stdout",
     "output_type": "stream",
     "text": [
      "pt6bsum, dR6bmin, dEta6bmax, HX_pt, HY1_pt, HY2_pt, HX_dr, HY1_dr, HY2_dr, HX_m, HY1_m, HY2_m, HX_HY1_dEta, HY1_HY2_dEta, HY2_HX_dEta, HX_HY1_dPhi, HY1_HY2_dPhi, HY2_HX_dPhi, HX_costheta, HY1_costheta, HY2_costheta\n"
     ]
    }
   ],
   "source": [
    "cfg = 'config/sphereConfig_bias.cfg'\n",
    "\n",
    "config = ConfigParser()\n",
    "config.optionxform = str\n",
    "config.read(cfg)\n",
    "\n",
    "base = config['file']['base']\n",
    "data = config['file']['data']\n",
    "pairing = config['pairing']['scheme']\n",
    "# pairing_type = pairing.split('_')[0]\n",
    "\n",
    "variables = config['BDT']['variables']\n",
    "print(variables)\n",
    "variables = variables.split(', ')"
   ]
  },
  {
   "cell_type": "code",
   "execution_count": 4,
   "metadata": {},
   "outputs": [
    {
     "name": "stdout",
     "output_type": "stream",
     "text": [
      "VR_center   = 178\n",
      "SR_edge     = 35\n",
      "CR_edge     = 40\n",
      "--------------------\n",
      "\n",
      "15026 21923 8650\n",
      ".. training BDT in V_CR\n",
      ".. calling reweight.GBReweighter\n",
      ".. calling reweight.FoldingReweighter\n",
      ".. calling reweighter.fit\n",
      ".. predicting weights in CR\n",
      ".. performing kstest\n",
      "[\u001b[31mFAILURE\u001b[39m] ks-val = 0.015\n",
      ".. predicting weights in V_SR\n",
      "[\u001b[31mFAILURE\u001b[39m] ks-val = 0.035\n",
      "[\u001b[31mFAILURE\u001b[39m] ks-val = 0.045\n",
      ".. training BDT in A_CR\n",
      ".. calling reweight.GBReweighter\n",
      ".. calling reweight.FoldingReweighter\n",
      ".. calling reweighter.fit\n",
      "[\u001b[31mFAILURE\u001b[39m] ks-val = 0.011\n",
      ".. predicting weights in A_SR\n",
      "\n"
     ]
    }
   ],
   "source": [
    "indir = f\"root://cmseos.fnal.gov/{base}\"\n",
    "datFileName = f\"{indir}{data}\"\n",
    "datTree = Signal(datFileName)\n",
    "region_type = 'sphere'\n",
    "datTree.spherical_region(config)\n",
    "print(datTree.A_CR_mask.sum(), datTree.V_SR_mask.sum(), datTree.V_CR_mask.sum())\n",
    "datTree.bdt_process(region_type, config)"
   ]
  },
  {
   "cell_type": "code",
   "execution_count": 5,
   "metadata": {},
   "outputs": [],
   "source": [
    "V_SR_mask = datTree.V_SR_mask\n",
    "V_CR_mask = datTree.V_CR_mask\n",
    "\n",
    "V_SRhs_mask = datTree.V_SRhs_mask\n",
    "V_SRls_mask = datTree.V_SRls_mask\n",
    "\n",
    "V_CRhs_mask = datTree.V_CRhs_mask\n",
    "V_CRls_mask = datTree.V_CRls_mask\n",
    "\n",
    "V_mask = np.logical_or(V_SR_mask, V_CR_mask)\n",
    "\n",
    "ls_mask = datTree.ls_mask\n",
    "hs_mask = datTree.hs_mask"
   ]
  },
  {
   "cell_type": "code",
   "execution_count": 13,
   "metadata": {},
   "outputs": [
    {
     "data": {
      "image/png": "[encoded data removed]",
      "text/plain": [
       "<Figure size 576x576 with 2 Axes>"
      ]
     },
     "metadata": {
      "needs_background": "light"
     },
     "output_type": "display_data"
    }
   ],
   "source": [
    "var = 'HX_costheta'\n",
    "bins = np.linspace(0, 1, 30)\n",
    "\n",
    "original = datTree.np(var)[V_SRls_mask]\n",
    "target = datTree.np(var)[V_SRhs_mask]\n",
    "norm = len(target)/sum(datTree.V_SR_weights)\n",
    "\n",
    "fig, axs = plt.subplots(nrows=2, ncols=1, figsize=(8,8), gridspec_kw={'height_ratios':[4,1]})\n",
    "pull = Ratio([target, original],  bins=bins, axs=axs, labels=['Target','Model'], xlabel=var, weights=[None, datTree.V_SR_weights*norm], pull=True)\n",
    "\n"
   ]
  },
  {
   "cell_type": "code",
   "execution_count": null,
   "metadata": {},
   "outputs": [],
   "source": []
  }
 ],
 "metadata": {
  "interpreter": {
   "hash": "5df4d1b2ce696ef8a7cc914f733ed0eed40caa2570f001e67a5aef7cf7cbd879"
  },
  "kernelspec": {
   "display_name": "Python 3.8.12 ('work')",
   "language": "python",
   "name": "python3"
  },
  "language_info": {
   "codemirror_mode": {
    "name": "ipython",
    "version": 3
   },
   "file_extension": ".py",
   "mimetype": "text/x-python",
   "name": "python",
   "nbconvert_exporter": "python",
   "pygments_lexer": "ipython3",
   "version": "3.8.12"
  },
  "orig_nbformat": 4
 },
 "nbformat": 4,
 "nbformat_minor": 2
}
