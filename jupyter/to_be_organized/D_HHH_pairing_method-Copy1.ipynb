{
 "cells": [
  {
   "cell_type": "code",
   "execution_count": 1,
   "id": "01e4de68-18f8-4dcb-8cb8-a2c86aa3375e",
   "metadata": {},
   "outputs": [],
   "source": [
    "%load_ext autoreload\n",
    "%autoreload 2\n",
    "\n",
    "import os\n",
    "import sys\n",
    "import git\n",
    "\n",
    "import uproot as ut\n",
    "import awkward as ak\n",
    "import numpy as np\n",
    "import math\n",
    "import vector\n",
    "import sympy as sp\n",
    "\n",
    "import re\n",
    "from tqdm import tqdm\n",
    "import timeit\n",
    "\n",
    "sys.path.append( git.Repo('.', search_parent_directories=True).working_tree_dir )\n",
    "from utils import *"
   ]
  },
  {
   "cell_type": "code",
   "execution_count": 2,
   "id": "923afd1b-275c-485b-ae33-420923537c45",
   "metadata": {},
   "outputs": [
    {
     "data": {
      "text/plain": [
       "[[(0, 1),\n",
       "  (0, 2),\n",
       "  (0, 3),\n",
       "  (0, 4),\n",
       "  (0, 5),\n",
       "  (1, 2),\n",
       "  (1, 3),\n",
       "  (1, 4),\n",
       "  (1, 5),\n",
       "  (2, 3),\n",
       "  (2, 4),\n",
       "  (2, 5),\n",
       "  (3, 4),\n",
       "  (3, 5),\n",
       "  (4, 5)]]"
      ]
     },
     "execution_count": 2,
     "metadata": {},
     "output_type": "execute_result"
    }
   ],
   "source": [
    "ak.to_list(ak.combinations([list(range(6))],2))"
   ]
  },
  {
   "cell_type": "code",
   "execution_count": 3,
   "id": "ba8c0db4-9ce6-486b-9a12-91d26845be12",
   "metadata": {},
   "outputs": [],
   "source": [
    "def get_all_triH_njet_combs(njet=6):\n",
    "    if njet < 6: return []\n",
    "    \n",
    "    jets = list(range(njet))\n",
    "    j0 = jets[0]\n",
    "    triH_combs = [ [j0,j1] for j1 in jets[1:] ]\n",
    "    triH_combs = [ comb+[j2] for comb in triH_combs for j2 in jets if j2 not in comb]\n",
    "    triH_combs = [ comb+[j3] for comb in triH_combs for j3 in jets if j3 not in comb and j3>comb[-1]]\n",
    "    triH_combs = [ comb+[j4] for comb in triH_combs for j4 in jets if j4 not in comb and j4>comb[-2]]\n",
    "    triH_combs = [ comb+[j5] for comb in triH_combs for j5 in jets if j5 not in comb and j5>comb[-1]]\n",
    "    return triH_combs"
   ]
  },
  {
   "cell_type": "code",
   "execution_count": 4,
   "id": "bcb105dd-6783-4d22-8f8d-7b52476211d0",
   "metadata": {},
   "outputs": [],
   "source": [
    "triH_combs = get_all_triH_njet_combs()"
   ]
  },
  {
   "cell_type": "code",
   "execution_count": 5,
   "id": "c29a046a-e0f2-4e12-a959-6c8561b025aa",
   "metadata": {},
   "outputs": [
    {
     "data": {
      "text/plain": [
       "[[0, 1, 2, 3, 4, 5],\n",
       " [0, 1, 2, 4, 3, 5],\n",
       " [0, 1, 2, 5, 3, 4],\n",
       " [0, 2, 1, 3, 4, 5],\n",
       " [0, 2, 1, 4, 3, 5],\n",
       " [0, 2, 1, 5, 3, 4],\n",
       " [0, 3, 1, 2, 4, 5],\n",
       " [0, 3, 1, 4, 2, 5],\n",
       " [0, 3, 1, 5, 2, 4],\n",
       " [0, 4, 1, 2, 3, 5],\n",
       " [0, 4, 1, 3, 2, 5],\n",
       " [0, 4, 1, 5, 2, 3],\n",
       " [0, 5, 1, 2, 3, 4],\n",
       " [0, 5, 1, 3, 2, 4],\n",
       " [0, 5, 1, 4, 2, 3]]"
      ]
     },
     "execution_count": 5,
     "metadata": {},
     "output_type": "execute_result"
    }
   ],
   "source": [
    "triH_combs"
   ]
  },
  {
   "cell_type": "code",
   "execution_count": 6,
   "id": "3b78a759-01b9-492e-a256-7dbd2da20dc2",
   "metadata": {},
   "outputs": [],
   "source": [
    "tree = Tree(fc.sr.NMSSM_MX_700_MY_400)\n",
    "selection = Selection(tree,njets=6)\n",
    "tru_selection = Selection(tree,njets=6,mask=selection.nsixb_selected==6)"
   ]
  },
  {
   "cell_type": "code",
   "execution_count": 7,
   "id": "08177823-1580-4385-803a-ebbd630b74c4",
   "metadata": {},
   "outputs": [],
   "source": [
    "triH_tru = ak.argsort(tru_selection[\"jet_signalId\"],axis=-1)"
   ]
  },
  {
   "cell_type": "code",
   "execution_count": 8,
   "id": "48b7ddf2-2f5b-46c3-9813-f6495a9c8ecf",
   "metadata": {},
   "outputs": [],
   "source": [
    "def pair_adjacent_jets(pt,eta,phi,m):\n",
    "    j0,j1,j2,j3,j4,j5 = [ vector.obj(pt=pt[:,ijet],eta=eta[:,ijet],phi=phi[:,ijet],m=m[:,ijet]) for ijet in range(6) ]\n",
    "    \n",
    "    h0 = j0+j1\n",
    "    h1 = j2+j3\n",
    "    h2 = j4+j5\n",
    "    \n",
    "    h_pt,h_eta,h_phi,h_m = [ ak.concatenate([getattr(h,kin)[:,np.newaxis] for h in [h0,h1,h2]],axis=-1) for kin in ('pt','eta','phi','m') ]\n",
    "\n",
    "    pt_sorted = ak.argsort(h_pt,ascending=False)\n",
    "    \n",
    "    h_pt,h_eta,h_phi,h_m = [ h_kin[pt_sorted] for h_kin in [h_pt,h_eta,h_phi,h_m] ]\n",
    "    \n",
    "    h0,h1,h2 = [ vector.obj(pt=h_pt[:,ih],eta=h_eta[:,ih],phi=h_phi[:,ih],m=h_m[:,ih]) for ih in range(3) ]\n",
    "    \n",
    "    return h0,h1,h2"
   ]
  },
  {
   "cell_type": "code",
   "execution_count": 9,
   "id": "f592d092-d69e-438e-9168-61833a055fad",
   "metadata": {},
   "outputs": [],
   "source": [
    "def use_triH_comb(selection,triH_comb):\n",
    "    if type(triH_comb) == list:\n",
    "        triH_comb = ak.Array([triH_comb]*selection.nevents)\n",
    "    pt =  selection[\"jet_pt\"][triH_comb]\n",
    "    eta = selection[\"jet_eta\"][triH_comb]\n",
    "    phi = selection[\"jet_phi\"][triH_comb]\n",
    "    m = selection[\"jet_m\"][triH_comb]\n",
    "    return pair_adjacent_jets(pt,eta,phi,m)"
   ]
  },
  {
   "cell_type": "code",
   "execution_count": 10,
   "id": "1329391d-ea78-4ba4-ac5b-16adf9a6290a",
   "metadata": {},
   "outputs": [],
   "source": [
    "def get_m_vec(selection,triH_comb):\n",
    "    h0,h1,h2 = use_triH_comb(selection,triH_comb)\n",
    "    m0,m1,m2 = h0.m,h1.m,h2.m\n",
    "    m_vec = vector.obj(x=m0,y=m1,z=m2)\n",
    "    return m_vec"
   ]
  },
  {
   "cell_type": "code",
   "execution_count": 11,
   "id": "cb7405c1-a94e-4383-b099-f498ac26395e",
   "metadata": {},
   "outputs": [],
   "source": [
    "def higgs_performance(x,y,z,saveas=None):\n",
    "    fig,axs = plt.subplots(nrows=1,ncols=3,figsize=(18,5))\n",
    "    hist_multi([x,y,z],labels=[\"Mx\",\"My\",\"Mz\"],xlabel=\"Dijet M\",figax=(fig,axs[0])); hist2d_simple(x,y,xlabel=\"Mx\",ylabel=\"My\",figax=(fig,axs[1])); hist2d_simple(x,y,xlabel=\"Mx\",ylabel=\"Mz\",figax=(fig,axs[2]));\n",
    "    if saveas: save_fig(fig,\"d_hhh\",saveas)"
   ]
  },
  {
   "cell_type": "code",
   "execution_count": 12,
   "id": "31e4fc95-18c4-4c1c-b743-a23578c79e2f",
   "metadata": {},
   "outputs": [],
   "source": [
    "m_vec = get_m_vec(tru_selection,triH_tru)\n",
    "x,y,z = [ak.to_numpy(r) for r in (m_vec.x,m_vec.y,m_vec.z)]"
   ]
  },
  {
   "cell_type": "code",
   "execution_count": 13,
   "id": "3d2cdaa5-1a37-429e-8fad-0cad728a5747",
   "metadata": {},
   "outputs": [
    {
     "data": {
      "image/png": "[encoded data removed]",
      "text/plain": [
       "<Figure size 1296x360 with 5 Axes>"
      ]
     },
     "metadata": {
      "needs_background": "light"
     },
     "output_type": "display_data"
    }
   ],
   "source": [
    "higgs_performance(x,y,z,\"input_points\")"
   ]
  },
  {
   "cell_type": "code",
   "execution_count": 14,
   "id": "fe9bd2d7-c353-4347-a035-2bb8afceb0ce",
   "metadata": {},
   "outputs": [
    {
     "name": "stdout",
     "output_type": "stream",
     "text": [
      "Optimization terminated successfully.\n",
      "         Current function value: -0.032480\n",
      "         Iterations: 29\n",
      "         Function evaluations: 64\n"
     ]
    }
   ],
   "source": [
    "r_vec = lambda phi,theta : vector.obj(rho=1,phi=phi,theta=theta)\n",
    "d_hhh_inv = lambda angles : -1/ak.mean(m_vec.cross(r_vec(angles[0],angles[1])).mag,axis=-1)\n",
    "x_min = scipy.optimize.fmin(d_hhh_inv,[np.pi/4,np.pi/2])"
   ]
  },
  {
   "cell_type": "code",
   "execution_count": 15,
   "id": "5ad0d6bf-ecd7-4ba5-9d70-eaf1cc8b624e",
   "metadata": {},
   "outputs": [
    {
     "name": "stdout",
     "output_type": "stream",
     "text": [
      "0.7661090402653312 0.9773878735143617\n"
     ]
    }
   ],
   "source": [
    "mean_phi,mean_theta = x_min\n",
    "print(mean_phi,mean_theta)"
   ]
  },
  {
   "cell_type": "code",
   "execution_count": 16,
   "id": "bcfac672-7b89-4144-abc6-8db00bafd7b9",
   "metadata": {},
   "outputs": [],
   "source": [
    "import matplotlib.pyplot as plt\n",
    "\n",
    "from mpl_toolkits.mplot3d import Axes3D"
   ]
  },
  {
   "cell_type": "code",
   "execution_count": 17,
   "id": "920993ce-f3cb-4d40-baee-099110283e44",
   "metadata": {},
   "outputs": [],
   "source": [
    "%matplotlib widget"
   ]
  },
  {
   "cell_type": "code",
   "execution_count": 18,
   "id": "d00c8d28-2a00-42b5-ad6e-17f2c9f11d2d",
   "metadata": {},
   "outputs": [
    {
     "data": {
      "application/vnd.jupyter.widget-view+json": {
       "model_id": "47e677d279c34dfaacbc1843a615e38c",
       "version_major": 2,
       "version_minor": 0
      },
      "text/plain": [
       "Canvas(toolbar=Toolbar(toolitems=[('Home', 'Reset original view', 'home', 'home'), ('Back', 'Back to previous …"
      ]
     },
     "metadata": {},
     "output_type": "display_data"
    }
   ],
   "source": [
    "fig = plt.figure(figsize=(16,12))\n",
    "\n",
    "ax = fig.add_subplot(111, projection='3d')\n",
    "\n",
    "ax.scatter(*[ r[:1000] for r in (x,y,z)],alpha=0.1)\n",
    "\n",
    "lt = np.linspace(0,500,2)\n",
    "lx = lt*np.cos(mean_phi)*np.sin(mean_theta)\n",
    "ly = lt*np.sin(mean_phi)*np.sin(mean_theta)\n",
    "lz = lt*np.cos(mean_theta)\n",
    "\n",
    "ax.plot(lx,ly,lz,color=\"red\")\n",
    "\n",
    "for r in ('x','y','z'):\n",
    "    getattr(ax,f\"set_{r}label\")(f\"M{r}\")\n",
    "    getattr(ax,f\"set_{r}lim\")(0,250)"
   ]
  },
  {
   "cell_type": "code",
   "execution_count": null,
   "id": "de1edb9e-ebcd-4c0d-a754-97bffe8ce4db",
   "metadata": {},
   "outputs": [],
   "source": []
  }
 ],
 "metadata": {
  "kernelspec": {
   "display_name": "Python 3",
   "language": "python",
   "name": "python3"
  },
  "language_info": {
   "codemirror_mode": {
    "name": "ipython",
    "version": 3
   },
   "file_extension": ".py",
   "mimetype": "text/x-python",
   "name": "python",
   "nbconvert_exporter": "python",
   "pygments_lexer": "ipython3",
   "version": "3.8.10"
  }
 },
 "nbformat": 4,
 "nbformat_minor": 5
}
