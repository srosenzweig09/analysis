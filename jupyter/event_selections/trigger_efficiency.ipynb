{
 "cells": [
  {
   "cell_type": "code",
   "execution_count": 7,
   "metadata": {},
   "outputs": [],
   "source": [
    "def trigger_efficiency(mx, my):\n",
    "   tree = Signal(get_NMSSM(mx, my))\n",
    "   return tree.cutflow[1]/tree.cutflow[0]"
   ]
  },
  {
   "cell_type": "code",
   "execution_count": 10,
   "metadata": {},
   "outputs": [
    {
     "data": {
      "text/plain": [
       "[0.25106916,\n",
       " 0.35618,\n",
       " 0.56203014,\n",
       " 0.5763,\n",
       " 0.66565,\n",
       " 0.70328003,\n",
       " 0.6893545,\n",
       " 0.71959394,\n",
       " 0.7618492,\n",
       " 0.7709293,\n",
       " 0.74624,\n",
       " 0.75566834,\n",
       " 0.79213065,\n",
       " 0.80887,\n",
       " 0.8045,\n",
       " 0.7777588,\n",
       " 0.77413565,\n",
       " 0.8140989,\n",
       " 0.82701004,\n",
       " 0.83469003,\n",
       " 0.8270838,\n",
       " 0.7990653,\n",
       " 0.785,\n",
       " 0.825101,\n",
       " 0.84088004,\n",
       " 0.84944504,\n",
       " 0.85025,\n",
       " 0.83932006,\n",
       " 0.81179,\n",
       " 0.78865004,\n",
       " 0.829799,\n",
       " 0.8492525,\n",
       " 0.85873,\n",
       " 0.85997987,\n",
       " 0.857835,\n",
       " 0.84878755]"
      ]
     },
     "execution_count": 10,
     "metadata": {},
     "output_type": "execute_result"
    }
   ],
   "source": [
    "trig_effs = []\n",
    "for mx,my in mx_my_masses:\n",
    "   trig_effs.append(trigger_efficiency(mx,my))\n",
    "   \n",
    "trig_effs"
   ]
  },
  {
   "cell_type": "code",
   "execution_count": 11,
   "metadata": {},
   "outputs": [
    {
     "data": {
      "text/plain": [
       "36"
      ]
     },
     "execution_count": 11,
     "metadata": {},
     "output_type": "execute_result"
    }
   ],
   "source": [
    "len(trig_effs)"
   ]
  },
  {
   "cell_type": "code",
   "execution_count": 17,
   "metadata": {},
   "outputs": [],
   "source": [
    "mx_my = np.row_stack(mx_my_masses)\n",
    "mx = mx_my[:,0]\n",
    "my = mx_my[:,1]"
   ]
  },
  {
   "cell_type": "code",
   "execution_count": 25,
   "metadata": {},
   "outputs": [],
   "source": [
    "data = np.column_stack((mx, my, trig_effs))"
   ]
  },
  {
   "cell_type": "code",
   "execution_count": 50,
   "metadata": {},
   "outputs": [],
   "source": [
    "np.set_printoptions(suppress=True)\n",
    "txt_data = np.around(data, 2)\n",
    "txt_data[:,2] = txt_data[:,2]*100\n",
    "np.savetxt(\"jupyter/3_preselections/trigger.txt\", txt_data, delimiter=\",\", fmt='%d', header=','.join(cols))"
   ]
  },
  {
   "cell_type": "code",
   "execution_count": 46,
   "metadata": {},
   "outputs": [
    {
     "data": {
      "text/plain": [
       "array([[ 450.,  300.,   25.],\n",
       "       [ 500.,  300.,   36.],\n",
       "       [ 600.,  300.,   56.],\n",
       "       [ 600.,  400.,   58.],\n",
       "       [ 700.,  300.,   67.],\n",
       "       [ 700.,  400.,   70.],\n",
       "       [ 700.,  500.,   69.],\n",
       "       [ 800.,  300.,   72.],\n",
       "       [ 800.,  400.,   76.],\n",
       "       [ 800.,  500.,   77.],\n",
       "       [ 800.,  600.,   75.],\n",
       "       [ 900.,  300.,   76.],\n",
       "       [ 900.,  400.,   79.],\n",
       "       [ 900.,  500.,   81.],\n",
       "       [ 900.,  600.,   80.],\n",
       "       [ 900.,  700.,   78.],\n",
       "       [1000.,  300.,   77.],\n",
       "       [1000.,  400.,   81.],\n",
       "       [1000.,  500.,   83.],\n",
       "       [1000.,  600.,   83.],\n",
       "       [1000.,  700.,   83.],\n",
       "       [1000.,  800.,   80.],\n",
       "       [1100.,  300.,   79.],\n",
       "       [1100.,  400.,   83.],\n",
       "       [1100.,  500.,   84.],\n",
       "       [1100.,  600.,   85.],\n",
       "       [1100.,  700.,   85.],\n",
       "       [1100.,  800.,   84.],\n",
       "       [1100.,  900.,   81.],\n",
       "       [1200.,  300.,   79.],\n",
       "       [1200.,  400.,   83.],\n",
       "       [1200.,  500.,   85.],\n",
       "       [1200.,  600.,   86.],\n",
       "       [1200.,  700.,   86.],\n",
       "       [1200.,  800.,   86.],\n",
       "       [1200.,  900.,   85.]])"
      ]
     },
     "execution_count": 46,
     "metadata": {},
     "output_type": "execute_result"
    }
   ],
   "source": [
    "txt_data"
   ]
  },
  {
   "cell_type": "code",
   "execution_count": null,
   "metadata": {},
   "outputs": [],
   "source": []
  },
  {
   "cell_type": "code",
   "execution_count": 22,
   "metadata": {},
   "outputs": [],
   "source": [
    "import pandas as pd"
   ]
  },
  {
   "cell_type": "code",
   "execution_count": 29,
   "metadata": {},
   "outputs": [],
   "source": [
    "cols = ['MX','MY','Efficiency']\n",
    "df = pd.DataFrame(data, columns=cols)\n",
    "df = df.astype({key:int for key in cols[:2]})\n",
    "df = df.set_index(cols[:2])\n",
    "df = df.sort_index()"
   ]
  },
  {
   "cell_type": "code",
   "execution_count": 31,
   "metadata": {},
   "outputs": [
    {
     "data": {
      "text/html": [
       "<div>\n",
       "<style scoped>\n",
       "    .dataframe tbody tr th:only-of-type {\n",
       "        vertical-align: middle;\n",
       "    }\n",
       "\n",
       "    .dataframe tbody tr th {\n",
       "        vertical-align: top;\n",
       "    }\n",
       "\n",
       "    .dataframe thead th {\n",
       "        text-align: right;\n",
       "    }\n",
       "</style>\n",
       "<table border=\"1\" class=\"dataframe\">\n",
       "  <thead>\n",
       "    <tr style=\"text-align: right;\">\n",
       "      <th></th>\n",
       "      <th></th>\n",
       "      <th>Efficiency</th>\n",
       "    </tr>\n",
       "    <tr>\n",
       "      <th>MX</th>\n",
       "      <th>MY</th>\n",
       "      <th></th>\n",
       "    </tr>\n",
       "  </thead>\n",
       "  <tbody>\n",
       "    <tr>\n",
       "      <th>450</th>\n",
       "      <th>300</th>\n",
       "      <td>0.251069</td>\n",
       "    </tr>\n",
       "    <tr>\n",
       "      <th>500</th>\n",
       "      <th>300</th>\n",
       "      <td>0.356180</td>\n",
       "    </tr>\n",
       "    <tr>\n",
       "      <th rowspan=\"2\" valign=\"top\">600</th>\n",
       "      <th>300</th>\n",
       "      <td>0.562030</td>\n",
       "    </tr>\n",
       "    <tr>\n",
       "      <th>400</th>\n",
       "      <td>0.576300</td>\n",
       "    </tr>\n",
       "    <tr>\n",
       "      <th rowspan=\"3\" valign=\"top\">700</th>\n",
       "      <th>300</th>\n",
       "      <td>0.665650</td>\n",
       "    </tr>\n",
       "    <tr>\n",
       "      <th>400</th>\n",
       "      <td>0.703280</td>\n",
       "    </tr>\n",
       "    <tr>\n",
       "      <th>500</th>\n",
       "      <td>0.689354</td>\n",
       "    </tr>\n",
       "    <tr>\n",
       "      <th rowspan=\"4\" valign=\"top\">800</th>\n",
       "      <th>300</th>\n",
       "      <td>0.719594</td>\n",
       "    </tr>\n",
       "    <tr>\n",
       "      <th>400</th>\n",
       "      <td>0.761849</td>\n",
       "    </tr>\n",
       "    <tr>\n",
       "      <th>500</th>\n",
       "      <td>0.770929</td>\n",
       "    </tr>\n",
       "    <tr>\n",
       "      <th>600</th>\n",
       "      <td>0.746240</td>\n",
       "    </tr>\n",
       "    <tr>\n",
       "      <th rowspan=\"5\" valign=\"top\">900</th>\n",
       "      <th>300</th>\n",
       "      <td>0.755668</td>\n",
       "    </tr>\n",
       "    <tr>\n",
       "      <th>400</th>\n",
       "      <td>0.792131</td>\n",
       "    </tr>\n",
       "    <tr>\n",
       "      <th>500</th>\n",
       "      <td>0.808870</td>\n",
       "    </tr>\n",
       "    <tr>\n",
       "      <th>600</th>\n",
       "      <td>0.804500</td>\n",
       "    </tr>\n",
       "    <tr>\n",
       "      <th>700</th>\n",
       "      <td>0.777759</td>\n",
       "    </tr>\n",
       "    <tr>\n",
       "      <th rowspan=\"6\" valign=\"top\">1000</th>\n",
       "      <th>300</th>\n",
       "      <td>0.774136</td>\n",
       "    </tr>\n",
       "    <tr>\n",
       "      <th>400</th>\n",
       "      <td>0.814099</td>\n",
       "    </tr>\n",
       "    <tr>\n",
       "      <th>500</th>\n",
       "      <td>0.827010</td>\n",
       "    </tr>\n",
       "    <tr>\n",
       "      <th>600</th>\n",
       "      <td>0.834690</td>\n",
       "    </tr>\n",
       "    <tr>\n",
       "      <th>700</th>\n",
       "      <td>0.827084</td>\n",
       "    </tr>\n",
       "    <tr>\n",
       "      <th>800</th>\n",
       "      <td>0.799065</td>\n",
       "    </tr>\n",
       "    <tr>\n",
       "      <th rowspan=\"7\" valign=\"top\">1100</th>\n",
       "      <th>300</th>\n",
       "      <td>0.785000</td>\n",
       "    </tr>\n",
       "    <tr>\n",
       "      <th>400</th>\n",
       "      <td>0.825101</td>\n",
       "    </tr>\n",
       "    <tr>\n",
       "      <th>500</th>\n",
       "      <td>0.840880</td>\n",
       "    </tr>\n",
       "    <tr>\n",
       "      <th>600</th>\n",
       "      <td>0.849445</td>\n",
       "    </tr>\n",
       "    <tr>\n",
       "      <th>700</th>\n",
       "      <td>0.850250</td>\n",
       "    </tr>\n",
       "    <tr>\n",
       "      <th>800</th>\n",
       "      <td>0.839320</td>\n",
       "    </tr>\n",
       "    <tr>\n",
       "      <th>900</th>\n",
       "      <td>0.811790</td>\n",
       "    </tr>\n",
       "    <tr>\n",
       "      <th rowspan=\"7\" valign=\"top\">1200</th>\n",
       "      <th>300</th>\n",
       "      <td>0.788650</td>\n",
       "    </tr>\n",
       "    <tr>\n",
       "      <th>400</th>\n",
       "      <td>0.829799</td>\n",
       "    </tr>\n",
       "    <tr>\n",
       "      <th>500</th>\n",
       "      <td>0.849253</td>\n",
       "    </tr>\n",
       "    <tr>\n",
       "      <th>600</th>\n",
       "      <td>0.858730</td>\n",
       "    </tr>\n",
       "    <tr>\n",
       "      <th>700</th>\n",
       "      <td>0.859980</td>\n",
       "    </tr>\n",
       "    <tr>\n",
       "      <th>800</th>\n",
       "      <td>0.857835</td>\n",
       "    </tr>\n",
       "    <tr>\n",
       "      <th>900</th>\n",
       "      <td>0.848788</td>\n",
       "    </tr>\n",
       "  </tbody>\n",
       "</table>\n",
       "</div>"
      ],
      "text/plain": [
       "          Efficiency\n",
       "MX   MY             \n",
       "450  300    0.251069\n",
       "500  300    0.356180\n",
       "600  300    0.562030\n",
       "     400    0.576300\n",
       "700  300    0.665650\n",
       "     400    0.703280\n",
       "     500    0.689354\n",
       "800  300    0.719594\n",
       "     400    0.761849\n",
       "     500    0.770929\n",
       "     600    0.746240\n",
       "900  300    0.755668\n",
       "     400    0.792131\n",
       "     500    0.808870\n",
       "     600    0.804500\n",
       "     700    0.777759\n",
       "1000 300    0.774136\n",
       "     400    0.814099\n",
       "     500    0.827010\n",
       "     600    0.834690\n",
       "     700    0.827084\n",
       "     800    0.799065\n",
       "1100 300    0.785000\n",
       "     400    0.825101\n",
       "     500    0.840880\n",
       "     600    0.849445\n",
       "     700    0.850250\n",
       "     800    0.839320\n",
       "     900    0.811790\n",
       "1200 300    0.788650\n",
       "     400    0.829799\n",
       "     500    0.849253\n",
       "     600    0.858730\n",
       "     700    0.859980\n",
       "     800    0.857835\n",
       "     900    0.848788"
      ]
     },
     "execution_count": 31,
     "metadata": {},
     "output_type": "execute_result"
    }
   ],
   "source": [
    "df"
   ]
  },
  {
   "cell_type": "code",
   "execution_count": 51,
   "metadata": {},
   "outputs": [
    {
     "data": {
      "text/plain": [
       "(7,)"
      ]
     },
     "execution_count": 51,
     "metadata": {},
     "output_type": "execute_result"
    }
   ],
   "source": [
    "np.unique(my).shape"
   ]
  },
  {
   "cell_type": "code",
   "execution_count": null,
   "metadata": {},
   "outputs": [],
   "source": []
  },
  {
   "cell_type": "code",
   "execution_count": null,
   "metadata": {},
   "outputs": [],
   "source": []
  }
 ],
 "metadata": {
  "interpreter": {
   "hash": "5df4d1b2ce696ef8a7cc914f733ed0eed40caa2570f001e67a5aef7cf7cbd879"
  },
  "kernelspec": {
   "display_name": "Python 3.8.12 ('work')",
   "language": "python",
   "name": "python3"
  },
  "language_info": {
   "codemirror_mode": {
    "name": "ipython",
    "version": 3
   },
   "file_extension": ".py",
   "mimetype": "text/x-python",
   "name": "python",
   "nbconvert_exporter": "python",
   "pygments_lexer": "ipython3",
   "version": "3.8.12"
  },
  "orig_nbformat": 4
 },
 "nbformat": 4,
 "nbformat_minor": 2
}
