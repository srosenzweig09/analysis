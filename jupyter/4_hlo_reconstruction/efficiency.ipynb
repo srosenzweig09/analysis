{
 "cells": [
  {
   "cell_type": "code",
   "execution_count": 1,
   "metadata": {},
   "outputs": [],
   "source": [
    "files = FileLocations()\n",
    "filename = files.get_NMSSM(700, 400)\n",
    "tree = Signal(filename)"
   ]
  },
  {
   "cell_type": "code",
   "execution_count": 41,
   "metadata": {},
   "outputs": [],
   "source": [
    "flags = ['HX_b1_genHflag',\n",
    "         'HX_b2_genHflag',\n",
    "         'HY1_b1_genHflag',\n",
    "         'HY1_b2_genHflag',\n",
    "         'HY2_b1_genHflag',\n",
    "         'HY2_b2_genHflag']\n",
    "\n",
    "tree_flags =[tree.get(flag).to_numpy() for flag in flags]"
   ]
  },
  {
   "cell_type": "code",
   "execution_count": 48,
   "metadata": {},
   "outputs": [],
   "source": [
    "HX = np.column_stack((tree_flags[:2]))\n",
    "HY1 = np.column_stack((tree_flags[2:4]))\n",
    "HY2 = np.column_stack((tree_flags[4:]))"
   ]
  },
  {
   "cell_type": "code",
   "execution_count": 58,
   "metadata": {},
   "outputs": [],
   "source": [
    "HX_flag = np.any(HX == 0, axis=1)\n",
    "HY1_flag = np.any(np.logical_or(HY1 == 1, HY1 == 2), axis=1)\n",
    "HY2_flag = np.any(np.logical_or(HY2 == 1, HY2 == 2), axis=1)"
   ]
  },
  {
   "cell_type": "code",
   "execution_count": 62,
   "metadata": {},
   "outputs": [
    {
     "data": {
      "text/plain": [
       "0.7574240211419431"
      ]
     },
     "execution_count": 62,
     "metadata": {},
     "output_type": "execute_result"
    }
   ],
   "source": [
    "sum(np.logical_or(HX_flag, HY1_flag, HY2_flag)) / len(HY1_flag)"
   ]
  },
  {
   "cell_type": "code",
   "execution_count": 63,
   "metadata": {},
   "outputs": [
    {
     "data": {
      "text/plain": [
       "0.41630155087280063"
      ]
     },
     "execution_count": 63,
     "metadata": {},
     "output_type": "execute_result"
    }
   ],
   "source": [
    "sum(np.logical_and(HX_flag, HY1_flag, HY2_flag)) / len(HY1_flag)"
   ]
  },
  {
   "cell_type": "code",
   "execution_count": null,
   "metadata": {},
   "outputs": [],
   "source": []
  }
 ],
 "metadata": {
  "interpreter": {
   "hash": "5df4d1b2ce696ef8a7cc914f733ed0eed40caa2570f001e67a5aef7cf7cbd879"
  },
  "kernelspec": {
   "display_name": "Python 3.8.12 ('work')",
   "language": "python",
   "name": "python3"
  },
  "language_info": {
   "codemirror_mode": {
    "name": "ipython",
    "version": 3
   },
   "file_extension": ".py",
   "mimetype": "text/x-python",
   "name": "python",
   "nbconvert_exporter": "python",
   "pygments_lexer": "ipython3",
   "version": "3.8.12"
  },
  "orig_nbformat": 4
 },
 "nbformat": 4,
 "nbformat_minor": 2
}
