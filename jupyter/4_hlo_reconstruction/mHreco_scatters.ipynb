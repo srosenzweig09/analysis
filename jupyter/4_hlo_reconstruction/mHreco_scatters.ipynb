{
 "cells": [
  {
   "cell_type": "code",
   "execution_count": 14,
   "metadata": {},
   "outputs": [],
   "source": [
    "import re"
   ]
  },
  {
   "cell_type": "code",
   "execution_count": 29,
   "metadata": {},
   "outputs": [
    {
     "data": {
      "text/plain": [
       "'NMSSM_XYH_YToHH_6b_MX_700_MY_400'"
      ]
     },
     "execution_count": 29,
     "metadata": {},
     "output_type": "execute_result"
    }
   ],
   "source": [
    "re.search('NMSSM_.+/', NMSSM_MX_700_MY_400).group()[:-1]"
   ]
  },
  {
   "cell_type": "code",
   "execution_count": 8,
   "metadata": {},
   "outputs": [],
   "source": [
    "from utils.analysis import Signal\n",
    "import os"
   ]
  },
  {
   "cell_type": "code",
   "execution_count": 3,
   "metadata": {},
   "outputs": [],
   "source": [
    "sig = Signal(NMSSM_MX_700_MY_400)"
   ]
  },
  {
   "cell_type": "code",
   "execution_count": 38,
   "metadata": {},
   "outputs": [
    {
     "name": "stdout",
     "output_type": "stream",
     "text": [
      "[INFO] Processing sample: NMSSM_XYH_YToHH_6b_MX_450_MY_300\n",
      "|Signal Region | Validation Region | Control Region|\n",
      "|Low   | High  | Low     |    High | Low    |  High|\n",
      "|1143  | 2276  | 453     | 723     | 232    | 201  |\n",
      ".. initializing variables\n",
      "[INFO] Processing sample: NMSSM_XYH_YToHH_6b_MX_500_MY_300\n",
      "|Signal Region | Validation Region | Control Region|\n",
      "|Low   | High  | Low     |    High | Low    |  High|\n",
      "|1798  | 3976  | 530     | 811     | 419    | 290  |\n",
      ".. initializing variables\n",
      "[INFO] Processing sample: NMSSM_XYH_YToHH_6b_MX_600_MY_300\n",
      "|Signal Region | Validation Region | Control Region|\n",
      "|Low   | High  | Low     |    High | Low    |  High|\n",
      "|2729  | 6657  | 699     | 1096     | 853    | 833  |\n",
      ".. initializing variables\n",
      "[INFO] Processing sample: NMSSM_XYH_YToHH_6b_MX_600_MY_400\n",
      "|Signal Region | Validation Region | Control Region|\n",
      "|Low   | High  | Low     |    High | Low    |  High|\n",
      "|2852  | 6923  | 653     | 985     | 958    | 850  |\n",
      ".. initializing variables\n",
      "[INFO] Processing sample: NMSSM_XYH_YToHH_6b_MX_700_MY_300\n",
      "|Signal Region | Validation Region | Control Region|\n",
      "|Low   | High  | Low     |    High | Low    |  High|\n",
      "|2834  | 7347  | 685     | 997     | 1496    | 1731  |\n",
      ".. initializing variables\n",
      "[INFO] Processing sample: NMSSM_XYH_YToHH_6b_MX_700_MY_400\n",
      "|Signal Region | Validation Region | Control Region|\n",
      "|Low   | High  | Low     |    High | Low    |  High|\n",
      "|3298  | 8607  | 657     | 1088     | 1959    | 2210  |\n",
      ".. initializing variables\n",
      "[INFO] Processing sample: NMSSM_XYH_YToHH_6b_MX_700_MY_500\n",
      "|Signal Region | Validation Region | Control Region|\n",
      "|Low   | High  | Low     |    High | Low    |  High|\n",
      "|3207  | 8181  | 651     | 1082     | 1878    | 2056  |\n",
      ".. initializing variables\n"
     ]
    }
   ],
   "source": [
    "mHbins = np.linspace(0,600,100)\n",
    "score_bins = np.linspace(0.35,1.01,100)\n",
    "\n",
    "for sample in NMSSM_List:\n",
    "\n",
    "    sig = Signal(sample)\n",
    "    print(f\"[INFO] Processing sample: {sig.filename}\")\n",
    "    sig.region_yield()\n",
    "\n",
    "    print(\".. initializing variables\")\n",
    "    sums = sig.btag_avg\n",
    "    m1 = sig.HX_m\n",
    "    m2 = sig.HY1_m\n",
    "    m3 = sig.HY2_m\n",
    "\n",
    "    # break\n",
    "\n",
    "    # print(\".. initializing fig, ax\")\n",
    "    # fig, axs = plt.subplots(nrows=1, ncols=3, figsize=(35,9))\n",
    "\n",
    "    # ax = axs[0]\n",
    "    # n,xe,ye,im = Hist2d(m1, sums, bins=(mHbins, score_bins), ax=ax)\n",
    "    # fig.colorbar(im, ax=ax)\n",
    "\n",
    "    # ax = axs[1]\n",
    "    # n,xe,ye,im = Hist2d(m2, sums, bins=(mHbins, score_bins), ax=ax)\n",
    "    # fig.colorbar(im, ax=ax)\n",
    "\n",
    "    # ax = axs[2]\n",
    "    # n,xe,ye,im = Hist2d(m3, sums, bins=(mHbins, score_bins), ax=ax)\n",
    "    # fig.colorbar(im, ax=ax)\n",
    "\n",
    "    # for i,ax in enumerate(axs.flatten()):\n",
    "    #     ax.set_ylabel('Average b-tag score')\n",
    "    #     ax.set_xlabel(f'$m_{i+1}$ [GeV]')\n",
    "    #     ax.plot([mHbins.min(), mHbins.max()],[0.66,0.66], color='k')\n",
    "    #     ax.plot([100,100],[score_bins.min(), score_bins.max()], color='k')\n",
    "    #     ax.plot([150,150],[score_bins.min(), score_bins.max()], color='k')\n",
    "    #     ax.plot([65,65],[score_bins.min(), score_bins.max()], color='k')\n",
    "    #     ax.plot([185,185],[score_bins.min(), score_bins.max()], color='k')\n",
    "\n",
    "    # fig.suptitle(sig.filename)\n",
    "\n",
    "    # print(\".. saving plot as pdf\")\n",
    "    # if not os.path.exists(f\"plots/{sig.filename}\"): os.mkdir(f\"plots/{sig.filename}\")\n",
    "    # fig.savefig(f'plots/{sig.filename}/{sig.filename}_btag_v_mHreco.pdf', bbox_inches='tight')\n",
    "    # print()"
   ]
  },
  {
   "cell_type": "code",
   "execution_count": null,
   "metadata": {},
   "outputs": [],
   "source": []
  }
 ],
 "metadata": {
  "interpreter": {
   "hash": "5df4d1b2ce696ef8a7cc914f733ed0eed40caa2570f001e67a5aef7cf7cbd879"
  },
  "kernelspec": {
   "display_name": "Python 3.8.8 ('work')",
   "language": "python",
   "name": "python3"
  },
  "language_info": {
   "codemirror_mode": {
    "name": "ipython",
    "version": 3
   },
   "file_extension": ".py",
   "mimetype": "text/x-python",
   "name": "python",
   "nbconvert_exporter": "python",
   "pygments_lexer": "ipython3",
   "version": "3.8.8"
  },
  "orig_nbformat": 4
 },
 "nbformat": 4,
 "nbformat_minor": 2
}
