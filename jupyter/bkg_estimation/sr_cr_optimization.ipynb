{
 "cells": [
  {
   "cell_type": "code",
   "execution_count": null,
   "metadata": {},
   "outputs": [],
   "source": [
    "def get_mx(masspoint):\n",
    "    return int(masspoint.split('/')[-2].split('_')[2].split('-')[1])"
   ]
  },
  {
   "cell_type": "code",
   "execution_count": null,
   "metadata": {},
   "outputs": [],
   "source": [
    "masspoints = [mass for mass in get_NMSSM_list() if get_mx(mass) < 1300]\n",
    "cutflows = []\n",
    "\n",
    "\n",
    "for mass in masspoints:\n",
    "    tree = SixB(mass)\n",
    "    "
   ]
  }
 ],
 "metadata": {
  "language_info": {
   "name": "python"
  }
 },
 "nbformat": 4,
 "nbformat_minor": 2
}
