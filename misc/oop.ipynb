{
 "cells": [
  {
   "cell_type": "markdown",
   "metadata": {},
   "source": [
    "Chat server - \n",
    "    server relays chat instant messages\n",
    "    all messages are relatively uniform (date in unix format, classification [true/false], location, coordinates, rawMessage)\n",
    "\n",
    "GOAL : Parse information and reorganize into a better format.\n",
    "\n",
    "EX : \n",
    "glob of text \"C 01012022 three people located moving south toward pasadena 23485e-2845n\"\n",
    "\n",
    "rawMessage = \"C 01012022 three people located moving south toward pasadena 23485e-2845n\"\n",
    "\n",
    "- classification = C or U\n",
    "- date = 01012022\n",
    "- location = south\n",
    "- coordinates = 23485e-2845n\n",
    "- rawMessage = three people located moving south toward pasadena\n",
    "\n",
    "Want way to import certain type of data, "
   ]
  },
  {
   "cell_type": "code",
   "execution_count": null,
   "metadata": {},
   "outputs": [],
   "source": [
    "class MessageParser "
   ]
  },
  {
   "cell_type": "code",
   "execution_count": null,
   "metadata": {},
   "outputs": [],
   "source": []
  },
  {
   "cell_type": "code",
   "execution_count": null,
   "metadata": {},
   "outputs": [],
   "source": []
  },
  {
   "cell_type": "code",
   "execution_count": null,
   "metadata": {},
   "outputs": [],
   "source": []
  },
  {
   "cell_type": "markdown",
   "metadata": {},
   "source": [
    "Here, you would already have a class called Report that you define below. After you've defined this new class called Report, you can now create variables of this type/class. "
   ]
  },
  {
   "cell_type": "code",
   "execution_count": null,
   "metadata": {},
   "outputs": [],
   "source": [
    "methods = functions used by the class\n",
    "attributes = variables"
   ]
  },
  {
   "cell_type": "markdown",
   "metadata": {},
   "source": [
    "#1 - define your class\n",
    "\n",
    "Raport\n",
    "    methods : \n",
    "        - parse()\n",
    "        - getRawMessage()\n",
    "\n",
    "    attributes : \n",
    "    \n",
    "        "
   ]
  },
  {
   "cell_type": "code",
   "execution_count": null,
   "metadata": {},
   "outputs": [],
   "source": [
    "Report report = new Report(message='Tacos')"
   ]
  },
  {
   "cell_type": "markdown",
   "metadata": {},
   "source": [
    "public void parse()\n",
    "    - a <public> class that returns a <void> (nothing) called <parse>\n",
    "\n",
    "<public> meaning you can access it outside of the class\n",
    "<void> returns nothing\n",
    "<prase> the name of the method itself"
   ]
  },
  {
   "cell_type": "markdown",
   "metadata": {},
   "source": [
    "Methods are *functions* that are used by the class.\n",
    "\n",
    "The output of the method should match the constructor.\n",
    "\n",
    "public <output type> <method name>()"
   ]
  },
  {
   "cell_type": "code",
   "execution_count": null,
   "metadata": {},
   "outputs": [],
   "source": [
    "public class Report {\n",
    "\n",
    "    private String rawMessage;\n",
    "\n",
    "    public Report(String message) {\n",
    "        this.rawMessage = message;\n",
    "    }\n",
    "\n",
    "    public void parse(String message) {\n",
    "        System.out.println(\"parse: \" + this.getRawMessage());\n",
    "    }\n",
    "\n",
    "    public String getRawMessage() {\n",
    "        return rawMessage;\n",
    "    }\n",
    "\n",
    "    public Integer list_message_number() {\n",
    "        return 1\n",
    "    }\n",
    "\n",
    "}"
   ]
  },
  {
   "cell_type": "code",
   "execution_count": null,
   "metadata": {},
   "outputs": [],
   "source": [
    "public class ChatParse {\n",
    " \n",
    "    public static void main(String[] args) {\n",
    "        String msg = \"bogus for testing\";\n",
    "\n",
    "        Report report = new Report(msg);\n",
    "        Long reportMsg = report.getRawMessage();\n",
    "        System.out.println(\"Report get message: \"+reportMsg);\n",
    "        report.parse();\n",
    "    }\n",
    "}"
   ]
  },
  {
   "cell_type": "code",
   "execution_count": null,
   "metadata": {},
   "outputs": [],
   "source": [
    "Report report = new Report(message)"
   ]
  },
  {
   "cell_type": "code",
   "execution_count": null,
   "metadata": {},
   "outputs": [],
   "source": [
    "ChatParse()"
   ]
  },
  {
   "cell_type": "code",
   "execution_count": null,
   "metadata": {},
   "outputs": [],
   "source": []
  },
  {
   "cell_type": "code",
   "execution_count": null,
   "metadata": {},
   "outputs": [],
   "source": []
  },
  {
   "cell_type": "code",
   "execution_count": 11,
   "metadata": {},
   "outputs": [],
   "source": [
    "class Person():\n",
    "\n",
    "    def __init__(self, name, birthday, spouse=None):\n",
    "        self.name = name\n",
    "        self.birthday = birthday\n",
    "        self.spouse = spouse\n",
    "\n",
    "    def add_spouse(self, name):\n",
    "        self.spouse = name"
   ]
  },
  {
   "cell_type": "code",
   "execution_count": 12,
   "metadata": {},
   "outputs": [],
   "source": [
    "cj = Person('Clay Shaw', 'October 24')"
   ]
  },
  {
   "cell_type": "code",
   "execution_count": 14,
   "metadata": {},
   "outputs": [
    {
     "data": {
      "text/plain": [
       "('Clay Shaw', 'October 24', None)"
      ]
     },
     "execution_count": 14,
     "metadata": {},
     "output_type": "execute_result"
    }
   ],
   "source": [
    "cj.name, cj.birthday, cj.spouse"
   ]
  },
  {
   "cell_type": "code",
   "execution_count": 15,
   "metadata": {},
   "outputs": [
    {
     "data": {
      "text/plain": [
       "'Jazmin'"
      ]
     },
     "execution_count": 15,
     "metadata": {},
     "output_type": "execute_result"
    }
   ],
   "source": [
    "cj.add_spouse('Jazmin')\n",
    "cj.spouse"
   ]
  },
  {
   "cell_type": "code",
   "execution_count": null,
   "metadata": {},
   "outputs": [],
   "source": []
  },
  {
   "cell_type": "code",
   "execution_count": null,
   "metadata": {},
   "outputs": [],
   "source": []
  },
  {
   "cell_type": "code",
   "execution_count": null,
   "metadata": {},
   "outputs": [],
   "source": []
  },
  {
   "cell_type": "code",
   "execution_count": null,
   "metadata": {},
   "outputs": [],
   "source": []
  },
  {
   "cell_type": "code",
   "execution_count": null,
   "metadata": {},
   "outputs": [],
   "source": []
  },
  {
   "cell_type": "code",
   "execution_count": 2,
   "metadata": {},
   "outputs": [
    {
     "name": "stdout",
     "output_type": "stream",
     "text": [
      "Hello, World!\n"
     ]
    }
   ],
   "source": [
    "chat_parse = ChatParse()"
   ]
  },
  {
   "cell_type": "code",
   "execution_count": 8,
   "metadata": {},
   "outputs": [
    {
     "data": {
      "text/plain": [
       "(int, str, float)"
      ]
     },
     "execution_count": 8,
     "metadata": {},
     "output_type": "execute_result"
    }
   ],
   "source": [
    "type(2), type('string'), type(0.001)"
   ]
  },
  {
   "cell_type": "markdown",
   "metadata": {},
   "source": [
    "When you define a variable, you're using a constructor\n",
    "- x = 'string'\n",
    "\n",
    "The \"type\" of the variable is the class.\n",
    "\n",
    "\n",
    "\n",
    "CLASS\n",
    "    - methods : functions used by the class\n",
    "    - attributes : "
   ]
  },
  {
   "cell_type": "code",
   "execution_count": 5,
   "metadata": {},
   "outputs": [],
   "source": [
    "x = 'string'"
   ]
  },
  {
   "cell_type": "code",
   "execution_count": 7,
   "metadata": {},
   "outputs": [
    {
     "data": {
      "text/plain": [
       "'String'"
      ]
     },
     "execution_count": 7,
     "metadata": {},
     "output_type": "execute_result"
    }
   ],
   "source": [
    "x.capitalize()"
   ]
  },
  {
   "cell_type": "code",
   "execution_count": 6,
   "metadata": {},
   "outputs": [
    {
     "data": {
      "text/plain": [
       "'string'"
      ]
     },
     "execution_count": 6,
     "metadata": {},
     "output_type": "execute_result"
    }
   ],
   "source": [
    "x"
   ]
  },
  {
   "cell_type": "code",
   "execution_count": null,
   "metadata": {},
   "outputs": [],
   "source": []
  }
 ],
 "metadata": {
  "kernelspec": {
   "display_name": "Python 3.9.13 ('sixb')",
   "language": "python",
   "name": "python3"
  },
  "language_info": {
   "codemirror_mode": {
    "name": "ipython",
    "version": 3
   },
   "file_extension": ".py",
   "mimetype": "text/x-python",
   "name": "python",
   "nbconvert_exporter": "python",
   "pygments_lexer": "ipython3",
   "version": "3.9.13"
  },
  "orig_nbformat": 4,
  "vscode": {
   "interpreter": {
    "hash": "fd1aa3536eccf25268872fb0877ce450957c03a0faeafc6ef6bbb3c9838499b8"
   }
  }
 },
 "nbformat": 4,
 "nbformat_minor": 2
}
