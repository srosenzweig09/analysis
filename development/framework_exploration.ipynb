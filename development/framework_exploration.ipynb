{
 "cells": [
  {
   "cell_type": "markdown",
   "id": "dcf6a8a9-f0bc-4260-aaee-b2d53f099bda",
   "metadata": {},
   "source": [
    "Intention: Practice using \\*args and \\*\\*kwargs "
   ]
  },
  {
   "cell_type": "code",
   "execution_count": 1,
   "id": "f70a8018-a931-45b1-a37a-c37b25abfaaf",
   "metadata": {},
   "outputs": [],
   "source": [
    "%load_ext autoreload\n",
    "%autoreload 2"
   ]
  },
  {
   "cell_type": "code",
   "execution_count": 2,
   "id": "a21601b4-a365-40d2-bb0d-71412e2d0348",
   "metadata": {},
   "outputs": [],
   "source": [
    "from utils.analysis import Tree\n",
    "from utils.fileUtils.sr import NMSSM_MX_700_MY_400, QCD_B_List, TTJets"
   ]
  },
  {
   "cell_type": "code",
   "execution_count": 21,
   "id": "0ce35772-5fde-40d7-896d-d5a598d6f056",
   "metadata": {},
   "outputs": [],
   "source": [
    "from utils.plotter import plot"
   ]
  },
  {
   "cell_type": "code",
   "execution_count": 3,
   "id": "8ced1015-00ba-4871-a758-df5276a951b3",
   "metadata": {},
   "outputs": [],
   "source": [
    "import awkward as ak"
   ]
  },
  {
   "cell_type": "code",
   "execution_count": 4,
   "id": "ca1cef7c-e474-4f93-bb7b-fe59844cba0b",
   "metadata": {},
   "outputs": [],
   "source": [
    "import numpy as np"
   ]
  },
  {
   "cell_type": "code",
   "execution_count": 4,
   "id": "f635e8f9-5bc4-4bb7-b2f8-b5868ce8ba35",
   "metadata": {},
   "outputs": [],
   "source": [
    "def get_p4(pt, eta, phi, m):\n",
    "    return vector.obj(pt=pt, eta=eta, phi=phi, m=m)\n",
    "\n",
    "def sum_p4s(*args):\n",
    "    n = len(args)\n",
    "    if n == 1: return args\n",
    "    else:\n",
    "        p4 = args[0]\n",
    "        for arg in args[1:]:\n",
    "            p4 += arg\n",
    "    return p4"
   ]
  },
  {
   "cell_type": "code",
   "execution_count": 165,
   "id": "98906dc1-fe8f-4547-a242-7619bedd12e8",
   "metadata": {},
   "outputs": [
    {
     "name": "stdout",
     "output_type": "stream",
     "text": [
      "41657\n"
     ]
    }
   ],
   "source": [
    "signal_tree = Tree(NMSSM_MX_700_MY_400)\n",
    "bkgd_tree = Tree(QCD_B_List + [TTJets])"
   ]
  },
  {
   "cell_type": "code",
   "execution_count": 169,
   "id": "4a3cc3c9-09c9-4e05-ac97-d11228649ccf",
   "metadata": {},
   "outputs": [
    {
     "data": {
      "text/plain": [
       "array([7, 6, 9, ..., 8, 6, 8])"
      ]
     },
     "execution_count": 169,
     "metadata": {},
     "output_type": "execute_result"
    }
   ],
   "source": [
    "np.asarray([len(jet_pt) for jet_pt in signal_tree.jet_pt])"
   ]
  },
  {
   "cell_type": "code",
   "execution_count": 166,
   "id": "b2691597-2c1f-422d-a0be-8ed0cf5037fa",
   "metadata": {},
   "outputs": [],
   "source": [
    "signal_p4 = signal_tree.get_pair_p4()"
   ]
  },
  {
   "cell_type": "code",
   "execution_count": 164,
   "id": "a38950d6-b9a2-4384-a82e-995b3960d2d2",
   "metadata": {},
   "outputs": [
    {
     "data": {
      "text/plain": [
       "vector.obj(pt=[[151, 151, 151, 151, 151, 151, 105], ... 137, 102, 102, 102, 102, 102, 102, 100]], phi=[[-0.785, -0.785, -0.785, -0.785, -0.785, ... -1.55, -1.55, -1.55, -1.55, -0.43]], eta=[[0.522, 0.522, 0.522, 0.522, 0.522, ... -0.138, -0.138, -0.138, -0.138, 0.0209]], mass=[[21.2, 21.2, 21.2, 21.2, 21.2, 21.2, 7.01, ... 16.6, 16.6, 16.6, 16.6, 16.6, 13.1]])"
      ]
     },
     "execution_count": 164,
     "metadata": {},
     "output_type": "execute_result"
    }
   ],
   "source": [
    "signal_p4[0]+signal_p4[1]"
   ]
  },
  {
   "cell_type": "code",
   "execution_count": 155,
   "id": "93b70d39-bce5-478a-a993-0ea14d1d36df",
   "metadata": {},
   "outputs": [],
   "source": [
    "jet_pt = ak.unzip(ak.combinations(signal_tree.jet_pt, 2))"
   ]
  },
  {
   "cell_type": "code",
   "execution_count": 158,
   "id": "09599720-5897-4ff3-9e1e-aa51b1d52c73",
   "metadata": {},
   "outputs": [
    {
     "data": {
      "text/plain": [
       "<Array [[151, 151, 151, ... 54.2, 54.2, 23.7]] type='41657 * var * float32'>"
      ]
     },
     "execution_count": 158,
     "metadata": {},
     "output_type": "execute_result"
    }
   ],
   "source": [
    "jet_pt[0]"
   ]
  },
  {
   "cell_type": "code",
   "execution_count": 143,
   "id": "6ce8793c-8ac3-41f0-86ea-9a2ed9273f3e",
   "metadata": {},
   "outputs": [],
   "source": [
    "jet1_pt, jet2_pt = ak.unzip(ak.combinations(signal_tree.jet_pt, 2))\n",
    "jet1_eta, jet2_eta = ak.unzip(ak.combinations(signal_tree.jet_eta, 2))\n",
    "jet1_phi, jet2_phi = ak.unzip(ak.combinations(signal_tree.jet_phi, 2))\n",
    "jet1_m, jet2_m = ak.unzip(ak.combinations(signal_tree.jet_m, 2))\n",
    "\n",
    "jet1_p4 = vector.obj(\n",
    "    pt  = jet1_pt,\n",
    "    eta = jet1_eta,\n",
    "    phi = jet1_phi,\n",
    "    m   = jet1_m)\n",
    "\n",
    "jet2_p4 = vector.obj(\n",
    "    pt  = jet2_pt,\n",
    "    eta = jet2_eta,\n",
    "    phi = jet2_phi,\n",
    "    m   = jet2_m)\n",
    "\n",
    "signal_min_dR = ak.min(jet1_p4.deltaR(jet2_p4), axis=1).to_numpy().data"
   ]
  },
  {
   "cell_type": "code",
   "execution_count": 149,
   "id": "9fffa97c-60ee-4b10-b891-1a0c0d3786fd",
   "metadata": {},
   "outputs": [],
   "source": [
    "n_sig, b = np.histogram(signal_min_dR, bins=np.linspace(0,2,100))"
   ]
  },
  {
   "cell_type": "code",
   "execution_count": 150,
   "id": "e5191540-8d8e-4083-8989-4ff20653976c",
   "metadata": {},
   "outputs": [],
   "source": [
    "bkgd_dR_weights = []\n",
    "for i,sample in enumerate(bkgd_tree.sample):\n",
    "    tree = getattr(bkgd_tree, sample)\n",
    "    jet1_pt, jet2_pt = ak.unzip(ak.combinations(tree.jet_pt, 2))\n",
    "    jet1_eta, jet2_eta = ak.unzip(ak.combinations(tree.jet_eta, 2))\n",
    "    jet1_phi, jet2_phi = ak.unzip(ak.combinations(tree.jet_phi, 2))\n",
    "    jet1_m, jet2_m = ak.unzip(ak.combinations(tree.jet_m, 2))\n",
    "\n",
    "    jet1_p4 = vector.obj(\n",
    "        pt  = jet1_pt,\n",
    "        eta = jet1_eta,\n",
    "        phi = jet1_phi,\n",
    "        m   = jet1_m)\n",
    "\n",
    "    jet2_p4 = vector.obj(\n",
    "        pt  = jet2_pt,\n",
    "        eta = jet2_eta,\n",
    "        phi = jet2_phi,\n",
    "        m   = jet2_m)\n",
    "\n",
    "    bkgd_min_dR = ak.min(jet1_p4.deltaR(jet2_p4), axis=1).to_numpy().data\n",
    "    n, b = np.histogram(bkgd_min_dR, bins=np.linspace(0,2,100))\n",
    "    n = n*bkgd_tree.scale[i]\n",
    "    bkgd_dR_weights.append(n)\n",
    "bkgd_dR_weights = np.sum(np.asarray(bkgd_dR_weights), axis=0)"
   ]
  },
  {
   "cell_type": "code",
   "execution_count": 151,
   "id": "1ae4b49b-ecfe-440f-8588-bd3270df3071",
   "metadata": {},
   "outputs": [],
   "source": [
    "x = (b[1:]+b[:-1])/2"
   ]
  },
  {
   "cell_type": "code",
   "execution_count": 146,
   "id": "c9a4d5d8-9a1e-49a0-bbad-52f288840d43",
   "metadata": {},
   "outputs": [],
   "source": [
    "import matplotlib.pyplot as plt"
   ]
  },
  {
   "cell_type": "code",
   "execution_count": 152,
   "id": "8870a054-64fb-4b15-8cc7-589fdbef0f37",
   "metadata": {},
   "outputs": [
    {
     "data": {
      "text/plain": [
       "(<Figure size 720x432 with 1 Axes>, <AxesSubplot:>)"
      ]
     },
     "execution_count": 152,
     "metadata": {},
     "output_type": "execute_result"
    },
    {
     "data": {
      "image/png": "[encoded data removed]",
      "text/plain": [
       "<Figure size 720x432 with 1 Axes>"
      ]
     },
     "metadata": {
      "needs_background": "light"
     },
     "output_type": "display_data"
    }
   ],
   "source": [
    "fig, ax = plt.subplots(figsize=(10,6))\n",
    "plot(x=x, bins=b, weights=n_sig, label='signal', fig=fig, ax=ax, density=1)\n",
    "plot(x=x, bins=b, weights=bkgd_dR_weights, density=1, fig=fig, ax=ax)\n"
   ]
  },
  {
   "cell_type": "code",
   "execution_count": 112,
   "id": "79e500a5-c14e-4b7f-8cde-127d357b1305",
   "metadata": {},
   "outputs": [
    {
     "data": {
      "text/plain": [
       "<Array [[3.04, 3.12, 1.89, ... 0.651, 1.74]] type='41657 * var * float32'>"
      ]
     },
     "execution_count": 112,
     "metadata": {},
     "output_type": "execute_result"
    }
   ],
   "source": [
    "jet1_p4.deltaR(jet2_p4)"
   ]
  },
  {
   "cell_type": "code",
   "execution_count": 113,
   "id": "acfdb71b-cd86-469d-86b3-84e8c4336951",
   "metadata": {},
   "outputs": [
    {
     "data": {
      "text/plain": [
       "<Array [0.557, 1.26, 0.507, ... 0.824, 0.651] type='41657 * ?float32'>"
      ]
     },
     "execution_count": 113,
     "metadata": {},
     "output_type": "execute_result"
    }
   ],
   "source": []
  },
  {
   "cell_type": "code",
   "execution_count": 97,
   "id": "afde2c93-fa9f-4ca3-b684-6eaae2ba357f",
   "metadata": {},
   "outputs": [
    {
     "data": {
      "text/plain": [
       "(<Array [151, 151, 151, ... 54.2, 54.2, 23.7] type='1003703 * float32'>,\n",
       " <Array [105, 86, 24.9, ... 23.7, 29.5, 29.5] type='1003703 * float32'>)"
      ]
     },
     "execution_count": 98,
     "metadata": {},
     "output_type": "execute_result"
    }
   ],
   "source": [
    "ak.unzip(ak.flatten(jet_pt))"
   ]
  },
  {
   "cell_type": "code",
   "execution_count": 77,
   "id": "1d9526dd-a684-42cb-9416-0c238efc2c06",
   "metadata": {},
   "outputs": [],
   "source": [
    "import vector"
   ]
  },
  {
   "cell_type": "code",
   "execution_count": null,
   "id": "01aee08b-4ed9-45a6-9d25-0914f37d09e5",
   "metadata": {},
   "outputs": [],
   "source": []
  },
  {
   "cell_type": "code",
   "execution_count": 68,
   "id": "da6be969-ebab-4300-b3d0-ffca93ca5156",
   "metadata": {},
   "outputs": [
    {
     "data": {
      "text/plain": [
       "Text(0.5, 0, 'Jet $p_T$ [GeV]')"
      ]
     },
     "execution_count": 68,
     "metadata": {},
     "output_type": "execute_result"
    },
    {
     "data": {
      "image/png": "[encoded data removed]",
      "text/plain": [
       "<Figure size 720x432 with 1 Axes>"
      ]
     },
     "metadata": {
      "needs_background": "light"
     },
     "output_type": "display_data"
    }
   ],
   "source": [
    "n, b, c = signal_tree.get_hist_weights('jet_pt')\n",
    "fig, ax = plot(x=c, weights=n, bins=b, label='signal', density=1)\n",
    "n, b, c = bkgd_tree.get_hist_weights('jet_pt')\n",
    "plot(x=c, weights=n, bins=b, label='bkgd', fig=fig, ax=ax, density=1)\n",
    "ax.set_xlabel(r'Jet $p_T$ [GeV]')"
   ]
  },
  {
   "cell_type": "code",
   "execution_count": 73,
   "id": "33a9419d-cbc0-42b9-b52f-ebfdb91f0335",
   "metadata": {},
   "outputs": [
    {
     "data": {
      "text/plain": [
       "Text(0.5, 0, 'Jet $p_T$ [GeV]')"
      ]
     },
     "execution_count": 73,
     "metadata": {},
     "output_type": "execute_result"
    },
    {
     "data": {
      "image/png": "[encoded data removed]",
      "text/plain": [
       "<Figure size 720x432 with 1 Axes>"
      ]
     },
     "metadata": {
      "needs_background": "light"
     },
     "output_type": "display_data"
    }
   ],
   "source": [
    "n, b, c = signal_tree.get_hist_weights('jet_eta')\n",
    "fig, ax = plot(x=c, weights=n, bins=b, label='signal', density=1)\n",
    "n, b, c = bkgd_tree.get_hist_weights('jet_eta')\n",
    "plot(x=c, weights=n, bins=b, label='bkgd', fig=fig, ax=ax, density=1)\n",
    "ax.set_xlabel(r'Jet $p_T$ [GeV]')"
   ]
  },
  {
   "cell_type": "code",
   "execution_count": 61,
   "id": "598ee9a4-92d9-443c-a79b-610749604d1c",
   "metadata": {},
   "outputs": [
    {
     "data": {
      "text/plain": [
       "(99,)"
      ]
     },
     "execution_count": 61,
     "metadata": {},
     "output_type": "execute_result"
    }
   ],
   "source": [
    "np.sum(n, axis=0).shape"
   ]
  },
  {
   "cell_type": "code",
   "execution_count": 16,
   "id": "42561e0c-5e37-4793-859d-680a26c2c7ed",
   "metadata": {},
   "outputs": [
    {
     "data": {
      "text/plain": [
       "<Array [[151, 105, 86, ... 54.2, 23.7, 29.5]] type='41657 * var * float32'>"
      ]
     },
     "execution_count": 16,
     "metadata": {},
     "output_type": "execute_result"
    }
   ],
   "source": [
    "signal_tree.jet_pt"
   ]
  },
  {
   "cell_type": "code",
   "execution_count": 45,
   "id": "f6ab0184-8bc6-497d-a808-03f490535d0a",
   "metadata": {},
   "outputs": [
    {
     "data": {
      "text/plain": [
       "array([ 2342.30109504, 81042.48553411, 54124.8819788 , 22191.72474075,\n",
       "        6071.82817838,   654.93472885,   119.15968762,   355.65277752,\n",
       "       20952.84459411, 22330.68103515, 12975.02903384,  4239.7143315 ,\n",
       "         643.81071617,   173.64966186, 62678.66899767])"
      ]
     },
     "execution_count": 45,
     "metadata": {},
     "output_type": "execute_result"
    }
   ],
   "source": [
    "bkgd_tree.weighted_n"
   ]
  },
  {
   "cell_type": "code",
   "execution_count": 46,
   "id": "f9280d8f-535d-4d6c-997a-7f45ee11601a",
   "metadata": {},
   "outputs": [
    {
     "data": {
      "text/plain": [
       "290897.3670913554"
      ]
     },
     "execution_count": 46,
     "metadata": {},
     "output_type": "execute_result"
    }
   ],
   "source": [
    "np.sum(bkgd_tree.weighted_n)"
   ]
  },
  {
   "cell_type": "code",
   "execution_count": 21,
   "id": "4e8af7bd-df87-4093-96e8-dad3b1fce180",
   "metadata": {},
   "outputs": [
    {
     "data": {
      "text/plain": [
       "432304"
      ]
     },
     "execution_count": 21,
     "metadata": {},
     "output_type": "execute_result"
    }
   ],
   "source": [
    "np.sum(bkgd_tree.nevents)"
   ]
  },
  {
   "cell_type": "code",
   "execution_count": 27,
   "id": "b528b8bd-2913-4b5b-a26f-f3f997566635",
   "metadata": {},
   "outputs": [],
   "source": [
    "lumi = 59740"
   ]
  },
  {
   "cell_type": "code",
   "execution_count": 36,
   "id": "5bd26b3c-5216-4614-a856-1fd73b1ff403",
   "metadata": {},
   "outputs": [
    {
     "data": {
      "text/plain": [
       "15"
      ]
     },
     "execution_count": 36,
     "metadata": {},
     "output_type": "execute_result"
    }
   ],
   "source": [
    "len(bkgd_tree.nevents)"
   ]
  },
  {
   "cell_type": "code",
   "execution_count": 34,
   "id": "f28de2d0-3106-4a9b-9178-06e22f0b241c",
   "metadata": {},
   "outputs": [
    {
     "data": {
      "text/plain": [
       "14536579972.787998"
      ]
     },
     "execution_count": 34,
     "metadata": {},
     "output_type": "execute_result"
    }
   ],
   "source": [
    "np.sum(bkgd_tree.scale*bkgd_tree.total)"
   ]
  },
  {
   "cell_type": "code",
   "execution_count": 25,
   "id": "1723a403-09f5-4d75-8314-2fa79ad624d8",
   "metadata": {},
   "outputs": [
    {
     "data": {
      "text/plain": [
       "290897.3670913554"
      ]
     },
     "execution_count": 25,
     "metadata": {},
     "output_type": "execute_result"
    }
   ],
   "source": [
    "np.sum(bkgd_tree.scale*bkgd_tree.nevents)"
   ]
  },
  {
   "cell_type": "code",
   "execution_count": 39,
   "id": "9a706323-3f9a-442b-a874-b0700ccdcaba",
   "metadata": {},
   "outputs": [],
   "source": [
    "goal = 1574868.8687196115"
   ]
  },
  {
   "cell_type": "code",
   "execution_count": 43,
   "id": "a1564dca-e473-4c21-af21-1840948fb694",
   "metadata": {},
   "outputs": [
    {
     "data": {
      "text/plain": [
       "array([ 2342.30109504, 81042.48553411, 54124.8819788 , 22191.72474075,\n",
       "        6071.82817838,   654.93472885,   119.15968762,   355.65277752,\n",
       "       20952.84459411, 22330.68103515, 12975.02903384,  4239.7143315 ,\n",
       "         643.81071617,   173.64966186, 62678.66899767])"
      ]
     },
     "execution_count": 43,
     "metadata": {},
     "output_type": "execute_result"
    }
   ],
   "source": [
    "np.asarray(bkgd_tree.nevents)*bkgd_tree.scale"
   ]
  },
  {
   "cell_type": "code",
   "execution_count": 42,
   "id": "22203de4-8a9b-4d60-b212-b5060ec77c16",
   "metadata": {},
   "outputs": [
    {
     "data": {
      "text/plain": [
       "array([4.35647267e-03, 1.48423045e-03, 1.60810685e-04, 3.59953285e-04,\n",
       "       3.50232825e-05, 2.59911937e-06, 1.60987750e-06, 5.95334412e-03,\n",
       "       1.77138345e-03, 3.71199412e-04, 1.21268368e-04, 7.07571683e-05,\n",
       "       2.66095763e-05, 1.01634859e-05, 2.54865237e-06])"
      ]
     },
     "execution_count": 42,
     "metadata": {},
     "output_type": "execute_result"
    }
   ],
   "source": [
    "bkgd_tree.scale/lumi"
   ]
  },
  {
   "cell_type": "code",
   "execution_count": null,
   "id": "0a1835e6-2021-4086-ad65-22df744d4932",
   "metadata": {},
   "outputs": [],
   "source": []
  },
  {
   "cell_type": "code",
   "execution_count": null,
   "id": "d33eb957-6d7c-4751-9567-05c3a565d7e1",
   "metadata": {},
   "outputs": [],
   "source": []
  },
  {
   "cell_type": "code",
   "execution_count": null,
   "id": "a3afa7a3-a4af-4269-a18a-a5f98c038526",
   "metadata": {},
   "outputs": [],
   "source": []
  },
  {
   "cell_type": "code",
   "execution_count": null,
   "id": "bf9f451a-8a8a-478a-8d82-35dadba4bddf",
   "metadata": {},
   "outputs": [],
   "source": []
  }
 ],
 "metadata": {
  "kernelspec": {
   "display_name": "Python 3 (ipykernel)",
   "language": "python",
   "name": "python3"
  },
  "language_info": {
   "codemirror_mode": {
    "name": "ipython",
    "version": 3
   },
   "file_extension": ".py",
   "mimetype": "text/x-python",
   "name": "python",
   "nbconvert_exporter": "python",
   "pygments_lexer": "ipython3",
   "version": "3.8.8"
  },
  "widgets": {
   "application/vnd.jupyter.widget-state+json": {
    "state": {},
    "version_major": 2,
    "version_minor": 0
   }
  }
 },
 "nbformat": 4,
 "nbformat_minor": 5
}
