{
 "cells": [
  {
   "cell_type": "code",
   "execution_count": 1,
   "id": "79deebc7-b1ab-41bb-8271-dc2619ae4f9a",
   "metadata": {},
   "outputs": [],
   "source": [
    "%load_ext autoreload\n",
    "%autoreload 2"
   ]
  },
  {
   "cell_type": "code",
   "execution_count": 2,
   "id": "23efe65e-eefa-4f09-8079-52cd418d2614",
   "metadata": {},
   "outputs": [],
   "source": [
    "from utils.train.build import TrainSix\n",
    "from utils.plotter import plot"
   ]
  },
  {
   "cell_type": "code",
   "execution_count": 3,
   "id": "6bd1b0a4-e6dc-48c1-a35a-a19573a08aca",
   "metadata": {},
   "outputs": [],
   "source": [
    "import matplotlib.pyplot as plt\n",
    "%matplotlib widget\n",
    "import numpy as np"
   ]
  },
  {
   "cell_type": "code",
   "execution_count": 4,
   "id": "6551b7dd-6be7-47a0-aea0-3872884e8df4",
   "metadata": {},
   "outputs": [],
   "source": [
    "filename = '../inputs/NMSSM_XYH_YToHH_6b_MX_700_MY_400_training_set.root'"
   ]
  },
  {
   "cell_type": "code",
   "execution_count": 5,
   "id": "c6bed99d-0f19-4dd4-8b46-bb274f7d2742",
   "metadata": {},
   "outputs": [
    {
     "name": "stdout",
     "output_type": "stream",
     "text": [
      "Initializing tree.\n",
      "Identifying signal.\n"
     ]
    }
   ],
   "source": [
    "training = TrainSix(filename)"
   ]
  },
  {
   "cell_type": "code",
   "execution_count": 6,
   "id": "3c739e73-7bc7-478f-9e88-704379e4b339",
   "metadata": {},
   "outputs": [],
   "source": [
    "signal = training.correct_mask\n",
    "cbkgd  = training.incorrect_mask"
   ]
  },
  {
   "cell_type": "code",
   "execution_count": 7,
   "id": "9bf4f35b-b5f7-4a57-9f39-4554bd23f6af",
   "metadata": {},
   "outputs": [],
   "source": [
    "jet_pt = training.get_t6('jet_pt')\n",
    "jet_eta = training.get_t6('jet_eta')\n",
    "jet_phi = training.get_t6('jet_phi')\n",
    "jet_m = training.get_t6('jet_m')\n",
    "jet_btag = training.get_t6('jet_btag')"
   ]
  },
  {
   "cell_type": "code",
   "execution_count": 8,
   "id": "76fb3d0a-ed16-4dc1-bf2b-d75e23c90169",
   "metadata": {},
   "outputs": [],
   "source": [
    "import awkward as ak"
   ]
  },
  {
   "cell_type": "code",
   "execution_count": 9,
   "id": "743f09be-7e66-4945-86d4-73152107e3ba",
   "metadata": {},
   "outputs": [],
   "source": [
    "signal_features = ak.concatenate((jet_pt[signal], jet_eta[signal], jet_phi[signal], jet_m[signal], jet_btag[signal], jet_pt[signal]**2, jet_eta[signal]**2, jet_phi[signal]**2, jet_m[signal]**2, jet_btag[signal]**2), axis=1)"
   ]
  },
  {
   "cell_type": "code",
   "execution_count": 10,
   "id": "daf06600-1d6d-484e-9b25-c19b46392079",
   "metadata": {},
   "outputs": [],
   "source": [
    "wrong_features = ak.concatenate((jet_pt[cbkgd], jet_eta[cbkgd], jet_phi[cbkgd], jet_m[cbkgd], jet_btag[cbkgd], jet_pt[cbkgd]**2, jet_eta[cbkgd]**2, jet_phi[cbkgd]**2, jet_m[cbkgd]**2, jet_btag[cbkgd]**2), axis=1)"
   ]
  },
  {
   "cell_type": "code",
   "execution_count": 11,
   "id": "4fb6cd7c-7569-43eb-9cc0-b162eef3c5c0",
   "metadata": {},
   "outputs": [],
   "source": [
    "import pandas as pd"
   ]
  },
  {
   "cell_type": "code",
   "execution_count": 18,
   "id": "fc4c175b-0d63-4237-9d0d-b42eed696446",
   "metadata": {},
   "outputs": [],
   "source": [
    "cols = [f'pt {n}' for n in range(6)] + [f'eta {n}' for n in range(6)] + [f'phi {n}' for n in range(6)] + [f'm {n}' for n in range(6)] + [f'btag {n}' for n in range(6)]\n",
    "cols = cols + [f'pt sq {n}' for n in range(6)] + [f'eta sq {n}' for n in range(6)] + [f'phi sq {n}' for n in range(6)] + [f'm sq {n}' for n in range(6)] + [f'btag sq {n}' for n in range(6)]"
   ]
  },
  {
   "cell_type": "code",
   "execution_count": 19,
   "id": "2df87fcd-4c5e-43b2-a308-3dbe9fbfa595",
   "metadata": {},
   "outputs": [
    {
     "data": {
      "text/plain": [
       "60"
      ]
     },
     "execution_count": 19,
     "metadata": {},
     "output_type": "execute_result"
    }
   ],
   "source": [
    "len(cols)"
   ]
  },
  {
   "cell_type": "code",
   "execution_count": 13,
   "id": "2fcc7e11-e938-4837-996f-e3c57f703fad",
   "metadata": {},
   "outputs": [],
   "source": [
    "targets = np.row_stack((np.tile([1,0], (len(signal_features), 1)), np.tile([0,1], (len(wrong_features), 1))))"
   ]
  },
  {
   "cell_type": "code",
   "execution_count": 14,
   "id": "8e137003-0578-4f7d-838c-f49a1ce3c28c",
   "metadata": {},
   "outputs": [],
   "source": [
    "df = pd.DataFrame(np.column_stack((np.row_stack((signal_features.to_numpy(), wrong_features.to_numpy())), targets)), columns=cols + ['signal', 'cbkgd'])"
   ]
  },
  {
   "cell_type": "code",
   "execution_count": 15,
   "id": "7052ec4b-698b-41cd-9e2b-3549b399b10f",
   "metadata": {},
   "outputs": [
    {
     "data": {
      "text/html": [
       "<div>\n",
       "<style scoped>\n",
       "    .dataframe tbody tr th:only-of-type {\n",
       "        vertical-align: middle;\n",
       "    }\n",
       "\n",
       "    .dataframe tbody tr th {\n",
       "        vertical-align: top;\n",
       "    }\n",
       "\n",
       "    .dataframe thead th {\n",
       "        text-align: right;\n",
       "    }\n",
       "</style>\n",
       "<table border=\"1\" class=\"dataframe\">\n",
       "  <thead>\n",
       "    <tr style=\"text-align: right;\">\n",
       "      <th></th>\n",
       "      <th>pt 0</th>\n",
       "      <th>pt 1</th>\n",
       "      <th>pt 2</th>\n",
       "      <th>pt 3</th>\n",
       "      <th>pt 4</th>\n",
       "      <th>pt 5</th>\n",
       "      <th>eta 0</th>\n",
       "      <th>eta 1</th>\n",
       "      <th>eta 2</th>\n",
       "      <th>eta 3</th>\n",
       "      <th>...</th>\n",
       "      <th>m sq 4</th>\n",
       "      <th>m sq 5</th>\n",
       "      <th>btag sq 0</th>\n",
       "      <th>btag sq 1</th>\n",
       "      <th>btag sq 2</th>\n",
       "      <th>btag sq 3</th>\n",
       "      <th>btag sq 4</th>\n",
       "      <th>btag sq 5</th>\n",
       "      <th>signal</th>\n",
       "      <th>cbkgd</th>\n",
       "    </tr>\n",
       "  </thead>\n",
       "  <tbody>\n",
       "    <tr>\n",
       "      <th>0</th>\n",
       "      <td>133.781509</td>\n",
       "      <td>123.146210</td>\n",
       "      <td>74.180626</td>\n",
       "      <td>55.841118</td>\n",
       "      <td>125.170181</td>\n",
       "      <td>62.039219</td>\n",
       "      <td>-0.486328</td>\n",
       "      <td>0.597168</td>\n",
       "      <td>-1.075928</td>\n",
       "      <td>0.342041</td>\n",
       "      <td>...</td>\n",
       "      <td>418.613281</td>\n",
       "      <td>138.720520</td>\n",
       "      <td>0.878906</td>\n",
       "      <td>0.995123</td>\n",
       "      <td>0.562500</td>\n",
       "      <td>0.929040</td>\n",
       "      <td>0.079239</td>\n",
       "      <td>0.012435</td>\n",
       "      <td>1.0</td>\n",
       "      <td>0.0</td>\n",
       "    </tr>\n",
       "    <tr>\n",
       "      <th>1</th>\n",
       "      <td>98.380974</td>\n",
       "      <td>51.998920</td>\n",
       "      <td>45.524971</td>\n",
       "      <td>39.748798</td>\n",
       "      <td>146.689407</td>\n",
       "      <td>151.839340</td>\n",
       "      <td>0.100723</td>\n",
       "      <td>-0.057404</td>\n",
       "      <td>1.525146</td>\n",
       "      <td>-0.022789</td>\n",
       "      <td>...</td>\n",
       "      <td>862.374695</td>\n",
       "      <td>144.983002</td>\n",
       "      <td>0.905657</td>\n",
       "      <td>0.873422</td>\n",
       "      <td>0.797568</td>\n",
       "      <td>0.851655</td>\n",
       "      <td>0.220185</td>\n",
       "      <td>0.075706</td>\n",
       "      <td>1.0</td>\n",
       "      <td>0.0</td>\n",
       "    </tr>\n",
       "    <tr>\n",
       "      <th>2</th>\n",
       "      <td>182.895172</td>\n",
       "      <td>100.748627</td>\n",
       "      <td>49.184055</td>\n",
       "      <td>42.593853</td>\n",
       "      <td>89.828506</td>\n",
       "      <td>55.627430</td>\n",
       "      <td>1.101318</td>\n",
       "      <td>0.356445</td>\n",
       "      <td>-0.100494</td>\n",
       "      <td>-0.028591</td>\n",
       "      <td>...</td>\n",
       "      <td>279.731903</td>\n",
       "      <td>52.966507</td>\n",
       "      <td>0.999024</td>\n",
       "      <td>0.984436</td>\n",
       "      <td>0.605023</td>\n",
       "      <td>0.963235</td>\n",
       "      <td>0.363053</td>\n",
       "      <td>0.365411</td>\n",
       "      <td>1.0</td>\n",
       "      <td>0.0</td>\n",
       "    </tr>\n",
       "    <tr>\n",
       "      <th>3</th>\n",
       "      <td>143.558182</td>\n",
       "      <td>115.872459</td>\n",
       "      <td>74.052513</td>\n",
       "      <td>68.602928</td>\n",
       "      <td>48.107559</td>\n",
       "      <td>80.282822</td>\n",
       "      <td>-0.205444</td>\n",
       "      <td>-0.216034</td>\n",
       "      <td>-0.428589</td>\n",
       "      <td>-1.210938</td>\n",
       "      <td>...</td>\n",
       "      <td>44.492386</td>\n",
       "      <td>95.375923</td>\n",
       "      <td>0.991230</td>\n",
       "      <td>0.998048</td>\n",
       "      <td>0.982499</td>\n",
       "      <td>0.984436</td>\n",
       "      <td>0.092983</td>\n",
       "      <td>0.027927</td>\n",
       "      <td>1.0</td>\n",
       "      <td>0.0</td>\n",
       "    </tr>\n",
       "    <tr>\n",
       "      <th>4</th>\n",
       "      <td>94.115028</td>\n",
       "      <td>77.866409</td>\n",
       "      <td>71.629257</td>\n",
       "      <td>69.208847</td>\n",
       "      <td>58.014679</td>\n",
       "      <td>149.851562</td>\n",
       "      <td>-1.046631</td>\n",
       "      <td>-0.734009</td>\n",
       "      <td>-0.450256</td>\n",
       "      <td>0.061661</td>\n",
       "      <td>...</td>\n",
       "      <td>93.657990</td>\n",
       "      <td>194.524307</td>\n",
       "      <td>0.779358</td>\n",
       "      <td>0.998048</td>\n",
       "      <td>0.709444</td>\n",
       "      <td>0.948912</td>\n",
       "      <td>0.999024</td>\n",
       "      <td>0.171246</td>\n",
       "      <td>1.0</td>\n",
       "      <td>0.0</td>\n",
       "    </tr>\n",
       "  </tbody>\n",
       "</table>\n",
       "<p>5 rows × 62 columns</p>\n",
       "</div>"
      ],
      "text/plain": [
       "         pt 0        pt 1       pt 2       pt 3        pt 4        pt 5  \\\n",
       "0  133.781509  123.146210  74.180626  55.841118  125.170181   62.039219   \n",
       "1   98.380974   51.998920  45.524971  39.748798  146.689407  151.839340   \n",
       "2  182.895172  100.748627  49.184055  42.593853   89.828506   55.627430   \n",
       "3  143.558182  115.872459  74.052513  68.602928   48.107559   80.282822   \n",
       "4   94.115028   77.866409  71.629257  69.208847   58.014679  149.851562   \n",
       "\n",
       "      eta 0     eta 1     eta 2     eta 3  ...      m sq 4      m sq 5  \\\n",
       "0 -0.486328  0.597168 -1.075928  0.342041  ...  418.613281  138.720520   \n",
       "1  0.100723 -0.057404  1.525146 -0.022789  ...  862.374695  144.983002   \n",
       "2  1.101318  0.356445 -0.100494 -0.028591  ...  279.731903   52.966507   \n",
       "3 -0.205444 -0.216034 -0.428589 -1.210938  ...   44.492386   95.375923   \n",
       "4 -1.046631 -0.734009 -0.450256  0.061661  ...   93.657990  194.524307   \n",
       "\n",
       "   btag sq 0  btag sq 1  btag sq 2  btag sq 3  btag sq 4  btag sq 5  signal  \\\n",
       "0   0.878906   0.995123   0.562500   0.929040   0.079239   0.012435     1.0   \n",
       "1   0.905657   0.873422   0.797568   0.851655   0.220185   0.075706     1.0   \n",
       "2   0.999024   0.984436   0.605023   0.963235   0.363053   0.365411     1.0   \n",
       "3   0.991230   0.998048   0.982499   0.984436   0.092983   0.027927     1.0   \n",
       "4   0.779358   0.998048   0.709444   0.948912   0.999024   0.171246     1.0   \n",
       "\n",
       "   cbkgd  \n",
       "0    0.0  \n",
       "1    0.0  \n",
       "2    0.0  \n",
       "3    0.0  \n",
       "4    0.0  \n",
       "\n",
       "[5 rows x 62 columns]"
      ]
     },
     "execution_count": 15,
     "metadata": {},
     "output_type": "execute_result"
    }
   ],
   "source": [
    "df.head()"
   ]
  },
  {
   "cell_type": "code",
   "execution_count": 24,
   "id": "12ed2357-9fed-4f78-ae33-9048e63f8ace",
   "metadata": {},
   "outputs": [
    {
     "ename": "ModuleNotFoundError",
     "evalue": "No module named 'plotly'",
     "output_type": "error",
     "traceback": [
      "\u001b[0;31m---------------------------------------------------------------------------\u001b[0m",
      "\u001b[0;31mModuleNotFoundError\u001b[0m                       Traceback (most recent call last)",
      "\u001b[0;32m/tmp/ipykernel_30281/2395499409.py\u001b[0m in \u001b[0;36m<module>\u001b[0;34m\u001b[0m\n\u001b[0;32m----> 1\u001b[0;31m \u001b[0;32mimport\u001b[0m \u001b[0mplotly\u001b[0m\u001b[0;34m.\u001b[0m\u001b[0mexpress\u001b[0m \u001b[0;32mas\u001b[0m \u001b[0mpx\u001b[0m\u001b[0;34m\u001b[0m\u001b[0;34m\u001b[0m\u001b[0m\n\u001b[0m",
      "\u001b[0;31mModuleNotFoundError\u001b[0m: No module named 'plotly'"
     ]
    }
   ],
   "source": [
    "import plotly.express as px"
   ]
  },
  {
   "cell_type": "code",
   "execution_count": 23,
   "id": "f144e3fd-a266-450c-af14-6d26dbd943cb",
   "metadata": {},
   "outputs": [
    {
     "data": {
      "application/vnd.jupyter.widget-view+json": {
       "model_id": "4b2be19a8f3b489ebe76a2ecb20b78d3",
       "version_major": 2,
       "version_minor": 0
      },
      "text/plain": [
       "Canvas(toolbar=Toolbar(toolitems=[('Home', 'Reset original view', 'home', 'home'), ('Back', 'Back to previous …"
      ]
     },
     "metadata": {},
     "output_type": "display_data"
    },
    {
     "ename": "KeyboardInterrupt",
     "evalue": "",
     "output_type": "error",
     "traceback": [
      "\u001b[0;31m---------------------------------------------------------------------------\u001b[0m",
      "\u001b[0;31mKeyboardInterrupt\u001b[0m                         Traceback (most recent call last)",
      "\u001b[0;32m/tmp/ipykernel_30281/4224260055.py\u001b[0m in \u001b[0;36m<module>\u001b[0;34m\u001b[0m\n\u001b[1;32m      1\u001b[0m \u001b[0mfig\u001b[0m\u001b[0;34m,\u001b[0m \u001b[0max\u001b[0m \u001b[0;34m=\u001b[0m \u001b[0mplt\u001b[0m\u001b[0;34m.\u001b[0m\u001b[0msubplots\u001b[0m\u001b[0;34m(\u001b[0m\u001b[0mfigsize\u001b[0m\u001b[0;34m=\u001b[0m\u001b[0;34m(\u001b[0m\u001b[0;36m12\u001b[0m\u001b[0;34m,\u001b[0m\u001b[0;36m9\u001b[0m\u001b[0;34m)\u001b[0m\u001b[0;34m)\u001b[0m\u001b[0;34m\u001b[0m\u001b[0;34m\u001b[0m\u001b[0m\n\u001b[0;32m----> 2\u001b[0;31m \u001b[0mcax\u001b[0m \u001b[0;34m=\u001b[0m \u001b[0max\u001b[0m\u001b[0;34m.\u001b[0m\u001b[0mmatshow\u001b[0m\u001b[0;34m(\u001b[0m\u001b[0mdf\u001b[0m\u001b[0;34m.\u001b[0m\u001b[0mgroupby\u001b[0m\u001b[0;34m(\u001b[0m\u001b[0;34m'signal'\u001b[0m\u001b[0;34m)\u001b[0m\u001b[0;34m.\u001b[0m\u001b[0mget_group\u001b[0m\u001b[0;34m(\u001b[0m\u001b[0;36m0.0\u001b[0m\u001b[0;34m)\u001b[0m\u001b[0;34m.\u001b[0m\u001b[0mcorr\u001b[0m\u001b[0;34m(\u001b[0m\u001b[0;34m)\u001b[0m\u001b[0;34m,\u001b[0m \u001b[0mvmin\u001b[0m\u001b[0;34m=\u001b[0m\u001b[0;34m-\u001b[0m\u001b[0;36m1\u001b[0m\u001b[0;34m,\u001b[0m \u001b[0mvmax\u001b[0m\u001b[0;34m=\u001b[0m\u001b[0;36m1\u001b[0m\u001b[0;34m,\u001b[0m \u001b[0mcmap\u001b[0m\u001b[0;34m=\u001b[0m\u001b[0;34m'rainbow'\u001b[0m\u001b[0;34m)\u001b[0m\u001b[0;34m\u001b[0m\u001b[0;34m\u001b[0m\u001b[0m\n\u001b[0m\u001b[1;32m      3\u001b[0m \u001b[0mfig\u001b[0m\u001b[0;34m.\u001b[0m\u001b[0mcolorbar\u001b[0m\u001b[0;34m(\u001b[0m\u001b[0mcax\u001b[0m\u001b[0;34m)\u001b[0m\u001b[0;34m\u001b[0m\u001b[0;34m\u001b[0m\u001b[0m\n\u001b[1;32m      4\u001b[0m \u001b[0mticks\u001b[0m \u001b[0;34m=\u001b[0m \u001b[0mnp\u001b[0m\u001b[0;34m.\u001b[0m\u001b[0marange\u001b[0m\u001b[0;34m(\u001b[0m\u001b[0;36m0\u001b[0m\u001b[0;34m,\u001b[0m\u001b[0;36m61\u001b[0m\u001b[0;34m,\u001b[0m\u001b[0;36m1\u001b[0m\u001b[0;34m)\u001b[0m\u001b[0;34m\u001b[0m\u001b[0;34m\u001b[0m\u001b[0m\n\u001b[1;32m      5\u001b[0m \u001b[0max\u001b[0m\u001b[0;34m.\u001b[0m\u001b[0mset_xticks\u001b[0m\u001b[0;34m(\u001b[0m\u001b[0mticks\u001b[0m\u001b[0;34m)\u001b[0m\u001b[0;34m\u001b[0m\u001b[0;34m\u001b[0m\u001b[0m\n",
      "\u001b[0;32m~/nobackup/miniconda3/envs/work/lib/python3.8/site-packages/pandas/core/frame.py\u001b[0m in \u001b[0;36mcorr\u001b[0;34m(self, method, min_periods)\u001b[0m\n\u001b[1;32m   8376\u001b[0m \u001b[0;34m\u001b[0m\u001b[0m\n\u001b[1;32m   8377\u001b[0m         \u001b[0;32mif\u001b[0m \u001b[0mmethod\u001b[0m \u001b[0;34m==\u001b[0m \u001b[0;34m\"pearson\"\u001b[0m\u001b[0;34m:\u001b[0m\u001b[0;34m\u001b[0m\u001b[0;34m\u001b[0m\u001b[0m\n\u001b[0;32m-> 8378\u001b[0;31m             \u001b[0mcorrel\u001b[0m \u001b[0;34m=\u001b[0m \u001b[0mlibalgos\u001b[0m\u001b[0;34m.\u001b[0m\u001b[0mnancorr\u001b[0m\u001b[0;34m(\u001b[0m\u001b[0mmat\u001b[0m\u001b[0;34m,\u001b[0m \u001b[0mminp\u001b[0m\u001b[0;34m=\u001b[0m\u001b[0mmin_periods\u001b[0m\u001b[0;34m)\u001b[0m\u001b[0;34m\u001b[0m\u001b[0;34m\u001b[0m\u001b[0m\n\u001b[0m\u001b[1;32m   8379\u001b[0m         \u001b[0;32melif\u001b[0m \u001b[0mmethod\u001b[0m \u001b[0;34m==\u001b[0m \u001b[0;34m\"spearman\"\u001b[0m\u001b[0;34m:\u001b[0m\u001b[0;34m\u001b[0m\u001b[0;34m\u001b[0m\u001b[0m\n\u001b[1;32m   8380\u001b[0m             \u001b[0mcorrel\u001b[0m \u001b[0;34m=\u001b[0m \u001b[0mlibalgos\u001b[0m\u001b[0;34m.\u001b[0m\u001b[0mnancorr_spearman\u001b[0m\u001b[0;34m(\u001b[0m\u001b[0mmat\u001b[0m\u001b[0;34m,\u001b[0m \u001b[0mminp\u001b[0m\u001b[0;34m=\u001b[0m\u001b[0mmin_periods\u001b[0m\u001b[0;34m)\u001b[0m\u001b[0;34m\u001b[0m\u001b[0;34m\u001b[0m\u001b[0m\n",
      "\u001b[0;31mKeyboardInterrupt\u001b[0m: "
     ]
    }
   ],
   "source": [
    "fig = px.scatter_matrix(\n",
    "    df,\n",
    "    dimensions=df.columns[:-2],\n",
    "    color=\"signal\"\n",
    ")"
   ]
  },
  {
   "cell_type": "code",
   "execution_count": null,
   "id": "51acbd18-1e1a-4b88-be3f-62f226e8fe5a",
   "metadata": {},
   "outputs": [],
   "source": []
  }
 ],
 "metadata": {
  "kernelspec": {
   "display_name": "Python 3 (ipykernel)",
   "language": "python",
   "name": "python3"
  },
  "language_info": {
   "codemirror_mode": {
    "name": "ipython",
    "version": 3
   },
   "file_extension": ".py",
   "mimetype": "text/x-python",
   "name": "python",
   "nbconvert_exporter": "python",
   "pygments_lexer": "ipython3",
   "version": "3.8.8"
  },
  "widgets": {
   "application/vnd.jupyter.widget-state+json": {
    "state": {
     "01aa7f58bbe2483c8fa0cc5f71fb1b5e": {
      "model_module": "jupyter-matplotlib",
      "model_module_version": "^0.9.0",
      "model_name": "MPLCanvasModel",
      "state": {
       "_cursor": "default",
       "_figure_label": "Figure 1",
       "_height": 480,
       "_width": 640,
       "layout": "IPY_MODEL_0c96d61ca4be44859d4a8b9b90604d49",
       "toolbar": "IPY_MODEL_40951262161b4b5ba75d80d06d7c5302",
       "toolbar_position": "left"
      }
     },
     "07e398fcb11c4230986d2abee276de15": {
      "model_module": "@jupyter-widgets/base",
      "model_module_version": "1.2.0",
      "model_name": "LayoutModel",
      "state": {}
     },
     "0c96d61ca4be44859d4a8b9b90604d49": {
      "model_module": "@jupyter-widgets/base",
      "model_module_version": "1.2.0",
      "model_name": "LayoutModel",
      "state": {}
     },
     "24e0a3e0412448a4a4a236f329bb1775": {
      "model_module": "@jupyter-widgets/base",
      "model_module_version": "1.2.0",
      "model_name": "LayoutModel",
      "state": {}
     },
     "2a2c6cbeba4c4c66b223aa33048d87dc": {
      "model_module": "jupyter-matplotlib",
      "model_module_version": "^0.9.0",
      "model_name": "MPLCanvasModel",
      "state": {
       "_cursor": "default",
       "_figure_label": "Figure 2",
       "_height": 480,
       "_width": 640,
       "layout": "IPY_MODEL_dd43adf056444e0cbeeb23b8ee11d68a",
       "toolbar": "IPY_MODEL_964ebc102745424d9258e1eaf8be84d3",
       "toolbar_position": "left"
      }
     },
     "402297e2cf294d3db1cda71d2c4c4e40": {
      "model_module": "@jupyter-widgets/base",
      "model_module_version": "1.2.0",
      "model_name": "LayoutModel",
      "state": {}
     },
     "40951262161b4b5ba75d80d06d7c5302": {
      "model_module": "jupyter-matplotlib",
      "model_module_version": "^0.9.0",
      "model_name": "ToolbarModel",
      "state": {
       "layout": "IPY_MODEL_92804cfe7b964310beda672b378747b5",
       "toolitems": [
        [
         "Home",
         "Reset original view",
         "home",
         "home"
        ],
        [
         "Back",
         "Back to previous view",
         "arrow-left",
         "back"
        ],
        [
         "Forward",
         "Forward to next view",
         "arrow-right",
         "forward"
        ],
        [
         "Pan",
         "Left button pans, Right button zooms\nx/y fixes axis, CTRL fixes aspect",
         "arrows",
         "pan"
        ],
        [
         "Zoom",
         "Zoom to rectangle\nx/y fixes axis, CTRL fixes aspect",
         "square-o",
         "zoom"
        ],
        [
         "Download",
         "Download plot",
         "floppy-o",
         "save_figure"
        ]
       ]
      }
     },
     "44db8a5c601a48c3a84db781af404722": {
      "model_module": "jupyter-matplotlib",
      "model_module_version": "^0.9.0",
      "model_name": "MPLCanvasModel",
      "state": {
       "_cursor": "default",
       "_figure_label": "Figure 3",
       "_height": 480,
       "_width": 640,
       "layout": "IPY_MODEL_6ef97d9caefc48beba8fbdb9ba96efbb",
       "toolbar": "IPY_MODEL_c62f5cff4b784f0090ea59f9728ed7b2",
       "toolbar_position": "left"
      }
     },
     "4b2be19a8f3b489ebe76a2ecb20b78d3": {
      "model_module": "jupyter-matplotlib",
      "model_module_version": "^0.9.0",
      "model_name": "MPLCanvasModel",
      "state": {
       "_cursor": "default",
       "_figure_label": "Figure 5",
       "_height": 900,
       "_width": 1200,
       "layout": "IPY_MODEL_402297e2cf294d3db1cda71d2c4c4e40",
       "toolbar": "IPY_MODEL_4d8c2ab672fe4caeaa2b651849c1445d",
       "toolbar_position": "left"
      }
     },
     "4d8c2ab672fe4caeaa2b651849c1445d": {
      "model_module": "jupyter-matplotlib",
      "model_module_version": "^0.9.0",
      "model_name": "ToolbarModel",
      "state": {
       "layout": "IPY_MODEL_24e0a3e0412448a4a4a236f329bb1775",
       "toolitems": [
        [
         "Home",
         "Reset original view",
         "home",
         "home"
        ],
        [
         "Back",
         "Back to previous view",
         "arrow-left",
         "back"
        ],
        [
         "Forward",
         "Forward to next view",
         "arrow-right",
         "forward"
        ],
        [
         "Pan",
         "Left button pans, Right button zooms\nx/y fixes axis, CTRL fixes aspect",
         "arrows",
         "pan"
        ],
        [
         "Zoom",
         "Zoom to rectangle\nx/y fixes axis, CTRL fixes aspect",
         "square-o",
         "zoom"
        ],
        [
         "Download",
         "Download plot",
         "floppy-o",
         "save_figure"
        ]
       ]
      }
     },
     "5027d5ebe14b4fcaab20055907cbb15b": {
      "model_module": "@jupyter-widgets/base",
      "model_module_version": "1.2.0",
      "model_name": "LayoutModel",
      "state": {}
     },
     "6ef97d9caefc48beba8fbdb9ba96efbb": {
      "model_module": "@jupyter-widgets/base",
      "model_module_version": "1.2.0",
      "model_name": "LayoutModel",
      "state": {}
     },
     "89259263975b44e2833e0ab22d55028d": {
      "model_module": "jupyter-matplotlib",
      "model_module_version": "^0.9.0",
      "model_name": "MPLCanvasModel",
      "state": {
       "_cursor": "default",
       "_figure_label": "Figure 4",
       "_height": 900,
       "_width": 1200,
       "layout": "IPY_MODEL_5027d5ebe14b4fcaab20055907cbb15b",
       "toolbar": "IPY_MODEL_bf5d09f9eecf4ab9a3f06f6c5a842510",
       "toolbar_position": "left"
      }
     },
     "92804cfe7b964310beda672b378747b5": {
      "model_module": "@jupyter-widgets/base",
      "model_module_version": "1.2.0",
      "model_name": "LayoutModel",
      "state": {}
     },
     "964ebc102745424d9258e1eaf8be84d3": {
      "model_module": "jupyter-matplotlib",
      "model_module_version": "^0.9.0",
      "model_name": "ToolbarModel",
      "state": {
       "layout": "IPY_MODEL_baa04c4a915546fb90a6d64d9d498528",
       "toolitems": [
        [
         "Home",
         "Reset original view",
         "home",
         "home"
        ],
        [
         "Back",
         "Back to previous view",
         "arrow-left",
         "back"
        ],
        [
         "Forward",
         "Forward to next view",
         "arrow-right",
         "forward"
        ],
        [
         "Pan",
         "Left button pans, Right button zooms\nx/y fixes axis, CTRL fixes aspect",
         "arrows",
         "pan"
        ],
        [
         "Zoom",
         "Zoom to rectangle\nx/y fixes axis, CTRL fixes aspect",
         "square-o",
         "zoom"
        ],
        [
         "Download",
         "Download plot",
         "floppy-o",
         "save_figure"
        ]
       ]
      }
     },
     "b3ea98d6d9e84f879f67b3082a4864d7": {
      "model_module": "@jupyter-widgets/base",
      "model_module_version": "1.2.0",
      "model_name": "LayoutModel",
      "state": {}
     },
     "baa04c4a915546fb90a6d64d9d498528": {
      "model_module": "@jupyter-widgets/base",
      "model_module_version": "1.2.0",
      "model_name": "LayoutModel",
      "state": {}
     },
     "bf5d09f9eecf4ab9a3f06f6c5a842510": {
      "model_module": "jupyter-matplotlib",
      "model_module_version": "^0.9.0",
      "model_name": "ToolbarModel",
      "state": {
       "layout": "IPY_MODEL_07e398fcb11c4230986d2abee276de15",
       "toolitems": [
        [
         "Home",
         "Reset original view",
         "home",
         "home"
        ],
        [
         "Back",
         "Back to previous view",
         "arrow-left",
         "back"
        ],
        [
         "Forward",
         "Forward to next view",
         "arrow-right",
         "forward"
        ],
        [
         "Pan",
         "Left button pans, Right button zooms\nx/y fixes axis, CTRL fixes aspect",
         "arrows",
         "pan"
        ],
        [
         "Zoom",
         "Zoom to rectangle\nx/y fixes axis, CTRL fixes aspect",
         "square-o",
         "zoom"
        ],
        [
         "Download",
         "Download plot",
         "floppy-o",
         "save_figure"
        ]
       ]
      }
     },
     "c62f5cff4b784f0090ea59f9728ed7b2": {
      "model_module": "jupyter-matplotlib",
      "model_module_version": "^0.9.0",
      "model_name": "ToolbarModel",
      "state": {
       "layout": "IPY_MODEL_b3ea98d6d9e84f879f67b3082a4864d7",
       "toolitems": [
        [
         "Home",
         "Reset original view",
         "home",
         "home"
        ],
        [
         "Back",
         "Back to previous view",
         "arrow-left",
         "back"
        ],
        [
         "Forward",
         "Forward to next view",
         "arrow-right",
         "forward"
        ],
        [
         "Pan",
         "Left button pans, Right button zooms\nx/y fixes axis, CTRL fixes aspect",
         "arrows",
         "pan"
        ],
        [
         "Zoom",
         "Zoom to rectangle\nx/y fixes axis, CTRL fixes aspect",
         "square-o",
         "zoom"
        ],
        [
         "Download",
         "Download plot",
         "floppy-o",
         "save_figure"
        ]
       ]
      }
     },
     "dd43adf056444e0cbeeb23b8ee11d68a": {
      "model_module": "@jupyter-widgets/base",
      "model_module_version": "1.2.0",
      "model_name": "LayoutModel",
      "state": {}
     }
    },
    "version_major": 2,
    "version_minor": 0
   }
  }
 },
 "nbformat": 4,
 "nbformat_minor": 5
}
